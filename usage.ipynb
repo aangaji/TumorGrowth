{
 "cells": [
  {
   "attachments": {},
   "cell_type": "markdown",
   "metadata": {},
   "source": [
    "# TumorGrowth - methods"
   ]
  },
  {
   "attachments": {},
   "cell_type": "markdown",
   "metadata": {},
   "source": [
    "> This file demonstrates most functionality of the package.\n",
    "Load Revise if you want to make changes to the source files.\n"
   ]
  },
  {
   "cell_type": "code",
   "execution_count": 2,
   "metadata": {},
   "outputs": [
    {
     "name": "stderr",
     "output_type": "stream",
     "text": [
      "\u001b[32m\u001b[1m  Activating\u001b[22m\u001b[39m environment at `c:\\Users\\ArmanAngaji\\OneDrive - Universität zu Köln\\Dokumente\\Uni-Köln\\Masterarbeit\\Workspace\\Julia_Master\\MasterProject_Julia\\TumorGrowth\\Project.toml`\n"
     ]
    },
    {
     "name": "stdout",
     "output_type": "stream",
     "text": [
      "Loading Packages... "
     ]
    },
    {
     "name": "stdout",
     "output_type": "stream",
     "text": [
      "Done!\n"
     ]
    },
    {
     "name": "stdout",
     "output_type": "stream",
     "text": [
      "213.117634 seconds (30.48 M allocations: 2.007 GiB, 0.50% gc time)\n"
     ]
    }
   ],
   "source": [
    "using Pkg\n",
    "Pkg.activate(pwd())\n",
    "# Pkg.instantiate()\n",
    "using Revise\n",
    "\n",
    "@time using TumorGrowth"
   ]
  },
  {
   "attachments": {},
   "cell_type": "markdown",
   "metadata": {},
   "source": [
    "## Sandbox"
   ]
  },
  {
   "cell_type": "code",
   "execution_count": null,
   "metadata": {},
   "outputs": [],
   "source": []
  },
  {
   "cell_type": "markdown",
   "metadata": {},
   "source": [
    "## Simulation"
   ]
  },
  {
   "cell_type": "code",
   "execution_count": 3,
   "metadata": {},
   "outputs": [
    {
     "name": "stdout",
     "output_type": "stream",
     "text": [
      "  8.164267 seconds (12.49 M allocations: 4.004 GiB, 7.93% gc time, 13.89% compilation time)"
     ]
    },
    {
     "name": "stdout",
     "output_type": "stream",
     "text": [
      "\n"
     ]
    }
   ],
   "source": [
    "@time simoutput = birth_death_pushing(3000; b=1.0, d=0.0, μ=0.1, ρ=Inf, dim=2, seed=1010, showprogress=false)\n",
    "tumor = simoutput[:tumor]\n",
    "mutations = simoutput[:mutations]\n",
    "\n",
    "tumordf = tumor |> DataFrame\n",
    "mutationsdf = mutations |> DataFrame\n",
    ";"
   ]
  },
  {
   "cell_type": "code",
   "execution_count": 6,
   "metadata": {},
   "outputs": [
    {
     "name": "stderr",
     "output_type": "stream",
     "text": [
      "\r\u001b[32mProgress: Tumor size  192309 \t Time: 0:00:00\u001b[39m\u001b[K"
     ]
    },
    {
     "name": "stderr",
     "output_type": "stream",
     "text": [
      "\r\u001b[32mProgress: Tumor size  330660 \t Time: 0:00:00\u001b[39m\u001b[K"
     ]
    },
    {
     "name": "stderr",
     "output_type": "stream",
     "text": [
      "\r\u001b[32mProgress: Tumor size  454188 \t Time: 0:00:00\u001b[39m\u001b[K"
     ]
    },
    {
     "name": "stderr",
     "output_type": "stream",
     "text": [
      "\r\u001b[32mProgress: Tumor size  589468 \t Time: 0:00:00\u001b[39m\u001b[K"
     ]
    },
    {
     "name": "stderr",
     "output_type": "stream",
     "text": [
      "\r\u001b[32mProgress: Tumor size  726396 \t Time: 0:00:00\u001b[39m\u001b[K"
     ]
    },
    {
     "name": "stderr",
     "output_type": "stream",
     "text": [
      "\r\u001b[32mProgress: Tumor size  861232 \t Time: 0:00:00\u001b[39m\u001b[K"
     ]
    },
    {
     "name": "stderr",
     "output_type": "stream",
     "text": [
      "\r\u001b[32mProgress: Tumor size  980556 \t Time: 0:00:00\u001b[39m\u001b[K"
     ]
    },
    {
     "name": "stdout",
     "output_type": "stream",
     "text": [
      "  0.949688 seconds (4.25 M allocations: 381.893 MiB, 17.85% gc time)\n"
     ]
    },
    {
     "data": {
      "text/plain": [
       "Dict{Symbol, Any} with 5 entries:\n",
       "  :index     => 1000000\n",
       "  :mutations => TumorGrowth.Mutation[Mutation(2, 0, 0.401391, 2, Float64[]), Mu…\n",
       "  :mutation  => 299940\n",
       "  :tumor     => TumorGrowth.Cell[Cell(1, Float64[], [10724], 0, 1.0, 0.0, Float…\n",
       "  :time      => 14.2413"
      ]
     },
     "metadata": {},
     "output_type": "display_data"
    }
   ],
   "source": [
    "@time simoutput = nonspatial(1000000; b=1., d=0.0, μ=0.3, showprogress=true)"
   ]
  },
  {
   "cell_type": "code",
   "execution_count": 8,
   "metadata": {},
   "outputs": [
    {
     "data": {
      "text/plain": [
       "Dict{Symbol, Any} with 3 entries:\n",
       "  :index    => 1000001\n",
       "  :mutation => 299940\n",
       "  :time     => 14.2414"
      ]
     },
     "metadata": {},
     "output_type": "display_data"
    }
   ],
   "source": [
    "bumor = deepcopy(tumor)\n",
    "butations = deepcopy(mutations)\n",
    "birth_death_pushing!(bumor, butations, length(tumor)+1; \n",
    "    b=0.69, d=0.0, μ=0.3, dim=2,\n",
    "    t=simoutput[:time], cur_id=simoutput[:index], cur_mutation=simoutput[:mutation])"
   ]
  },
  {
   "cell_type": "markdown",
   "metadata": {},
   "source": [
    "## Tumor saving"
   ]
  },
  {
   "cell_type": "code",
   "execution_count": 10,
   "metadata": {},
   "outputs": [],
   "source": [
    "import CSV"
   ]
  },
  {
   "cell_type": "code",
   "execution_count": 11,
   "metadata": {},
   "outputs": [
    {
     "name": "stderr",
     "output_type": "stream",
     "text": [
      "\r\u001b[32mProgress: Tumor size  879 \t Time: 0:00:00\u001b[39m\u001b[K"
     ]
    },
    {
     "name": "stderr",
     "output_type": "stream",
     "text": [
      "\r\u001b[32mProgress: Tumor size  1265 \t Time: 0:00:00\u001b[39m\u001b[K"
     ]
    },
    {
     "name": "stderr",
     "output_type": "stream",
     "text": [
      "\r\u001b[32mProgress: Tumor size  1402 \t Time: 0:00:00\u001b[39m\u001b[K"
     ]
    },
    {
     "name": "stderr",
     "output_type": "stream",
     "text": [
      "\r\u001b[32mProgress: Tumor size  1700 \t Time: 0:00:00\u001b[39m\u001b[K"
     ]
    },
    {
     "name": "stderr",
     "output_type": "stream",
     "text": [
      "\r\u001b[32mProgress: Tumor size  1983 \t Time: 0:00:00\u001b[39m\u001b[K"
     ]
    },
    {
     "name": "stderr",
     "output_type": "stream",
     "text": [
      "\r\u001b[32mProgress: Tumor size  2234 \t Time: 0:00:00\u001b[39m\u001b[K"
     ]
    },
    {
     "name": "stderr",
     "output_type": "stream",
     "text": [
      "\r\u001b[32mProgress: Tumor size  2401 \t Time: 0:00:00\u001b[39m\u001b[K"
     ]
    },
    {
     "name": "stderr",
     "output_type": "stream",
     "text": [
      "\r\u001b[32mProgress: Tumor size  2639 \t Time: 0:00:00\u001b[39m\u001b[K"
     ]
    },
    {
     "name": "stderr",
     "output_type": "stream",
     "text": [
      "\r\u001b[32mProgress: Tumor size  2863 \t Time: 0:00:00\u001b[39m\u001b[K"
     ]
    },
    {
     "name": "stderr",
     "output_type": "stream",
     "text": [
      "\r\u001b[32mProgress: Tumor size  3065 \t Time: 0:00:01\u001b[39m\u001b[K"
     ]
    },
    {
     "name": "stderr",
     "output_type": "stream",
     "text": [
      "\r\u001b[32mProgress: Tumor size  3225 \t Time: 0:00:01\u001b[39m\u001b[K"
     ]
    },
    {
     "name": "stderr",
     "output_type": "stream",
     "text": [
      "\r\u001b[32mProgress: Tumor size  3339 \t Time: 0:00:01\u001b[39m\u001b[K"
     ]
    },
    {
     "name": "stderr",
     "output_type": "stream",
     "text": [
      "\r\u001b[32mProgress: Tumor size  3507 \t Time: 0:00:01\u001b[39m\u001b[K"
     ]
    },
    {
     "name": "stderr",
     "output_type": "stream",
     "text": [
      "\r\u001b[32mProgress: Tumor size  3683 \t Time: 0:00:01\u001b[39m\u001b[K"
     ]
    },
    {
     "name": "stderr",
     "output_type": "stream",
     "text": [
      "\r\u001b[32mProgress: Tumor size  3853 \t Time: 0:00:01\u001b[39m\u001b[K"
     ]
    },
    {
     "name": "stderr",
     "output_type": "stream",
     "text": [
      "\r\u001b[32mProgress: Tumor size  3992 \t Time: 0:00:01\u001b[39m\u001b[K"
     ]
    },
    {
     "name": "stderr",
     "output_type": "stream",
     "text": [
      "\r\u001b[32mProgress: Tumor size  4119 \t Time: 0:00:01\u001b[39m\u001b[K"
     ]
    },
    {
     "name": "stderr",
     "output_type": "stream",
     "text": [
      "\r\u001b[32mProgress: Tumor size  4197 \t Time: 0:00:01\u001b[39m\u001b[K"
     ]
    },
    {
     "name": "stderr",
     "output_type": "stream",
     "text": [
      "\r\u001b[32mProgress: Tumor size  4325 \t Time: 0:00:01\u001b[39m\u001b[K"
     ]
    },
    {
     "name": "stderr",
     "output_type": "stream",
     "text": [
      "\r\u001b[32mProgress: Tumor size  4455 \t Time: 0:00:02\u001b[39m\u001b[K"
     ]
    },
    {
     "name": "stderr",
     "output_type": "stream",
     "text": [
      "\r\u001b[32mProgress: Tumor size  4567 \t Time: 0:00:02\u001b[39m\u001b[K"
     ]
    },
    {
     "name": "stderr",
     "output_type": "stream",
     "text": [
      "\r\u001b[32mProgress: Tumor size  4719 \t Time: 0:00:02\u001b[39m\u001b[K"
     ]
    },
    {
     "name": "stderr",
     "output_type": "stream",
     "text": [
      "\r\u001b[32mProgress: Tumor size  4833 \t Time: 0:00:02\u001b[39m\u001b[K"
     ]
    },
    {
     "name": "stderr",
     "output_type": "stream",
     "text": [
      "\r\u001b[32mProgress: Tumor size  4933 \t Time: 0:00:02\u001b[39m\u001b[K"
     ]
    },
    {
     "data": {
      "text/html": [
       "<table class=\"data-frame\"><thead><tr><th></th><th>index</th><th>position</th><th>mutations</th><th>parent</th><th>b</th><th>t_birth</th><th>p_birth</th></tr><tr><th></th><th>Int64</th><th>Array…</th><th>Array…</th><th>Int64</th><th>Float64</th><th>Float64</th><th>Array…</th></tr></thead><tbody><p>5,000 rows × 7 columns</p><tr><th>1</th><td>1</td><td>[-0.582393, 2.49669, 8.72689]</td><td>[13]</td><td>0</td><td>0.0</td><td>0.0</td><td>[0.0, 0.0, 0.0]</td></tr><tr><th>2</th><td>2</td><td>[0.520122, 2.21109, -1.56466]</td><td>[1]</td><td>1</td><td>0.0</td><td>0.690861</td><td>[2.0754, -0.0430698, -0.317616]</td></tr><tr><th>3</th><td>3</td><td>[5.06704, 1.39896, 3.26483]</td><td>[12]</td><td>2</td><td>0.0</td><td>1.38097</td><td>[3.76022, 0.648446, 0.727929]</td></tr><tr><th>4</th><td>4</td><td>[2.52166, -7.11819, -3.39967]</td><td>[2, 83]</td><td>2</td><td>0.0</td><td>2.17964</td><td>[0.884112, -1.44716, -1.32726]</td></tr><tr><th>5</th><td>5</td><td>[-3.9795, 0.889242, 3.50575]</td><td>[9]</td><td>1</td><td>0.0</td><td>2.46947</td><td>[-1.72863, 0.776218, 0.905174]</td></tr><tr><th>6</th><td>6</td><td>[4.07433, -1.14983, -5.57087]</td><td>[]</td><td>3</td><td>0.0</td><td>2.93689</td><td>[3.42061, 0.788683, -1.33968]</td></tr><tr><th>7</th><td>7</td><td>[1.59582, 3.4675, -4.50046]</td><td>[]</td><td>6</td><td>0.0</td><td>3.47949</td><td>[3.56256, 0.508106, -3.416]</td></tr><tr><th>8</th><td>8</td><td>[3.01806, 1.36804, 2.76495]</td><td>[1, 5, 19]</td><td>2</td><td>0.0</td><td>3.50446</td><td>[2.49302, 0.564891, 1.70799]</td></tr><tr><th>9</th><td>9</td><td>[8.35515, -5.52964, -3.21055]</td><td>[17]</td><td>6</td><td>0.0</td><td>3.80476</td><td>[4.4815, -0.309531, -2.93806]</td></tr><tr><th>10</th><td>10</td><td>[-3.64937, -5.15885, -6.31738]</td><td>[2]</td><td>4</td><td>0.0</td><td>3.85472</td><td>[-0.618966, -0.627926, -2.69884]</td></tr><tr><th>11</th><td>11</td><td>[2.47384, 2.51448, -2.28514]</td><td>[1]</td><td>2</td><td>0.0</td><td>3.95783</td><td>[3.24921, 1.13591, -0.988089]</td></tr><tr><th>12</th><td>12</td><td>[4.40729, 5.89745, -6.62855]</td><td>[]</td><td>7</td><td>0.0</td><td>4.2598</td><td>[2.83274, 2.95803, -3.66166]</td></tr><tr><th>13</th><td>13</td><td>[2.00973, 4.61669, -7.38048]</td><td>[2, 3]</td><td>10</td><td>0.0</td><td>4.31398</td><td>[1.13021, 0.406902, -3.22753]</td></tr><tr><th>14</th><td>14</td><td>[-1.19027, 3.08873, 0.0403634]</td><td>[2]</td><td>4</td><td>0.0</td><td>4.35457</td><td>[-0.274557, -0.112197, -0.39531]</td></tr><tr><th>15</th><td>15</td><td>[0.643248, 6.35846, -0.19631]</td><td>[1, 32]</td><td>11</td><td>0.0</td><td>4.35534</td><td>[2.15137, 2.80254, -1.6416]</td></tr><tr><th>16</th><td>16</td><td>[0.345954, 3.65315, 1.41075]</td><td>[2]</td><td>14</td><td>0.0</td><td>4.37378</td><td>[1.01526, 0.904577, 0.913336]</td></tr><tr><th>17</th><td>17</td><td>[1.4449, 0.0465489, 2.0862]</td><td>[2]</td><td>10</td><td>0.0</td><td>4.41993</td><td>[-0.227985, -0.54644, -0.637171]</td></tr><tr><th>18</th><td>18</td><td>[2.48274, 3.18717, 1.64951]</td><td>[]</td><td>3</td><td>0.0</td><td>4.60375</td><td>[2.79181, -0.0349172, 1.34417]</td></tr><tr><th>19</th><td>19</td><td>[0.548461, -0.722606, 3.77923]</td><td>[]</td><td>1</td><td>0.0</td><td>4.76641</td><td>[-0.419322, -0.96513, 3.78254]</td></tr><tr><th>20</th><td>20</td><td>[2.95954, 5.13944, -0.81396]</td><td>[1]</td><td>11</td><td>0.0</td><td>4.79542</td><td>[3.42665, 3.13277, -1.61345]</td></tr><tr><th>21</th><td>21</td><td>[3.6608, 4.13452, -5.8566]</td><td>[]</td><td>7</td><td>0.0</td><td>4.87826</td><td>[4.70177, 2.31515, -4.17111]</td></tr><tr><th>22</th><td>22</td><td>[-9.31818, 2.74852, 2.55533]</td><td>[]</td><td>1</td><td>0.0</td><td>4.91461</td><td>[-2.64045, 0.752879, 3.56457]</td></tr><tr><th>23</th><td>23</td><td>[4.25869, 0.768707, -4.33196]</td><td>[]</td><td>6</td><td>0.0</td><td>4.96849</td><td>[4.0677, 1.98941, -3.58793]</td></tr><tr><th>24</th><td>24</td><td>[3.77797, 2.30994, 4.6772]</td><td>[1]</td><td>8</td><td>0.0</td><td>4.99898</td><td>[2.97161, 1.65853, 4.64959]</td></tr><tr><th>&vellip;</th><td>&vellip;</td><td>&vellip;</td><td>&vellip;</td><td>&vellip;</td><td>&vellip;</td><td>&vellip;</td><td>&vellip;</td></tr></tbody></table>"
      ],
      "text/latex": [
       "\\begin{tabular}{r|ccccccc}\n",
       "\t& index & position & mutations & parent & b & t\\_birth & p\\_birth\\\\\n",
       "\t\\hline\n",
       "\t& Int64 & Array… & Array… & Int64 & Float64 & Float64 & Array…\\\\\n",
       "\t\\hline\n",
       "\t1 & 1 & [-0.582393, 2.49669, 8.72689] & [13] & 0 & 0.0 & 0.0 & [0.0, 0.0, 0.0] \\\\\n",
       "\t2 & 2 & [0.520122, 2.21109, -1.56466] & [1] & 1 & 0.0 & 0.690861 & [2.0754, -0.0430698, -0.317616] \\\\\n",
       "\t3 & 3 & [5.06704, 1.39896, 3.26483] & [12] & 2 & 0.0 & 1.38097 & [3.76022, 0.648446, 0.727929] \\\\\n",
       "\t4 & 4 & [2.52166, -7.11819, -3.39967] & [2, 83] & 2 & 0.0 & 2.17964 & [0.884112, -1.44716, -1.32726] \\\\\n",
       "\t5 & 5 & [-3.9795, 0.889242, 3.50575] & [9] & 1 & 0.0 & 2.46947 & [-1.72863, 0.776218, 0.905174] \\\\\n",
       "\t6 & 6 & [4.07433, -1.14983, -5.57087] & [] & 3 & 0.0 & 2.93689 & [3.42061, 0.788683, -1.33968] \\\\\n",
       "\t7 & 7 & [1.59582, 3.4675, -4.50046] & [] & 6 & 0.0 & 3.47949 & [3.56256, 0.508106, -3.416] \\\\\n",
       "\t8 & 8 & [3.01806, 1.36804, 2.76495] & [1, 5, 19] & 2 & 0.0 & 3.50446 & [2.49302, 0.564891, 1.70799] \\\\\n",
       "\t9 & 9 & [8.35515, -5.52964, -3.21055] & [17] & 6 & 0.0 & 3.80476 & [4.4815, -0.309531, -2.93806] \\\\\n",
       "\t10 & 10 & [-3.64937, -5.15885, -6.31738] & [2] & 4 & 0.0 & 3.85472 & [-0.618966, -0.627926, -2.69884] \\\\\n",
       "\t11 & 11 & [2.47384, 2.51448, -2.28514] & [1] & 2 & 0.0 & 3.95783 & [3.24921, 1.13591, -0.988089] \\\\\n",
       "\t12 & 12 & [4.40729, 5.89745, -6.62855] & [] & 7 & 0.0 & 4.2598 & [2.83274, 2.95803, -3.66166] \\\\\n",
       "\t13 & 13 & [2.00973, 4.61669, -7.38048] & [2, 3] & 10 & 0.0 & 4.31398 & [1.13021, 0.406902, -3.22753] \\\\\n",
       "\t14 & 14 & [-1.19027, 3.08873, 0.0403634] & [2] & 4 & 0.0 & 4.35457 & [-0.274557, -0.112197, -0.39531] \\\\\n",
       "\t15 & 15 & [0.643248, 6.35846, -0.19631] & [1, 32] & 11 & 0.0 & 4.35534 & [2.15137, 2.80254, -1.6416] \\\\\n",
       "\t16 & 16 & [0.345954, 3.65315, 1.41075] & [2] & 14 & 0.0 & 4.37378 & [1.01526, 0.904577, 0.913336] \\\\\n",
       "\t17 & 17 & [1.4449, 0.0465489, 2.0862] & [2] & 10 & 0.0 & 4.41993 & [-0.227985, -0.54644, -0.637171] \\\\\n",
       "\t18 & 18 & [2.48274, 3.18717, 1.64951] & [] & 3 & 0.0 & 4.60375 & [2.79181, -0.0349172, 1.34417] \\\\\n",
       "\t19 & 19 & [0.548461, -0.722606, 3.77923] & [] & 1 & 0.0 & 4.76641 & [-0.419322, -0.96513, 3.78254] \\\\\n",
       "\t20 & 20 & [2.95954, 5.13944, -0.81396] & [1] & 11 & 0.0 & 4.79542 & [3.42665, 3.13277, -1.61345] \\\\\n",
       "\t21 & 21 & [3.6608, 4.13452, -5.8566] & [] & 7 & 0.0 & 4.87826 & [4.70177, 2.31515, -4.17111] \\\\\n",
       "\t22 & 22 & [-9.31818, 2.74852, 2.55533] & [] & 1 & 0.0 & 4.91461 & [-2.64045, 0.752879, 3.56457] \\\\\n",
       "\t23 & 23 & [4.25869, 0.768707, -4.33196] & [] & 6 & 0.0 & 4.96849 & [4.0677, 1.98941, -3.58793] \\\\\n",
       "\t24 & 24 & [3.77797, 2.30994, 4.6772] & [1] & 8 & 0.0 & 4.99898 & [2.97161, 1.65853, 4.64959] \\\\\n",
       "\t$\\dots$ & $\\dots$ & $\\dots$ & $\\dots$ & $\\dots$ & $\\dots$ & $\\dots$ & $\\dots$ \\\\\n",
       "\\end{tabular}\n"
      ],
      "text/plain": [
       "\u001b[1m5000×7 DataFrame\u001b[0m\n",
       "\u001b[1m  Row \u001b[0m│\u001b[1m index \u001b[0m\u001b[1m position                        \u001b[0m\u001b[1m mutations                     \u001b[0m ⋯\n",
       "\u001b[1m      \u001b[0m│\u001b[90m Int64 \u001b[0m\u001b[90m Array…                          \u001b[0m\u001b[90m Array…                        \u001b[0m ⋯\n",
       "──────┼─────────────────────────────────────────────────────────────────────────\n",
       "    1 │     1  [-0.582393, 2.49669, 8.72689]    [13]                           ⋯\n",
       "    2 │     2  [0.520122, 2.21109, -1.56466]    [1]\n",
       "    3 │     3  [5.06704, 1.39896, 3.26483]      [12]\n",
       "    4 │     4  [2.52166, -7.11819, -3.39967]    [2, 83]\n",
       "    5 │     5  [-3.9795, 0.889242, 3.50575]     [9]                            ⋯\n",
       "    6 │     6  [4.07433, -1.14983, -5.57087]    Int64[]\n",
       "    7 │     7  [1.59582, 3.4675, -4.50046]      Int64[]\n",
       "    8 │     8  [3.01806, 1.36804, 2.76495]      [1, 5, 19]\n",
       "  ⋮   │   ⋮                   ⋮                                 ⋮              ⋱\n",
       " 4994 │  4994  [2.30618, 25.7914, -9.48318]     [1, 11, 43, 167, 1265, 1365]   ⋯\n",
       " 4995 │  4995  [21.7473, 0.745319, -10.229]     [1, 37]\n",
       " 4996 │  4996  [-8.54967, 17.0776, 10.0043]     [312, 673]\n",
       " 4997 │  4997  [-14.7613, -1.73332, -19.2075]   [224, 604, 806, 1493]\n",
       " 4998 │  4998  [-28.6889, 8.59285, 9.83896]     [636, 1373, 1495]              ⋯\n",
       " 4999 │  4999  [3.37924, 15.125, 14.7327]       [1, 18, 20, 21, 69, 125, 341,\n",
       " 5000 │  5000  [-7.31775, -3.80547, 24.3849]    [305]\n",
       "\u001b[36m                                                 5 columns and 4985 rows omitted\u001b[0m"
      ]
     },
     "metadata": {},
     "output_type": "display_data"
    }
   ],
   "source": [
    "tumor = birth_death_pushing(5000; b=1., d=0.0, μ=0.3, ρ=6., dim=3, seed=1234)[:tumor]\n",
    "CSV.write(\"examples/test_5000_3d.csv\", DataFrame(tumor), delim='\\t')\n",
    "b = data_import(\"examples/test_5000_3d.csv\")"
   ]
  },
  {
   "cell_type": "markdown",
   "metadata": {},
   "source": [
    "## Plotting"
   ]
  },
  {
   "cell_type": "code",
   "execution_count": 12,
   "metadata": {},
   "outputs": [
    {
     "name": "stdout",
     "output_type": "stream",
     "text": [
      "  8.791915 seconds (26.00 M allocations: 1.370 GiB, 4.51% gc time, 98.39% compilation time)\n"
     ]
    }
   ],
   "source": [
    "using Plots: palette\n",
    "\n",
    "b = data_import(\"examples/test_2000_2d.csv\")\n",
    "@time plotting(b)"
   ]
  },
  {
   "cell_type": "code",
   "execution_count": 13,
   "metadata": {},
   "outputs": [
    {
     "name": "stdout",
     "output_type": "stream",
     "text": [
      "  2.898281 seconds (8.88 M allocations: 560.543 MiB, 2.77% gc time, 95.80% compilation time)\n"
     ]
    },
    {
     "name": "stderr",
     "output_type": "stream",
     "text": [
      "┌ Warning: This method assumes mutations to be ordered by occurence!\n",
      "└ @ TumorGrowth c:\\Users\\ArmanAngaji\\OneDrive - Universität zu Köln\\Dokumente\\Uni-Köln\\Masterarbeit\\Workspace\\Julia_Master\\MasterProject_Julia\\TumorGrowth\\src\\analysis.jl:115\n"
     ]
    }
   ],
   "source": [
    "@time plotting_colored_mutations(b, colorpalette = palette(:tab20), shading=false, inline=false, show_warning = true, path=\"examples/test_2000_2d.png\")"
   ]
  },
  {
   "cell_type": "code",
   "execution_count": 14,
   "metadata": {},
   "outputs": [
    {
     "name": "stdout",
     "output_type": "stream",
     "text": [
      "  1.409850 seconds (8.83 M allocations: 275.927 MiB, 90.93% compilation time)\n"
     ]
    }
   ],
   "source": [
    "b = data_import(\"examples/test_5000_3d.csv\")\n",
    "@time plotting(b)"
   ]
  },
  {
   "cell_type": "code",
   "execution_count": 15,
   "metadata": {},
   "outputs": [
    {
     "name": "stdout",
     "output_type": "stream",
     "text": [
      "  0.354947 seconds (3.29 M allocations: 73.284 MiB, 24.45% compilation time)\n"
     ]
    },
    {
     "name": "stderr",
     "output_type": "stream",
     "text": [
      "┌ Warning: This method assumes mutations to be ordered by occurence!\n",
      "└ @ TumorGrowth c:\\Users\\ArmanAngaji\\OneDrive - Universität zu Köln\\Dokumente\\Uni-Köln\\Masterarbeit\\Workspace\\Julia_Master\\MasterProject_Julia\\TumorGrowth\\src\\analysis.jl:115\n"
     ]
    }
   ],
   "source": [
    "@time plotting_colored_mutations(b, shading=true, path=\"examples/test_5000_3d.png\", size=(500,500))"
   ]
  },
  {
   "attachments": {},
   "cell_type": "markdown",
   "metadata": {},
   "source": [
    "### *translating and layouts*"
   ]
  },
  {
   "cell_type": "code",
   "execution_count": 16,
   "metadata": {},
   "outputs": [],
   "source": [
    "using GLMakie"
   ]
  },
  {
   "cell_type": "code",
   "execution_count": 17,
   "metadata": {},
   "outputs": [
    {
     "name": "stderr",
     "output_type": "stream",
     "text": [
      "\r\u001b[32mProgress: Tumor size  557 \t Time: 0:00:00\u001b[39m\u001b[K"
     ]
    },
    {
     "name": "stderr",
     "output_type": "stream",
     "text": [
      "\r\u001b[32mProgress: Tumor size  1061 \t Time: 0:00:00\u001b[39m\u001b[K"
     ]
    },
    {
     "name": "stderr",
     "output_type": "stream",
     "text": [
      "\r\u001b[32mProgress: Tumor size  1366 \t Time: 0:00:00\u001b[39m\u001b[K"
     ]
    },
    {
     "name": "stderr",
     "output_type": "stream",
     "text": [
      "\r\u001b[32mProgress: Tumor size  1618 \t Time: 0:00:00\u001b[39m\u001b[K"
     ]
    },
    {
     "name": "stderr",
     "output_type": "stream",
     "text": [
      "\r\u001b[32mProgress: Tumor size  1790 \t Time: 0:00:00\u001b[39m\u001b[K"
     ]
    },
    {
     "name": "stderr",
     "output_type": "stream",
     "text": [
      "\r\u001b[32mProgress: Tumor size  1918 \t Time: 0:00:00\u001b[39m\u001b[K"
     ]
    },
    {
     "name": "stderr",
     "output_type": "stream",
     "text": [
      "\r\u001b[32mProgress: Tumor size  2159 \t Time: 0:00:00\u001b[39m\u001b[K"
     ]
    },
    {
     "name": "stderr",
     "output_type": "stream",
     "text": [
      "\r\u001b[32mProgress: Tumor size  2343 \t Time: 0:00:01\u001b[39m\u001b[K"
     ]
    },
    {
     "name": "stderr",
     "output_type": "stream",
     "text": [
      "\r\u001b[32mProgress: Tumor size  2518 \t Time: 0:00:01\u001b[39m\u001b[K"
     ]
    },
    {
     "name": "stderr",
     "output_type": "stream",
     "text": [
      "\r\u001b[32mProgress: Tumor size  2627 \t Time: 0:00:01\u001b[39m\u001b[K"
     ]
    },
    {
     "name": "stderr",
     "output_type": "stream",
     "text": [
      "\r\u001b[32mProgress: Tumor size  2754 \t Time: 0:00:01\u001b[39m\u001b[K"
     ]
    },
    {
     "name": "stderr",
     "output_type": "stream",
     "text": [
      "\r\u001b[32mProgress: Tumor size  2875 \t Time: 0:00:01\u001b[39m\u001b[K"
     ]
    },
    {
     "name": "stderr",
     "output_type": "stream",
     "text": [
      "\r\u001b[32mProgress: Tumor size  2965 \t Time: 0:00:01\u001b[39m\u001b[K"
     ]
    },
    {
     "name": "stderr",
     "output_type": "stream",
     "text": [
      "\r\u001b[32mProgress: Tumor size  3112 \t Time: 0:00:01\u001b[39m\u001b[K"
     ]
    },
    {
     "name": "stderr",
     "output_type": "stream",
     "text": [
      "\r\u001b[32mProgress: Tumor size  3268 \t Time: 0:00:01\u001b[39m\u001b[K"
     ]
    },
    {
     "name": "stderr",
     "output_type": "stream",
     "text": [
      "\r\u001b[32mProgress: Tumor size  3392 \t Time: 0:00:01\u001b[39m\u001b[K"
     ]
    },
    {
     "name": "stderr",
     "output_type": "stream",
     "text": [
      "\r\u001b[32mProgress: Tumor size  3523 \t Time: 0:00:01\u001b[39m\u001b[K"
     ]
    },
    {
     "name": "stderr",
     "output_type": "stream",
     "text": [
      "\r\u001b[32mProgress: Tumor size  3641 \t Time: 0:00:02\u001b[39m\u001b[K"
     ]
    },
    {
     "name": "stderr",
     "output_type": "stream",
     "text": [
      "\r\u001b[32mProgress: Tumor size  3755 \t Time: 0:00:02\u001b[39m\u001b[K"
     ]
    },
    {
     "name": "stderr",
     "output_type": "stream",
     "text": [
      "\r\u001b[32mProgress: Tumor size  3846 \t Time: 0:00:02\u001b[39m\u001b[K"
     ]
    },
    {
     "name": "stderr",
     "output_type": "stream",
     "text": [
      "\r\u001b[32mProgress: Tumor size  3926 \t Time: 0:00:02\u001b[39m\u001b[K"
     ]
    },
    {
     "name": "stderr",
     "output_type": "stream",
     "text": [
      "\r\u001b[32mProgress: Tumor size  4039 \t Time: 0:00:02\u001b[39m\u001b[K"
     ]
    },
    {
     "name": "stderr",
     "output_type": "stream",
     "text": [
      "\r\u001b[32mProgress: Tumor size  4144 \t Time: 0:00:02\u001b[39m\u001b[K"
     ]
    },
    {
     "name": "stderr",
     "output_type": "stream",
     "text": [
      "\r\u001b[32mProgress: Tumor size  4237 \t Time: 0:00:02\u001b[39m\u001b[K"
     ]
    },
    {
     "name": "stderr",
     "output_type": "stream",
     "text": [
      "\r\u001b[32mProgress: Tumor size  4348 \t Time: 0:00:02\u001b[39m\u001b[K"
     ]
    },
    {
     "name": "stderr",
     "output_type": "stream",
     "text": [
      "\r\u001b[32mProgress: Tumor size  4443 \t Time: 0:00:02\u001b[39m\u001b[K"
     ]
    },
    {
     "name": "stderr",
     "output_type": "stream",
     "text": [
      "\r\u001b[32mProgress: Tumor size  4531 \t Time: 0:00:03\u001b[39m\u001b[K"
     ]
    },
    {
     "name": "stderr",
     "output_type": "stream",
     "text": [
      "\r\u001b[32mProgress: Tumor size  4624 \t Time: 0:00:03\u001b[39m\u001b[K"
     ]
    },
    {
     "name": "stderr",
     "output_type": "stream",
     "text": [
      "\r\u001b[32mProgress: Tumor size  4702 \t Time: 0:00:03\u001b[39m\u001b[K"
     ]
    },
    {
     "name": "stderr",
     "output_type": "stream",
     "text": [
      "\r\u001b[32mProgress: Tumor size  4781 \t Time: 0:00:03\u001b[39m\u001b[K"
     ]
    },
    {
     "name": "stderr",
     "output_type": "stream",
     "text": [
      "\r\u001b[32mProgress: Tumor size  4836 \t Time: 0:00:03\u001b[39m\u001b[K"
     ]
    },
    {
     "name": "stderr",
     "output_type": "stream",
     "text": [
      "\r\u001b[32mProgress: Tumor size  4920 \t Time: 0:00:03\u001b[39m\u001b[K"
     ]
    },
    {
     "name": "stderr",
     "output_type": "stream",
     "text": [
      "\r\u001b[32mProgress: Tumor size  5010 \t Time: 0:00:03\u001b[39m\u001b[K"
     ]
    },
    {
     "name": "stderr",
     "output_type": "stream",
     "text": [
      "\r\u001b[32mProgress: Tumor size  5097 \t Time: 0:00:03\u001b[39m\u001b[K"
     ]
    },
    {
     "name": "stderr",
     "output_type": "stream",
     "text": [
      "\r\u001b[32mProgress: Tumor size  5180 \t Time: 0:00:03\u001b[39m\u001b[K"
     ]
    },
    {
     "name": "stderr",
     "output_type": "stream",
     "text": [
      "\r\u001b[32mProgress: Tumor size  5235 \t Time: 0:00:03\u001b[39m\u001b[K"
     ]
    },
    {
     "name": "stderr",
     "output_type": "stream",
     "text": [
      "\r\u001b[32mProgress: Tumor size  5322 \t Time: 0:00:04\u001b[39m\u001b[K"
     ]
    },
    {
     "name": "stderr",
     "output_type": "stream",
     "text": [
      "\r\u001b[32mProgress: Tumor size  5398 \t Time: 0:00:04\u001b[39m\u001b[K"
     ]
    },
    {
     "name": "stderr",
     "output_type": "stream",
     "text": [
      "\r\u001b[32mProgress: Tumor size  5472 \t Time: 0:00:04\u001b[39m\u001b[K"
     ]
    },
    {
     "name": "stderr",
     "output_type": "stream",
     "text": [
      "\r\u001b[32mProgress: Tumor size  5554 \t Time: 0:00:04\u001b[39m\u001b[K"
     ]
    },
    {
     "name": "stderr",
     "output_type": "stream",
     "text": [
      "\r\u001b[32mProgress: Tumor size  5613 \t Time: 0:00:04\u001b[39m\u001b[K"
     ]
    },
    {
     "name": "stderr",
     "output_type": "stream",
     "text": [
      "\r\u001b[32mProgress: Tumor size  5734 \t Time: 0:00:04\u001b[39m\u001b[K"
     ]
    },
    {
     "name": "stderr",
     "output_type": "stream",
     "text": [
      "\r\u001b[32mProgress: Tumor size  5806 \t Time: 0:00:04\u001b[39m\u001b[K"
     ]
    },
    {
     "name": "stderr",
     "output_type": "stream",
     "text": [
      "\r\u001b[32mProgress: Tumor size  5865 \t Time: 0:00:04\u001b[39m\u001b[K"
     ]
    },
    {
     "name": "stderr",
     "output_type": "stream",
     "text": [
      "\r\u001b[32mProgress: Tumor size  5944 \t Time: 0:00:04\u001b[39m\u001b[K"
     ]
    },
    {
     "name": "stderr",
     "output_type": "stream",
     "text": [
      "\r\u001b[32mProgress: Tumor size  6001 \t Time: 0:00:05\u001b[39m\u001b[K"
     ]
    },
    {
     "name": "stderr",
     "output_type": "stream",
     "text": [
      "\r\u001b[32mProgress: Tumor size  6080 \t Time: 0:00:05\u001b[39m\u001b[K"
     ]
    },
    {
     "name": "stderr",
     "output_type": "stream",
     "text": [
      "\r\u001b[32mProgress: Tumor size  6146 \t Time: 0:00:05\u001b[39m\u001b[K"
     ]
    },
    {
     "name": "stderr",
     "output_type": "stream",
     "text": [
      "\r\u001b[32mProgress: Tumor size  6221 \t Time: 0:00:05\u001b[39m\u001b[K"
     ]
    },
    {
     "name": "stderr",
     "output_type": "stream",
     "text": [
      "\r\u001b[32mProgress: Tumor size  6297 \t Time: 0:00:05\u001b[39m\u001b[K"
     ]
    },
    {
     "name": "stderr",
     "output_type": "stream",
     "text": [
      "\r\u001b[32mProgress: Tumor size  6359 \t Time: 0:00:05\u001b[39m\u001b[K"
     ]
    },
    {
     "name": "stderr",
     "output_type": "stream",
     "text": [
      "\r\u001b[32mProgress: Tumor size  6416 \t Time: 0:00:05\u001b[39m\u001b[K"
     ]
    },
    {
     "name": "stderr",
     "output_type": "stream",
     "text": [
      "\r\u001b[32mProgress: Tumor size  6469 \t Time: 0:00:05\u001b[39m\u001b[K"
     ]
    },
    {
     "name": "stderr",
     "output_type": "stream",
     "text": [
      "\r\u001b[32mProgress: Tumor size  6536 \t Time: 0:00:05\u001b[39m\u001b[K"
     ]
    },
    {
     "name": "stderr",
     "output_type": "stream",
     "text": [
      "\r\u001b[32mProgress: Tumor size  6577 \t Time: 0:00:06\u001b[39m\u001b[K"
     ]
    },
    {
     "name": "stderr",
     "output_type": "stream",
     "text": [
      "\r\u001b[32mProgress: Tumor size  6642 \t Time: 0:00:06\u001b[39m\u001b[K"
     ]
    },
    {
     "name": "stderr",
     "output_type": "stream",
     "text": [
      "\r\u001b[32mProgress: Tumor size  6720 \t Time: 0:00:06\u001b[39m\u001b[K"
     ]
    },
    {
     "name": "stderr",
     "output_type": "stream",
     "text": [
      "\r\u001b[32mProgress: Tumor size  6796 \t Time: 0:00:06\u001b[39m\u001b[K"
     ]
    },
    {
     "name": "stderr",
     "output_type": "stream",
     "text": [
      "\r\u001b[32mProgress: Tumor size  6860 \t Time: 0:00:06\u001b[39m\u001b[K"
     ]
    },
    {
     "name": "stderr",
     "output_type": "stream",
     "text": [
      "\r\u001b[32mProgress: Tumor size  6909 \t Time: 0:00:06\u001b[39m\u001b[K"
     ]
    },
    {
     "name": "stderr",
     "output_type": "stream",
     "text": [
      "\r\u001b[32mProgress: Tumor size  6983 \t Time: 0:00:06\u001b[39m\u001b[K"
     ]
    },
    {
     "name": "stderr",
     "output_type": "stream",
     "text": [
      "\r\u001b[32mProgress: Tumor size  7049 \t Time: 0:00:06\u001b[39m\u001b[K"
     ]
    },
    {
     "name": "stderr",
     "output_type": "stream",
     "text": [
      "\r\u001b[32mProgress: Tumor size  7120 \t Time: 0:00:06\u001b[39m\u001b[K"
     ]
    },
    {
     "name": "stderr",
     "output_type": "stream",
     "text": [
      "\r\u001b[32mProgress: Tumor size  7177 \t Time: 0:00:06\u001b[39m\u001b[K"
     ]
    },
    {
     "name": "stderr",
     "output_type": "stream",
     "text": [
      "\r\u001b[32mProgress: Tumor size  7203 \t Time: 0:00:07\u001b[39m\u001b[K"
     ]
    },
    {
     "name": "stderr",
     "output_type": "stream",
     "text": [
      "\r\u001b[32mProgress: Tumor size  7263 \t Time: 0:00:07\u001b[39m\u001b[K"
     ]
    },
    {
     "name": "stderr",
     "output_type": "stream",
     "text": [
      "\r\u001b[32mProgress: Tumor size  7318 \t Time: 0:00:07\u001b[39m\u001b[K"
     ]
    },
    {
     "name": "stderr",
     "output_type": "stream",
     "text": [
      "\r\u001b[32mProgress: Tumor size  7372 \t Time: 0:00:07\u001b[39m\u001b[K"
     ]
    },
    {
     "name": "stderr",
     "output_type": "stream",
     "text": [
      "\r\u001b[32mProgress: Tumor size  7452 \t Time: 0:00:07\u001b[39m\u001b[K"
     ]
    },
    {
     "name": "stderr",
     "output_type": "stream",
     "text": [
      "\r\u001b[32mProgress: Tumor size  7523 \t Time: 0:00:07\u001b[39m\u001b[K"
     ]
    },
    {
     "name": "stderr",
     "output_type": "stream",
     "text": [
      "\r\u001b[32mProgress: Tumor size  7580 \t Time: 0:00:07\u001b[39m\u001b[K"
     ]
    },
    {
     "name": "stderr",
     "output_type": "stream",
     "text": [
      "\r\u001b[32mProgress: Tumor size  7607 \t Time: 0:00:07\u001b[39m\u001b[K"
     ]
    },
    {
     "name": "stderr",
     "output_type": "stream",
     "text": [
      "\r\u001b[32mProgress: Tumor size  7652 \t Time: 0:00:07\u001b[39m\u001b[K"
     ]
    },
    {
     "name": "stderr",
     "output_type": "stream",
     "text": [
      "\r\u001b[32mProgress: Tumor size  7692 \t Time: 0:00:07\u001b[39m\u001b[K"
     ]
    },
    {
     "name": "stderr",
     "output_type": "stream",
     "text": [
      "\r\u001b[32mProgress: Tumor size  7746 \t Time: 0:00:08\u001b[39m\u001b[K"
     ]
    },
    {
     "name": "stderr",
     "output_type": "stream",
     "text": [
      "\r\u001b[32mProgress: Tumor size  7793 \t Time: 0:00:08\u001b[39m\u001b[K"
     ]
    },
    {
     "name": "stderr",
     "output_type": "stream",
     "text": [
      "\r\u001b[32mProgress: Tumor size  7837 \t Time: 0:00:08\u001b[39m\u001b[K"
     ]
    },
    {
     "name": "stderr",
     "output_type": "stream",
     "text": [
      "\r\u001b[32mProgress: Tumor size  7902 \t Time: 0:00:08\u001b[39m\u001b[K"
     ]
    },
    {
     "name": "stderr",
     "output_type": "stream",
     "text": [
      "\r\u001b[32mProgress: Tumor size  7936 \t Time: 0:00:08\u001b[39m\u001b[K"
     ]
    },
    {
     "name": "stderr",
     "output_type": "stream",
     "text": [
      "\r\u001b[32mProgress: Tumor size  7984 \t Time: 0:00:08\u001b[39m\u001b[K"
     ]
    },
    {
     "name": "stderr",
     "output_type": "stream",
     "text": [
      "\r\u001b[32mProgress: Tumor size  8047 \t Time: 0:00:08\u001b[39m\u001b[K"
     ]
    },
    {
     "name": "stderr",
     "output_type": "stream",
     "text": [
      "\r\u001b[32mProgress: Tumor size  8111 \t Time: 0:00:08\u001b[39m\u001b[K"
     ]
    },
    {
     "name": "stderr",
     "output_type": "stream",
     "text": [
      "\r\u001b[32mProgress: Tumor size  8148 \t Time: 0:00:08\u001b[39m\u001b[K"
     ]
    },
    {
     "name": "stderr",
     "output_type": "stream",
     "text": [
      "\r\u001b[32mProgress: Tumor size  8181 \t Time: 0:00:09\u001b[39m\u001b[K"
     ]
    },
    {
     "name": "stderr",
     "output_type": "stream",
     "text": [
      "\r\u001b[32mProgress: Tumor size  8229 \t Time: 0:00:09\u001b[39m\u001b[K"
     ]
    },
    {
     "name": "stderr",
     "output_type": "stream",
     "text": [
      "\r\u001b[32mProgress: Tumor size  8284 \t Time: 0:00:09\u001b[39m\u001b[K"
     ]
    },
    {
     "name": "stderr",
     "output_type": "stream",
     "text": [
      "\r\u001b[32mProgress: Tumor size  8313 \t Time: 0:00:09\u001b[39m\u001b[K"
     ]
    },
    {
     "name": "stderr",
     "output_type": "stream",
     "text": [
      "\r\u001b[32mProgress: Tumor size  8382 \t Time: 0:00:09\u001b[39m\u001b[K"
     ]
    },
    {
     "name": "stderr",
     "output_type": "stream",
     "text": [
      "\r\u001b[32mProgress: Tumor size  8424 \t Time: 0:00:09\u001b[39m\u001b[K"
     ]
    },
    {
     "name": "stderr",
     "output_type": "stream",
     "text": [
      "\r\u001b[32mProgress: Tumor size  8465 \t Time: 0:00:09\u001b[39m\u001b[K"
     ]
    },
    {
     "name": "stderr",
     "output_type": "stream",
     "text": [
      "\r\u001b[32mProgress: Tumor size  8513 \t Time: 0:00:09\u001b[39m\u001b[K"
     ]
    },
    {
     "name": "stderr",
     "output_type": "stream",
     "text": [
      "\r\u001b[32mProgress: Tumor size  8560 \t Time: 0:00:09\u001b[39m\u001b[K"
     ]
    },
    {
     "name": "stderr",
     "output_type": "stream",
     "text": [
      "\r\u001b[32mProgress: Tumor size  8602 \t Time: 0:00:09\u001b[39m\u001b[K"
     ]
    },
    {
     "name": "stderr",
     "output_type": "stream",
     "text": [
      "\r\u001b[32mProgress: Tumor size  8629 \t Time: 0:00:10\u001b[39m\u001b[K"
     ]
    },
    {
     "name": "stderr",
     "output_type": "stream",
     "text": [
      "\r\u001b[32mProgress: Tumor size  8673 \t Time: 0:00:10\u001b[39m\u001b[K"
     ]
    },
    {
     "name": "stderr",
     "output_type": "stream",
     "text": [
      "\r\u001b[32mProgress: Tumor size  8735 \t Time: 0:00:10\u001b[39m\u001b[K"
     ]
    },
    {
     "name": "stderr",
     "output_type": "stream",
     "text": [
      "\r\u001b[32mProgress: Tumor size  8779 \t Time: 0:00:10\u001b[39m\u001b[K"
     ]
    },
    {
     "name": "stderr",
     "output_type": "stream",
     "text": [
      "\r\u001b[32mProgress: Tumor size  8828 \t Time: 0:00:10\u001b[39m\u001b[K"
     ]
    },
    {
     "name": "stderr",
     "output_type": "stream",
     "text": [
      "\r\u001b[32mProgress: Tumor size  8863 \t Time: 0:00:10\u001b[39m\u001b[K"
     ]
    },
    {
     "name": "stderr",
     "output_type": "stream",
     "text": [
      "\r\u001b[32mProgress: Tumor size  8894 \t Time: 0:00:10\u001b[39m\u001b[K"
     ]
    },
    {
     "name": "stderr",
     "output_type": "stream",
     "text": [
      "\r\u001b[32mProgress: Tumor size  8940 \t Time: 0:00:10\u001b[39m\u001b[K"
     ]
    },
    {
     "name": "stderr",
     "output_type": "stream",
     "text": [
      "\r\u001b[32mProgress: Tumor size  8967 \t Time: 0:00:10\u001b[39m\u001b[K"
     ]
    },
    {
     "name": "stderr",
     "output_type": "stream",
     "text": [
      "\r\u001b[32mProgress: Tumor size  9016 \t Time: 0:00:10\u001b[39m\u001b[K"
     ]
    },
    {
     "name": "stderr",
     "output_type": "stream",
     "text": [
      "\r\u001b[32mProgress: Tumor size  9073 \t Time: 0:00:11\u001b[39m\u001b[K"
     ]
    },
    {
     "name": "stderr",
     "output_type": "stream",
     "text": [
      "\r\u001b[32mProgress: Tumor size  9102 \t Time: 0:00:11\u001b[39m\u001b[K"
     ]
    },
    {
     "name": "stderr",
     "output_type": "stream",
     "text": [
      "\r\u001b[32mProgress: Tumor size  9144 \t Time: 0:00:11\u001b[39m\u001b[K"
     ]
    },
    {
     "name": "stderr",
     "output_type": "stream",
     "text": [
      "\r\u001b[32mProgress: Tumor size  9184 \t Time: 0:00:11\u001b[39m\u001b[K"
     ]
    },
    {
     "name": "stderr",
     "output_type": "stream",
     "text": [
      "\r\u001b[32mProgress: Tumor size  9233 \t Time: 0:00:11\u001b[39m\u001b[K"
     ]
    },
    {
     "name": "stderr",
     "output_type": "stream",
     "text": [
      "\r\u001b[32mProgress: Tumor size  9266 \t Time: 0:00:11\u001b[39m\u001b[K"
     ]
    },
    {
     "name": "stderr",
     "output_type": "stream",
     "text": [
      "\r\u001b[32mProgress: Tumor size  9309 \t Time: 0:00:11\u001b[39m\u001b[K"
     ]
    },
    {
     "name": "stderr",
     "output_type": "stream",
     "text": [
      "\r\u001b[32mProgress: Tumor size  9366 \t Time: 0:00:11\u001b[39m\u001b[K"
     ]
    },
    {
     "name": "stderr",
     "output_type": "stream",
     "text": [
      "\r\u001b[32mProgress: Tumor size  9414 \t Time: 0:00:11\u001b[39m\u001b[K"
     ]
    },
    {
     "name": "stderr",
     "output_type": "stream",
     "text": [
      "\r\u001b[32mProgress: Tumor size  9464 \t Time: 0:00:12\u001b[39m\u001b[K"
     ]
    },
    {
     "name": "stderr",
     "output_type": "stream",
     "text": [
      "\r\u001b[32mProgress: Tumor size  9502 \t Time: 0:00:12\u001b[39m\u001b[K"
     ]
    },
    {
     "name": "stderr",
     "output_type": "stream",
     "text": [
      "\r\u001b[32mProgress: Tumor size  9542 \t Time: 0:00:12\u001b[39m\u001b[K"
     ]
    },
    {
     "name": "stderr",
     "output_type": "stream",
     "text": [
      "\r\u001b[32mProgress: Tumor size  9580 \t Time: 0:00:12\u001b[39m\u001b[K"
     ]
    },
    {
     "name": "stderr",
     "output_type": "stream",
     "text": [
      "\r\u001b[32mProgress: Tumor size  9608 \t Time: 0:00:12\u001b[39m\u001b[K"
     ]
    },
    {
     "name": "stderr",
     "output_type": "stream",
     "text": [
      "\r\u001b[32mProgress: Tumor size  9656 \t Time: 0:00:12\u001b[39m\u001b[K"
     ]
    },
    {
     "name": "stderr",
     "output_type": "stream",
     "text": [
      "\r\u001b[32mProgress: Tumor size  9692 \t Time: 0:00:12\u001b[39m\u001b[K"
     ]
    },
    {
     "name": "stderr",
     "output_type": "stream",
     "text": [
      "\r\u001b[32mProgress: Tumor size  9728 \t Time: 0:00:12\u001b[39m\u001b[K"
     ]
    },
    {
     "name": "stderr",
     "output_type": "stream",
     "text": [
      "\r\u001b[32mProgress: Tumor size  9780 \t Time: 0:00:12\u001b[39m\u001b[K"
     ]
    },
    {
     "name": "stderr",
     "output_type": "stream",
     "text": [
      "\r\u001b[32mProgress: Tumor size  9815 \t Time: 0:00:13\u001b[39m\u001b[K"
     ]
    },
    {
     "name": "stderr",
     "output_type": "stream",
     "text": [
      "\r\u001b[32mProgress: Tumor size  9842 \t Time: 0:00:13\u001b[39m\u001b[K"
     ]
    },
    {
     "name": "stderr",
     "output_type": "stream",
     "text": [
      "\r\u001b[32mProgress: Tumor size  9882 \t Time: 0:00:13\u001b[39m\u001b[K"
     ]
    },
    {
     "name": "stderr",
     "output_type": "stream",
     "text": [
      "\r\u001b[32mProgress: Tumor size  9906 \t Time: 0:00:13\u001b[39m\u001b[K"
     ]
    },
    {
     "name": "stderr",
     "output_type": "stream",
     "text": [
      "\r\u001b[32mProgress: Tumor size  9954 \t Time: 0:00:13\u001b[39m\u001b[K"
     ]
    },
    {
     "name": "stderr",
     "output_type": "stream",
     "text": [
      "\r\u001b[32mProgress: Tumor size  1001 \t Time: 0:00:00\u001b[39m\u001b[K"
     ]
    },
    {
     "name": "stderr",
     "output_type": "stream",
     "text": [
      "\r\u001b[32mProgress: Tumor size  1726 \t Time: 0:00:00\u001b[39m\u001b[K"
     ]
    },
    {
     "name": "stderr",
     "output_type": "stream",
     "text": [
      "\r\u001b[32mProgress: Tumor size  1933 \t Time: 0:00:00\u001b[39m\u001b[K"
     ]
    },
    {
     "name": "stderr",
     "output_type": "stream",
     "text": [
      "\r\u001b[32mProgress: Tumor size  2084 \t Time: 0:00:00\u001b[39m\u001b[K"
     ]
    },
    {
     "name": "stderr",
     "output_type": "stream",
     "text": [
      "\r\u001b[32mProgress: Tumor size  2234 \t Time: 0:00:00\u001b[39m\u001b[K"
     ]
    },
    {
     "name": "stderr",
     "output_type": "stream",
     "text": [
      "\r\u001b[32mProgress: Tumor size  2356 \t Time: 0:00:00\u001b[39m\u001b[K"
     ]
    },
    {
     "name": "stderr",
     "output_type": "stream",
     "text": [
      "\r\u001b[32mProgress: Tumor size  2487 \t Time: 0:00:01\u001b[39m\u001b[K"
     ]
    },
    {
     "name": "stderr",
     "output_type": "stream",
     "text": [
      "\r\u001b[32mProgress: Tumor size  2603 \t Time: 0:00:01\u001b[39m\u001b[K"
     ]
    },
    {
     "name": "stderr",
     "output_type": "stream",
     "text": [
      "\r\u001b[32mProgress: Tumor size  2705 \t Time: 0:00:01\u001b[39m\u001b[K"
     ]
    },
    {
     "name": "stderr",
     "output_type": "stream",
     "text": [
      "\r\u001b[32mProgress: Tumor size  2803 \t Time: 0:00:01\u001b[39m\u001b[K"
     ]
    },
    {
     "name": "stderr",
     "output_type": "stream",
     "text": [
      "\r\u001b[32mProgress: Tumor size  2888 \t Time: 0:00:01\u001b[39m\u001b[K"
     ]
    },
    {
     "name": "stderr",
     "output_type": "stream",
     "text": [
      "\r\u001b[32mProgress: Tumor size  2947 \t Time: 0:00:01\u001b[39m\u001b[K"
     ]
    },
    {
     "name": "stderr",
     "output_type": "stream",
     "text": [
      "\r\u001b[32mProgress: Tumor size  3022 \t Time: 0:00:01\u001b[39m\u001b[K"
     ]
    },
    {
     "name": "stderr",
     "output_type": "stream",
     "text": [
      "\r\u001b[32mProgress: Tumor size  3097 \t Time: 0:00:01\u001b[39m\u001b[K"
     ]
    },
    {
     "name": "stderr",
     "output_type": "stream",
     "text": [
      "\r\u001b[32mProgress: Tumor size  3185 \t Time: 0:00:02\u001b[39m\u001b[K"
     ]
    },
    {
     "name": "stderr",
     "output_type": "stream",
     "text": [
      "\r\u001b[32mProgress: Tumor size  3270 \t Time: 0:00:02\u001b[39m\u001b[K"
     ]
    },
    {
     "name": "stderr",
     "output_type": "stream",
     "text": [
      "\r\u001b[32mProgress: Tumor size  3342 \t Time: 0:00:02\u001b[39m\u001b[K"
     ]
    },
    {
     "name": "stderr",
     "output_type": "stream",
     "text": [
      "\r\u001b[32mProgress: Tumor size  3412 \t Time: 0:00:02\u001b[39m\u001b[K"
     ]
    },
    {
     "name": "stderr",
     "output_type": "stream",
     "text": [
      "\r\u001b[32mProgress: Tumor size  3481 \t Time: 0:00:02\u001b[39m\u001b[K"
     ]
    },
    {
     "name": "stderr",
     "output_type": "stream",
     "text": [
      "\r\u001b[32mProgress: Tumor size  3549 \t Time: 0:00:02\u001b[39m\u001b[K"
     ]
    },
    {
     "name": "stderr",
     "output_type": "stream",
     "text": [
      "\r\u001b[32mProgress: Tumor size  3614 \t Time: 0:00:02\u001b[39m\u001b[K"
     ]
    },
    {
     "name": "stderr",
     "output_type": "stream",
     "text": [
      "\r\u001b[32mProgress: Tumor size  3675 \t Time: 0:00:02\u001b[39m\u001b[K"
     ]
    },
    {
     "name": "stderr",
     "output_type": "stream",
     "text": [
      "\r\u001b[32mProgress: Tumor size  3724 \t Time: 0:00:02\u001b[39m\u001b[K"
     ]
    },
    {
     "name": "stderr",
     "output_type": "stream",
     "text": [
      "\r\u001b[32mProgress: Tumor size  3780 \t Time: 0:00:03\u001b[39m\u001b[K"
     ]
    },
    {
     "name": "stderr",
     "output_type": "stream",
     "text": [
      "\r\u001b[32mProgress: Tumor size  3840 \t Time: 0:00:03\u001b[39m\u001b[K"
     ]
    },
    {
     "name": "stderr",
     "output_type": "stream",
     "text": [
      "\r\u001b[32mProgress: Tumor size  3897 \t Time: 0:00:03\u001b[39m\u001b[K"
     ]
    },
    {
     "name": "stderr",
     "output_type": "stream",
     "text": [
      "\r\u001b[32mProgress: Tumor size  3953 \t Time: 0:00:03\u001b[39m\u001b[K"
     ]
    },
    {
     "name": "stderr",
     "output_type": "stream",
     "text": [
      "\r\u001b[32mProgress: Tumor size  4018 \t Time: 0:00:03\u001b[39m\u001b[K"
     ]
    },
    {
     "name": "stderr",
     "output_type": "stream",
     "text": [
      "\r\u001b[32mProgress: Tumor size  4083 \t Time: 0:00:03\u001b[39m\u001b[K"
     ]
    },
    {
     "name": "stderr",
     "output_type": "stream",
     "text": [
      "\r\u001b[32mProgress: Tumor size  4139 \t Time: 0:00:03\u001b[39m\u001b[K"
     ]
    },
    {
     "name": "stderr",
     "output_type": "stream",
     "text": [
      "\r\u001b[32mProgress: Tumor size  4197 \t Time: 0:00:03\u001b[39m\u001b[K"
     ]
    },
    {
     "name": "stderr",
     "output_type": "stream",
     "text": [
      "\r\u001b[32mProgress: Tumor size  4247 \t Time: 0:00:03\u001b[39m\u001b[K"
     ]
    },
    {
     "name": "stderr",
     "output_type": "stream",
     "text": [
      "\r\u001b[32mProgress: Tumor size  4295 \t Time: 0:00:04\u001b[39m\u001b[K"
     ]
    },
    {
     "name": "stderr",
     "output_type": "stream",
     "text": [
      "\r\u001b[32mProgress: Tumor size  4342 \t Time: 0:00:04\u001b[39m\u001b[K"
     ]
    },
    {
     "name": "stderr",
     "output_type": "stream",
     "text": [
      "\r\u001b[32mProgress: Tumor size  4382 \t Time: 0:00:04\u001b[39m\u001b[K"
     ]
    },
    {
     "name": "stderr",
     "output_type": "stream",
     "text": [
      "\r\u001b[32mProgress: Tumor size  4429 \t Time: 0:00:04\u001b[39m\u001b[K"
     ]
    },
    {
     "name": "stderr",
     "output_type": "stream",
     "text": [
      "\r\u001b[32mProgress: Tumor size  4475 \t Time: 0:00:04\u001b[39m\u001b[K"
     ]
    },
    {
     "name": "stderr",
     "output_type": "stream",
     "text": [
      "\r\u001b[32mProgress: Tumor size  4522 \t Time: 0:00:04\u001b[39m\u001b[K"
     ]
    },
    {
     "name": "stderr",
     "output_type": "stream",
     "text": [
      "\r\u001b[32mProgress: Tumor size  4567 \t Time: 0:00:04\u001b[39m\u001b[K"
     ]
    },
    {
     "name": "stderr",
     "output_type": "stream",
     "text": [
      "\r\u001b[32mProgress: Tumor size  4610 \t Time: 0:00:04\u001b[39m\u001b[K"
     ]
    },
    {
     "name": "stderr",
     "output_type": "stream",
     "text": [
      "\r\u001b[32mProgress: Tumor size  4652 \t Time: 0:00:04\u001b[39m\u001b[K"
     ]
    },
    {
     "name": "stderr",
     "output_type": "stream",
     "text": [
      "\r\u001b[32mProgress: Tumor size  4689 \t Time: 0:00:05\u001b[39m\u001b[K"
     ]
    },
    {
     "name": "stderr",
     "output_type": "stream",
     "text": [
      "\r\u001b[32mProgress: Tumor size  4727 \t Time: 0:00:05\u001b[39m\u001b[K"
     ]
    },
    {
     "name": "stderr",
     "output_type": "stream",
     "text": [
      "\r\u001b[32mProgress: Tumor size  4768 \t Time: 0:00:05\u001b[39m\u001b[K"
     ]
    },
    {
     "name": "stderr",
     "output_type": "stream",
     "text": [
      "\r\u001b[32mProgress: Tumor size  4806 \t Time: 0:00:05\u001b[39m\u001b[K"
     ]
    },
    {
     "name": "stderr",
     "output_type": "stream",
     "text": [
      "\r\u001b[32mProgress: Tumor size  4840 \t Time: 0:00:05\u001b[39m\u001b[K"
     ]
    },
    {
     "name": "stderr",
     "output_type": "stream",
     "text": [
      "\r\u001b[32mProgress: Tumor size  4869 \t Time: 0:00:05\u001b[39m\u001b[K"
     ]
    },
    {
     "name": "stderr",
     "output_type": "stream",
     "text": [
      "\r\u001b[32mProgress: Tumor size  4896 \t Time: 0:00:05\u001b[39m\u001b[K"
     ]
    },
    {
     "name": "stderr",
     "output_type": "stream",
     "text": [
      "\r\u001b[32mProgress: Tumor size  4921 \t Time: 0:00:05\u001b[39m\u001b[K"
     ]
    },
    {
     "name": "stderr",
     "output_type": "stream",
     "text": [
      "\r\u001b[32mProgress: Tumor size  4953 \t Time: 0:00:05\u001b[39m\u001b[K"
     ]
    },
    {
     "name": "stderr",
     "output_type": "stream",
     "text": [
      "\r\u001b[32mProgress: Tumor size  4998 \t Time: 0:00:06\u001b[39m\u001b[K"
     ]
    },
    {
     "name": "stderr",
     "output_type": "stream",
     "text": [
      "\r\u001b[32mProgress: Tumor size  5043 \t Time: 0:00:06\u001b[39m\u001b[K"
     ]
    },
    {
     "name": "stderr",
     "output_type": "stream",
     "text": [
      "\r\u001b[32mProgress: Tumor size  5086 \t Time: 0:00:06\u001b[39m\u001b[K"
     ]
    },
    {
     "name": "stderr",
     "output_type": "stream",
     "text": [
      "\r\u001b[32mProgress: Tumor size  5122 \t Time: 0:00:06\u001b[39m\u001b[K"
     ]
    },
    {
     "name": "stderr",
     "output_type": "stream",
     "text": [
      "\r\u001b[32mProgress: Tumor size  5165 \t Time: 0:00:06\u001b[39m\u001b[K"
     ]
    },
    {
     "name": "stderr",
     "output_type": "stream",
     "text": [
      "\r\u001b[32mProgress: Tumor size  5208 \t Time: 0:00:06\u001b[39m\u001b[K"
     ]
    },
    {
     "name": "stderr",
     "output_type": "stream",
     "text": [
      "\r\u001b[32mProgress: Tumor size  5249 \t Time: 0:00:06\u001b[39m"
     ]
    },
    {
     "name": "stderr",
     "output_type": "stream",
     "text": [
      "\u001b[K\r\u001b[32mProgress: Tumor size  5288 \t Time: 0:00:06\u001b[39m\u001b[K"
     ]
    },
    {
     "name": "stderr",
     "output_type": "stream",
     "text": [
      "\r\u001b[32mProgress: Tumor size  5321 \t Time: 0:00:07\u001b[39m\u001b[K"
     ]
    },
    {
     "name": "stderr",
     "output_type": "stream",
     "text": [
      "\r\u001b[32mProgress: Tumor size  5346 \t Time: 0:00:07\u001b[39m\u001b[K"
     ]
    },
    {
     "name": "stderr",
     "output_type": "stream",
     "text": [
      "\r\u001b[32mProgress: Tumor size  5377 \t Time: 0:00:07\u001b[39m\u001b[K"
     ]
    },
    {
     "name": "stderr",
     "output_type": "stream",
     "text": [
      "\r\u001b[32mProgress: Tumor size  5400 \t Time: 0:00:07\u001b[39m\u001b[K"
     ]
    },
    {
     "name": "stderr",
     "output_type": "stream",
     "text": [
      "\r\u001b[32mProgress: Tumor size  5426 \t Time: 0:00:07\u001b[39m\u001b[K"
     ]
    },
    {
     "name": "stderr",
     "output_type": "stream",
     "text": [
      "\r\u001b[32mProgress: Tumor size  5464 \t Time: 0:00:07\u001b[39m\u001b[K"
     ]
    },
    {
     "name": "stderr",
     "output_type": "stream",
     "text": [
      "\r\u001b[32mProgress: Tumor size  5500 \t Time: 0:00:07\u001b[39m\u001b[K"
     ]
    },
    {
     "name": "stderr",
     "output_type": "stream",
     "text": [
      "\r\u001b[32mProgress: Tumor size  5533 \t Time: 0:00:07\u001b[39m\u001b[K"
     ]
    },
    {
     "name": "stderr",
     "output_type": "stream",
     "text": [
      "\r\u001b[32mProgress: Tumor size  5566 \t Time: 0:00:07\u001b[39m\u001b[K"
     ]
    },
    {
     "name": "stderr",
     "output_type": "stream",
     "text": [
      "\r\u001b[32mProgress: Tumor size  5595 \t Time: 0:00:08\u001b[39m\u001b[K"
     ]
    },
    {
     "name": "stderr",
     "output_type": "stream",
     "text": [
      "\r\u001b[32mProgress: Tumor size  5624 \t Time: 0:00:08\u001b[39m\u001b[K"
     ]
    },
    {
     "name": "stderr",
     "output_type": "stream",
     "text": [
      "\r\u001b[32mProgress: Tumor size  5649 \t Time: 0:00:08\u001b[39m\u001b[K"
     ]
    },
    {
     "name": "stderr",
     "output_type": "stream",
     "text": [
      "\r\u001b[32mProgress: Tumor size  5681 \t Time: 0:00:08\u001b[39m\u001b[K"
     ]
    },
    {
     "name": "stderr",
     "output_type": "stream",
     "text": [
      "\r\u001b[32mProgress: Tumor size  5714 \t Time: 0:00:08\u001b[39m\u001b[K"
     ]
    },
    {
     "name": "stderr",
     "output_type": "stream",
     "text": [
      "\r\u001b[32mProgress: Tumor size  5749 \t Time: 0:00:08\u001b[39m\u001b[K"
     ]
    },
    {
     "name": "stderr",
     "output_type": "stream",
     "text": [
      "\r\u001b[32mProgress: Tumor size  5781 \t Time: 0:00:08\u001b[39m\u001b[K"
     ]
    },
    {
     "name": "stderr",
     "output_type": "stream",
     "text": [
      "\r\u001b[32mProgress: Tumor size  5821 \t Time: 0:00:08\u001b[39m\u001b[K"
     ]
    },
    {
     "name": "stderr",
     "output_type": "stream",
     "text": [
      "\r\u001b[32mProgress: Tumor size  5856 \t Time: 0:00:09\u001b[39m\u001b[K"
     ]
    },
    {
     "name": "stderr",
     "output_type": "stream",
     "text": [
      "\r\u001b[32mProgress: Tumor size  5892 \t Time: 0:00:09\u001b[39m\u001b[K"
     ]
    },
    {
     "name": "stderr",
     "output_type": "stream",
     "text": [
      "\r\u001b[32mProgress: Tumor size  5922 \t Time: 0:00:09\u001b[39m\u001b[K"
     ]
    },
    {
     "name": "stderr",
     "output_type": "stream",
     "text": [
      "\r\u001b[32mProgress: Tumor size  5950 \t Time: 0:00:09\u001b[39m\u001b[K"
     ]
    },
    {
     "name": "stderr",
     "output_type": "stream",
     "text": [
      "\r\u001b[32mProgress: Tumor size  5978 \t Time: 0:00:09\u001b[39m\u001b[K"
     ]
    },
    {
     "name": "stderr",
     "output_type": "stream",
     "text": [
      "\r\u001b[32mProgress: Tumor size  6004 \t Time: 0:00:09\u001b[39m\u001b[K"
     ]
    },
    {
     "name": "stderr",
     "output_type": "stream",
     "text": [
      "\r\u001b[32mProgress: Tumor size  6035 \t Time: 0:00:09\u001b[39m\u001b[K"
     ]
    },
    {
     "name": "stderr",
     "output_type": "stream",
     "text": [
      "\r\u001b[32mProgress: Tumor size  6061 \t Time: 0:00:09\u001b[39m\u001b[K"
     ]
    },
    {
     "name": "stderr",
     "output_type": "stream",
     "text": [
      "\r\u001b[32mProgress: Tumor size  6086 \t Time: 0:00:10\u001b[39m\u001b[K"
     ]
    },
    {
     "name": "stderr",
     "output_type": "stream",
     "text": [
      "\r\u001b[32mProgress: Tumor size  6114 \t Time: 0:00:10\u001b[39m\u001b[K"
     ]
    },
    {
     "name": "stderr",
     "output_type": "stream",
     "text": [
      "\r\u001b[32mProgress: Tumor size  6140 \t Time: 0:00:10\u001b[39m\u001b[K"
     ]
    },
    {
     "name": "stderr",
     "output_type": "stream",
     "text": [
      "\r\u001b[32mProgress: Tumor size  6167 \t Time: 0:00:10\u001b[39m\u001b[K"
     ]
    },
    {
     "name": "stderr",
     "output_type": "stream",
     "text": [
      "\r\u001b[32mProgress: Tumor size  6193 \t Time: 0:00:10\u001b[39m\u001b[K"
     ]
    },
    {
     "name": "stderr",
     "output_type": "stream",
     "text": [
      "\r\u001b[32mProgress: Tumor size  6216 \t Time: 0:00:10\u001b[39m\u001b[K"
     ]
    },
    {
     "name": "stderr",
     "output_type": "stream",
     "text": [
      "\r\u001b[32mProgress: Tumor size  6253 \t Time: 0:00:10\u001b[39m\u001b[K"
     ]
    },
    {
     "name": "stderr",
     "output_type": "stream",
     "text": [
      "\r\u001b[32mProgress: Tumor size  6289 \t Time: 0:00:10\u001b[39m\u001b[K"
     ]
    },
    {
     "name": "stderr",
     "output_type": "stream",
     "text": [
      "\r\u001b[32mProgress: Tumor size  6314 \t Time: 0:00:10\u001b[39m\u001b[K"
     ]
    },
    {
     "name": "stderr",
     "output_type": "stream",
     "text": [
      "\r\u001b[32mProgress: Tumor size  6347 \t Time: 0:00:11\u001b[39m\u001b[K"
     ]
    },
    {
     "name": "stderr",
     "output_type": "stream",
     "text": [
      "\r\u001b[32mProgress: Tumor size  6379 \t Time: 0:00:11\u001b[39m\u001b[K"
     ]
    },
    {
     "name": "stderr",
     "output_type": "stream",
     "text": [
      "\r\u001b[32mProgress: Tumor size  6401 \t Time: 0:00:11\u001b[39m\u001b[K"
     ]
    },
    {
     "name": "stderr",
     "output_type": "stream",
     "text": [
      "\r\u001b[32mProgress: Tumor size  6421 \t Time: 0:00:11\u001b[39m\u001b[K"
     ]
    },
    {
     "name": "stderr",
     "output_type": "stream",
     "text": [
      "\r\u001b[32mProgress: Tumor size  6450 \t Time: 0:00:11\u001b[39m\u001b[K"
     ]
    },
    {
     "name": "stderr",
     "output_type": "stream",
     "text": [
      "\r\u001b[32mProgress: Tumor size  6479 \t Time: 0:00:11\u001b[39m\u001b[K"
     ]
    },
    {
     "name": "stderr",
     "output_type": "stream",
     "text": [
      "\r\u001b[32mProgress: Tumor size  6514 \t Time: 0:00:11\u001b[39m\u001b[K"
     ]
    },
    {
     "name": "stderr",
     "output_type": "stream",
     "text": [
      "\r\u001b[32mProgress: Tumor size  6541 \t Time: 0:00:11\u001b[39m\u001b[K"
     ]
    },
    {
     "name": "stderr",
     "output_type": "stream",
     "text": [
      "\r\u001b[32mProgress: Tumor size  6565 \t Time: 0:00:11\u001b[39m\u001b[K"
     ]
    },
    {
     "name": "stderr",
     "output_type": "stream",
     "text": [
      "\r\u001b[32mProgress: Tumor size  6596 \t Time: 0:00:12\u001b[39m\u001b[K"
     ]
    },
    {
     "name": "stderr",
     "output_type": "stream",
     "text": [
      "\r\u001b[32mProgress: Tumor size  6626 \t Time: 0:00:12\u001b[39m\u001b[K"
     ]
    },
    {
     "name": "stderr",
     "output_type": "stream",
     "text": [
      "\r\u001b[32mProgress: Tumor size  6653 \t Time: 0:00:12\u001b[39m\u001b[K"
     ]
    },
    {
     "name": "stderr",
     "output_type": "stream",
     "text": [
      "\r\u001b[32mProgress: Tumor size  6683 \t Time: 0:00:12\u001b[39m\u001b[K"
     ]
    },
    {
     "name": "stderr",
     "output_type": "stream",
     "text": [
      "\r\u001b[32mProgress: Tumor size  6711 \t Time: 0:00:12\u001b[39m\u001b[K"
     ]
    },
    {
     "name": "stderr",
     "output_type": "stream",
     "text": [
      "\r\u001b[32mProgress: Tumor size  6740 \t Time: 0:00:12\u001b[39m\u001b[K"
     ]
    },
    {
     "name": "stderr",
     "output_type": "stream",
     "text": [
      "\r\u001b[32mProgress: Tumor size  6766 \t Time: 0:00:12\u001b[39m\u001b[K"
     ]
    },
    {
     "name": "stderr",
     "output_type": "stream",
     "text": [
      "\r\u001b[32mProgress: Tumor size  6790 \t Time: 0:00:12\u001b[39m\u001b[K"
     ]
    },
    {
     "name": "stderr",
     "output_type": "stream",
     "text": [
      "\r\u001b[32mProgress: Tumor size  6820 \t Time: 0:00:13\u001b[39m\u001b[K"
     ]
    },
    {
     "name": "stderr",
     "output_type": "stream",
     "text": [
      "\r\u001b[32mProgress: Tumor size  6848 \t Time: 0:00:13\u001b[39m\u001b[K"
     ]
    },
    {
     "name": "stderr",
     "output_type": "stream",
     "text": [
      "\r\u001b[32mProgress: Tumor size  6872 \t Time: 0:00:13\u001b[39m\u001b[K"
     ]
    },
    {
     "name": "stderr",
     "output_type": "stream",
     "text": [
      "\r\u001b[32mProgress: Tumor size  6894 \t Time: 0:00:13\u001b[39m\u001b[K"
     ]
    },
    {
     "name": "stderr",
     "output_type": "stream",
     "text": [
      "\r\u001b[32mProgress: Tumor size  6925 \t Time: 0:00:13\u001b[39m\u001b[K"
     ]
    },
    {
     "name": "stderr",
     "output_type": "stream",
     "text": [
      "\r\u001b[32mProgress: Tumor size  6954 \t Time: 0:00:13\u001b[39m\u001b[K"
     ]
    },
    {
     "name": "stderr",
     "output_type": "stream",
     "text": [
      "\r\u001b[32mProgress: Tumor size  6979 \t Time: 0:00:13\u001b[39m\u001b[K"
     ]
    },
    {
     "name": "stderr",
     "output_type": "stream",
     "text": [
      "\r\u001b[32mProgress: Tumor size  7004 \t Time: 0:00:13\u001b[39m\u001b[K"
     ]
    },
    {
     "name": "stderr",
     "output_type": "stream",
     "text": [
      "\r\u001b[32mProgress: Tumor size  7030 \t Time: 0:00:13\u001b[39m\u001b[K"
     ]
    },
    {
     "name": "stderr",
     "output_type": "stream",
     "text": [
      "\r\u001b[32mProgress: Tumor size  7055 \t Time: 0:00:14\u001b[39m\u001b[K"
     ]
    },
    {
     "name": "stderr",
     "output_type": "stream",
     "text": [
      "\r\u001b[32mProgress: Tumor size  7078 \t Time: 0:00:14\u001b[39m\u001b[K"
     ]
    },
    {
     "name": "stderr",
     "output_type": "stream",
     "text": [
      "\r\u001b[32mProgress: Tumor size  7100 \t Time: 0:00:14\u001b[39m\u001b[K"
     ]
    },
    {
     "name": "stderr",
     "output_type": "stream",
     "text": [
      "\r\u001b[32mProgress: Tumor size  7126 \t Time: 0:00:14\u001b[39m\u001b[K"
     ]
    },
    {
     "name": "stderr",
     "output_type": "stream",
     "text": [
      "\r\u001b[32mProgress: Tumor size  7155 \t Time: 0:00:14\u001b[39m\u001b[K"
     ]
    },
    {
     "name": "stderr",
     "output_type": "stream",
     "text": [
      "\r\u001b[32mProgress: Tumor size  7182 \t Time: 0:00:14\u001b[39m\u001b[K"
     ]
    },
    {
     "name": "stderr",
     "output_type": "stream",
     "text": [
      "\r\u001b[32mProgress: Tumor size  7209 \t Time: 0:00:14\u001b[39m\u001b[K"
     ]
    },
    {
     "name": "stderr",
     "output_type": "stream",
     "text": [
      "\r\u001b[32mProgress: Tumor size  7234 \t Time: 0:00:14\u001b[39m\u001b[K"
     ]
    },
    {
     "name": "stderr",
     "output_type": "stream",
     "text": [
      "\r\u001b[32mProgress: Tumor size  7260 \t Time: 0:00:15\u001b[39m\u001b[K"
     ]
    },
    {
     "name": "stderr",
     "output_type": "stream",
     "text": [
      "\r\u001b[32mProgress: Tumor size  7286 \t Time: 0:00:15\u001b[39m\u001b[K"
     ]
    },
    {
     "name": "stderr",
     "output_type": "stream",
     "text": [
      "\r\u001b[32mProgress: Tumor size  7311 \t Time: 0:00:15\u001b[39m\u001b[K"
     ]
    },
    {
     "name": "stderr",
     "output_type": "stream",
     "text": [
      "\r\u001b[32mProgress: Tumor size  7336 \t Time: 0:00:15\u001b[39m\u001b[K"
     ]
    },
    {
     "name": "stderr",
     "output_type": "stream",
     "text": [
      "\r\u001b[32mProgress: Tumor size  7360 \t Time: 0:00:15\u001b[39m\u001b[K"
     ]
    },
    {
     "name": "stderr",
     "output_type": "stream",
     "text": [
      "\r\u001b[32mProgress: Tumor size  7385 \t Time: 0:00:15\u001b[39m\u001b[K"
     ]
    },
    {
     "name": "stderr",
     "output_type": "stream",
     "text": [
      "\r\u001b[32mProgress: Tumor size  7409 \t Time: 0:00:15\u001b[39m\u001b[K"
     ]
    },
    {
     "name": "stderr",
     "output_type": "stream",
     "text": [
      "\r\u001b[32mProgress: Tumor size  7437 \t Time: 0:00:15\u001b[39m\u001b[K"
     ]
    },
    {
     "name": "stderr",
     "output_type": "stream",
     "text": [
      "\r\u001b[32mProgress: Tumor size  7465 \t Time: 0:00:16\u001b[39m\u001b[K"
     ]
    },
    {
     "name": "stderr",
     "output_type": "stream",
     "text": [
      "\r\u001b[32mProgress: Tumor size  7483 \t Time: 0:00:16\u001b[39m\u001b[K"
     ]
    },
    {
     "name": "stderr",
     "output_type": "stream",
     "text": [
      "\r\u001b[32mProgress: Tumor size  7506 \t Time: 0:00:16\u001b[39m\u001b[K"
     ]
    },
    {
     "name": "stderr",
     "output_type": "stream",
     "text": [
      "\r\u001b[32mProgress: Tumor size  7527 \t Time: 0:00:16\u001b[39m\u001b[K"
     ]
    },
    {
     "name": "stderr",
     "output_type": "stream",
     "text": [
      "\r\u001b[32mProgress: Tumor size  7547 \t Time: 0:00:16\u001b[39m\u001b[K"
     ]
    },
    {
     "name": "stderr",
     "output_type": "stream",
     "text": [
      "\r\u001b[32mProgress: Tumor size  7576 \t Time: 0:00:16\u001b[39m\u001b[K"
     ]
    },
    {
     "name": "stderr",
     "output_type": "stream",
     "text": [
      "\r\u001b[32mProgress: Tumor size  7603 \t Time: 0:00:16\u001b[39m\u001b[K"
     ]
    },
    {
     "name": "stderr",
     "output_type": "stream",
     "text": [
      "\r\u001b[32mProgress: Tumor size  7625 \t Time: 0:00:16\u001b[39m\u001b[K"
     ]
    },
    {
     "name": "stderr",
     "output_type": "stream",
     "text": [
      "\r\u001b[32mProgress: Tumor size  7647 \t Time: 0:00:16\u001b[39m\u001b[K"
     ]
    },
    {
     "name": "stderr",
     "output_type": "stream",
     "text": [
      "\r\u001b[32mProgress: Tumor size  7677 \t Time: 0:00:17\u001b[39m\u001b[K"
     ]
    },
    {
     "name": "stderr",
     "output_type": "stream",
     "text": [
      "\r\u001b[32mProgress: Tumor size  7706 \t Time: 0:00:17\u001b[39m\u001b[K"
     ]
    },
    {
     "name": "stderr",
     "output_type": "stream",
     "text": [
      "\r\u001b[32mProgress: Tumor size  7731 \t Time: 0:00:17\u001b[39m\u001b[K"
     ]
    },
    {
     "name": "stderr",
     "output_type": "stream",
     "text": [
      "\r\u001b[32mProgress: Tumor size  7751 \t Time: 0:00:17\u001b[39m\u001b[K"
     ]
    },
    {
     "name": "stderr",
     "output_type": "stream",
     "text": [
      "\r\u001b[32mProgress: Tumor size  7767 \t Time: 0:00:17\u001b[39m\u001b[K"
     ]
    },
    {
     "name": "stderr",
     "output_type": "stream",
     "text": [
      "\r\u001b[32mProgress: Tumor size  7783 \t Time: 0:00:17\u001b[39m\u001b[K"
     ]
    },
    {
     "name": "stderr",
     "output_type": "stream",
     "text": [
      "\r\u001b[32mProgress: Tumor size  7808 \t Time: 0:00:17\u001b[39m\u001b[K"
     ]
    },
    {
     "name": "stderr",
     "output_type": "stream",
     "text": [
      "\r\u001b[32mProgress: Tumor size  7832 \t Time: 0:00:17\u001b[39m\u001b[K"
     ]
    },
    {
     "name": "stderr",
     "output_type": "stream",
     "text": [
      "\r\u001b[32mProgress: Tumor size  7854 \t Time: 0:00:18\u001b[39m\u001b[K"
     ]
    },
    {
     "name": "stderr",
     "output_type": "stream",
     "text": [
      "\r\u001b[32mProgress: Tumor size  7874 \t Time: 0:00:18\u001b[39m\u001b[K"
     ]
    },
    {
     "name": "stderr",
     "output_type": "stream",
     "text": [
      "\r\u001b[32mProgress: Tumor size  7893 \t Time: 0:00:18\u001b[39m\u001b[K"
     ]
    },
    {
     "name": "stderr",
     "output_type": "stream",
     "text": [
      "\r\u001b[32mProgress: Tumor size  7915 \t Time: 0:00:18\u001b[39m\u001b[K"
     ]
    },
    {
     "name": "stderr",
     "output_type": "stream",
     "text": [
      "\r\u001b[32mProgress: Tumor size  7936 \t Time: 0:00:18\u001b[39m\u001b[K"
     ]
    },
    {
     "name": "stderr",
     "output_type": "stream",
     "text": [
      "\r\u001b[32mProgress: Tumor size  7957 \t Time: 0:00:18\u001b[39m\u001b[K"
     ]
    },
    {
     "name": "stderr",
     "output_type": "stream",
     "text": [
      "\r\u001b[32mProgress: Tumor size  7977 \t Time: 0:00:18\u001b[39m\u001b[K"
     ]
    },
    {
     "name": "stderr",
     "output_type": "stream",
     "text": [
      "\r\u001b[32mProgress: Tumor size  7996 \t Time: 0:00:18\u001b[39m\u001b[K"
     ]
    },
    {
     "name": "stderr",
     "output_type": "stream",
     "text": [
      "\r\u001b[32mProgress: Tumor size  8014 \t Time: 0:00:18\u001b[39m\u001b[K"
     ]
    },
    {
     "name": "stderr",
     "output_type": "stream",
     "text": [
      "\r\u001b[32mProgress: Tumor size  8036 \t Time: 0:00:19\u001b[39m\u001b[K"
     ]
    },
    {
     "name": "stderr",
     "output_type": "stream",
     "text": [
      "\r\u001b[32mProgress: Tumor size  8057 \t Time: 0:00:19\u001b[39m\u001b[K"
     ]
    },
    {
     "name": "stderr",
     "output_type": "stream",
     "text": [
      "\r\u001b[32mProgress: Tumor size  8076 \t Time: 0:00:19\u001b[39m\u001b[K"
     ]
    },
    {
     "name": "stderr",
     "output_type": "stream",
     "text": [
      "\r\u001b[32mProgress: Tumor size  8095 \t Time: 0:00:19\u001b[39m\u001b[K"
     ]
    },
    {
     "name": "stderr",
     "output_type": "stream",
     "text": [
      "\r\u001b[32mProgress: Tumor size  8115 \t Time: 0:00:19\u001b[39m\u001b[K"
     ]
    },
    {
     "name": "stderr",
     "output_type": "stream",
     "text": [
      "\r\u001b[32mProgress: Tumor size  8133 \t Time: 0:00:19\u001b[39m\u001b[K"
     ]
    },
    {
     "name": "stderr",
     "output_type": "stream",
     "text": [
      "\r\u001b[32mProgress: Tumor size  8156 \t Time: 0:00:19\u001b[39m\u001b[K"
     ]
    },
    {
     "name": "stderr",
     "output_type": "stream",
     "text": [
      "\r\u001b[32mProgress: Tumor size  8183 \t Time: 0:00:19\u001b[39m\u001b[K"
     ]
    },
    {
     "name": "stderr",
     "output_type": "stream",
     "text": [
      "\r\u001b[32mProgress: Tumor size  8207 \t Time: 0:00:20\u001b[39m\u001b[K"
     ]
    },
    {
     "name": "stderr",
     "output_type": "stream",
     "text": [
      "\r\u001b[32mProgress: Tumor size  8221 \t Time: 0:00:20\u001b[39m\u001b[K"
     ]
    },
    {
     "name": "stderr",
     "output_type": "stream",
     "text": [
      "\r\u001b[32mProgress: Tumor size  8235 \t Time: 0:00:20\u001b[39m\u001b[K"
     ]
    },
    {
     "name": "stderr",
     "output_type": "stream",
     "text": [
      "\r\u001b[32mProgress: Tumor size  8251 \t Time: 0:00:20\u001b[39m\u001b[K"
     ]
    },
    {
     "name": "stderr",
     "output_type": "stream",
     "text": [
      "\r\u001b[32mProgress: Tumor size  8269 \t Time: 0:00:20\u001b[39m\u001b[K"
     ]
    },
    {
     "name": "stderr",
     "output_type": "stream",
     "text": [
      "\r\u001b[32mProgress: Tumor size  8292 \t Time: 0:00:20\u001b[39m\u001b[K"
     ]
    },
    {
     "name": "stderr",
     "output_type": "stream",
     "text": [
      "\r\u001b[32mProgress: Tumor size  8312 \t Time: 0:00:20\u001b[39m\u001b[K"
     ]
    },
    {
     "name": "stderr",
     "output_type": "stream",
     "text": [
      "\r\u001b[32mProgress: Tumor size  8329 \t Time: 0:00:20\u001b[39m\u001b[K"
     ]
    },
    {
     "name": "stderr",
     "output_type": "stream",
     "text": [
      "\r\u001b[32mProgress: Tumor size  8352 \t Time: 0:00:20\u001b[39m\u001b[K"
     ]
    },
    {
     "name": "stderr",
     "output_type": "stream",
     "text": [
      "\r\u001b[32mProgress: Tumor size  8374 \t Time: 0:00:21\u001b[39m\u001b[K"
     ]
    },
    {
     "name": "stderr",
     "output_type": "stream",
     "text": [
      "\r\u001b[32mProgress: Tumor size  8392 \t Time: 0:00:21\u001b[39m\u001b[K"
     ]
    },
    {
     "name": "stderr",
     "output_type": "stream",
     "text": [
      "\r\u001b[32mProgress: Tumor size  8412 \t Time: 0:00:21\u001b[39m\u001b[K"
     ]
    },
    {
     "name": "stderr",
     "output_type": "stream",
     "text": [
      "\r\u001b[32mProgress: Tumor size  8433 \t Time: 0:00:21\u001b[39m\u001b[K"
     ]
    },
    {
     "name": "stderr",
     "output_type": "stream",
     "text": [
      "\r\u001b[32mProgress: Tumor size  8451 \t Time: 0:00:21\u001b[39m\u001b[K"
     ]
    },
    {
     "name": "stderr",
     "output_type": "stream",
     "text": [
      "\r\u001b[32mProgress: Tumor size  8477 \t Time: 0:00:21\u001b[39m\u001b[K"
     ]
    },
    {
     "name": "stderr",
     "output_type": "stream",
     "text": [
      "\r\u001b[32mProgress: Tumor size  8498 \t Time: 0:00:21\u001b[39m\u001b[K"
     ]
    },
    {
     "name": "stderr",
     "output_type": "stream",
     "text": [
      "\r\u001b[32mProgress: Tumor size  8519 \t Time: 0:00:21\u001b[39m\u001b[K"
     ]
    },
    {
     "name": "stderr",
     "output_type": "stream",
     "text": [
      "\r\u001b[32mProgress: Tumor size  8538 \t Time: 0:00:22\u001b[39m\u001b[K"
     ]
    },
    {
     "name": "stderr",
     "output_type": "stream",
     "text": [
      "\r\u001b[32mProgress: Tumor size  8558 \t Time: 0:00:22\u001b[39m\u001b[K"
     ]
    },
    {
     "name": "stderr",
     "output_type": "stream",
     "text": [
      "\r\u001b[32mProgress: Tumor size  8578 \t Time: 0:00:22\u001b[39m\u001b[K"
     ]
    },
    {
     "name": "stderr",
     "output_type": "stream",
     "text": [
      "\r\u001b[32mProgress: Tumor size  8596 \t Time: 0:00:22\u001b[39m\u001b[K"
     ]
    },
    {
     "name": "stderr",
     "output_type": "stream",
     "text": [
      "\r\u001b[32mProgress: Tumor size  8616 \t Time: 0:00:22\u001b[39m\u001b[K"
     ]
    },
    {
     "name": "stderr",
     "output_type": "stream",
     "text": [
      "\r\u001b[32mProgress: Tumor size  8641 \t Time: 0:00:22\u001b[39m\u001b[K"
     ]
    },
    {
     "name": "stderr",
     "output_type": "stream",
     "text": [
      "\r\u001b[32mProgress: Tumor size  8665 \t Time: 0:00:22\u001b[39m\u001b[K"
     ]
    },
    {
     "name": "stderr",
     "output_type": "stream",
     "text": [
      "\r\u001b[32mProgress: Tumor size  8682 \t Time: 0:00:22\u001b[39m\u001b[K"
     ]
    },
    {
     "name": "stderr",
     "output_type": "stream",
     "text": [
      "\r\u001b[32mProgress: Tumor size  8702 \t Time: 0:00:23\u001b[39m\u001b[K"
     ]
    },
    {
     "name": "stderr",
     "output_type": "stream",
     "text": [
      "\r\u001b[32mProgress: Tumor size  8720 \t Time: 0:00:23\u001b[39m\u001b[K"
     ]
    },
    {
     "name": "stderr",
     "output_type": "stream",
     "text": [
      "\r\u001b[32mProgress: Tumor size  8740 \t Time: 0:00:23\u001b[39m\u001b[K"
     ]
    },
    {
     "name": "stderr",
     "output_type": "stream",
     "text": [
      "\r\u001b[32mProgress: Tumor size  8759 \t Time: 0:00:23\u001b[39m\u001b[K"
     ]
    },
    {
     "name": "stderr",
     "output_type": "stream",
     "text": [
      "\r\u001b[32mProgress: Tumor size  8774 \t Time: 0:00:23\u001b[39m\u001b[K"
     ]
    },
    {
     "name": "stderr",
     "output_type": "stream",
     "text": [
      "\r\u001b[32mProgress: Tumor size  8797 \t Time: 0:00:23\u001b[39m\u001b[K"
     ]
    },
    {
     "name": "stderr",
     "output_type": "stream",
     "text": [
      "\r\u001b[32mProgress: Tumor size  8818 \t Time: 0:00:23\u001b[39m\u001b[K"
     ]
    },
    {
     "name": "stderr",
     "output_type": "stream",
     "text": [
      "\r\u001b[32mProgress: Tumor size  8838 \t Time: 0:00:23\u001b[39m"
     ]
    },
    {
     "name": "stderr",
     "output_type": "stream",
     "text": [
      "\u001b[K\r\u001b[32mProgress: Tumor size  8855 \t Time: 0:00:24\u001b[39m\u001b[K"
     ]
    },
    {
     "name": "stderr",
     "output_type": "stream",
     "text": [
      "\r\u001b[32mProgress: Tumor size  8871 \t Time: 0:00:24\u001b[39m\u001b[K"
     ]
    },
    {
     "name": "stderr",
     "output_type": "stream",
     "text": [
      "\r\u001b[32mProgress: Tumor size  8897 \t Time: 0:00:24\u001b[39m\u001b[K"
     ]
    },
    {
     "name": "stderr",
     "output_type": "stream",
     "text": [
      "\r\u001b[32mProgress: Tumor size  8916 \t Time: 0:00:24\u001b[39m\u001b[K"
     ]
    },
    {
     "name": "stderr",
     "output_type": "stream",
     "text": [
      "\r\u001b[32mProgress: Tumor size  8934 \t Time: 0:00:24\u001b[39m\u001b[K"
     ]
    },
    {
     "name": "stderr",
     "output_type": "stream",
     "text": [
      "\r\u001b[32mProgress: Tumor size  8951 \t Time: 0:00:24\u001b[39m\u001b[K"
     ]
    },
    {
     "name": "stderr",
     "output_type": "stream",
     "text": [
      "\r\u001b[32mProgress: Tumor size  8986 \t Time: 0:00:24\u001b[39m\u001b[K"
     ]
    },
    {
     "name": "stderr",
     "output_type": "stream",
     "text": [
      "\r\u001b[32mProgress: Tumor size  9005 \t Time: 0:00:25\u001b[39m\u001b[K"
     ]
    },
    {
     "name": "stderr",
     "output_type": "stream",
     "text": [
      "\r\u001b[32mProgress: Tumor size  9022 \t Time: 0:00:25\u001b[39m\u001b[K"
     ]
    },
    {
     "name": "stderr",
     "output_type": "stream",
     "text": [
      "\r\u001b[32mProgress: Tumor size  9039 \t Time: 0:00:25\u001b[39m\u001b[K"
     ]
    },
    {
     "name": "stderr",
     "output_type": "stream",
     "text": [
      "\r\u001b[32mProgress: Tumor size  9057 \t Time: 0:00:25\u001b[39m\u001b[K"
     ]
    },
    {
     "name": "stderr",
     "output_type": "stream",
     "text": [
      "\r\u001b[32mProgress: Tumor size  9081 \t Time: 0:00:25\u001b[39m\u001b[K"
     ]
    },
    {
     "name": "stderr",
     "output_type": "stream",
     "text": [
      "\r\u001b[32mProgress: Tumor size  9103 \t Time: 0:00:25\u001b[39m\u001b[K"
     ]
    },
    {
     "name": "stderr",
     "output_type": "stream",
     "text": [
      "\r\u001b[32mProgress: Tumor size  9119 \t Time: 0:00:25\u001b[39m\u001b[K"
     ]
    },
    {
     "name": "stderr",
     "output_type": "stream",
     "text": [
      "\r\u001b[32mProgress: Tumor size  9142 \t Time: 0:00:25\u001b[39m\u001b[K"
     ]
    },
    {
     "name": "stderr",
     "output_type": "stream",
     "text": [
      "\r\u001b[32mProgress: Tumor size  9164 \t Time: 0:00:25\u001b[39m\u001b[K"
     ]
    },
    {
     "name": "stderr",
     "output_type": "stream",
     "text": [
      "\r\u001b[32mProgress: Tumor size  9182 \t Time: 0:00:26\u001b[39m\u001b[K"
     ]
    },
    {
     "name": "stderr",
     "output_type": "stream",
     "text": [
      "\r\u001b[32mProgress: Tumor size  9195 \t Time: 0:00:26\u001b[39m\u001b[K"
     ]
    },
    {
     "name": "stderr",
     "output_type": "stream",
     "text": [
      "\r\u001b[32mProgress: Tumor size  9212 \t Time: 0:00:26\u001b[39m\u001b[K"
     ]
    },
    {
     "name": "stderr",
     "output_type": "stream",
     "text": [
      "\r\u001b[32mProgress: Tumor size  9238 \t Time: 0:00:26\u001b[39m\u001b[K"
     ]
    },
    {
     "name": "stderr",
     "output_type": "stream",
     "text": [
      "\r\u001b[32mProgress: Tumor size  9261 \t Time: 0:00:26\u001b[39m\u001b[K"
     ]
    },
    {
     "name": "stderr",
     "output_type": "stream",
     "text": [
      "\r\u001b[32mProgress: Tumor size  9274 \t Time: 0:00:26\u001b[39m\u001b[K"
     ]
    },
    {
     "name": "stderr",
     "output_type": "stream",
     "text": [
      "\r\u001b[32mProgress: Tumor size  9299 \t Time: 0:00:26\u001b[39m\u001b[K"
     ]
    },
    {
     "name": "stderr",
     "output_type": "stream",
     "text": [
      "\r\u001b[32mProgress: Tumor size  9322 \t Time: 0:00:27\u001b[39m\u001b[K"
     ]
    },
    {
     "name": "stderr",
     "output_type": "stream",
     "text": [
      "\r\u001b[32mProgress: Tumor size  9338 \t Time: 0:00:27\u001b[39m\u001b[K"
     ]
    },
    {
     "name": "stderr",
     "output_type": "stream",
     "text": [
      "\r\u001b[32mProgress: Tumor size  9356 \t Time: 0:00:27\u001b[39m\u001b[K"
     ]
    },
    {
     "name": "stderr",
     "output_type": "stream",
     "text": [
      "\r\u001b[32mProgress: Tumor size  9372 \t Time: 0:00:27\u001b[39m\u001b[K"
     ]
    },
    {
     "name": "stderr",
     "output_type": "stream",
     "text": [
      "\r\u001b[32mProgress: Tumor size  9384 \t Time: 0:00:27\u001b[39m\u001b[K"
     ]
    },
    {
     "name": "stderr",
     "output_type": "stream",
     "text": [
      "\r\u001b[32mProgress: Tumor size  9395 \t Time: 0:00:27\u001b[39m\u001b[K"
     ]
    },
    {
     "name": "stderr",
     "output_type": "stream",
     "text": [
      "\r\u001b[32mProgress: Tumor size  9413 \t Time: 0:00:27\u001b[39m\u001b[K"
     ]
    },
    {
     "name": "stderr",
     "output_type": "stream",
     "text": [
      "\r\u001b[32mProgress: Tumor size  9429 \t Time: 0:00:27\u001b[39m\u001b[K"
     ]
    },
    {
     "name": "stderr",
     "output_type": "stream",
     "text": [
      "\r\u001b[32mProgress: Tumor size  9445 \t Time: 0:00:27\u001b[39m\u001b[K"
     ]
    },
    {
     "name": "stderr",
     "output_type": "stream",
     "text": [
      "\r\u001b[32mProgress: Tumor size  9458 \t Time: 0:00:28\u001b[39m\u001b[K"
     ]
    },
    {
     "name": "stderr",
     "output_type": "stream",
     "text": [
      "\r\u001b[32mProgress: Tumor size  9473 \t Time: 0:00:28\u001b[39m\u001b[K"
     ]
    },
    {
     "name": "stderr",
     "output_type": "stream",
     "text": [
      "\r\u001b[32mProgress: Tumor size  9489 \t Time: 0:00:28\u001b[39m\u001b[K"
     ]
    },
    {
     "name": "stderr",
     "output_type": "stream",
     "text": [
      "\r\u001b[32mProgress: Tumor size  9513 \t Time: 0:00:28\u001b[39m\u001b[K"
     ]
    },
    {
     "name": "stderr",
     "output_type": "stream",
     "text": [
      "\r\u001b[32mProgress: Tumor size  9535 \t Time: 0:00:28\u001b[39m\u001b[K"
     ]
    },
    {
     "name": "stderr",
     "output_type": "stream",
     "text": [
      "\r\u001b[32mProgress: Tumor size  9552 \t Time: 0:00:28\u001b[39m\u001b[K"
     ]
    },
    {
     "name": "stderr",
     "output_type": "stream",
     "text": [
      "\r\u001b[32mProgress: Tumor size  9565 \t Time: 0:00:28\u001b[39m\u001b[K"
     ]
    },
    {
     "name": "stderr",
     "output_type": "stream",
     "text": [
      "\r\u001b[32mProgress: Tumor size  9580 \t Time: 0:00:28\u001b[39m\u001b[K"
     ]
    },
    {
     "name": "stderr",
     "output_type": "stream",
     "text": [
      "\r\u001b[32mProgress: Tumor size  9598 \t Time: 0:00:29\u001b[39m\u001b[K"
     ]
    },
    {
     "name": "stderr",
     "output_type": "stream",
     "text": [
      "\r\u001b[32mProgress: Tumor size  9616 \t Time: 0:00:29\u001b[39m\u001b[K"
     ]
    },
    {
     "name": "stderr",
     "output_type": "stream",
     "text": [
      "\r\u001b[32mProgress: Tumor size  9631 \t Time: 0:00:29\u001b[39m\u001b[K"
     ]
    },
    {
     "name": "stderr",
     "output_type": "stream",
     "text": [
      "\r\u001b[32mProgress: Tumor size  9646 \t Time: 0:00:29\u001b[39m\u001b[K"
     ]
    },
    {
     "name": "stderr",
     "output_type": "stream",
     "text": [
      "\r\u001b[32mProgress: Tumor size  9661 \t Time: 0:00:29\u001b[39m\u001b[K"
     ]
    },
    {
     "name": "stderr",
     "output_type": "stream",
     "text": [
      "\r\u001b[32mProgress: Tumor size  9678 \t Time: 0:00:29\u001b[39m\u001b[K"
     ]
    },
    {
     "name": "stderr",
     "output_type": "stream",
     "text": [
      "\r\u001b[32mProgress: Tumor size  9695 \t Time: 0:00:29\u001b[39m\u001b[K"
     ]
    },
    {
     "name": "stderr",
     "output_type": "stream",
     "text": [
      "\r\u001b[32mProgress: Tumor size  9712 \t Time: 0:00:29\u001b[39m\u001b[K"
     ]
    },
    {
     "name": "stderr",
     "output_type": "stream",
     "text": [
      "\r\u001b[32mProgress: Tumor size  9736 \t Time: 0:00:29\u001b[39m\u001b[K"
     ]
    },
    {
     "name": "stderr",
     "output_type": "stream",
     "text": [
      "\r\u001b[32mProgress: Tumor size  9757 \t Time: 0:00:30\u001b[39m\u001b[K"
     ]
    },
    {
     "name": "stderr",
     "output_type": "stream",
     "text": [
      "\r\u001b[32mProgress: Tumor size  9774 \t Time: 0:00:30\u001b[39m\u001b[K"
     ]
    },
    {
     "name": "stderr",
     "output_type": "stream",
     "text": [
      "\r\u001b[32mProgress: Tumor size  9790 \t Time: 0:00:30\u001b[39m\u001b[K"
     ]
    },
    {
     "name": "stderr",
     "output_type": "stream",
     "text": [
      "\r\u001b[32mProgress: Tumor size  9803 \t Time: 0:00:30\u001b[39m\u001b[K"
     ]
    },
    {
     "name": "stderr",
     "output_type": "stream",
     "text": [
      "\r\u001b[32mProgress: Tumor size  9819 \t Time: 0:00:30\u001b[39m\u001b[K"
     ]
    },
    {
     "name": "stderr",
     "output_type": "stream",
     "text": [
      "\r\u001b[32mProgress: Tumor size  9835 \t Time: 0:00:30\u001b[39m\u001b[K"
     ]
    },
    {
     "name": "stderr",
     "output_type": "stream",
     "text": [
      "\r\u001b[32mProgress: Tumor size  9854 \t Time: 0:00:30\u001b[39m\u001b[K"
     ]
    },
    {
     "name": "stderr",
     "output_type": "stream",
     "text": [
      "\r\u001b[32mProgress: Tumor size  9869 \t Time: 0:00:30\u001b[39m\u001b[K"
     ]
    },
    {
     "name": "stderr",
     "output_type": "stream",
     "text": [
      "\r\u001b[32mProgress: Tumor size  9885 \t Time: 0:00:31\u001b[39m\u001b[K"
     ]
    },
    {
     "name": "stderr",
     "output_type": "stream",
     "text": [
      "\r\u001b[32mProgress: Tumor size  9903 \t Time: 0:00:31\u001b[39m\u001b[K"
     ]
    },
    {
     "name": "stderr",
     "output_type": "stream",
     "text": [
      "\r\u001b[32mProgress: Tumor size  9921 \t Time: 0:00:31\u001b[39m\u001b[K"
     ]
    },
    {
     "name": "stderr",
     "output_type": "stream",
     "text": [
      "\r\u001b[32mProgress: Tumor size  9951 \t Time: 0:00:31\u001b[39m\u001b[K"
     ]
    },
    {
     "name": "stderr",
     "output_type": "stream",
     "text": [
      "\r\u001b[32mProgress: Tumor size  9970 \t Time: 0:00:31\u001b[39m\u001b[K"
     ]
    },
    {
     "name": "stderr",
     "output_type": "stream",
     "text": [
      "\r\u001b[32mProgress: Tumor size  9986 \t Time: 0:00:31\u001b[39m\u001b[K"
     ]
    },
    {
     "name": "stderr",
     "output_type": "stream",
     "text": [
      "\r\u001b[32mProgress: Tumor size  9998 \t Time: 0:00:31\u001b[39m\u001b[K"
     ]
    },
    {
     "name": "stderr",
     "output_type": "stream",
     "text": [
      "\r\u001b[32mProgress: Tumor size  694 \t Time: 0:00:00\u001b[39m\u001b[K"
     ]
    },
    {
     "name": "stderr",
     "output_type": "stream",
     "text": [
      "\r\u001b[32mProgress: Tumor size  1091 \t Time: 0:00:00\u001b[39m\u001b[K"
     ]
    },
    {
     "name": "stderr",
     "output_type": "stream",
     "text": [
      "\r\u001b[32mProgress: Tumor size  1387 \t Time: 0:00:00\u001b[39m\u001b[K"
     ]
    },
    {
     "name": "stderr",
     "output_type": "stream",
     "text": [
      "\r"
     ]
    },
    {
     "name": "stderr",
     "output_type": "stream",
     "text": [
      "\u001b[32mProgress: Tumor size  1602 \t Time: 0:00:00\u001b[39m\u001b[K"
     ]
    },
    {
     "name": "stderr",
     "output_type": "stream",
     "text": [
      "\r\u001b[32mProgress: Tumor size  1707 \t Time: 0:00:00\u001b[39m\u001b[K"
     ]
    },
    {
     "name": "stderr",
     "output_type": "stream",
     "text": [
      "\r\u001b[32mProgress: Tumor size  1915 \t Time: 0:00:00\u001b[39m\u001b[K"
     ]
    },
    {
     "name": "stderr",
     "output_type": "stream",
     "text": [
      "\r\u001b[32mProgress: Tumor size  2105 \t Time: 0:00:00\u001b[39m\u001b[K"
     ]
    },
    {
     "name": "stderr",
     "output_type": "stream",
     "text": [
      "\r\u001b[32mProgress: Tumor size  2265 \t Time: 0:00:00\u001b[39m\u001b[K"
     ]
    },
    {
     "name": "stderr",
     "output_type": "stream",
     "text": [
      "\r\u001b[32mProgress: Tumor size  2399 \t Time: 0:00:00\u001b[39m\u001b[K"
     ]
    },
    {
     "name": "stderr",
     "output_type": "stream",
     "text": [
      "\r\u001b[32mProgress: Tumor size  2505 \t Time: 0:00:01\u001b[39m\u001b[K"
     ]
    },
    {
     "name": "stderr",
     "output_type": "stream",
     "text": [
      "\r\u001b[32mProgress: Tumor size  2612 \t Time: 0:00:01\u001b[39m\u001b[K"
     ]
    },
    {
     "name": "stderr",
     "output_type": "stream",
     "text": [
      "\r\u001b[32mProgress: Tumor size  2724 \t Time: 0:00:01\u001b[39m\u001b[K"
     ]
    },
    {
     "name": "stderr",
     "output_type": "stream",
     "text": [
      "\r\u001b[32mProgress: Tumor size  2815 \t Time: 0:00:01\u001b[39m\u001b[K"
     ]
    },
    {
     "name": "stderr",
     "output_type": "stream",
     "text": [
      "\r\u001b[32mProgress: Tumor size  2907 \t Time: 0:00:01\u001b[39m\u001b[K"
     ]
    },
    {
     "name": "stderr",
     "output_type": "stream",
     "text": [
      "\r\u001b[32mProgress: Tumor size  2995 \t Time: 0:00:01\u001b[39m\u001b[K"
     ]
    },
    {
     "data": {
      "text/html": [
       "<table class=\"data-frame\"><thead><tr><th></th><th>index</th><th>position</th><th>mutations</th><th>parent</th><th>b</th><th>t_birth</th><th>p_birth</th></tr><tr><th></th><th>Int64</th><th>Array…</th><th>Array…</th><th>Int64</th><th>Float64</th><th>Float64</th><th>Array…</th></tr></thead><tbody><p>3,000 rows × 7 columns</p><tr><th>1</th><td>1</td><td>[-4.99309, -0.210119]</td><td>[]</td><td>0</td><td>0.0</td><td>0.0</td><td>[0.0, 0.0]</td></tr><tr><th>2</th><td>2</td><td>[-4.00741, -2.24503]</td><td>[1]</td><td>1</td><td>0.0</td><td>1.57901</td><td>[-0.885364, -1.90424]</td></tr><tr><th>3</th><td>3</td><td>[8.62228, 4.74437]</td><td>[]</td><td>1</td><td>0.0</td><td>3.63686</td><td>[1.65175, 1.29681]</td></tr><tr><th>4</th><td>4</td><td>[-5.27558, 4.32129]</td><td>[]</td><td>1</td><td>0.0</td><td>4.63986</td><td>[-0.712605, 1.9754]</td></tr><tr><th>5</th><td>5</td><td>[0.460848, -2.33259]</td><td>[]</td><td>2</td><td>0.0</td><td>5.55456</td><td>[1.13115, -1.31801]</td></tr><tr><th>6</th><td>6</td><td>[3.07904, 0.976179]</td><td>[3]</td><td>5</td><td>0.0</td><td>5.59782</td><td>[0.675408, 0.731946]</td></tr><tr><th>7</th><td>7</td><td>[-9.02417, 1.39529]</td><td>[]</td><td>5</td><td>0.0</td><td>6.03764</td><td>[-0.429068, 0.0875972]</td></tr><tr><th>8</th><td>8</td><td>[-6.87356, 0.931727]</td><td>[4]</td><td>2</td><td>0.0</td><td>6.093</td><td>[-2.45618, -3.49453]</td></tr><tr><th>9</th><td>9</td><td>[-2.33587, -5.04031]</td><td>[1, 2]</td><td>2</td><td>0.0</td><td>6.35839</td><td>[-1.49891, -4.17566]</td></tr><tr><th>10</th><td>10</td><td>[4.3847, 2.76842]</td><td>[]</td><td>6</td><td>0.0</td><td>6.50379</td><td>[3.55084, 1.48789]</td></tr><tr><th>11</th><td>11</td><td>[-0.26556, -0.053497]</td><td>[1]</td><td>2</td><td>0.0</td><td>6.56291</td><td>[-0.335911, -0.146246]</td></tr><tr><th>12</th><td>12</td><td>[-0.707847, -6.69984]</td><td>[1, 8]</td><td>2</td><td>0.0</td><td>6.90159</td><td>[0.106887, -4.08225]</td></tr><tr><th>13</th><td>13</td><td>[6.47816, 4.25169]</td><td>[9]</td><td>4</td><td>0.0</td><td>7.39948</td><td>[1.13596, 5.52327]</td></tr><tr><th>14</th><td>14</td><td>[-6.95799, 3.22566]</td><td>[]</td><td>6</td><td>0.0</td><td>7.51609</td><td>[-0.532477, 1.82494]</td></tr><tr><th>15</th><td>15</td><td>[0.96612, 1.71619]</td><td>[3]</td><td>6</td><td>0.0</td><td>7.64366</td><td>[1.1744, 3.27513]</td></tr><tr><th>16</th><td>16</td><td>[-4.54008, -4.78385]</td><td>[10, 11]</td><td>8</td><td>0.0</td><td>7.8624</td><td>[-2.9437, -4.59139]</td></tr><tr><th>17</th><td>17</td><td>[0.550086, -9.36176]</td><td>[]</td><td>16</td><td>0.0</td><td>7.8825</td><td>[-1.10857, -5.61231]</td></tr><tr><th>18</th><td>18</td><td>[1.84372, -0.678743]</td><td>[1]</td><td>11</td><td>0.0</td><td>7.9659</td><td>[2.0848, -0.236796]</td></tr><tr><th>19</th><td>19</td><td>[-6.63432, -5.33697]</td><td>[27]</td><td>8</td><td>0.0</td><td>8.01279</td><td>[-5.67618, -2.53292]</td></tr><tr><th>20</th><td>20</td><td>[-5.04032, 10.7752]</td><td>[]</td><td>4</td><td>0.0</td><td>8.04141</td><td>[-2.82436, 6.01956]</td></tr><tr><th>21</th><td>21</td><td>[-10.299, -2.89737]</td><td>[14]</td><td>1</td><td>0.0</td><td>8.15351</td><td>[-4.36512, -1.40442]</td></tr><tr><th>22</th><td>22</td><td>[3.94041, 4.74474]</td><td>[]</td><td>3</td><td>0.0</td><td>8.355</td><td>[1.70963, 5.0146]</td></tr><tr><th>23</th><td>23</td><td>[-3.15134, 9.76854]</td><td>[]</td><td>13</td><td>0.0</td><td>8.42872</td><td>[0.364143, 9.04488]</td></tr><tr><th>24</th><td>24</td><td>[-3.24037, 1.09403]</td><td>[4]</td><td>8</td><td>0.0</td><td>8.76325</td><td>[-1.13436, -3.8371]</td></tr><tr><th>&vellip;</th><td>&vellip;</td><td>&vellip;</td><td>&vellip;</td><td>&vellip;</td><td>&vellip;</td><td>&vellip;</td><td>&vellip;</td></tr></tbody></table>"
      ],
      "text/latex": [
       "\\begin{tabular}{r|ccccccc}\n",
       "\t& index & position & mutations & parent & b & t\\_birth & p\\_birth\\\\\n",
       "\t\\hline\n",
       "\t& Int64 & Array… & Array… & Int64 & Float64 & Float64 & Array…\\\\\n",
       "\t\\hline\n",
       "\t1 & 1 & [-4.99309, -0.210119] & [] & 0 & 0.0 & 0.0 & [0.0, 0.0] \\\\\n",
       "\t2 & 2 & [-4.00741, -2.24503] & [1] & 1 & 0.0 & 1.57901 & [-0.885364, -1.90424] \\\\\n",
       "\t3 & 3 & [8.62228, 4.74437] & [] & 1 & 0.0 & 3.63686 & [1.65175, 1.29681] \\\\\n",
       "\t4 & 4 & [-5.27558, 4.32129] & [] & 1 & 0.0 & 4.63986 & [-0.712605, 1.9754] \\\\\n",
       "\t5 & 5 & [0.460848, -2.33259] & [] & 2 & 0.0 & 5.55456 & [1.13115, -1.31801] \\\\\n",
       "\t6 & 6 & [3.07904, 0.976179] & [3] & 5 & 0.0 & 5.59782 & [0.675408, 0.731946] \\\\\n",
       "\t7 & 7 & [-9.02417, 1.39529] & [] & 5 & 0.0 & 6.03764 & [-0.429068, 0.0875972] \\\\\n",
       "\t8 & 8 & [-6.87356, 0.931727] & [4] & 2 & 0.0 & 6.093 & [-2.45618, -3.49453] \\\\\n",
       "\t9 & 9 & [-2.33587, -5.04031] & [1, 2] & 2 & 0.0 & 6.35839 & [-1.49891, -4.17566] \\\\\n",
       "\t10 & 10 & [4.3847, 2.76842] & [] & 6 & 0.0 & 6.50379 & [3.55084, 1.48789] \\\\\n",
       "\t11 & 11 & [-0.26556, -0.053497] & [1] & 2 & 0.0 & 6.56291 & [-0.335911, -0.146246] \\\\\n",
       "\t12 & 12 & [-0.707847, -6.69984] & [1, 8] & 2 & 0.0 & 6.90159 & [0.106887, -4.08225] \\\\\n",
       "\t13 & 13 & [6.47816, 4.25169] & [9] & 4 & 0.0 & 7.39948 & [1.13596, 5.52327] \\\\\n",
       "\t14 & 14 & [-6.95799, 3.22566] & [] & 6 & 0.0 & 7.51609 & [-0.532477, 1.82494] \\\\\n",
       "\t15 & 15 & [0.96612, 1.71619] & [3] & 6 & 0.0 & 7.64366 & [1.1744, 3.27513] \\\\\n",
       "\t16 & 16 & [-4.54008, -4.78385] & [10, 11] & 8 & 0.0 & 7.8624 & [-2.9437, -4.59139] \\\\\n",
       "\t17 & 17 & [0.550086, -9.36176] & [] & 16 & 0.0 & 7.8825 & [-1.10857, -5.61231] \\\\\n",
       "\t18 & 18 & [1.84372, -0.678743] & [1] & 11 & 0.0 & 7.9659 & [2.0848, -0.236796] \\\\\n",
       "\t19 & 19 & [-6.63432, -5.33697] & [27] & 8 & 0.0 & 8.01279 & [-5.67618, -2.53292] \\\\\n",
       "\t20 & 20 & [-5.04032, 10.7752] & [] & 4 & 0.0 & 8.04141 & [-2.82436, 6.01956] \\\\\n",
       "\t21 & 21 & [-10.299, -2.89737] & [14] & 1 & 0.0 & 8.15351 & [-4.36512, -1.40442] \\\\\n",
       "\t22 & 22 & [3.94041, 4.74474] & [] & 3 & 0.0 & 8.355 & [1.70963, 5.0146] \\\\\n",
       "\t23 & 23 & [-3.15134, 9.76854] & [] & 13 & 0.0 & 8.42872 & [0.364143, 9.04488] \\\\\n",
       "\t24 & 24 & [-3.24037, 1.09403] & [4] & 8 & 0.0 & 8.76325 & [-1.13436, -3.8371] \\\\\n",
       "\t$\\dots$ & $\\dots$ & $\\dots$ & $\\dots$ & $\\dots$ & $\\dots$ & $\\dots$ & $\\dots$ \\\\\n",
       "\\end{tabular}\n"
      ],
      "text/plain": [
       "\u001b[1m3000×7 DataFrame\u001b[0m\n",
       "\u001b[1m  Row \u001b[0m│\u001b[1m index \u001b[0m\u001b[1m position              \u001b[0m\u001b[1m mutations                 \u001b[0m\u001b[1m parent \u001b[0m\u001b[1m b    \u001b[0m ⋯\n",
       "\u001b[1m      \u001b[0m│\u001b[90m Int64 \u001b[0m\u001b[90m Array…                \u001b[0m\u001b[90m Array…                    \u001b[0m\u001b[90m Int64  \u001b[0m\u001b[90m Float\u001b[0m ⋯\n",
       "──────┼─────────────────────────────────────────────────────────────────────────\n",
       "    1 │     1  [-4.99309, -0.210119]  Int64[]                         0  0.0   ⋯\n",
       "    2 │     2  [-4.00741, -2.24503]   [1]                             1  0.0\n",
       "    3 │     3  [8.62228, 4.74437]     Int64[]                         1  0.0\n",
       "    4 │     4  [-5.27558, 4.32129]    Int64[]                         1  0.0\n",
       "    5 │     5  [0.460848, -2.33259]   Int64[]                         2  0.0   ⋯\n",
       "    6 │     6  [3.07904, 0.976179]    [3]                             5  0.0\n",
       "    7 │     7  [-9.02417, 1.39529]    Int64[]                         5  0.0\n",
       "    8 │     8  [-6.87356, 0.931727]   [4]                             2  0.0\n",
       "  ⋮   │   ⋮              ⋮                        ⋮                ⋮         ⋮ ⋱\n",
       " 2994 │  2994  [16.2847, 59.0004]     [15, 36, 205, 449]           2894  0.593 ⋯\n",
       " 2995 │  2995  [52.3938, -29.9826]    [5, 16, 45, 67, 203, 326]    2883  0.055\n",
       " 2996 │  2996  [-64.0966, 26.3118]    [50, 86, 237, 274, 435]      2750  0.281\n",
       " 2997 │  2997  [-8.10074, -57.7699]   [74, 111, 360, 379]          2884  0.457\n",
       " 2998 │  2998  [-11.902, -51.0867]    [74, 111, 272, 302, 479]     2661  0.008 ⋯\n",
       " 2999 │  2999  [-64.7613, -13.748]    [50, 86, 228]                2101  0.443\n",
       " 3000 │  3000  [82.9536, 15.0524]     [7, 63, 204, 319]            2853  0.666\n",
       "\u001b[36m                                                 3 columns and 2985 rows omitted\u001b[0m"
      ]
     },
     "metadata": {},
     "output_type": "display_data"
    }
   ],
   "source": [
    "tumor1 = birth_death_pushing(10000; b=1.,d=0., μ=0.2, ρ=7., dim=3)[:tumor] |> DataFrame\n",
    "tumor2 = birth_death_pushing(10000; b=1.,d=0., μ=0.2, ρ=Inf, dim=3)[:tumor] |> DataFrame\n",
    "tumor3 = birth_death_pushing(3000; b=1.,d=0., μ=0.2, ρ=1.4, dim=2)[:tumor] |> DataFrame"
   ]
  },
  {
   "cell_type": "code",
   "execution_count": 18,
   "metadata": {},
   "outputs": [
    {
     "name": "stderr",
     "output_type": "stream",
     "text": [
      "┌ Warning: This method assumes mutations to be ordered by occurence!\n",
      "└ @ TumorGrowth c:\\Users\\ArmanAngaji\\OneDrive - Universität zu Köln\\Dokumente\\Uni-Köln\\Masterarbeit\\Workspace\\Julia_Master\\MasterProject_Julia\\TumorGrowth\\src\\analysis.jl:115\n"
     ]
    },
    {
     "name": "stderr",
     "output_type": "stream",
     "text": [
      "┌ Warning: This method assumes mutations to be ordered by occurence!\n",
      "└ @ TumorGrowth c:\\Users\\ArmanAngaji\\OneDrive - Universität zu Köln\\Dokumente\\Uni-Köln\\Masterarbeit\\Workspace\\Julia_Master\\MasterProject_Julia\\TumorGrowth\\src\\analysis.jl:115\n"
     ]
    },
    {
     "name": "stderr",
     "output_type": "stream",
     "text": [
      "┌ Warning: This method assumes mutations to be ordered by occurence!\n",
      "└ @ TumorGrowth c:\\Users\\ArmanAngaji\\OneDrive - Universität zu Köln\\Dokumente\\Uni-Köln\\Masterarbeit\\Workspace\\Julia_Master\\MasterProject_Julia\\TumorGrowth\\src\\analysis.jl:115\n"
     ]
    },
    {
     "data": {
      "text/plain": [
       "GLMakie.Screen(...)"
      ]
     },
     "metadata": {},
     "output_type": "display_data"
    }
   ],
   "source": [
    "scene = Scene(resolution = (1000, 1000), show_axis=false)\n",
    "t1 = plotting_colored_mutations!(scene, tumor1;\n",
    "        shading=true, colorpalette=cgrad(:reds)[0.4:0.1:1.] )\n",
    "t2 = plotting_colored_mutations!(scene, tumor2;\n",
    "        shading=true, colorpalette=cgrad(:blues)[0.4:0.1:1.] )[end]\n",
    "t3 = plotting_colored_mutations!(scene, tumor3;\n",
    "        shading=false, colorpalette=cgrad(:greens)[0.2:0.1:1.] )[end]\n",
    "translate!(t2, Vec3f0(100, 0, 0))\n",
    "translate!(t3, Vec3f0(50, 100, 0))\n",
    "scene |> display"
   ]
  },
  {
   "cell_type": "code",
   "execution_count": 19,
   "metadata": {},
   "outputs": [],
   "source": [
    "using GLMakie.MakieLayout"
   ]
  },
  {
   "cell_type": "code",
   "execution_count": 20,
   "metadata": {},
   "outputs": [
    {
     "name": "stderr",
     "output_type": "stream",
     "text": [
      "┌ Warning: This method assumes mutations to be ordered by occurence!\n",
      "└ @ TumorGrowth c:\\Users\\ArmanAngaji\\OneDrive - Universität zu Köln\\Dokumente\\Uni-Köln\\Masterarbeit\\Workspace\\Julia_Master\\MasterProject_Julia\\TumorGrowth\\src\\analysis.jl:115\n"
     ]
    },
    {
     "name": "stderr",
     "output_type": "stream",
     "text": [
      "┌ Warning: This method assumes mutations to be ordered by occurence!\n",
      "└ @ TumorGrowth c:\\Users\\ArmanAngaji\\OneDrive - Universität zu Köln\\Dokumente\\Uni-Köln\\Masterarbeit\\Workspace\\Julia_Master\\MasterProject_Julia\\TumorGrowth\\src\\analysis.jl:115\n"
     ]
    },
    {
     "name": "stderr",
     "output_type": "stream",
     "text": [
      "┌ Warning: This method assumes mutations to be ordered by occurence!\n",
      "└ @ TumorGrowth c:\\Users\\ArmanAngaji\\OneDrive - Universität zu Köln\\Dokumente\\Uni-Köln\\Masterarbeit\\Workspace\\Julia_Master\\MasterProject_Julia\\TumorGrowth\\src\\analysis.jl:115\n"
     ]
    },
    {
     "data": {
      "text/plain": [
       "GLMakie.Screen(...)"
      ]
     },
     "metadata": {},
     "output_type": "display_data"
    }
   ],
   "source": [
    "scene, layout = layoutscene(show_axis=false)\n",
    "layout[1, 1:2]  = ax1 = LScene(scene, camera = cam2d!, resolution=(500,500))\n",
    "layout[2, 1]  = ax2 = LScene(scene, camera = cam3d!, raw = false, show_axis=false, resolution=(500,500))\n",
    "layout[2, 2] = ax3 = LScene(scene, camera = cam3d!, raw = false, show_axis=false, resolution=(500,500))\n",
    "\n",
    "t1 = plotting_colored_mutations!(ax2, tumor1;\n",
    "        shading=true, colorpalette=cgrad(:reds)[0.4:0.1:1.] )\n",
    "t2 = plotting_colored_mutations!(ax3, tumor2;\n",
    "        shading=true, colorpalette=cgrad(:blues)[0.4:0.1:1.] )\n",
    "# b = deepcopy(tumor3); b.position ./= 1.8\n",
    "t3 = plotting_colored_mutations!(ax1, tumor3; markersize=1.1,\n",
    "        shading=false, colorpalette=cgrad(:greens)[0.2:0.1:1.] )\n",
    "\n",
    "scene |> display"
   ]
  },
  {
   "cell_type": "markdown",
   "metadata": {},
   "source": [
    "### *plotting sampletumors*"
   ]
  },
  {
   "cell_type": "code",
   "execution_count": 22,
   "metadata": {},
   "outputs": [
    {
     "name": "stdout",
     "output_type": "stream",
     "text": [
      "  2.327656 seconds (7.87 M allocations: 1.447 GiB, 9.64% gc time)\n"
     ]
    }
   ],
   "source": [
    "@time tumor = birth_death_pushing(3000; b=1., d=0.0, μ=0.5, ρ=1.6, dim=2, showprogress=false)[:tumor] |> DataFrame\n",
    "samples, sampletumor = multi_region_sequencing(tumor, n=50);"
   ]
  },
  {
   "cell_type": "code",
   "execution_count": 24,
   "metadata": {},
   "outputs": [],
   "source": [
    "plotting_sampletumor_pies(sampletumor, first=30, colorpalette = TumorGrowth.distinguishable_colors(30))"
   ]
  },
  {
   "cell_type": "code",
   "execution_count": 25,
   "metadata": {},
   "outputs": [],
   "source": [
    "plotting_sampletumor_pies(sampletumor, mutations = [1,10,55])"
   ]
  },
  {
   "cell_type": "markdown",
   "metadata": {},
   "source": [
    "## Sampling"
   ]
  },
  {
   "cell_type": "code",
   "execution_count": 26,
   "metadata": {},
   "outputs": [],
   "source": [
    "b = data_import(\"examples/test_2000_2d.csv\");"
   ]
  },
  {
   "cell_type": "code",
   "execution_count": 27,
   "metadata": {},
   "outputs": [
    {
     "name": "stderr",
     "output_type": "stream",
     "text": [
      "┌ Warning: This method assumes mutations to be ordered by occurence!\n",
      "└ @ TumorGrowth c:\\Users\\ArmanAngaji\\OneDrive - Universität zu Köln\\Dokumente\\Uni-Köln\\Masterarbeit\\Workspace\\Julia_Master\\MasterProject_Julia\\TumorGrowth\\src\\analysis.jl:115\n"
     ]
    }
   ],
   "source": [
    "fig = b |> plotting_colored_mutations\n",
    "cross_section(b; x=10., width=3.) |> data -> plotting!(fig, data; color=:black)\n",
    "cross_section(b; y=25., width=3.) |> data -> plotting!(fig, data; color=:black)\n",
    "radial_sample(b; r=30., width=3.) |> data -> plotting!(fig, data; color=:black)"
   ]
  },
  {
   "cell_type": "code",
   "execution_count": 28,
   "metadata": {},
   "outputs": [
    {
     "name": "stderr",
     "output_type": "stream",
     "text": [
      "┌ Warning: This method assumes mutations to be ordered by occurence!\n",
      "└ @ TumorGrowth c:\\Users\\ArmanAngaji\\OneDrive - Universität zu Köln\\Dokumente\\Uni-Köln\\Masterarbeit\\Workspace\\Julia_Master\\MasterProject_Julia\\TumorGrowth\\src\\analysis.jl:115\n"
     ]
    }
   ],
   "source": [
    "fig = b |> plotting_colored_mutations\n",
    "bulk(b; pos=(25.,0.), box=(20,30)) |> data -> plotting!(fig, data; color=:black)\n",
    "punch(b; pos=(-20,-20), r=10) |> data -> plotting!(fig, data; color=:black)"
   ]
  },
  {
   "cell_type": "code",
   "execution_count": 29,
   "metadata": {},
   "outputs": [
    {
     "name": "stderr",
     "output_type": "stream",
     "text": [
      "┌ Warning: This method assumes mutations to be ordered by occurence!\n",
      "└ @ TumorGrowth c:\\Users\\ArmanAngaji\\OneDrive - Universität zu Köln\\Dokumente\\Uni-Köln\\Masterarbeit\\Workspace\\Julia_Master\\MasterProject_Julia\\TumorGrowth\\src\\analysis.jl:115\n"
     ]
    }
   ],
   "source": [
    "b = data_import(\"examples/test_5000_3d.csv\")\n",
    "scene = b |> plotting_colored_mutations\n",
    "cross_section(b; x=10., width=3.) |> data -> plotting!(scene, data; shading=true, color=:black, path=\"examples/test_5000_3d.png\")\n",
    "cross_section(b; y=5., width=3.) |> data -> plotting!(scene, data; color=:black)"
   ]
  },
  {
   "cell_type": "markdown",
   "metadata": {},
   "source": [
    "## Analysis"
   ]
  },
  {
   "cell_type": "code",
   "execution_count": 30,
   "metadata": {},
   "outputs": [
    {
     "name": "stderr",
     "output_type": "stream",
     "text": [
      "WARNING: using Plots.translate! in module Main conflicts with an existing identifier.\n"
     ]
    }
   ],
   "source": [
    "using Plots, StatsBase, Statistics"
   ]
  },
  {
   "cell_type": "code",
   "execution_count": 31,
   "metadata": {},
   "outputs": [
    {
     "name": "stderr",
     "output_type": "stream",
     "text": [
      "\r\u001b[32mProgress: Tumor size  136 \t Time: 0:00:00\u001b[39m\u001b[K"
     ]
    },
    {
     "name": "stderr",
     "output_type": "stream",
     "text": [
      "\r\u001b[32mProgress: Tumor size  1186 \t Time: 0:00:00\u001b[39m\u001b[K"
     ]
    },
    {
     "name": "stderr",
     "output_type": "stream",
     "text": [
      "\r\u001b[32mProgress: Tumor size  1716 \t Time: 0:00:00\u001b[39m\u001b[K"
     ]
    },
    {
     "name": "stderr",
     "output_type": "stream",
     "text": [
      "\r\u001b[32mProgress: Tumor size  1906 \t Time: 0:00:00\u001b[39m\u001b[K"
     ]
    },
    {
     "name": "stderr",
     "output_type": "stream",
     "text": [
      "\r\u001b[32mProgress: Tumor size  2096 \t Time: 0:00:00\u001b[39m\u001b[K"
     ]
    },
    {
     "name": "stderr",
     "output_type": "stream",
     "text": [
      "\r\u001b[32mProgress: Tumor size  2243 \t Time: 0:00:01\u001b[39m\u001b[K"
     ]
    },
    {
     "name": "stderr",
     "output_type": "stream",
     "text": [
      "\r\u001b[32mProgress: Tumor size  2358 \t Time: 0:00:01\u001b[39m\u001b[K"
     ]
    },
    {
     "name": "stderr",
     "output_type": "stream",
     "text": [
      "\r\u001b[32mProgress: Tumor size  2473 \t Time: 0:00:01\u001b[39m\u001b[K"
     ]
    },
    {
     "name": "stderr",
     "output_type": "stream",
     "text": [
      "\r\u001b[32mProgress: Tumor size  2578 \t Time: 0:00:01\u001b[39m\u001b[K"
     ]
    },
    {
     "name": "stderr",
     "output_type": "stream",
     "text": [
      "\r\u001b[32mProgress: Tumor size  2672 \t Time: 0:00:01\u001b[39m\u001b[K"
     ]
    },
    {
     "name": "stderr",
     "output_type": "stream",
     "text": [
      "\r\u001b[32mProgress: Tumor size  2786 \t Time: 0:00:01\u001b[39m\u001b[K"
     ]
    },
    {
     "name": "stderr",
     "output_type": "stream",
     "text": [
      "\r\u001b[32mProgress: Tumor size  2896 \t Time: 0:00:01\u001b[39m\u001b[K"
     ]
    },
    {
     "name": "stderr",
     "output_type": "stream",
     "text": [
      "\r\u001b[32mProgress: Tumor size  2988 \t Time: 0:00:01\u001b[39m\u001b[K"
     ]
    },
    {
     "name": "stderr",
     "output_type": "stream",
     "text": [
      "\r\u001b[32mProgress: Tumor size  3080 \t Time: 0:00:01\u001b[39m\u001b[K"
     ]
    },
    {
     "name": "stderr",
     "output_type": "stream",
     "text": [
      "\r\u001b[32mProgress: Tumor size  3159 \t Time: 0:00:02\u001b[39m\u001b[K"
     ]
    },
    {
     "name": "stderr",
     "output_type": "stream",
     "text": [
      "\r\u001b[32mProgress: Tumor size  3235 \t Time: 0:00:02\u001b[39m\u001b[K"
     ]
    },
    {
     "name": "stderr",
     "output_type": "stream",
     "text": [
      "\r\u001b[32mProgress: Tumor size  3309 \t Time: 0:00:02\u001b[39m\u001b[K"
     ]
    },
    {
     "name": "stderr",
     "output_type": "stream",
     "text": [
      "\r\u001b[32mProgress: Tumor size  3376 \t Time: 0:00:02\u001b[39m\u001b[K"
     ]
    },
    {
     "name": "stderr",
     "output_type": "stream",
     "text": [
      "\r\u001b[32mProgress: Tumor size  3450 \t Time: 0:00:02\u001b[39m\u001b[K"
     ]
    },
    {
     "name": "stderr",
     "output_type": "stream",
     "text": [
      "\r\u001b[32mProgress: Tumor size  3521 \t Time: 0:00:02\u001b[39m\u001b[K"
     ]
    },
    {
     "name": "stderr",
     "output_type": "stream",
     "text": [
      "\r\u001b[32mProgress: Tumor size  3596 \t Time: 0:00:02\u001b[39m\u001b[K"
     ]
    },
    {
     "name": "stderr",
     "output_type": "stream",
     "text": [
      "\r\u001b[32mProgress: Tumor size  3673 \t Time: 0:00:02\u001b[39m\u001b[K"
     ]
    },
    {
     "name": "stderr",
     "output_type": "stream",
     "text": [
      "\r\u001b[32mProgress: Tumor size  3747 \t Time: 0:00:03\u001b[39m\u001b[K"
     ]
    },
    {
     "name": "stderr",
     "output_type": "stream",
     "text": [
      "\r\u001b[32mProgress: Tumor size  3804 \t Time: 0:00:03\u001b[39m\u001b[K"
     ]
    },
    {
     "name": "stderr",
     "output_type": "stream",
     "text": [
      "\r\u001b[32mProgress: Tumor size  3868 \t Time: 0:00:03\u001b[39m\u001b[K"
     ]
    },
    {
     "name": "stderr",
     "output_type": "stream",
     "text": [
      "\r\u001b[32mProgress: Tumor size  3929 \t Time: 0:00:03\u001b[39m\u001b[K"
     ]
    },
    {
     "name": "stderr",
     "output_type": "stream",
     "text": [
      "\r\u001b[32mProgress: Tumor size  3994 \t Time: 0:00:03\u001b[39m\u001b[K"
     ]
    },
    {
     "data": {
      "text/html": [
       "<table class=\"data-frame\"><thead><tr><th></th><th>index</th><th>position</th><th>mutations</th><th>parent</th><th>b</th><th>t_birth</th></tr><tr><th></th><th>Int64</th><th>Array…</th><th>Array…</th><th>Int64</th><th>Float64</th><th>Float64</th></tr></thead><tbody><p>4,000 rows × 7 columns (omitted printing of 1 columns)</p><tr><th>1</th><td>4</td><td>[-17.0279, -0.0944228, -3.1618]</td><td>[4]</td><td>2</td><td>1.0</td><td>4.87684</td></tr><tr><th>2</th><td>10</td><td>[-3.83604, 11.6934, -9.82333]</td><td>[5]</td><td>9</td><td>1.0</td><td>6.95355</td></tr><tr><th>3</th><td>13</td><td>[4.56276, 8.84815, 8.9415]</td><td>[7, 21]</td><td>9</td><td>1.0</td><td>7.63742</td></tr><tr><th>4</th><td>14</td><td>[11.529, 10.2096, -2.84196]</td><td>[11, 984]</td><td>13</td><td>1.0</td><td>7.64333</td></tr><tr><th>5</th><td>16</td><td>[9.56642, -14.8992, -1.81125]</td><td>[]</td><td>15</td><td>1.0</td><td>7.87434</td></tr><tr><th>6</th><td>18</td><td>[-6.63023, 17.424, 0.521025]</td><td>[843]</td><td>14</td><td>1.0</td><td>7.98299</td></tr><tr><th>7</th><td>21</td><td>[-2.66822, -13.0479, -5.78213]</td><td>[1, 119, 136]</td><td>2</td><td>1.0</td><td>8.02655</td></tr><tr><th>8</th><td>27</td><td>[1.66569, -7.22833, 10.8225]</td><td>[347]</td><td>13</td><td>1.0</td><td>8.22172</td></tr><tr><th>9</th><td>35</td><td>[10.3418, 1.6289, -1.88615]</td><td>[111]</td><td>27</td><td>1.0</td><td>8.65431</td></tr><tr><th>10</th><td>36</td><td>[-2.52588, -13.6937, 3.83041]</td><td>[1]</td><td>30</td><td>1.0</td><td>8.67403</td></tr><tr><th>11</th><td>38</td><td>[-6.10534, 21.9653, 8.3975]</td><td>[5]</td><td>29</td><td>1.0</td><td>8.78192</td></tr><tr><th>12</th><td>39</td><td>[-0.568238, -16.1745, 3.33601]</td><td>[1]</td><td>21</td><td>1.0</td><td>8.84906</td></tr><tr><th>13</th><td>41</td><td>[-2.93833, -1.7549, 12.6967]</td><td>[1, 23]</td><td>39</td><td>1.0</td><td>8.93499</td></tr><tr><th>14</th><td>42</td><td>[18.0469, 9.78564, 7.65049]</td><td>[33]</td><td>18</td><td>1.0</td><td>8.95399</td></tr><tr><th>15</th><td>45</td><td>[14.176, 0.742302, -4.41219]</td><td>[1, 9, 329]</td><td>30</td><td>1.0</td><td>9.04415</td></tr><tr><th>16</th><td>48</td><td>[11.8975, -3.91408, -0.640963]</td><td>[1, 14]</td><td>40</td><td>1.0</td><td>9.12393</td></tr><tr><th>17</th><td>49</td><td>[-4.07773, 14.585, 4.22995]</td><td>[]</td><td>14</td><td>1.0</td><td>9.13463</td></tr><tr><th>18</th><td>52</td><td>[-3.78627, 9.64907, 14.0916]</td><td>[73]</td><td>49</td><td>1.0</td><td>9.22466</td></tr><tr><th>19</th><td>53</td><td>[2.51944, 16.7997, 3.45747]</td><td>[11, 38, 98]</td><td>14</td><td>1.0</td><td>9.24933</td></tr><tr><th>20</th><td>55</td><td>[0.238853, 7.04951, -7.84552]</td><td>[5, 1156]</td><td>10</td><td>1.0</td><td>9.28369</td></tr><tr><th>21</th><td>59</td><td>[9.76079, 8.59899, -12.5274]</td><td>[11]</td><td>14</td><td>1.0</td><td>9.35323</td></tr><tr><th>22</th><td>60</td><td>[10.8996, 19.597, 5.10492]</td><td>[7]</td><td>54</td><td>1.0</td><td>9.35872</td></tr><tr><th>23</th><td>67</td><td>[-6.38881, 11.183, 8.70085]</td><td>[5]</td><td>63</td><td>1.0</td><td>9.44625</td></tr><tr><th>24</th><td>77</td><td>[15.8891, -4.77143, 8.06282]</td><td>[]</td><td>27</td><td>1.0</td><td>9.54965</td></tr><tr><th>&vellip;</th><td>&vellip;</td><td>&vellip;</td><td>&vellip;</td><td>&vellip;</td><td>&vellip;</td><td>&vellip;</td></tr></tbody></table>"
      ],
      "text/latex": [
       "\\begin{tabular}{r|ccccccc}\n",
       "\t& index & position & mutations & parent & b & t\\_birth & \\\\\n",
       "\t\\hline\n",
       "\t& Int64 & Array… & Array… & Int64 & Float64 & Float64 & \\\\\n",
       "\t\\hline\n",
       "\t1 & 4 & [-17.0279, -0.0944228, -3.1618] & [4] & 2 & 1.0 & 4.87684 & $\\dots$ \\\\\n",
       "\t2 & 10 & [-3.83604, 11.6934, -9.82333] & [5] & 9 & 1.0 & 6.95355 & $\\dots$ \\\\\n",
       "\t3 & 13 & [4.56276, 8.84815, 8.9415] & [7, 21] & 9 & 1.0 & 7.63742 & $\\dots$ \\\\\n",
       "\t4 & 14 & [11.529, 10.2096, -2.84196] & [11, 984] & 13 & 1.0 & 7.64333 & $\\dots$ \\\\\n",
       "\t5 & 16 & [9.56642, -14.8992, -1.81125] & [] & 15 & 1.0 & 7.87434 & $\\dots$ \\\\\n",
       "\t6 & 18 & [-6.63023, 17.424, 0.521025] & [843] & 14 & 1.0 & 7.98299 & $\\dots$ \\\\\n",
       "\t7 & 21 & [-2.66822, -13.0479, -5.78213] & [1, 119, 136] & 2 & 1.0 & 8.02655 & $\\dots$ \\\\\n",
       "\t8 & 27 & [1.66569, -7.22833, 10.8225] & [347] & 13 & 1.0 & 8.22172 & $\\dots$ \\\\\n",
       "\t9 & 35 & [10.3418, 1.6289, -1.88615] & [111] & 27 & 1.0 & 8.65431 & $\\dots$ \\\\\n",
       "\t10 & 36 & [-2.52588, -13.6937, 3.83041] & [1] & 30 & 1.0 & 8.67403 & $\\dots$ \\\\\n",
       "\t11 & 38 & [-6.10534, 21.9653, 8.3975] & [5] & 29 & 1.0 & 8.78192 & $\\dots$ \\\\\n",
       "\t12 & 39 & [-0.568238, -16.1745, 3.33601] & [1] & 21 & 1.0 & 8.84906 & $\\dots$ \\\\\n",
       "\t13 & 41 & [-2.93833, -1.7549, 12.6967] & [1, 23] & 39 & 1.0 & 8.93499 & $\\dots$ \\\\\n",
       "\t14 & 42 & [18.0469, 9.78564, 7.65049] & [33] & 18 & 1.0 & 8.95399 & $\\dots$ \\\\\n",
       "\t15 & 45 & [14.176, 0.742302, -4.41219] & [1, 9, 329] & 30 & 1.0 & 9.04415 & $\\dots$ \\\\\n",
       "\t16 & 48 & [11.8975, -3.91408, -0.640963] & [1, 14] & 40 & 1.0 & 9.12393 & $\\dots$ \\\\\n",
       "\t17 & 49 & [-4.07773, 14.585, 4.22995] & [] & 14 & 1.0 & 9.13463 & $\\dots$ \\\\\n",
       "\t18 & 52 & [-3.78627, 9.64907, 14.0916] & [73] & 49 & 1.0 & 9.22466 & $\\dots$ \\\\\n",
       "\t19 & 53 & [2.51944, 16.7997, 3.45747] & [11, 38, 98] & 14 & 1.0 & 9.24933 & $\\dots$ \\\\\n",
       "\t20 & 55 & [0.238853, 7.04951, -7.84552] & [5, 1156] & 10 & 1.0 & 9.28369 & $\\dots$ \\\\\n",
       "\t21 & 59 & [9.76079, 8.59899, -12.5274] & [11] & 14 & 1.0 & 9.35323 & $\\dots$ \\\\\n",
       "\t22 & 60 & [10.8996, 19.597, 5.10492] & [7] & 54 & 1.0 & 9.35872 & $\\dots$ \\\\\n",
       "\t23 & 67 & [-6.38881, 11.183, 8.70085] & [5] & 63 & 1.0 & 9.44625 & $\\dots$ \\\\\n",
       "\t24 & 77 & [15.8891, -4.77143, 8.06282] & [] & 27 & 1.0 & 9.54965 & $\\dots$ \\\\\n",
       "\t$\\dots$ & $\\dots$ & $\\dots$ & $\\dots$ & $\\dots$ & $\\dots$ & $\\dots$ &  \\\\\n",
       "\\end{tabular}\n"
      ],
      "text/plain": [
       "\u001b[1m4000×7 DataFrame\u001b[0m\n",
       "\u001b[1m  Row \u001b[0m│\u001b[1m index \u001b[0m\u001b[1m position                        \u001b[0m\u001b[1m mutations                     \u001b[0m\u001b[1m\u001b[0m ⋯\n",
       "\u001b[1m      \u001b[0m│\u001b[90m Int64 \u001b[0m\u001b[90m Array…                          \u001b[0m\u001b[90m Array…                        \u001b[0m\u001b[90m\u001b[0m ⋯\n",
       "──────┼─────────────────────────────────────────────────────────────────────────\n",
       "    1 │     4  [-17.0279, -0.0944228, -3.1618]  [4]                            ⋯\n",
       "    2 │    10  [-3.83604, 11.6934, -9.82333]    [5]\n",
       "    3 │    13  [4.56276, 8.84815, 8.9415]       [7, 21]\n",
       "    4 │    14  [11.529, 10.2096, -2.84196]      [11, 984]\n",
       "    5 │    16  [9.56642, -14.8992, -1.81125]    Int64[]                        ⋯\n",
       "    6 │    18  [-6.63023, 17.424, 0.521025]     [843]\n",
       "    7 │    21  [-2.66822, -13.0479, -5.78213]   [1, 119, 136]\n",
       "    8 │    27  [1.66569, -7.22833, 10.8225]     [347]\n",
       "  ⋮   │   ⋮                   ⋮                               ⋮                ⋱\n",
       " 3994 │  4969  [-0.673374, -8.68505, 0.484497]  [1, 9]                         ⋯\n",
       " 3995 │  4970  [-4.37831, -4.30498, -17.83]     [1, 9, 415]\n",
       " 3996 │  4971  [3.46819, -2.73788, 14.1259]     [48, 92, 1459]\n",
       " 3997 │  4972  [-1.68272, 8.09834, -0.284231]   [651, 1388]\n",
       " 3998 │  4973  [-3.57423, -17.384, -2.23489]    [1, 106, 1296]                 ⋯\n",
       " 3999 │  4974  [0.0286978, 16.6713, 7.84193]    [11, 38, 99, 317, 318, 1461]\n",
       " 4000 │  4975  [-5.57216, 5.25419, 8.60072]     [5, 13]\n",
       "\u001b[36m                                                 4 columns and 3985 rows omitted\u001b[0m"
      ]
     },
     "metadata": {},
     "output_type": "display_data"
    }
   ],
   "source": [
    "params = (b=1., d=0.2, μ=0.3, ρ=Inf, dim=3)\n",
    "tumor = birth_death_pushing(4000; params...)[:tumor] |> DataFrame;"
   ]
  },
  {
   "cell_type": "code",
   "execution_count": 32,
   "metadata": {},
   "outputs": [
    {
     "data": {
      "text/plain": [
       "M (generic function with 1 method)"
      ]
     },
     "metadata": {},
     "output_type": "display_data"
    }
   ],
   "source": [
    "function M!(fig, f; res=0.0, nBins = 100, normalize=false, plotargs...)\n",
    "        hist = fit(Histogram, 1 ./ f[res.<f], nbins=nBins, closed=:left)\n",
    "        Mcounts = [ sum(hist.weights[1:n]) for n=1:length(hist.weights)]\n",
    "        Mcounts = normalize ? Mcounts ./ last(Mcounts) : Mcounts\n",
    "        Plots.plot!(fig, midpoints(hist.edges[1]), Mcounts; plotargs...)\n",
    "end\n",
    "M(f; res=0.0, nBins = 100, normalize=false, plotargs...) = M!(Plots.plot(), f; res=res, nBins = nBins, normalize=normalize, plotargs...)"
   ]
  },
  {
   "cell_type": "code",
   "execution_count": 33,
   "metadata": {},
   "outputs": [
    {
     "data": {
      "image/png": "[encoded data removed]",
      "image/svg+xml": "<?xml version=\"1.0\" encoding=\"utf-8\"?>\n<svg xmlns=\"http://www.w3.org/2000/svg\" xmlns:xlink=\"http://www.w3.org/1999/xlink\" width=\"600\" height=\"400\" viewBox=\"0 0 2400 1600\">\n<defs>\n  <clipPath id=\"clip040\">\n    <rect x=\"0\" y=\"0\" width=\"2400\" height=\"1600\"/>\n  </clipPath>\n</defs>\n<path clip-path=\"url(#clip040)\" d=\"\nM0 1600 L2400 1600 L2400 0 L0 0  Z\n  \" fill=\"#ffffff\" fill-rule=\"evenodd\" fill-opacity=\"1\"/>\n<defs>\n  <clipPath id=\"clip041\">\n    <rect x=\"480\" y=\"0\" width=\"1681\" height=\"1600\"/>\n  </clipPath>\n</defs>\n<path clip-path=\"url(#clip040)\" d=\"\nM235.283 1423.18 L2352.76 1423.18 L2352.76 47.2441 L235.283 47.2441  Z\n  \" fill=\"#ffffff\" fill-rule=\"evenodd\" fill-opacity=\"1\"/>\n<defs>\n  <clipPath id=\"clip042\">\n    <rect x=\"235\" y=\"47\" width=\"2118\" height=\"1377\"/>\n  </clipPath>\n</defs>\n<polyline clip-path=\"url(#clip042)\" style=\"stroke:#000000; stroke-linecap:butt; stroke-linejoin:round; stroke-width:2; stroke-opacity:0.1; fill:none\" points=\"\n  293.714,1423.18 293.714,47.2441 \n  \"/>\n<polyline clip-path=\"url(#clip042)\" style=\"stroke:#000000; stroke-linecap:butt; stroke-linejoin:round; stroke-width:2; stroke-opacity:0.1; fill:none\" points=\"\n  593.207,1423.18 593.207,47.2441 \n  \"/>\n<polyline clip-path=\"url(#clip042)\" style=\"stroke:#000000; stroke-linecap:butt; stroke-linejoin:round; stroke-width:2; stroke-opacity:0.1; fill:none\" points=\"\n  892.699,1423.18 892.699,47.2441 \n  \"/>\n<polyline clip-path=\"url(#clip042)\" style=\"stroke:#000000; stroke-linecap:butt; stroke-linejoin:round; stroke-width:2; stroke-opacity:0.1; fill:none\" points=\"\n  1192.19,1423.18 1192.19,47.2441 \n  \"/>\n<polyline clip-path=\"url(#clip042)\" style=\"stroke:#000000; stroke-linecap:butt; stroke-linejoin:round; stroke-width:2; stroke-opacity:0.1; fill:none\" points=\"\n  1491.68,1423.18 1491.68,47.2441 \n  \"/>\n<polyline clip-path=\"url(#clip042)\" style=\"stroke:#000000; stroke-linecap:butt; stroke-linejoin:round; stroke-width:2; stroke-opacity:0.1; fill:none\" points=\"\n  1791.18,1423.18 1791.18,47.2441 \n  \"/>\n<polyline clip-path=\"url(#clip042)\" style=\"stroke:#000000; stroke-linecap:butt; stroke-linejoin:round; stroke-width:2; stroke-opacity:0.1; fill:none\" points=\"\n  2090.67,1423.18 2090.67,47.2441 \n  \"/>\n<polyline clip-path=\"url(#clip040)\" style=\"stroke:#000000; stroke-linecap:butt; stroke-linejoin:round; stroke-width:4; stroke-opacity:1; fill:none\" points=\"\n  235.283,1423.18 2352.76,1423.18 \n  \"/>\n<polyline clip-path=\"url(#clip040)\" style=\"stroke:#000000; stroke-linecap:butt; stroke-linejoin:round; stroke-width:4; stroke-opacity:1; fill:none\" points=\"\n  293.714,1423.18 293.714,1406.67 \n  \"/>\n<polyline clip-path=\"url(#clip040)\" style=\"stroke:#000000; stroke-linecap:butt; stroke-linejoin:round; stroke-width:4; stroke-opacity:1; fill:none\" points=\"\n  593.207,1423.18 593.207,1406.67 \n  \"/>\n<polyline clip-path=\"url(#clip040)\" style=\"stroke:#000000; stroke-linecap:butt; stroke-linejoin:round; stroke-width:4; stroke-opacity:1; fill:none\" points=\"\n  892.699,1423.18 892.699,1406.67 \n  \"/>\n<polyline clip-path=\"url(#clip040)\" style=\"stroke:#000000; stroke-linecap:butt; stroke-linejoin:round; stroke-width:4; stroke-opacity:1; fill:none\" points=\"\n  1192.19,1423.18 1192.19,1406.67 \n  \"/>\n<polyline clip-path=\"url(#clip040)\" style=\"stroke:#000000; stroke-linecap:butt; stroke-linejoin:round; stroke-width:4; stroke-opacity:1; fill:none\" points=\"\n  1491.68,1423.18 1491.68,1406.67 \n  \"/>\n<polyline clip-path=\"url(#clip040)\" style=\"stroke:#000000; stroke-linecap:butt; stroke-linejoin:round; stroke-width:4; stroke-opacity:1; fill:none\" points=\"\n  1791.18,1423.18 1791.18,1406.67 \n  \"/>\n<polyline clip-path=\"url(#clip040)\" style=\"stroke:#000000; stroke-linecap:butt; stroke-linejoin:round; stroke-width:4; stroke-opacity:1; fill:none\" points=\"\n  2090.67,1423.18 2090.67,1406.67 \n  \"/>\n<path clip-path=\"url(#clip040)\" d=\"M293.714 1452.37 Q290.103 1452.37 288.274 1455.94 Q286.469 1459.48 286.469 1466.61 Q286.469 1473.71 288.274 1477.28 Q290.103 1480.82 293.714 1480.82 Q297.348 1480.82 299.154 1477.28 Q300.982 1473.71 300.982 1466.61 Q300.982 1459.48 299.154 1455.94 Q297.348 1452.37 293.714 1452.37 M293.714 1448.67 Q299.524 1448.67 302.58 1453.27 Q305.658 1457.86 305.658 1466.61 Q305.658 1475.33 302.58 1479.94 Q299.524 1484.52 293.714 1484.52 Q287.904 1484.52 284.825 1479.94 Q281.769 1475.33 281.769 1466.61 Q281.769 1457.86 284.825 1453.27 Q287.904 1448.67 293.714 1448.67 Z\" fill=\"#000000\" fill-rule=\"evenodd\" fill-opacity=\"1\" /><path clip-path=\"url(#clip040)\" d=\"M556.899 1479.92 L573.218 1479.92 L573.218 1483.85 L551.274 1483.85 L551.274 1479.92 Q553.936 1477.16 558.519 1472.53 Q563.126 1467.88 564.306 1466.54 Q566.552 1464.01 567.431 1462.28 Q568.334 1460.52 568.334 1458.83 Q568.334 1456.07 566.39 1454.34 Q564.468 1452.6 561.366 1452.6 Q559.167 1452.6 556.714 1453.37 Q554.283 1454.13 551.505 1455.68 L551.505 1450.96 Q554.329 1449.82 556.783 1449.25 Q559.237 1448.67 561.274 1448.67 Q566.644 1448.67 569.839 1451.35 Q573.033 1454.04 573.033 1458.53 Q573.033 1460.66 572.223 1462.58 Q571.436 1464.48 569.329 1467.07 Q568.751 1467.74 565.649 1470.96 Q562.547 1474.15 556.899 1479.92 Z\" fill=\"#000000\" fill-rule=\"evenodd\" fill-opacity=\"1\" /><path clip-path=\"url(#clip040)\" d=\"M593.033 1452.37 Q589.422 1452.37 587.593 1455.94 Q585.788 1459.48 585.788 1466.61 Q585.788 1473.71 587.593 1477.28 Q589.422 1480.82 593.033 1480.82 Q596.667 1480.82 598.473 1477.28 Q600.301 1473.71 600.301 1466.61 Q600.301 1459.48 598.473 1455.94 Q596.667 1452.37 593.033 1452.37 M593.033 1448.67 Q598.843 1448.67 601.899 1453.27 Q604.977 1457.86 604.977 1466.61 Q604.977 1475.33 601.899 1479.94 Q598.843 1484.52 593.033 1484.52 Q587.223 1484.52 584.144 1479.94 Q581.089 1475.33 581.089 1466.61 Q581.089 1457.86 584.144 1453.27 Q587.223 1448.67 593.033 1448.67 Z\" fill=\"#000000\" fill-rule=\"evenodd\" fill-opacity=\"1\" /><path clip-path=\"url(#clip040)\" d=\"M623.195 1452.37 Q619.584 1452.37 617.755 1455.94 Q615.949 1459.48 615.949 1466.61 Q615.949 1473.71 617.755 1477.28 Q619.584 1480.82 623.195 1480.82 Q626.829 1480.82 628.635 1477.28 Q630.463 1473.71 630.463 1466.61 Q630.463 1459.48 628.635 1455.94 Q626.829 1452.37 623.195 1452.37 M623.195 1448.67 Q629.005 1448.67 632.06 1453.27 Q635.139 1457.86 635.139 1466.61 Q635.139 1475.33 632.06 1479.94 Q629.005 1484.52 623.195 1484.52 Q617.385 1484.52 614.306 1479.94 Q611.25 1475.33 611.25 1466.61 Q611.25 1457.86 614.306 1453.27 Q617.385 1448.67 623.195 1448.67 Z\" fill=\"#000000\" fill-rule=\"evenodd\" fill-opacity=\"1\" /><path clip-path=\"url(#clip040)\" d=\"M865.79 1453.37 L853.984 1471.81 L865.79 1471.81 L865.79 1453.37 M864.563 1449.29 L870.442 1449.29 L870.442 1471.81 L875.373 1471.81 L875.373 1475.7 L870.442 1475.7 L870.442 1483.85 L865.79 1483.85 L865.79 1475.7 L850.188 1475.7 L850.188 1471.19 L864.563 1449.29 Z\" fill=\"#000000\" fill-rule=\"evenodd\" fill-opacity=\"1\" /><path clip-path=\"url(#clip040)\" d=\"M893.104 1452.37 Q889.493 1452.37 887.665 1455.94 Q885.859 1459.48 885.859 1466.61 Q885.859 1473.71 887.665 1477.28 Q889.493 1480.82 893.104 1480.82 Q896.739 1480.82 898.544 1477.28 Q900.373 1473.71 900.373 1466.61 Q900.373 1459.48 898.544 1455.94 Q896.739 1452.37 893.104 1452.37 M893.104 1448.67 Q898.914 1448.67 901.97 1453.27 Q905.049 1457.86 905.049 1466.61 Q905.049 1475.33 901.97 1479.94 Q898.914 1484.52 893.104 1484.52 Q887.294 1484.52 884.215 1479.94 Q881.16 1475.33 881.16 1466.61 Q881.16 1457.86 884.215 1453.27 Q887.294 1448.67 893.104 1448.67 Z\" fill=\"#000000\" fill-rule=\"evenodd\" fill-opacity=\"1\" /><path clip-path=\"url(#clip040)\" d=\"M923.266 1452.37 Q919.655 1452.37 917.826 1455.94 Q916.021 1459.48 916.021 1466.61 Q916.021 1473.71 917.826 1477.28 Q919.655 1480.82 923.266 1480.82 Q926.9 1480.82 928.706 1477.28 Q930.535 1473.71 930.535 1466.61 Q930.535 1459.48 928.706 1455.94 Q926.9 1452.37 923.266 1452.37 M923.266 1448.67 Q929.076 1448.67 932.132 1453.27 Q935.211 1457.86 935.211 1466.61 Q935.211 1475.33 932.132 1479.94 Q929.076 1484.52 923.266 1484.52 Q917.456 1484.52 914.377 1479.94 Q911.322 1475.33 911.322 1466.61 Q911.322 1457.86 914.377 1453.27 Q917.456 1448.67 923.266 1448.67 Z\" fill=\"#000000\" fill-rule=\"evenodd\" fill-opacity=\"1\" /><path clip-path=\"url(#clip040)\" d=\"M1162.52 1464.71 Q1159.37 1464.71 1157.52 1466.86 Q1155.69 1469.01 1155.69 1472.76 Q1155.69 1476.49 1157.52 1478.67 Q1159.37 1480.82 1162.52 1480.82 Q1165.66 1480.82 1167.49 1478.67 Q1169.34 1476.49 1169.34 1472.76 Q1169.34 1469.01 1167.49 1466.86 Q1165.66 1464.71 1162.52 1464.71 M1171.8 1450.06 L1171.8 1454.31 Q1170.04 1453.48 1168.23 1453.04 Q1166.45 1452.6 1164.69 1452.6 Q1160.06 1452.6 1157.61 1455.73 Q1155.18 1458.85 1154.83 1465.17 Q1156.2 1463.16 1158.26 1462.09 Q1160.32 1461 1162.79 1461 Q1168 1461 1171.01 1464.18 Q1174.04 1467.32 1174.04 1472.76 Q1174.04 1478.09 1170.9 1481.31 Q1167.75 1484.52 1162.52 1484.52 Q1156.52 1484.52 1153.35 1479.94 Q1150.18 1475.33 1150.18 1466.61 Q1150.18 1458.41 1154.07 1453.55 Q1157.96 1448.67 1164.51 1448.67 Q1166.27 1448.67 1168.05 1449.01 Q1169.85 1449.36 1171.8 1450.06 Z\" fill=\"#000000\" fill-rule=\"evenodd\" fill-opacity=\"1\" /><path clip-path=\"url(#clip040)\" d=\"M1192.1 1452.37 Q1188.49 1452.37 1186.66 1455.94 Q1184.85 1459.48 1184.85 1466.61 Q1184.85 1473.71 1186.66 1477.28 Q1188.49 1480.82 1192.1 1480.82 Q1195.73 1480.82 1197.54 1477.28 Q1199.37 1473.71 1199.37 1466.61 Q1199.37 1459.48 1197.54 1455.94 Q1195.73 1452.37 1192.1 1452.37 M1192.1 1448.67 Q1197.91 1448.67 1200.96 1453.27 Q1204.04 1457.86 1204.04 1466.61 Q1204.04 1475.33 1200.96 1479.94 Q1197.91 1484.52 1192.1 1484.52 Q1186.29 1484.52 1183.21 1479.94 Q1180.15 1475.33 1180.15 1466.61 Q1180.15 1457.86 1183.21 1453.27 Q1186.29 1448.67 1192.1 1448.67 Z\" fill=\"#000000\" fill-rule=\"evenodd\" fill-opacity=\"1\" /><path clip-path=\"url(#clip040)\" d=\"M1222.26 1452.37 Q1218.65 1452.37 1216.82 1455.94 Q1215.02 1459.48 1215.02 1466.61 Q1215.02 1473.71 1216.82 1477.28 Q1218.65 1480.82 1222.26 1480.82 Q1225.9 1480.82 1227.7 1477.28 Q1229.53 1473.71 1229.53 1466.61 Q1229.53 1459.48 1227.7 1455.94 Q1225.9 1452.37 1222.26 1452.37 M1222.26 1448.67 Q1228.07 1448.67 1231.13 1453.27 Q1234.21 1457.86 1234.21 1466.61 Q1234.21 1475.33 1231.13 1479.94 Q1228.07 1484.52 1222.26 1484.52 Q1216.45 1484.52 1213.37 1479.94 Q1210.32 1475.33 1210.32 1466.61 Q1210.32 1457.86 1213.37 1453.27 Q1216.45 1448.67 1222.26 1448.67 Z\" fill=\"#000000\" fill-rule=\"evenodd\" fill-opacity=\"1\" /><path clip-path=\"url(#clip040)\" d=\"M1461.48 1467.44 Q1458.14 1467.44 1456.22 1469.22 Q1454.32 1471 1454.32 1474.13 Q1454.32 1477.25 1456.22 1479.04 Q1458.14 1480.82 1461.48 1480.82 Q1464.81 1480.82 1466.73 1479.04 Q1468.65 1477.23 1468.65 1474.13 Q1468.65 1471 1466.73 1469.22 Q1464.83 1467.44 1461.48 1467.44 M1456.8 1465.45 Q1453.79 1464.71 1452.1 1462.65 Q1450.43 1460.59 1450.43 1457.63 Q1450.43 1453.48 1453.37 1451.07 Q1456.34 1448.67 1461.48 1448.67 Q1466.64 1448.67 1469.58 1451.07 Q1472.52 1453.48 1472.52 1457.63 Q1472.52 1460.59 1470.83 1462.65 Q1469.16 1464.71 1466.18 1465.45 Q1469.56 1466.24 1471.43 1468.53 Q1473.33 1470.82 1473.33 1474.13 Q1473.33 1479.15 1470.25 1481.84 Q1467.19 1484.52 1461.48 1484.52 Q1455.76 1484.52 1452.68 1481.84 Q1449.62 1479.15 1449.62 1474.13 Q1449.62 1470.82 1451.52 1468.53 Q1453.42 1466.24 1456.8 1465.45 M1455.09 1458.06 Q1455.09 1460.75 1456.75 1462.25 Q1458.44 1463.76 1461.48 1463.76 Q1464.49 1463.76 1466.18 1462.25 Q1467.89 1460.75 1467.89 1458.06 Q1467.89 1455.38 1466.18 1453.88 Q1464.49 1452.37 1461.48 1452.37 Q1458.44 1452.37 1456.75 1453.88 Q1455.09 1455.38 1455.09 1458.06 Z\" fill=\"#000000\" fill-rule=\"evenodd\" fill-opacity=\"1\" /><path clip-path=\"url(#clip040)\" d=\"M1491.64 1452.37 Q1488.03 1452.37 1486.2 1455.94 Q1484.39 1459.48 1484.39 1466.61 Q1484.39 1473.71 1486.2 1477.28 Q1488.03 1480.82 1491.64 1480.82 Q1495.27 1480.82 1497.08 1477.28 Q1498.91 1473.71 1498.91 1466.61 Q1498.91 1459.48 1497.08 1455.94 Q1495.27 1452.37 1491.64 1452.37 M1491.64 1448.67 Q1497.45 1448.67 1500.5 1453.27 Q1503.58 1457.86 1503.58 1466.61 Q1503.58 1475.33 1500.5 1479.94 Q1497.45 1484.52 1491.64 1484.52 Q1485.83 1484.52 1482.75 1479.94 Q1479.69 1475.33 1479.69 1466.61 Q1479.69 1457.86 1482.75 1453.27 Q1485.83 1448.67 1491.64 1448.67 Z\" fill=\"#000000\" fill-rule=\"evenodd\" fill-opacity=\"1\" /><path clip-path=\"url(#clip040)\" d=\"M1521.8 1452.37 Q1518.19 1452.37 1516.36 1455.94 Q1514.55 1459.48 1514.55 1466.61 Q1514.55 1473.71 1516.36 1477.28 Q1518.19 1480.82 1521.8 1480.82 Q1525.43 1480.82 1527.24 1477.28 Q1529.07 1473.71 1529.07 1466.61 Q1529.07 1459.48 1527.24 1455.94 Q1525.43 1452.37 1521.8 1452.37 M1521.8 1448.67 Q1527.61 1448.67 1530.67 1453.27 Q1533.74 1457.86 1533.74 1466.61 Q1533.74 1475.33 1530.67 1479.94 Q1527.61 1484.52 1521.8 1484.52 Q1515.99 1484.52 1512.91 1479.94 Q1509.86 1475.33 1509.86 1466.61 Q1509.86 1457.86 1512.91 1453.27 Q1515.99 1448.67 1521.8 1448.67 Z\" fill=\"#000000\" fill-rule=\"evenodd\" fill-opacity=\"1\" /><path clip-path=\"url(#clip040)\" d=\"M1735.7 1479.92 L1743.34 1479.92 L1743.34 1453.55 L1735.03 1455.22 L1735.03 1450.96 L1743.3 1449.29 L1747.97 1449.29 L1747.97 1479.92 L1755.61 1479.92 L1755.61 1483.85 L1735.7 1483.85 L1735.7 1479.92 Z\" fill=\"#000000\" fill-rule=\"evenodd\" fill-opacity=\"1\" /><path clip-path=\"url(#clip040)\" d=\"M1775.05 1452.37 Q1771.44 1452.37 1769.61 1455.94 Q1767.81 1459.48 1767.81 1466.61 Q1767.81 1473.71 1769.61 1477.28 Q1771.44 1480.82 1775.05 1480.82 Q1778.69 1480.82 1780.49 1477.28 Q1782.32 1473.71 1782.32 1466.61 Q1782.32 1459.48 1780.49 1455.94 Q1778.69 1452.37 1775.05 1452.37 M1775.05 1448.67 Q1780.86 1448.67 1783.92 1453.27 Q1787 1457.86 1787 1466.61 Q1787 1475.33 1783.92 1479.94 Q1780.86 1484.52 1775.05 1484.52 Q1769.24 1484.52 1766.17 1479.94 Q1763.11 1475.33 1763.11 1466.61 Q1763.11 1457.86 1766.17 1453.27 Q1769.24 1448.67 1775.05 1448.67 Z\" fill=\"#000000\" fill-rule=\"evenodd\" fill-opacity=\"1\" /><path clip-path=\"url(#clip040)\" d=\"M1805.22 1452.37 Q1801.61 1452.37 1799.78 1455.94 Q1797.97 1459.48 1797.97 1466.61 Q1797.97 1473.71 1799.78 1477.28 Q1801.61 1480.82 1805.22 1480.82 Q1808.85 1480.82 1810.66 1477.28 Q1812.48 1473.71 1812.48 1466.61 Q1812.48 1459.48 1810.66 1455.94 Q1808.85 1452.37 1805.22 1452.37 M1805.22 1448.67 Q1811.03 1448.67 1814.08 1453.27 Q1817.16 1457.86 1817.16 1466.61 Q1817.16 1475.33 1814.08 1479.94 Q1811.03 1484.52 1805.22 1484.52 Q1799.41 1484.52 1796.33 1479.94 Q1793.27 1475.33 1793.27 1466.61 Q1793.27 1457.86 1796.33 1453.27 Q1799.41 1448.67 1805.22 1448.67 Z\" fill=\"#000000\" fill-rule=\"evenodd\" fill-opacity=\"1\" /><path clip-path=\"url(#clip040)\" d=\"M1835.38 1452.37 Q1831.77 1452.37 1829.94 1455.94 Q1828.13 1459.48 1828.13 1466.61 Q1828.13 1473.71 1829.94 1477.28 Q1831.77 1480.82 1835.38 1480.82 Q1839.01 1480.82 1840.82 1477.28 Q1842.65 1473.71 1842.65 1466.61 Q1842.65 1459.48 1840.82 1455.94 Q1839.01 1452.37 1835.38 1452.37 M1835.38 1448.67 Q1841.19 1448.67 1844.24 1453.27 Q1847.32 1457.86 1847.32 1466.61 Q1847.32 1475.33 1844.24 1479.94 Q1841.19 1484.52 1835.38 1484.52 Q1829.57 1484.52 1826.49 1479.94 Q1823.43 1475.33 1823.43 1466.61 Q1823.43 1457.86 1826.49 1453.27 Q1829.57 1448.67 1835.38 1448.67 Z\" fill=\"#000000\" fill-rule=\"evenodd\" fill-opacity=\"1\" /><path clip-path=\"url(#clip040)\" d=\"M2035.2 1479.92 L2042.83 1479.92 L2042.83 1453.55 L2034.52 1455.22 L2034.52 1450.96 L2042.79 1449.29 L2047.46 1449.29 L2047.46 1479.92 L2055.1 1479.92 L2055.1 1483.85 L2035.2 1483.85 L2035.2 1479.92 Z\" fill=\"#000000\" fill-rule=\"evenodd\" fill-opacity=\"1\" /><path clip-path=\"url(#clip040)\" d=\"M2068.58 1479.92 L2084.89 1479.92 L2084.89 1483.85 L2062.95 1483.85 L2062.95 1479.92 Q2065.61 1477.16 2070.2 1472.53 Q2074.8 1467.88 2075.98 1466.54 Q2078.23 1464.01 2079.11 1462.28 Q2080.01 1460.52 2080.01 1458.83 Q2080.01 1456.07 2078.07 1454.34 Q2076.14 1452.6 2073.04 1452.6 Q2070.84 1452.6 2068.39 1453.37 Q2065.96 1454.13 2063.18 1455.68 L2063.18 1450.96 Q2066.01 1449.82 2068.46 1449.25 Q2070.91 1448.67 2072.95 1448.67 Q2078.32 1448.67 2081.51 1451.35 Q2084.71 1454.04 2084.71 1458.53 Q2084.71 1460.66 2083.9 1462.58 Q2083.11 1464.48 2081.01 1467.07 Q2080.43 1467.74 2077.33 1470.96 Q2074.22 1474.15 2068.58 1479.92 Z\" fill=\"#000000\" fill-rule=\"evenodd\" fill-opacity=\"1\" /><path clip-path=\"url(#clip040)\" d=\"M2104.71 1452.37 Q2101.1 1452.37 2099.27 1455.94 Q2097.46 1459.48 2097.46 1466.61 Q2097.46 1473.71 2099.27 1477.28 Q2101.1 1480.82 2104.71 1480.82 Q2108.34 1480.82 2110.15 1477.28 Q2111.98 1473.71 2111.98 1466.61 Q2111.98 1459.48 2110.15 1455.94 Q2108.34 1452.37 2104.71 1452.37 M2104.71 1448.67 Q2110.52 1448.67 2113.57 1453.27 Q2116.65 1457.86 2116.65 1466.61 Q2116.65 1475.33 2113.57 1479.94 Q2110.52 1484.52 2104.71 1484.52 Q2098.9 1484.52 2095.82 1479.94 Q2092.76 1475.33 2092.76 1466.61 Q2092.76 1457.86 2095.82 1453.27 Q2098.9 1448.67 2104.71 1448.67 Z\" fill=\"#000000\" fill-rule=\"evenodd\" fill-opacity=\"1\" /><path clip-path=\"url(#clip040)\" d=\"M2134.87 1452.37 Q2131.26 1452.37 2129.43 1455.94 Q2127.63 1459.48 2127.63 1466.61 Q2127.63 1473.71 2129.43 1477.28 Q2131.26 1480.82 2134.87 1480.82 Q2138.51 1480.82 2140.31 1477.28 Q2142.14 1473.71 2142.14 1466.61 Q2142.14 1459.48 2140.31 1455.94 Q2138.51 1452.37 2134.87 1452.37 M2134.87 1448.67 Q2140.68 1448.67 2143.74 1453.27 Q2146.82 1457.86 2146.82 1466.61 Q2146.82 1475.33 2143.74 1479.94 Q2140.68 1484.52 2134.87 1484.52 Q2129.06 1484.52 2125.98 1479.94 Q2122.93 1475.33 2122.93 1466.61 Q2122.93 1457.86 2125.98 1453.27 Q2129.06 1448.67 2134.87 1448.67 Z\" fill=\"#000000\" fill-rule=\"evenodd\" fill-opacity=\"1\" /><path clip-path=\"url(#clip040)\" d=\"M1254.71 1562.63 L1265.21 1562.63 L1265.21 1526.38 L1253.79 1528.67 L1253.79 1522.82 L1265.15 1520.52 L1271.58 1520.52 L1271.58 1562.63 L1282.08 1562.63 L1282.08 1568.04 L1254.71 1568.04 L1254.71 1562.63 Z\" fill=\"#000000\" fill-rule=\"evenodd\" fill-opacity=\"1\" /><path clip-path=\"url(#clip040)\" d=\"M1304.65 1520.52 L1310.06 1520.52 L1293.51 1574.09 L1288.1 1574.09 L1304.65 1520.52 Z\" fill=\"#000000\" fill-rule=\"evenodd\" fill-opacity=\"1\" /><path clip-path=\"url(#clip040)\" d=\"M1334.25 1518.52 L1334.25 1523.39 L1328.65 1523.39 Q1325.5 1523.39 1324.26 1524.66 Q1323.05 1525.93 1323.05 1529.24 L1323.05 1532.4 L1332.69 1532.4 L1332.69 1536.95 L1323.05 1536.95 L1323.05 1568.04 L1317.16 1568.04 L1317.16 1536.95 L1311.56 1536.95 L1311.56 1532.4 L1317.16 1532.4 L1317.16 1529.91 Q1317.16 1523.96 1319.93 1521.26 Q1322.7 1518.52 1328.71 1518.52 L1334.25 1518.52 Z\" fill=\"#000000\" fill-rule=\"evenodd\" fill-opacity=\"1\" /><polyline clip-path=\"url(#clip042)\" style=\"stroke:#000000; stroke-linecap:butt; stroke-linejoin:round; stroke-width:2; stroke-opacity:0.1; fill:none\" points=\"\n  235.283,1385.29 2352.76,1385.29 \n  \"/>\n<polyline clip-path=\"url(#clip042)\" style=\"stroke:#000000; stroke-linecap:butt; stroke-linejoin:round; stroke-width:2; stroke-opacity:0.1; fill:none\" points=\"\n  235.283,1104.1 2352.76,1104.1 \n  \"/>\n<polyline clip-path=\"url(#clip042)\" style=\"stroke:#000000; stroke-linecap:butt; stroke-linejoin:round; stroke-width:2; stroke-opacity:0.1; fill:none\" points=\"\n  235.283,822.909 2352.76,822.909 \n  \"/>\n<polyline clip-path=\"url(#clip042)\" style=\"stroke:#000000; stroke-linecap:butt; stroke-linejoin:round; stroke-width:2; stroke-opacity:0.1; fill:none\" points=\"\n  235.283,541.717 2352.76,541.717 \n  \"/>\n<polyline clip-path=\"url(#clip042)\" style=\"stroke:#000000; stroke-linecap:butt; stroke-linejoin:round; stroke-width:2; stroke-opacity:0.1; fill:none\" points=\"\n  235.283,260.525 2352.76,260.525 \n  \"/>\n<polyline clip-path=\"url(#clip040)\" style=\"stroke:#000000; stroke-linecap:butt; stroke-linejoin:round; stroke-width:4; stroke-opacity:1; fill:none\" points=\"\n  235.283,1423.18 235.283,47.2441 \n  \"/>\n<polyline clip-path=\"url(#clip040)\" style=\"stroke:#000000; stroke-linecap:butt; stroke-linejoin:round; stroke-width:4; stroke-opacity:1; fill:none\" points=\"\n  235.283,1385.29 260.693,1385.29 \n  \"/>\n<polyline clip-path=\"url(#clip040)\" style=\"stroke:#000000; stroke-linecap:butt; stroke-linejoin:round; stroke-width:4; stroke-opacity:1; fill:none\" points=\"\n  235.283,1104.1 260.693,1104.1 \n  \"/>\n<polyline clip-path=\"url(#clip040)\" style=\"stroke:#000000; stroke-linecap:butt; stroke-linejoin:round; stroke-width:4; stroke-opacity:1; fill:none\" points=\"\n  235.283,822.909 260.693,822.909 \n  \"/>\n<polyline clip-path=\"url(#clip040)\" style=\"stroke:#000000; stroke-linecap:butt; stroke-linejoin:round; stroke-width:4; stroke-opacity:1; fill:none\" points=\"\n  235.283,541.717 260.693,541.717 \n  \"/>\n<polyline clip-path=\"url(#clip040)\" style=\"stroke:#000000; stroke-linecap:butt; stroke-linejoin:round; stroke-width:4; stroke-opacity:1; fill:none\" points=\"\n  235.283,260.525 260.693,260.525 \n  \"/>\n<path clip-path=\"url(#clip040)\" d=\"M187.338 1371.09 Q183.727 1371.09 181.899 1374.66 Q180.093 1378.2 180.093 1385.33 Q180.093 1392.43 181.899 1396 Q183.727 1399.54 187.338 1399.54 Q190.973 1399.54 192.778 1396 Q194.607 1392.43 194.607 1385.33 Q194.607 1378.2 192.778 1374.66 Q190.973 1371.09 187.338 1371.09 M187.338 1367.39 Q193.149 1367.39 196.204 1371.99 Q199.283 1376.58 199.283 1385.33 Q199.283 1394.05 196.204 1398.66 Q193.149 1403.24 187.338 1403.24 Q181.528 1403.24 178.45 1398.66 Q175.394 1394.05 175.394 1385.33 Q175.394 1376.58 178.45 1371.99 Q181.528 1367.39 187.338 1367.39 Z\" fill=\"#000000\" fill-rule=\"evenodd\" fill-opacity=\"1\" /><path clip-path=\"url(#clip040)\" d=\"M117.825 1117.45 L125.464 1117.45 L125.464 1091.08 L117.154 1092.75 L117.154 1088.49 L125.418 1086.82 L130.093 1086.82 L130.093 1117.45 L137.732 1117.45 L137.732 1121.38 L117.825 1121.38 L117.825 1117.45 Z\" fill=\"#000000\" fill-rule=\"evenodd\" fill-opacity=\"1\" /><path clip-path=\"url(#clip040)\" d=\"M157.177 1089.9 Q153.566 1089.9 151.737 1093.46 Q149.931 1097.01 149.931 1104.14 Q149.931 1111.24 151.737 1114.81 Q153.566 1118.35 157.177 1118.35 Q160.811 1118.35 162.616 1114.81 Q164.445 1111.24 164.445 1104.14 Q164.445 1097.01 162.616 1093.46 Q160.811 1089.9 157.177 1089.9 M157.177 1086.2 Q162.987 1086.2 166.042 1090.8 Q169.121 1095.39 169.121 1104.14 Q169.121 1112.86 166.042 1117.47 Q162.987 1122.05 157.177 1122.05 Q151.366 1122.05 148.288 1117.47 Q145.232 1112.86 145.232 1104.14 Q145.232 1095.39 148.288 1090.8 Q151.366 1086.2 157.177 1086.2 Z\" fill=\"#000000\" fill-rule=\"evenodd\" fill-opacity=\"1\" /><path clip-path=\"url(#clip040)\" d=\"M187.338 1089.9 Q183.727 1089.9 181.899 1093.46 Q180.093 1097.01 180.093 1104.14 Q180.093 1111.24 181.899 1114.81 Q183.727 1118.35 187.338 1118.35 Q190.973 1118.35 192.778 1114.81 Q194.607 1111.24 194.607 1104.14 Q194.607 1097.01 192.778 1093.46 Q190.973 1089.9 187.338 1089.9 M187.338 1086.2 Q193.149 1086.2 196.204 1090.8 Q199.283 1095.39 199.283 1104.14 Q199.283 1112.86 196.204 1117.47 Q193.149 1122.05 187.338 1122.05 Q181.528 1122.05 178.45 1117.47 Q175.394 1112.86 175.394 1104.14 Q175.394 1095.39 178.45 1090.8 Q181.528 1086.2 187.338 1086.2 Z\" fill=\"#000000\" fill-rule=\"evenodd\" fill-opacity=\"1\" /><path clip-path=\"url(#clip040)\" d=\"M121.043 836.254 L137.362 836.254 L137.362 840.189 L115.418 840.189 L115.418 836.254 Q118.08 833.499 122.663 828.869 Q127.269 824.217 128.45 822.874 Q130.695 820.351 131.575 818.615 Q132.478 816.856 132.478 815.166 Q132.478 812.411 130.533 810.675 Q128.612 808.939 125.51 808.939 Q123.311 808.939 120.857 809.703 Q118.427 810.467 115.649 812.018 L115.649 807.295 Q118.473 806.161 120.927 805.582 Q123.38 805.004 125.418 805.004 Q130.788 805.004 133.982 807.689 Q137.177 810.374 137.177 814.865 Q137.177 816.994 136.367 818.916 Q135.579 820.814 133.473 823.406 Q132.894 824.078 129.792 827.295 Q126.691 830.49 121.043 836.254 Z\" fill=\"#000000\" fill-rule=\"evenodd\" fill-opacity=\"1\" /><path clip-path=\"url(#clip040)\" d=\"M157.177 808.707 Q153.566 808.707 151.737 812.272 Q149.931 815.814 149.931 822.943 Q149.931 830.05 151.737 833.615 Q153.566 837.156 157.177 837.156 Q160.811 837.156 162.616 833.615 Q164.445 830.05 164.445 822.943 Q164.445 815.814 162.616 812.272 Q160.811 808.707 157.177 808.707 M157.177 805.004 Q162.987 805.004 166.042 809.61 Q169.121 814.193 169.121 822.943 Q169.121 831.67 166.042 836.277 Q162.987 840.86 157.177 840.86 Q151.366 840.86 148.288 836.277 Q145.232 831.67 145.232 822.943 Q145.232 814.193 148.288 809.61 Q151.366 805.004 157.177 805.004 Z\" fill=\"#000000\" fill-rule=\"evenodd\" fill-opacity=\"1\" /><path clip-path=\"url(#clip040)\" d=\"M187.338 808.707 Q183.727 808.707 181.899 812.272 Q180.093 815.814 180.093 822.943 Q180.093 830.05 181.899 833.615 Q183.727 837.156 187.338 837.156 Q190.973 837.156 192.778 833.615 Q194.607 830.05 194.607 822.943 Q194.607 815.814 192.778 812.272 Q190.973 808.707 187.338 808.707 M187.338 805.004 Q193.149 805.004 196.204 809.61 Q199.283 814.193 199.283 822.943 Q199.283 831.67 196.204 836.277 Q193.149 840.86 187.338 840.86 Q181.528 840.86 178.45 836.277 Q175.394 831.67 175.394 822.943 Q175.394 814.193 178.45 809.61 Q181.528 805.004 187.338 805.004 Z\" fill=\"#000000\" fill-rule=\"evenodd\" fill-opacity=\"1\" /><path clip-path=\"url(#clip040)\" d=\"M131.181 540.363 Q134.538 541.08 136.413 543.349 Q138.311 545.617 138.311 548.95 Q138.311 554.066 134.792 556.867 Q131.274 559.668 124.793 559.668 Q122.617 559.668 120.302 559.228 Q118.01 558.812 115.556 557.955 L115.556 553.441 Q117.501 554.575 119.816 555.154 Q122.13 555.733 124.654 555.733 Q129.052 555.733 131.343 553.997 Q133.658 552.261 133.658 548.95 Q133.658 545.895 131.505 544.182 Q129.376 542.446 125.556 542.446 L121.529 542.446 L121.529 538.603 L125.742 538.603 Q129.191 538.603 131.019 537.238 Q132.848 535.849 132.848 533.256 Q132.848 530.594 130.95 529.182 Q129.075 527.747 125.556 527.747 Q123.635 527.747 121.436 528.164 Q119.237 528.58 116.598 529.46 L116.598 525.293 Q119.26 524.552 121.575 524.182 Q123.913 523.812 125.973 523.812 Q131.297 523.812 134.399 526.242 Q137.501 528.65 137.501 532.77 Q137.501 535.64 135.857 537.631 Q134.214 539.599 131.181 540.363 Z\" fill=\"#000000\" fill-rule=\"evenodd\" fill-opacity=\"1\" /><path clip-path=\"url(#clip040)\" d=\"M157.177 527.515 Q153.566 527.515 151.737 531.08 Q149.931 534.622 149.931 541.751 Q149.931 548.858 151.737 552.423 Q153.566 555.964 157.177 555.964 Q160.811 555.964 162.616 552.423 Q164.445 548.858 164.445 541.751 Q164.445 534.622 162.616 531.08 Q160.811 527.515 157.177 527.515 M157.177 523.812 Q162.987 523.812 166.042 528.418 Q169.121 533.001 169.121 541.751 Q169.121 550.478 166.042 555.085 Q162.987 559.668 157.177 559.668 Q151.366 559.668 148.288 555.085 Q145.232 550.478 145.232 541.751 Q145.232 533.001 148.288 528.418 Q151.366 523.812 157.177 523.812 Z\" fill=\"#000000\" fill-rule=\"evenodd\" fill-opacity=\"1\" /><path clip-path=\"url(#clip040)\" d=\"M187.338 527.515 Q183.727 527.515 181.899 531.08 Q180.093 534.622 180.093 541.751 Q180.093 548.858 181.899 552.423 Q183.727 555.964 187.338 555.964 Q190.973 555.964 192.778 552.423 Q194.607 548.858 194.607 541.751 Q194.607 534.622 192.778 531.08 Q190.973 527.515 187.338 527.515 M187.338 523.812 Q193.149 523.812 196.204 528.418 Q199.283 533.001 199.283 541.751 Q199.283 550.478 196.204 555.085 Q193.149 559.668 187.338 559.668 Q181.528 559.668 178.45 555.085 Q175.394 550.478 175.394 541.751 Q175.394 533.001 178.45 528.418 Q181.528 523.812 187.338 523.812 Z\" fill=\"#000000\" fill-rule=\"evenodd\" fill-opacity=\"1\" /><path clip-path=\"url(#clip040)\" d=\"M129.862 247.319 L118.056 265.768 L129.862 265.768 L129.862 247.319 M128.635 243.245 L134.515 243.245 L134.515 265.768 L139.445 265.768 L139.445 269.657 L134.515 269.657 L134.515 277.805 L129.862 277.805 L129.862 269.657 L114.26 269.657 L114.26 265.143 L128.635 243.245 Z\" fill=\"#000000\" fill-rule=\"evenodd\" fill-opacity=\"1\" /><path clip-path=\"url(#clip040)\" d=\"M157.177 246.323 Q153.566 246.323 151.737 249.888 Q149.931 253.43 149.931 260.559 Q149.931 267.666 151.737 271.231 Q153.566 274.772 157.177 274.772 Q160.811 274.772 162.616 271.231 Q164.445 267.666 164.445 260.559 Q164.445 253.43 162.616 249.888 Q160.811 246.323 157.177 246.323 M157.177 242.62 Q162.987 242.62 166.042 247.226 Q169.121 251.809 169.121 260.559 Q169.121 269.286 166.042 273.893 Q162.987 278.476 157.177 278.476 Q151.366 278.476 148.288 273.893 Q145.232 269.286 145.232 260.559 Q145.232 251.809 148.288 247.226 Q151.366 242.62 157.177 242.62 Z\" fill=\"#000000\" fill-rule=\"evenodd\" fill-opacity=\"1\" /><path clip-path=\"url(#clip040)\" d=\"M187.338 246.323 Q183.727 246.323 181.899 249.888 Q180.093 253.43 180.093 260.559 Q180.093 267.666 181.899 271.231 Q183.727 274.772 187.338 274.772 Q190.973 274.772 192.778 271.231 Q194.607 267.666 194.607 260.559 Q194.607 253.43 192.778 249.888 Q190.973 246.323 187.338 246.323 M187.338 242.62 Q193.149 242.62 196.204 247.226 Q199.283 251.809 199.283 260.559 Q199.283 269.286 196.204 273.893 Q193.149 278.476 187.338 278.476 Q181.528 278.476 178.45 273.893 Q175.394 269.286 175.394 260.559 Q175.394 251.809 178.45 247.226 Q181.528 242.62 187.338 242.62 Z\" fill=\"#000000\" fill-rule=\"evenodd\" fill-opacity=\"1\" /><path clip-path=\"url(#clip040)\" d=\"M16.4842 794.238 L16.4842 784.658 L48.8219 772.531 L16.4842 760.341 L16.4842 750.76 L64.0042 750.76 L64.0042 757.03 L22.277 757.03 L54.8694 769.284 L54.8694 775.746 L22.277 788 L64.0042 788 L64.0042 794.238 L16.4842 794.238 Z\" fill=\"#000000\" fill-rule=\"evenodd\" fill-opacity=\"1\" /><path clip-path=\"url(#clip040)\" d=\"M14.5426 724.183 Q21.8632 728.448 29.0246 730.517 Q36.186 732.586 43.5384 732.586 Q50.8908 732.586 58.1159 730.517 Q65.3091 728.417 72.5979 724.183 L72.5979 729.276 Q65.1182 734.05 57.8931 736.437 Q50.668 738.793 43.5384 738.793 Q36.4406 738.793 29.2474 736.437 Q22.0542 734.082 14.5426 729.276 L14.5426 724.183 Z\" fill=\"#000000\" fill-rule=\"evenodd\" fill-opacity=\"1\" /><path clip-path=\"url(#clip040)\" d=\"M14.479 694.774 L19.3487 694.774 L19.3487 700.376 Q19.3487 703.527 20.6219 704.768 Q21.895 705.977 25.2052 705.977 L28.3562 705.977 L28.3562 696.333 L32.9077 696.333 L32.9077 705.977 L64.0042 705.977 L64.0042 711.866 L32.9077 711.866 L32.9077 717.468 L28.3562 717.468 L28.3562 711.866 L25.8736 711.866 Q19.9216 711.866 17.2162 709.097 Q14.479 706.328 14.479 700.312 L14.479 694.774 Z\" fill=\"#000000\" fill-rule=\"evenodd\" fill-opacity=\"1\" /><path clip-path=\"url(#clip040)\" d=\"M14.5426 690.795 L14.5426 685.703 Q22.0542 680.928 29.2474 678.573 Q36.4406 676.186 43.5384 676.186 Q50.668 676.186 57.8931 678.573 Q65.1182 680.928 72.5979 685.703 L72.5979 690.795 Q65.3091 686.562 58.1159 684.493 Q50.8908 682.393 43.5384 682.393 Q36.186 682.393 29.0246 684.493 Q21.8632 686.562 14.5426 690.795 Z\" fill=\"#000000\" fill-rule=\"evenodd\" fill-opacity=\"1\" /><polyline clip-path=\"url(#clip042)\" style=\"stroke:#009af9; stroke-linecap:butt; stroke-linejoin:round; stroke-width:4; stroke-opacity:1; fill:none\" points=\"\n  301.201,1374.05 316.176,1365.61 331.15,1354.36 346.125,1343.11 361.1,1334.68 376.074,1329.05 391.049,1323.43 406.024,1309.37 420.998,1300.94 435.973,1298.12 \n  450.948,1286.88 465.922,1272.82 480.897,1264.38 495.871,1261.57 510.846,1253.13 525.821,1250.32 540.795,1239.07 555.77,1233.45 570.745,1222.2 585.719,1205.33 \n  600.694,1196.89 615.668,1188.46 630.643,1171.59 645.618,1168.77 660.592,1168.77 675.567,1154.72 690.542,1143.47 705.516,1143.47 720.491,1118.16 735.466,1118.16 \n  750.44,1090.04 765.415,1090.04 780.389,1090.04 795.364,1084.42 810.339,1084.42 825.313,1084.42 840.288,1050.67 855.263,1050.67 870.237,1050.67 885.212,1050.67 \n  900.187,1016.93 915.161,1016.93 930.136,1016.93 945.11,1016.93 960.085,969.129 975.06,969.129 990.034,969.129 1005.01,969.129 1019.98,969.129 1034.96,969.129 \n  1049.93,938.197 1064.91,938.197 1079.88,938.197 1094.86,938.197 1109.83,938.197 1124.81,938.197 1139.78,938.197 1154.76,856.652 1169.73,856.652 1184.7,856.652 \n  1199.68,856.652 1214.65,856.652 1229.63,856.652 1244.6,856.652 1259.58,856.652 1274.55,856.652 1289.53,763.858 1304.5,763.858 1319.48,763.858 1334.45,763.858 \n  1349.43,763.858 1364.4,763.858 1379.37,763.858 1394.35,763.858 1409.32,763.858 1424.3,763.858 1439.27,763.858 1454.25,763.858 1469.22,763.858 1484.2,763.858 \n  1499.17,614.827 1514.15,614.827 1529.12,614.827 1544.1,614.827 1559.07,614.827 1574.05,614.827 1589.02,614.827 1603.99,614.827 1618.97,614.827 1633.94,614.827 \n  1648.92,614.827 1663.89,614.827 1678.87,614.827 1693.84,614.827 1708.82,614.827 1723.79,614.827 1738.77,614.827 1753.74,614.827 1768.72,614.827 1783.69,614.827 \n  1798.66,417.992 1813.64,417.992 1828.61,417.992 1843.59,417.992 1858.56,417.992 1873.54,417.992 1888.51,417.992 1903.49,417.992 1918.46,417.992 1933.44,417.992 \n  1948.41,417.992 1963.39,417.992 1978.36,417.992 1993.33,417.992 2008.31,417.992 2023.28,417.992 2038.26,417.992 2053.23,417.992 2068.21,417.992 2083.18,417.992 \n  2098.16,417.992 2113.13,417.992 2128.11,417.992 2143.08,417.992 2158.06,417.992 2173.03,417.992 2188,417.992 2202.98,417.992 2217.95,417.992 2232.93,417.992 \n  2247.9,417.992 2262.88,417.992 2277.85,417.992 2292.83,86.1857 \n  \"/>\n<path clip-path=\"url(#clip042)\" d=\"M301.201 1380.05 L296.959 1378.29 L295.201 1374.05 L296.959 1369.8 L301.201 1368.05 L305.443 1369.8 L307.201 1374.05 L305.443 1378.29 Z\" fill=\"#009af9\" fill-rule=\"evenodd\" fill-opacity=\"1\" stroke=\"#000000\" stroke-opacity=\"1\" stroke-width=\"3.2\"/>\n<path clip-path=\"url(#clip042)\" d=\"M316.176 1371.61 L311.934 1369.85 L310.176 1365.61 L311.934 1361.37 L316.176 1359.61 L320.418 1361.37 L322.176 1365.61 L320.418 1369.85 Z\" fill=\"#009af9\" fill-rule=\"evenodd\" fill-opacity=\"1\" stroke=\"#000000\" stroke-opacity=\"1\" stroke-width=\"3.2\"/>\n<path clip-path=\"url(#clip042)\" d=\"M331.15 1360.36 L326.908 1358.6 L325.15 1354.36 L326.908 1350.12 L331.15 1348.36 L335.392 1350.12 L337.15 1354.36 L335.392 1358.6 Z\" fill=\"#009af9\" fill-rule=\"evenodd\" fill-opacity=\"1\" stroke=\"#000000\" stroke-opacity=\"1\" stroke-width=\"3.2\"/>\n<path clip-path=\"url(#clip042)\" d=\"M346.125 1349.11 L341.883 1347.36 L340.125 1343.11 L341.883 1338.87 L346.125 1337.11 L350.367 1338.87 L352.125 1343.11 L350.367 1347.36 Z\" fill=\"#009af9\" fill-rule=\"evenodd\" fill-opacity=\"1\" stroke=\"#000000\" stroke-opacity=\"1\" stroke-width=\"3.2\"/>\n<path clip-path=\"url(#clip042)\" d=\"M361.1 1340.68 L356.858 1338.92 L355.1 1334.68 L356.858 1330.44 L361.1 1328.68 L365.342 1330.44 L367.1 1334.68 L365.342 1338.92 Z\" fill=\"#009af9\" fill-rule=\"evenodd\" fill-opacity=\"1\" stroke=\"#000000\" stroke-opacity=\"1\" stroke-width=\"3.2\"/>\n<path clip-path=\"url(#clip042)\" d=\"M376.074 1335.05 L371.832 1333.3 L370.074 1329.05 L371.832 1324.81 L376.074 1323.05 L380.316 1324.81 L382.074 1329.05 L380.316 1333.3 Z\" fill=\"#009af9\" fill-rule=\"evenodd\" fill-opacity=\"1\" stroke=\"#000000\" stroke-opacity=\"1\" stroke-width=\"3.2\"/>\n<path clip-path=\"url(#clip042)\" d=\"M391.049 1329.43 L386.807 1327.67 L385.049 1323.43 L386.807 1319.19 L391.049 1317.43 L395.291 1319.19 L397.049 1323.43 L395.291 1327.67 Z\" fill=\"#009af9\" fill-rule=\"evenodd\" fill-opacity=\"1\" stroke=\"#000000\" stroke-opacity=\"1\" stroke-width=\"3.2\"/>\n<path clip-path=\"url(#clip042)\" d=\"M406.024 1315.37 L401.782 1313.61 L400.024 1309.37 L401.782 1305.13 L406.024 1303.37 L410.266 1305.13 L412.024 1309.37 L410.266 1313.61 Z\" fill=\"#009af9\" fill-rule=\"evenodd\" fill-opacity=\"1\" stroke=\"#000000\" stroke-opacity=\"1\" stroke-width=\"3.2\"/>\n<path clip-path=\"url(#clip042)\" d=\"M420.998 1306.94 L416.756 1305.18 L414.998 1300.94 L416.756 1296.69 L420.998 1294.94 L425.24 1296.69 L426.998 1300.94 L425.24 1305.18 Z\" fill=\"#009af9\" fill-rule=\"evenodd\" fill-opacity=\"1\" stroke=\"#000000\" stroke-opacity=\"1\" stroke-width=\"3.2\"/>\n<path clip-path=\"url(#clip042)\" d=\"M435.973 1304.12 L431.731 1302.37 L429.973 1298.12 L431.731 1293.88 L435.973 1292.12 L440.215 1293.88 L441.973 1298.12 L440.215 1302.37 Z\" fill=\"#009af9\" fill-rule=\"evenodd\" fill-opacity=\"1\" stroke=\"#000000\" stroke-opacity=\"1\" stroke-width=\"3.2\"/>\n<path clip-path=\"url(#clip042)\" d=\"M450.948 1292.88 L446.706 1291.12 L444.948 1286.88 L446.706 1282.63 L450.948 1280.88 L455.19 1282.63 L456.948 1286.88 L455.19 1291.12 Z\" fill=\"#009af9\" fill-rule=\"evenodd\" fill-opacity=\"1\" stroke=\"#000000\" stroke-opacity=\"1\" stroke-width=\"3.2\"/>\n<path clip-path=\"url(#clip042)\" d=\"M465.922 1278.82 L461.68 1277.06 L459.922 1272.82 L461.68 1268.57 L465.922 1266.82 L470.164 1268.57 L471.922 1272.82 L470.164 1277.06 Z\" fill=\"#009af9\" fill-rule=\"evenodd\" fill-opacity=\"1\" stroke=\"#000000\" stroke-opacity=\"1\" stroke-width=\"3.2\"/>\n<path clip-path=\"url(#clip042)\" d=\"M480.897 1270.38 L476.655 1268.62 L474.897 1264.38 L476.655 1260.14 L480.897 1258.38 L485.139 1260.14 L486.897 1264.38 L485.139 1268.62 Z\" fill=\"#009af9\" fill-rule=\"evenodd\" fill-opacity=\"1\" stroke=\"#000000\" stroke-opacity=\"1\" stroke-width=\"3.2\"/>\n<path clip-path=\"url(#clip042)\" d=\"M495.871 1267.57 L491.629 1265.81 L489.871 1261.57 L491.629 1257.33 L495.871 1255.57 L500.113 1257.33 L501.871 1261.57 L500.113 1265.81 Z\" fill=\"#009af9\" fill-rule=\"evenodd\" fill-opacity=\"1\" stroke=\"#000000\" stroke-opacity=\"1\" stroke-width=\"3.2\"/>\n<path clip-path=\"url(#clip042)\" d=\"M510.846 1259.13 L506.604 1257.37 L504.846 1253.13 L506.604 1248.89 L510.846 1247.13 L515.088 1248.89 L516.846 1253.13 L515.088 1257.37 Z\" fill=\"#009af9\" fill-rule=\"evenodd\" fill-opacity=\"1\" stroke=\"#000000\" stroke-opacity=\"1\" stroke-width=\"3.2\"/>\n<path clip-path=\"url(#clip042)\" d=\"M525.821 1256.32 L521.579 1254.56 L519.821 1250.32 L521.579 1246.08 L525.821 1244.32 L530.063 1246.08 L531.821 1250.32 L530.063 1254.56 Z\" fill=\"#009af9\" fill-rule=\"evenodd\" fill-opacity=\"1\" stroke=\"#000000\" stroke-opacity=\"1\" stroke-width=\"3.2\"/>\n<path clip-path=\"url(#clip042)\" d=\"M540.795 1245.07 L536.553 1243.31 L534.795 1239.07 L536.553 1234.83 L540.795 1233.07 L545.037 1234.83 L546.795 1239.07 L545.037 1243.31 Z\" fill=\"#009af9\" fill-rule=\"evenodd\" fill-opacity=\"1\" stroke=\"#000000\" stroke-opacity=\"1\" stroke-width=\"3.2\"/>\n<path clip-path=\"url(#clip042)\" d=\"M555.77 1239.45 L551.528 1237.69 L549.77 1233.45 L551.528 1229.21 L555.77 1227.45 L560.012 1229.21 L561.77 1233.45 L560.012 1237.69 Z\" fill=\"#009af9\" fill-rule=\"evenodd\" fill-opacity=\"1\" stroke=\"#000000\" stroke-opacity=\"1\" stroke-width=\"3.2\"/>\n<path clip-path=\"url(#clip042)\" d=\"M570.745 1228.2 L566.503 1226.44 L564.745 1222.2 L566.503 1217.96 L570.745 1216.2 L574.987 1217.96 L576.745 1222.2 L574.987 1226.44 Z\" fill=\"#009af9\" fill-rule=\"evenodd\" fill-opacity=\"1\" stroke=\"#000000\" stroke-opacity=\"1\" stroke-width=\"3.2\"/>\n<path clip-path=\"url(#clip042)\" d=\"M585.719 1211.33 L581.477 1209.57 L579.719 1205.33 L581.477 1201.09 L585.719 1199.33 L589.961 1201.09 L591.719 1205.33 L589.961 1209.57 Z\" fill=\"#009af9\" fill-rule=\"evenodd\" fill-opacity=\"1\" stroke=\"#000000\" stroke-opacity=\"1\" stroke-width=\"3.2\"/>\n<path clip-path=\"url(#clip042)\" d=\"M600.694 1202.89 L596.452 1201.14 L594.694 1196.89 L596.452 1192.65 L600.694 1190.89 L604.936 1192.65 L606.694 1196.89 L604.936 1201.14 Z\" fill=\"#009af9\" fill-rule=\"evenodd\" fill-opacity=\"1\" stroke=\"#000000\" stroke-opacity=\"1\" stroke-width=\"3.2\"/>\n<path clip-path=\"url(#clip042)\" d=\"M615.668 1194.46 L611.426 1192.7 L609.668 1188.46 L611.426 1184.22 L615.668 1182.46 L619.91 1184.22 L621.668 1188.46 L619.91 1192.7 Z\" fill=\"#009af9\" fill-rule=\"evenodd\" fill-opacity=\"1\" stroke=\"#000000\" stroke-opacity=\"1\" stroke-width=\"3.2\"/>\n<path clip-path=\"url(#clip042)\" d=\"M630.643 1177.59 L626.401 1175.83 L624.643 1171.59 L626.401 1167.34 L630.643 1165.59 L634.885 1167.34 L636.643 1171.59 L634.885 1175.83 Z\" fill=\"#009af9\" fill-rule=\"evenodd\" fill-opacity=\"1\" stroke=\"#000000\" stroke-opacity=\"1\" stroke-width=\"3.2\"/>\n<path clip-path=\"url(#clip042)\" d=\"M645.618 1174.77 L641.376 1173.02 L639.618 1168.77 L641.376 1164.53 L645.618 1162.77 L649.86 1164.53 L651.618 1168.77 L649.86 1173.02 Z\" fill=\"#009af9\" fill-rule=\"evenodd\" fill-opacity=\"1\" stroke=\"#000000\" stroke-opacity=\"1\" stroke-width=\"3.2\"/>\n<path clip-path=\"url(#clip042)\" d=\"M660.592 1174.77 L656.35 1173.02 L654.592 1168.77 L656.35 1164.53 L660.592 1162.77 L664.834 1164.53 L666.592 1168.77 L664.834 1173.02 Z\" fill=\"#009af9\" fill-rule=\"evenodd\" fill-opacity=\"1\" stroke=\"#000000\" stroke-opacity=\"1\" stroke-width=\"3.2\"/>\n<path clip-path=\"url(#clip042)\" d=\"M675.567 1160.72 L671.325 1158.96 L669.567 1154.72 L671.325 1150.47 L675.567 1148.72 L679.809 1150.47 L681.567 1154.72 L679.809 1158.96 Z\" fill=\"#009af9\" fill-rule=\"evenodd\" fill-opacity=\"1\" stroke=\"#000000\" stroke-opacity=\"1\" stroke-width=\"3.2\"/>\n<path clip-path=\"url(#clip042)\" d=\"M690.542 1149.47 L686.3 1147.71 L684.542 1143.47 L686.3 1139.23 L690.542 1137.47 L694.784 1139.23 L696.542 1143.47 L694.784 1147.71 Z\" fill=\"#009af9\" fill-rule=\"evenodd\" fill-opacity=\"1\" stroke=\"#000000\" stroke-opacity=\"1\" stroke-width=\"3.2\"/>\n<path clip-path=\"url(#clip042)\" d=\"M705.516 1149.47 L701.274 1147.71 L699.516 1143.47 L701.274 1139.23 L705.516 1137.47 L709.758 1139.23 L711.516 1143.47 L709.758 1147.71 Z\" fill=\"#009af9\" fill-rule=\"evenodd\" fill-opacity=\"1\" stroke=\"#000000\" stroke-opacity=\"1\" stroke-width=\"3.2\"/>\n<path clip-path=\"url(#clip042)\" d=\"M720.491 1124.16 L716.249 1122.4 L714.491 1118.16 L716.249 1113.92 L720.491 1112.16 L724.733 1113.92 L726.491 1118.16 L724.733 1122.4 Z\" fill=\"#009af9\" fill-rule=\"evenodd\" fill-opacity=\"1\" stroke=\"#000000\" stroke-opacity=\"1\" stroke-width=\"3.2\"/>\n<path clip-path=\"url(#clip042)\" d=\"M735.466 1124.16 L731.224 1122.4 L729.466 1118.16 L731.224 1113.92 L735.466 1112.16 L739.708 1113.92 L741.466 1118.16 L739.708 1122.4 Z\" fill=\"#009af9\" fill-rule=\"evenodd\" fill-opacity=\"1\" stroke=\"#000000\" stroke-opacity=\"1\" stroke-width=\"3.2\"/>\n<path clip-path=\"url(#clip042)\" d=\"M750.44 1096.04 L746.198 1094.28 L744.44 1090.04 L746.198 1085.8 L750.44 1084.04 L754.682 1085.8 L756.44 1090.04 L754.682 1094.28 Z\" fill=\"#009af9\" fill-rule=\"evenodd\" fill-opacity=\"1\" stroke=\"#000000\" stroke-opacity=\"1\" stroke-width=\"3.2\"/>\n<path clip-path=\"url(#clip042)\" d=\"M765.415 1096.04 L761.173 1094.28 L759.415 1090.04 L761.173 1085.8 L765.415 1084.04 L769.657 1085.8 L771.415 1090.04 L769.657 1094.28 Z\" fill=\"#009af9\" fill-rule=\"evenodd\" fill-opacity=\"1\" stroke=\"#000000\" stroke-opacity=\"1\" stroke-width=\"3.2\"/>\n<path clip-path=\"url(#clip042)\" d=\"M780.389 1096.04 L776.147 1094.28 L774.389 1090.04 L776.147 1085.8 L780.389 1084.04 L784.631 1085.8 L786.389 1090.04 L784.631 1094.28 Z\" fill=\"#009af9\" fill-rule=\"evenodd\" fill-opacity=\"1\" stroke=\"#000000\" stroke-opacity=\"1\" stroke-width=\"3.2\"/>\n<path clip-path=\"url(#clip042)\" d=\"M795.364 1090.42 L791.122 1088.66 L789.364 1084.42 L791.122 1080.18 L795.364 1078.42 L799.606 1080.18 L801.364 1084.42 L799.606 1088.66 Z\" fill=\"#009af9\" fill-rule=\"evenodd\" fill-opacity=\"1\" stroke=\"#000000\" stroke-opacity=\"1\" stroke-width=\"3.2\"/>\n<path clip-path=\"url(#clip042)\" d=\"M810.339 1090.42 L806.097 1088.66 L804.339 1084.42 L806.097 1080.18 L810.339 1078.42 L814.581 1080.18 L816.339 1084.42 L814.581 1088.66 Z\" fill=\"#009af9\" fill-rule=\"evenodd\" fill-opacity=\"1\" stroke=\"#000000\" stroke-opacity=\"1\" stroke-width=\"3.2\"/>\n<path clip-path=\"url(#clip042)\" d=\"M825.313 1090.42 L821.071 1088.66 L819.313 1084.42 L821.071 1080.18 L825.313 1078.42 L829.555 1080.18 L831.313 1084.42 L829.555 1088.66 Z\" fill=\"#009af9\" fill-rule=\"evenodd\" fill-opacity=\"1\" stroke=\"#000000\" stroke-opacity=\"1\" stroke-width=\"3.2\"/>\n<path clip-path=\"url(#clip042)\" d=\"M840.288 1056.67 L836.046 1054.92 L834.288 1050.67 L836.046 1046.43 L840.288 1044.67 L844.53 1046.43 L846.288 1050.67 L844.53 1054.92 Z\" fill=\"#009af9\" fill-rule=\"evenodd\" fill-opacity=\"1\" stroke=\"#000000\" stroke-opacity=\"1\" stroke-width=\"3.2\"/>\n<path clip-path=\"url(#clip042)\" d=\"M855.263 1056.67 L851.021 1054.92 L849.263 1050.67 L851.021 1046.43 L855.263 1044.67 L859.505 1046.43 L861.263 1050.67 L859.505 1054.92 Z\" fill=\"#009af9\" fill-rule=\"evenodd\" fill-opacity=\"1\" stroke=\"#000000\" stroke-opacity=\"1\" stroke-width=\"3.2\"/>\n<path clip-path=\"url(#clip042)\" d=\"M870.237 1056.67 L865.995 1054.92 L864.237 1050.67 L865.995 1046.43 L870.237 1044.67 L874.479 1046.43 L876.237 1050.67 L874.479 1054.92 Z\" fill=\"#009af9\" fill-rule=\"evenodd\" fill-opacity=\"1\" stroke=\"#000000\" stroke-opacity=\"1\" stroke-width=\"3.2\"/>\n<path clip-path=\"url(#clip042)\" d=\"M885.212 1056.67 L880.97 1054.92 L879.212 1050.67 L880.97 1046.43 L885.212 1044.67 L889.454 1046.43 L891.212 1050.67 L889.454 1054.92 Z\" fill=\"#009af9\" fill-rule=\"evenodd\" fill-opacity=\"1\" stroke=\"#000000\" stroke-opacity=\"1\" stroke-width=\"3.2\"/>\n<path clip-path=\"url(#clip042)\" d=\"M900.187 1022.93 L895.945 1021.17 L894.187 1016.93 L895.945 1012.69 L900.187 1010.93 L904.429 1012.69 L906.187 1016.93 L904.429 1021.17 Z\" fill=\"#009af9\" fill-rule=\"evenodd\" fill-opacity=\"1\" stroke=\"#000000\" stroke-opacity=\"1\" stroke-width=\"3.2\"/>\n<path clip-path=\"url(#clip042)\" d=\"M915.161 1022.93 L910.919 1021.17 L909.161 1016.93 L910.919 1012.69 L915.161 1010.93 L919.403 1012.69 L921.161 1016.93 L919.403 1021.17 Z\" fill=\"#009af9\" fill-rule=\"evenodd\" fill-opacity=\"1\" stroke=\"#000000\" stroke-opacity=\"1\" stroke-width=\"3.2\"/>\n<path clip-path=\"url(#clip042)\" d=\"M930.136 1022.93 L925.894 1021.17 L924.136 1016.93 L925.894 1012.69 L930.136 1010.93 L934.378 1012.69 L936.136 1016.93 L934.378 1021.17 Z\" fill=\"#009af9\" fill-rule=\"evenodd\" fill-opacity=\"1\" stroke=\"#000000\" stroke-opacity=\"1\" stroke-width=\"3.2\"/>\n<path clip-path=\"url(#clip042)\" d=\"M945.11 1022.93 L940.868 1021.17 L939.11 1016.93 L940.868 1012.69 L945.11 1010.93 L949.352 1012.69 L951.11 1016.93 L949.352 1021.17 Z\" fill=\"#009af9\" fill-rule=\"evenodd\" fill-opacity=\"1\" stroke=\"#000000\" stroke-opacity=\"1\" stroke-width=\"3.2\"/>\n<path clip-path=\"url(#clip042)\" d=\"M960.085 975.129 L955.843 973.371 L954.085 969.129 L955.843 964.887 L960.085 963.129 L964.327 964.887 L966.085 969.129 L964.327 973.371 Z\" fill=\"#009af9\" fill-rule=\"evenodd\" fill-opacity=\"1\" stroke=\"#000000\" stroke-opacity=\"1\" stroke-width=\"3.2\"/>\n<path clip-path=\"url(#clip042)\" d=\"M975.06 975.129 L970.818 973.371 L969.06 969.129 L970.818 964.887 L975.06 963.129 L979.302 964.887 L981.06 969.129 L979.302 973.371 Z\" fill=\"#009af9\" fill-rule=\"evenodd\" fill-opacity=\"1\" stroke=\"#000000\" stroke-opacity=\"1\" stroke-width=\"3.2\"/>\n<path clip-path=\"url(#clip042)\" d=\"M990.034 975.129 L985.792 973.371 L984.034 969.129 L985.792 964.887 L990.034 963.129 L994.276 964.887 L996.034 969.129 L994.276 973.371 Z\" fill=\"#009af9\" fill-rule=\"evenodd\" fill-opacity=\"1\" stroke=\"#000000\" stroke-opacity=\"1\" stroke-width=\"3.2\"/>\n<path clip-path=\"url(#clip042)\" d=\"M1005.01 975.129 L1000.77 973.371 L999.009 969.129 L1000.77 964.887 L1005.01 963.129 L1009.25 964.887 L1011.01 969.129 L1009.25 973.371 Z\" fill=\"#009af9\" fill-rule=\"evenodd\" fill-opacity=\"1\" stroke=\"#000000\" stroke-opacity=\"1\" stroke-width=\"3.2\"/>\n<path clip-path=\"url(#clip042)\" d=\"M1019.98 975.129 L1015.74 973.371 L1013.98 969.129 L1015.74 964.887 L1019.98 963.129 L1024.23 964.887 L1025.98 969.129 L1024.23 973.371 Z\" fill=\"#009af9\" fill-rule=\"evenodd\" fill-opacity=\"1\" stroke=\"#000000\" stroke-opacity=\"1\" stroke-width=\"3.2\"/>\n<path clip-path=\"url(#clip042)\" d=\"M1034.96 975.129 L1030.72 973.371 L1028.96 969.129 L1030.72 964.887 L1034.96 963.129 L1039.2 964.887 L1040.96 969.129 L1039.2 973.371 Z\" fill=\"#009af9\" fill-rule=\"evenodd\" fill-opacity=\"1\" stroke=\"#000000\" stroke-opacity=\"1\" stroke-width=\"3.2\"/>\n<path clip-path=\"url(#clip042)\" d=\"M1049.93 944.197 L1045.69 942.439 L1043.93 938.197 L1045.69 933.955 L1049.93 932.197 L1054.17 933.955 L1055.93 938.197 L1054.17 942.439 Z\" fill=\"#009af9\" fill-rule=\"evenodd\" fill-opacity=\"1\" stroke=\"#000000\" stroke-opacity=\"1\" stroke-width=\"3.2\"/>\n<path clip-path=\"url(#clip042)\" d=\"M1064.91 944.197 L1060.67 942.439 L1058.91 938.197 L1060.67 933.955 L1064.91 932.197 L1069.15 933.955 L1070.91 938.197 L1069.15 942.439 Z\" fill=\"#009af9\" fill-rule=\"evenodd\" fill-opacity=\"1\" stroke=\"#000000\" stroke-opacity=\"1\" stroke-width=\"3.2\"/>\n<path clip-path=\"url(#clip042)\" d=\"M1079.88 944.197 L1075.64 942.439 L1073.88 938.197 L1075.64 933.955 L1079.88 932.197 L1084.12 933.955 L1085.88 938.197 L1084.12 942.439 Z\" fill=\"#009af9\" fill-rule=\"evenodd\" fill-opacity=\"1\" stroke=\"#000000\" stroke-opacity=\"1\" stroke-width=\"3.2\"/>\n<path clip-path=\"url(#clip042)\" d=\"M1094.86 944.197 L1090.61 942.439 L1088.86 938.197 L1090.61 933.955 L1094.86 932.197 L1099.1 933.955 L1100.86 938.197 L1099.1 942.439 Z\" fill=\"#009af9\" fill-rule=\"evenodd\" fill-opacity=\"1\" stroke=\"#000000\" stroke-opacity=\"1\" stroke-width=\"3.2\"/>\n<path clip-path=\"url(#clip042)\" d=\"M1109.83 944.197 L1105.59 942.439 L1103.83 938.197 L1105.59 933.955 L1109.83 932.197 L1114.07 933.955 L1115.83 938.197 L1114.07 942.439 Z\" fill=\"#009af9\" fill-rule=\"evenodd\" fill-opacity=\"1\" stroke=\"#000000\" stroke-opacity=\"1\" stroke-width=\"3.2\"/>\n<path clip-path=\"url(#clip042)\" d=\"M1124.81 944.197 L1120.56 942.439 L1118.81 938.197 L1120.56 933.955 L1124.81 932.197 L1129.05 933.955 L1130.81 938.197 L1129.05 942.439 Z\" fill=\"#009af9\" fill-rule=\"evenodd\" fill-opacity=\"1\" stroke=\"#000000\" stroke-opacity=\"1\" stroke-width=\"3.2\"/>\n<path clip-path=\"url(#clip042)\" d=\"M1139.78 944.197 L1135.54 942.439 L1133.78 938.197 L1135.54 933.955 L1139.78 932.197 L1144.02 933.955 L1145.78 938.197 L1144.02 942.439 Z\" fill=\"#009af9\" fill-rule=\"evenodd\" fill-opacity=\"1\" stroke=\"#000000\" stroke-opacity=\"1\" stroke-width=\"3.2\"/>\n<path clip-path=\"url(#clip042)\" d=\"M1154.76 862.652 L1150.51 860.894 L1148.76 856.652 L1150.51 852.41 L1154.76 850.652 L1159 852.41 L1160.76 856.652 L1159 860.894 Z\" fill=\"#009af9\" fill-rule=\"evenodd\" fill-opacity=\"1\" stroke=\"#000000\" stroke-opacity=\"1\" stroke-width=\"3.2\"/>\n<path clip-path=\"url(#clip042)\" d=\"M1169.73 862.652 L1165.49 860.894 L1163.73 856.652 L1165.49 852.41 L1169.73 850.652 L1173.97 852.41 L1175.73 856.652 L1173.97 860.894 Z\" fill=\"#009af9\" fill-rule=\"evenodd\" fill-opacity=\"1\" stroke=\"#000000\" stroke-opacity=\"1\" stroke-width=\"3.2\"/>\n<path clip-path=\"url(#clip042)\" d=\"M1184.7 862.652 L1180.46 860.894 L1178.7 856.652 L1180.46 852.41 L1184.7 850.652 L1188.95 852.41 L1190.7 856.652 L1188.95 860.894 Z\" fill=\"#009af9\" fill-rule=\"evenodd\" fill-opacity=\"1\" stroke=\"#000000\" stroke-opacity=\"1\" stroke-width=\"3.2\"/>\n<path clip-path=\"url(#clip042)\" d=\"M1199.68 862.652 L1195.44 860.894 L1193.68 856.652 L1195.44 852.41 L1199.68 850.652 L1203.92 852.41 L1205.68 856.652 L1203.92 860.894 Z\" fill=\"#009af9\" fill-rule=\"evenodd\" fill-opacity=\"1\" stroke=\"#000000\" stroke-opacity=\"1\" stroke-width=\"3.2\"/>\n<path clip-path=\"url(#clip042)\" d=\"M1214.65 862.652 L1210.41 860.894 L1208.65 856.652 L1210.41 852.41 L1214.65 850.652 L1218.9 852.41 L1220.65 856.652 L1218.9 860.894 Z\" fill=\"#009af9\" fill-rule=\"evenodd\" fill-opacity=\"1\" stroke=\"#000000\" stroke-opacity=\"1\" stroke-width=\"3.2\"/>\n<path clip-path=\"url(#clip042)\" d=\"M1229.63 862.652 L1225.39 860.894 L1223.63 856.652 L1225.39 852.41 L1229.63 850.652 L1233.87 852.41 L1235.63 856.652 L1233.87 860.894 Z\" fill=\"#009af9\" fill-rule=\"evenodd\" fill-opacity=\"1\" stroke=\"#000000\" stroke-opacity=\"1\" stroke-width=\"3.2\"/>\n<path clip-path=\"url(#clip042)\" d=\"M1244.6 862.652 L1240.36 860.894 L1238.6 856.652 L1240.36 852.41 L1244.6 850.652 L1248.85 852.41 L1250.6 856.652 L1248.85 860.894 Z\" fill=\"#009af9\" fill-rule=\"evenodd\" fill-opacity=\"1\" stroke=\"#000000\" stroke-opacity=\"1\" stroke-width=\"3.2\"/>\n<path clip-path=\"url(#clip042)\" d=\"M1259.58 862.652 L1255.34 860.894 L1253.58 856.652 L1255.34 852.41 L1259.58 850.652 L1263.82 852.41 L1265.58 856.652 L1263.82 860.894 Z\" fill=\"#009af9\" fill-rule=\"evenodd\" fill-opacity=\"1\" stroke=\"#000000\" stroke-opacity=\"1\" stroke-width=\"3.2\"/>\n<path clip-path=\"url(#clip042)\" d=\"M1274.55 862.652 L1270.31 860.894 L1268.55 856.652 L1270.31 852.41 L1274.55 850.652 L1278.79 852.41 L1280.55 856.652 L1278.79 860.894 Z\" fill=\"#009af9\" fill-rule=\"evenodd\" fill-opacity=\"1\" stroke=\"#000000\" stroke-opacity=\"1\" stroke-width=\"3.2\"/>\n<path clip-path=\"url(#clip042)\" d=\"M1289.53 769.858 L1285.28 768.1 L1283.53 763.858 L1285.28 759.616 L1289.53 757.858 L1293.77 759.616 L1295.53 763.858 L1293.77 768.1 Z\" fill=\"#009af9\" fill-rule=\"evenodd\" fill-opacity=\"1\" stroke=\"#000000\" stroke-opacity=\"1\" stroke-width=\"3.2\"/>\n<path clip-path=\"url(#clip042)\" d=\"M1304.5 769.858 L1300.26 768.1 L1298.5 763.858 L1300.26 759.616 L1304.5 757.858 L1308.74 759.616 L1310.5 763.858 L1308.74 768.1 Z\" fill=\"#009af9\" fill-rule=\"evenodd\" fill-opacity=\"1\" stroke=\"#000000\" stroke-opacity=\"1\" stroke-width=\"3.2\"/>\n<path clip-path=\"url(#clip042)\" d=\"M1319.48 769.858 L1315.23 768.1 L1313.48 763.858 L1315.23 759.616 L1319.48 757.858 L1323.72 759.616 L1325.48 763.858 L1323.72 768.1 Z\" fill=\"#009af9\" fill-rule=\"evenodd\" fill-opacity=\"1\" stroke=\"#000000\" stroke-opacity=\"1\" stroke-width=\"3.2\"/>\n<path clip-path=\"url(#clip042)\" d=\"M1334.45 769.858 L1330.21 768.1 L1328.45 763.858 L1330.21 759.616 L1334.45 757.858 L1338.69 759.616 L1340.45 763.858 L1338.69 768.1 Z\" fill=\"#009af9\" fill-rule=\"evenodd\" fill-opacity=\"1\" stroke=\"#000000\" stroke-opacity=\"1\" stroke-width=\"3.2\"/>\n<path clip-path=\"url(#clip042)\" d=\"M1349.43 769.858 L1345.18 768.1 L1343.43 763.858 L1345.18 759.616 L1349.43 757.858 L1353.67 759.616 L1355.43 763.858 L1353.67 768.1 Z\" fill=\"#009af9\" fill-rule=\"evenodd\" fill-opacity=\"1\" stroke=\"#000000\" stroke-opacity=\"1\" stroke-width=\"3.2\"/>\n<path clip-path=\"url(#clip042)\" d=\"M1364.4 769.858 L1360.16 768.1 L1358.4 763.858 L1360.16 759.616 L1364.4 757.858 L1368.64 759.616 L1370.4 763.858 L1368.64 768.1 Z\" fill=\"#009af9\" fill-rule=\"evenodd\" fill-opacity=\"1\" stroke=\"#000000\" stroke-opacity=\"1\" stroke-width=\"3.2\"/>\n<path clip-path=\"url(#clip042)\" d=\"M1379.37 769.858 L1375.13 768.1 L1373.37 763.858 L1375.13 759.616 L1379.37 757.858 L1383.62 759.616 L1385.37 763.858 L1383.62 768.1 Z\" fill=\"#009af9\" fill-rule=\"evenodd\" fill-opacity=\"1\" stroke=\"#000000\" stroke-opacity=\"1\" stroke-width=\"3.2\"/>\n<path clip-path=\"url(#clip042)\" d=\"M1394.35 769.858 L1390.11 768.1 L1388.35 763.858 L1390.11 759.616 L1394.35 757.858 L1398.59 759.616 L1400.35 763.858 L1398.59 768.1 Z\" fill=\"#009af9\" fill-rule=\"evenodd\" fill-opacity=\"1\" stroke=\"#000000\" stroke-opacity=\"1\" stroke-width=\"3.2\"/>\n<path clip-path=\"url(#clip042)\" d=\"M1409.32 769.858 L1405.08 768.1 L1403.32 763.858 L1405.08 759.616 L1409.32 757.858 L1413.57 759.616 L1415.32 763.858 L1413.57 768.1 Z\" fill=\"#009af9\" fill-rule=\"evenodd\" fill-opacity=\"1\" stroke=\"#000000\" stroke-opacity=\"1\" stroke-width=\"3.2\"/>\n<path clip-path=\"url(#clip042)\" d=\"M1424.3 769.858 L1420.06 768.1 L1418.3 763.858 L1420.06 759.616 L1424.3 757.858 L1428.54 759.616 L1430.3 763.858 L1428.54 768.1 Z\" fill=\"#009af9\" fill-rule=\"evenodd\" fill-opacity=\"1\" stroke=\"#000000\" stroke-opacity=\"1\" stroke-width=\"3.2\"/>\n<path clip-path=\"url(#clip042)\" d=\"M1439.27 769.858 L1435.03 768.1 L1433.27 763.858 L1435.03 759.616 L1439.27 757.858 L1443.52 759.616 L1445.27 763.858 L1443.52 768.1 Z\" fill=\"#009af9\" fill-rule=\"evenodd\" fill-opacity=\"1\" stroke=\"#000000\" stroke-opacity=\"1\" stroke-width=\"3.2\"/>\n<path clip-path=\"url(#clip042)\" d=\"M1454.25 769.858 L1450.01 768.1 L1448.25 763.858 L1450.01 759.616 L1454.25 757.858 L1458.49 759.616 L1460.25 763.858 L1458.49 768.1 Z\" fill=\"#009af9\" fill-rule=\"evenodd\" fill-opacity=\"1\" stroke=\"#000000\" stroke-opacity=\"1\" stroke-width=\"3.2\"/>\n<path clip-path=\"url(#clip042)\" d=\"M1469.22 769.858 L1464.98 768.1 L1463.22 763.858 L1464.98 759.616 L1469.22 757.858 L1473.46 759.616 L1475.22 763.858 L1473.46 768.1 Z\" fill=\"#009af9\" fill-rule=\"evenodd\" fill-opacity=\"1\" stroke=\"#000000\" stroke-opacity=\"1\" stroke-width=\"3.2\"/>\n<path clip-path=\"url(#clip042)\" d=\"M1484.2 769.858 L1479.96 768.1 L1478.2 763.858 L1479.96 759.616 L1484.2 757.858 L1488.44 759.616 L1490.2 763.858 L1488.44 768.1 Z\" fill=\"#009af9\" fill-rule=\"evenodd\" fill-opacity=\"1\" stroke=\"#000000\" stroke-opacity=\"1\" stroke-width=\"3.2\"/>\n<path clip-path=\"url(#clip042)\" d=\"M1499.17 620.827 L1494.93 619.069 L1493.17 614.827 L1494.93 610.585 L1499.17 608.827 L1503.41 610.585 L1505.17 614.827 L1503.41 619.069 Z\" fill=\"#009af9\" fill-rule=\"evenodd\" fill-opacity=\"1\" stroke=\"#000000\" stroke-opacity=\"1\" stroke-width=\"3.2\"/>\n<path clip-path=\"url(#clip042)\" d=\"M1514.15 620.827 L1509.9 619.069 L1508.15 614.827 L1509.9 610.585 L1514.15 608.827 L1518.39 610.585 L1520.15 614.827 L1518.39 619.069 Z\" fill=\"#009af9\" fill-rule=\"evenodd\" fill-opacity=\"1\" stroke=\"#000000\" stroke-opacity=\"1\" stroke-width=\"3.2\"/>\n<path clip-path=\"url(#clip042)\" d=\"M1529.12 620.827 L1524.88 619.069 L1523.12 614.827 L1524.88 610.585 L1529.12 608.827 L1533.36 610.585 L1535.12 614.827 L1533.36 619.069 Z\" fill=\"#009af9\" fill-rule=\"evenodd\" fill-opacity=\"1\" stroke=\"#000000\" stroke-opacity=\"1\" stroke-width=\"3.2\"/>\n<path clip-path=\"url(#clip042)\" d=\"M1544.1 620.827 L1539.85 619.069 L1538.1 614.827 L1539.85 610.585 L1544.1 608.827 L1548.34 610.585 L1550.1 614.827 L1548.34 619.069 Z\" fill=\"#009af9\" fill-rule=\"evenodd\" fill-opacity=\"1\" stroke=\"#000000\" stroke-opacity=\"1\" stroke-width=\"3.2\"/>\n<path clip-path=\"url(#clip042)\" d=\"M1559.07 620.827 L1554.83 619.069 L1553.07 614.827 L1554.83 610.585 L1559.07 608.827 L1563.31 610.585 L1565.07 614.827 L1563.31 619.069 Z\" fill=\"#009af9\" fill-rule=\"evenodd\" fill-opacity=\"1\" stroke=\"#000000\" stroke-opacity=\"1\" stroke-width=\"3.2\"/>\n<path clip-path=\"url(#clip042)\" d=\"M1574.05 620.827 L1569.8 619.069 L1568.05 614.827 L1569.8 610.585 L1574.05 608.827 L1578.29 610.585 L1580.05 614.827 L1578.29 619.069 Z\" fill=\"#009af9\" fill-rule=\"evenodd\" fill-opacity=\"1\" stroke=\"#000000\" stroke-opacity=\"1\" stroke-width=\"3.2\"/>\n<path clip-path=\"url(#clip042)\" d=\"M1589.02 620.827 L1584.78 619.069 L1583.02 614.827 L1584.78 610.585 L1589.02 608.827 L1593.26 610.585 L1595.02 614.827 L1593.26 619.069 Z\" fill=\"#009af9\" fill-rule=\"evenodd\" fill-opacity=\"1\" stroke=\"#000000\" stroke-opacity=\"1\" stroke-width=\"3.2\"/>\n<path clip-path=\"url(#clip042)\" d=\"M1603.99 620.827 L1599.75 619.069 L1597.99 614.827 L1599.75 610.585 L1603.99 608.827 L1608.24 610.585 L1609.99 614.827 L1608.24 619.069 Z\" fill=\"#009af9\" fill-rule=\"evenodd\" fill-opacity=\"1\" stroke=\"#000000\" stroke-opacity=\"1\" stroke-width=\"3.2\"/>\n<path clip-path=\"url(#clip042)\" d=\"M1618.97 620.827 L1614.73 619.069 L1612.97 614.827 L1614.73 610.585 L1618.97 608.827 L1623.21 610.585 L1624.97 614.827 L1623.21 619.069 Z\" fill=\"#009af9\" fill-rule=\"evenodd\" fill-opacity=\"1\" stroke=\"#000000\" stroke-opacity=\"1\" stroke-width=\"3.2\"/>\n<path clip-path=\"url(#clip042)\" d=\"M1633.94 620.827 L1629.7 619.069 L1627.94 614.827 L1629.7 610.585 L1633.94 608.827 L1638.19 610.585 L1639.94 614.827 L1638.19 619.069 Z\" fill=\"#009af9\" fill-rule=\"evenodd\" fill-opacity=\"1\" stroke=\"#000000\" stroke-opacity=\"1\" stroke-width=\"3.2\"/>\n<path clip-path=\"url(#clip042)\" d=\"M1648.92 620.827 L1644.68 619.069 L1642.92 614.827 L1644.68 610.585 L1648.92 608.827 L1653.16 610.585 L1654.92 614.827 L1653.16 619.069 Z\" fill=\"#009af9\" fill-rule=\"evenodd\" fill-opacity=\"1\" stroke=\"#000000\" stroke-opacity=\"1\" stroke-width=\"3.2\"/>\n<path clip-path=\"url(#clip042)\" d=\"M1663.89 620.827 L1659.65 619.069 L1657.89 614.827 L1659.65 610.585 L1663.89 608.827 L1668.13 610.585 L1669.89 614.827 L1668.13 619.069 Z\" fill=\"#009af9\" fill-rule=\"evenodd\" fill-opacity=\"1\" stroke=\"#000000\" stroke-opacity=\"1\" stroke-width=\"3.2\"/>\n<path clip-path=\"url(#clip042)\" d=\"M1678.87 620.827 L1674.63 619.069 L1672.87 614.827 L1674.63 610.585 L1678.87 608.827 L1683.11 610.585 L1684.87 614.827 L1683.11 619.069 Z\" fill=\"#009af9\" fill-rule=\"evenodd\" fill-opacity=\"1\" stroke=\"#000000\" stroke-opacity=\"1\" stroke-width=\"3.2\"/>\n<path clip-path=\"url(#clip042)\" d=\"M1693.84 620.827 L1689.6 619.069 L1687.84 614.827 L1689.6 610.585 L1693.84 608.827 L1698.08 610.585 L1699.84 614.827 L1698.08 619.069 Z\" fill=\"#009af9\" fill-rule=\"evenodd\" fill-opacity=\"1\" stroke=\"#000000\" stroke-opacity=\"1\" stroke-width=\"3.2\"/>\n<path clip-path=\"url(#clip042)\" d=\"M1708.82 620.827 L1704.57 619.069 L1702.82 614.827 L1704.57 610.585 L1708.82 608.827 L1713.06 610.585 L1714.82 614.827 L1713.06 619.069 Z\" fill=\"#009af9\" fill-rule=\"evenodd\" fill-opacity=\"1\" stroke=\"#000000\" stroke-opacity=\"1\" stroke-width=\"3.2\"/>\n<path clip-path=\"url(#clip042)\" d=\"M1723.79 620.827 L1719.55 619.069 L1717.79 614.827 L1719.55 610.585 L1723.79 608.827 L1728.03 610.585 L1729.79 614.827 L1728.03 619.069 Z\" fill=\"#009af9\" fill-rule=\"evenodd\" fill-opacity=\"1\" stroke=\"#000000\" stroke-opacity=\"1\" stroke-width=\"3.2\"/>\n<path clip-path=\"url(#clip042)\" d=\"M1738.77 620.827 L1734.52 619.069 L1732.77 614.827 L1734.52 610.585 L1738.77 608.827 L1743.01 610.585 L1744.77 614.827 L1743.01 619.069 Z\" fill=\"#009af9\" fill-rule=\"evenodd\" fill-opacity=\"1\" stroke=\"#000000\" stroke-opacity=\"1\" stroke-width=\"3.2\"/>\n<path clip-path=\"url(#clip042)\" d=\"M1753.74 620.827 L1749.5 619.069 L1747.74 614.827 L1749.5 610.585 L1753.74 608.827 L1757.98 610.585 L1759.74 614.827 L1757.98 619.069 Z\" fill=\"#009af9\" fill-rule=\"evenodd\" fill-opacity=\"1\" stroke=\"#000000\" stroke-opacity=\"1\" stroke-width=\"3.2\"/>\n<path clip-path=\"url(#clip042)\" d=\"M1768.72 620.827 L1764.47 619.069 L1762.72 614.827 L1764.47 610.585 L1768.72 608.827 L1772.96 610.585 L1774.72 614.827 L1772.96 619.069 Z\" fill=\"#009af9\" fill-rule=\"evenodd\" fill-opacity=\"1\" stroke=\"#000000\" stroke-opacity=\"1\" stroke-width=\"3.2\"/>\n<path clip-path=\"url(#clip042)\" d=\"M1783.69 620.827 L1779.45 619.069 L1777.69 614.827 L1779.45 610.585 L1783.69 608.827 L1787.93 610.585 L1789.69 614.827 L1787.93 619.069 Z\" fill=\"#009af9\" fill-rule=\"evenodd\" fill-opacity=\"1\" stroke=\"#000000\" stroke-opacity=\"1\" stroke-width=\"3.2\"/>\n<path clip-path=\"url(#clip042)\" d=\"M1798.66 423.992 L1794.42 422.234 L1792.66 417.992 L1794.42 413.75 L1798.66 411.992 L1802.91 413.75 L1804.66 417.992 L1802.91 422.234 Z\" fill=\"#009af9\" fill-rule=\"evenodd\" fill-opacity=\"1\" stroke=\"#000000\" stroke-opacity=\"1\" stroke-width=\"3.2\"/>\n<path clip-path=\"url(#clip042)\" d=\"M1813.64 423.992 L1809.4 422.234 L1807.64 417.992 L1809.4 413.75 L1813.64 411.992 L1817.88 413.75 L1819.64 417.992 L1817.88 422.234 Z\" fill=\"#009af9\" fill-rule=\"evenodd\" fill-opacity=\"1\" stroke=\"#000000\" stroke-opacity=\"1\" stroke-width=\"3.2\"/>\n<path clip-path=\"url(#clip042)\" d=\"M1828.61 423.992 L1824.37 422.234 L1822.61 417.992 L1824.37 413.75 L1828.61 411.992 L1832.86 413.75 L1834.61 417.992 L1832.86 422.234 Z\" fill=\"#009af9\" fill-rule=\"evenodd\" fill-opacity=\"1\" stroke=\"#000000\" stroke-opacity=\"1\" stroke-width=\"3.2\"/>\n<path clip-path=\"url(#clip042)\" d=\"M1843.59 423.992 L1839.35 422.234 L1837.59 417.992 L1839.35 413.75 L1843.59 411.992 L1847.83 413.75 L1849.59 417.992 L1847.83 422.234 Z\" fill=\"#009af9\" fill-rule=\"evenodd\" fill-opacity=\"1\" stroke=\"#000000\" stroke-opacity=\"1\" stroke-width=\"3.2\"/>\n<path clip-path=\"url(#clip042)\" d=\"M1858.56 423.992 L1854.32 422.234 L1852.56 417.992 L1854.32 413.75 L1858.56 411.992 L1862.81 413.75 L1864.56 417.992 L1862.81 422.234 Z\" fill=\"#009af9\" fill-rule=\"evenodd\" fill-opacity=\"1\" stroke=\"#000000\" stroke-opacity=\"1\" stroke-width=\"3.2\"/>\n<path clip-path=\"url(#clip042)\" d=\"M1873.54 423.992 L1869.3 422.234 L1867.54 417.992 L1869.3 413.75 L1873.54 411.992 L1877.78 413.75 L1879.54 417.992 L1877.78 422.234 Z\" fill=\"#009af9\" fill-rule=\"evenodd\" fill-opacity=\"1\" stroke=\"#000000\" stroke-opacity=\"1\" stroke-width=\"3.2\"/>\n<path clip-path=\"url(#clip042)\" d=\"M1888.51 423.992 L1884.27 422.234 L1882.51 417.992 L1884.27 413.75 L1888.51 411.992 L1892.75 413.75 L1894.51 417.992 L1892.75 422.234 Z\" fill=\"#009af9\" fill-rule=\"evenodd\" fill-opacity=\"1\" stroke=\"#000000\" stroke-opacity=\"1\" stroke-width=\"3.2\"/>\n<path clip-path=\"url(#clip042)\" d=\"M1903.49 423.992 L1899.24 422.234 L1897.49 417.992 L1899.24 413.75 L1903.49 411.992 L1907.73 413.75 L1909.49 417.992 L1907.73 422.234 Z\" fill=\"#009af9\" fill-rule=\"evenodd\" fill-opacity=\"1\" stroke=\"#000000\" stroke-opacity=\"1\" stroke-width=\"3.2\"/>\n<path clip-path=\"url(#clip042)\" d=\"M1918.46 423.992 L1914.22 422.234 L1912.46 417.992 L1914.22 413.75 L1918.46 411.992 L1922.7 413.75 L1924.46 417.992 L1922.7 422.234 Z\" fill=\"#009af9\" fill-rule=\"evenodd\" fill-opacity=\"1\" stroke=\"#000000\" stroke-opacity=\"1\" stroke-width=\"3.2\"/>\n<path clip-path=\"url(#clip042)\" d=\"M1933.44 423.992 L1929.19 422.234 L1927.44 417.992 L1929.19 413.75 L1933.44 411.992 L1937.68 413.75 L1939.44 417.992 L1937.68 422.234 Z\" fill=\"#009af9\" fill-rule=\"evenodd\" fill-opacity=\"1\" stroke=\"#000000\" stroke-opacity=\"1\" stroke-width=\"3.2\"/>\n<path clip-path=\"url(#clip042)\" d=\"M1948.41 423.992 L1944.17 422.234 L1942.41 417.992 L1944.17 413.75 L1948.41 411.992 L1952.65 413.75 L1954.41 417.992 L1952.65 422.234 Z\" fill=\"#009af9\" fill-rule=\"evenodd\" fill-opacity=\"1\" stroke=\"#000000\" stroke-opacity=\"1\" stroke-width=\"3.2\"/>\n<path clip-path=\"url(#clip042)\" d=\"M1963.39 423.992 L1959.14 422.234 L1957.39 417.992 L1959.14 413.75 L1963.39 411.992 L1967.63 413.75 L1969.39 417.992 L1967.63 422.234 Z\" fill=\"#009af9\" fill-rule=\"evenodd\" fill-opacity=\"1\" stroke=\"#000000\" stroke-opacity=\"1\" stroke-width=\"3.2\"/>\n<path clip-path=\"url(#clip042)\" d=\"M1978.36 423.992 L1974.12 422.234 L1972.36 417.992 L1974.12 413.75 L1978.36 411.992 L1982.6 413.75 L1984.36 417.992 L1982.6 422.234 Z\" fill=\"#009af9\" fill-rule=\"evenodd\" fill-opacity=\"1\" stroke=\"#000000\" stroke-opacity=\"1\" stroke-width=\"3.2\"/>\n<path clip-path=\"url(#clip042)\" d=\"M1993.33 423.992 L1989.09 422.234 L1987.33 417.992 L1989.09 413.75 L1993.33 411.992 L1997.58 413.75 L1999.33 417.992 L1997.58 422.234 Z\" fill=\"#009af9\" fill-rule=\"evenodd\" fill-opacity=\"1\" stroke=\"#000000\" stroke-opacity=\"1\" stroke-width=\"3.2\"/>\n<path clip-path=\"url(#clip042)\" d=\"M2008.31 423.992 L2004.07 422.234 L2002.31 417.992 L2004.07 413.75 L2008.31 411.992 L2012.55 413.75 L2014.31 417.992 L2012.55 422.234 Z\" fill=\"#009af9\" fill-rule=\"evenodd\" fill-opacity=\"1\" stroke=\"#000000\" stroke-opacity=\"1\" stroke-width=\"3.2\"/>\n<path clip-path=\"url(#clip042)\" d=\"M2023.28 423.992 L2019.04 422.234 L2017.28 417.992 L2019.04 413.75 L2023.28 411.992 L2027.53 413.75 L2029.28 417.992 L2027.53 422.234 Z\" fill=\"#009af9\" fill-rule=\"evenodd\" fill-opacity=\"1\" stroke=\"#000000\" stroke-opacity=\"1\" stroke-width=\"3.2\"/>\n<path clip-path=\"url(#clip042)\" d=\"M2038.26 423.992 L2034.02 422.234 L2032.26 417.992 L2034.02 413.75 L2038.26 411.992 L2042.5 413.75 L2044.26 417.992 L2042.5 422.234 Z\" fill=\"#009af9\" fill-rule=\"evenodd\" fill-opacity=\"1\" stroke=\"#000000\" stroke-opacity=\"1\" stroke-width=\"3.2\"/>\n<path clip-path=\"url(#clip042)\" d=\"M2053.23 423.992 L2048.99 422.234 L2047.23 417.992 L2048.99 413.75 L2053.23 411.992 L2057.48 413.75 L2059.23 417.992 L2057.48 422.234 Z\" fill=\"#009af9\" fill-rule=\"evenodd\" fill-opacity=\"1\" stroke=\"#000000\" stroke-opacity=\"1\" stroke-width=\"3.2\"/>\n<path clip-path=\"url(#clip042)\" d=\"M2068.21 423.992 L2063.97 422.234 L2062.21 417.992 L2063.97 413.75 L2068.21 411.992 L2072.45 413.75 L2074.21 417.992 L2072.45 422.234 Z\" fill=\"#009af9\" fill-rule=\"evenodd\" fill-opacity=\"1\" stroke=\"#000000\" stroke-opacity=\"1\" stroke-width=\"3.2\"/>\n<path clip-path=\"url(#clip042)\" d=\"M2083.18 423.992 L2078.94 422.234 L2077.18 417.992 L2078.94 413.75 L2083.18 411.992 L2087.42 413.75 L2089.18 417.992 L2087.42 422.234 Z\" fill=\"#009af9\" fill-rule=\"evenodd\" fill-opacity=\"1\" stroke=\"#000000\" stroke-opacity=\"1\" stroke-width=\"3.2\"/>\n<path clip-path=\"url(#clip042)\" d=\"M2098.16 423.992 L2093.92 422.234 L2092.16 417.992 L2093.92 413.75 L2098.16 411.992 L2102.4 413.75 L2104.16 417.992 L2102.4 422.234 Z\" fill=\"#009af9\" fill-rule=\"evenodd\" fill-opacity=\"1\" stroke=\"#000000\" stroke-opacity=\"1\" stroke-width=\"3.2\"/>\n<path clip-path=\"url(#clip042)\" d=\"M2113.13 423.992 L2108.89 422.234 L2107.13 417.992 L2108.89 413.75 L2113.13 411.992 L2117.37 413.75 L2119.13 417.992 L2117.37 422.234 Z\" fill=\"#009af9\" fill-rule=\"evenodd\" fill-opacity=\"1\" stroke=\"#000000\" stroke-opacity=\"1\" stroke-width=\"3.2\"/>\n<path clip-path=\"url(#clip042)\" d=\"M2128.11 423.992 L2123.86 422.234 L2122.11 417.992 L2123.86 413.75 L2128.11 411.992 L2132.35 413.75 L2134.11 417.992 L2132.35 422.234 Z\" fill=\"#009af9\" fill-rule=\"evenodd\" fill-opacity=\"1\" stroke=\"#000000\" stroke-opacity=\"1\" stroke-width=\"3.2\"/>\n<path clip-path=\"url(#clip042)\" d=\"M2143.08 423.992 L2138.84 422.234 L2137.08 417.992 L2138.84 413.75 L2143.08 411.992 L2147.32 413.75 L2149.08 417.992 L2147.32 422.234 Z\" fill=\"#009af9\" fill-rule=\"evenodd\" fill-opacity=\"1\" stroke=\"#000000\" stroke-opacity=\"1\" stroke-width=\"3.2\"/>\n<path clip-path=\"url(#clip042)\" d=\"M2158.06 423.992 L2153.81 422.234 L2152.06 417.992 L2153.81 413.75 L2158.06 411.992 L2162.3 413.75 L2164.06 417.992 L2162.3 422.234 Z\" fill=\"#009af9\" fill-rule=\"evenodd\" fill-opacity=\"1\" stroke=\"#000000\" stroke-opacity=\"1\" stroke-width=\"3.2\"/>\n<path clip-path=\"url(#clip042)\" d=\"M2173.03 423.992 L2168.79 422.234 L2167.03 417.992 L2168.79 413.75 L2173.03 411.992 L2177.27 413.75 L2179.03 417.992 L2177.27 422.234 Z\" fill=\"#009af9\" fill-rule=\"evenodd\" fill-opacity=\"1\" stroke=\"#000000\" stroke-opacity=\"1\" stroke-width=\"3.2\"/>\n<path clip-path=\"url(#clip042)\" d=\"M2188 423.992 L2183.76 422.234 L2182 417.992 L2183.76 413.75 L2188 411.992 L2192.25 413.75 L2194 417.992 L2192.25 422.234 Z\" fill=\"#009af9\" fill-rule=\"evenodd\" fill-opacity=\"1\" stroke=\"#000000\" stroke-opacity=\"1\" stroke-width=\"3.2\"/>\n<path clip-path=\"url(#clip042)\" d=\"M2202.98 423.992 L2198.74 422.234 L2196.98 417.992 L2198.74 413.75 L2202.98 411.992 L2207.22 413.75 L2208.98 417.992 L2207.22 422.234 Z\" fill=\"#009af9\" fill-rule=\"evenodd\" fill-opacity=\"1\" stroke=\"#000000\" stroke-opacity=\"1\" stroke-width=\"3.2\"/>\n<path clip-path=\"url(#clip042)\" d=\"M2217.95 423.992 L2213.71 422.234 L2211.95 417.992 L2213.71 413.75 L2217.95 411.992 L2222.2 413.75 L2223.95 417.992 L2222.2 422.234 Z\" fill=\"#009af9\" fill-rule=\"evenodd\" fill-opacity=\"1\" stroke=\"#000000\" stroke-opacity=\"1\" stroke-width=\"3.2\"/>\n<path clip-path=\"url(#clip042)\" d=\"M2232.93 423.992 L2228.69 422.234 L2226.93 417.992 L2228.69 413.75 L2232.93 411.992 L2237.17 413.75 L2238.93 417.992 L2237.17 422.234 Z\" fill=\"#009af9\" fill-rule=\"evenodd\" fill-opacity=\"1\" stroke=\"#000000\" stroke-opacity=\"1\" stroke-width=\"3.2\"/>\n<path clip-path=\"url(#clip042)\" d=\"M2247.9 423.992 L2243.66 422.234 L2241.9 417.992 L2243.66 413.75 L2247.9 411.992 L2252.15 413.75 L2253.9 417.992 L2252.15 422.234 Z\" fill=\"#009af9\" fill-rule=\"evenodd\" fill-opacity=\"1\" stroke=\"#000000\" stroke-opacity=\"1\" stroke-width=\"3.2\"/>\n<path clip-path=\"url(#clip042)\" d=\"M2262.88 423.992 L2258.64 422.234 L2256.88 417.992 L2258.64 413.75 L2262.88 411.992 L2267.12 413.75 L2268.88 417.992 L2267.12 422.234 Z\" fill=\"#009af9\" fill-rule=\"evenodd\" fill-opacity=\"1\" stroke=\"#000000\" stroke-opacity=\"1\" stroke-width=\"3.2\"/>\n<path clip-path=\"url(#clip042)\" d=\"M2277.85 423.992 L2273.61 422.234 L2271.85 417.992 L2273.61 413.75 L2277.85 411.992 L2282.09 413.75 L2283.85 417.992 L2282.09 422.234 Z\" fill=\"#009af9\" fill-rule=\"evenodd\" fill-opacity=\"1\" stroke=\"#000000\" stroke-opacity=\"1\" stroke-width=\"3.2\"/>\n<path clip-path=\"url(#clip042)\" d=\"M2292.83 92.1857 L2288.59 90.4277 L2286.83 86.1857 L2288.59 81.9437 L2292.83 80.1857 L2297.07 81.9437 L2298.83 86.1857 L2297.07 90.4277 Z\" fill=\"#009af9\" fill-rule=\"evenodd\" fill-opacity=\"1\" stroke=\"#000000\" stroke-opacity=\"1\" stroke-width=\"3.2\"/>\n<polyline clip-path=\"url(#clip042)\" style=\"stroke:#e26f46; stroke-linecap:butt; stroke-linejoin:round; stroke-width:4; stroke-opacity:1; fill:none\" points=\"\n  295.211,1384.24 296.709,1383.18 298.206,1382.13 299.704,1381.07 301.201,1380.02 302.699,1378.97 304.196,1377.91 305.694,1376.86 307.191,1375.8 308.689,1374.75 \n  310.186,1373.69 311.683,1372.64 313.181,1371.58 314.678,1370.53 316.176,1369.48 317.673,1368.42 319.171,1367.37 320.668,1366.31 322.166,1365.26 323.663,1364.2 \n  325.161,1363.15 326.658,1362.09 328.156,1361.04 329.653,1359.99 331.15,1358.93 332.648,1357.88 334.145,1356.82 335.643,1355.77 337.14,1354.71 338.638,1353.66 \n  340.135,1352.6 341.633,1351.55 343.13,1350.5 344.628,1349.44 346.125,1348.39 347.623,1347.33 349.12,1346.28 350.617,1345.22 352.115,1344.17 353.612,1343.11 \n  355.11,1342.06 356.607,1341 358.105,1339.95 359.602,1338.9 361.1,1337.84 362.597,1336.79 364.095,1335.73 365.592,1334.68 367.09,1333.62 368.587,1332.57 \n  370.084,1331.51 371.582,1330.46 373.079,1329.41 374.577,1328.35 376.074,1327.3 377.572,1326.24 379.069,1325.19 380.567,1324.13 382.064,1323.08 383.562,1322.02 \n  385.059,1320.97 386.557,1319.92 388.054,1318.86 389.552,1317.81 391.049,1316.75 392.546,1315.7 394.044,1314.64 395.541,1313.59 397.039,1312.53 398.536,1311.48 \n  400.034,1310.43 401.531,1309.37 403.029,1308.32 404.526,1307.26 406.024,1306.21 407.521,1305.15 409.019,1304.1 410.516,1303.04 412.013,1301.99 413.511,1300.94 \n  415.008,1299.88 416.506,1298.83 418.003,1297.77 419.501,1296.72 420.998,1295.66 422.496,1294.61 423.993,1293.55 425.491,1292.5 426.988,1291.44 428.486,1290.39 \n  429.983,1289.34 431.48,1288.28 432.978,1287.23 434.475,1286.17 435.973,1285.12 437.47,1284.06 438.968,1283.01 440.465,1281.95 441.963,1280.9 443.46,1279.85 \n  444.958,1278.79 446.455,1277.74 447.953,1276.68 449.45,1275.63 450.948,1274.57 452.445,1273.52 453.942,1272.46 455.44,1271.41 456.937,1270.36 458.435,1269.3 \n  459.932,1268.25 461.43,1267.19 462.927,1266.14 464.425,1265.08 465.922,1264.03 467.42,1262.97 468.917,1261.92 470.415,1260.87 471.912,1259.81 473.409,1258.76 \n  474.907,1257.7 476.404,1256.65 477.902,1255.59 479.399,1254.54 480.897,1253.48 482.394,1252.43 483.892,1251.38 485.389,1250.32 486.887,1249.27 488.384,1248.21 \n  489.882,1247.16 491.379,1246.1 492.876,1245.05 494.374,1243.99 495.871,1242.94 497.369,1241.88 498.866,1240.83 500.364,1239.78 501.861,1238.72 503.359,1237.67 \n  504.856,1236.61 506.354,1235.56 507.851,1234.5 509.349,1233.45 510.846,1232.39 512.344,1231.34 513.841,1230.29 515.338,1229.23 516.836,1228.18 518.333,1227.12 \n  519.831,1226.07 521.328,1225.01 522.826,1223.96 524.323,1222.9 525.821,1221.85 527.318,1220.8 528.816,1219.74 530.313,1218.69 531.811,1217.63 533.308,1216.58 \n  534.805,1215.52 536.303,1214.47 537.8,1213.41 539.298,1212.36 540.795,1211.31 542.293,1210.25 543.79,1209.2 545.288,1208.14 546.785,1207.09 548.283,1206.03 \n  549.78,1204.98 551.278,1203.92 552.775,1202.87 554.272,1201.81 555.77,1200.76 557.267,1199.71 558.765,1198.65 560.262,1197.6 561.76,1196.54 563.257,1195.49 \n  564.755,1194.43 566.252,1193.38 567.75,1192.32 569.247,1191.27 570.745,1190.22 572.242,1189.16 573.74,1188.11 575.237,1187.05 576.734,1186 578.232,1184.94 \n  579.729,1183.89 581.227,1182.83 582.724,1181.78 584.222,1180.73 585.719,1179.67 587.217,1178.62 588.714,1177.56 590.212,1176.51 591.709,1175.45 593.207,1174.4 \n  594.704,1173.34 596.201,1172.29 597.699,1171.24 599.196,1170.18 600.694,1169.13 602.191,1168.07 603.689,1167.02 605.186,1165.96 606.684,1164.91 608.181,1163.85 \n  609.679,1162.8 611.176,1161.75 612.674,1160.69 614.171,1159.64 615.668,1158.58 617.166,1157.53 618.663,1156.47 620.161,1155.42 621.658,1154.36 623.156,1153.31 \n  624.653,1152.25 626.151,1151.2 627.648,1150.15 629.146,1149.09 630.643,1148.04 632.141,1146.98 633.638,1145.93 635.136,1144.87 636.633,1143.82 638.13,1142.76 \n  639.628,1141.71 641.125,1140.66 642.623,1139.6 644.12,1138.55 645.618,1137.49 647.115,1136.44 648.613,1135.38 650.11,1134.33 651.608,1133.27 653.105,1132.22 \n  654.603,1131.17 656.1,1130.11 657.597,1129.06 659.095,1128 660.592,1126.95 662.09,1125.89 663.587,1124.84 665.085,1123.78 666.582,1122.73 668.08,1121.68 \n  669.577,1120.62 671.075,1119.57 672.572,1118.51 674.07,1117.46 675.567,1116.4 677.064,1115.35 678.562,1114.29 680.059,1113.24 681.557,1112.19 683.054,1111.13 \n  684.552,1110.08 686.049,1109.02 687.547,1107.97 689.044,1106.91 690.542,1105.86 692.039,1104.8 693.537,1103.75 695.034,1102.69 696.532,1101.64 698.029,1100.59 \n  699.526,1099.53 701.024,1098.48 702.521,1097.42 704.019,1096.37 705.516,1095.31 707.014,1094.26 708.511,1093.2 710.009,1092.15 711.506,1091.1 713.004,1090.04 \n  714.501,1088.99 715.999,1087.93 717.496,1086.88 718.993,1085.82 720.491,1084.77 721.988,1083.71 723.486,1082.66 724.983,1081.61 726.481,1080.55 727.978,1079.5 \n  729.476,1078.44 730.973,1077.39 732.471,1076.33 733.968,1075.28 735.466,1074.22 736.963,1073.17 738.46,1072.12 739.958,1071.06 741.455,1070.01 742.953,1068.95 \n  744.45,1067.9 745.948,1066.84 747.445,1065.79 748.943,1064.73 750.44,1063.68 751.938,1062.62 753.435,1061.57 754.933,1060.52 756.43,1059.46 757.928,1058.41 \n  759.425,1057.35 760.922,1056.3 762.42,1055.24 763.917,1054.19 765.415,1053.13 766.912,1052.08 768.41,1051.03 769.907,1049.97 771.405,1048.92 772.902,1047.86 \n  774.4,1046.81 775.897,1045.75 777.395,1044.7 778.892,1043.64 780.389,1042.59 781.887,1041.54 783.384,1040.48 784.882,1039.43 786.379,1038.37 787.877,1037.32 \n  789.374,1036.26 790.872,1035.21 792.369,1034.15 793.867,1033.1 795.364,1032.05 796.862,1030.99 798.359,1029.94 799.856,1028.88 801.354,1027.83 802.851,1026.77 \n  804.349,1025.72 805.846,1024.66 807.344,1023.61 808.841,1022.56 810.339,1021.5 811.836,1020.45 813.334,1019.39 814.831,1018.34 816.329,1017.28 817.826,1016.23 \n  819.324,1015.17 820.821,1014.12 822.318,1013.06 823.816,1012.01 825.313,1010.96 826.811,1009.9 828.308,1008.85 829.806,1007.79 831.303,1006.74 832.801,1005.68 \n  834.298,1004.63 835.796,1003.57 837.293,1002.52 838.791,1001.47 840.288,1000.41 841.785,999.357 843.283,998.302 844.78,997.248 846.278,996.193 847.775,995.139 \n  849.273,994.084 850.77,993.03 852.268,991.975 853.765,990.921 855.263,989.866 856.76,988.812 858.258,987.758 859.755,986.703 861.252,985.649 862.75,984.594 \n  864.247,983.54 865.745,982.485 867.242,981.431 868.74,980.376 870.237,979.322 871.735,978.267 873.232,977.213 874.73,976.158 876.227,975.104 877.725,974.049 \n  879.222,972.995 880.719,971.94 882.217,970.886 883.714,969.832 885.212,968.777 886.709,967.723 888.207,966.668 889.704,965.614 891.202,964.559 892.699,963.505 \n  894.197,962.45 895.694,961.396 897.192,960.341 898.689,959.287 900.187,958.232 901.684,957.178 903.181,956.123 904.679,955.069 906.176,954.014 907.674,952.96 \n  909.171,951.906 910.669,950.851 912.166,949.797 913.664,948.742 915.161,947.688 916.659,946.633 918.156,945.579 919.654,944.524 921.151,943.47 922.648,942.415 \n  924.146,941.361 925.643,940.306 927.141,939.252 928.638,938.197 930.136,937.143 931.633,936.089 933.131,935.034 934.628,933.98 936.126,932.925 937.623,931.871 \n  939.121,930.816 940.618,929.762 942.115,928.707 943.613,927.653 945.11,926.598 946.608,925.544 948.105,924.489 949.603,923.435 951.1,922.38 952.598,921.326 \n  954.095,920.271 955.593,919.217 957.09,918.163 958.588,917.108 960.085,916.054 961.583,914.999 963.08,913.945 964.577,912.89 966.075,911.836 967.572,910.781 \n  969.07,909.727 970.567,908.672 972.065,907.618 973.562,906.563 975.06,905.509 976.557,904.454 978.055,903.4 979.552,902.345 981.05,901.291 982.547,900.237 \n  984.044,899.182 985.542,898.128 987.039,897.073 988.537,896.019 990.034,894.964 991.532,893.91 993.029,892.855 994.527,891.801 996.024,890.746 997.522,889.692 \n  999.019,888.637 1000.52,887.583 1002.01,886.528 1003.51,885.474 1005.01,884.419 1006.51,883.365 1008,882.311 1009.5,881.256 1011,880.202 1012.5,879.147 \n  1013.99,878.093 1015.49,877.038 1016.99,875.984 1018.49,874.929 1019.98,873.875 1021.48,872.82 1022.98,871.766 1024.48,870.711 1025.97,869.657 1027.47,868.602 \n  1028.97,867.548 1030.47,866.493 1031.96,865.439 1033.46,864.385 1034.96,863.33 1036.46,862.276 1037.95,861.221 1039.45,860.167 1040.95,859.112 1042.45,858.058 \n  1043.94,857.003 1045.44,855.949 1046.94,854.894 1048.44,853.84 1049.93,852.785 1051.43,851.731 1052.93,850.676 1054.43,849.622 1055.92,848.567 1057.42,847.513 \n  1058.92,846.459 1060.42,845.404 1061.91,844.35 1063.41,843.295 1064.91,842.241 1066.4,841.186 1067.9,840.132 1069.4,839.077 1070.9,838.023 1072.39,836.968 \n  1073.89,835.914 1075.39,834.859 1076.89,833.805 1078.38,832.75 1079.88,831.696 1081.38,830.642 1082.88,829.587 1084.37,828.533 1085.87,827.478 1087.37,826.424 \n  1088.87,825.369 1090.36,824.315 1091.86,823.26 1093.36,822.206 1094.86,821.151 1096.35,820.097 1097.85,819.042 1099.35,817.988 1100.85,816.933 1102.34,815.879 \n  1103.84,814.824 1105.34,813.77 1106.84,812.716 1108.33,811.661 1109.83,810.607 1111.33,809.552 1112.83,808.498 1114.32,807.443 1115.82,806.389 1117.32,805.334 \n  1118.82,804.28 1120.31,803.225 1121.81,802.171 1123.31,801.116 1124.81,800.062 1126.3,799.007 1127.8,797.953 1129.3,796.898 1130.8,795.844 1132.29,794.79 \n  1133.79,793.735 1135.29,792.681 1136.79,791.626 1138.28,790.572 1139.78,789.517 1141.28,788.463 1142.78,787.408 1144.27,786.354 1145.77,785.299 1147.27,784.245 \n  1148.77,783.19 1150.26,782.136 1151.76,781.081 1153.26,780.027 1154.76,778.972 1156.25,777.918 1157.75,776.864 1159.25,775.809 1160.75,774.755 1162.24,773.7 \n  1163.74,772.646 1165.24,771.591 1166.73,770.537 1168.23,769.482 1169.73,768.428 1171.23,767.373 1172.72,766.319 1174.22,765.264 1175.72,764.21 1177.22,763.155 \n  1178.71,762.101 1180.21,761.046 1181.71,759.992 1183.21,758.938 1184.7,757.883 1186.2,756.829 1187.7,755.774 1189.2,754.72 1190.69,753.665 1192.19,752.611 \n  1193.69,751.556 1195.19,750.502 1196.68,749.447 1198.18,748.393 1199.68,747.338 1201.18,746.284 1202.67,745.229 1204.17,744.175 1205.67,743.12 1207.17,742.066 \n  1208.66,741.012 1210.16,739.957 1211.66,738.903 1213.16,737.848 1214.65,736.794 1216.15,735.739 1217.65,734.685 1219.15,733.63 1220.64,732.576 1222.14,731.521 \n  1223.64,730.467 1225.14,729.412 1226.63,728.358 1228.13,727.303 1229.63,726.249 1231.13,725.195 1232.62,724.14 1234.12,723.086 1235.62,722.031 1237.12,720.977 \n  1238.61,719.922 1240.11,718.868 1241.61,717.813 1243.11,716.759 1244.6,715.704 1246.1,714.65 1247.6,713.595 1249.1,712.541 1250.59,711.486 1252.09,710.432 \n  1253.59,709.377 1255.09,708.323 1256.58,707.269 1258.08,706.214 1259.58,705.16 1261.08,704.105 1262.57,703.051 1264.07,701.996 1265.57,700.942 1267.07,699.887 \n  1268.56,698.833 1270.06,697.778 1271.56,696.724 1273.05,695.669 1274.55,694.615 1276.05,693.56 1277.55,692.506 1279.04,691.451 1280.54,690.397 1282.04,689.343 \n  1283.54,688.288 1285.03,687.234 1286.53,686.179 1288.03,685.125 1289.53,684.07 1291.02,683.016 1292.52,681.961 1294.02,680.907 1295.52,679.852 1297.01,678.798 \n  1298.51,677.743 1300.01,676.689 1301.51,675.634 1303,674.58 1304.5,673.525 1306,672.471 1307.5,671.417 1308.99,670.362 1310.49,669.308 1311.99,668.253 \n  1313.49,667.199 1314.98,666.144 1316.48,665.09 1317.98,664.035 1319.48,662.981 1320.97,661.926 1322.47,660.872 1323.97,659.817 1325.47,658.763 1326.96,657.708 \n  1328.46,656.654 1329.96,655.599 1331.46,654.545 1332.95,653.491 1334.45,652.436 1335.95,651.382 1337.45,650.327 1338.94,649.273 1340.44,648.218 1341.94,647.164 \n  1343.44,646.109 1344.93,645.055 1346.43,644 1347.93,642.946 1349.43,641.891 1350.92,640.837 1352.42,639.782 1353.92,638.728 1355.42,637.673 1356.91,636.619 \n  1358.41,635.565 1359.91,634.51 1361.41,633.456 1362.9,632.401 1364.4,631.347 1365.9,630.292 1367.4,629.238 1368.89,628.183 1370.39,627.129 1371.89,626.074 \n  1373.38,625.02 1374.88,623.965 1376.38,622.911 1377.88,621.856 1379.37,620.802 1380.87,619.748 1382.37,618.693 1383.87,617.639 1385.36,616.584 1386.86,615.53 \n  1388.36,614.475 1389.86,613.421 1391.35,612.366 1392.85,611.312 1394.35,610.257 1395.85,609.203 1397.34,608.148 1398.84,607.094 1400.34,606.039 1401.84,604.985 \n  1403.33,603.93 1404.83,602.876 1406.33,601.822 1407.83,600.767 1409.32,599.713 1410.82,598.658 1412.32,597.604 1413.82,596.549 1415.31,595.495 1416.81,594.44 \n  1418.31,593.386 1419.81,592.331 1421.3,591.277 1422.8,590.222 1424.3,589.168 1425.8,588.113 1427.29,587.059 1428.79,586.004 1430.29,584.95 1431.79,583.896 \n  1433.28,582.841 1434.78,581.787 1436.28,580.732 1437.78,579.678 1439.27,578.623 1440.77,577.569 1442.27,576.514 1443.77,575.46 1445.26,574.405 1446.76,573.351 \n  1448.26,572.296 1449.76,571.242 1451.25,570.187 1452.75,569.133 1454.25,568.078 1455.75,567.024 1457.24,565.97 1458.74,564.915 1460.24,563.861 1461.74,562.806 \n  1463.23,561.752 1464.73,560.697 1466.23,559.643 1467.73,558.588 1469.22,557.534 1470.72,556.479 1472.22,555.425 1473.71,554.37 1475.21,553.316 1476.71,552.261 \n  1478.21,551.207 1479.7,550.152 1481.2,549.098 1482.7,548.044 1484.2,546.989 1485.69,545.935 1487.19,544.88 1488.69,543.826 1490.19,542.771 1491.68,541.717 \n  1493.18,540.662 1494.68,539.608 1496.18,538.553 1497.67,537.499 1499.17,536.444 1500.67,535.39 1502.17,534.335 1503.66,533.281 1505.16,532.226 1506.66,531.172 \n  1508.16,530.118 1509.65,529.063 1511.15,528.009 1512.65,526.954 1514.15,525.9 1515.64,524.845 1517.14,523.791 1518.64,522.736 1520.14,521.682 1521.63,520.627 \n  1523.13,519.573 1524.63,518.518 1526.13,517.464 1527.62,516.409 1529.12,515.355 1530.62,514.3 1532.12,513.246 1533.61,512.192 1535.11,511.137 1536.61,510.083 \n  1538.11,509.028 1539.6,507.974 1541.1,506.919 1542.6,505.865 1544.1,504.81 1545.59,503.756 1547.09,502.701 1548.59,501.647 1550.09,500.592 1551.58,499.538 \n  1553.08,498.483 1554.58,497.429 1556.08,496.375 1557.57,495.32 1559.07,494.266 1560.57,493.211 1562.07,492.157 1563.56,491.102 1565.06,490.048 1566.56,488.993 \n  1568.06,487.939 1569.55,486.884 1571.05,485.83 1572.55,484.775 1574.05,483.721 1575.54,482.666 1577.04,481.612 1578.54,480.557 1580.03,479.503 1581.53,478.449 \n  1583.03,477.394 1584.53,476.34 1586.02,475.285 1587.52,474.231 1589.02,473.176 1590.52,472.122 1592.01,471.067 1593.51,470.013 1595.01,468.958 1596.51,467.904 \n  1598,466.849 1599.5,465.795 1601,464.74 1602.5,463.686 1603.99,462.631 1605.49,461.577 1606.99,460.523 1608.49,459.468 1609.98,458.414 1611.48,457.359 \n  1612.98,456.305 1614.48,455.25 1615.97,454.196 1617.47,453.141 1618.97,452.087 1620.47,451.032 1621.96,449.978 1623.46,448.923 1624.96,447.869 1626.46,446.814 \n  1627.95,445.76 1629.45,444.705 1630.95,443.651 1632.45,442.597 1633.94,441.542 1635.44,440.488 1636.94,439.433 1638.44,438.379 1639.93,437.324 1641.43,436.27 \n  1642.93,435.215 1644.43,434.161 1645.92,433.106 1647.42,432.052 1648.92,430.997 1650.42,429.943 1651.91,428.888 1653.41,427.834 1654.91,426.779 1656.41,425.725 \n  1657.9,424.671 1659.4,423.616 1660.9,422.562 1662.4,421.507 1663.89,420.453 1665.39,419.398 1666.89,418.344 1668.39,417.289 1669.88,416.235 1671.38,415.18 \n  1672.88,414.126 1674.38,413.071 1675.87,412.017 1677.37,410.962 1678.87,409.908 1680.36,408.853 1681.86,407.799 1683.36,406.745 1684.86,405.69 1686.35,404.636 \n  1687.85,403.581 1689.35,402.527 1690.85,401.472 1692.34,400.418 1693.84,399.363 1695.34,398.309 1696.84,397.254 1698.33,396.2 1699.83,395.145 1701.33,394.091 \n  1702.83,393.036 1704.32,391.982 1705.82,390.928 1707.32,389.873 1708.82,388.819 1710.31,387.764 1711.81,386.71 1713.31,385.655 1714.81,384.601 1716.3,383.546 \n  1717.8,382.492 1719.3,381.437 1720.8,380.383 1722.29,379.328 1723.79,378.274 1725.29,377.219 1726.79,376.165 1728.28,375.11 1729.78,374.056 1731.28,373.002 \n  1732.78,371.947 1734.27,370.893 1735.77,369.838 1737.27,368.784 1738.77,367.729 1740.26,366.675 1741.76,365.62 1743.26,364.566 1744.76,363.511 1746.25,362.457 \n  1747.75,361.402 1749.25,360.348 1750.75,359.293 1752.24,358.239 1753.74,357.184 1755.24,356.13 1756.74,355.076 1758.23,354.021 1759.73,352.967 1761.23,351.912 \n  1762.73,350.858 1764.22,349.803 1765.72,348.749 1767.22,347.694 1768.72,346.64 1770.21,345.585 1771.71,344.531 1773.21,343.476 1774.71,342.422 1776.2,341.367 \n  1777.7,340.313 1779.2,339.258 1780.69,338.204 1782.19,337.15 1783.69,336.095 1785.19,335.041 1786.68,333.986 1788.18,332.932 1789.68,331.877 1791.18,330.823 \n  \n  \"/>\n<polyline clip-path=\"url(#clip042)\" style=\"stroke:#3da44d; stroke-linecap:butt; stroke-linejoin:round; stroke-width:4; stroke-opacity:1; fill:none\" points=\"\n  301.201,1374.05 316.176,1368.42 331.15,1354.36 346.125,1337.49 361.1,1331.87 376.074,1326.24 391.049,1320.62 406.024,1312.18 420.998,1300.94 435.973,1292.5 \n  450.948,1284.06 465.922,1270 480.897,1258.76 495.871,1253.13 510.846,1250.32 525.821,1241.88 540.795,1227.83 555.77,1227.83 570.745,1222.2 585.719,1222.2 \n  600.694,1199.71 615.668,1199.71 630.643,1177.21 645.618,1177.21 660.592,1177.21 675.567,1157.53 690.542,1157.53 705.516,1157.53 720.491,1120.97 735.466,1120.97 \n  750.44,1120.97 765.415,1120.97 780.389,1120.97 795.364,1073.17 810.339,1073.17 825.313,1073.17 840.288,1073.17 855.263,1073.17 870.237,1073.17 885.212,1073.17 \n  900.187,971.94 915.161,971.94 930.136,971.94 945.11,971.94 960.085,971.94 975.06,971.94 990.034,971.94 1005.01,971.94 1019.98,971.94 1034.96,971.94 \n  1049.93,834.156 1064.91,834.156 1079.88,834.156 1094.86,834.156 1109.83,834.156 1124.81,834.156 1139.78,834.156 1154.76,834.156 1169.73,834.156 1184.7,834.156 \n  1199.68,834.156 1214.65,834.156 1229.63,834.156 1244.6,834.156 1259.58,834.156 1274.55,834.156 1289.53,572.648 \n  \"/>\n<path clip-path=\"url(#clip042)\" d=\"M301.201 1368.05 L295.201 1374.05 L301.201 1380.05 L307.201 1374.05 L301.201 1368.05 Z\" fill=\"#3da44d\" fill-rule=\"evenodd\" fill-opacity=\"1\" stroke=\"#000000\" stroke-opacity=\"1\" stroke-width=\"3.2\"/>\n<path clip-path=\"url(#clip042)\" d=\"M316.176 1362.42 L310.176 1368.42 L316.176 1374.42 L322.176 1368.42 L316.176 1362.42 Z\" fill=\"#3da44d\" fill-rule=\"evenodd\" fill-opacity=\"1\" stroke=\"#000000\" stroke-opacity=\"1\" stroke-width=\"3.2\"/>\n<path clip-path=\"url(#clip042)\" d=\"M331.15 1348.36 L325.15 1354.36 L331.15 1360.36 L337.15 1354.36 L331.15 1348.36 Z\" fill=\"#3da44d\" fill-rule=\"evenodd\" fill-opacity=\"1\" stroke=\"#000000\" stroke-opacity=\"1\" stroke-width=\"3.2\"/>\n<path clip-path=\"url(#clip042)\" d=\"M346.125 1331.49 L340.125 1337.49 L346.125 1343.49 L352.125 1337.49 L346.125 1331.49 Z\" fill=\"#3da44d\" fill-rule=\"evenodd\" fill-opacity=\"1\" stroke=\"#000000\" stroke-opacity=\"1\" stroke-width=\"3.2\"/>\n<path clip-path=\"url(#clip042)\" d=\"M361.1 1325.87 L355.1 1331.87 L361.1 1337.87 L367.1 1331.87 L361.1 1325.87 Z\" fill=\"#3da44d\" fill-rule=\"evenodd\" fill-opacity=\"1\" stroke=\"#000000\" stroke-opacity=\"1\" stroke-width=\"3.2\"/>\n<path clip-path=\"url(#clip042)\" d=\"M376.074 1320.24 L370.074 1326.24 L376.074 1332.24 L382.074 1326.24 L376.074 1320.24 Z\" fill=\"#3da44d\" fill-rule=\"evenodd\" fill-opacity=\"1\" stroke=\"#000000\" stroke-opacity=\"1\" stroke-width=\"3.2\"/>\n<path clip-path=\"url(#clip042)\" d=\"M391.049 1314.62 L385.049 1320.62 L391.049 1326.62 L397.049 1320.62 L391.049 1314.62 Z\" fill=\"#3da44d\" fill-rule=\"evenodd\" fill-opacity=\"1\" stroke=\"#000000\" stroke-opacity=\"1\" stroke-width=\"3.2\"/>\n<path clip-path=\"url(#clip042)\" d=\"M406.024 1306.18 L400.024 1312.18 L406.024 1318.18 L412.024 1312.18 L406.024 1306.18 Z\" fill=\"#3da44d\" fill-rule=\"evenodd\" fill-opacity=\"1\" stroke=\"#000000\" stroke-opacity=\"1\" stroke-width=\"3.2\"/>\n<path clip-path=\"url(#clip042)\" d=\"M420.998 1294.94 L414.998 1300.94 L420.998 1306.94 L426.998 1300.94 L420.998 1294.94 Z\" fill=\"#3da44d\" fill-rule=\"evenodd\" fill-opacity=\"1\" stroke=\"#000000\" stroke-opacity=\"1\" stroke-width=\"3.2\"/>\n<path clip-path=\"url(#clip042)\" d=\"M435.973 1286.5 L429.973 1292.5 L435.973 1298.5 L441.973 1292.5 L435.973 1286.5 Z\" fill=\"#3da44d\" fill-rule=\"evenodd\" fill-opacity=\"1\" stroke=\"#000000\" stroke-opacity=\"1\" stroke-width=\"3.2\"/>\n<path clip-path=\"url(#clip042)\" d=\"M450.948 1278.06 L444.948 1284.06 L450.948 1290.06 L456.948 1284.06 L450.948 1278.06 Z\" fill=\"#3da44d\" fill-rule=\"evenodd\" fill-opacity=\"1\" stroke=\"#000000\" stroke-opacity=\"1\" stroke-width=\"3.2\"/>\n<path clip-path=\"url(#clip042)\" d=\"M465.922 1264 L459.922 1270 L465.922 1276 L471.922 1270 L465.922 1264 Z\" fill=\"#3da44d\" fill-rule=\"evenodd\" fill-opacity=\"1\" stroke=\"#000000\" stroke-opacity=\"1\" stroke-width=\"3.2\"/>\n<path clip-path=\"url(#clip042)\" d=\"M480.897 1252.76 L474.897 1258.76 L480.897 1264.76 L486.897 1258.76 L480.897 1252.76 Z\" fill=\"#3da44d\" fill-rule=\"evenodd\" fill-opacity=\"1\" stroke=\"#000000\" stroke-opacity=\"1\" stroke-width=\"3.2\"/>\n<path clip-path=\"url(#clip042)\" d=\"M495.871 1247.13 L489.871 1253.13 L495.871 1259.13 L501.871 1253.13 L495.871 1247.13 Z\" fill=\"#3da44d\" fill-rule=\"evenodd\" fill-opacity=\"1\" stroke=\"#000000\" stroke-opacity=\"1\" stroke-width=\"3.2\"/>\n<path clip-path=\"url(#clip042)\" d=\"M510.846 1244.32 L504.846 1250.32 L510.846 1256.32 L516.846 1250.32 L510.846 1244.32 Z\" fill=\"#3da44d\" fill-rule=\"evenodd\" fill-opacity=\"1\" stroke=\"#000000\" stroke-opacity=\"1\" stroke-width=\"3.2\"/>\n<path clip-path=\"url(#clip042)\" d=\"M525.821 1235.88 L519.821 1241.88 L525.821 1247.88 L531.821 1241.88 L525.821 1235.88 Z\" fill=\"#3da44d\" fill-rule=\"evenodd\" fill-opacity=\"1\" stroke=\"#000000\" stroke-opacity=\"1\" stroke-width=\"3.2\"/>\n<path clip-path=\"url(#clip042)\" d=\"M540.795 1221.83 L534.795 1227.83 L540.795 1233.83 L546.795 1227.83 L540.795 1221.83 Z\" fill=\"#3da44d\" fill-rule=\"evenodd\" fill-opacity=\"1\" stroke=\"#000000\" stroke-opacity=\"1\" stroke-width=\"3.2\"/>\n<path clip-path=\"url(#clip042)\" d=\"M555.77 1221.83 L549.77 1227.83 L555.77 1233.83 L561.77 1227.83 L555.77 1221.83 Z\" fill=\"#3da44d\" fill-rule=\"evenodd\" fill-opacity=\"1\" stroke=\"#000000\" stroke-opacity=\"1\" stroke-width=\"3.2\"/>\n<path clip-path=\"url(#clip042)\" d=\"M570.745 1216.2 L564.745 1222.2 L570.745 1228.2 L576.745 1222.2 L570.745 1216.2 Z\" fill=\"#3da44d\" fill-rule=\"evenodd\" fill-opacity=\"1\" stroke=\"#000000\" stroke-opacity=\"1\" stroke-width=\"3.2\"/>\n<path clip-path=\"url(#clip042)\" d=\"M585.719 1216.2 L579.719 1222.2 L585.719 1228.2 L591.719 1222.2 L585.719 1216.2 Z\" fill=\"#3da44d\" fill-rule=\"evenodd\" fill-opacity=\"1\" stroke=\"#000000\" stroke-opacity=\"1\" stroke-width=\"3.2\"/>\n<path clip-path=\"url(#clip042)\" d=\"M600.694 1193.71 L594.694 1199.71 L600.694 1205.71 L606.694 1199.71 L600.694 1193.71 Z\" fill=\"#3da44d\" fill-rule=\"evenodd\" fill-opacity=\"1\" stroke=\"#000000\" stroke-opacity=\"1\" stroke-width=\"3.2\"/>\n<path clip-path=\"url(#clip042)\" d=\"M615.668 1193.71 L609.668 1199.71 L615.668 1205.71 L621.668 1199.71 L615.668 1193.71 Z\" fill=\"#3da44d\" fill-rule=\"evenodd\" fill-opacity=\"1\" stroke=\"#000000\" stroke-opacity=\"1\" stroke-width=\"3.2\"/>\n<path clip-path=\"url(#clip042)\" d=\"M630.643 1171.21 L624.643 1177.21 L630.643 1183.21 L636.643 1177.21 L630.643 1171.21 Z\" fill=\"#3da44d\" fill-rule=\"evenodd\" fill-opacity=\"1\" stroke=\"#000000\" stroke-opacity=\"1\" stroke-width=\"3.2\"/>\n<path clip-path=\"url(#clip042)\" d=\"M645.618 1171.21 L639.618 1177.21 L645.618 1183.21 L651.618 1177.21 L645.618 1171.21 Z\" fill=\"#3da44d\" fill-rule=\"evenodd\" fill-opacity=\"1\" stroke=\"#000000\" stroke-opacity=\"1\" stroke-width=\"3.2\"/>\n<path clip-path=\"url(#clip042)\" d=\"M660.592 1171.21 L654.592 1177.21 L660.592 1183.21 L666.592 1177.21 L660.592 1171.21 Z\" fill=\"#3da44d\" fill-rule=\"evenodd\" fill-opacity=\"1\" stroke=\"#000000\" stroke-opacity=\"1\" stroke-width=\"3.2\"/>\n<path clip-path=\"url(#clip042)\" d=\"M675.567 1151.53 L669.567 1157.53 L675.567 1163.53 L681.567 1157.53 L675.567 1151.53 Z\" fill=\"#3da44d\" fill-rule=\"evenodd\" fill-opacity=\"1\" stroke=\"#000000\" stroke-opacity=\"1\" stroke-width=\"3.2\"/>\n<path clip-path=\"url(#clip042)\" d=\"M690.542 1151.53 L684.542 1157.53 L690.542 1163.53 L696.542 1157.53 L690.542 1151.53 Z\" fill=\"#3da44d\" fill-rule=\"evenodd\" fill-opacity=\"1\" stroke=\"#000000\" stroke-opacity=\"1\" stroke-width=\"3.2\"/>\n<path clip-path=\"url(#clip042)\" d=\"M705.516 1151.53 L699.516 1157.53 L705.516 1163.53 L711.516 1157.53 L705.516 1151.53 Z\" fill=\"#3da44d\" fill-rule=\"evenodd\" fill-opacity=\"1\" stroke=\"#000000\" stroke-opacity=\"1\" stroke-width=\"3.2\"/>\n<path clip-path=\"url(#clip042)\" d=\"M720.491 1114.97 L714.491 1120.97 L720.491 1126.97 L726.491 1120.97 L720.491 1114.97 Z\" fill=\"#3da44d\" fill-rule=\"evenodd\" fill-opacity=\"1\" stroke=\"#000000\" stroke-opacity=\"1\" stroke-width=\"3.2\"/>\n<path clip-path=\"url(#clip042)\" d=\"M735.466 1114.97 L729.466 1120.97 L735.466 1126.97 L741.466 1120.97 L735.466 1114.97 Z\" fill=\"#3da44d\" fill-rule=\"evenodd\" fill-opacity=\"1\" stroke=\"#000000\" stroke-opacity=\"1\" stroke-width=\"3.2\"/>\n<path clip-path=\"url(#clip042)\" d=\"M750.44 1114.97 L744.44 1120.97 L750.44 1126.97 L756.44 1120.97 L750.44 1114.97 Z\" fill=\"#3da44d\" fill-rule=\"evenodd\" fill-opacity=\"1\" stroke=\"#000000\" stroke-opacity=\"1\" stroke-width=\"3.2\"/>\n<path clip-path=\"url(#clip042)\" d=\"M765.415 1114.97 L759.415 1120.97 L765.415 1126.97 L771.415 1120.97 L765.415 1114.97 Z\" fill=\"#3da44d\" fill-rule=\"evenodd\" fill-opacity=\"1\" stroke=\"#000000\" stroke-opacity=\"1\" stroke-width=\"3.2\"/>\n<path clip-path=\"url(#clip042)\" d=\"M780.389 1114.97 L774.389 1120.97 L780.389 1126.97 L786.389 1120.97 L780.389 1114.97 Z\" fill=\"#3da44d\" fill-rule=\"evenodd\" fill-opacity=\"1\" stroke=\"#000000\" stroke-opacity=\"1\" stroke-width=\"3.2\"/>\n<path clip-path=\"url(#clip042)\" d=\"M795.364 1067.17 L789.364 1073.17 L795.364 1079.17 L801.364 1073.17 L795.364 1067.17 Z\" fill=\"#3da44d\" fill-rule=\"evenodd\" fill-opacity=\"1\" stroke=\"#000000\" stroke-opacity=\"1\" stroke-width=\"3.2\"/>\n<path clip-path=\"url(#clip042)\" d=\"M810.339 1067.17 L804.339 1073.17 L810.339 1079.17 L816.339 1073.17 L810.339 1067.17 Z\" fill=\"#3da44d\" fill-rule=\"evenodd\" fill-opacity=\"1\" stroke=\"#000000\" stroke-opacity=\"1\" stroke-width=\"3.2\"/>\n<path clip-path=\"url(#clip042)\" d=\"M825.313 1067.17 L819.313 1073.17 L825.313 1079.17 L831.313 1073.17 L825.313 1067.17 Z\" fill=\"#3da44d\" fill-rule=\"evenodd\" fill-opacity=\"1\" stroke=\"#000000\" stroke-opacity=\"1\" stroke-width=\"3.2\"/>\n<path clip-path=\"url(#clip042)\" d=\"M840.288 1067.17 L834.288 1073.17 L840.288 1079.17 L846.288 1073.17 L840.288 1067.17 Z\" fill=\"#3da44d\" fill-rule=\"evenodd\" fill-opacity=\"1\" stroke=\"#000000\" stroke-opacity=\"1\" stroke-width=\"3.2\"/>\n<path clip-path=\"url(#clip042)\" d=\"M855.263 1067.17 L849.263 1073.17 L855.263 1079.17 L861.263 1073.17 L855.263 1067.17 Z\" fill=\"#3da44d\" fill-rule=\"evenodd\" fill-opacity=\"1\" stroke=\"#000000\" stroke-opacity=\"1\" stroke-width=\"3.2\"/>\n<path clip-path=\"url(#clip042)\" d=\"M870.237 1067.17 L864.237 1073.17 L870.237 1079.17 L876.237 1073.17 L870.237 1067.17 Z\" fill=\"#3da44d\" fill-rule=\"evenodd\" fill-opacity=\"1\" stroke=\"#000000\" stroke-opacity=\"1\" stroke-width=\"3.2\"/>\n<path clip-path=\"url(#clip042)\" d=\"M885.212 1067.17 L879.212 1073.17 L885.212 1079.17 L891.212 1073.17 L885.212 1067.17 Z\" fill=\"#3da44d\" fill-rule=\"evenodd\" fill-opacity=\"1\" stroke=\"#000000\" stroke-opacity=\"1\" stroke-width=\"3.2\"/>\n<path clip-path=\"url(#clip042)\" d=\"M900.187 965.94 L894.187 971.94 L900.187 977.94 L906.187 971.94 L900.187 965.94 Z\" fill=\"#3da44d\" fill-rule=\"evenodd\" fill-opacity=\"1\" stroke=\"#000000\" stroke-opacity=\"1\" stroke-width=\"3.2\"/>\n<path clip-path=\"url(#clip042)\" d=\"M915.161 965.94 L909.161 971.94 L915.161 977.94 L921.161 971.94 L915.161 965.94 Z\" fill=\"#3da44d\" fill-rule=\"evenodd\" fill-opacity=\"1\" stroke=\"#000000\" stroke-opacity=\"1\" stroke-width=\"3.2\"/>\n<path clip-path=\"url(#clip042)\" d=\"M930.136 965.94 L924.136 971.94 L930.136 977.94 L936.136 971.94 L930.136 965.94 Z\" fill=\"#3da44d\" fill-rule=\"evenodd\" fill-opacity=\"1\" stroke=\"#000000\" stroke-opacity=\"1\" stroke-width=\"3.2\"/>\n<path clip-path=\"url(#clip042)\" d=\"M945.11 965.94 L939.11 971.94 L945.11 977.94 L951.11 971.94 L945.11 965.94 Z\" fill=\"#3da44d\" fill-rule=\"evenodd\" fill-opacity=\"1\" stroke=\"#000000\" stroke-opacity=\"1\" stroke-width=\"3.2\"/>\n<path clip-path=\"url(#clip042)\" d=\"M960.085 965.94 L954.085 971.94 L960.085 977.94 L966.085 971.94 L960.085 965.94 Z\" fill=\"#3da44d\" fill-rule=\"evenodd\" fill-opacity=\"1\" stroke=\"#000000\" stroke-opacity=\"1\" stroke-width=\"3.2\"/>\n<path clip-path=\"url(#clip042)\" d=\"M975.06 965.94 L969.06 971.94 L975.06 977.94 L981.06 971.94 L975.06 965.94 Z\" fill=\"#3da44d\" fill-rule=\"evenodd\" fill-opacity=\"1\" stroke=\"#000000\" stroke-opacity=\"1\" stroke-width=\"3.2\"/>\n<path clip-path=\"url(#clip042)\" d=\"M990.034 965.94 L984.034 971.94 L990.034 977.94 L996.034 971.94 L990.034 965.94 Z\" fill=\"#3da44d\" fill-rule=\"evenodd\" fill-opacity=\"1\" stroke=\"#000000\" stroke-opacity=\"1\" stroke-width=\"3.2\"/>\n<path clip-path=\"url(#clip042)\" d=\"M1005.01 965.94 L999.009 971.94 L1005.01 977.94 L1011.01 971.94 L1005.01 965.94 Z\" fill=\"#3da44d\" fill-rule=\"evenodd\" fill-opacity=\"1\" stroke=\"#000000\" stroke-opacity=\"1\" stroke-width=\"3.2\"/>\n<path clip-path=\"url(#clip042)\" d=\"M1019.98 965.94 L1013.98 971.94 L1019.98 977.94 L1025.98 971.94 L1019.98 965.94 Z\" fill=\"#3da44d\" fill-rule=\"evenodd\" fill-opacity=\"1\" stroke=\"#000000\" stroke-opacity=\"1\" stroke-width=\"3.2\"/>\n<path clip-path=\"url(#clip042)\" d=\"M1034.96 965.94 L1028.96 971.94 L1034.96 977.94 L1040.96 971.94 L1034.96 965.94 Z\" fill=\"#3da44d\" fill-rule=\"evenodd\" fill-opacity=\"1\" stroke=\"#000000\" stroke-opacity=\"1\" stroke-width=\"3.2\"/>\n<path clip-path=\"url(#clip042)\" d=\"M1049.93 828.156 L1043.93 834.156 L1049.93 840.156 L1055.93 834.156 L1049.93 828.156 Z\" fill=\"#3da44d\" fill-rule=\"evenodd\" fill-opacity=\"1\" stroke=\"#000000\" stroke-opacity=\"1\" stroke-width=\"3.2\"/>\n<path clip-path=\"url(#clip042)\" d=\"M1064.91 828.156 L1058.91 834.156 L1064.91 840.156 L1070.91 834.156 L1064.91 828.156 Z\" fill=\"#3da44d\" fill-rule=\"evenodd\" fill-opacity=\"1\" stroke=\"#000000\" stroke-opacity=\"1\" stroke-width=\"3.2\"/>\n<path clip-path=\"url(#clip042)\" d=\"M1079.88 828.156 L1073.88 834.156 L1079.88 840.156 L1085.88 834.156 L1079.88 828.156 Z\" fill=\"#3da44d\" fill-rule=\"evenodd\" fill-opacity=\"1\" stroke=\"#000000\" stroke-opacity=\"1\" stroke-width=\"3.2\"/>\n<path clip-path=\"url(#clip042)\" d=\"M1094.86 828.156 L1088.86 834.156 L1094.86 840.156 L1100.86 834.156 L1094.86 828.156 Z\" fill=\"#3da44d\" fill-rule=\"evenodd\" fill-opacity=\"1\" stroke=\"#000000\" stroke-opacity=\"1\" stroke-width=\"3.2\"/>\n<path clip-path=\"url(#clip042)\" d=\"M1109.83 828.156 L1103.83 834.156 L1109.83 840.156 L1115.83 834.156 L1109.83 828.156 Z\" fill=\"#3da44d\" fill-rule=\"evenodd\" fill-opacity=\"1\" stroke=\"#000000\" stroke-opacity=\"1\" stroke-width=\"3.2\"/>\n<path clip-path=\"url(#clip042)\" d=\"M1124.81 828.156 L1118.81 834.156 L1124.81 840.156 L1130.81 834.156 L1124.81 828.156 Z\" fill=\"#3da44d\" fill-rule=\"evenodd\" fill-opacity=\"1\" stroke=\"#000000\" stroke-opacity=\"1\" stroke-width=\"3.2\"/>\n<path clip-path=\"url(#clip042)\" d=\"M1139.78 828.156 L1133.78 834.156 L1139.78 840.156 L1145.78 834.156 L1139.78 828.156 Z\" fill=\"#3da44d\" fill-rule=\"evenodd\" fill-opacity=\"1\" stroke=\"#000000\" stroke-opacity=\"1\" stroke-width=\"3.2\"/>\n<path clip-path=\"url(#clip042)\" d=\"M1154.76 828.156 L1148.76 834.156 L1154.76 840.156 L1160.76 834.156 L1154.76 828.156 Z\" fill=\"#3da44d\" fill-rule=\"evenodd\" fill-opacity=\"1\" stroke=\"#000000\" stroke-opacity=\"1\" stroke-width=\"3.2\"/>\n<path clip-path=\"url(#clip042)\" d=\"M1169.73 828.156 L1163.73 834.156 L1169.73 840.156 L1175.73 834.156 L1169.73 828.156 Z\" fill=\"#3da44d\" fill-rule=\"evenodd\" fill-opacity=\"1\" stroke=\"#000000\" stroke-opacity=\"1\" stroke-width=\"3.2\"/>\n<path clip-path=\"url(#clip042)\" d=\"M1184.7 828.156 L1178.7 834.156 L1184.7 840.156 L1190.7 834.156 L1184.7 828.156 Z\" fill=\"#3da44d\" fill-rule=\"evenodd\" fill-opacity=\"1\" stroke=\"#000000\" stroke-opacity=\"1\" stroke-width=\"3.2\"/>\n<path clip-path=\"url(#clip042)\" d=\"M1199.68 828.156 L1193.68 834.156 L1199.68 840.156 L1205.68 834.156 L1199.68 828.156 Z\" fill=\"#3da44d\" fill-rule=\"evenodd\" fill-opacity=\"1\" stroke=\"#000000\" stroke-opacity=\"1\" stroke-width=\"3.2\"/>\n<path clip-path=\"url(#clip042)\" d=\"M1214.65 828.156 L1208.65 834.156 L1214.65 840.156 L1220.65 834.156 L1214.65 828.156 Z\" fill=\"#3da44d\" fill-rule=\"evenodd\" fill-opacity=\"1\" stroke=\"#000000\" stroke-opacity=\"1\" stroke-width=\"3.2\"/>\n<path clip-path=\"url(#clip042)\" d=\"M1229.63 828.156 L1223.63 834.156 L1229.63 840.156 L1235.63 834.156 L1229.63 828.156 Z\" fill=\"#3da44d\" fill-rule=\"evenodd\" fill-opacity=\"1\" stroke=\"#000000\" stroke-opacity=\"1\" stroke-width=\"3.2\"/>\n<path clip-path=\"url(#clip042)\" d=\"M1244.6 828.156 L1238.6 834.156 L1244.6 840.156 L1250.6 834.156 L1244.6 828.156 Z\" fill=\"#3da44d\" fill-rule=\"evenodd\" fill-opacity=\"1\" stroke=\"#000000\" stroke-opacity=\"1\" stroke-width=\"3.2\"/>\n<path clip-path=\"url(#clip042)\" d=\"M1259.58 828.156 L1253.58 834.156 L1259.58 840.156 L1265.58 834.156 L1259.58 828.156 Z\" fill=\"#3da44d\" fill-rule=\"evenodd\" fill-opacity=\"1\" stroke=\"#000000\" stroke-opacity=\"1\" stroke-width=\"3.2\"/>\n<path clip-path=\"url(#clip042)\" d=\"M1274.55 828.156 L1268.55 834.156 L1274.55 840.156 L1280.55 834.156 L1274.55 828.156 Z\" fill=\"#3da44d\" fill-rule=\"evenodd\" fill-opacity=\"1\" stroke=\"#000000\" stroke-opacity=\"1\" stroke-width=\"3.2\"/>\n<path clip-path=\"url(#clip042)\" d=\"M1289.53 566.648 L1283.53 572.648 L1289.53 578.648 L1295.53 572.648 L1289.53 566.648 Z\" fill=\"#3da44d\" fill-rule=\"evenodd\" fill-opacity=\"1\" stroke=\"#000000\" stroke-opacity=\"1\" stroke-width=\"3.2\"/>\n</svg>\n",
      "text/html": [
       "<?xml version=\"1.0\" encoding=\"utf-8\"?>\n",
       "<svg xmlns=\"http://www.w3.org/2000/svg\" xmlns:xlink=\"http://www.w3.org/1999/xlink\" width=\"600\" height=\"400\" viewBox=\"0 0 2400 1600\">\n",
       "<defs>\n",
       "  <clipPath id=\"clip090\">\n",
       "    <rect x=\"0\" y=\"0\" width=\"2400\" height=\"1600\"/>\n",
       "  </clipPath>\n",
       "</defs>\n",
       "<path clip-path=\"url(#clip090)\" d=\"\n",
       "M0 1600 L2400 1600 L2400 0 L0 0  Z\n",
       "  \" fill=\"#ffffff\" fill-rule=\"evenodd\" fill-opacity=\"1\"/>\n",
       "<defs>\n",
       "  <clipPath id=\"clip091\">\n",
       "    <rect x=\"480\" y=\"0\" width=\"1681\" height=\"1600\"/>\n",
       "  </clipPath>\n",
       "</defs>\n",
       "<path clip-path=\"url(#clip090)\" d=\"\n",
       "M235.283 1423.18 L2352.76 1423.18 L2352.76 47.2441 L235.283 47.2441  Z\n",
       "  \" fill=\"#ffffff\" fill-rule=\"evenodd\" fill-opacity=\"1\"/>\n",
       "<defs>\n",
       "  <clipPath id=\"clip092\">\n",
       "    <rect x=\"235\" y=\"47\" width=\"2118\" height=\"1377\"/>\n",
       "  </clipPath>\n",
       "</defs>\n",
       "<polyline clip-path=\"url(#clip092)\" style=\"stroke:#000000; stroke-linecap:butt; stroke-linejoin:round; stroke-width:2; stroke-opacity:0.1; fill:none\" points=\"\n",
       "  293.714,1423.18 293.714,47.2441 \n",
       "  \"/>\n",
       "<polyline clip-path=\"url(#clip092)\" style=\"stroke:#000000; stroke-linecap:butt; stroke-linejoin:round; stroke-width:2; stroke-opacity:0.1; fill:none\" points=\"\n",
       "  593.207,1423.18 593.207,47.2441 \n",
       "  \"/>\n",
       "<polyline clip-path=\"url(#clip092)\" style=\"stroke:#000000; stroke-linecap:butt; stroke-linejoin:round; stroke-width:2; stroke-opacity:0.1; fill:none\" points=\"\n",
       "  892.699,1423.18 892.699,47.2441 \n",
       "  \"/>\n",
       "<polyline clip-path=\"url(#clip092)\" style=\"stroke:#000000; stroke-linecap:butt; stroke-linejoin:round; stroke-width:2; stroke-opacity:0.1; fill:none\" points=\"\n",
       "  1192.19,1423.18 1192.19,47.2441 \n",
       "  \"/>\n",
       "<polyline clip-path=\"url(#clip092)\" style=\"stroke:#000000; stroke-linecap:butt; stroke-linejoin:round; stroke-width:2; stroke-opacity:0.1; fill:none\" points=\"\n",
       "  1491.68,1423.18 1491.68,47.2441 \n",
       "  \"/>\n",
       "<polyline clip-path=\"url(#clip092)\" style=\"stroke:#000000; stroke-linecap:butt; stroke-linejoin:round; stroke-width:2; stroke-opacity:0.1; fill:none\" points=\"\n",
       "  1791.18,1423.18 1791.18,47.2441 \n",
       "  \"/>\n",
       "<polyline clip-path=\"url(#clip092)\" style=\"stroke:#000000; stroke-linecap:butt; stroke-linejoin:round; stroke-width:2; stroke-opacity:0.1; fill:none\" points=\"\n",
       "  2090.67,1423.18 2090.67,47.2441 \n",
       "  \"/>\n",
       "<polyline clip-path=\"url(#clip090)\" style=\"stroke:#000000; stroke-linecap:butt; stroke-linejoin:round; stroke-width:4; stroke-opacity:1; fill:none\" points=\"\n",
       "  235.283,1423.18 2352.76,1423.18 \n",
       "  \"/>\n",
       "<polyline clip-path=\"url(#clip090)\" style=\"stroke:#000000; stroke-linecap:butt; stroke-linejoin:round; stroke-width:4; stroke-opacity:1; fill:none\" points=\"\n",
       "  293.714,1423.18 293.714,1406.67 \n",
       "  \"/>\n",
       "<polyline clip-path=\"url(#clip090)\" style=\"stroke:#000000; stroke-linecap:butt; stroke-linejoin:round; stroke-width:4; stroke-opacity:1; fill:none\" points=\"\n",
       "  593.207,1423.18 593.207,1406.67 \n",
       "  \"/>\n",
       "<polyline clip-path=\"url(#clip090)\" style=\"stroke:#000000; stroke-linecap:butt; stroke-linejoin:round; stroke-width:4; stroke-opacity:1; fill:none\" points=\"\n",
       "  892.699,1423.18 892.699,1406.67 \n",
       "  \"/>\n",
       "<polyline clip-path=\"url(#clip090)\" style=\"stroke:#000000; stroke-linecap:butt; stroke-linejoin:round; stroke-width:4; stroke-opacity:1; fill:none\" points=\"\n",
       "  1192.19,1423.18 1192.19,1406.67 \n",
       "  \"/>\n",
       "<polyline clip-path=\"url(#clip090)\" style=\"stroke:#000000; stroke-linecap:butt; stroke-linejoin:round; stroke-width:4; stroke-opacity:1; fill:none\" points=\"\n",
       "  1491.68,1423.18 1491.68,1406.67 \n",
       "  \"/>\n",
       "<polyline clip-path=\"url(#clip090)\" style=\"stroke:#000000; stroke-linecap:butt; stroke-linejoin:round; stroke-width:4; stroke-opacity:1; fill:none\" points=\"\n",
       "  1791.18,1423.18 1791.18,1406.67 \n",
       "  \"/>\n",
       "<polyline clip-path=\"url(#clip090)\" style=\"stroke:#000000; stroke-linecap:butt; stroke-linejoin:round; stroke-width:4; stroke-opacity:1; fill:none\" points=\"\n",
       "  2090.67,1423.18 2090.67,1406.67 \n",
       "  \"/>\n",
       "<path clip-path=\"url(#clip090)\" d=\"M293.714 1452.37 Q290.103 1452.37 288.274 1455.94 Q286.469 1459.48 286.469 1466.61 Q286.469 1473.71 288.274 1477.28 Q290.103 1480.82 293.714 1480.82 Q297.348 1480.82 299.154 1477.28 Q300.982 1473.71 300.982 1466.61 Q300.982 1459.48 299.154 1455.94 Q297.348 1452.37 293.714 1452.37 M293.714 1448.67 Q299.524 1448.67 302.58 1453.27 Q305.658 1457.86 305.658 1466.61 Q305.658 1475.33 302.58 1479.94 Q299.524 1484.52 293.714 1484.52 Q287.904 1484.52 284.825 1479.94 Q281.769 1475.33 281.769 1466.61 Q281.769 1457.86 284.825 1453.27 Q287.904 1448.67 293.714 1448.67 Z\" fill=\"#000000\" fill-rule=\"evenodd\" fill-opacity=\"1\" /><path clip-path=\"url(#clip090)\" d=\"M556.899 1479.92 L573.218 1479.92 L573.218 1483.85 L551.274 1483.85 L551.274 1479.92 Q553.936 1477.16 558.519 1472.53 Q563.126 1467.88 564.306 1466.54 Q566.552 1464.01 567.431 1462.28 Q568.334 1460.52 568.334 1458.83 Q568.334 1456.07 566.39 1454.34 Q564.468 1452.6 561.366 1452.6 Q559.167 1452.6 556.714 1453.37 Q554.283 1454.13 551.505 1455.68 L551.505 1450.96 Q554.329 1449.82 556.783 1449.25 Q559.237 1448.67 561.274 1448.67 Q566.644 1448.67 569.839 1451.35 Q573.033 1454.04 573.033 1458.53 Q573.033 1460.66 572.223 1462.58 Q571.436 1464.48 569.329 1467.07 Q568.751 1467.74 565.649 1470.96 Q562.547 1474.15 556.899 1479.92 Z\" fill=\"#000000\" fill-rule=\"evenodd\" fill-opacity=\"1\" /><path clip-path=\"url(#clip090)\" d=\"M593.033 1452.37 Q589.422 1452.37 587.593 1455.94 Q585.788 1459.48 585.788 1466.61 Q585.788 1473.71 587.593 1477.28 Q589.422 1480.82 593.033 1480.82 Q596.667 1480.82 598.473 1477.28 Q600.301 1473.71 600.301 1466.61 Q600.301 1459.48 598.473 1455.94 Q596.667 1452.37 593.033 1452.37 M593.033 1448.67 Q598.843 1448.67 601.899 1453.27 Q604.977 1457.86 604.977 1466.61 Q604.977 1475.33 601.899 1479.94 Q598.843 1484.52 593.033 1484.52 Q587.223 1484.52 584.144 1479.94 Q581.089 1475.33 581.089 1466.61 Q581.089 1457.86 584.144 1453.27 Q587.223 1448.67 593.033 1448.67 Z\" fill=\"#000000\" fill-rule=\"evenodd\" fill-opacity=\"1\" /><path clip-path=\"url(#clip090)\" d=\"M623.195 1452.37 Q619.584 1452.37 617.755 1455.94 Q615.949 1459.48 615.949 1466.61 Q615.949 1473.71 617.755 1477.28 Q619.584 1480.82 623.195 1480.82 Q626.829 1480.82 628.635 1477.28 Q630.463 1473.71 630.463 1466.61 Q630.463 1459.48 628.635 1455.94 Q626.829 1452.37 623.195 1452.37 M623.195 1448.67 Q629.005 1448.67 632.06 1453.27 Q635.139 1457.86 635.139 1466.61 Q635.139 1475.33 632.06 1479.94 Q629.005 1484.52 623.195 1484.52 Q617.385 1484.52 614.306 1479.94 Q611.25 1475.33 611.25 1466.61 Q611.25 1457.86 614.306 1453.27 Q617.385 1448.67 623.195 1448.67 Z\" fill=\"#000000\" fill-rule=\"evenodd\" fill-opacity=\"1\" /><path clip-path=\"url(#clip090)\" d=\"M865.79 1453.37 L853.984 1471.81 L865.79 1471.81 L865.79 1453.37 M864.563 1449.29 L870.442 1449.29 L870.442 1471.81 L875.373 1471.81 L875.373 1475.7 L870.442 1475.7 L870.442 1483.85 L865.79 1483.85 L865.79 1475.7 L850.188 1475.7 L850.188 1471.19 L864.563 1449.29 Z\" fill=\"#000000\" fill-rule=\"evenodd\" fill-opacity=\"1\" /><path clip-path=\"url(#clip090)\" d=\"M893.104 1452.37 Q889.493 1452.37 887.665 1455.94 Q885.859 1459.48 885.859 1466.61 Q885.859 1473.71 887.665 1477.28 Q889.493 1480.82 893.104 1480.82 Q896.739 1480.82 898.544 1477.28 Q900.373 1473.71 900.373 1466.61 Q900.373 1459.48 898.544 1455.94 Q896.739 1452.37 893.104 1452.37 M893.104 1448.67 Q898.914 1448.67 901.97 1453.27 Q905.049 1457.86 905.049 1466.61 Q905.049 1475.33 901.97 1479.94 Q898.914 1484.52 893.104 1484.52 Q887.294 1484.52 884.215 1479.94 Q881.16 1475.33 881.16 1466.61 Q881.16 1457.86 884.215 1453.27 Q887.294 1448.67 893.104 1448.67 Z\" fill=\"#000000\" fill-rule=\"evenodd\" fill-opacity=\"1\" /><path clip-path=\"url(#clip090)\" d=\"M923.266 1452.37 Q919.655 1452.37 917.826 1455.94 Q916.021 1459.48 916.021 1466.61 Q916.021 1473.71 917.826 1477.28 Q919.655 1480.82 923.266 1480.82 Q926.9 1480.82 928.706 1477.28 Q930.535 1473.71 930.535 1466.61 Q930.535 1459.48 928.706 1455.94 Q926.9 1452.37 923.266 1452.37 M923.266 1448.67 Q929.076 1448.67 932.132 1453.27 Q935.211 1457.86 935.211 1466.61 Q935.211 1475.33 932.132 1479.94 Q929.076 1484.52 923.266 1484.52 Q917.456 1484.52 914.377 1479.94 Q911.322 1475.33 911.322 1466.61 Q911.322 1457.86 914.377 1453.27 Q917.456 1448.67 923.266 1448.67 Z\" fill=\"#000000\" fill-rule=\"evenodd\" fill-opacity=\"1\" /><path clip-path=\"url(#clip090)\" d=\"M1162.52 1464.71 Q1159.37 1464.71 1157.52 1466.86 Q1155.69 1469.01 1155.69 1472.76 Q1155.69 1476.49 1157.52 1478.67 Q1159.37 1480.82 1162.52 1480.82 Q1165.66 1480.82 1167.49 1478.67 Q1169.34 1476.49 1169.34 1472.76 Q1169.34 1469.01 1167.49 1466.86 Q1165.66 1464.71 1162.52 1464.71 M1171.8 1450.06 L1171.8 1454.31 Q1170.04 1453.48 1168.23 1453.04 Q1166.45 1452.6 1164.69 1452.6 Q1160.06 1452.6 1157.61 1455.73 Q1155.18 1458.85 1154.83 1465.17 Q1156.2 1463.16 1158.26 1462.09 Q1160.32 1461 1162.79 1461 Q1168 1461 1171.01 1464.18 Q1174.04 1467.32 1174.04 1472.76 Q1174.04 1478.09 1170.9 1481.31 Q1167.75 1484.52 1162.52 1484.52 Q1156.52 1484.52 1153.35 1479.94 Q1150.18 1475.33 1150.18 1466.61 Q1150.18 1458.41 1154.07 1453.55 Q1157.96 1448.67 1164.51 1448.67 Q1166.27 1448.67 1168.05 1449.01 Q1169.85 1449.36 1171.8 1450.06 Z\" fill=\"#000000\" fill-rule=\"evenodd\" fill-opacity=\"1\" /><path clip-path=\"url(#clip090)\" d=\"M1192.1 1452.37 Q1188.49 1452.37 1186.66 1455.94 Q1184.85 1459.48 1184.85 1466.61 Q1184.85 1473.71 1186.66 1477.28 Q1188.49 1480.82 1192.1 1480.82 Q1195.73 1480.82 1197.54 1477.28 Q1199.37 1473.71 1199.37 1466.61 Q1199.37 1459.48 1197.54 1455.94 Q1195.73 1452.37 1192.1 1452.37 M1192.1 1448.67 Q1197.91 1448.67 1200.96 1453.27 Q1204.04 1457.86 1204.04 1466.61 Q1204.04 1475.33 1200.96 1479.94 Q1197.91 1484.52 1192.1 1484.52 Q1186.29 1484.52 1183.21 1479.94 Q1180.15 1475.33 1180.15 1466.61 Q1180.15 1457.86 1183.21 1453.27 Q1186.29 1448.67 1192.1 1448.67 Z\" fill=\"#000000\" fill-rule=\"evenodd\" fill-opacity=\"1\" /><path clip-path=\"url(#clip090)\" d=\"M1222.26 1452.37 Q1218.65 1452.37 1216.82 1455.94 Q1215.02 1459.48 1215.02 1466.61 Q1215.02 1473.71 1216.82 1477.28 Q1218.65 1480.82 1222.26 1480.82 Q1225.9 1480.82 1227.7 1477.28 Q1229.53 1473.71 1229.53 1466.61 Q1229.53 1459.48 1227.7 1455.94 Q1225.9 1452.37 1222.26 1452.37 M1222.26 1448.67 Q1228.07 1448.67 1231.13 1453.27 Q1234.21 1457.86 1234.21 1466.61 Q1234.21 1475.33 1231.13 1479.94 Q1228.07 1484.52 1222.26 1484.52 Q1216.45 1484.52 1213.37 1479.94 Q1210.32 1475.33 1210.32 1466.61 Q1210.32 1457.86 1213.37 1453.27 Q1216.45 1448.67 1222.26 1448.67 Z\" fill=\"#000000\" fill-rule=\"evenodd\" fill-opacity=\"1\" /><path clip-path=\"url(#clip090)\" d=\"M1461.48 1467.44 Q1458.14 1467.44 1456.22 1469.22 Q1454.32 1471 1454.32 1474.13 Q1454.32 1477.25 1456.22 1479.04 Q1458.14 1480.82 1461.48 1480.82 Q1464.81 1480.82 1466.73 1479.04 Q1468.65 1477.23 1468.65 1474.13 Q1468.65 1471 1466.73 1469.22 Q1464.83 1467.44 1461.48 1467.44 M1456.8 1465.45 Q1453.79 1464.71 1452.1 1462.65 Q1450.43 1460.59 1450.43 1457.63 Q1450.43 1453.48 1453.37 1451.07 Q1456.34 1448.67 1461.48 1448.67 Q1466.64 1448.67 1469.58 1451.07 Q1472.52 1453.48 1472.52 1457.63 Q1472.52 1460.59 1470.83 1462.65 Q1469.16 1464.71 1466.18 1465.45 Q1469.56 1466.24 1471.43 1468.53 Q1473.33 1470.82 1473.33 1474.13 Q1473.33 1479.15 1470.25 1481.84 Q1467.19 1484.52 1461.48 1484.52 Q1455.76 1484.52 1452.68 1481.84 Q1449.62 1479.15 1449.62 1474.13 Q1449.62 1470.82 1451.52 1468.53 Q1453.42 1466.24 1456.8 1465.45 M1455.09 1458.06 Q1455.09 1460.75 1456.75 1462.25 Q1458.44 1463.76 1461.48 1463.76 Q1464.49 1463.76 1466.18 1462.25 Q1467.89 1460.75 1467.89 1458.06 Q1467.89 1455.38 1466.18 1453.88 Q1464.49 1452.37 1461.48 1452.37 Q1458.44 1452.37 1456.75 1453.88 Q1455.09 1455.38 1455.09 1458.06 Z\" fill=\"#000000\" fill-rule=\"evenodd\" fill-opacity=\"1\" /><path clip-path=\"url(#clip090)\" d=\"M1491.64 1452.37 Q1488.03 1452.37 1486.2 1455.94 Q1484.39 1459.48 1484.39 1466.61 Q1484.39 1473.71 1486.2 1477.28 Q1488.03 1480.82 1491.64 1480.82 Q1495.27 1480.82 1497.08 1477.28 Q1498.91 1473.71 1498.91 1466.61 Q1498.91 1459.48 1497.08 1455.94 Q1495.27 1452.37 1491.64 1452.37 M1491.64 1448.67 Q1497.45 1448.67 1500.5 1453.27 Q1503.58 1457.86 1503.58 1466.61 Q1503.58 1475.33 1500.5 1479.94 Q1497.45 1484.52 1491.64 1484.52 Q1485.83 1484.52 1482.75 1479.94 Q1479.69 1475.33 1479.69 1466.61 Q1479.69 1457.86 1482.75 1453.27 Q1485.83 1448.67 1491.64 1448.67 Z\" fill=\"#000000\" fill-rule=\"evenodd\" fill-opacity=\"1\" /><path clip-path=\"url(#clip090)\" d=\"M1521.8 1452.37 Q1518.19 1452.37 1516.36 1455.94 Q1514.55 1459.48 1514.55 1466.61 Q1514.55 1473.71 1516.36 1477.28 Q1518.19 1480.82 1521.8 1480.82 Q1525.43 1480.82 1527.24 1477.28 Q1529.07 1473.71 1529.07 1466.61 Q1529.07 1459.48 1527.24 1455.94 Q1525.43 1452.37 1521.8 1452.37 M1521.8 1448.67 Q1527.61 1448.67 1530.67 1453.27 Q1533.74 1457.86 1533.74 1466.61 Q1533.74 1475.33 1530.67 1479.94 Q1527.61 1484.52 1521.8 1484.52 Q1515.99 1484.52 1512.91 1479.94 Q1509.86 1475.33 1509.86 1466.61 Q1509.86 1457.86 1512.91 1453.27 Q1515.99 1448.67 1521.8 1448.67 Z\" fill=\"#000000\" fill-rule=\"evenodd\" fill-opacity=\"1\" /><path clip-path=\"url(#clip090)\" d=\"M1735.7 1479.92 L1743.34 1479.92 L1743.34 1453.55 L1735.03 1455.22 L1735.03 1450.96 L1743.3 1449.29 L1747.97 1449.29 L1747.97 1479.92 L1755.61 1479.92 L1755.61 1483.85 L1735.7 1483.85 L1735.7 1479.92 Z\" fill=\"#000000\" fill-rule=\"evenodd\" fill-opacity=\"1\" /><path clip-path=\"url(#clip090)\" d=\"M1775.05 1452.37 Q1771.44 1452.37 1769.61 1455.94 Q1767.81 1459.48 1767.81 1466.61 Q1767.81 1473.71 1769.61 1477.28 Q1771.44 1480.82 1775.05 1480.82 Q1778.69 1480.82 1780.49 1477.28 Q1782.32 1473.71 1782.32 1466.61 Q1782.32 1459.48 1780.49 1455.94 Q1778.69 1452.37 1775.05 1452.37 M1775.05 1448.67 Q1780.86 1448.67 1783.92 1453.27 Q1787 1457.86 1787 1466.61 Q1787 1475.33 1783.92 1479.94 Q1780.86 1484.52 1775.05 1484.52 Q1769.24 1484.52 1766.17 1479.94 Q1763.11 1475.33 1763.11 1466.61 Q1763.11 1457.86 1766.17 1453.27 Q1769.24 1448.67 1775.05 1448.67 Z\" fill=\"#000000\" fill-rule=\"evenodd\" fill-opacity=\"1\" /><path clip-path=\"url(#clip090)\" d=\"M1805.22 1452.37 Q1801.61 1452.37 1799.78 1455.94 Q1797.97 1459.48 1797.97 1466.61 Q1797.97 1473.71 1799.78 1477.28 Q1801.61 1480.82 1805.22 1480.82 Q1808.85 1480.82 1810.66 1477.28 Q1812.48 1473.71 1812.48 1466.61 Q1812.48 1459.48 1810.66 1455.94 Q1808.85 1452.37 1805.22 1452.37 M1805.22 1448.67 Q1811.03 1448.67 1814.08 1453.27 Q1817.16 1457.86 1817.16 1466.61 Q1817.16 1475.33 1814.08 1479.94 Q1811.03 1484.52 1805.22 1484.52 Q1799.41 1484.52 1796.33 1479.94 Q1793.27 1475.33 1793.27 1466.61 Q1793.27 1457.86 1796.33 1453.27 Q1799.41 1448.67 1805.22 1448.67 Z\" fill=\"#000000\" fill-rule=\"evenodd\" fill-opacity=\"1\" /><path clip-path=\"url(#clip090)\" d=\"M1835.38 1452.37 Q1831.77 1452.37 1829.94 1455.94 Q1828.13 1459.48 1828.13 1466.61 Q1828.13 1473.71 1829.94 1477.28 Q1831.77 1480.82 1835.38 1480.82 Q1839.01 1480.82 1840.82 1477.28 Q1842.65 1473.71 1842.65 1466.61 Q1842.65 1459.48 1840.82 1455.94 Q1839.01 1452.37 1835.38 1452.37 M1835.38 1448.67 Q1841.19 1448.67 1844.24 1453.27 Q1847.32 1457.86 1847.32 1466.61 Q1847.32 1475.33 1844.24 1479.94 Q1841.19 1484.52 1835.38 1484.52 Q1829.57 1484.52 1826.49 1479.94 Q1823.43 1475.33 1823.43 1466.61 Q1823.43 1457.86 1826.49 1453.27 Q1829.57 1448.67 1835.38 1448.67 Z\" fill=\"#000000\" fill-rule=\"evenodd\" fill-opacity=\"1\" /><path clip-path=\"url(#clip090)\" d=\"M2035.2 1479.92 L2042.83 1479.92 L2042.83 1453.55 L2034.52 1455.22 L2034.52 1450.96 L2042.79 1449.29 L2047.46 1449.29 L2047.46 1479.92 L2055.1 1479.92 L2055.1 1483.85 L2035.2 1483.85 L2035.2 1479.92 Z\" fill=\"#000000\" fill-rule=\"evenodd\" fill-opacity=\"1\" /><path clip-path=\"url(#clip090)\" d=\"M2068.58 1479.92 L2084.89 1479.92 L2084.89 1483.85 L2062.95 1483.85 L2062.95 1479.92 Q2065.61 1477.16 2070.2 1472.53 Q2074.8 1467.88 2075.98 1466.54 Q2078.23 1464.01 2079.11 1462.28 Q2080.01 1460.52 2080.01 1458.83 Q2080.01 1456.07 2078.07 1454.34 Q2076.14 1452.6 2073.04 1452.6 Q2070.84 1452.6 2068.39 1453.37 Q2065.96 1454.13 2063.18 1455.68 L2063.18 1450.96 Q2066.01 1449.82 2068.46 1449.25 Q2070.91 1448.67 2072.95 1448.67 Q2078.32 1448.67 2081.51 1451.35 Q2084.71 1454.04 2084.71 1458.53 Q2084.71 1460.66 2083.9 1462.58 Q2083.11 1464.48 2081.01 1467.07 Q2080.43 1467.74 2077.33 1470.96 Q2074.22 1474.15 2068.58 1479.92 Z\" fill=\"#000000\" fill-rule=\"evenodd\" fill-opacity=\"1\" /><path clip-path=\"url(#clip090)\" d=\"M2104.71 1452.37 Q2101.1 1452.37 2099.27 1455.94 Q2097.46 1459.48 2097.46 1466.61 Q2097.46 1473.71 2099.27 1477.28 Q2101.1 1480.82 2104.71 1480.82 Q2108.34 1480.82 2110.15 1477.28 Q2111.98 1473.71 2111.98 1466.61 Q2111.98 1459.48 2110.15 1455.94 Q2108.34 1452.37 2104.71 1452.37 M2104.71 1448.67 Q2110.52 1448.67 2113.57 1453.27 Q2116.65 1457.86 2116.65 1466.61 Q2116.65 1475.33 2113.57 1479.94 Q2110.52 1484.52 2104.71 1484.52 Q2098.9 1484.52 2095.82 1479.94 Q2092.76 1475.33 2092.76 1466.61 Q2092.76 1457.86 2095.82 1453.27 Q2098.9 1448.67 2104.71 1448.67 Z\" fill=\"#000000\" fill-rule=\"evenodd\" fill-opacity=\"1\" /><path clip-path=\"url(#clip090)\" d=\"M2134.87 1452.37 Q2131.26 1452.37 2129.43 1455.94 Q2127.63 1459.48 2127.63 1466.61 Q2127.63 1473.71 2129.43 1477.28 Q2131.26 1480.82 2134.87 1480.82 Q2138.51 1480.82 2140.31 1477.28 Q2142.14 1473.71 2142.14 1466.61 Q2142.14 1459.48 2140.31 1455.94 Q2138.51 1452.37 2134.87 1452.37 M2134.87 1448.67 Q2140.68 1448.67 2143.74 1453.27 Q2146.82 1457.86 2146.82 1466.61 Q2146.82 1475.33 2143.74 1479.94 Q2140.68 1484.52 2134.87 1484.52 Q2129.06 1484.52 2125.98 1479.94 Q2122.93 1475.33 2122.93 1466.61 Q2122.93 1457.86 2125.98 1453.27 Q2129.06 1448.67 2134.87 1448.67 Z\" fill=\"#000000\" fill-rule=\"evenodd\" fill-opacity=\"1\" /><path clip-path=\"url(#clip090)\" d=\"M1254.71 1562.63 L1265.21 1562.63 L1265.21 1526.38 L1253.79 1528.67 L1253.79 1522.82 L1265.15 1520.52 L1271.58 1520.52 L1271.58 1562.63 L1282.08 1562.63 L1282.08 1568.04 L1254.71 1568.04 L1254.71 1562.63 Z\" fill=\"#000000\" fill-rule=\"evenodd\" fill-opacity=\"1\" /><path clip-path=\"url(#clip090)\" d=\"M1304.65 1520.52 L1310.06 1520.52 L1293.51 1574.09 L1288.1 1574.09 L1304.65 1520.52 Z\" fill=\"#000000\" fill-rule=\"evenodd\" fill-opacity=\"1\" /><path clip-path=\"url(#clip090)\" d=\"M1334.25 1518.52 L1334.25 1523.39 L1328.65 1523.39 Q1325.5 1523.39 1324.26 1524.66 Q1323.05 1525.93 1323.05 1529.24 L1323.05 1532.4 L1332.69 1532.4 L1332.69 1536.95 L1323.05 1536.95 L1323.05 1568.04 L1317.16 1568.04 L1317.16 1536.95 L1311.56 1536.95 L1311.56 1532.4 L1317.16 1532.4 L1317.16 1529.91 Q1317.16 1523.96 1319.93 1521.26 Q1322.7 1518.52 1328.71 1518.52 L1334.25 1518.52 Z\" fill=\"#000000\" fill-rule=\"evenodd\" fill-opacity=\"1\" /><polyline clip-path=\"url(#clip092)\" style=\"stroke:#000000; stroke-linecap:butt; stroke-linejoin:round; stroke-width:2; stroke-opacity:0.1; fill:none\" points=\"\n",
       "  235.283,1385.29 2352.76,1385.29 \n",
       "  \"/>\n",
       "<polyline clip-path=\"url(#clip092)\" style=\"stroke:#000000; stroke-linecap:butt; stroke-linejoin:round; stroke-width:2; stroke-opacity:0.1; fill:none\" points=\"\n",
       "  235.283,1104.1 2352.76,1104.1 \n",
       "  \"/>\n",
       "<polyline clip-path=\"url(#clip092)\" style=\"stroke:#000000; stroke-linecap:butt; stroke-linejoin:round; stroke-width:2; stroke-opacity:0.1; fill:none\" points=\"\n",
       "  235.283,822.909 2352.76,822.909 \n",
       "  \"/>\n",
       "<polyline clip-path=\"url(#clip092)\" style=\"stroke:#000000; stroke-linecap:butt; stroke-linejoin:round; stroke-width:2; stroke-opacity:0.1; fill:none\" points=\"\n",
       "  235.283,541.717 2352.76,541.717 \n",
       "  \"/>\n",
       "<polyline clip-path=\"url(#clip092)\" style=\"stroke:#000000; stroke-linecap:butt; stroke-linejoin:round; stroke-width:2; stroke-opacity:0.1; fill:none\" points=\"\n",
       "  235.283,260.525 2352.76,260.525 \n",
       "  \"/>\n",
       "<polyline clip-path=\"url(#clip090)\" style=\"stroke:#000000; stroke-linecap:butt; stroke-linejoin:round; stroke-width:4; stroke-opacity:1; fill:none\" points=\"\n",
       "  235.283,1423.18 235.283,47.2441 \n",
       "  \"/>\n",
       "<polyline clip-path=\"url(#clip090)\" style=\"stroke:#000000; stroke-linecap:butt; stroke-linejoin:round; stroke-width:4; stroke-opacity:1; fill:none\" points=\"\n",
       "  235.283,1385.29 260.693,1385.29 \n",
       "  \"/>\n",
       "<polyline clip-path=\"url(#clip090)\" style=\"stroke:#000000; stroke-linecap:butt; stroke-linejoin:round; stroke-width:4; stroke-opacity:1; fill:none\" points=\"\n",
       "  235.283,1104.1 260.693,1104.1 \n",
       "  \"/>\n",
       "<polyline clip-path=\"url(#clip090)\" style=\"stroke:#000000; stroke-linecap:butt; stroke-linejoin:round; stroke-width:4; stroke-opacity:1; fill:none\" points=\"\n",
       "  235.283,822.909 260.693,822.909 \n",
       "  \"/>\n",
       "<polyline clip-path=\"url(#clip090)\" style=\"stroke:#000000; stroke-linecap:butt; stroke-linejoin:round; stroke-width:4; stroke-opacity:1; fill:none\" points=\"\n",
       "  235.283,541.717 260.693,541.717 \n",
       "  \"/>\n",
       "<polyline clip-path=\"url(#clip090)\" style=\"stroke:#000000; stroke-linecap:butt; stroke-linejoin:round; stroke-width:4; stroke-opacity:1; fill:none\" points=\"\n",
       "  235.283,260.525 260.693,260.525 \n",
       "  \"/>\n",
       "<path clip-path=\"url(#clip090)\" d=\"M187.338 1371.09 Q183.727 1371.09 181.899 1374.66 Q180.093 1378.2 180.093 1385.33 Q180.093 1392.43 181.899 1396 Q183.727 1399.54 187.338 1399.54 Q190.973 1399.54 192.778 1396 Q194.607 1392.43 194.607 1385.33 Q194.607 1378.2 192.778 1374.66 Q190.973 1371.09 187.338 1371.09 M187.338 1367.39 Q193.149 1367.39 196.204 1371.99 Q199.283 1376.58 199.283 1385.33 Q199.283 1394.05 196.204 1398.66 Q193.149 1403.24 187.338 1403.24 Q181.528 1403.24 178.45 1398.66 Q175.394 1394.05 175.394 1385.33 Q175.394 1376.58 178.45 1371.99 Q181.528 1367.39 187.338 1367.39 Z\" fill=\"#000000\" fill-rule=\"evenodd\" fill-opacity=\"1\" /><path clip-path=\"url(#clip090)\" d=\"M117.825 1117.45 L125.464 1117.45 L125.464 1091.08 L117.154 1092.75 L117.154 1088.49 L125.418 1086.82 L130.093 1086.82 L130.093 1117.45 L137.732 1117.45 L137.732 1121.38 L117.825 1121.38 L117.825 1117.45 Z\" fill=\"#000000\" fill-rule=\"evenodd\" fill-opacity=\"1\" /><path clip-path=\"url(#clip090)\" d=\"M157.177 1089.9 Q153.566 1089.9 151.737 1093.46 Q149.931 1097.01 149.931 1104.14 Q149.931 1111.24 151.737 1114.81 Q153.566 1118.35 157.177 1118.35 Q160.811 1118.35 162.616 1114.81 Q164.445 1111.24 164.445 1104.14 Q164.445 1097.01 162.616 1093.46 Q160.811 1089.9 157.177 1089.9 M157.177 1086.2 Q162.987 1086.2 166.042 1090.8 Q169.121 1095.39 169.121 1104.14 Q169.121 1112.86 166.042 1117.47 Q162.987 1122.05 157.177 1122.05 Q151.366 1122.05 148.288 1117.47 Q145.232 1112.86 145.232 1104.14 Q145.232 1095.39 148.288 1090.8 Q151.366 1086.2 157.177 1086.2 Z\" fill=\"#000000\" fill-rule=\"evenodd\" fill-opacity=\"1\" /><path clip-path=\"url(#clip090)\" d=\"M187.338 1089.9 Q183.727 1089.9 181.899 1093.46 Q180.093 1097.01 180.093 1104.14 Q180.093 1111.24 181.899 1114.81 Q183.727 1118.35 187.338 1118.35 Q190.973 1118.35 192.778 1114.81 Q194.607 1111.24 194.607 1104.14 Q194.607 1097.01 192.778 1093.46 Q190.973 1089.9 187.338 1089.9 M187.338 1086.2 Q193.149 1086.2 196.204 1090.8 Q199.283 1095.39 199.283 1104.14 Q199.283 1112.86 196.204 1117.47 Q193.149 1122.05 187.338 1122.05 Q181.528 1122.05 178.45 1117.47 Q175.394 1112.86 175.394 1104.14 Q175.394 1095.39 178.45 1090.8 Q181.528 1086.2 187.338 1086.2 Z\" fill=\"#000000\" fill-rule=\"evenodd\" fill-opacity=\"1\" /><path clip-path=\"url(#clip090)\" d=\"M121.043 836.254 L137.362 836.254 L137.362 840.189 L115.418 840.189 L115.418 836.254 Q118.08 833.499 122.663 828.869 Q127.269 824.217 128.45 822.874 Q130.695 820.351 131.575 818.615 Q132.478 816.856 132.478 815.166 Q132.478 812.411 130.533 810.675 Q128.612 808.939 125.51 808.939 Q123.311 808.939 120.857 809.703 Q118.427 810.467 115.649 812.018 L115.649 807.295 Q118.473 806.161 120.927 805.582 Q123.38 805.004 125.418 805.004 Q130.788 805.004 133.982 807.689 Q137.177 810.374 137.177 814.865 Q137.177 816.994 136.367 818.916 Q135.579 820.814 133.473 823.406 Q132.894 824.078 129.792 827.295 Q126.691 830.49 121.043 836.254 Z\" fill=\"#000000\" fill-rule=\"evenodd\" fill-opacity=\"1\" /><path clip-path=\"url(#clip090)\" d=\"M157.177 808.707 Q153.566 808.707 151.737 812.272 Q149.931 815.814 149.931 822.943 Q149.931 830.05 151.737 833.615 Q153.566 837.156 157.177 837.156 Q160.811 837.156 162.616 833.615 Q164.445 830.05 164.445 822.943 Q164.445 815.814 162.616 812.272 Q160.811 808.707 157.177 808.707 M157.177 805.004 Q162.987 805.004 166.042 809.61 Q169.121 814.193 169.121 822.943 Q169.121 831.67 166.042 836.277 Q162.987 840.86 157.177 840.86 Q151.366 840.86 148.288 836.277 Q145.232 831.67 145.232 822.943 Q145.232 814.193 148.288 809.61 Q151.366 805.004 157.177 805.004 Z\" fill=\"#000000\" fill-rule=\"evenodd\" fill-opacity=\"1\" /><path clip-path=\"url(#clip090)\" d=\"M187.338 808.707 Q183.727 808.707 181.899 812.272 Q180.093 815.814 180.093 822.943 Q180.093 830.05 181.899 833.615 Q183.727 837.156 187.338 837.156 Q190.973 837.156 192.778 833.615 Q194.607 830.05 194.607 822.943 Q194.607 815.814 192.778 812.272 Q190.973 808.707 187.338 808.707 M187.338 805.004 Q193.149 805.004 196.204 809.61 Q199.283 814.193 199.283 822.943 Q199.283 831.67 196.204 836.277 Q193.149 840.86 187.338 840.86 Q181.528 840.86 178.45 836.277 Q175.394 831.67 175.394 822.943 Q175.394 814.193 178.45 809.61 Q181.528 805.004 187.338 805.004 Z\" fill=\"#000000\" fill-rule=\"evenodd\" fill-opacity=\"1\" /><path clip-path=\"url(#clip090)\" d=\"M131.181 540.363 Q134.538 541.08 136.413 543.349 Q138.311 545.617 138.311 548.95 Q138.311 554.066 134.792 556.867 Q131.274 559.668 124.793 559.668 Q122.617 559.668 120.302 559.228 Q118.01 558.812 115.556 557.955 L115.556 553.441 Q117.501 554.575 119.816 555.154 Q122.13 555.733 124.654 555.733 Q129.052 555.733 131.343 553.997 Q133.658 552.261 133.658 548.95 Q133.658 545.895 131.505 544.182 Q129.376 542.446 125.556 542.446 L121.529 542.446 L121.529 538.603 L125.742 538.603 Q129.191 538.603 131.019 537.238 Q132.848 535.849 132.848 533.256 Q132.848 530.594 130.95 529.182 Q129.075 527.747 125.556 527.747 Q123.635 527.747 121.436 528.164 Q119.237 528.58 116.598 529.46 L116.598 525.293 Q119.26 524.552 121.575 524.182 Q123.913 523.812 125.973 523.812 Q131.297 523.812 134.399 526.242 Q137.501 528.65 137.501 532.77 Q137.501 535.64 135.857 537.631 Q134.214 539.599 131.181 540.363 Z\" fill=\"#000000\" fill-rule=\"evenodd\" fill-opacity=\"1\" /><path clip-path=\"url(#clip090)\" d=\"M157.177 527.515 Q153.566 527.515 151.737 531.08 Q149.931 534.622 149.931 541.751 Q149.931 548.858 151.737 552.423 Q153.566 555.964 157.177 555.964 Q160.811 555.964 162.616 552.423 Q164.445 548.858 164.445 541.751 Q164.445 534.622 162.616 531.08 Q160.811 527.515 157.177 527.515 M157.177 523.812 Q162.987 523.812 166.042 528.418 Q169.121 533.001 169.121 541.751 Q169.121 550.478 166.042 555.085 Q162.987 559.668 157.177 559.668 Q151.366 559.668 148.288 555.085 Q145.232 550.478 145.232 541.751 Q145.232 533.001 148.288 528.418 Q151.366 523.812 157.177 523.812 Z\" fill=\"#000000\" fill-rule=\"evenodd\" fill-opacity=\"1\" /><path clip-path=\"url(#clip090)\" d=\"M187.338 527.515 Q183.727 527.515 181.899 531.08 Q180.093 534.622 180.093 541.751 Q180.093 548.858 181.899 552.423 Q183.727 555.964 187.338 555.964 Q190.973 555.964 192.778 552.423 Q194.607 548.858 194.607 541.751 Q194.607 534.622 192.778 531.08 Q190.973 527.515 187.338 527.515 M187.338 523.812 Q193.149 523.812 196.204 528.418 Q199.283 533.001 199.283 541.751 Q199.283 550.478 196.204 555.085 Q193.149 559.668 187.338 559.668 Q181.528 559.668 178.45 555.085 Q175.394 550.478 175.394 541.751 Q175.394 533.001 178.45 528.418 Q181.528 523.812 187.338 523.812 Z\" fill=\"#000000\" fill-rule=\"evenodd\" fill-opacity=\"1\" /><path clip-path=\"url(#clip090)\" d=\"M129.862 247.319 L118.056 265.768 L129.862 265.768 L129.862 247.319 M128.635 243.245 L134.515 243.245 L134.515 265.768 L139.445 265.768 L139.445 269.657 L134.515 269.657 L134.515 277.805 L129.862 277.805 L129.862 269.657 L114.26 269.657 L114.26 265.143 L128.635 243.245 Z\" fill=\"#000000\" fill-rule=\"evenodd\" fill-opacity=\"1\" /><path clip-path=\"url(#clip090)\" d=\"M157.177 246.323 Q153.566 246.323 151.737 249.888 Q149.931 253.43 149.931 260.559 Q149.931 267.666 151.737 271.231 Q153.566 274.772 157.177 274.772 Q160.811 274.772 162.616 271.231 Q164.445 267.666 164.445 260.559 Q164.445 253.43 162.616 249.888 Q160.811 246.323 157.177 246.323 M157.177 242.62 Q162.987 242.62 166.042 247.226 Q169.121 251.809 169.121 260.559 Q169.121 269.286 166.042 273.893 Q162.987 278.476 157.177 278.476 Q151.366 278.476 148.288 273.893 Q145.232 269.286 145.232 260.559 Q145.232 251.809 148.288 247.226 Q151.366 242.62 157.177 242.62 Z\" fill=\"#000000\" fill-rule=\"evenodd\" fill-opacity=\"1\" /><path clip-path=\"url(#clip090)\" d=\"M187.338 246.323 Q183.727 246.323 181.899 249.888 Q180.093 253.43 180.093 260.559 Q180.093 267.666 181.899 271.231 Q183.727 274.772 187.338 274.772 Q190.973 274.772 192.778 271.231 Q194.607 267.666 194.607 260.559 Q194.607 253.43 192.778 249.888 Q190.973 246.323 187.338 246.323 M187.338 242.62 Q193.149 242.62 196.204 247.226 Q199.283 251.809 199.283 260.559 Q199.283 269.286 196.204 273.893 Q193.149 278.476 187.338 278.476 Q181.528 278.476 178.45 273.893 Q175.394 269.286 175.394 260.559 Q175.394 251.809 178.45 247.226 Q181.528 242.62 187.338 242.62 Z\" fill=\"#000000\" fill-rule=\"evenodd\" fill-opacity=\"1\" /><path clip-path=\"url(#clip090)\" d=\"M16.4842 794.238 L16.4842 784.658 L48.8219 772.531 L16.4842 760.341 L16.4842 750.76 L64.0042 750.76 L64.0042 757.03 L22.277 757.03 L54.8694 769.284 L54.8694 775.746 L22.277 788 L64.0042 788 L64.0042 794.238 L16.4842 794.238 Z\" fill=\"#000000\" fill-rule=\"evenodd\" fill-opacity=\"1\" /><path clip-path=\"url(#clip090)\" d=\"M14.5426 724.183 Q21.8632 728.448 29.0246 730.517 Q36.186 732.586 43.5384 732.586 Q50.8908 732.586 58.1159 730.517 Q65.3091 728.417 72.5979 724.183 L72.5979 729.276 Q65.1182 734.05 57.8931 736.437 Q50.668 738.793 43.5384 738.793 Q36.4406 738.793 29.2474 736.437 Q22.0542 734.082 14.5426 729.276 L14.5426 724.183 Z\" fill=\"#000000\" fill-rule=\"evenodd\" fill-opacity=\"1\" /><path clip-path=\"url(#clip090)\" d=\"M14.479 694.774 L19.3487 694.774 L19.3487 700.376 Q19.3487 703.527 20.6219 704.768 Q21.895 705.977 25.2052 705.977 L28.3562 705.977 L28.3562 696.333 L32.9077 696.333 L32.9077 705.977 L64.0042 705.977 L64.0042 711.866 L32.9077 711.866 L32.9077 717.468 L28.3562 717.468 L28.3562 711.866 L25.8736 711.866 Q19.9216 711.866 17.2162 709.097 Q14.479 706.328 14.479 700.312 L14.479 694.774 Z\" fill=\"#000000\" fill-rule=\"evenodd\" fill-opacity=\"1\" /><path clip-path=\"url(#clip090)\" d=\"M14.5426 690.795 L14.5426 685.703 Q22.0542 680.928 29.2474 678.573 Q36.4406 676.186 43.5384 676.186 Q50.668 676.186 57.8931 678.573 Q65.1182 680.928 72.5979 685.703 L72.5979 690.795 Q65.3091 686.562 58.1159 684.493 Q50.8908 682.393 43.5384 682.393 Q36.186 682.393 29.0246 684.493 Q21.8632 686.562 14.5426 690.795 Z\" fill=\"#000000\" fill-rule=\"evenodd\" fill-opacity=\"1\" /><polyline clip-path=\"url(#clip092)\" style=\"stroke:#009af9; stroke-linecap:butt; stroke-linejoin:round; stroke-width:4; stroke-opacity:1; fill:none\" points=\"\n",
       "  301.201,1374.05 316.176,1365.61 331.15,1354.36 346.125,1343.11 361.1,1334.68 376.074,1329.05 391.049,1323.43 406.024,1309.37 420.998,1300.94 435.973,1298.12 \n",
       "  450.948,1286.88 465.922,1272.82 480.897,1264.38 495.871,1261.57 510.846,1253.13 525.821,1250.32 540.795,1239.07 555.77,1233.45 570.745,1222.2 585.719,1205.33 \n",
       "  600.694,1196.89 615.668,1188.46 630.643,1171.59 645.618,1168.77 660.592,1168.77 675.567,1154.72 690.542,1143.47 705.516,1143.47 720.491,1118.16 735.466,1118.16 \n",
       "  750.44,1090.04 765.415,1090.04 780.389,1090.04 795.364,1084.42 810.339,1084.42 825.313,1084.42 840.288,1050.67 855.263,1050.67 870.237,1050.67 885.212,1050.67 \n",
       "  900.187,1016.93 915.161,1016.93 930.136,1016.93 945.11,1016.93 960.085,969.129 975.06,969.129 990.034,969.129 1005.01,969.129 1019.98,969.129 1034.96,969.129 \n",
       "  1049.93,938.197 1064.91,938.197 1079.88,938.197 1094.86,938.197 1109.83,938.197 1124.81,938.197 1139.78,938.197 1154.76,856.652 1169.73,856.652 1184.7,856.652 \n",
       "  1199.68,856.652 1214.65,856.652 1229.63,856.652 1244.6,856.652 1259.58,856.652 1274.55,856.652 1289.53,763.858 1304.5,763.858 1319.48,763.858 1334.45,763.858 \n",
       "  1349.43,763.858 1364.4,763.858 1379.37,763.858 1394.35,763.858 1409.32,763.858 1424.3,763.858 1439.27,763.858 1454.25,763.858 1469.22,763.858 1484.2,763.858 \n",
       "  1499.17,614.827 1514.15,614.827 1529.12,614.827 1544.1,614.827 1559.07,614.827 1574.05,614.827 1589.02,614.827 1603.99,614.827 1618.97,614.827 1633.94,614.827 \n",
       "  1648.92,614.827 1663.89,614.827 1678.87,614.827 1693.84,614.827 1708.82,614.827 1723.79,614.827 1738.77,614.827 1753.74,614.827 1768.72,614.827 1783.69,614.827 \n",
       "  1798.66,417.992 1813.64,417.992 1828.61,417.992 1843.59,417.992 1858.56,417.992 1873.54,417.992 1888.51,417.992 1903.49,417.992 1918.46,417.992 1933.44,417.992 \n",
       "  1948.41,417.992 1963.39,417.992 1978.36,417.992 1993.33,417.992 2008.31,417.992 2023.28,417.992 2038.26,417.992 2053.23,417.992 2068.21,417.992 2083.18,417.992 \n",
       "  2098.16,417.992 2113.13,417.992 2128.11,417.992 2143.08,417.992 2158.06,417.992 2173.03,417.992 2188,417.992 2202.98,417.992 2217.95,417.992 2232.93,417.992 \n",
       "  2247.9,417.992 2262.88,417.992 2277.85,417.992 2292.83,86.1857 \n",
       "  \"/>\n",
       "<path clip-path=\"url(#clip092)\" d=\"M301.201 1380.05 L296.959 1378.29 L295.201 1374.05 L296.959 1369.8 L301.201 1368.05 L305.443 1369.8 L307.201 1374.05 L305.443 1378.29 Z\" fill=\"#009af9\" fill-rule=\"evenodd\" fill-opacity=\"1\" stroke=\"#000000\" stroke-opacity=\"1\" stroke-width=\"3.2\"/>\n",
       "<path clip-path=\"url(#clip092)\" d=\"M316.176 1371.61 L311.934 1369.85 L310.176 1365.61 L311.934 1361.37 L316.176 1359.61 L320.418 1361.37 L322.176 1365.61 L320.418 1369.85 Z\" fill=\"#009af9\" fill-rule=\"evenodd\" fill-opacity=\"1\" stroke=\"#000000\" stroke-opacity=\"1\" stroke-width=\"3.2\"/>\n",
       "<path clip-path=\"url(#clip092)\" d=\"M331.15 1360.36 L326.908 1358.6 L325.15 1354.36 L326.908 1350.12 L331.15 1348.36 L335.392 1350.12 L337.15 1354.36 L335.392 1358.6 Z\" fill=\"#009af9\" fill-rule=\"evenodd\" fill-opacity=\"1\" stroke=\"#000000\" stroke-opacity=\"1\" stroke-width=\"3.2\"/>\n",
       "<path clip-path=\"url(#clip092)\" d=\"M346.125 1349.11 L341.883 1347.36 L340.125 1343.11 L341.883 1338.87 L346.125 1337.11 L350.367 1338.87 L352.125 1343.11 L350.367 1347.36 Z\" fill=\"#009af9\" fill-rule=\"evenodd\" fill-opacity=\"1\" stroke=\"#000000\" stroke-opacity=\"1\" stroke-width=\"3.2\"/>\n",
       "<path clip-path=\"url(#clip092)\" d=\"M361.1 1340.68 L356.858 1338.92 L355.1 1334.68 L356.858 1330.44 L361.1 1328.68 L365.342 1330.44 L367.1 1334.68 L365.342 1338.92 Z\" fill=\"#009af9\" fill-rule=\"evenodd\" fill-opacity=\"1\" stroke=\"#000000\" stroke-opacity=\"1\" stroke-width=\"3.2\"/>\n",
       "<path clip-path=\"url(#clip092)\" d=\"M376.074 1335.05 L371.832 1333.3 L370.074 1329.05 L371.832 1324.81 L376.074 1323.05 L380.316 1324.81 L382.074 1329.05 L380.316 1333.3 Z\" fill=\"#009af9\" fill-rule=\"evenodd\" fill-opacity=\"1\" stroke=\"#000000\" stroke-opacity=\"1\" stroke-width=\"3.2\"/>\n",
       "<path clip-path=\"url(#clip092)\" d=\"M391.049 1329.43 L386.807 1327.67 L385.049 1323.43 L386.807 1319.19 L391.049 1317.43 L395.291 1319.19 L397.049 1323.43 L395.291 1327.67 Z\" fill=\"#009af9\" fill-rule=\"evenodd\" fill-opacity=\"1\" stroke=\"#000000\" stroke-opacity=\"1\" stroke-width=\"3.2\"/>\n",
       "<path clip-path=\"url(#clip092)\" d=\"M406.024 1315.37 L401.782 1313.61 L400.024 1309.37 L401.782 1305.13 L406.024 1303.37 L410.266 1305.13 L412.024 1309.37 L410.266 1313.61 Z\" fill=\"#009af9\" fill-rule=\"evenodd\" fill-opacity=\"1\" stroke=\"#000000\" stroke-opacity=\"1\" stroke-width=\"3.2\"/>\n",
       "<path clip-path=\"url(#clip092)\" d=\"M420.998 1306.94 L416.756 1305.18 L414.998 1300.94 L416.756 1296.69 L420.998 1294.94 L425.24 1296.69 L426.998 1300.94 L425.24 1305.18 Z\" fill=\"#009af9\" fill-rule=\"evenodd\" fill-opacity=\"1\" stroke=\"#000000\" stroke-opacity=\"1\" stroke-width=\"3.2\"/>\n",
       "<path clip-path=\"url(#clip092)\" d=\"M435.973 1304.12 L431.731 1302.37 L429.973 1298.12 L431.731 1293.88 L435.973 1292.12 L440.215 1293.88 L441.973 1298.12 L440.215 1302.37 Z\" fill=\"#009af9\" fill-rule=\"evenodd\" fill-opacity=\"1\" stroke=\"#000000\" stroke-opacity=\"1\" stroke-width=\"3.2\"/>\n",
       "<path clip-path=\"url(#clip092)\" d=\"M450.948 1292.88 L446.706 1291.12 L444.948 1286.88 L446.706 1282.63 L450.948 1280.88 L455.19 1282.63 L456.948 1286.88 L455.19 1291.12 Z\" fill=\"#009af9\" fill-rule=\"evenodd\" fill-opacity=\"1\" stroke=\"#000000\" stroke-opacity=\"1\" stroke-width=\"3.2\"/>\n",
       "<path clip-path=\"url(#clip092)\" d=\"M465.922 1278.82 L461.68 1277.06 L459.922 1272.82 L461.68 1268.57 L465.922 1266.82 L470.164 1268.57 L471.922 1272.82 L470.164 1277.06 Z\" fill=\"#009af9\" fill-rule=\"evenodd\" fill-opacity=\"1\" stroke=\"#000000\" stroke-opacity=\"1\" stroke-width=\"3.2\"/>\n",
       "<path clip-path=\"url(#clip092)\" d=\"M480.897 1270.38 L476.655 1268.62 L474.897 1264.38 L476.655 1260.14 L480.897 1258.38 L485.139 1260.14 L486.897 1264.38 L485.139 1268.62 Z\" fill=\"#009af9\" fill-rule=\"evenodd\" fill-opacity=\"1\" stroke=\"#000000\" stroke-opacity=\"1\" stroke-width=\"3.2\"/>\n",
       "<path clip-path=\"url(#clip092)\" d=\"M495.871 1267.57 L491.629 1265.81 L489.871 1261.57 L491.629 1257.33 L495.871 1255.57 L500.113 1257.33 L501.871 1261.57 L500.113 1265.81 Z\" fill=\"#009af9\" fill-rule=\"evenodd\" fill-opacity=\"1\" stroke=\"#000000\" stroke-opacity=\"1\" stroke-width=\"3.2\"/>\n",
       "<path clip-path=\"url(#clip092)\" d=\"M510.846 1259.13 L506.604 1257.37 L504.846 1253.13 L506.604 1248.89 L510.846 1247.13 L515.088 1248.89 L516.846 1253.13 L515.088 1257.37 Z\" fill=\"#009af9\" fill-rule=\"evenodd\" fill-opacity=\"1\" stroke=\"#000000\" stroke-opacity=\"1\" stroke-width=\"3.2\"/>\n",
       "<path clip-path=\"url(#clip092)\" d=\"M525.821 1256.32 L521.579 1254.56 L519.821 1250.32 L521.579 1246.08 L525.821 1244.32 L530.063 1246.08 L531.821 1250.32 L530.063 1254.56 Z\" fill=\"#009af9\" fill-rule=\"evenodd\" fill-opacity=\"1\" stroke=\"#000000\" stroke-opacity=\"1\" stroke-width=\"3.2\"/>\n",
       "<path clip-path=\"url(#clip092)\" d=\"M540.795 1245.07 L536.553 1243.31 L534.795 1239.07 L536.553 1234.83 L540.795 1233.07 L545.037 1234.83 L546.795 1239.07 L545.037 1243.31 Z\" fill=\"#009af9\" fill-rule=\"evenodd\" fill-opacity=\"1\" stroke=\"#000000\" stroke-opacity=\"1\" stroke-width=\"3.2\"/>\n",
       "<path clip-path=\"url(#clip092)\" d=\"M555.77 1239.45 L551.528 1237.69 L549.77 1233.45 L551.528 1229.21 L555.77 1227.45 L560.012 1229.21 L561.77 1233.45 L560.012 1237.69 Z\" fill=\"#009af9\" fill-rule=\"evenodd\" fill-opacity=\"1\" stroke=\"#000000\" stroke-opacity=\"1\" stroke-width=\"3.2\"/>\n",
       "<path clip-path=\"url(#clip092)\" d=\"M570.745 1228.2 L566.503 1226.44 L564.745 1222.2 L566.503 1217.96 L570.745 1216.2 L574.987 1217.96 L576.745 1222.2 L574.987 1226.44 Z\" fill=\"#009af9\" fill-rule=\"evenodd\" fill-opacity=\"1\" stroke=\"#000000\" stroke-opacity=\"1\" stroke-width=\"3.2\"/>\n",
       "<path clip-path=\"url(#clip092)\" d=\"M585.719 1211.33 L581.477 1209.57 L579.719 1205.33 L581.477 1201.09 L585.719 1199.33 L589.961 1201.09 L591.719 1205.33 L589.961 1209.57 Z\" fill=\"#009af9\" fill-rule=\"evenodd\" fill-opacity=\"1\" stroke=\"#000000\" stroke-opacity=\"1\" stroke-width=\"3.2\"/>\n",
       "<path clip-path=\"url(#clip092)\" d=\"M600.694 1202.89 L596.452 1201.14 L594.694 1196.89 L596.452 1192.65 L600.694 1190.89 L604.936 1192.65 L606.694 1196.89 L604.936 1201.14 Z\" fill=\"#009af9\" fill-rule=\"evenodd\" fill-opacity=\"1\" stroke=\"#000000\" stroke-opacity=\"1\" stroke-width=\"3.2\"/>\n",
       "<path clip-path=\"url(#clip092)\" d=\"M615.668 1194.46 L611.426 1192.7 L609.668 1188.46 L611.426 1184.22 L615.668 1182.46 L619.91 1184.22 L621.668 1188.46 L619.91 1192.7 Z\" fill=\"#009af9\" fill-rule=\"evenodd\" fill-opacity=\"1\" stroke=\"#000000\" stroke-opacity=\"1\" stroke-width=\"3.2\"/>\n",
       "<path clip-path=\"url(#clip092)\" d=\"M630.643 1177.59 L626.401 1175.83 L624.643 1171.59 L626.401 1167.34 L630.643 1165.59 L634.885 1167.34 L636.643 1171.59 L634.885 1175.83 Z\" fill=\"#009af9\" fill-rule=\"evenodd\" fill-opacity=\"1\" stroke=\"#000000\" stroke-opacity=\"1\" stroke-width=\"3.2\"/>\n",
       "<path clip-path=\"url(#clip092)\" d=\"M645.618 1174.77 L641.376 1173.02 L639.618 1168.77 L641.376 1164.53 L645.618 1162.77 L649.86 1164.53 L651.618 1168.77 L649.86 1173.02 Z\" fill=\"#009af9\" fill-rule=\"evenodd\" fill-opacity=\"1\" stroke=\"#000000\" stroke-opacity=\"1\" stroke-width=\"3.2\"/>\n",
       "<path clip-path=\"url(#clip092)\" d=\"M660.592 1174.77 L656.35 1173.02 L654.592 1168.77 L656.35 1164.53 L660.592 1162.77 L664.834 1164.53 L666.592 1168.77 L664.834 1173.02 Z\" fill=\"#009af9\" fill-rule=\"evenodd\" fill-opacity=\"1\" stroke=\"#000000\" stroke-opacity=\"1\" stroke-width=\"3.2\"/>\n",
       "<path clip-path=\"url(#clip092)\" d=\"M675.567 1160.72 L671.325 1158.96 L669.567 1154.72 L671.325 1150.47 L675.567 1148.72 L679.809 1150.47 L681.567 1154.72 L679.809 1158.96 Z\" fill=\"#009af9\" fill-rule=\"evenodd\" fill-opacity=\"1\" stroke=\"#000000\" stroke-opacity=\"1\" stroke-width=\"3.2\"/>\n",
       "<path clip-path=\"url(#clip092)\" d=\"M690.542 1149.47 L686.3 1147.71 L684.542 1143.47 L686.3 1139.23 L690.542 1137.47 L694.784 1139.23 L696.542 1143.47 L694.784 1147.71 Z\" fill=\"#009af9\" fill-rule=\"evenodd\" fill-opacity=\"1\" stroke=\"#000000\" stroke-opacity=\"1\" stroke-width=\"3.2\"/>\n",
       "<path clip-path=\"url(#clip092)\" d=\"M705.516 1149.47 L701.274 1147.71 L699.516 1143.47 L701.274 1139.23 L705.516 1137.47 L709.758 1139.23 L711.516 1143.47 L709.758 1147.71 Z\" fill=\"#009af9\" fill-rule=\"evenodd\" fill-opacity=\"1\" stroke=\"#000000\" stroke-opacity=\"1\" stroke-width=\"3.2\"/>\n",
       "<path clip-path=\"url(#clip092)\" d=\"M720.491 1124.16 L716.249 1122.4 L714.491 1118.16 L716.249 1113.92 L720.491 1112.16 L724.733 1113.92 L726.491 1118.16 L724.733 1122.4 Z\" fill=\"#009af9\" fill-rule=\"evenodd\" fill-opacity=\"1\" stroke=\"#000000\" stroke-opacity=\"1\" stroke-width=\"3.2\"/>\n",
       "<path clip-path=\"url(#clip092)\" d=\"M735.466 1124.16 L731.224 1122.4 L729.466 1118.16 L731.224 1113.92 L735.466 1112.16 L739.708 1113.92 L741.466 1118.16 L739.708 1122.4 Z\" fill=\"#009af9\" fill-rule=\"evenodd\" fill-opacity=\"1\" stroke=\"#000000\" stroke-opacity=\"1\" stroke-width=\"3.2\"/>\n",
       "<path clip-path=\"url(#clip092)\" d=\"M750.44 1096.04 L746.198 1094.28 L744.44 1090.04 L746.198 1085.8 L750.44 1084.04 L754.682 1085.8 L756.44 1090.04 L754.682 1094.28 Z\" fill=\"#009af9\" fill-rule=\"evenodd\" fill-opacity=\"1\" stroke=\"#000000\" stroke-opacity=\"1\" stroke-width=\"3.2\"/>\n",
       "<path clip-path=\"url(#clip092)\" d=\"M765.415 1096.04 L761.173 1094.28 L759.415 1090.04 L761.173 1085.8 L765.415 1084.04 L769.657 1085.8 L771.415 1090.04 L769.657 1094.28 Z\" fill=\"#009af9\" fill-rule=\"evenodd\" fill-opacity=\"1\" stroke=\"#000000\" stroke-opacity=\"1\" stroke-width=\"3.2\"/>\n",
       "<path clip-path=\"url(#clip092)\" d=\"M780.389 1096.04 L776.147 1094.28 L774.389 1090.04 L776.147 1085.8 L780.389 1084.04 L784.631 1085.8 L786.389 1090.04 L784.631 1094.28 Z\" fill=\"#009af9\" fill-rule=\"evenodd\" fill-opacity=\"1\" stroke=\"#000000\" stroke-opacity=\"1\" stroke-width=\"3.2\"/>\n",
       "<path clip-path=\"url(#clip092)\" d=\"M795.364 1090.42 L791.122 1088.66 L789.364 1084.42 L791.122 1080.18 L795.364 1078.42 L799.606 1080.18 L801.364 1084.42 L799.606 1088.66 Z\" fill=\"#009af9\" fill-rule=\"evenodd\" fill-opacity=\"1\" stroke=\"#000000\" stroke-opacity=\"1\" stroke-width=\"3.2\"/>\n",
       "<path clip-path=\"url(#clip092)\" d=\"M810.339 1090.42 L806.097 1088.66 L804.339 1084.42 L806.097 1080.18 L810.339 1078.42 L814.581 1080.18 L816.339 1084.42 L814.581 1088.66 Z\" fill=\"#009af9\" fill-rule=\"evenodd\" fill-opacity=\"1\" stroke=\"#000000\" stroke-opacity=\"1\" stroke-width=\"3.2\"/>\n",
       "<path clip-path=\"url(#clip092)\" d=\"M825.313 1090.42 L821.071 1088.66 L819.313 1084.42 L821.071 1080.18 L825.313 1078.42 L829.555 1080.18 L831.313 1084.42 L829.555 1088.66 Z\" fill=\"#009af9\" fill-rule=\"evenodd\" fill-opacity=\"1\" stroke=\"#000000\" stroke-opacity=\"1\" stroke-width=\"3.2\"/>\n",
       "<path clip-path=\"url(#clip092)\" d=\"M840.288 1056.67 L836.046 1054.92 L834.288 1050.67 L836.046 1046.43 L840.288 1044.67 L844.53 1046.43 L846.288 1050.67 L844.53 1054.92 Z\" fill=\"#009af9\" fill-rule=\"evenodd\" fill-opacity=\"1\" stroke=\"#000000\" stroke-opacity=\"1\" stroke-width=\"3.2\"/>\n",
       "<path clip-path=\"url(#clip092)\" d=\"M855.263 1056.67 L851.021 1054.92 L849.263 1050.67 L851.021 1046.43 L855.263 1044.67 L859.505 1046.43 L861.263 1050.67 L859.505 1054.92 Z\" fill=\"#009af9\" fill-rule=\"evenodd\" fill-opacity=\"1\" stroke=\"#000000\" stroke-opacity=\"1\" stroke-width=\"3.2\"/>\n",
       "<path clip-path=\"url(#clip092)\" d=\"M870.237 1056.67 L865.995 1054.92 L864.237 1050.67 L865.995 1046.43 L870.237 1044.67 L874.479 1046.43 L876.237 1050.67 L874.479 1054.92 Z\" fill=\"#009af9\" fill-rule=\"evenodd\" fill-opacity=\"1\" stroke=\"#000000\" stroke-opacity=\"1\" stroke-width=\"3.2\"/>\n",
       "<path clip-path=\"url(#clip092)\" d=\"M885.212 1056.67 L880.97 1054.92 L879.212 1050.67 L880.97 1046.43 L885.212 1044.67 L889.454 1046.43 L891.212 1050.67 L889.454 1054.92 Z\" fill=\"#009af9\" fill-rule=\"evenodd\" fill-opacity=\"1\" stroke=\"#000000\" stroke-opacity=\"1\" stroke-width=\"3.2\"/>\n",
       "<path clip-path=\"url(#clip092)\" d=\"M900.187 1022.93 L895.945 1021.17 L894.187 1016.93 L895.945 1012.69 L900.187 1010.93 L904.429 1012.69 L906.187 1016.93 L904.429 1021.17 Z\" fill=\"#009af9\" fill-rule=\"evenodd\" fill-opacity=\"1\" stroke=\"#000000\" stroke-opacity=\"1\" stroke-width=\"3.2\"/>\n",
       "<path clip-path=\"url(#clip092)\" d=\"M915.161 1022.93 L910.919 1021.17 L909.161 1016.93 L910.919 1012.69 L915.161 1010.93 L919.403 1012.69 L921.161 1016.93 L919.403 1021.17 Z\" fill=\"#009af9\" fill-rule=\"evenodd\" fill-opacity=\"1\" stroke=\"#000000\" stroke-opacity=\"1\" stroke-width=\"3.2\"/>\n",
       "<path clip-path=\"url(#clip092)\" d=\"M930.136 1022.93 L925.894 1021.17 L924.136 1016.93 L925.894 1012.69 L930.136 1010.93 L934.378 1012.69 L936.136 1016.93 L934.378 1021.17 Z\" fill=\"#009af9\" fill-rule=\"evenodd\" fill-opacity=\"1\" stroke=\"#000000\" stroke-opacity=\"1\" stroke-width=\"3.2\"/>\n",
       "<path clip-path=\"url(#clip092)\" d=\"M945.11 1022.93 L940.868 1021.17 L939.11 1016.93 L940.868 1012.69 L945.11 1010.93 L949.352 1012.69 L951.11 1016.93 L949.352 1021.17 Z\" fill=\"#009af9\" fill-rule=\"evenodd\" fill-opacity=\"1\" stroke=\"#000000\" stroke-opacity=\"1\" stroke-width=\"3.2\"/>\n",
       "<path clip-path=\"url(#clip092)\" d=\"M960.085 975.129 L955.843 973.371 L954.085 969.129 L955.843 964.887 L960.085 963.129 L964.327 964.887 L966.085 969.129 L964.327 973.371 Z\" fill=\"#009af9\" fill-rule=\"evenodd\" fill-opacity=\"1\" stroke=\"#000000\" stroke-opacity=\"1\" stroke-width=\"3.2\"/>\n",
       "<path clip-path=\"url(#clip092)\" d=\"M975.06 975.129 L970.818 973.371 L969.06 969.129 L970.818 964.887 L975.06 963.129 L979.302 964.887 L981.06 969.129 L979.302 973.371 Z\" fill=\"#009af9\" fill-rule=\"evenodd\" fill-opacity=\"1\" stroke=\"#000000\" stroke-opacity=\"1\" stroke-width=\"3.2\"/>\n",
       "<path clip-path=\"url(#clip092)\" d=\"M990.034 975.129 L985.792 973.371 L984.034 969.129 L985.792 964.887 L990.034 963.129 L994.276 964.887 L996.034 969.129 L994.276 973.371 Z\" fill=\"#009af9\" fill-rule=\"evenodd\" fill-opacity=\"1\" stroke=\"#000000\" stroke-opacity=\"1\" stroke-width=\"3.2\"/>\n",
       "<path clip-path=\"url(#clip092)\" d=\"M1005.01 975.129 L1000.77 973.371 L999.009 969.129 L1000.77 964.887 L1005.01 963.129 L1009.25 964.887 L1011.01 969.129 L1009.25 973.371 Z\" fill=\"#009af9\" fill-rule=\"evenodd\" fill-opacity=\"1\" stroke=\"#000000\" stroke-opacity=\"1\" stroke-width=\"3.2\"/>\n",
       "<path clip-path=\"url(#clip092)\" d=\"M1019.98 975.129 L1015.74 973.371 L1013.98 969.129 L1015.74 964.887 L1019.98 963.129 L1024.23 964.887 L1025.98 969.129 L1024.23 973.371 Z\" fill=\"#009af9\" fill-rule=\"evenodd\" fill-opacity=\"1\" stroke=\"#000000\" stroke-opacity=\"1\" stroke-width=\"3.2\"/>\n",
       "<path clip-path=\"url(#clip092)\" d=\"M1034.96 975.129 L1030.72 973.371 L1028.96 969.129 L1030.72 964.887 L1034.96 963.129 L1039.2 964.887 L1040.96 969.129 L1039.2 973.371 Z\" fill=\"#009af9\" fill-rule=\"evenodd\" fill-opacity=\"1\" stroke=\"#000000\" stroke-opacity=\"1\" stroke-width=\"3.2\"/>\n",
       "<path clip-path=\"url(#clip092)\" d=\"M1049.93 944.197 L1045.69 942.439 L1043.93 938.197 L1045.69 933.955 L1049.93 932.197 L1054.17 933.955 L1055.93 938.197 L1054.17 942.439 Z\" fill=\"#009af9\" fill-rule=\"evenodd\" fill-opacity=\"1\" stroke=\"#000000\" stroke-opacity=\"1\" stroke-width=\"3.2\"/>\n",
       "<path clip-path=\"url(#clip092)\" d=\"M1064.91 944.197 L1060.67 942.439 L1058.91 938.197 L1060.67 933.955 L1064.91 932.197 L1069.15 933.955 L1070.91 938.197 L1069.15 942.439 Z\" fill=\"#009af9\" fill-rule=\"evenodd\" fill-opacity=\"1\" stroke=\"#000000\" stroke-opacity=\"1\" stroke-width=\"3.2\"/>\n",
       "<path clip-path=\"url(#clip092)\" d=\"M1079.88 944.197 L1075.64 942.439 L1073.88 938.197 L1075.64 933.955 L1079.88 932.197 L1084.12 933.955 L1085.88 938.197 L1084.12 942.439 Z\" fill=\"#009af9\" fill-rule=\"evenodd\" fill-opacity=\"1\" stroke=\"#000000\" stroke-opacity=\"1\" stroke-width=\"3.2\"/>\n",
       "<path clip-path=\"url(#clip092)\" d=\"M1094.86 944.197 L1090.61 942.439 L1088.86 938.197 L1090.61 933.955 L1094.86 932.197 L1099.1 933.955 L1100.86 938.197 L1099.1 942.439 Z\" fill=\"#009af9\" fill-rule=\"evenodd\" fill-opacity=\"1\" stroke=\"#000000\" stroke-opacity=\"1\" stroke-width=\"3.2\"/>\n",
       "<path clip-path=\"url(#clip092)\" d=\"M1109.83 944.197 L1105.59 942.439 L1103.83 938.197 L1105.59 933.955 L1109.83 932.197 L1114.07 933.955 L1115.83 938.197 L1114.07 942.439 Z\" fill=\"#009af9\" fill-rule=\"evenodd\" fill-opacity=\"1\" stroke=\"#000000\" stroke-opacity=\"1\" stroke-width=\"3.2\"/>\n",
       "<path clip-path=\"url(#clip092)\" d=\"M1124.81 944.197 L1120.56 942.439 L1118.81 938.197 L1120.56 933.955 L1124.81 932.197 L1129.05 933.955 L1130.81 938.197 L1129.05 942.439 Z\" fill=\"#009af9\" fill-rule=\"evenodd\" fill-opacity=\"1\" stroke=\"#000000\" stroke-opacity=\"1\" stroke-width=\"3.2\"/>\n",
       "<path clip-path=\"url(#clip092)\" d=\"M1139.78 944.197 L1135.54 942.439 L1133.78 938.197 L1135.54 933.955 L1139.78 932.197 L1144.02 933.955 L1145.78 938.197 L1144.02 942.439 Z\" fill=\"#009af9\" fill-rule=\"evenodd\" fill-opacity=\"1\" stroke=\"#000000\" stroke-opacity=\"1\" stroke-width=\"3.2\"/>\n",
       "<path clip-path=\"url(#clip092)\" d=\"M1154.76 862.652 L1150.51 860.894 L1148.76 856.652 L1150.51 852.41 L1154.76 850.652 L1159 852.41 L1160.76 856.652 L1159 860.894 Z\" fill=\"#009af9\" fill-rule=\"evenodd\" fill-opacity=\"1\" stroke=\"#000000\" stroke-opacity=\"1\" stroke-width=\"3.2\"/>\n",
       "<path clip-path=\"url(#clip092)\" d=\"M1169.73 862.652 L1165.49 860.894 L1163.73 856.652 L1165.49 852.41 L1169.73 850.652 L1173.97 852.41 L1175.73 856.652 L1173.97 860.894 Z\" fill=\"#009af9\" fill-rule=\"evenodd\" fill-opacity=\"1\" stroke=\"#000000\" stroke-opacity=\"1\" stroke-width=\"3.2\"/>\n",
       "<path clip-path=\"url(#clip092)\" d=\"M1184.7 862.652 L1180.46 860.894 L1178.7 856.652 L1180.46 852.41 L1184.7 850.652 L1188.95 852.41 L1190.7 856.652 L1188.95 860.894 Z\" fill=\"#009af9\" fill-rule=\"evenodd\" fill-opacity=\"1\" stroke=\"#000000\" stroke-opacity=\"1\" stroke-width=\"3.2\"/>\n",
       "<path clip-path=\"url(#clip092)\" d=\"M1199.68 862.652 L1195.44 860.894 L1193.68 856.652 L1195.44 852.41 L1199.68 850.652 L1203.92 852.41 L1205.68 856.652 L1203.92 860.894 Z\" fill=\"#009af9\" fill-rule=\"evenodd\" fill-opacity=\"1\" stroke=\"#000000\" stroke-opacity=\"1\" stroke-width=\"3.2\"/>\n",
       "<path clip-path=\"url(#clip092)\" d=\"M1214.65 862.652 L1210.41 860.894 L1208.65 856.652 L1210.41 852.41 L1214.65 850.652 L1218.9 852.41 L1220.65 856.652 L1218.9 860.894 Z\" fill=\"#009af9\" fill-rule=\"evenodd\" fill-opacity=\"1\" stroke=\"#000000\" stroke-opacity=\"1\" stroke-width=\"3.2\"/>\n",
       "<path clip-path=\"url(#clip092)\" d=\"M1229.63 862.652 L1225.39 860.894 L1223.63 856.652 L1225.39 852.41 L1229.63 850.652 L1233.87 852.41 L1235.63 856.652 L1233.87 860.894 Z\" fill=\"#009af9\" fill-rule=\"evenodd\" fill-opacity=\"1\" stroke=\"#000000\" stroke-opacity=\"1\" stroke-width=\"3.2\"/>\n",
       "<path clip-path=\"url(#clip092)\" d=\"M1244.6 862.652 L1240.36 860.894 L1238.6 856.652 L1240.36 852.41 L1244.6 850.652 L1248.85 852.41 L1250.6 856.652 L1248.85 860.894 Z\" fill=\"#009af9\" fill-rule=\"evenodd\" fill-opacity=\"1\" stroke=\"#000000\" stroke-opacity=\"1\" stroke-width=\"3.2\"/>\n",
       "<path clip-path=\"url(#clip092)\" d=\"M1259.58 862.652 L1255.34 860.894 L1253.58 856.652 L1255.34 852.41 L1259.58 850.652 L1263.82 852.41 L1265.58 856.652 L1263.82 860.894 Z\" fill=\"#009af9\" fill-rule=\"evenodd\" fill-opacity=\"1\" stroke=\"#000000\" stroke-opacity=\"1\" stroke-width=\"3.2\"/>\n",
       "<path clip-path=\"url(#clip092)\" d=\"M1274.55 862.652 L1270.31 860.894 L1268.55 856.652 L1270.31 852.41 L1274.55 850.652 L1278.79 852.41 L1280.55 856.652 L1278.79 860.894 Z\" fill=\"#009af9\" fill-rule=\"evenodd\" fill-opacity=\"1\" stroke=\"#000000\" stroke-opacity=\"1\" stroke-width=\"3.2\"/>\n",
       "<path clip-path=\"url(#clip092)\" d=\"M1289.53 769.858 L1285.28 768.1 L1283.53 763.858 L1285.28 759.616 L1289.53 757.858 L1293.77 759.616 L1295.53 763.858 L1293.77 768.1 Z\" fill=\"#009af9\" fill-rule=\"evenodd\" fill-opacity=\"1\" stroke=\"#000000\" stroke-opacity=\"1\" stroke-width=\"3.2\"/>\n",
       "<path clip-path=\"url(#clip092)\" d=\"M1304.5 769.858 L1300.26 768.1 L1298.5 763.858 L1300.26 759.616 L1304.5 757.858 L1308.74 759.616 L1310.5 763.858 L1308.74 768.1 Z\" fill=\"#009af9\" fill-rule=\"evenodd\" fill-opacity=\"1\" stroke=\"#000000\" stroke-opacity=\"1\" stroke-width=\"3.2\"/>\n",
       "<path clip-path=\"url(#clip092)\" d=\"M1319.48 769.858 L1315.23 768.1 L1313.48 763.858 L1315.23 759.616 L1319.48 757.858 L1323.72 759.616 L1325.48 763.858 L1323.72 768.1 Z\" fill=\"#009af9\" fill-rule=\"evenodd\" fill-opacity=\"1\" stroke=\"#000000\" stroke-opacity=\"1\" stroke-width=\"3.2\"/>\n",
       "<path clip-path=\"url(#clip092)\" d=\"M1334.45 769.858 L1330.21 768.1 L1328.45 763.858 L1330.21 759.616 L1334.45 757.858 L1338.69 759.616 L1340.45 763.858 L1338.69 768.1 Z\" fill=\"#009af9\" fill-rule=\"evenodd\" fill-opacity=\"1\" stroke=\"#000000\" stroke-opacity=\"1\" stroke-width=\"3.2\"/>\n",
       "<path clip-path=\"url(#clip092)\" d=\"M1349.43 769.858 L1345.18 768.1 L1343.43 763.858 L1345.18 759.616 L1349.43 757.858 L1353.67 759.616 L1355.43 763.858 L1353.67 768.1 Z\" fill=\"#009af9\" fill-rule=\"evenodd\" fill-opacity=\"1\" stroke=\"#000000\" stroke-opacity=\"1\" stroke-width=\"3.2\"/>\n",
       "<path clip-path=\"url(#clip092)\" d=\"M1364.4 769.858 L1360.16 768.1 L1358.4 763.858 L1360.16 759.616 L1364.4 757.858 L1368.64 759.616 L1370.4 763.858 L1368.64 768.1 Z\" fill=\"#009af9\" fill-rule=\"evenodd\" fill-opacity=\"1\" stroke=\"#000000\" stroke-opacity=\"1\" stroke-width=\"3.2\"/>\n",
       "<path clip-path=\"url(#clip092)\" d=\"M1379.37 769.858 L1375.13 768.1 L1373.37 763.858 L1375.13 759.616 L1379.37 757.858 L1383.62 759.616 L1385.37 763.858 L1383.62 768.1 Z\" fill=\"#009af9\" fill-rule=\"evenodd\" fill-opacity=\"1\" stroke=\"#000000\" stroke-opacity=\"1\" stroke-width=\"3.2\"/>\n",
       "<path clip-path=\"url(#clip092)\" d=\"M1394.35 769.858 L1390.11 768.1 L1388.35 763.858 L1390.11 759.616 L1394.35 757.858 L1398.59 759.616 L1400.35 763.858 L1398.59 768.1 Z\" fill=\"#009af9\" fill-rule=\"evenodd\" fill-opacity=\"1\" stroke=\"#000000\" stroke-opacity=\"1\" stroke-width=\"3.2\"/>\n",
       "<path clip-path=\"url(#clip092)\" d=\"M1409.32 769.858 L1405.08 768.1 L1403.32 763.858 L1405.08 759.616 L1409.32 757.858 L1413.57 759.616 L1415.32 763.858 L1413.57 768.1 Z\" fill=\"#009af9\" fill-rule=\"evenodd\" fill-opacity=\"1\" stroke=\"#000000\" stroke-opacity=\"1\" stroke-width=\"3.2\"/>\n",
       "<path clip-path=\"url(#clip092)\" d=\"M1424.3 769.858 L1420.06 768.1 L1418.3 763.858 L1420.06 759.616 L1424.3 757.858 L1428.54 759.616 L1430.3 763.858 L1428.54 768.1 Z\" fill=\"#009af9\" fill-rule=\"evenodd\" fill-opacity=\"1\" stroke=\"#000000\" stroke-opacity=\"1\" stroke-width=\"3.2\"/>\n",
       "<path clip-path=\"url(#clip092)\" d=\"M1439.27 769.858 L1435.03 768.1 L1433.27 763.858 L1435.03 759.616 L1439.27 757.858 L1443.52 759.616 L1445.27 763.858 L1443.52 768.1 Z\" fill=\"#009af9\" fill-rule=\"evenodd\" fill-opacity=\"1\" stroke=\"#000000\" stroke-opacity=\"1\" stroke-width=\"3.2\"/>\n",
       "<path clip-path=\"url(#clip092)\" d=\"M1454.25 769.858 L1450.01 768.1 L1448.25 763.858 L1450.01 759.616 L1454.25 757.858 L1458.49 759.616 L1460.25 763.858 L1458.49 768.1 Z\" fill=\"#009af9\" fill-rule=\"evenodd\" fill-opacity=\"1\" stroke=\"#000000\" stroke-opacity=\"1\" stroke-width=\"3.2\"/>\n",
       "<path clip-path=\"url(#clip092)\" d=\"M1469.22 769.858 L1464.98 768.1 L1463.22 763.858 L1464.98 759.616 L1469.22 757.858 L1473.46 759.616 L1475.22 763.858 L1473.46 768.1 Z\" fill=\"#009af9\" fill-rule=\"evenodd\" fill-opacity=\"1\" stroke=\"#000000\" stroke-opacity=\"1\" stroke-width=\"3.2\"/>\n",
       "<path clip-path=\"url(#clip092)\" d=\"M1484.2 769.858 L1479.96 768.1 L1478.2 763.858 L1479.96 759.616 L1484.2 757.858 L1488.44 759.616 L1490.2 763.858 L1488.44 768.1 Z\" fill=\"#009af9\" fill-rule=\"evenodd\" fill-opacity=\"1\" stroke=\"#000000\" stroke-opacity=\"1\" stroke-width=\"3.2\"/>\n",
       "<path clip-path=\"url(#clip092)\" d=\"M1499.17 620.827 L1494.93 619.069 L1493.17 614.827 L1494.93 610.585 L1499.17 608.827 L1503.41 610.585 L1505.17 614.827 L1503.41 619.069 Z\" fill=\"#009af9\" fill-rule=\"evenodd\" fill-opacity=\"1\" stroke=\"#000000\" stroke-opacity=\"1\" stroke-width=\"3.2\"/>\n",
       "<path clip-path=\"url(#clip092)\" d=\"M1514.15 620.827 L1509.9 619.069 L1508.15 614.827 L1509.9 610.585 L1514.15 608.827 L1518.39 610.585 L1520.15 614.827 L1518.39 619.069 Z\" fill=\"#009af9\" fill-rule=\"evenodd\" fill-opacity=\"1\" stroke=\"#000000\" stroke-opacity=\"1\" stroke-width=\"3.2\"/>\n",
       "<path clip-path=\"url(#clip092)\" d=\"M1529.12 620.827 L1524.88 619.069 L1523.12 614.827 L1524.88 610.585 L1529.12 608.827 L1533.36 610.585 L1535.12 614.827 L1533.36 619.069 Z\" fill=\"#009af9\" fill-rule=\"evenodd\" fill-opacity=\"1\" stroke=\"#000000\" stroke-opacity=\"1\" stroke-width=\"3.2\"/>\n",
       "<path clip-path=\"url(#clip092)\" d=\"M1544.1 620.827 L1539.85 619.069 L1538.1 614.827 L1539.85 610.585 L1544.1 608.827 L1548.34 610.585 L1550.1 614.827 L1548.34 619.069 Z\" fill=\"#009af9\" fill-rule=\"evenodd\" fill-opacity=\"1\" stroke=\"#000000\" stroke-opacity=\"1\" stroke-width=\"3.2\"/>\n",
       "<path clip-path=\"url(#clip092)\" d=\"M1559.07 620.827 L1554.83 619.069 L1553.07 614.827 L1554.83 610.585 L1559.07 608.827 L1563.31 610.585 L1565.07 614.827 L1563.31 619.069 Z\" fill=\"#009af9\" fill-rule=\"evenodd\" fill-opacity=\"1\" stroke=\"#000000\" stroke-opacity=\"1\" stroke-width=\"3.2\"/>\n",
       "<path clip-path=\"url(#clip092)\" d=\"M1574.05 620.827 L1569.8 619.069 L1568.05 614.827 L1569.8 610.585 L1574.05 608.827 L1578.29 610.585 L1580.05 614.827 L1578.29 619.069 Z\" fill=\"#009af9\" fill-rule=\"evenodd\" fill-opacity=\"1\" stroke=\"#000000\" stroke-opacity=\"1\" stroke-width=\"3.2\"/>\n",
       "<path clip-path=\"url(#clip092)\" d=\"M1589.02 620.827 L1584.78 619.069 L1583.02 614.827 L1584.78 610.585 L1589.02 608.827 L1593.26 610.585 L1595.02 614.827 L1593.26 619.069 Z\" fill=\"#009af9\" fill-rule=\"evenodd\" fill-opacity=\"1\" stroke=\"#000000\" stroke-opacity=\"1\" stroke-width=\"3.2\"/>\n",
       "<path clip-path=\"url(#clip092)\" d=\"M1603.99 620.827 L1599.75 619.069 L1597.99 614.827 L1599.75 610.585 L1603.99 608.827 L1608.24 610.585 L1609.99 614.827 L1608.24 619.069 Z\" fill=\"#009af9\" fill-rule=\"evenodd\" fill-opacity=\"1\" stroke=\"#000000\" stroke-opacity=\"1\" stroke-width=\"3.2\"/>\n",
       "<path clip-path=\"url(#clip092)\" d=\"M1618.97 620.827 L1614.73 619.069 L1612.97 614.827 L1614.73 610.585 L1618.97 608.827 L1623.21 610.585 L1624.97 614.827 L1623.21 619.069 Z\" fill=\"#009af9\" fill-rule=\"evenodd\" fill-opacity=\"1\" stroke=\"#000000\" stroke-opacity=\"1\" stroke-width=\"3.2\"/>\n",
       "<path clip-path=\"url(#clip092)\" d=\"M1633.94 620.827 L1629.7 619.069 L1627.94 614.827 L1629.7 610.585 L1633.94 608.827 L1638.19 610.585 L1639.94 614.827 L1638.19 619.069 Z\" fill=\"#009af9\" fill-rule=\"evenodd\" fill-opacity=\"1\" stroke=\"#000000\" stroke-opacity=\"1\" stroke-width=\"3.2\"/>\n",
       "<path clip-path=\"url(#clip092)\" d=\"M1648.92 620.827 L1644.68 619.069 L1642.92 614.827 L1644.68 610.585 L1648.92 608.827 L1653.16 610.585 L1654.92 614.827 L1653.16 619.069 Z\" fill=\"#009af9\" fill-rule=\"evenodd\" fill-opacity=\"1\" stroke=\"#000000\" stroke-opacity=\"1\" stroke-width=\"3.2\"/>\n",
       "<path clip-path=\"url(#clip092)\" d=\"M1663.89 620.827 L1659.65 619.069 L1657.89 614.827 L1659.65 610.585 L1663.89 608.827 L1668.13 610.585 L1669.89 614.827 L1668.13 619.069 Z\" fill=\"#009af9\" fill-rule=\"evenodd\" fill-opacity=\"1\" stroke=\"#000000\" stroke-opacity=\"1\" stroke-width=\"3.2\"/>\n",
       "<path clip-path=\"url(#clip092)\" d=\"M1678.87 620.827 L1674.63 619.069 L1672.87 614.827 L1674.63 610.585 L1678.87 608.827 L1683.11 610.585 L1684.87 614.827 L1683.11 619.069 Z\" fill=\"#009af9\" fill-rule=\"evenodd\" fill-opacity=\"1\" stroke=\"#000000\" stroke-opacity=\"1\" stroke-width=\"3.2\"/>\n",
       "<path clip-path=\"url(#clip092)\" d=\"M1693.84 620.827 L1689.6 619.069 L1687.84 614.827 L1689.6 610.585 L1693.84 608.827 L1698.08 610.585 L1699.84 614.827 L1698.08 619.069 Z\" fill=\"#009af9\" fill-rule=\"evenodd\" fill-opacity=\"1\" stroke=\"#000000\" stroke-opacity=\"1\" stroke-width=\"3.2\"/>\n",
       "<path clip-path=\"url(#clip092)\" d=\"M1708.82 620.827 L1704.57 619.069 L1702.82 614.827 L1704.57 610.585 L1708.82 608.827 L1713.06 610.585 L1714.82 614.827 L1713.06 619.069 Z\" fill=\"#009af9\" fill-rule=\"evenodd\" fill-opacity=\"1\" stroke=\"#000000\" stroke-opacity=\"1\" stroke-width=\"3.2\"/>\n",
       "<path clip-path=\"url(#clip092)\" d=\"M1723.79 620.827 L1719.55 619.069 L1717.79 614.827 L1719.55 610.585 L1723.79 608.827 L1728.03 610.585 L1729.79 614.827 L1728.03 619.069 Z\" fill=\"#009af9\" fill-rule=\"evenodd\" fill-opacity=\"1\" stroke=\"#000000\" stroke-opacity=\"1\" stroke-width=\"3.2\"/>\n",
       "<path clip-path=\"url(#clip092)\" d=\"M1738.77 620.827 L1734.52 619.069 L1732.77 614.827 L1734.52 610.585 L1738.77 608.827 L1743.01 610.585 L1744.77 614.827 L1743.01 619.069 Z\" fill=\"#009af9\" fill-rule=\"evenodd\" fill-opacity=\"1\" stroke=\"#000000\" stroke-opacity=\"1\" stroke-width=\"3.2\"/>\n",
       "<path clip-path=\"url(#clip092)\" d=\"M1753.74 620.827 L1749.5 619.069 L1747.74 614.827 L1749.5 610.585 L1753.74 608.827 L1757.98 610.585 L1759.74 614.827 L1757.98 619.069 Z\" fill=\"#009af9\" fill-rule=\"evenodd\" fill-opacity=\"1\" stroke=\"#000000\" stroke-opacity=\"1\" stroke-width=\"3.2\"/>\n",
       "<path clip-path=\"url(#clip092)\" d=\"M1768.72 620.827 L1764.47 619.069 L1762.72 614.827 L1764.47 610.585 L1768.72 608.827 L1772.96 610.585 L1774.72 614.827 L1772.96 619.069 Z\" fill=\"#009af9\" fill-rule=\"evenodd\" fill-opacity=\"1\" stroke=\"#000000\" stroke-opacity=\"1\" stroke-width=\"3.2\"/>\n",
       "<path clip-path=\"url(#clip092)\" d=\"M1783.69 620.827 L1779.45 619.069 L1777.69 614.827 L1779.45 610.585 L1783.69 608.827 L1787.93 610.585 L1789.69 614.827 L1787.93 619.069 Z\" fill=\"#009af9\" fill-rule=\"evenodd\" fill-opacity=\"1\" stroke=\"#000000\" stroke-opacity=\"1\" stroke-width=\"3.2\"/>\n",
       "<path clip-path=\"url(#clip092)\" d=\"M1798.66 423.992 L1794.42 422.234 L1792.66 417.992 L1794.42 413.75 L1798.66 411.992 L1802.91 413.75 L1804.66 417.992 L1802.91 422.234 Z\" fill=\"#009af9\" fill-rule=\"evenodd\" fill-opacity=\"1\" stroke=\"#000000\" stroke-opacity=\"1\" stroke-width=\"3.2\"/>\n",
       "<path clip-path=\"url(#clip092)\" d=\"M1813.64 423.992 L1809.4 422.234 L1807.64 417.992 L1809.4 413.75 L1813.64 411.992 L1817.88 413.75 L1819.64 417.992 L1817.88 422.234 Z\" fill=\"#009af9\" fill-rule=\"evenodd\" fill-opacity=\"1\" stroke=\"#000000\" stroke-opacity=\"1\" stroke-width=\"3.2\"/>\n",
       "<path clip-path=\"url(#clip092)\" d=\"M1828.61 423.992 L1824.37 422.234 L1822.61 417.992 L1824.37 413.75 L1828.61 411.992 L1832.86 413.75 L1834.61 417.992 L1832.86 422.234 Z\" fill=\"#009af9\" fill-rule=\"evenodd\" fill-opacity=\"1\" stroke=\"#000000\" stroke-opacity=\"1\" stroke-width=\"3.2\"/>\n",
       "<path clip-path=\"url(#clip092)\" d=\"M1843.59 423.992 L1839.35 422.234 L1837.59 417.992 L1839.35 413.75 L1843.59 411.992 L1847.83 413.75 L1849.59 417.992 L1847.83 422.234 Z\" fill=\"#009af9\" fill-rule=\"evenodd\" fill-opacity=\"1\" stroke=\"#000000\" stroke-opacity=\"1\" stroke-width=\"3.2\"/>\n",
       "<path clip-path=\"url(#clip092)\" d=\"M1858.56 423.992 L1854.32 422.234 L1852.56 417.992 L1854.32 413.75 L1858.56 411.992 L1862.81 413.75 L1864.56 417.992 L1862.81 422.234 Z\" fill=\"#009af9\" fill-rule=\"evenodd\" fill-opacity=\"1\" stroke=\"#000000\" stroke-opacity=\"1\" stroke-width=\"3.2\"/>\n",
       "<path clip-path=\"url(#clip092)\" d=\"M1873.54 423.992 L1869.3 422.234 L1867.54 417.992 L1869.3 413.75 L1873.54 411.992 L1877.78 413.75 L1879.54 417.992 L1877.78 422.234 Z\" fill=\"#009af9\" fill-rule=\"evenodd\" fill-opacity=\"1\" stroke=\"#000000\" stroke-opacity=\"1\" stroke-width=\"3.2\"/>\n",
       "<path clip-path=\"url(#clip092)\" d=\"M1888.51 423.992 L1884.27 422.234 L1882.51 417.992 L1884.27 413.75 L1888.51 411.992 L1892.75 413.75 L1894.51 417.992 L1892.75 422.234 Z\" fill=\"#009af9\" fill-rule=\"evenodd\" fill-opacity=\"1\" stroke=\"#000000\" stroke-opacity=\"1\" stroke-width=\"3.2\"/>\n",
       "<path clip-path=\"url(#clip092)\" d=\"M1903.49 423.992 L1899.24 422.234 L1897.49 417.992 L1899.24 413.75 L1903.49 411.992 L1907.73 413.75 L1909.49 417.992 L1907.73 422.234 Z\" fill=\"#009af9\" fill-rule=\"evenodd\" fill-opacity=\"1\" stroke=\"#000000\" stroke-opacity=\"1\" stroke-width=\"3.2\"/>\n",
       "<path clip-path=\"url(#clip092)\" d=\"M1918.46 423.992 L1914.22 422.234 L1912.46 417.992 L1914.22 413.75 L1918.46 411.992 L1922.7 413.75 L1924.46 417.992 L1922.7 422.234 Z\" fill=\"#009af9\" fill-rule=\"evenodd\" fill-opacity=\"1\" stroke=\"#000000\" stroke-opacity=\"1\" stroke-width=\"3.2\"/>\n",
       "<path clip-path=\"url(#clip092)\" d=\"M1933.44 423.992 L1929.19 422.234 L1927.44 417.992 L1929.19 413.75 L1933.44 411.992 L1937.68 413.75 L1939.44 417.992 L1937.68 422.234 Z\" fill=\"#009af9\" fill-rule=\"evenodd\" fill-opacity=\"1\" stroke=\"#000000\" stroke-opacity=\"1\" stroke-width=\"3.2\"/>\n",
       "<path clip-path=\"url(#clip092)\" d=\"M1948.41 423.992 L1944.17 422.234 L1942.41 417.992 L1944.17 413.75 L1948.41 411.992 L1952.65 413.75 L1954.41 417.992 L1952.65 422.234 Z\" fill=\"#009af9\" fill-rule=\"evenodd\" fill-opacity=\"1\" stroke=\"#000000\" stroke-opacity=\"1\" stroke-width=\"3.2\"/>\n",
       "<path clip-path=\"url(#clip092)\" d=\"M1963.39 423.992 L1959.14 422.234 L1957.39 417.992 L1959.14 413.75 L1963.39 411.992 L1967.63 413.75 L1969.39 417.992 L1967.63 422.234 Z\" fill=\"#009af9\" fill-rule=\"evenodd\" fill-opacity=\"1\" stroke=\"#000000\" stroke-opacity=\"1\" stroke-width=\"3.2\"/>\n",
       "<path clip-path=\"url(#clip092)\" d=\"M1978.36 423.992 L1974.12 422.234 L1972.36 417.992 L1974.12 413.75 L1978.36 411.992 L1982.6 413.75 L1984.36 417.992 L1982.6 422.234 Z\" fill=\"#009af9\" fill-rule=\"evenodd\" fill-opacity=\"1\" stroke=\"#000000\" stroke-opacity=\"1\" stroke-width=\"3.2\"/>\n",
       "<path clip-path=\"url(#clip092)\" d=\"M1993.33 423.992 L1989.09 422.234 L1987.33 417.992 L1989.09 413.75 L1993.33 411.992 L1997.58 413.75 L1999.33 417.992 L1997.58 422.234 Z\" fill=\"#009af9\" fill-rule=\"evenodd\" fill-opacity=\"1\" stroke=\"#000000\" stroke-opacity=\"1\" stroke-width=\"3.2\"/>\n",
       "<path clip-path=\"url(#clip092)\" d=\"M2008.31 423.992 L2004.07 422.234 L2002.31 417.992 L2004.07 413.75 L2008.31 411.992 L2012.55 413.75 L2014.31 417.992 L2012.55 422.234 Z\" fill=\"#009af9\" fill-rule=\"evenodd\" fill-opacity=\"1\" stroke=\"#000000\" stroke-opacity=\"1\" stroke-width=\"3.2\"/>\n",
       "<path clip-path=\"url(#clip092)\" d=\"M2023.28 423.992 L2019.04 422.234 L2017.28 417.992 L2019.04 413.75 L2023.28 411.992 L2027.53 413.75 L2029.28 417.992 L2027.53 422.234 Z\" fill=\"#009af9\" fill-rule=\"evenodd\" fill-opacity=\"1\" stroke=\"#000000\" stroke-opacity=\"1\" stroke-width=\"3.2\"/>\n",
       "<path clip-path=\"url(#clip092)\" d=\"M2038.26 423.992 L2034.02 422.234 L2032.26 417.992 L2034.02 413.75 L2038.26 411.992 L2042.5 413.75 L2044.26 417.992 L2042.5 422.234 Z\" fill=\"#009af9\" fill-rule=\"evenodd\" fill-opacity=\"1\" stroke=\"#000000\" stroke-opacity=\"1\" stroke-width=\"3.2\"/>\n",
       "<path clip-path=\"url(#clip092)\" d=\"M2053.23 423.992 L2048.99 422.234 L2047.23 417.992 L2048.99 413.75 L2053.23 411.992 L2057.48 413.75 L2059.23 417.992 L2057.48 422.234 Z\" fill=\"#009af9\" fill-rule=\"evenodd\" fill-opacity=\"1\" stroke=\"#000000\" stroke-opacity=\"1\" stroke-width=\"3.2\"/>\n",
       "<path clip-path=\"url(#clip092)\" d=\"M2068.21 423.992 L2063.97 422.234 L2062.21 417.992 L2063.97 413.75 L2068.21 411.992 L2072.45 413.75 L2074.21 417.992 L2072.45 422.234 Z\" fill=\"#009af9\" fill-rule=\"evenodd\" fill-opacity=\"1\" stroke=\"#000000\" stroke-opacity=\"1\" stroke-width=\"3.2\"/>\n",
       "<path clip-path=\"url(#clip092)\" d=\"M2083.18 423.992 L2078.94 422.234 L2077.18 417.992 L2078.94 413.75 L2083.18 411.992 L2087.42 413.75 L2089.18 417.992 L2087.42 422.234 Z\" fill=\"#009af9\" fill-rule=\"evenodd\" fill-opacity=\"1\" stroke=\"#000000\" stroke-opacity=\"1\" stroke-width=\"3.2\"/>\n",
       "<path clip-path=\"url(#clip092)\" d=\"M2098.16 423.992 L2093.92 422.234 L2092.16 417.992 L2093.92 413.75 L2098.16 411.992 L2102.4 413.75 L2104.16 417.992 L2102.4 422.234 Z\" fill=\"#009af9\" fill-rule=\"evenodd\" fill-opacity=\"1\" stroke=\"#000000\" stroke-opacity=\"1\" stroke-width=\"3.2\"/>\n",
       "<path clip-path=\"url(#clip092)\" d=\"M2113.13 423.992 L2108.89 422.234 L2107.13 417.992 L2108.89 413.75 L2113.13 411.992 L2117.37 413.75 L2119.13 417.992 L2117.37 422.234 Z\" fill=\"#009af9\" fill-rule=\"evenodd\" fill-opacity=\"1\" stroke=\"#000000\" stroke-opacity=\"1\" stroke-width=\"3.2\"/>\n",
       "<path clip-path=\"url(#clip092)\" d=\"M2128.11 423.992 L2123.86 422.234 L2122.11 417.992 L2123.86 413.75 L2128.11 411.992 L2132.35 413.75 L2134.11 417.992 L2132.35 422.234 Z\" fill=\"#009af9\" fill-rule=\"evenodd\" fill-opacity=\"1\" stroke=\"#000000\" stroke-opacity=\"1\" stroke-width=\"3.2\"/>\n",
       "<path clip-path=\"url(#clip092)\" d=\"M2143.08 423.992 L2138.84 422.234 L2137.08 417.992 L2138.84 413.75 L2143.08 411.992 L2147.32 413.75 L2149.08 417.992 L2147.32 422.234 Z\" fill=\"#009af9\" fill-rule=\"evenodd\" fill-opacity=\"1\" stroke=\"#000000\" stroke-opacity=\"1\" stroke-width=\"3.2\"/>\n",
       "<path clip-path=\"url(#clip092)\" d=\"M2158.06 423.992 L2153.81 422.234 L2152.06 417.992 L2153.81 413.75 L2158.06 411.992 L2162.3 413.75 L2164.06 417.992 L2162.3 422.234 Z\" fill=\"#009af9\" fill-rule=\"evenodd\" fill-opacity=\"1\" stroke=\"#000000\" stroke-opacity=\"1\" stroke-width=\"3.2\"/>\n",
       "<path clip-path=\"url(#clip092)\" d=\"M2173.03 423.992 L2168.79 422.234 L2167.03 417.992 L2168.79 413.75 L2173.03 411.992 L2177.27 413.75 L2179.03 417.992 L2177.27 422.234 Z\" fill=\"#009af9\" fill-rule=\"evenodd\" fill-opacity=\"1\" stroke=\"#000000\" stroke-opacity=\"1\" stroke-width=\"3.2\"/>\n",
       "<path clip-path=\"url(#clip092)\" d=\"M2188 423.992 L2183.76 422.234 L2182 417.992 L2183.76 413.75 L2188 411.992 L2192.25 413.75 L2194 417.992 L2192.25 422.234 Z\" fill=\"#009af9\" fill-rule=\"evenodd\" fill-opacity=\"1\" stroke=\"#000000\" stroke-opacity=\"1\" stroke-width=\"3.2\"/>\n",
       "<path clip-path=\"url(#clip092)\" d=\"M2202.98 423.992 L2198.74 422.234 L2196.98 417.992 L2198.74 413.75 L2202.98 411.992 L2207.22 413.75 L2208.98 417.992 L2207.22 422.234 Z\" fill=\"#009af9\" fill-rule=\"evenodd\" fill-opacity=\"1\" stroke=\"#000000\" stroke-opacity=\"1\" stroke-width=\"3.2\"/>\n",
       "<path clip-path=\"url(#clip092)\" d=\"M2217.95 423.992 L2213.71 422.234 L2211.95 417.992 L2213.71 413.75 L2217.95 411.992 L2222.2 413.75 L2223.95 417.992 L2222.2 422.234 Z\" fill=\"#009af9\" fill-rule=\"evenodd\" fill-opacity=\"1\" stroke=\"#000000\" stroke-opacity=\"1\" stroke-width=\"3.2\"/>\n",
       "<path clip-path=\"url(#clip092)\" d=\"M2232.93 423.992 L2228.69 422.234 L2226.93 417.992 L2228.69 413.75 L2232.93 411.992 L2237.17 413.75 L2238.93 417.992 L2237.17 422.234 Z\" fill=\"#009af9\" fill-rule=\"evenodd\" fill-opacity=\"1\" stroke=\"#000000\" stroke-opacity=\"1\" stroke-width=\"3.2\"/>\n",
       "<path clip-path=\"url(#clip092)\" d=\"M2247.9 423.992 L2243.66 422.234 L2241.9 417.992 L2243.66 413.75 L2247.9 411.992 L2252.15 413.75 L2253.9 417.992 L2252.15 422.234 Z\" fill=\"#009af9\" fill-rule=\"evenodd\" fill-opacity=\"1\" stroke=\"#000000\" stroke-opacity=\"1\" stroke-width=\"3.2\"/>\n",
       "<path clip-path=\"url(#clip092)\" d=\"M2262.88 423.992 L2258.64 422.234 L2256.88 417.992 L2258.64 413.75 L2262.88 411.992 L2267.12 413.75 L2268.88 417.992 L2267.12 422.234 Z\" fill=\"#009af9\" fill-rule=\"evenodd\" fill-opacity=\"1\" stroke=\"#000000\" stroke-opacity=\"1\" stroke-width=\"3.2\"/>\n",
       "<path clip-path=\"url(#clip092)\" d=\"M2277.85 423.992 L2273.61 422.234 L2271.85 417.992 L2273.61 413.75 L2277.85 411.992 L2282.09 413.75 L2283.85 417.992 L2282.09 422.234 Z\" fill=\"#009af9\" fill-rule=\"evenodd\" fill-opacity=\"1\" stroke=\"#000000\" stroke-opacity=\"1\" stroke-width=\"3.2\"/>\n",
       "<path clip-path=\"url(#clip092)\" d=\"M2292.83 92.1857 L2288.59 90.4277 L2286.83 86.1857 L2288.59 81.9437 L2292.83 80.1857 L2297.07 81.9437 L2298.83 86.1857 L2297.07 90.4277 Z\" fill=\"#009af9\" fill-rule=\"evenodd\" fill-opacity=\"1\" stroke=\"#000000\" stroke-opacity=\"1\" stroke-width=\"3.2\"/>\n",
       "<polyline clip-path=\"url(#clip092)\" style=\"stroke:#e26f46; stroke-linecap:butt; stroke-linejoin:round; stroke-width:4; stroke-opacity:1; fill:none\" points=\"\n",
       "  295.211,1384.24 296.709,1383.18 298.206,1382.13 299.704,1381.07 301.201,1380.02 302.699,1378.97 304.196,1377.91 305.694,1376.86 307.191,1375.8 308.689,1374.75 \n",
       "  310.186,1373.69 311.683,1372.64 313.181,1371.58 314.678,1370.53 316.176,1369.48 317.673,1368.42 319.171,1367.37 320.668,1366.31 322.166,1365.26 323.663,1364.2 \n",
       "  325.161,1363.15 326.658,1362.09 328.156,1361.04 329.653,1359.99 331.15,1358.93 332.648,1357.88 334.145,1356.82 335.643,1355.77 337.14,1354.71 338.638,1353.66 \n",
       "  340.135,1352.6 341.633,1351.55 343.13,1350.5 344.628,1349.44 346.125,1348.39 347.623,1347.33 349.12,1346.28 350.617,1345.22 352.115,1344.17 353.612,1343.11 \n",
       "  355.11,1342.06 356.607,1341 358.105,1339.95 359.602,1338.9 361.1,1337.84 362.597,1336.79 364.095,1335.73 365.592,1334.68 367.09,1333.62 368.587,1332.57 \n",
       "  370.084,1331.51 371.582,1330.46 373.079,1329.41 374.577,1328.35 376.074,1327.3 377.572,1326.24 379.069,1325.19 380.567,1324.13 382.064,1323.08 383.562,1322.02 \n",
       "  385.059,1320.97 386.557,1319.92 388.054,1318.86 389.552,1317.81 391.049,1316.75 392.546,1315.7 394.044,1314.64 395.541,1313.59 397.039,1312.53 398.536,1311.48 \n",
       "  400.034,1310.43 401.531,1309.37 403.029,1308.32 404.526,1307.26 406.024,1306.21 407.521,1305.15 409.019,1304.1 410.516,1303.04 412.013,1301.99 413.511,1300.94 \n",
       "  415.008,1299.88 416.506,1298.83 418.003,1297.77 419.501,1296.72 420.998,1295.66 422.496,1294.61 423.993,1293.55 425.491,1292.5 426.988,1291.44 428.486,1290.39 \n",
       "  429.983,1289.34 431.48,1288.28 432.978,1287.23 434.475,1286.17 435.973,1285.12 437.47,1284.06 438.968,1283.01 440.465,1281.95 441.963,1280.9 443.46,1279.85 \n",
       "  444.958,1278.79 446.455,1277.74 447.953,1276.68 449.45,1275.63 450.948,1274.57 452.445,1273.52 453.942,1272.46 455.44,1271.41 456.937,1270.36 458.435,1269.3 \n",
       "  459.932,1268.25 461.43,1267.19 462.927,1266.14 464.425,1265.08 465.922,1264.03 467.42,1262.97 468.917,1261.92 470.415,1260.87 471.912,1259.81 473.409,1258.76 \n",
       "  474.907,1257.7 476.404,1256.65 477.902,1255.59 479.399,1254.54 480.897,1253.48 482.394,1252.43 483.892,1251.38 485.389,1250.32 486.887,1249.27 488.384,1248.21 \n",
       "  489.882,1247.16 491.379,1246.1 492.876,1245.05 494.374,1243.99 495.871,1242.94 497.369,1241.88 498.866,1240.83 500.364,1239.78 501.861,1238.72 503.359,1237.67 \n",
       "  504.856,1236.61 506.354,1235.56 507.851,1234.5 509.349,1233.45 510.846,1232.39 512.344,1231.34 513.841,1230.29 515.338,1229.23 516.836,1228.18 518.333,1227.12 \n",
       "  519.831,1226.07 521.328,1225.01 522.826,1223.96 524.323,1222.9 525.821,1221.85 527.318,1220.8 528.816,1219.74 530.313,1218.69 531.811,1217.63 533.308,1216.58 \n",
       "  534.805,1215.52 536.303,1214.47 537.8,1213.41 539.298,1212.36 540.795,1211.31 542.293,1210.25 543.79,1209.2 545.288,1208.14 546.785,1207.09 548.283,1206.03 \n",
       "  549.78,1204.98 551.278,1203.92 552.775,1202.87 554.272,1201.81 555.77,1200.76 557.267,1199.71 558.765,1198.65 560.262,1197.6 561.76,1196.54 563.257,1195.49 \n",
       "  564.755,1194.43 566.252,1193.38 567.75,1192.32 569.247,1191.27 570.745,1190.22 572.242,1189.16 573.74,1188.11 575.237,1187.05 576.734,1186 578.232,1184.94 \n",
       "  579.729,1183.89 581.227,1182.83 582.724,1181.78 584.222,1180.73 585.719,1179.67 587.217,1178.62 588.714,1177.56 590.212,1176.51 591.709,1175.45 593.207,1174.4 \n",
       "  594.704,1173.34 596.201,1172.29 597.699,1171.24 599.196,1170.18 600.694,1169.13 602.191,1168.07 603.689,1167.02 605.186,1165.96 606.684,1164.91 608.181,1163.85 \n",
       "  609.679,1162.8 611.176,1161.75 612.674,1160.69 614.171,1159.64 615.668,1158.58 617.166,1157.53 618.663,1156.47 620.161,1155.42 621.658,1154.36 623.156,1153.31 \n",
       "  624.653,1152.25 626.151,1151.2 627.648,1150.15 629.146,1149.09 630.643,1148.04 632.141,1146.98 633.638,1145.93 635.136,1144.87 636.633,1143.82 638.13,1142.76 \n",
       "  639.628,1141.71 641.125,1140.66 642.623,1139.6 644.12,1138.55 645.618,1137.49 647.115,1136.44 648.613,1135.38 650.11,1134.33 651.608,1133.27 653.105,1132.22 \n",
       "  654.603,1131.17 656.1,1130.11 657.597,1129.06 659.095,1128 660.592,1126.95 662.09,1125.89 663.587,1124.84 665.085,1123.78 666.582,1122.73 668.08,1121.68 \n",
       "  669.577,1120.62 671.075,1119.57 672.572,1118.51 674.07,1117.46 675.567,1116.4 677.064,1115.35 678.562,1114.29 680.059,1113.24 681.557,1112.19 683.054,1111.13 \n",
       "  684.552,1110.08 686.049,1109.02 687.547,1107.97 689.044,1106.91 690.542,1105.86 692.039,1104.8 693.537,1103.75 695.034,1102.69 696.532,1101.64 698.029,1100.59 \n",
       "  699.526,1099.53 701.024,1098.48 702.521,1097.42 704.019,1096.37 705.516,1095.31 707.014,1094.26 708.511,1093.2 710.009,1092.15 711.506,1091.1 713.004,1090.04 \n",
       "  714.501,1088.99 715.999,1087.93 717.496,1086.88 718.993,1085.82 720.491,1084.77 721.988,1083.71 723.486,1082.66 724.983,1081.61 726.481,1080.55 727.978,1079.5 \n",
       "  729.476,1078.44 730.973,1077.39 732.471,1076.33 733.968,1075.28 735.466,1074.22 736.963,1073.17 738.46,1072.12 739.958,1071.06 741.455,1070.01 742.953,1068.95 \n",
       "  744.45,1067.9 745.948,1066.84 747.445,1065.79 748.943,1064.73 750.44,1063.68 751.938,1062.62 753.435,1061.57 754.933,1060.52 756.43,1059.46 757.928,1058.41 \n",
       "  759.425,1057.35 760.922,1056.3 762.42,1055.24 763.917,1054.19 765.415,1053.13 766.912,1052.08 768.41,1051.03 769.907,1049.97 771.405,1048.92 772.902,1047.86 \n",
       "  774.4,1046.81 775.897,1045.75 777.395,1044.7 778.892,1043.64 780.389,1042.59 781.887,1041.54 783.384,1040.48 784.882,1039.43 786.379,1038.37 787.877,1037.32 \n",
       "  789.374,1036.26 790.872,1035.21 792.369,1034.15 793.867,1033.1 795.364,1032.05 796.862,1030.99 798.359,1029.94 799.856,1028.88 801.354,1027.83 802.851,1026.77 \n",
       "  804.349,1025.72 805.846,1024.66 807.344,1023.61 808.841,1022.56 810.339,1021.5 811.836,1020.45 813.334,1019.39 814.831,1018.34 816.329,1017.28 817.826,1016.23 \n",
       "  819.324,1015.17 820.821,1014.12 822.318,1013.06 823.816,1012.01 825.313,1010.96 826.811,1009.9 828.308,1008.85 829.806,1007.79 831.303,1006.74 832.801,1005.68 \n",
       "  834.298,1004.63 835.796,1003.57 837.293,1002.52 838.791,1001.47 840.288,1000.41 841.785,999.357 843.283,998.302 844.78,997.248 846.278,996.193 847.775,995.139 \n",
       "  849.273,994.084 850.77,993.03 852.268,991.975 853.765,990.921 855.263,989.866 856.76,988.812 858.258,987.758 859.755,986.703 861.252,985.649 862.75,984.594 \n",
       "  864.247,983.54 865.745,982.485 867.242,981.431 868.74,980.376 870.237,979.322 871.735,978.267 873.232,977.213 874.73,976.158 876.227,975.104 877.725,974.049 \n",
       "  879.222,972.995 880.719,971.94 882.217,970.886 883.714,969.832 885.212,968.777 886.709,967.723 888.207,966.668 889.704,965.614 891.202,964.559 892.699,963.505 \n",
       "  894.197,962.45 895.694,961.396 897.192,960.341 898.689,959.287 900.187,958.232 901.684,957.178 903.181,956.123 904.679,955.069 906.176,954.014 907.674,952.96 \n",
       "  909.171,951.906 910.669,950.851 912.166,949.797 913.664,948.742 915.161,947.688 916.659,946.633 918.156,945.579 919.654,944.524 921.151,943.47 922.648,942.415 \n",
       "  924.146,941.361 925.643,940.306 927.141,939.252 928.638,938.197 930.136,937.143 931.633,936.089 933.131,935.034 934.628,933.98 936.126,932.925 937.623,931.871 \n",
       "  939.121,930.816 940.618,929.762 942.115,928.707 943.613,927.653 945.11,926.598 946.608,925.544 948.105,924.489 949.603,923.435 951.1,922.38 952.598,921.326 \n",
       "  954.095,920.271 955.593,919.217 957.09,918.163 958.588,917.108 960.085,916.054 961.583,914.999 963.08,913.945 964.577,912.89 966.075,911.836 967.572,910.781 \n",
       "  969.07,909.727 970.567,908.672 972.065,907.618 973.562,906.563 975.06,905.509 976.557,904.454 978.055,903.4 979.552,902.345 981.05,901.291 982.547,900.237 \n",
       "  984.044,899.182 985.542,898.128 987.039,897.073 988.537,896.019 990.034,894.964 991.532,893.91 993.029,892.855 994.527,891.801 996.024,890.746 997.522,889.692 \n",
       "  999.019,888.637 1000.52,887.583 1002.01,886.528 1003.51,885.474 1005.01,884.419 1006.51,883.365 1008,882.311 1009.5,881.256 1011,880.202 1012.5,879.147 \n",
       "  1013.99,878.093 1015.49,877.038 1016.99,875.984 1018.49,874.929 1019.98,873.875 1021.48,872.82 1022.98,871.766 1024.48,870.711 1025.97,869.657 1027.47,868.602 \n",
       "  1028.97,867.548 1030.47,866.493 1031.96,865.439 1033.46,864.385 1034.96,863.33 1036.46,862.276 1037.95,861.221 1039.45,860.167 1040.95,859.112 1042.45,858.058 \n",
       "  1043.94,857.003 1045.44,855.949 1046.94,854.894 1048.44,853.84 1049.93,852.785 1051.43,851.731 1052.93,850.676 1054.43,849.622 1055.92,848.567 1057.42,847.513 \n",
       "  1058.92,846.459 1060.42,845.404 1061.91,844.35 1063.41,843.295 1064.91,842.241 1066.4,841.186 1067.9,840.132 1069.4,839.077 1070.9,838.023 1072.39,836.968 \n",
       "  1073.89,835.914 1075.39,834.859 1076.89,833.805 1078.38,832.75 1079.88,831.696 1081.38,830.642 1082.88,829.587 1084.37,828.533 1085.87,827.478 1087.37,826.424 \n",
       "  1088.87,825.369 1090.36,824.315 1091.86,823.26 1093.36,822.206 1094.86,821.151 1096.35,820.097 1097.85,819.042 1099.35,817.988 1100.85,816.933 1102.34,815.879 \n",
       "  1103.84,814.824 1105.34,813.77 1106.84,812.716 1108.33,811.661 1109.83,810.607 1111.33,809.552 1112.83,808.498 1114.32,807.443 1115.82,806.389 1117.32,805.334 \n",
       "  1118.82,804.28 1120.31,803.225 1121.81,802.171 1123.31,801.116 1124.81,800.062 1126.3,799.007 1127.8,797.953 1129.3,796.898 1130.8,795.844 1132.29,794.79 \n",
       "  1133.79,793.735 1135.29,792.681 1136.79,791.626 1138.28,790.572 1139.78,789.517 1141.28,788.463 1142.78,787.408 1144.27,786.354 1145.77,785.299 1147.27,784.245 \n",
       "  1148.77,783.19 1150.26,782.136 1151.76,781.081 1153.26,780.027 1154.76,778.972 1156.25,777.918 1157.75,776.864 1159.25,775.809 1160.75,774.755 1162.24,773.7 \n",
       "  1163.74,772.646 1165.24,771.591 1166.73,770.537 1168.23,769.482 1169.73,768.428 1171.23,767.373 1172.72,766.319 1174.22,765.264 1175.72,764.21 1177.22,763.155 \n",
       "  1178.71,762.101 1180.21,761.046 1181.71,759.992 1183.21,758.938 1184.7,757.883 1186.2,756.829 1187.7,755.774 1189.2,754.72 1190.69,753.665 1192.19,752.611 \n",
       "  1193.69,751.556 1195.19,750.502 1196.68,749.447 1198.18,748.393 1199.68,747.338 1201.18,746.284 1202.67,745.229 1204.17,744.175 1205.67,743.12 1207.17,742.066 \n",
       "  1208.66,741.012 1210.16,739.957 1211.66,738.903 1213.16,737.848 1214.65,736.794 1216.15,735.739 1217.65,734.685 1219.15,733.63 1220.64,732.576 1222.14,731.521 \n",
       "  1223.64,730.467 1225.14,729.412 1226.63,728.358 1228.13,727.303 1229.63,726.249 1231.13,725.195 1232.62,724.14 1234.12,723.086 1235.62,722.031 1237.12,720.977 \n",
       "  1238.61,719.922 1240.11,718.868 1241.61,717.813 1243.11,716.759 1244.6,715.704 1246.1,714.65 1247.6,713.595 1249.1,712.541 1250.59,711.486 1252.09,710.432 \n",
       "  1253.59,709.377 1255.09,708.323 1256.58,707.269 1258.08,706.214 1259.58,705.16 1261.08,704.105 1262.57,703.051 1264.07,701.996 1265.57,700.942 1267.07,699.887 \n",
       "  1268.56,698.833 1270.06,697.778 1271.56,696.724 1273.05,695.669 1274.55,694.615 1276.05,693.56 1277.55,692.506 1279.04,691.451 1280.54,690.397 1282.04,689.343 \n",
       "  1283.54,688.288 1285.03,687.234 1286.53,686.179 1288.03,685.125 1289.53,684.07 1291.02,683.016 1292.52,681.961 1294.02,680.907 1295.52,679.852 1297.01,678.798 \n",
       "  1298.51,677.743 1300.01,676.689 1301.51,675.634 1303,674.58 1304.5,673.525 1306,672.471 1307.5,671.417 1308.99,670.362 1310.49,669.308 1311.99,668.253 \n",
       "  1313.49,667.199 1314.98,666.144 1316.48,665.09 1317.98,664.035 1319.48,662.981 1320.97,661.926 1322.47,660.872 1323.97,659.817 1325.47,658.763 1326.96,657.708 \n",
       "  1328.46,656.654 1329.96,655.599 1331.46,654.545 1332.95,653.491 1334.45,652.436 1335.95,651.382 1337.45,650.327 1338.94,649.273 1340.44,648.218 1341.94,647.164 \n",
       "  1343.44,646.109 1344.93,645.055 1346.43,644 1347.93,642.946 1349.43,641.891 1350.92,640.837 1352.42,639.782 1353.92,638.728 1355.42,637.673 1356.91,636.619 \n",
       "  1358.41,635.565 1359.91,634.51 1361.41,633.456 1362.9,632.401 1364.4,631.347 1365.9,630.292 1367.4,629.238 1368.89,628.183 1370.39,627.129 1371.89,626.074 \n",
       "  1373.38,625.02 1374.88,623.965 1376.38,622.911 1377.88,621.856 1379.37,620.802 1380.87,619.748 1382.37,618.693 1383.87,617.639 1385.36,616.584 1386.86,615.53 \n",
       "  1388.36,614.475 1389.86,613.421 1391.35,612.366 1392.85,611.312 1394.35,610.257 1395.85,609.203 1397.34,608.148 1398.84,607.094 1400.34,606.039 1401.84,604.985 \n",
       "  1403.33,603.93 1404.83,602.876 1406.33,601.822 1407.83,600.767 1409.32,599.713 1410.82,598.658 1412.32,597.604 1413.82,596.549 1415.31,595.495 1416.81,594.44 \n",
       "  1418.31,593.386 1419.81,592.331 1421.3,591.277 1422.8,590.222 1424.3,589.168 1425.8,588.113 1427.29,587.059 1428.79,586.004 1430.29,584.95 1431.79,583.896 \n",
       "  1433.28,582.841 1434.78,581.787 1436.28,580.732 1437.78,579.678 1439.27,578.623 1440.77,577.569 1442.27,576.514 1443.77,575.46 1445.26,574.405 1446.76,573.351 \n",
       "  1448.26,572.296 1449.76,571.242 1451.25,570.187 1452.75,569.133 1454.25,568.078 1455.75,567.024 1457.24,565.97 1458.74,564.915 1460.24,563.861 1461.74,562.806 \n",
       "  1463.23,561.752 1464.73,560.697 1466.23,559.643 1467.73,558.588 1469.22,557.534 1470.72,556.479 1472.22,555.425 1473.71,554.37 1475.21,553.316 1476.71,552.261 \n",
       "  1478.21,551.207 1479.7,550.152 1481.2,549.098 1482.7,548.044 1484.2,546.989 1485.69,545.935 1487.19,544.88 1488.69,543.826 1490.19,542.771 1491.68,541.717 \n",
       "  1493.18,540.662 1494.68,539.608 1496.18,538.553 1497.67,537.499 1499.17,536.444 1500.67,535.39 1502.17,534.335 1503.66,533.281 1505.16,532.226 1506.66,531.172 \n",
       "  1508.16,530.118 1509.65,529.063 1511.15,528.009 1512.65,526.954 1514.15,525.9 1515.64,524.845 1517.14,523.791 1518.64,522.736 1520.14,521.682 1521.63,520.627 \n",
       "  1523.13,519.573 1524.63,518.518 1526.13,517.464 1527.62,516.409 1529.12,515.355 1530.62,514.3 1532.12,513.246 1533.61,512.192 1535.11,511.137 1536.61,510.083 \n",
       "  1538.11,509.028 1539.6,507.974 1541.1,506.919 1542.6,505.865 1544.1,504.81 1545.59,503.756 1547.09,502.701 1548.59,501.647 1550.09,500.592 1551.58,499.538 \n",
       "  1553.08,498.483 1554.58,497.429 1556.08,496.375 1557.57,495.32 1559.07,494.266 1560.57,493.211 1562.07,492.157 1563.56,491.102 1565.06,490.048 1566.56,488.993 \n",
       "  1568.06,487.939 1569.55,486.884 1571.05,485.83 1572.55,484.775 1574.05,483.721 1575.54,482.666 1577.04,481.612 1578.54,480.557 1580.03,479.503 1581.53,478.449 \n",
       "  1583.03,477.394 1584.53,476.34 1586.02,475.285 1587.52,474.231 1589.02,473.176 1590.52,472.122 1592.01,471.067 1593.51,470.013 1595.01,468.958 1596.51,467.904 \n",
       "  1598,466.849 1599.5,465.795 1601,464.74 1602.5,463.686 1603.99,462.631 1605.49,461.577 1606.99,460.523 1608.49,459.468 1609.98,458.414 1611.48,457.359 \n",
       "  1612.98,456.305 1614.48,455.25 1615.97,454.196 1617.47,453.141 1618.97,452.087 1620.47,451.032 1621.96,449.978 1623.46,448.923 1624.96,447.869 1626.46,446.814 \n",
       "  1627.95,445.76 1629.45,444.705 1630.95,443.651 1632.45,442.597 1633.94,441.542 1635.44,440.488 1636.94,439.433 1638.44,438.379 1639.93,437.324 1641.43,436.27 \n",
       "  1642.93,435.215 1644.43,434.161 1645.92,433.106 1647.42,432.052 1648.92,430.997 1650.42,429.943 1651.91,428.888 1653.41,427.834 1654.91,426.779 1656.41,425.725 \n",
       "  1657.9,424.671 1659.4,423.616 1660.9,422.562 1662.4,421.507 1663.89,420.453 1665.39,419.398 1666.89,418.344 1668.39,417.289 1669.88,416.235 1671.38,415.18 \n",
       "  1672.88,414.126 1674.38,413.071 1675.87,412.017 1677.37,410.962 1678.87,409.908 1680.36,408.853 1681.86,407.799 1683.36,406.745 1684.86,405.69 1686.35,404.636 \n",
       "  1687.85,403.581 1689.35,402.527 1690.85,401.472 1692.34,400.418 1693.84,399.363 1695.34,398.309 1696.84,397.254 1698.33,396.2 1699.83,395.145 1701.33,394.091 \n",
       "  1702.83,393.036 1704.32,391.982 1705.82,390.928 1707.32,389.873 1708.82,388.819 1710.31,387.764 1711.81,386.71 1713.31,385.655 1714.81,384.601 1716.3,383.546 \n",
       "  1717.8,382.492 1719.3,381.437 1720.8,380.383 1722.29,379.328 1723.79,378.274 1725.29,377.219 1726.79,376.165 1728.28,375.11 1729.78,374.056 1731.28,373.002 \n",
       "  1732.78,371.947 1734.27,370.893 1735.77,369.838 1737.27,368.784 1738.77,367.729 1740.26,366.675 1741.76,365.62 1743.26,364.566 1744.76,363.511 1746.25,362.457 \n",
       "  1747.75,361.402 1749.25,360.348 1750.75,359.293 1752.24,358.239 1753.74,357.184 1755.24,356.13 1756.74,355.076 1758.23,354.021 1759.73,352.967 1761.23,351.912 \n",
       "  1762.73,350.858 1764.22,349.803 1765.72,348.749 1767.22,347.694 1768.72,346.64 1770.21,345.585 1771.71,344.531 1773.21,343.476 1774.71,342.422 1776.2,341.367 \n",
       "  1777.7,340.313 1779.2,339.258 1780.69,338.204 1782.19,337.15 1783.69,336.095 1785.19,335.041 1786.68,333.986 1788.18,332.932 1789.68,331.877 1791.18,330.823 \n",
       "  \n",
       "  \"/>\n",
       "<polyline clip-path=\"url(#clip092)\" style=\"stroke:#3da44d; stroke-linecap:butt; stroke-linejoin:round; stroke-width:4; stroke-opacity:1; fill:none\" points=\"\n",
       "  301.201,1374.05 316.176,1368.42 331.15,1354.36 346.125,1337.49 361.1,1331.87 376.074,1326.24 391.049,1320.62 406.024,1312.18 420.998,1300.94 435.973,1292.5 \n",
       "  450.948,1284.06 465.922,1270 480.897,1258.76 495.871,1253.13 510.846,1250.32 525.821,1241.88 540.795,1227.83 555.77,1227.83 570.745,1222.2 585.719,1222.2 \n",
       "  600.694,1199.71 615.668,1199.71 630.643,1177.21 645.618,1177.21 660.592,1177.21 675.567,1157.53 690.542,1157.53 705.516,1157.53 720.491,1120.97 735.466,1120.97 \n",
       "  750.44,1120.97 765.415,1120.97 780.389,1120.97 795.364,1073.17 810.339,1073.17 825.313,1073.17 840.288,1073.17 855.263,1073.17 870.237,1073.17 885.212,1073.17 \n",
       "  900.187,971.94 915.161,971.94 930.136,971.94 945.11,971.94 960.085,971.94 975.06,971.94 990.034,971.94 1005.01,971.94 1019.98,971.94 1034.96,971.94 \n",
       "  1049.93,834.156 1064.91,834.156 1079.88,834.156 1094.86,834.156 1109.83,834.156 1124.81,834.156 1139.78,834.156 1154.76,834.156 1169.73,834.156 1184.7,834.156 \n",
       "  1199.68,834.156 1214.65,834.156 1229.63,834.156 1244.6,834.156 1259.58,834.156 1274.55,834.156 1289.53,572.648 \n",
       "  \"/>\n",
       "<path clip-path=\"url(#clip092)\" d=\"M301.201 1368.05 L295.201 1374.05 L301.201 1380.05 L307.201 1374.05 L301.201 1368.05 Z\" fill=\"#3da44d\" fill-rule=\"evenodd\" fill-opacity=\"1\" stroke=\"#000000\" stroke-opacity=\"1\" stroke-width=\"3.2\"/>\n",
       "<path clip-path=\"url(#clip092)\" d=\"M316.176 1362.42 L310.176 1368.42 L316.176 1374.42 L322.176 1368.42 L316.176 1362.42 Z\" fill=\"#3da44d\" fill-rule=\"evenodd\" fill-opacity=\"1\" stroke=\"#000000\" stroke-opacity=\"1\" stroke-width=\"3.2\"/>\n",
       "<path clip-path=\"url(#clip092)\" d=\"M331.15 1348.36 L325.15 1354.36 L331.15 1360.36 L337.15 1354.36 L331.15 1348.36 Z\" fill=\"#3da44d\" fill-rule=\"evenodd\" fill-opacity=\"1\" stroke=\"#000000\" stroke-opacity=\"1\" stroke-width=\"3.2\"/>\n",
       "<path clip-path=\"url(#clip092)\" d=\"M346.125 1331.49 L340.125 1337.49 L346.125 1343.49 L352.125 1337.49 L346.125 1331.49 Z\" fill=\"#3da44d\" fill-rule=\"evenodd\" fill-opacity=\"1\" stroke=\"#000000\" stroke-opacity=\"1\" stroke-width=\"3.2\"/>\n",
       "<path clip-path=\"url(#clip092)\" d=\"M361.1 1325.87 L355.1 1331.87 L361.1 1337.87 L367.1 1331.87 L361.1 1325.87 Z\" fill=\"#3da44d\" fill-rule=\"evenodd\" fill-opacity=\"1\" stroke=\"#000000\" stroke-opacity=\"1\" stroke-width=\"3.2\"/>\n",
       "<path clip-path=\"url(#clip092)\" d=\"M376.074 1320.24 L370.074 1326.24 L376.074 1332.24 L382.074 1326.24 L376.074 1320.24 Z\" fill=\"#3da44d\" fill-rule=\"evenodd\" fill-opacity=\"1\" stroke=\"#000000\" stroke-opacity=\"1\" stroke-width=\"3.2\"/>\n",
       "<path clip-path=\"url(#clip092)\" d=\"M391.049 1314.62 L385.049 1320.62 L391.049 1326.62 L397.049 1320.62 L391.049 1314.62 Z\" fill=\"#3da44d\" fill-rule=\"evenodd\" fill-opacity=\"1\" stroke=\"#000000\" stroke-opacity=\"1\" stroke-width=\"3.2\"/>\n",
       "<path clip-path=\"url(#clip092)\" d=\"M406.024 1306.18 L400.024 1312.18 L406.024 1318.18 L412.024 1312.18 L406.024 1306.18 Z\" fill=\"#3da44d\" fill-rule=\"evenodd\" fill-opacity=\"1\" stroke=\"#000000\" stroke-opacity=\"1\" stroke-width=\"3.2\"/>\n",
       "<path clip-path=\"url(#clip092)\" d=\"M420.998 1294.94 L414.998 1300.94 L420.998 1306.94 L426.998 1300.94 L420.998 1294.94 Z\" fill=\"#3da44d\" fill-rule=\"evenodd\" fill-opacity=\"1\" stroke=\"#000000\" stroke-opacity=\"1\" stroke-width=\"3.2\"/>\n",
       "<path clip-path=\"url(#clip092)\" d=\"M435.973 1286.5 L429.973 1292.5 L435.973 1298.5 L441.973 1292.5 L435.973 1286.5 Z\" fill=\"#3da44d\" fill-rule=\"evenodd\" fill-opacity=\"1\" stroke=\"#000000\" stroke-opacity=\"1\" stroke-width=\"3.2\"/>\n",
       "<path clip-path=\"url(#clip092)\" d=\"M450.948 1278.06 L444.948 1284.06 L450.948 1290.06 L456.948 1284.06 L450.948 1278.06 Z\" fill=\"#3da44d\" fill-rule=\"evenodd\" fill-opacity=\"1\" stroke=\"#000000\" stroke-opacity=\"1\" stroke-width=\"3.2\"/>\n",
       "<path clip-path=\"url(#clip092)\" d=\"M465.922 1264 L459.922 1270 L465.922 1276 L471.922 1270 L465.922 1264 Z\" fill=\"#3da44d\" fill-rule=\"evenodd\" fill-opacity=\"1\" stroke=\"#000000\" stroke-opacity=\"1\" stroke-width=\"3.2\"/>\n",
       "<path clip-path=\"url(#clip092)\" d=\"M480.897 1252.76 L474.897 1258.76 L480.897 1264.76 L486.897 1258.76 L480.897 1252.76 Z\" fill=\"#3da44d\" fill-rule=\"evenodd\" fill-opacity=\"1\" stroke=\"#000000\" stroke-opacity=\"1\" stroke-width=\"3.2\"/>\n",
       "<path clip-path=\"url(#clip092)\" d=\"M495.871 1247.13 L489.871 1253.13 L495.871 1259.13 L501.871 1253.13 L495.871 1247.13 Z\" fill=\"#3da44d\" fill-rule=\"evenodd\" fill-opacity=\"1\" stroke=\"#000000\" stroke-opacity=\"1\" stroke-width=\"3.2\"/>\n",
       "<path clip-path=\"url(#clip092)\" d=\"M510.846 1244.32 L504.846 1250.32 L510.846 1256.32 L516.846 1250.32 L510.846 1244.32 Z\" fill=\"#3da44d\" fill-rule=\"evenodd\" fill-opacity=\"1\" stroke=\"#000000\" stroke-opacity=\"1\" stroke-width=\"3.2\"/>\n",
       "<path clip-path=\"url(#clip092)\" d=\"M525.821 1235.88 L519.821 1241.88 L525.821 1247.88 L531.821 1241.88 L525.821 1235.88 Z\" fill=\"#3da44d\" fill-rule=\"evenodd\" fill-opacity=\"1\" stroke=\"#000000\" stroke-opacity=\"1\" stroke-width=\"3.2\"/>\n",
       "<path clip-path=\"url(#clip092)\" d=\"M540.795 1221.83 L534.795 1227.83 L540.795 1233.83 L546.795 1227.83 L540.795 1221.83 Z\" fill=\"#3da44d\" fill-rule=\"evenodd\" fill-opacity=\"1\" stroke=\"#000000\" stroke-opacity=\"1\" stroke-width=\"3.2\"/>\n",
       "<path clip-path=\"url(#clip092)\" d=\"M555.77 1221.83 L549.77 1227.83 L555.77 1233.83 L561.77 1227.83 L555.77 1221.83 Z\" fill=\"#3da44d\" fill-rule=\"evenodd\" fill-opacity=\"1\" stroke=\"#000000\" stroke-opacity=\"1\" stroke-width=\"3.2\"/>\n",
       "<path clip-path=\"url(#clip092)\" d=\"M570.745 1216.2 L564.745 1222.2 L570.745 1228.2 L576.745 1222.2 L570.745 1216.2 Z\" fill=\"#3da44d\" fill-rule=\"evenodd\" fill-opacity=\"1\" stroke=\"#000000\" stroke-opacity=\"1\" stroke-width=\"3.2\"/>\n",
       "<path clip-path=\"url(#clip092)\" d=\"M585.719 1216.2 L579.719 1222.2 L585.719 1228.2 L591.719 1222.2 L585.719 1216.2 Z\" fill=\"#3da44d\" fill-rule=\"evenodd\" fill-opacity=\"1\" stroke=\"#000000\" stroke-opacity=\"1\" stroke-width=\"3.2\"/>\n",
       "<path clip-path=\"url(#clip092)\" d=\"M600.694 1193.71 L594.694 1199.71 L600.694 1205.71 L606.694 1199.71 L600.694 1193.71 Z\" fill=\"#3da44d\" fill-rule=\"evenodd\" fill-opacity=\"1\" stroke=\"#000000\" stroke-opacity=\"1\" stroke-width=\"3.2\"/>\n",
       "<path clip-path=\"url(#clip092)\" d=\"M615.668 1193.71 L609.668 1199.71 L615.668 1205.71 L621.668 1199.71 L615.668 1193.71 Z\" fill=\"#3da44d\" fill-rule=\"evenodd\" fill-opacity=\"1\" stroke=\"#000000\" stroke-opacity=\"1\" stroke-width=\"3.2\"/>\n",
       "<path clip-path=\"url(#clip092)\" d=\"M630.643 1171.21 L624.643 1177.21 L630.643 1183.21 L636.643 1177.21 L630.643 1171.21 Z\" fill=\"#3da44d\" fill-rule=\"evenodd\" fill-opacity=\"1\" stroke=\"#000000\" stroke-opacity=\"1\" stroke-width=\"3.2\"/>\n",
       "<path clip-path=\"url(#clip092)\" d=\"M645.618 1171.21 L639.618 1177.21 L645.618 1183.21 L651.618 1177.21 L645.618 1171.21 Z\" fill=\"#3da44d\" fill-rule=\"evenodd\" fill-opacity=\"1\" stroke=\"#000000\" stroke-opacity=\"1\" stroke-width=\"3.2\"/>\n",
       "<path clip-path=\"url(#clip092)\" d=\"M660.592 1171.21 L654.592 1177.21 L660.592 1183.21 L666.592 1177.21 L660.592 1171.21 Z\" fill=\"#3da44d\" fill-rule=\"evenodd\" fill-opacity=\"1\" stroke=\"#000000\" stroke-opacity=\"1\" stroke-width=\"3.2\"/>\n",
       "<path clip-path=\"url(#clip092)\" d=\"M675.567 1151.53 L669.567 1157.53 L675.567 1163.53 L681.567 1157.53 L675.567 1151.53 Z\" fill=\"#3da44d\" fill-rule=\"evenodd\" fill-opacity=\"1\" stroke=\"#000000\" stroke-opacity=\"1\" stroke-width=\"3.2\"/>\n",
       "<path clip-path=\"url(#clip092)\" d=\"M690.542 1151.53 L684.542 1157.53 L690.542 1163.53 L696.542 1157.53 L690.542 1151.53 Z\" fill=\"#3da44d\" fill-rule=\"evenodd\" fill-opacity=\"1\" stroke=\"#000000\" stroke-opacity=\"1\" stroke-width=\"3.2\"/>\n",
       "<path clip-path=\"url(#clip092)\" d=\"M705.516 1151.53 L699.516 1157.53 L705.516 1163.53 L711.516 1157.53 L705.516 1151.53 Z\" fill=\"#3da44d\" fill-rule=\"evenodd\" fill-opacity=\"1\" stroke=\"#000000\" stroke-opacity=\"1\" stroke-width=\"3.2\"/>\n",
       "<path clip-path=\"url(#clip092)\" d=\"M720.491 1114.97 L714.491 1120.97 L720.491 1126.97 L726.491 1120.97 L720.491 1114.97 Z\" fill=\"#3da44d\" fill-rule=\"evenodd\" fill-opacity=\"1\" stroke=\"#000000\" stroke-opacity=\"1\" stroke-width=\"3.2\"/>\n",
       "<path clip-path=\"url(#clip092)\" d=\"M735.466 1114.97 L729.466 1120.97 L735.466 1126.97 L741.466 1120.97 L735.466 1114.97 Z\" fill=\"#3da44d\" fill-rule=\"evenodd\" fill-opacity=\"1\" stroke=\"#000000\" stroke-opacity=\"1\" stroke-width=\"3.2\"/>\n",
       "<path clip-path=\"url(#clip092)\" d=\"M750.44 1114.97 L744.44 1120.97 L750.44 1126.97 L756.44 1120.97 L750.44 1114.97 Z\" fill=\"#3da44d\" fill-rule=\"evenodd\" fill-opacity=\"1\" stroke=\"#000000\" stroke-opacity=\"1\" stroke-width=\"3.2\"/>\n",
       "<path clip-path=\"url(#clip092)\" d=\"M765.415 1114.97 L759.415 1120.97 L765.415 1126.97 L771.415 1120.97 L765.415 1114.97 Z\" fill=\"#3da44d\" fill-rule=\"evenodd\" fill-opacity=\"1\" stroke=\"#000000\" stroke-opacity=\"1\" stroke-width=\"3.2\"/>\n",
       "<path clip-path=\"url(#clip092)\" d=\"M780.389 1114.97 L774.389 1120.97 L780.389 1126.97 L786.389 1120.97 L780.389 1114.97 Z\" fill=\"#3da44d\" fill-rule=\"evenodd\" fill-opacity=\"1\" stroke=\"#000000\" stroke-opacity=\"1\" stroke-width=\"3.2\"/>\n",
       "<path clip-path=\"url(#clip092)\" d=\"M795.364 1067.17 L789.364 1073.17 L795.364 1079.17 L801.364 1073.17 L795.364 1067.17 Z\" fill=\"#3da44d\" fill-rule=\"evenodd\" fill-opacity=\"1\" stroke=\"#000000\" stroke-opacity=\"1\" stroke-width=\"3.2\"/>\n",
       "<path clip-path=\"url(#clip092)\" d=\"M810.339 1067.17 L804.339 1073.17 L810.339 1079.17 L816.339 1073.17 L810.339 1067.17 Z\" fill=\"#3da44d\" fill-rule=\"evenodd\" fill-opacity=\"1\" stroke=\"#000000\" stroke-opacity=\"1\" stroke-width=\"3.2\"/>\n",
       "<path clip-path=\"url(#clip092)\" d=\"M825.313 1067.17 L819.313 1073.17 L825.313 1079.17 L831.313 1073.17 L825.313 1067.17 Z\" fill=\"#3da44d\" fill-rule=\"evenodd\" fill-opacity=\"1\" stroke=\"#000000\" stroke-opacity=\"1\" stroke-width=\"3.2\"/>\n",
       "<path clip-path=\"url(#clip092)\" d=\"M840.288 1067.17 L834.288 1073.17 L840.288 1079.17 L846.288 1073.17 L840.288 1067.17 Z\" fill=\"#3da44d\" fill-rule=\"evenodd\" fill-opacity=\"1\" stroke=\"#000000\" stroke-opacity=\"1\" stroke-width=\"3.2\"/>\n",
       "<path clip-path=\"url(#clip092)\" d=\"M855.263 1067.17 L849.263 1073.17 L855.263 1079.17 L861.263 1073.17 L855.263 1067.17 Z\" fill=\"#3da44d\" fill-rule=\"evenodd\" fill-opacity=\"1\" stroke=\"#000000\" stroke-opacity=\"1\" stroke-width=\"3.2\"/>\n",
       "<path clip-path=\"url(#clip092)\" d=\"M870.237 1067.17 L864.237 1073.17 L870.237 1079.17 L876.237 1073.17 L870.237 1067.17 Z\" fill=\"#3da44d\" fill-rule=\"evenodd\" fill-opacity=\"1\" stroke=\"#000000\" stroke-opacity=\"1\" stroke-width=\"3.2\"/>\n",
       "<path clip-path=\"url(#clip092)\" d=\"M885.212 1067.17 L879.212 1073.17 L885.212 1079.17 L891.212 1073.17 L885.212 1067.17 Z\" fill=\"#3da44d\" fill-rule=\"evenodd\" fill-opacity=\"1\" stroke=\"#000000\" stroke-opacity=\"1\" stroke-width=\"3.2\"/>\n",
       "<path clip-path=\"url(#clip092)\" d=\"M900.187 965.94 L894.187 971.94 L900.187 977.94 L906.187 971.94 L900.187 965.94 Z\" fill=\"#3da44d\" fill-rule=\"evenodd\" fill-opacity=\"1\" stroke=\"#000000\" stroke-opacity=\"1\" stroke-width=\"3.2\"/>\n",
       "<path clip-path=\"url(#clip092)\" d=\"M915.161 965.94 L909.161 971.94 L915.161 977.94 L921.161 971.94 L915.161 965.94 Z\" fill=\"#3da44d\" fill-rule=\"evenodd\" fill-opacity=\"1\" stroke=\"#000000\" stroke-opacity=\"1\" stroke-width=\"3.2\"/>\n",
       "<path clip-path=\"url(#clip092)\" d=\"M930.136 965.94 L924.136 971.94 L930.136 977.94 L936.136 971.94 L930.136 965.94 Z\" fill=\"#3da44d\" fill-rule=\"evenodd\" fill-opacity=\"1\" stroke=\"#000000\" stroke-opacity=\"1\" stroke-width=\"3.2\"/>\n",
       "<path clip-path=\"url(#clip092)\" d=\"M945.11 965.94 L939.11 971.94 L945.11 977.94 L951.11 971.94 L945.11 965.94 Z\" fill=\"#3da44d\" fill-rule=\"evenodd\" fill-opacity=\"1\" stroke=\"#000000\" stroke-opacity=\"1\" stroke-width=\"3.2\"/>\n",
       "<path clip-path=\"url(#clip092)\" d=\"M960.085 965.94 L954.085 971.94 L960.085 977.94 L966.085 971.94 L960.085 965.94 Z\" fill=\"#3da44d\" fill-rule=\"evenodd\" fill-opacity=\"1\" stroke=\"#000000\" stroke-opacity=\"1\" stroke-width=\"3.2\"/>\n",
       "<path clip-path=\"url(#clip092)\" d=\"M975.06 965.94 L969.06 971.94 L975.06 977.94 L981.06 971.94 L975.06 965.94 Z\" fill=\"#3da44d\" fill-rule=\"evenodd\" fill-opacity=\"1\" stroke=\"#000000\" stroke-opacity=\"1\" stroke-width=\"3.2\"/>\n",
       "<path clip-path=\"url(#clip092)\" d=\"M990.034 965.94 L984.034 971.94 L990.034 977.94 L996.034 971.94 L990.034 965.94 Z\" fill=\"#3da44d\" fill-rule=\"evenodd\" fill-opacity=\"1\" stroke=\"#000000\" stroke-opacity=\"1\" stroke-width=\"3.2\"/>\n",
       "<path clip-path=\"url(#clip092)\" d=\"M1005.01 965.94 L999.009 971.94 L1005.01 977.94 L1011.01 971.94 L1005.01 965.94 Z\" fill=\"#3da44d\" fill-rule=\"evenodd\" fill-opacity=\"1\" stroke=\"#000000\" stroke-opacity=\"1\" stroke-width=\"3.2\"/>\n",
       "<path clip-path=\"url(#clip092)\" d=\"M1019.98 965.94 L1013.98 971.94 L1019.98 977.94 L1025.98 971.94 L1019.98 965.94 Z\" fill=\"#3da44d\" fill-rule=\"evenodd\" fill-opacity=\"1\" stroke=\"#000000\" stroke-opacity=\"1\" stroke-width=\"3.2\"/>\n",
       "<path clip-path=\"url(#clip092)\" d=\"M1034.96 965.94 L1028.96 971.94 L1034.96 977.94 L1040.96 971.94 L1034.96 965.94 Z\" fill=\"#3da44d\" fill-rule=\"evenodd\" fill-opacity=\"1\" stroke=\"#000000\" stroke-opacity=\"1\" stroke-width=\"3.2\"/>\n",
       "<path clip-path=\"url(#clip092)\" d=\"M1049.93 828.156 L1043.93 834.156 L1049.93 840.156 L1055.93 834.156 L1049.93 828.156 Z\" fill=\"#3da44d\" fill-rule=\"evenodd\" fill-opacity=\"1\" stroke=\"#000000\" stroke-opacity=\"1\" stroke-width=\"3.2\"/>\n",
       "<path clip-path=\"url(#clip092)\" d=\"M1064.91 828.156 L1058.91 834.156 L1064.91 840.156 L1070.91 834.156 L1064.91 828.156 Z\" fill=\"#3da44d\" fill-rule=\"evenodd\" fill-opacity=\"1\" stroke=\"#000000\" stroke-opacity=\"1\" stroke-width=\"3.2\"/>\n",
       "<path clip-path=\"url(#clip092)\" d=\"M1079.88 828.156 L1073.88 834.156 L1079.88 840.156 L1085.88 834.156 L1079.88 828.156 Z\" fill=\"#3da44d\" fill-rule=\"evenodd\" fill-opacity=\"1\" stroke=\"#000000\" stroke-opacity=\"1\" stroke-width=\"3.2\"/>\n",
       "<path clip-path=\"url(#clip092)\" d=\"M1094.86 828.156 L1088.86 834.156 L1094.86 840.156 L1100.86 834.156 L1094.86 828.156 Z\" fill=\"#3da44d\" fill-rule=\"evenodd\" fill-opacity=\"1\" stroke=\"#000000\" stroke-opacity=\"1\" stroke-width=\"3.2\"/>\n",
       "<path clip-path=\"url(#clip092)\" d=\"M1109.83 828.156 L1103.83 834.156 L1109.83 840.156 L1115.83 834.156 L1109.83 828.156 Z\" fill=\"#3da44d\" fill-rule=\"evenodd\" fill-opacity=\"1\" stroke=\"#000000\" stroke-opacity=\"1\" stroke-width=\"3.2\"/>\n",
       "<path clip-path=\"url(#clip092)\" d=\"M1124.81 828.156 L1118.81 834.156 L1124.81 840.156 L1130.81 834.156 L1124.81 828.156 Z\" fill=\"#3da44d\" fill-rule=\"evenodd\" fill-opacity=\"1\" stroke=\"#000000\" stroke-opacity=\"1\" stroke-width=\"3.2\"/>\n",
       "<path clip-path=\"url(#clip092)\" d=\"M1139.78 828.156 L1133.78 834.156 L1139.78 840.156 L1145.78 834.156 L1139.78 828.156 Z\" fill=\"#3da44d\" fill-rule=\"evenodd\" fill-opacity=\"1\" stroke=\"#000000\" stroke-opacity=\"1\" stroke-width=\"3.2\"/>\n",
       "<path clip-path=\"url(#clip092)\" d=\"M1154.76 828.156 L1148.76 834.156 L1154.76 840.156 L1160.76 834.156 L1154.76 828.156 Z\" fill=\"#3da44d\" fill-rule=\"evenodd\" fill-opacity=\"1\" stroke=\"#000000\" stroke-opacity=\"1\" stroke-width=\"3.2\"/>\n",
       "<path clip-path=\"url(#clip092)\" d=\"M1169.73 828.156 L1163.73 834.156 L1169.73 840.156 L1175.73 834.156 L1169.73 828.156 Z\" fill=\"#3da44d\" fill-rule=\"evenodd\" fill-opacity=\"1\" stroke=\"#000000\" stroke-opacity=\"1\" stroke-width=\"3.2\"/>\n",
       "<path clip-path=\"url(#clip092)\" d=\"M1184.7 828.156 L1178.7 834.156 L1184.7 840.156 L1190.7 834.156 L1184.7 828.156 Z\" fill=\"#3da44d\" fill-rule=\"evenodd\" fill-opacity=\"1\" stroke=\"#000000\" stroke-opacity=\"1\" stroke-width=\"3.2\"/>\n",
       "<path clip-path=\"url(#clip092)\" d=\"M1199.68 828.156 L1193.68 834.156 L1199.68 840.156 L1205.68 834.156 L1199.68 828.156 Z\" fill=\"#3da44d\" fill-rule=\"evenodd\" fill-opacity=\"1\" stroke=\"#000000\" stroke-opacity=\"1\" stroke-width=\"3.2\"/>\n",
       "<path clip-path=\"url(#clip092)\" d=\"M1214.65 828.156 L1208.65 834.156 L1214.65 840.156 L1220.65 834.156 L1214.65 828.156 Z\" fill=\"#3da44d\" fill-rule=\"evenodd\" fill-opacity=\"1\" stroke=\"#000000\" stroke-opacity=\"1\" stroke-width=\"3.2\"/>\n",
       "<path clip-path=\"url(#clip092)\" d=\"M1229.63 828.156 L1223.63 834.156 L1229.63 840.156 L1235.63 834.156 L1229.63 828.156 Z\" fill=\"#3da44d\" fill-rule=\"evenodd\" fill-opacity=\"1\" stroke=\"#000000\" stroke-opacity=\"1\" stroke-width=\"3.2\"/>\n",
       "<path clip-path=\"url(#clip092)\" d=\"M1244.6 828.156 L1238.6 834.156 L1244.6 840.156 L1250.6 834.156 L1244.6 828.156 Z\" fill=\"#3da44d\" fill-rule=\"evenodd\" fill-opacity=\"1\" stroke=\"#000000\" stroke-opacity=\"1\" stroke-width=\"3.2\"/>\n",
       "<path clip-path=\"url(#clip092)\" d=\"M1259.58 828.156 L1253.58 834.156 L1259.58 840.156 L1265.58 834.156 L1259.58 828.156 Z\" fill=\"#3da44d\" fill-rule=\"evenodd\" fill-opacity=\"1\" stroke=\"#000000\" stroke-opacity=\"1\" stroke-width=\"3.2\"/>\n",
       "<path clip-path=\"url(#clip092)\" d=\"M1274.55 828.156 L1268.55 834.156 L1274.55 840.156 L1280.55 834.156 L1274.55 828.156 Z\" fill=\"#3da44d\" fill-rule=\"evenodd\" fill-opacity=\"1\" stroke=\"#000000\" stroke-opacity=\"1\" stroke-width=\"3.2\"/>\n",
       "<path clip-path=\"url(#clip092)\" d=\"M1289.53 566.648 L1283.53 572.648 L1289.53 578.648 L1295.53 572.648 L1289.53 566.648 Z\" fill=\"#3da44d\" fill-rule=\"evenodd\" fill-opacity=\"1\" stroke=\"#000000\" stroke-opacity=\"1\" stroke-width=\"3.2\"/>\n",
       "</svg>\n"
      ]
     },
     "metadata": {},
     "output_type": "display_data"
    },
    {
     "name": "stderr",
     "output_type": "stream",
     "text": [
      "WARNING: CPU random generator seem to be failing, disabling hardware random number generation\n",
      "WARNING: RDRND generated: 0xffffffff 0xffffffff 0xffffffff 0xffffffff\n"
     ]
    }
   ],
   "source": [
    "fig = M(mutation_freqs(tumor).frequency; res=0.0005, nBins=200,\n",
    "        xlab=\"1/f\", ylab=\"M(f)\", lab=\"\", marker=:o, ms=1.5)\n",
    "β = params.μ * params.b/(params.b-params.d)\n",
    "Plots.plot!(1:1000, n-> β*n, lab=\"\")\n",
    "\n",
    "f = filter(m -> m.reads > 1, stochastic_sequencing(tumor, readdepth=1000)).frequency\n",
    "M!(fig, stochastic_sequencing(tumor, readdepth=2000).frequency; res=0.001, lab=\"\", marker=:d, ms=1.5 )"
   ]
  },
  {
   "cell_type": "markdown",
   "metadata": {},
   "source": [
    "### clones"
   ]
  },
  {
   "cell_type": "code",
   "execution_count": 40,
   "metadata": {},
   "outputs": [
    {
     "name": "stderr",
     "output_type": "stream",
     "text": [
      "┌ Warning: This method assumes mutations to be ordered by occurence!\n",
      "└ @ TumorGrowth c:\\Users\\ArmanAngaji\\OneDrive - Universität zu Köln\\Dokumente\\Uni-Köln\\Masterarbeit\\Workspace\\Julia_Master\\MasterProject_Julia\\TumorGrowth\\src\\analysis.jl:100\n"
     ]
    },
    {
     "name": "stderr",
     "output_type": "stream",
     "text": [
      "┌ Warning: This method assumes mutations to be ordered by occurence!\n",
      "└ @ TumorGrowth c:\\Users\\ArmanAngaji\\OneDrive - Universität zu Köln\\Dokumente\\Uni-Köln\\Masterarbeit\\Workspace\\Julia_Master\\MasterProject_Julia\\TumorGrowth\\src\\analysis.jl:100\n"
     ]
    }
   ],
   "source": [
    "tumor = data_import(\"examples/test_2000_2d.csv\")\n",
    "\n",
    "fig = plotting(tumor; color=:lightblue, shading=false)\n",
    "clone(tumor, nothing) |> t -> plotting!(fig, t, color=:red)\n",
    "clone(tumor, 2) |> t -> plotting!(fig, t, color=:blue)"
   ]
  },
  {
   "cell_type": "code",
   "execution_count": 47,
   "metadata": {},
   "outputs": [
    {
     "name": "stderr",
     "output_type": "stream",
     "text": [
      "┌ Warning: This method assumes mutations to be ordered by occurence!\n",
      "└ @ TumorGrowth c:\\Users\\ArmanAngaji\\OneDrive - Universität zu Köln\\Dokumente\\Uni-Köln\\Masterarbeit\\Workspace\\Julia_Master\\MasterProject_Julia\\TumorGrowth\\src\\analysis.jl:115\n",
      "┌ Warning: This method assumes mutations to be ordered by occurence!\n",
      "└ @ TumorGrowth c:\\Users\\ArmanAngaji\\OneDrive - Universität zu Köln\\Dokumente\\Uni-Köln\\Masterarbeit\\Workspace\\Julia_Master\\MasterProject_Julia\\TumorGrowth\\src\\analysis.jl:115\n",
      "┌ Warning: This method assumes mutations to be ordered by occurence!\n",
      "└ @ TumorGrowth c:\\Users\\ArmanAngaji\\OneDrive - Universität zu Köln\\Dokumente\\Uni-Köln\\Masterarbeit\\Workspace\\Julia_Master\\MasterProject_Julia\\TumorGrowth\\src\\analysis.jl:115\n"
     ]
    },
    {
     "name": "stderr",
     "output_type": "stream",
     "text": [
      "┌ Warning: This method assumes mutations to be ordered by occurence!\n",
      "└ @ TumorGrowth c:\\Users\\ArmanAngaji\\OneDrive - Universität zu Köln\\Dokumente\\Uni-Köln\\Masterarbeit\\Workspace\\Julia_Master\\MasterProject_Julia\\TumorGrowth\\src\\analysis.jl:115\n",
      "┌ Warning: This method assumes mutations to be ordered by occurence!\n",
      "└ @ TumorGrowth c:\\Users\\ArmanAngaji\\OneDrive - Universität zu Köln\\Dokumente\\Uni-Köln\\Masterarbeit\\Workspace\\Julia_Master\\MasterProject_Julia\\TumorGrowth\\src\\analysis.jl:115\n",
      "┌ Warning: This method assumes mutations to be ordered by occurence!\n",
      "└ @ TumorGrowth c:\\Users\\ArmanAngaji\\OneDrive - Universität zu Köln\\Dokumente\\Uni-Köln\\Masterarbeit\\Workspace\\Julia_Master\\MasterProject_Julia\\TumorGrowth\\src\\analysis.jl:115\n"
     ]
    }
   ],
   "source": [
    "fig = plotting(tumor; color=:lightgrey, shading=false)\n",
    "sort(by=size, rev=true, clones(tumor))[1] |> clones .|> t -> plotting_colored_mutations!(fig, t; colorpalette=palette(:tab10), shading=false,autodepth=true)\n",
    "fig"
   ]
  },
  {
   "cell_type": "markdown",
   "metadata": {},
   "source": [
    "## Time series"
   ]
  },
  {
   "cell_type": "code",
   "execution_count": null,
   "metadata": {},
   "outputs": [],
   "source": [
    "using Plots: palette"
   ]
  },
  {
   "cell_type": "code",
   "execution_count": 38,
   "metadata": {},
   "outputs": [
    {
     "name": "stderr",
     "output_type": "stream",
     "text": [
      "\r\u001b[32mProgress: Tumor size  450 \t Time: 0:00:00\u001b[39m\u001b[K"
     ]
    },
    {
     "name": "stderr",
     "output_type": "stream",
     "text": [
      "\r\u001b[32mProgress: Tumor size  1084 \t Time: 0:00:00\u001b[39m\u001b[K"
     ]
    },
    {
     "name": "stderr",
     "output_type": "stream",
     "text": [
      "\r\u001b[32mProgress: Tumor size  1518 \t Time: 0:00:00\u001b[39m\u001b[K"
     ]
    },
    {
     "name": "stderr",
     "output_type": "stream",
     "text": [
      "\r\u001b[32mProgress: Tumor size  1857 \t Time: 0:00:00\u001b[39m\u001b[K"
     ]
    },
    {
     "name": "stderr",
     "output_type": "stream",
     "text": [
      "\r\u001b[32mProgress: Tumor size  2090 \t Time: 0:00:00\u001b[39m\u001b[K"
     ]
    },
    {
     "name": "stderr",
     "output_type": "stream",
     "text": [
      "\r\u001b[32mProgress: Tumor size  2321 \t Time: 0:00:00\u001b[39m\u001b[K"
     ]
    },
    {
     "name": "stderr",
     "output_type": "stream",
     "text": [
      "\r\u001b[32mProgress: Tumor size  2401 \t Time: 0:00:00\u001b[39m\u001b[K"
     ]
    },
    {
     "name": "stderr",
     "output_type": "stream",
     "text": [
      "\r\u001b[32mProgress: Tumor size  2591 \t Time: 0:00:00\u001b[39m\u001b[K"
     ]
    },
    {
     "name": "stderr",
     "output_type": "stream",
     "text": [
      "\r\u001b[32mProgress: Tumor size  2816 \t Time: 0:00:00\u001b[39m\u001b[K"
     ]
    },
    {
     "name": "stderr",
     "output_type": "stream",
     "text": [
      "\r\u001b[32mProgress: Tumor size  3022 \t Time: 0:00:01\u001b[39m\u001b[K"
     ]
    },
    {
     "name": "stderr",
     "output_type": "stream",
     "text": [
      "\r\u001b[32mProgress: Tumor size  3240 \t Time: 0:00:01\u001b[39m\u001b[K"
     ]
    },
    {
     "name": "stderr",
     "output_type": "stream",
     "text": [
      "\r\u001b[32mProgress: Tumor size  3423 \t Time: 0:00:01\u001b[39m\u001b[K"
     ]
    },
    {
     "name": "stderr",
     "output_type": "stream",
     "text": [
      "\r\u001b[32mProgress: Tumor size  3599 \t Time: 0:00:01\u001b[39m\u001b[K"
     ]
    },
    {
     "name": "stderr",
     "output_type": "stream",
     "text": [
      "\r\u001b[32mProgress: Tumor size  3770 \t Time: 0:00:01\u001b[39m\u001b[K"
     ]
    },
    {
     "name": "stderr",
     "output_type": "stream",
     "text": [
      "\r\u001b[32mProgress: Tumor size  3876 \t Time: 0:00:01\u001b[39m\u001b[K"
     ]
    },
    {
     "name": "stderr",
     "output_type": "stream",
     "text": [
      "\r\u001b[32mProgress: Tumor size  4030 \t Time: 0:00:01\u001b[39m\u001b[K"
     ]
    },
    {
     "name": "stderr",
     "output_type": "stream",
     "text": [
      "\r\u001b[32mProgress: Tumor size  4187 \t Time: 0:00:01\u001b[39m\u001b[K"
     ]
    },
    {
     "name": "stderr",
     "output_type": "stream",
     "text": [
      "\r\u001b[32mProgress: Tumor size  4338 \t Time: 0:00:01\u001b[39m\u001b[K"
     ]
    },
    {
     "name": "stderr",
     "output_type": "stream",
     "text": [
      "\r\u001b[32mProgress: Tumor size  4475 \t Time: 0:00:01\u001b[39m\u001b[K"
     ]
    },
    {
     "name": "stderr",
     "output_type": "stream",
     "text": [
      "\r\u001b[32mProgress: Tumor size  4616 \t Time: 0:00:02\u001b[39m\u001b[K"
     ]
    },
    {
     "name": "stderr",
     "output_type": "stream",
     "text": [
      "\r\u001b[32mProgress: Tumor size  4761 \t Time: 0:00:02\u001b[39m\u001b[K"
     ]
    },
    {
     "name": "stderr",
     "output_type": "stream",
     "text": [
      "\r\u001b[32mProgress: Tumor size  4878 \t Time: 0:00:02\u001b[39m\u001b[K"
     ]
    },
    {
     "name": "stderr",
     "output_type": "stream",
     "text": [
      "\r\u001b[32mProgress: Tumor size  4994 \t Time: 0:00:02\u001b[39m\u001b[K"
     ]
    },
    {
     "name": "stderr",
     "output_type": "stream",
     "text": [
      "\r\u001b[32mProgress:   4%|██                                       |  ETA: 0:00:03\u001b[39m\u001b[K"
     ]
    },
    {
     "name": "stderr",
     "output_type": "stream",
     "text": [
      "\r\u001b[32mProgress:  62%|██████████████████████████               |  ETA: 0:00:00\u001b[39m\u001b[K"
     ]
    },
    {
     "name": "stderr",
     "output_type": "stream",
     "text": [
      "\r\u001b[32mProgress:  64%|███████████████████████████              |  ETA: 0:00:00\u001b[39m\u001b[K"
     ]
    },
    {
     "name": "stderr",
     "output_type": "stream",
     "text": [
      "\r\u001b[32mProgress:  66%|████████████████████████████             |  ETA: 0:00:00\u001b[39m\u001b[K"
     ]
    },
    {
     "name": "stderr",
     "output_type": "stream",
     "text": [
      "\r\u001b[32mProgress:  68%|████████████████████████████             |  ETA: 0:00:00\u001b[39m\u001b[K"
     ]
    },
    {
     "name": "stderr",
     "output_type": "stream",
     "text": [
      "\r\u001b[32mProgress:  70%|█████████████████████████████            |  ETA: 0:00:00\u001b[39m\u001b[K"
     ]
    },
    {
     "name": "stderr",
     "output_type": "stream",
     "text": [
      "\r\u001b[32mProgress:  72%|██████████████████████████████           |  ETA: 0:00:00\u001b[39m\u001b[K"
     ]
    },
    {
     "name": "stderr",
     "output_type": "stream",
     "text": [
      "\r\u001b[32mProgress:  74%|███████████████████████████████          |  ETA: 0:00:00\u001b[39m\u001b[K"
     ]
    },
    {
     "name": "stderr",
     "output_type": "stream",
     "text": [
      "\r\u001b[32mProgress:  76%|████████████████████████████████         |  ETA: 0:00:00\u001b[39m\u001b[K"
     ]
    },
    {
     "name": "stderr",
     "output_type": "stream",
     "text": [
      "\r\u001b[32mProgress:  78%|████████████████████████████████         |  ETA: 0:00:00\u001b[39m\u001b[K"
     ]
    },
    {
     "name": "stderr",
     "output_type": "stream",
     "text": [
      "\r\u001b[32mProgress:  80%|█████████████████████████████████        |  ETA: 0:00:00\u001b[39m\u001b[K"
     ]
    },
    {
     "name": "stderr",
     "output_type": "stream",
     "text": [
      "\r\u001b[32mProgress:  82%|██████████████████████████████████       |  ETA: 0:00:00\u001b[39m\u001b[K"
     ]
    },
    {
     "name": "stderr",
     "output_type": "stream",
     "text": [
      "\r\u001b[32mProgress:  84%|███████████████████████████████████      |  ETA: 0:00:00\u001b[39m\u001b[K"
     ]
    },
    {
     "name": "stderr",
     "output_type": "stream",
     "text": [
      "\r\u001b[32mProgress:  86%|████████████████████████████████████     |  ETA: 0:00:00\u001b[39m\u001b[K"
     ]
    },
    {
     "name": "stderr",
     "output_type": "stream",
     "text": [
      "\r\u001b[32mProgress:  88%|█████████████████████████████████████    |  ETA: 0:00:00\u001b[39m\u001b[K"
     ]
    },
    {
     "name": "stderr",
     "output_type": "stream",
     "text": [
      "\r\u001b[32mProgress:  90%|█████████████████████████████████████    |  ETA: 0:00:00\u001b[39m\u001b[K"
     ]
    },
    {
     "name": "stderr",
     "output_type": "stream",
     "text": [
      "\r\u001b[32mProgress:  92%|██████████████████████████████████████   |  ETA: 0:00:00\u001b[39m\u001b[K"
     ]
    },
    {
     "name": "stderr",
     "output_type": "stream",
     "text": [
      "\r\u001b[32mProgress:  94%|███████████████████████████████████████  |  ETA: 0:00:00\u001b[39m\u001b[K"
     ]
    },
    {
     "name": "stderr",
     "output_type": "stream",
     "text": [
      "\r\u001b[32mProgress:  96%|████████████████████████████████████████ |  ETA: 0:00:00\u001b[39m\u001b[K"
     ]
    },
    {
     "name": "stderr",
     "output_type": "stream",
     "text": [
      "\r\u001b[32mProgress:  98%|█████████████████████████████████████████|  ETA: 0:00:00\u001b[39m\u001b[K"
     ]
    },
    {
     "name": "stderr",
     "output_type": "stream",
     "text": [
      "\r\u001b[32mProgress: 100%|█████████████████████████████████████████| Time: 0:00:06\u001b[39m\u001b[K\n"
     ]
    },
    {
     "data": {
      "text/plain": [
       "true"
      ]
     },
     "metadata": {},
     "output_type": "display_data"
    }
   ],
   "source": [
    "N, simparams... = (N=5000, b=1., d=0.0, μ=0.3, ρ=6., dim=3, seed=1234)\n",
    "tumor = birth_death_pushing(N; simparams...)[:tumor] |> DataFrame\n",
    "\n",
    "time_series = tumor_stepper(range(0.0, last(tumor.t_birth), length=50); simparams...)\n",
    "\n",
    "last(time_series) == tumor"
   ]
  },
  {
   "cell_type": "code",
   "execution_count": 39,
   "metadata": {},
   "outputs": [
    {
     "name": "stderr",
     "output_type": "stream",
     "text": [
      "\r\u001b[32mProgress:   4%|██                                       |  ETA: 0:00:09\u001b[39m\u001b[K"
     ]
    },
    {
     "name": "stderr",
     "output_type": "stream",
     "text": [
      "\r\u001b[32mProgress:  90%|█████████████████████████████████████    |  ETA: 0:00:00\u001b[39m\u001b[K"
     ]
    },
    {
     "name": "stderr",
     "output_type": "stream",
     "text": [
      "\r\u001b[32mProgress: 100%|█████████████████████████████████████████| Time: 0:00:01\u001b[39m\u001b[K\n"
     ]
    },
    {
     "data": {
      "text/plain": [
       "\"examples/temp.gif\""
      ]
     },
     "metadata": {},
     "output_type": "display_data"
    }
   ],
   "source": [
    "record_growth(time_series; path=\"examples/temp.gif\",\n",
    "        frames=1, shading=true, show_axis=false,\n",
    "        colorpalette = palette(:tab20)\n",
    "        )"
   ]
  }
 ],
 "metadata": {
  "kernelspec": {
   "display_name": "Julia 1.6.0",
   "language": "julia",
   "name": "julia-1.6"
  },
  "language_info": {
   "file_extension": ".jl",
   "mimetype": "application/julia",
   "name": "julia",
   "version": "1.6.0"
  },
  "orig_nbformat": 4
 },
 "nbformat": 4,
 "nbformat_minor": 2
}
