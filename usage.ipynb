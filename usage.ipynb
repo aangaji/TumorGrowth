{
 "cells": [
  {
   "attachments": {},
   "cell_type": "markdown",
   "metadata": {},
   "source": [
    "# TumorGrowth - methods"
   ]
  },
  {
   "attachments": {},
   "cell_type": "markdown",
   "metadata": {},
   "source": [
    "> This file demonstrates most functionality of the package.\n",
    "Load Revise if you want to make changes to the source files.\n"
   ]
  },
  {
   "cell_type": "code",
   "execution_count": 1,
   "metadata": {},
   "outputs": [
    {
     "name": "stderr",
     "output_type": "stream",
     "text": [
      "\u001b[32m\u001b[1m  Activating\u001b[22m\u001b[39m environment at `c:\\Users\\ArmanAngaji\\OneDrive - Universität zu Köln\\Dokumente\\Uni-Köln\\Masterarbeit\\Workspace\\Julia_Master\\MasterProject_Julia\\TumorGrowth\\Project.toml`\n"
     ]
    },
    {
     "name": "stdout",
     "output_type": "stream",
     "text": [
      "Loading Packages... "
     ]
    },
    {
     "name": "stdout",
     "output_type": "stream",
     "text": [
      "Done!\n"
     ]
    },
    {
     "name": "stdout",
     "output_type": "stream",
     "text": [
      " 37.959845 seconds (30.66 M allocations: 2.020 GiB, 3.19% gc time, 1.03% compilation time)\n"
     ]
    }
   ],
   "source": [
    "using Pkg\n",
    "Pkg.activate(pwd())\n",
    "# Pkg.instantiate()\n",
    "using Revise\n",
    "\n",
    "@time using TumorGrowth"
   ]
  },
  {
   "attachments": {},
   "cell_type": "markdown",
   "metadata": {},
   "source": [
    "## Sandbox"
   ]
  },
  {
   "cell_type": "code",
   "execution_count": null,
   "metadata": {},
   "outputs": [],
   "source": []
  },
  {
   "cell_type": "markdown",
   "metadata": {},
   "source": [
    "## Simulation"
   ]
  },
  {
   "cell_type": "code",
   "execution_count": 3,
   "metadata": {},
   "outputs": [
    {
     "name": "stdout",
     "output_type": "stream",
     "text": [
      "  8.164267 seconds (12.49 M allocations: 4.004 GiB, 7.93% gc time, 13.89% compilation time)"
     ]
    },
    {
     "name": "stdout",
     "output_type": "stream",
     "text": [
      "\n"
     ]
    }
   ],
   "source": [
    "@time simoutput = birth_death_pushing(3000; b=1.0, d=0.0, μ=0.1, ρ=Inf, dim=2, seed=1010, showprogress=false)\n",
    "tumor = simoutput[:tumor]\n",
    "mutations = simoutput[:mutations]\n",
    "\n",
    "tumordf = tumor |> DataFrame\n",
    "mutationsdf = mutations |> DataFrame\n",
    ";"
   ]
  },
  {
   "cell_type": "code",
   "execution_count": 6,
   "metadata": {},
   "outputs": [
    {
     "name": "stderr",
     "output_type": "stream",
     "text": [
      "\r\u001b[32mProgress: Tumor size  192309 \t Time: 0:00:00\u001b[39m\u001b[K"
     ]
    },
    {
     "name": "stderr",
     "output_type": "stream",
     "text": [
      "\r\u001b[32mProgress: Tumor size  330660 \t Time: 0:00:00\u001b[39m\u001b[K"
     ]
    },
    {
     "name": "stderr",
     "output_type": "stream",
     "text": [
      "\r\u001b[32mProgress: Tumor size  454188 \t Time: 0:00:00\u001b[39m\u001b[K"
     ]
    },
    {
     "name": "stderr",
     "output_type": "stream",
     "text": [
      "\r\u001b[32mProgress: Tumor size  589468 \t Time: 0:00:00\u001b[39m\u001b[K"
     ]
    },
    {
     "name": "stderr",
     "output_type": "stream",
     "text": [
      "\r\u001b[32mProgress: Tumor size  726396 \t Time: 0:00:00\u001b[39m\u001b[K"
     ]
    },
    {
     "name": "stderr",
     "output_type": "stream",
     "text": [
      "\r\u001b[32mProgress: Tumor size  861232 \t Time: 0:00:00\u001b[39m\u001b[K"
     ]
    },
    {
     "name": "stderr",
     "output_type": "stream",
     "text": [
      "\r\u001b[32mProgress: Tumor size  980556 \t Time: 0:00:00\u001b[39m\u001b[K"
     ]
    },
    {
     "name": "stdout",
     "output_type": "stream",
     "text": [
      "  0.949688 seconds (4.25 M allocations: 381.893 MiB, 17.85% gc time)\n"
     ]
    },
    {
     "data": {
      "text/plain": [
       "Dict{Symbol, Any} with 5 entries:\n",
       "  :index     => 1000000\n",
       "  :mutations => TumorGrowth.Mutation[Mutation(2, 0, 0.401391, 2, Float64[]), Mu…\n",
       "  :mutation  => 299940\n",
       "  :tumor     => TumorGrowth.Cell[Cell(1, Float64[], [10724], 0, 1.0, 0.0, Float…\n",
       "  :time      => 14.2413"
      ]
     },
     "metadata": {},
     "output_type": "display_data"
    }
   ],
   "source": [
    "@time simoutput = nonspatial(1000000; b=1., d=0.0, μ=0.3, showprogress=true)"
   ]
  },
  {
   "cell_type": "code",
   "execution_count": 8,
   "metadata": {},
   "outputs": [
    {
     "data": {
      "text/plain": [
       "Dict{Symbol, Any} with 3 entries:\n",
       "  :index    => 1000001\n",
       "  :mutation => 299940\n",
       "  :time     => 14.2414"
      ]
     },
     "metadata": {},
     "output_type": "display_data"
    }
   ],
   "source": [
    "bumor = deepcopy(tumor)\n",
    "butations = deepcopy(mutations)\n",
    "birth_death_pushing!(bumor, butations, length(tumor)+1; \n",
    "    b=0.69, d=0.0, μ=0.3, dim=2,\n",
    "    t=simoutput[:time], cur_id=simoutput[:index], cur_mutation=simoutput[:mutation])"
   ]
  },
  {
   "cell_type": "markdown",
   "metadata": {},
   "source": [
    "## Tumor saving"
   ]
  },
  {
   "cell_type": "code",
   "execution_count": 10,
   "metadata": {},
   "outputs": [],
   "source": [
    "import CSV"
   ]
  },
  {
   "cell_type": "code",
   "execution_count": 11,
   "metadata": {},
   "outputs": [
    {
     "name": "stderr",
     "output_type": "stream",
     "text": [
      "\r\u001b[32mProgress: Tumor size  879 \t Time: 0:00:00\u001b[39m\u001b[K"
     ]
    },
    {
     "name": "stderr",
     "output_type": "stream",
     "text": [
      "\r\u001b[32mProgress: Tumor size  1265 \t Time: 0:00:00\u001b[39m\u001b[K"
     ]
    },
    {
     "name": "stderr",
     "output_type": "stream",
     "text": [
      "\r\u001b[32mProgress: Tumor size  1402 \t Time: 0:00:00\u001b[39m\u001b[K"
     ]
    },
    {
     "name": "stderr",
     "output_type": "stream",
     "text": [
      "\r\u001b[32mProgress: Tumor size  1700 \t Time: 0:00:00\u001b[39m\u001b[K"
     ]
    },
    {
     "name": "stderr",
     "output_type": "stream",
     "text": [
      "\r\u001b[32mProgress: Tumor size  1983 \t Time: 0:00:00\u001b[39m\u001b[K"
     ]
    },
    {
     "name": "stderr",
     "output_type": "stream",
     "text": [
      "\r\u001b[32mProgress: Tumor size  2234 \t Time: 0:00:00\u001b[39m\u001b[K"
     ]
    },
    {
     "name": "stderr",
     "output_type": "stream",
     "text": [
      "\r\u001b[32mProgress: Tumor size  2401 \t Time: 0:00:00\u001b[39m\u001b[K"
     ]
    },
    {
     "name": "stderr",
     "output_type": "stream",
     "text": [
      "\r\u001b[32mProgress: Tumor size  2639 \t Time: 0:00:00\u001b[39m\u001b[K"
     ]
    },
    {
     "name": "stderr",
     "output_type": "stream",
     "text": [
      "\r\u001b[32mProgress: Tumor size  2863 \t Time: 0:00:00\u001b[39m\u001b[K"
     ]
    },
    {
     "name": "stderr",
     "output_type": "stream",
     "text": [
      "\r\u001b[32mProgress: Tumor size  3065 \t Time: 0:00:01\u001b[39m\u001b[K"
     ]
    },
    {
     "name": "stderr",
     "output_type": "stream",
     "text": [
      "\r\u001b[32mProgress: Tumor size  3225 \t Time: 0:00:01\u001b[39m\u001b[K"
     ]
    },
    {
     "name": "stderr",
     "output_type": "stream",
     "text": [
      "\r\u001b[32mProgress: Tumor size  3339 \t Time: 0:00:01\u001b[39m\u001b[K"
     ]
    },
    {
     "name": "stderr",
     "output_type": "stream",
     "text": [
      "\r\u001b[32mProgress: Tumor size  3507 \t Time: 0:00:01\u001b[39m\u001b[K"
     ]
    },
    {
     "name": "stderr",
     "output_type": "stream",
     "text": [
      "\r\u001b[32mProgress: Tumor size  3683 \t Time: 0:00:01\u001b[39m\u001b[K"
     ]
    },
    {
     "name": "stderr",
     "output_type": "stream",
     "text": [
      "\r\u001b[32mProgress: Tumor size  3853 \t Time: 0:00:01\u001b[39m\u001b[K"
     ]
    },
    {
     "name": "stderr",
     "output_type": "stream",
     "text": [
      "\r\u001b[32mProgress: Tumor size  3992 \t Time: 0:00:01\u001b[39m\u001b[K"
     ]
    },
    {
     "name": "stderr",
     "output_type": "stream",
     "text": [
      "\r\u001b[32mProgress: Tumor size  4119 \t Time: 0:00:01\u001b[39m\u001b[K"
     ]
    },
    {
     "name": "stderr",
     "output_type": "stream",
     "text": [
      "\r\u001b[32mProgress: Tumor size  4197 \t Time: 0:00:01\u001b[39m\u001b[K"
     ]
    },
    {
     "name": "stderr",
     "output_type": "stream",
     "text": [
      "\r\u001b[32mProgress: Tumor size  4325 \t Time: 0:00:01\u001b[39m\u001b[K"
     ]
    },
    {
     "name": "stderr",
     "output_type": "stream",
     "text": [
      "\r\u001b[32mProgress: Tumor size  4455 \t Time: 0:00:02\u001b[39m\u001b[K"
     ]
    },
    {
     "name": "stderr",
     "output_type": "stream",
     "text": [
      "\r\u001b[32mProgress: Tumor size  4567 \t Time: 0:00:02\u001b[39m\u001b[K"
     ]
    },
    {
     "name": "stderr",
     "output_type": "stream",
     "text": [
      "\r\u001b[32mProgress: Tumor size  4719 \t Time: 0:00:02\u001b[39m\u001b[K"
     ]
    },
    {
     "name": "stderr",
     "output_type": "stream",
     "text": [
      "\r\u001b[32mProgress: Tumor size  4833 \t Time: 0:00:02\u001b[39m\u001b[K"
     ]
    },
    {
     "name": "stderr",
     "output_type": "stream",
     "text": [
      "\r\u001b[32mProgress: Tumor size  4933 \t Time: 0:00:02\u001b[39m\u001b[K"
     ]
    },
    {
     "data": {
      "text/html": [
       "<table class=\"data-frame\"><thead><tr><th></th><th>index</th><th>position</th><th>mutations</th><th>parent</th><th>b</th><th>t_birth</th><th>p_birth</th></tr><tr><th></th><th>Int64</th><th>Array…</th><th>Array…</th><th>Int64</th><th>Float64</th><th>Float64</th><th>Array…</th></tr></thead><tbody><p>5,000 rows × 7 columns</p><tr><th>1</th><td>1</td><td>[-0.582393, 2.49669, 8.72689]</td><td>[13]</td><td>0</td><td>0.0</td><td>0.0</td><td>[0.0, 0.0, 0.0]</td></tr><tr><th>2</th><td>2</td><td>[0.520122, 2.21109, -1.56466]</td><td>[1]</td><td>1</td><td>0.0</td><td>0.690861</td><td>[2.0754, -0.0430698, -0.317616]</td></tr><tr><th>3</th><td>3</td><td>[5.06704, 1.39896, 3.26483]</td><td>[12]</td><td>2</td><td>0.0</td><td>1.38097</td><td>[3.76022, 0.648446, 0.727929]</td></tr><tr><th>4</th><td>4</td><td>[2.52166, -7.11819, -3.39967]</td><td>[2, 83]</td><td>2</td><td>0.0</td><td>2.17964</td><td>[0.884112, -1.44716, -1.32726]</td></tr><tr><th>5</th><td>5</td><td>[-3.9795, 0.889242, 3.50575]</td><td>[9]</td><td>1</td><td>0.0</td><td>2.46947</td><td>[-1.72863, 0.776218, 0.905174]</td></tr><tr><th>6</th><td>6</td><td>[4.07433, -1.14983, -5.57087]</td><td>[]</td><td>3</td><td>0.0</td><td>2.93689</td><td>[3.42061, 0.788683, -1.33968]</td></tr><tr><th>7</th><td>7</td><td>[1.59582, 3.4675, -4.50046]</td><td>[]</td><td>6</td><td>0.0</td><td>3.47949</td><td>[3.56256, 0.508106, -3.416]</td></tr><tr><th>8</th><td>8</td><td>[3.01806, 1.36804, 2.76495]</td><td>[1, 5, 19]</td><td>2</td><td>0.0</td><td>3.50446</td><td>[2.49302, 0.564891, 1.70799]</td></tr><tr><th>9</th><td>9</td><td>[8.35515, -5.52964, -3.21055]</td><td>[17]</td><td>6</td><td>0.0</td><td>3.80476</td><td>[4.4815, -0.309531, -2.93806]</td></tr><tr><th>10</th><td>10</td><td>[-3.64937, -5.15885, -6.31738]</td><td>[2]</td><td>4</td><td>0.0</td><td>3.85472</td><td>[-0.618966, -0.627926, -2.69884]</td></tr><tr><th>11</th><td>11</td><td>[2.47384, 2.51448, -2.28514]</td><td>[1]</td><td>2</td><td>0.0</td><td>3.95783</td><td>[3.24921, 1.13591, -0.988089]</td></tr><tr><th>12</th><td>12</td><td>[4.40729, 5.89745, -6.62855]</td><td>[]</td><td>7</td><td>0.0</td><td>4.2598</td><td>[2.83274, 2.95803, -3.66166]</td></tr><tr><th>13</th><td>13</td><td>[2.00973, 4.61669, -7.38048]</td><td>[2, 3]</td><td>10</td><td>0.0</td><td>4.31398</td><td>[1.13021, 0.406902, -3.22753]</td></tr><tr><th>14</th><td>14</td><td>[-1.19027, 3.08873, 0.0403634]</td><td>[2]</td><td>4</td><td>0.0</td><td>4.35457</td><td>[-0.274557, -0.112197, -0.39531]</td></tr><tr><th>15</th><td>15</td><td>[0.643248, 6.35846, -0.19631]</td><td>[1, 32]</td><td>11</td><td>0.0</td><td>4.35534</td><td>[2.15137, 2.80254, -1.6416]</td></tr><tr><th>16</th><td>16</td><td>[0.345954, 3.65315, 1.41075]</td><td>[2]</td><td>14</td><td>0.0</td><td>4.37378</td><td>[1.01526, 0.904577, 0.913336]</td></tr><tr><th>17</th><td>17</td><td>[1.4449, 0.0465489, 2.0862]</td><td>[2]</td><td>10</td><td>0.0</td><td>4.41993</td><td>[-0.227985, -0.54644, -0.637171]</td></tr><tr><th>18</th><td>18</td><td>[2.48274, 3.18717, 1.64951]</td><td>[]</td><td>3</td><td>0.0</td><td>4.60375</td><td>[2.79181, -0.0349172, 1.34417]</td></tr><tr><th>19</th><td>19</td><td>[0.548461, -0.722606, 3.77923]</td><td>[]</td><td>1</td><td>0.0</td><td>4.76641</td><td>[-0.419322, -0.96513, 3.78254]</td></tr><tr><th>20</th><td>20</td><td>[2.95954, 5.13944, -0.81396]</td><td>[1]</td><td>11</td><td>0.0</td><td>4.79542</td><td>[3.42665, 3.13277, -1.61345]</td></tr><tr><th>21</th><td>21</td><td>[3.6608, 4.13452, -5.8566]</td><td>[]</td><td>7</td><td>0.0</td><td>4.87826</td><td>[4.70177, 2.31515, -4.17111]</td></tr><tr><th>22</th><td>22</td><td>[-9.31818, 2.74852, 2.55533]</td><td>[]</td><td>1</td><td>0.0</td><td>4.91461</td><td>[-2.64045, 0.752879, 3.56457]</td></tr><tr><th>23</th><td>23</td><td>[4.25869, 0.768707, -4.33196]</td><td>[]</td><td>6</td><td>0.0</td><td>4.96849</td><td>[4.0677, 1.98941, -3.58793]</td></tr><tr><th>24</th><td>24</td><td>[3.77797, 2.30994, 4.6772]</td><td>[1]</td><td>8</td><td>0.0</td><td>4.99898</td><td>[2.97161, 1.65853, 4.64959]</td></tr><tr><th>&vellip;</th><td>&vellip;</td><td>&vellip;</td><td>&vellip;</td><td>&vellip;</td><td>&vellip;</td><td>&vellip;</td><td>&vellip;</td></tr></tbody></table>"
      ],
      "text/latex": [
       "\\begin{tabular}{r|ccccccc}\n",
       "\t& index & position & mutations & parent & b & t\\_birth & p\\_birth\\\\\n",
       "\t\\hline\n",
       "\t& Int64 & Array… & Array… & Int64 & Float64 & Float64 & Array…\\\\\n",
       "\t\\hline\n",
       "\t1 & 1 & [-0.582393, 2.49669, 8.72689] & [13] & 0 & 0.0 & 0.0 & [0.0, 0.0, 0.0] \\\\\n",
       "\t2 & 2 & [0.520122, 2.21109, -1.56466] & [1] & 1 & 0.0 & 0.690861 & [2.0754, -0.0430698, -0.317616] \\\\\n",
       "\t3 & 3 & [5.06704, 1.39896, 3.26483] & [12] & 2 & 0.0 & 1.38097 & [3.76022, 0.648446, 0.727929] \\\\\n",
       "\t4 & 4 & [2.52166, -7.11819, -3.39967] & [2, 83] & 2 & 0.0 & 2.17964 & [0.884112, -1.44716, -1.32726] \\\\\n",
       "\t5 & 5 & [-3.9795, 0.889242, 3.50575] & [9] & 1 & 0.0 & 2.46947 & [-1.72863, 0.776218, 0.905174] \\\\\n",
       "\t6 & 6 & [4.07433, -1.14983, -5.57087] & [] & 3 & 0.0 & 2.93689 & [3.42061, 0.788683, -1.33968] \\\\\n",
       "\t7 & 7 & [1.59582, 3.4675, -4.50046] & [] & 6 & 0.0 & 3.47949 & [3.56256, 0.508106, -3.416] \\\\\n",
       "\t8 & 8 & [3.01806, 1.36804, 2.76495] & [1, 5, 19] & 2 & 0.0 & 3.50446 & [2.49302, 0.564891, 1.70799] \\\\\n",
       "\t9 & 9 & [8.35515, -5.52964, -3.21055] & [17] & 6 & 0.0 & 3.80476 & [4.4815, -0.309531, -2.93806] \\\\\n",
       "\t10 & 10 & [-3.64937, -5.15885, -6.31738] & [2] & 4 & 0.0 & 3.85472 & [-0.618966, -0.627926, -2.69884] \\\\\n",
       "\t11 & 11 & [2.47384, 2.51448, -2.28514] & [1] & 2 & 0.0 & 3.95783 & [3.24921, 1.13591, -0.988089] \\\\\n",
       "\t12 & 12 & [4.40729, 5.89745, -6.62855] & [] & 7 & 0.0 & 4.2598 & [2.83274, 2.95803, -3.66166] \\\\\n",
       "\t13 & 13 & [2.00973, 4.61669, -7.38048] & [2, 3] & 10 & 0.0 & 4.31398 & [1.13021, 0.406902, -3.22753] \\\\\n",
       "\t14 & 14 & [-1.19027, 3.08873, 0.0403634] & [2] & 4 & 0.0 & 4.35457 & [-0.274557, -0.112197, -0.39531] \\\\\n",
       "\t15 & 15 & [0.643248, 6.35846, -0.19631] & [1, 32] & 11 & 0.0 & 4.35534 & [2.15137, 2.80254, -1.6416] \\\\\n",
       "\t16 & 16 & [0.345954, 3.65315, 1.41075] & [2] & 14 & 0.0 & 4.37378 & [1.01526, 0.904577, 0.913336] \\\\\n",
       "\t17 & 17 & [1.4449, 0.0465489, 2.0862] & [2] & 10 & 0.0 & 4.41993 & [-0.227985, -0.54644, -0.637171] \\\\\n",
       "\t18 & 18 & [2.48274, 3.18717, 1.64951] & [] & 3 & 0.0 & 4.60375 & [2.79181, -0.0349172, 1.34417] \\\\\n",
       "\t19 & 19 & [0.548461, -0.722606, 3.77923] & [] & 1 & 0.0 & 4.76641 & [-0.419322, -0.96513, 3.78254] \\\\\n",
       "\t20 & 20 & [2.95954, 5.13944, -0.81396] & [1] & 11 & 0.0 & 4.79542 & [3.42665, 3.13277, -1.61345] \\\\\n",
       "\t21 & 21 & [3.6608, 4.13452, -5.8566] & [] & 7 & 0.0 & 4.87826 & [4.70177, 2.31515, -4.17111] \\\\\n",
       "\t22 & 22 & [-9.31818, 2.74852, 2.55533] & [] & 1 & 0.0 & 4.91461 & [-2.64045, 0.752879, 3.56457] \\\\\n",
       "\t23 & 23 & [4.25869, 0.768707, -4.33196] & [] & 6 & 0.0 & 4.96849 & [4.0677, 1.98941, -3.58793] \\\\\n",
       "\t24 & 24 & [3.77797, 2.30994, 4.6772] & [1] & 8 & 0.0 & 4.99898 & [2.97161, 1.65853, 4.64959] \\\\\n",
       "\t$\\dots$ & $\\dots$ & $\\dots$ & $\\dots$ & $\\dots$ & $\\dots$ & $\\dots$ & $\\dots$ \\\\\n",
       "\\end{tabular}\n"
      ],
      "text/plain": [
       "\u001b[1m5000×7 DataFrame\u001b[0m\n",
       "\u001b[1m  Row \u001b[0m│\u001b[1m index \u001b[0m\u001b[1m position                        \u001b[0m\u001b[1m mutations                     \u001b[0m ⋯\n",
       "\u001b[1m      \u001b[0m│\u001b[90m Int64 \u001b[0m\u001b[90m Array…                          \u001b[0m\u001b[90m Array…                        \u001b[0m ⋯\n",
       "──────┼─────────────────────────────────────────────────────────────────────────\n",
       "    1 │     1  [-0.582393, 2.49669, 8.72689]    [13]                           ⋯\n",
       "    2 │     2  [0.520122, 2.21109, -1.56466]    [1]\n",
       "    3 │     3  [5.06704, 1.39896, 3.26483]      [12]\n",
       "    4 │     4  [2.52166, -7.11819, -3.39967]    [2, 83]\n",
       "    5 │     5  [-3.9795, 0.889242, 3.50575]     [9]                            ⋯\n",
       "    6 │     6  [4.07433, -1.14983, -5.57087]    Int64[]\n",
       "    7 │     7  [1.59582, 3.4675, -4.50046]      Int64[]\n",
       "    8 │     8  [3.01806, 1.36804, 2.76495]      [1, 5, 19]\n",
       "  ⋮   │   ⋮                   ⋮                                 ⋮              ⋱\n",
       " 4994 │  4994  [2.30618, 25.7914, -9.48318]     [1, 11, 43, 167, 1265, 1365]   ⋯\n",
       " 4995 │  4995  [21.7473, 0.745319, -10.229]     [1, 37]\n",
       " 4996 │  4996  [-8.54967, 17.0776, 10.0043]     [312, 673]\n",
       " 4997 │  4997  [-14.7613, -1.73332, -19.2075]   [224, 604, 806, 1493]\n",
       " 4998 │  4998  [-28.6889, 8.59285, 9.83896]     [636, 1373, 1495]              ⋯\n",
       " 4999 │  4999  [3.37924, 15.125, 14.7327]       [1, 18, 20, 21, 69, 125, 341,\n",
       " 5000 │  5000  [-7.31775, -3.80547, 24.3849]    [305]\n",
       "\u001b[36m                                                 5 columns and 4985 rows omitted\u001b[0m"
      ]
     },
     "metadata": {},
     "output_type": "display_data"
    }
   ],
   "source": [
    "tumor = birth_death_pushing(5000; b=1., d=0.0, μ=0.3, ρ=6., dim=3, seed=1234)[:tumor]\n",
    "CSV.write(\"examples/test_5000_3d.csv\", DataFrame(tumor), delim='\\t')\n",
    "b = data_import(\"examples/test_5000_3d.csv\")"
   ]
  },
  {
   "cell_type": "markdown",
   "metadata": {},
   "source": [
    "## Time series"
   ]
  },
  {
   "cell_type": "code",
   "execution_count": null,
   "metadata": {},
   "outputs": [
    {
     "name": "stderr",
     "output_type": "stream",
     "text": [
      "\r\u001b[32mProgress: Tumor size  450 \t Time: 0:00:00\u001b[39m\u001b[K"
     ]
    },
    {
     "name": "stderr",
     "output_type": "stream",
     "text": [
      "\r\u001b[32mProgress: Tumor size  1084 \t Time: 0:00:00\u001b[39m\u001b[K"
     ]
    },
    {
     "name": "stderr",
     "output_type": "stream",
     "text": [
      "\r\u001b[32mProgress: Tumor size  1518 \t Time: 0:00:00\u001b[39m\u001b[K"
     ]
    },
    {
     "name": "stderr",
     "output_type": "stream",
     "text": [
      "\r\u001b[32mProgress: Tumor size  1857 \t Time: 0:00:00\u001b[39m\u001b[K"
     ]
    },
    {
     "name": "stderr",
     "output_type": "stream",
     "text": [
      "\r\u001b[32mProgress: Tumor size  2090 \t Time: 0:00:00\u001b[39m\u001b[K"
     ]
    },
    {
     "name": "stderr",
     "output_type": "stream",
     "text": [
      "\r\u001b[32mProgress: Tumor size  2321 \t Time: 0:00:00\u001b[39m\u001b[K"
     ]
    },
    {
     "name": "stderr",
     "output_type": "stream",
     "text": [
      "\r\u001b[32mProgress: Tumor size  2401 \t Time: 0:00:00\u001b[39m\u001b[K"
     ]
    },
    {
     "name": "stderr",
     "output_type": "stream",
     "text": [
      "\r\u001b[32mProgress: Tumor size  2591 \t Time: 0:00:00\u001b[39m\u001b[K"
     ]
    },
    {
     "name": "stderr",
     "output_type": "stream",
     "text": [
      "\r\u001b[32mProgress: Tumor size  2816 \t Time: 0:00:00\u001b[39m\u001b[K"
     ]
    },
    {
     "name": "stderr",
     "output_type": "stream",
     "text": [
      "\r\u001b[32mProgress: Tumor size  3022 \t Time: 0:00:01\u001b[39m\u001b[K"
     ]
    },
    {
     "name": "stderr",
     "output_type": "stream",
     "text": [
      "\r\u001b[32mProgress: Tumor size  3240 \t Time: 0:00:01\u001b[39m\u001b[K"
     ]
    },
    {
     "name": "stderr",
     "output_type": "stream",
     "text": [
      "\r\u001b[32mProgress: Tumor size  3423 \t Time: 0:00:01\u001b[39m\u001b[K"
     ]
    },
    {
     "name": "stderr",
     "output_type": "stream",
     "text": [
      "\r\u001b[32mProgress: Tumor size  3599 \t Time: 0:00:01\u001b[39m\u001b[K"
     ]
    },
    {
     "name": "stderr",
     "output_type": "stream",
     "text": [
      "\r\u001b[32mProgress: Tumor size  3770 \t Time: 0:00:01\u001b[39m\u001b[K"
     ]
    },
    {
     "name": "stderr",
     "output_type": "stream",
     "text": [
      "\r\u001b[32mProgress: Tumor size  3876 \t Time: 0:00:01\u001b[39m\u001b[K"
     ]
    },
    {
     "name": "stderr",
     "output_type": "stream",
     "text": [
      "\r\u001b[32mProgress: Tumor size  4030 \t Time: 0:00:01\u001b[39m\u001b[K"
     ]
    },
    {
     "name": "stderr",
     "output_type": "stream",
     "text": [
      "\r\u001b[32mProgress: Tumor size  4187 \t Time: 0:00:01\u001b[39m\u001b[K"
     ]
    },
    {
     "name": "stderr",
     "output_type": "stream",
     "text": [
      "\r\u001b[32mProgress: Tumor size  4338 \t Time: 0:00:01\u001b[39m\u001b[K"
     ]
    },
    {
     "name": "stderr",
     "output_type": "stream",
     "text": [
      "\r\u001b[32mProgress: Tumor size  4475 \t Time: 0:00:01\u001b[39m\u001b[K"
     ]
    },
    {
     "name": "stderr",
     "output_type": "stream",
     "text": [
      "\r\u001b[32mProgress: Tumor size  4616 \t Time: 0:00:02\u001b[39m\u001b[K"
     ]
    },
    {
     "name": "stderr",
     "output_type": "stream",
     "text": [
      "\r\u001b[32mProgress: Tumor size  4761 \t Time: 0:00:02\u001b[39m\u001b[K"
     ]
    },
    {
     "name": "stderr",
     "output_type": "stream",
     "text": [
      "\r\u001b[32mProgress: Tumor size  4878 \t Time: 0:00:02\u001b[39m\u001b[K"
     ]
    },
    {
     "name": "stderr",
     "output_type": "stream",
     "text": [
      "\r\u001b[32mProgress: Tumor size  4994 \t Time: 0:00:02\u001b[39m\u001b[K"
     ]
    },
    {
     "name": "stderr",
     "output_type": "stream",
     "text": [
      "\r\u001b[32mProgress:   4%|██                                       |  ETA: 0:00:03\u001b[39m\u001b[K"
     ]
    },
    {
     "name": "stderr",
     "output_type": "stream",
     "text": [
      "\r\u001b[32mProgress:  62%|██████████████████████████               |  ETA: 0:00:00\u001b[39m\u001b[K"
     ]
    },
    {
     "name": "stderr",
     "output_type": "stream",
     "text": [
      "\r\u001b[32mProgress:  64%|███████████████████████████              |  ETA: 0:00:00\u001b[39m\u001b[K"
     ]
    },
    {
     "name": "stderr",
     "output_type": "stream",
     "text": [
      "\r\u001b[32mProgress:  66%|████████████████████████████             |  ETA: 0:00:00\u001b[39m\u001b[K"
     ]
    },
    {
     "name": "stderr",
     "output_type": "stream",
     "text": [
      "\r\u001b[32mProgress:  68%|████████████████████████████             |  ETA: 0:00:00\u001b[39m\u001b[K"
     ]
    },
    {
     "name": "stderr",
     "output_type": "stream",
     "text": [
      "\r\u001b[32mProgress:  70%|█████████████████████████████            |  ETA: 0:00:00\u001b[39m\u001b[K"
     ]
    },
    {
     "name": "stderr",
     "output_type": "stream",
     "text": [
      "\r\u001b[32mProgress:  72%|██████████████████████████████           |  ETA: 0:00:00\u001b[39m\u001b[K"
     ]
    },
    {
     "name": "stderr",
     "output_type": "stream",
     "text": [
      "\r\u001b[32mProgress:  74%|███████████████████████████████          |  ETA: 0:00:00\u001b[39m\u001b[K"
     ]
    },
    {
     "name": "stderr",
     "output_type": "stream",
     "text": [
      "\r\u001b[32mProgress:  76%|████████████████████████████████         |  ETA: 0:00:00\u001b[39m\u001b[K"
     ]
    },
    {
     "name": "stderr",
     "output_type": "stream",
     "text": [
      "\r\u001b[32mProgress:  78%|████████████████████████████████         |  ETA: 0:00:00\u001b[39m\u001b[K"
     ]
    },
    {
     "name": "stderr",
     "output_type": "stream",
     "text": [
      "\r\u001b[32mProgress:  80%|█████████████████████████████████        |  ETA: 0:00:00\u001b[39m\u001b[K"
     ]
    },
    {
     "name": "stderr",
     "output_type": "stream",
     "text": [
      "\r\u001b[32mProgress:  82%|██████████████████████████████████       |  ETA: 0:00:00\u001b[39m\u001b[K"
     ]
    },
    {
     "name": "stderr",
     "output_type": "stream",
     "text": [
      "\r\u001b[32mProgress:  84%|███████████████████████████████████      |  ETA: 0:00:00\u001b[39m\u001b[K"
     ]
    },
    {
     "name": "stderr",
     "output_type": "stream",
     "text": [
      "\r\u001b[32mProgress:  86%|████████████████████████████████████     |  ETA: 0:00:00\u001b[39m\u001b[K"
     ]
    },
    {
     "name": "stderr",
     "output_type": "stream",
     "text": [
      "\r\u001b[32mProgress:  88%|█████████████████████████████████████    |  ETA: 0:00:00\u001b[39m\u001b[K"
     ]
    },
    {
     "name": "stderr",
     "output_type": "stream",
     "text": [
      "\r\u001b[32mProgress:  90%|█████████████████████████████████████    |  ETA: 0:00:00\u001b[39m\u001b[K"
     ]
    },
    {
     "name": "stderr",
     "output_type": "stream",
     "text": [
      "\r\u001b[32mProgress:  92%|██████████████████████████████████████   |  ETA: 0:00:00\u001b[39m\u001b[K"
     ]
    },
    {
     "name": "stderr",
     "output_type": "stream",
     "text": [
      "\r\u001b[32mProgress:  94%|███████████████████████████████████████  |  ETA: 0:00:00\u001b[39m\u001b[K"
     ]
    },
    {
     "name": "stderr",
     "output_type": "stream",
     "text": [
      "\r\u001b[32mProgress:  96%|████████████████████████████████████████ |  ETA: 0:00:00\u001b[39m\u001b[K"
     ]
    },
    {
     "name": "stderr",
     "output_type": "stream",
     "text": [
      "\r\u001b[32mProgress:  98%|█████████████████████████████████████████|  ETA: 0:00:00\u001b[39m\u001b[K"
     ]
    },
    {
     "name": "stderr",
     "output_type": "stream",
     "text": [
      "\r\u001b[32mProgress: 100%|█████████████████████████████████████████| Time: 0:00:06\u001b[39m\u001b[K\n"
     ]
    },
    {
     "data": {
      "text/plain": [
       "true"
      ]
     },
     "metadata": {},
     "output_type": "display_data"
    }
   ],
   "source": [
    "N, simparams... = (N=5000, b=1., d=0.0, μ=0.3, ρ=6., dim=3, seed=1234)\n",
    "tumor = birth_death_pushing(N; showprogress=false, simparams...)[:tumor] |> DataFrame\n",
    "\n",
    "time_series = tumor_stepper(range(0.0, last(tumor.t_birth), length=50); simparams...)\n",
    "\n",
    "last(time_series) == tumor"
   ]
  },
  {
   "cell_type": "code",
   "execution_count": null,
   "metadata": {},
   "outputs": [
    {
     "name": "stderr",
     "output_type": "stream",
     "text": [
      "\r\u001b[32mProgress:   4%|██                                       |  ETA: 0:00:09\u001b[39m\u001b[K"
     ]
    },
    {
     "name": "stderr",
     "output_type": "stream",
     "text": [
      "\r\u001b[32mProgress:  90%|█████████████████████████████████████    |  ETA: 0:00:00\u001b[39m\u001b[K"
     ]
    },
    {
     "name": "stderr",
     "output_type": "stream",
     "text": [
      "\r\u001b[32mProgress: 100%|█████████████████████████████████████████| Time: 0:00:01\u001b[39m\u001b[K\n"
     ]
    },
    {
     "data": {
      "text/plain": [
       "\"examples/temp.gif\""
      ]
     },
     "metadata": {},
     "output_type": "display_data"
    }
   ],
   "source": [
    "using Plots: palette\n",
    "record_growth(time_series; path=\"examples/temp.gif\",\n",
    "        frames=1, shading=true, show_axis=false,\n",
    "        colorpalette = palette(:tab20)\n",
    "        )"
   ]
  },
  {
   "cell_type": "markdown",
   "metadata": {},
   "source": [
    "## Plotting"
   ]
  },
  {
   "cell_type": "code",
   "execution_count": 12,
   "metadata": {},
   "outputs": [
    {
     "name": "stdout",
     "output_type": "stream",
     "text": [
      "  8.791915 seconds (26.00 M allocations: 1.370 GiB, 4.51% gc time, 98.39% compilation time)\n"
     ]
    }
   ],
   "source": [
    "using Plots: palette\n",
    "\n",
    "b = data_import(\"examples/test_2000_2d.csv\")\n",
    "@time plotting(b)"
   ]
  },
  {
   "cell_type": "code",
   "execution_count": 13,
   "metadata": {},
   "outputs": [
    {
     "name": "stdout",
     "output_type": "stream",
     "text": [
      "  2.898281 seconds (8.88 M allocations: 560.543 MiB, 2.77% gc time, 95.80% compilation time)\n"
     ]
    },
    {
     "name": "stderr",
     "output_type": "stream",
     "text": [
      "┌ Warning: This method assumes mutations to be ordered by occurence!\n",
      "└ @ TumorGrowth c:\\Users\\ArmanAngaji\\OneDrive - Universität zu Köln\\Dokumente\\Uni-Köln\\Masterarbeit\\Workspace\\Julia_Master\\MasterProject_Julia\\TumorGrowth\\src\\analysis.jl:115\n"
     ]
    }
   ],
   "source": [
    "@time plotting_colored_mutations(b, colorpalette = palette(:tab20), shading=false, inline=false, show_warning = true, path=\"examples/test_2000_2d.png\")"
   ]
  },
  {
   "cell_type": "code",
   "execution_count": 14,
   "metadata": {},
   "outputs": [
    {
     "name": "stdout",
     "output_type": "stream",
     "text": [
      "  1.409850 seconds (8.83 M allocations: 275.927 MiB, 90.93% compilation time)\n"
     ]
    }
   ],
   "source": [
    "b = data_import(\"examples/test_5000_3d.csv\")\n",
    "@time plotting(b)"
   ]
  },
  {
   "cell_type": "code",
   "execution_count": 15,
   "metadata": {},
   "outputs": [
    {
     "name": "stdout",
     "output_type": "stream",
     "text": [
      "  0.354947 seconds (3.29 M allocations: 73.284 MiB, 24.45% compilation time)\n"
     ]
    },
    {
     "name": "stderr",
     "output_type": "stream",
     "text": [
      "┌ Warning: This method assumes mutations to be ordered by occurence!\n",
      "└ @ TumorGrowth c:\\Users\\ArmanAngaji\\OneDrive - Universität zu Köln\\Dokumente\\Uni-Köln\\Masterarbeit\\Workspace\\Julia_Master\\MasterProject_Julia\\TumorGrowth\\src\\analysis.jl:115\n"
     ]
    }
   ],
   "source": [
    "@time plotting_colored_mutations(b, shading=true, path=\"examples/test_5000_3d.png\", size=(500,500))"
   ]
  },
  {
   "attachments": {},
   "cell_type": "markdown",
   "metadata": {},
   "source": [
    "### *translating and layouts*"
   ]
  },
  {
   "cell_type": "code",
   "execution_count": 16,
   "metadata": {},
   "outputs": [],
   "source": [
    "using GLMakie"
   ]
  },
  {
   "cell_type": "code",
   "execution_count": 17,
   "metadata": {},
   "outputs": [
    {
     "name": "stderr",
     "output_type": "stream",
     "text": [
      "\r\u001b[32mProgress: Tumor size  557 \t Time: 0:00:00\u001b[39m\u001b[K"
     ]
    },
    {
     "name": "stderr",
     "output_type": "stream",
     "text": [
      "\r\u001b[32mProgress: Tumor size  1061 \t Time: 0:00:00\u001b[39m\u001b[K"
     ]
    },
    {
     "name": "stderr",
     "output_type": "stream",
     "text": [
      "\r\u001b[32mProgress: Tumor size  1366 \t Time: 0:00:00\u001b[39m\u001b[K"
     ]
    },
    {
     "name": "stderr",
     "output_type": "stream",
     "text": [
      "\r\u001b[32mProgress: Tumor size  1618 \t Time: 0:00:00\u001b[39m\u001b[K"
     ]
    },
    {
     "name": "stderr",
     "output_type": "stream",
     "text": [
      "\r\u001b[32mProgress: Tumor size  1790 \t Time: 0:00:00\u001b[39m\u001b[K"
     ]
    },
    {
     "name": "stderr",
     "output_type": "stream",
     "text": [
      "\r\u001b[32mProgress: Tumor size  1918 \t Time: 0:00:00\u001b[39m\u001b[K"
     ]
    },
    {
     "name": "stderr",
     "output_type": "stream",
     "text": [
      "\r\u001b[32mProgress: Tumor size  2159 \t Time: 0:00:00\u001b[39m\u001b[K"
     ]
    },
    {
     "name": "stderr",
     "output_type": "stream",
     "text": [
      "\r\u001b[32mProgress: Tumor size  2343 \t Time: 0:00:01\u001b[39m\u001b[K"
     ]
    },
    {
     "name": "stderr",
     "output_type": "stream",
     "text": [
      "\r\u001b[32mProgress: Tumor size  2518 \t Time: 0:00:01\u001b[39m\u001b[K"
     ]
    },
    {
     "name": "stderr",
     "output_type": "stream",
     "text": [
      "\r\u001b[32mProgress: Tumor size  2627 \t Time: 0:00:01\u001b[39m\u001b[K"
     ]
    },
    {
     "name": "stderr",
     "output_type": "stream",
     "text": [
      "\r\u001b[32mProgress: Tumor size  2754 \t Time: 0:00:01\u001b[39m\u001b[K"
     ]
    },
    {
     "name": "stderr",
     "output_type": "stream",
     "text": [
      "\r\u001b[32mProgress: Tumor size  2875 \t Time: 0:00:01\u001b[39m\u001b[K"
     ]
    },
    {
     "name": "stderr",
     "output_type": "stream",
     "text": [
      "\r\u001b[32mProgress: Tumor size  2965 \t Time: 0:00:01\u001b[39m\u001b[K"
     ]
    },
    {
     "name": "stderr",
     "output_type": "stream",
     "text": [
      "\r\u001b[32mProgress: Tumor size  3112 \t Time: 0:00:01\u001b[39m\u001b[K"
     ]
    },
    {
     "name": "stderr",
     "output_type": "stream",
     "text": [
      "\r\u001b[32mProgress: Tumor size  3268 \t Time: 0:00:01\u001b[39m\u001b[K"
     ]
    },
    {
     "name": "stderr",
     "output_type": "stream",
     "text": [
      "\r\u001b[32mProgress: Tumor size  3392 \t Time: 0:00:01\u001b[39m\u001b[K"
     ]
    },
    {
     "name": "stderr",
     "output_type": "stream",
     "text": [
      "\r\u001b[32mProgress: Tumor size  3523 \t Time: 0:00:01\u001b[39m\u001b[K"
     ]
    },
    {
     "name": "stderr",
     "output_type": "stream",
     "text": [
      "\r\u001b[32mProgress: Tumor size  3641 \t Time: 0:00:02\u001b[39m\u001b[K"
     ]
    },
    {
     "name": "stderr",
     "output_type": "stream",
     "text": [
      "\r\u001b[32mProgress: Tumor size  3755 \t Time: 0:00:02\u001b[39m\u001b[K"
     ]
    },
    {
     "name": "stderr",
     "output_type": "stream",
     "text": [
      "\r\u001b[32mProgress: Tumor size  3846 \t Time: 0:00:02\u001b[39m\u001b[K"
     ]
    },
    {
     "name": "stderr",
     "output_type": "stream",
     "text": [
      "\r\u001b[32mProgress: Tumor size  3926 \t Time: 0:00:02\u001b[39m\u001b[K"
     ]
    },
    {
     "name": "stderr",
     "output_type": "stream",
     "text": [
      "\r\u001b[32mProgress: Tumor size  4039 \t Time: 0:00:02\u001b[39m\u001b[K"
     ]
    },
    {
     "name": "stderr",
     "output_type": "stream",
     "text": [
      "\r\u001b[32mProgress: Tumor size  4144 \t Time: 0:00:02\u001b[39m\u001b[K"
     ]
    },
    {
     "name": "stderr",
     "output_type": "stream",
     "text": [
      "\r\u001b[32mProgress: Tumor size  4237 \t Time: 0:00:02\u001b[39m\u001b[K"
     ]
    },
    {
     "name": "stderr",
     "output_type": "stream",
     "text": [
      "\r\u001b[32mProgress: Tumor size  4348 \t Time: 0:00:02\u001b[39m\u001b[K"
     ]
    },
    {
     "name": "stderr",
     "output_type": "stream",
     "text": [
      "\r\u001b[32mProgress: Tumor size  4443 \t Time: 0:00:02\u001b[39m\u001b[K"
     ]
    },
    {
     "name": "stderr",
     "output_type": "stream",
     "text": [
      "\r\u001b[32mProgress: Tumor size  4531 \t Time: 0:00:03\u001b[39m\u001b[K"
     ]
    },
    {
     "name": "stderr",
     "output_type": "stream",
     "text": [
      "\r\u001b[32mProgress: Tumor size  4624 \t Time: 0:00:03\u001b[39m\u001b[K"
     ]
    },
    {
     "name": "stderr",
     "output_type": "stream",
     "text": [
      "\r\u001b[32mProgress: Tumor size  4702 \t Time: 0:00:03\u001b[39m\u001b[K"
     ]
    },
    {
     "name": "stderr",
     "output_type": "stream",
     "text": [
      "\r\u001b[32mProgress: Tumor size  4781 \t Time: 0:00:03\u001b[39m\u001b[K"
     ]
    },
    {
     "name": "stderr",
     "output_type": "stream",
     "text": [
      "\r\u001b[32mProgress: Tumor size  4836 \t Time: 0:00:03\u001b[39m\u001b[K"
     ]
    },
    {
     "name": "stderr",
     "output_type": "stream",
     "text": [
      "\r\u001b[32mProgress: Tumor size  4920 \t Time: 0:00:03\u001b[39m\u001b[K"
     ]
    },
    {
     "name": "stderr",
     "output_type": "stream",
     "text": [
      "\r\u001b[32mProgress: Tumor size  5010 \t Time: 0:00:03\u001b[39m\u001b[K"
     ]
    },
    {
     "name": "stderr",
     "output_type": "stream",
     "text": [
      "\r\u001b[32mProgress: Tumor size  5097 \t Time: 0:00:03\u001b[39m\u001b[K"
     ]
    },
    {
     "name": "stderr",
     "output_type": "stream",
     "text": [
      "\r\u001b[32mProgress: Tumor size  5180 \t Time: 0:00:03\u001b[39m\u001b[K"
     ]
    },
    {
     "name": "stderr",
     "output_type": "stream",
     "text": [
      "\r\u001b[32mProgress: Tumor size  5235 \t Time: 0:00:03\u001b[39m\u001b[K"
     ]
    },
    {
     "name": "stderr",
     "output_type": "stream",
     "text": [
      "\r\u001b[32mProgress: Tumor size  5322 \t Time: 0:00:04\u001b[39m\u001b[K"
     ]
    },
    {
     "name": "stderr",
     "output_type": "stream",
     "text": [
      "\r\u001b[32mProgress: Tumor size  5398 \t Time: 0:00:04\u001b[39m\u001b[K"
     ]
    },
    {
     "name": "stderr",
     "output_type": "stream",
     "text": [
      "\r\u001b[32mProgress: Tumor size  5472 \t Time: 0:00:04\u001b[39m\u001b[K"
     ]
    },
    {
     "name": "stderr",
     "output_type": "stream",
     "text": [
      "\r\u001b[32mProgress: Tumor size  5554 \t Time: 0:00:04\u001b[39m\u001b[K"
     ]
    },
    {
     "name": "stderr",
     "output_type": "stream",
     "text": [
      "\r\u001b[32mProgress: Tumor size  5613 \t Time: 0:00:04\u001b[39m\u001b[K"
     ]
    },
    {
     "name": "stderr",
     "output_type": "stream",
     "text": [
      "\r\u001b[32mProgress: Tumor size  5734 \t Time: 0:00:04\u001b[39m\u001b[K"
     ]
    },
    {
     "name": "stderr",
     "output_type": "stream",
     "text": [
      "\r\u001b[32mProgress: Tumor size  5806 \t Time: 0:00:04\u001b[39m\u001b[K"
     ]
    },
    {
     "name": "stderr",
     "output_type": "stream",
     "text": [
      "\r\u001b[32mProgress: Tumor size  5865 \t Time: 0:00:04\u001b[39m\u001b[K"
     ]
    },
    {
     "name": "stderr",
     "output_type": "stream",
     "text": [
      "\r\u001b[32mProgress: Tumor size  5944 \t Time: 0:00:04\u001b[39m\u001b[K"
     ]
    },
    {
     "name": "stderr",
     "output_type": "stream",
     "text": [
      "\r\u001b[32mProgress: Tumor size  6001 \t Time: 0:00:05\u001b[39m\u001b[K"
     ]
    },
    {
     "name": "stderr",
     "output_type": "stream",
     "text": [
      "\r\u001b[32mProgress: Tumor size  6080 \t Time: 0:00:05\u001b[39m\u001b[K"
     ]
    },
    {
     "name": "stderr",
     "output_type": "stream",
     "text": [
      "\r\u001b[32mProgress: Tumor size  6146 \t Time: 0:00:05\u001b[39m\u001b[K"
     ]
    },
    {
     "name": "stderr",
     "output_type": "stream",
     "text": [
      "\r\u001b[32mProgress: Tumor size  6221 \t Time: 0:00:05\u001b[39m\u001b[K"
     ]
    },
    {
     "name": "stderr",
     "output_type": "stream",
     "text": [
      "\r\u001b[32mProgress: Tumor size  6297 \t Time: 0:00:05\u001b[39m\u001b[K"
     ]
    },
    {
     "name": "stderr",
     "output_type": "stream",
     "text": [
      "\r\u001b[32mProgress: Tumor size  6359 \t Time: 0:00:05\u001b[39m\u001b[K"
     ]
    },
    {
     "name": "stderr",
     "output_type": "stream",
     "text": [
      "\r\u001b[32mProgress: Tumor size  6416 \t Time: 0:00:05\u001b[39m\u001b[K"
     ]
    },
    {
     "name": "stderr",
     "output_type": "stream",
     "text": [
      "\r\u001b[32mProgress: Tumor size  6469 \t Time: 0:00:05\u001b[39m\u001b[K"
     ]
    },
    {
     "name": "stderr",
     "output_type": "stream",
     "text": [
      "\r\u001b[32mProgress: Tumor size  6536 \t Time: 0:00:05\u001b[39m\u001b[K"
     ]
    },
    {
     "name": "stderr",
     "output_type": "stream",
     "text": [
      "\r\u001b[32mProgress: Tumor size  6577 \t Time: 0:00:06\u001b[39m\u001b[K"
     ]
    },
    {
     "name": "stderr",
     "output_type": "stream",
     "text": [
      "\r\u001b[32mProgress: Tumor size  6642 \t Time: 0:00:06\u001b[39m\u001b[K"
     ]
    },
    {
     "name": "stderr",
     "output_type": "stream",
     "text": [
      "\r\u001b[32mProgress: Tumor size  6720 \t Time: 0:00:06\u001b[39m\u001b[K"
     ]
    },
    {
     "name": "stderr",
     "output_type": "stream",
     "text": [
      "\r\u001b[32mProgress: Tumor size  6796 \t Time: 0:00:06\u001b[39m\u001b[K"
     ]
    },
    {
     "name": "stderr",
     "output_type": "stream",
     "text": [
      "\r\u001b[32mProgress: Tumor size  6860 \t Time: 0:00:06\u001b[39m\u001b[K"
     ]
    },
    {
     "name": "stderr",
     "output_type": "stream",
     "text": [
      "\r\u001b[32mProgress: Tumor size  6909 \t Time: 0:00:06\u001b[39m\u001b[K"
     ]
    },
    {
     "name": "stderr",
     "output_type": "stream",
     "text": [
      "\r\u001b[32mProgress: Tumor size  6983 \t Time: 0:00:06\u001b[39m\u001b[K"
     ]
    },
    {
     "name": "stderr",
     "output_type": "stream",
     "text": [
      "\r\u001b[32mProgress: Tumor size  7049 \t Time: 0:00:06\u001b[39m\u001b[K"
     ]
    },
    {
     "name": "stderr",
     "output_type": "stream",
     "text": [
      "\r\u001b[32mProgress: Tumor size  7120 \t Time: 0:00:06\u001b[39m\u001b[K"
     ]
    },
    {
     "name": "stderr",
     "output_type": "stream",
     "text": [
      "\r\u001b[32mProgress: Tumor size  7177 \t Time: 0:00:06\u001b[39m\u001b[K"
     ]
    },
    {
     "name": "stderr",
     "output_type": "stream",
     "text": [
      "\r\u001b[32mProgress: Tumor size  7203 \t Time: 0:00:07\u001b[39m\u001b[K"
     ]
    },
    {
     "name": "stderr",
     "output_type": "stream",
     "text": [
      "\r\u001b[32mProgress: Tumor size  7263 \t Time: 0:00:07\u001b[39m\u001b[K"
     ]
    },
    {
     "name": "stderr",
     "output_type": "stream",
     "text": [
      "\r\u001b[32mProgress: Tumor size  7318 \t Time: 0:00:07\u001b[39m\u001b[K"
     ]
    },
    {
     "name": "stderr",
     "output_type": "stream",
     "text": [
      "\r\u001b[32mProgress: Tumor size  7372 \t Time: 0:00:07\u001b[39m\u001b[K"
     ]
    },
    {
     "name": "stderr",
     "output_type": "stream",
     "text": [
      "\r\u001b[32mProgress: Tumor size  7452 \t Time: 0:00:07\u001b[39m\u001b[K"
     ]
    },
    {
     "name": "stderr",
     "output_type": "stream",
     "text": [
      "\r\u001b[32mProgress: Tumor size  7523 \t Time: 0:00:07\u001b[39m\u001b[K"
     ]
    },
    {
     "name": "stderr",
     "output_type": "stream",
     "text": [
      "\r\u001b[32mProgress: Tumor size  7580 \t Time: 0:00:07\u001b[39m\u001b[K"
     ]
    },
    {
     "name": "stderr",
     "output_type": "stream",
     "text": [
      "\r\u001b[32mProgress: Tumor size  7607 \t Time: 0:00:07\u001b[39m\u001b[K"
     ]
    },
    {
     "name": "stderr",
     "output_type": "stream",
     "text": [
      "\r\u001b[32mProgress: Tumor size  7652 \t Time: 0:00:07\u001b[39m\u001b[K"
     ]
    },
    {
     "name": "stderr",
     "output_type": "stream",
     "text": [
      "\r\u001b[32mProgress: Tumor size  7692 \t Time: 0:00:07\u001b[39m\u001b[K"
     ]
    },
    {
     "name": "stderr",
     "output_type": "stream",
     "text": [
      "\r\u001b[32mProgress: Tumor size  7746 \t Time: 0:00:08\u001b[39m\u001b[K"
     ]
    },
    {
     "name": "stderr",
     "output_type": "stream",
     "text": [
      "\r\u001b[32mProgress: Tumor size  7793 \t Time: 0:00:08\u001b[39m\u001b[K"
     ]
    },
    {
     "name": "stderr",
     "output_type": "stream",
     "text": [
      "\r\u001b[32mProgress: Tumor size  7837 \t Time: 0:00:08\u001b[39m\u001b[K"
     ]
    },
    {
     "name": "stderr",
     "output_type": "stream",
     "text": [
      "\r\u001b[32mProgress: Tumor size  7902 \t Time: 0:00:08\u001b[39m\u001b[K"
     ]
    },
    {
     "name": "stderr",
     "output_type": "stream",
     "text": [
      "\r\u001b[32mProgress: Tumor size  7936 \t Time: 0:00:08\u001b[39m\u001b[K"
     ]
    },
    {
     "name": "stderr",
     "output_type": "stream",
     "text": [
      "\r\u001b[32mProgress: Tumor size  7984 \t Time: 0:00:08\u001b[39m\u001b[K"
     ]
    },
    {
     "name": "stderr",
     "output_type": "stream",
     "text": [
      "\r\u001b[32mProgress: Tumor size  8047 \t Time: 0:00:08\u001b[39m\u001b[K"
     ]
    },
    {
     "name": "stderr",
     "output_type": "stream",
     "text": [
      "\r\u001b[32mProgress: Tumor size  8111 \t Time: 0:00:08\u001b[39m\u001b[K"
     ]
    },
    {
     "name": "stderr",
     "output_type": "stream",
     "text": [
      "\r\u001b[32mProgress: Tumor size  8148 \t Time: 0:00:08\u001b[39m\u001b[K"
     ]
    },
    {
     "name": "stderr",
     "output_type": "stream",
     "text": [
      "\r\u001b[32mProgress: Tumor size  8181 \t Time: 0:00:09\u001b[39m\u001b[K"
     ]
    },
    {
     "name": "stderr",
     "output_type": "stream",
     "text": [
      "\r\u001b[32mProgress: Tumor size  8229 \t Time: 0:00:09\u001b[39m\u001b[K"
     ]
    },
    {
     "name": "stderr",
     "output_type": "stream",
     "text": [
      "\r\u001b[32mProgress: Tumor size  8284 \t Time: 0:00:09\u001b[39m\u001b[K"
     ]
    },
    {
     "name": "stderr",
     "output_type": "stream",
     "text": [
      "\r\u001b[32mProgress: Tumor size  8313 \t Time: 0:00:09\u001b[39m\u001b[K"
     ]
    },
    {
     "name": "stderr",
     "output_type": "stream",
     "text": [
      "\r\u001b[32mProgress: Tumor size  8382 \t Time: 0:00:09\u001b[39m\u001b[K"
     ]
    },
    {
     "name": "stderr",
     "output_type": "stream",
     "text": [
      "\r\u001b[32mProgress: Tumor size  8424 \t Time: 0:00:09\u001b[39m\u001b[K"
     ]
    },
    {
     "name": "stderr",
     "output_type": "stream",
     "text": [
      "\r\u001b[32mProgress: Tumor size  8465 \t Time: 0:00:09\u001b[39m\u001b[K"
     ]
    },
    {
     "name": "stderr",
     "output_type": "stream",
     "text": [
      "\r\u001b[32mProgress: Tumor size  8513 \t Time: 0:00:09\u001b[39m\u001b[K"
     ]
    },
    {
     "name": "stderr",
     "output_type": "stream",
     "text": [
      "\r\u001b[32mProgress: Tumor size  8560 \t Time: 0:00:09\u001b[39m\u001b[K"
     ]
    },
    {
     "name": "stderr",
     "output_type": "stream",
     "text": [
      "\r\u001b[32mProgress: Tumor size  8602 \t Time: 0:00:09\u001b[39m\u001b[K"
     ]
    },
    {
     "name": "stderr",
     "output_type": "stream",
     "text": [
      "\r\u001b[32mProgress: Tumor size  8629 \t Time: 0:00:10\u001b[39m\u001b[K"
     ]
    },
    {
     "name": "stderr",
     "output_type": "stream",
     "text": [
      "\r\u001b[32mProgress: Tumor size  8673 \t Time: 0:00:10\u001b[39m\u001b[K"
     ]
    },
    {
     "name": "stderr",
     "output_type": "stream",
     "text": [
      "\r\u001b[32mProgress: Tumor size  8735 \t Time: 0:00:10\u001b[39m\u001b[K"
     ]
    },
    {
     "name": "stderr",
     "output_type": "stream",
     "text": [
      "\r\u001b[32mProgress: Tumor size  8779 \t Time: 0:00:10\u001b[39m\u001b[K"
     ]
    },
    {
     "name": "stderr",
     "output_type": "stream",
     "text": [
      "\r\u001b[32mProgress: Tumor size  8828 \t Time: 0:00:10\u001b[39m\u001b[K"
     ]
    },
    {
     "name": "stderr",
     "output_type": "stream",
     "text": [
      "\r\u001b[32mProgress: Tumor size  8863 \t Time: 0:00:10\u001b[39m\u001b[K"
     ]
    },
    {
     "name": "stderr",
     "output_type": "stream",
     "text": [
      "\r\u001b[32mProgress: Tumor size  8894 \t Time: 0:00:10\u001b[39m\u001b[K"
     ]
    },
    {
     "name": "stderr",
     "output_type": "stream",
     "text": [
      "\r\u001b[32mProgress: Tumor size  8940 \t Time: 0:00:10\u001b[39m\u001b[K"
     ]
    },
    {
     "name": "stderr",
     "output_type": "stream",
     "text": [
      "\r\u001b[32mProgress: Tumor size  8967 \t Time: 0:00:10\u001b[39m\u001b[K"
     ]
    },
    {
     "name": "stderr",
     "output_type": "stream",
     "text": [
      "\r\u001b[32mProgress: Tumor size  9016 \t Time: 0:00:10\u001b[39m\u001b[K"
     ]
    },
    {
     "name": "stderr",
     "output_type": "stream",
     "text": [
      "\r\u001b[32mProgress: Tumor size  9073 \t Time: 0:00:11\u001b[39m\u001b[K"
     ]
    },
    {
     "name": "stderr",
     "output_type": "stream",
     "text": [
      "\r\u001b[32mProgress: Tumor size  9102 \t Time: 0:00:11\u001b[39m\u001b[K"
     ]
    },
    {
     "name": "stderr",
     "output_type": "stream",
     "text": [
      "\r\u001b[32mProgress: Tumor size  9144 \t Time: 0:00:11\u001b[39m\u001b[K"
     ]
    },
    {
     "name": "stderr",
     "output_type": "stream",
     "text": [
      "\r\u001b[32mProgress: Tumor size  9184 \t Time: 0:00:11\u001b[39m\u001b[K"
     ]
    },
    {
     "name": "stderr",
     "output_type": "stream",
     "text": [
      "\r\u001b[32mProgress: Tumor size  9233 \t Time: 0:00:11\u001b[39m\u001b[K"
     ]
    },
    {
     "name": "stderr",
     "output_type": "stream",
     "text": [
      "\r\u001b[32mProgress: Tumor size  9266 \t Time: 0:00:11\u001b[39m\u001b[K"
     ]
    },
    {
     "name": "stderr",
     "output_type": "stream",
     "text": [
      "\r\u001b[32mProgress: Tumor size  9309 \t Time: 0:00:11\u001b[39m\u001b[K"
     ]
    },
    {
     "name": "stderr",
     "output_type": "stream",
     "text": [
      "\r\u001b[32mProgress: Tumor size  9366 \t Time: 0:00:11\u001b[39m\u001b[K"
     ]
    },
    {
     "name": "stderr",
     "output_type": "stream",
     "text": [
      "\r\u001b[32mProgress: Tumor size  9414 \t Time: 0:00:11\u001b[39m\u001b[K"
     ]
    },
    {
     "name": "stderr",
     "output_type": "stream",
     "text": [
      "\r\u001b[32mProgress: Tumor size  9464 \t Time: 0:00:12\u001b[39m\u001b[K"
     ]
    },
    {
     "name": "stderr",
     "output_type": "stream",
     "text": [
      "\r\u001b[32mProgress: Tumor size  9502 \t Time: 0:00:12\u001b[39m\u001b[K"
     ]
    },
    {
     "name": "stderr",
     "output_type": "stream",
     "text": [
      "\r\u001b[32mProgress: Tumor size  9542 \t Time: 0:00:12\u001b[39m\u001b[K"
     ]
    },
    {
     "name": "stderr",
     "output_type": "stream",
     "text": [
      "\r\u001b[32mProgress: Tumor size  9580 \t Time: 0:00:12\u001b[39m\u001b[K"
     ]
    },
    {
     "name": "stderr",
     "output_type": "stream",
     "text": [
      "\r\u001b[32mProgress: Tumor size  9608 \t Time: 0:00:12\u001b[39m\u001b[K"
     ]
    },
    {
     "name": "stderr",
     "output_type": "stream",
     "text": [
      "\r\u001b[32mProgress: Tumor size  9656 \t Time: 0:00:12\u001b[39m\u001b[K"
     ]
    },
    {
     "name": "stderr",
     "output_type": "stream",
     "text": [
      "\r\u001b[32mProgress: Tumor size  9692 \t Time: 0:00:12\u001b[39m\u001b[K"
     ]
    },
    {
     "name": "stderr",
     "output_type": "stream",
     "text": [
      "\r\u001b[32mProgress: Tumor size  9728 \t Time: 0:00:12\u001b[39m\u001b[K"
     ]
    },
    {
     "name": "stderr",
     "output_type": "stream",
     "text": [
      "\r\u001b[32mProgress: Tumor size  9780 \t Time: 0:00:12\u001b[39m\u001b[K"
     ]
    },
    {
     "name": "stderr",
     "output_type": "stream",
     "text": [
      "\r\u001b[32mProgress: Tumor size  9815 \t Time: 0:00:13\u001b[39m\u001b[K"
     ]
    },
    {
     "name": "stderr",
     "output_type": "stream",
     "text": [
      "\r\u001b[32mProgress: Tumor size  9842 \t Time: 0:00:13\u001b[39m\u001b[K"
     ]
    },
    {
     "name": "stderr",
     "output_type": "stream",
     "text": [
      "\r\u001b[32mProgress: Tumor size  9882 \t Time: 0:00:13\u001b[39m\u001b[K"
     ]
    },
    {
     "name": "stderr",
     "output_type": "stream",
     "text": [
      "\r\u001b[32mProgress: Tumor size  9906 \t Time: 0:00:13\u001b[39m\u001b[K"
     ]
    },
    {
     "name": "stderr",
     "output_type": "stream",
     "text": [
      "\r\u001b[32mProgress: Tumor size  9954 \t Time: 0:00:13\u001b[39m\u001b[K"
     ]
    },
    {
     "name": "stderr",
     "output_type": "stream",
     "text": [
      "\r\u001b[32mProgress: Tumor size  1001 \t Time: 0:00:00\u001b[39m\u001b[K"
     ]
    },
    {
     "name": "stderr",
     "output_type": "stream",
     "text": [
      "\r\u001b[32mProgress: Tumor size  1726 \t Time: 0:00:00\u001b[39m\u001b[K"
     ]
    },
    {
     "name": "stderr",
     "output_type": "stream",
     "text": [
      "\r\u001b[32mProgress: Tumor size  1933 \t Time: 0:00:00\u001b[39m\u001b[K"
     ]
    },
    {
     "name": "stderr",
     "output_type": "stream",
     "text": [
      "\r\u001b[32mProgress: Tumor size  2084 \t Time: 0:00:00\u001b[39m\u001b[K"
     ]
    },
    {
     "name": "stderr",
     "output_type": "stream",
     "text": [
      "\r\u001b[32mProgress: Tumor size  2234 \t Time: 0:00:00\u001b[39m\u001b[K"
     ]
    },
    {
     "name": "stderr",
     "output_type": "stream",
     "text": [
      "\r\u001b[32mProgress: Tumor size  2356 \t Time: 0:00:00\u001b[39m\u001b[K"
     ]
    },
    {
     "name": "stderr",
     "output_type": "stream",
     "text": [
      "\r\u001b[32mProgress: Tumor size  2487 \t Time: 0:00:01\u001b[39m\u001b[K"
     ]
    },
    {
     "name": "stderr",
     "output_type": "stream",
     "text": [
      "\r\u001b[32mProgress: Tumor size  2603 \t Time: 0:00:01\u001b[39m\u001b[K"
     ]
    },
    {
     "name": "stderr",
     "output_type": "stream",
     "text": [
      "\r\u001b[32mProgress: Tumor size  2705 \t Time: 0:00:01\u001b[39m\u001b[K"
     ]
    },
    {
     "name": "stderr",
     "output_type": "stream",
     "text": [
      "\r\u001b[32mProgress: Tumor size  2803 \t Time: 0:00:01\u001b[39m\u001b[K"
     ]
    },
    {
     "name": "stderr",
     "output_type": "stream",
     "text": [
      "\r\u001b[32mProgress: Tumor size  2888 \t Time: 0:00:01\u001b[39m\u001b[K"
     ]
    },
    {
     "name": "stderr",
     "output_type": "stream",
     "text": [
      "\r\u001b[32mProgress: Tumor size  2947 \t Time: 0:00:01\u001b[39m\u001b[K"
     ]
    },
    {
     "name": "stderr",
     "output_type": "stream",
     "text": [
      "\r\u001b[32mProgress: Tumor size  3022 \t Time: 0:00:01\u001b[39m\u001b[K"
     ]
    },
    {
     "name": "stderr",
     "output_type": "stream",
     "text": [
      "\r\u001b[32mProgress: Tumor size  3097 \t Time: 0:00:01\u001b[39m\u001b[K"
     ]
    },
    {
     "name": "stderr",
     "output_type": "stream",
     "text": [
      "\r\u001b[32mProgress: Tumor size  3185 \t Time: 0:00:02\u001b[39m\u001b[K"
     ]
    },
    {
     "name": "stderr",
     "output_type": "stream",
     "text": [
      "\r\u001b[32mProgress: Tumor size  3270 \t Time: 0:00:02\u001b[39m\u001b[K"
     ]
    },
    {
     "name": "stderr",
     "output_type": "stream",
     "text": [
      "\r\u001b[32mProgress: Tumor size  3342 \t Time: 0:00:02\u001b[39m\u001b[K"
     ]
    },
    {
     "name": "stderr",
     "output_type": "stream",
     "text": [
      "\r\u001b[32mProgress: Tumor size  3412 \t Time: 0:00:02\u001b[39m\u001b[K"
     ]
    },
    {
     "name": "stderr",
     "output_type": "stream",
     "text": [
      "\r\u001b[32mProgress: Tumor size  3481 \t Time: 0:00:02\u001b[39m\u001b[K"
     ]
    },
    {
     "name": "stderr",
     "output_type": "stream",
     "text": [
      "\r\u001b[32mProgress: Tumor size  3549 \t Time: 0:00:02\u001b[39m\u001b[K"
     ]
    },
    {
     "name": "stderr",
     "output_type": "stream",
     "text": [
      "\r\u001b[32mProgress: Tumor size  3614 \t Time: 0:00:02\u001b[39m\u001b[K"
     ]
    },
    {
     "name": "stderr",
     "output_type": "stream",
     "text": [
      "\r\u001b[32mProgress: Tumor size  3675 \t Time: 0:00:02\u001b[39m\u001b[K"
     ]
    },
    {
     "name": "stderr",
     "output_type": "stream",
     "text": [
      "\r\u001b[32mProgress: Tumor size  3724 \t Time: 0:00:02\u001b[39m\u001b[K"
     ]
    },
    {
     "name": "stderr",
     "output_type": "stream",
     "text": [
      "\r\u001b[32mProgress: Tumor size  3780 \t Time: 0:00:03\u001b[39m\u001b[K"
     ]
    },
    {
     "name": "stderr",
     "output_type": "stream",
     "text": [
      "\r\u001b[32mProgress: Tumor size  3840 \t Time: 0:00:03\u001b[39m\u001b[K"
     ]
    },
    {
     "name": "stderr",
     "output_type": "stream",
     "text": [
      "\r\u001b[32mProgress: Tumor size  3897 \t Time: 0:00:03\u001b[39m\u001b[K"
     ]
    },
    {
     "name": "stderr",
     "output_type": "stream",
     "text": [
      "\r\u001b[32mProgress: Tumor size  3953 \t Time: 0:00:03\u001b[39m\u001b[K"
     ]
    },
    {
     "name": "stderr",
     "output_type": "stream",
     "text": [
      "\r\u001b[32mProgress: Tumor size  4018 \t Time: 0:00:03\u001b[39m\u001b[K"
     ]
    },
    {
     "name": "stderr",
     "output_type": "stream",
     "text": [
      "\r\u001b[32mProgress: Tumor size  4083 \t Time: 0:00:03\u001b[39m\u001b[K"
     ]
    },
    {
     "name": "stderr",
     "output_type": "stream",
     "text": [
      "\r\u001b[32mProgress: Tumor size  4139 \t Time: 0:00:03\u001b[39m\u001b[K"
     ]
    },
    {
     "name": "stderr",
     "output_type": "stream",
     "text": [
      "\r\u001b[32mProgress: Tumor size  4197 \t Time: 0:00:03\u001b[39m\u001b[K"
     ]
    },
    {
     "name": "stderr",
     "output_type": "stream",
     "text": [
      "\r\u001b[32mProgress: Tumor size  4247 \t Time: 0:00:03\u001b[39m\u001b[K"
     ]
    },
    {
     "name": "stderr",
     "output_type": "stream",
     "text": [
      "\r\u001b[32mProgress: Tumor size  4295 \t Time: 0:00:04\u001b[39m\u001b[K"
     ]
    },
    {
     "name": "stderr",
     "output_type": "stream",
     "text": [
      "\r\u001b[32mProgress: Tumor size  4342 \t Time: 0:00:04\u001b[39m\u001b[K"
     ]
    },
    {
     "name": "stderr",
     "output_type": "stream",
     "text": [
      "\r\u001b[32mProgress: Tumor size  4382 \t Time: 0:00:04\u001b[39m\u001b[K"
     ]
    },
    {
     "name": "stderr",
     "output_type": "stream",
     "text": [
      "\r\u001b[32mProgress: Tumor size  4429 \t Time: 0:00:04\u001b[39m\u001b[K"
     ]
    },
    {
     "name": "stderr",
     "output_type": "stream",
     "text": [
      "\r\u001b[32mProgress: Tumor size  4475 \t Time: 0:00:04\u001b[39m\u001b[K"
     ]
    },
    {
     "name": "stderr",
     "output_type": "stream",
     "text": [
      "\r\u001b[32mProgress: Tumor size  4522 \t Time: 0:00:04\u001b[39m\u001b[K"
     ]
    },
    {
     "name": "stderr",
     "output_type": "stream",
     "text": [
      "\r\u001b[32mProgress: Tumor size  4567 \t Time: 0:00:04\u001b[39m\u001b[K"
     ]
    },
    {
     "name": "stderr",
     "output_type": "stream",
     "text": [
      "\r\u001b[32mProgress: Tumor size  4610 \t Time: 0:00:04\u001b[39m\u001b[K"
     ]
    },
    {
     "name": "stderr",
     "output_type": "stream",
     "text": [
      "\r\u001b[32mProgress: Tumor size  4652 \t Time: 0:00:04\u001b[39m\u001b[K"
     ]
    },
    {
     "name": "stderr",
     "output_type": "stream",
     "text": [
      "\r\u001b[32mProgress: Tumor size  4689 \t Time: 0:00:05\u001b[39m\u001b[K"
     ]
    },
    {
     "name": "stderr",
     "output_type": "stream",
     "text": [
      "\r\u001b[32mProgress: Tumor size  4727 \t Time: 0:00:05\u001b[39m\u001b[K"
     ]
    },
    {
     "name": "stderr",
     "output_type": "stream",
     "text": [
      "\r\u001b[32mProgress: Tumor size  4768 \t Time: 0:00:05\u001b[39m\u001b[K"
     ]
    },
    {
     "name": "stderr",
     "output_type": "stream",
     "text": [
      "\r\u001b[32mProgress: Tumor size  4806 \t Time: 0:00:05\u001b[39m\u001b[K"
     ]
    },
    {
     "name": "stderr",
     "output_type": "stream",
     "text": [
      "\r\u001b[32mProgress: Tumor size  4840 \t Time: 0:00:05\u001b[39m\u001b[K"
     ]
    },
    {
     "name": "stderr",
     "output_type": "stream",
     "text": [
      "\r\u001b[32mProgress: Tumor size  4869 \t Time: 0:00:05\u001b[39m\u001b[K"
     ]
    },
    {
     "name": "stderr",
     "output_type": "stream",
     "text": [
      "\r\u001b[32mProgress: Tumor size  4896 \t Time: 0:00:05\u001b[39m\u001b[K"
     ]
    },
    {
     "name": "stderr",
     "output_type": "stream",
     "text": [
      "\r\u001b[32mProgress: Tumor size  4921 \t Time: 0:00:05\u001b[39m\u001b[K"
     ]
    },
    {
     "name": "stderr",
     "output_type": "stream",
     "text": [
      "\r\u001b[32mProgress: Tumor size  4953 \t Time: 0:00:05\u001b[39m\u001b[K"
     ]
    },
    {
     "name": "stderr",
     "output_type": "stream",
     "text": [
      "\r\u001b[32mProgress: Tumor size  4998 \t Time: 0:00:06\u001b[39m\u001b[K"
     ]
    },
    {
     "name": "stderr",
     "output_type": "stream",
     "text": [
      "\r\u001b[32mProgress: Tumor size  5043 \t Time: 0:00:06\u001b[39m\u001b[K"
     ]
    },
    {
     "name": "stderr",
     "output_type": "stream",
     "text": [
      "\r\u001b[32mProgress: Tumor size  5086 \t Time: 0:00:06\u001b[39m\u001b[K"
     ]
    },
    {
     "name": "stderr",
     "output_type": "stream",
     "text": [
      "\r\u001b[32mProgress: Tumor size  5122 \t Time: 0:00:06\u001b[39m\u001b[K"
     ]
    },
    {
     "name": "stderr",
     "output_type": "stream",
     "text": [
      "\r\u001b[32mProgress: Tumor size  5165 \t Time: 0:00:06\u001b[39m\u001b[K"
     ]
    },
    {
     "name": "stderr",
     "output_type": "stream",
     "text": [
      "\r\u001b[32mProgress: Tumor size  5208 \t Time: 0:00:06\u001b[39m\u001b[K"
     ]
    },
    {
     "name": "stderr",
     "output_type": "stream",
     "text": [
      "\r\u001b[32mProgress: Tumor size  5249 \t Time: 0:00:06\u001b[39m"
     ]
    },
    {
     "name": "stderr",
     "output_type": "stream",
     "text": [
      "\u001b[K\r\u001b[32mProgress: Tumor size  5288 \t Time: 0:00:06\u001b[39m\u001b[K"
     ]
    },
    {
     "name": "stderr",
     "output_type": "stream",
     "text": [
      "\r\u001b[32mProgress: Tumor size  5321 \t Time: 0:00:07\u001b[39m\u001b[K"
     ]
    },
    {
     "name": "stderr",
     "output_type": "stream",
     "text": [
      "\r\u001b[32mProgress: Tumor size  5346 \t Time: 0:00:07\u001b[39m\u001b[K"
     ]
    },
    {
     "name": "stderr",
     "output_type": "stream",
     "text": [
      "\r\u001b[32mProgress: Tumor size  5377 \t Time: 0:00:07\u001b[39m\u001b[K"
     ]
    },
    {
     "name": "stderr",
     "output_type": "stream",
     "text": [
      "\r\u001b[32mProgress: Tumor size  5400 \t Time: 0:00:07\u001b[39m\u001b[K"
     ]
    },
    {
     "name": "stderr",
     "output_type": "stream",
     "text": [
      "\r\u001b[32mProgress: Tumor size  5426 \t Time: 0:00:07\u001b[39m\u001b[K"
     ]
    },
    {
     "name": "stderr",
     "output_type": "stream",
     "text": [
      "\r\u001b[32mProgress: Tumor size  5464 \t Time: 0:00:07\u001b[39m\u001b[K"
     ]
    },
    {
     "name": "stderr",
     "output_type": "stream",
     "text": [
      "\r\u001b[32mProgress: Tumor size  5500 \t Time: 0:00:07\u001b[39m\u001b[K"
     ]
    },
    {
     "name": "stderr",
     "output_type": "stream",
     "text": [
      "\r\u001b[32mProgress: Tumor size  5533 \t Time: 0:00:07\u001b[39m\u001b[K"
     ]
    },
    {
     "name": "stderr",
     "output_type": "stream",
     "text": [
      "\r\u001b[32mProgress: Tumor size  5566 \t Time: 0:00:07\u001b[39m\u001b[K"
     ]
    },
    {
     "name": "stderr",
     "output_type": "stream",
     "text": [
      "\r\u001b[32mProgress: Tumor size  5595 \t Time: 0:00:08\u001b[39m\u001b[K"
     ]
    },
    {
     "name": "stderr",
     "output_type": "stream",
     "text": [
      "\r\u001b[32mProgress: Tumor size  5624 \t Time: 0:00:08\u001b[39m\u001b[K"
     ]
    },
    {
     "name": "stderr",
     "output_type": "stream",
     "text": [
      "\r\u001b[32mProgress: Tumor size  5649 \t Time: 0:00:08\u001b[39m\u001b[K"
     ]
    },
    {
     "name": "stderr",
     "output_type": "stream",
     "text": [
      "\r\u001b[32mProgress: Tumor size  5681 \t Time: 0:00:08\u001b[39m\u001b[K"
     ]
    },
    {
     "name": "stderr",
     "output_type": "stream",
     "text": [
      "\r\u001b[32mProgress: Tumor size  5714 \t Time: 0:00:08\u001b[39m\u001b[K"
     ]
    },
    {
     "name": "stderr",
     "output_type": "stream",
     "text": [
      "\r\u001b[32mProgress: Tumor size  5749 \t Time: 0:00:08\u001b[39m\u001b[K"
     ]
    },
    {
     "name": "stderr",
     "output_type": "stream",
     "text": [
      "\r\u001b[32mProgress: Tumor size  5781 \t Time: 0:00:08\u001b[39m\u001b[K"
     ]
    },
    {
     "name": "stderr",
     "output_type": "stream",
     "text": [
      "\r\u001b[32mProgress: Tumor size  5821 \t Time: 0:00:08\u001b[39m\u001b[K"
     ]
    },
    {
     "name": "stderr",
     "output_type": "stream",
     "text": [
      "\r\u001b[32mProgress: Tumor size  5856 \t Time: 0:00:09\u001b[39m\u001b[K"
     ]
    },
    {
     "name": "stderr",
     "output_type": "stream",
     "text": [
      "\r\u001b[32mProgress: Tumor size  5892 \t Time: 0:00:09\u001b[39m\u001b[K"
     ]
    },
    {
     "name": "stderr",
     "output_type": "stream",
     "text": [
      "\r\u001b[32mProgress: Tumor size  5922 \t Time: 0:00:09\u001b[39m\u001b[K"
     ]
    },
    {
     "name": "stderr",
     "output_type": "stream",
     "text": [
      "\r\u001b[32mProgress: Tumor size  5950 \t Time: 0:00:09\u001b[39m\u001b[K"
     ]
    },
    {
     "name": "stderr",
     "output_type": "stream",
     "text": [
      "\r\u001b[32mProgress: Tumor size  5978 \t Time: 0:00:09\u001b[39m\u001b[K"
     ]
    },
    {
     "name": "stderr",
     "output_type": "stream",
     "text": [
      "\r\u001b[32mProgress: Tumor size  6004 \t Time: 0:00:09\u001b[39m\u001b[K"
     ]
    },
    {
     "name": "stderr",
     "output_type": "stream",
     "text": [
      "\r\u001b[32mProgress: Tumor size  6035 \t Time: 0:00:09\u001b[39m\u001b[K"
     ]
    },
    {
     "name": "stderr",
     "output_type": "stream",
     "text": [
      "\r\u001b[32mProgress: Tumor size  6061 \t Time: 0:00:09\u001b[39m\u001b[K"
     ]
    },
    {
     "name": "stderr",
     "output_type": "stream",
     "text": [
      "\r\u001b[32mProgress: Tumor size  6086 \t Time: 0:00:10\u001b[39m\u001b[K"
     ]
    },
    {
     "name": "stderr",
     "output_type": "stream",
     "text": [
      "\r\u001b[32mProgress: Tumor size  6114 \t Time: 0:00:10\u001b[39m\u001b[K"
     ]
    },
    {
     "name": "stderr",
     "output_type": "stream",
     "text": [
      "\r\u001b[32mProgress: Tumor size  6140 \t Time: 0:00:10\u001b[39m\u001b[K"
     ]
    },
    {
     "name": "stderr",
     "output_type": "stream",
     "text": [
      "\r\u001b[32mProgress: Tumor size  6167 \t Time: 0:00:10\u001b[39m\u001b[K"
     ]
    },
    {
     "name": "stderr",
     "output_type": "stream",
     "text": [
      "\r\u001b[32mProgress: Tumor size  6193 \t Time: 0:00:10\u001b[39m\u001b[K"
     ]
    },
    {
     "name": "stderr",
     "output_type": "stream",
     "text": [
      "\r\u001b[32mProgress: Tumor size  6216 \t Time: 0:00:10\u001b[39m\u001b[K"
     ]
    },
    {
     "name": "stderr",
     "output_type": "stream",
     "text": [
      "\r\u001b[32mProgress: Tumor size  6253 \t Time: 0:00:10\u001b[39m\u001b[K"
     ]
    },
    {
     "name": "stderr",
     "output_type": "stream",
     "text": [
      "\r\u001b[32mProgress: Tumor size  6289 \t Time: 0:00:10\u001b[39m\u001b[K"
     ]
    },
    {
     "name": "stderr",
     "output_type": "stream",
     "text": [
      "\r\u001b[32mProgress: Tumor size  6314 \t Time: 0:00:10\u001b[39m\u001b[K"
     ]
    },
    {
     "name": "stderr",
     "output_type": "stream",
     "text": [
      "\r\u001b[32mProgress: Tumor size  6347 \t Time: 0:00:11\u001b[39m\u001b[K"
     ]
    },
    {
     "name": "stderr",
     "output_type": "stream",
     "text": [
      "\r\u001b[32mProgress: Tumor size  6379 \t Time: 0:00:11\u001b[39m\u001b[K"
     ]
    },
    {
     "name": "stderr",
     "output_type": "stream",
     "text": [
      "\r\u001b[32mProgress: Tumor size  6401 \t Time: 0:00:11\u001b[39m\u001b[K"
     ]
    },
    {
     "name": "stderr",
     "output_type": "stream",
     "text": [
      "\r\u001b[32mProgress: Tumor size  6421 \t Time: 0:00:11\u001b[39m\u001b[K"
     ]
    },
    {
     "name": "stderr",
     "output_type": "stream",
     "text": [
      "\r\u001b[32mProgress: Tumor size  6450 \t Time: 0:00:11\u001b[39m\u001b[K"
     ]
    },
    {
     "name": "stderr",
     "output_type": "stream",
     "text": [
      "\r\u001b[32mProgress: Tumor size  6479 \t Time: 0:00:11\u001b[39m\u001b[K"
     ]
    },
    {
     "name": "stderr",
     "output_type": "stream",
     "text": [
      "\r\u001b[32mProgress: Tumor size  6514 \t Time: 0:00:11\u001b[39m\u001b[K"
     ]
    },
    {
     "name": "stderr",
     "output_type": "stream",
     "text": [
      "\r\u001b[32mProgress: Tumor size  6541 \t Time: 0:00:11\u001b[39m\u001b[K"
     ]
    },
    {
     "name": "stderr",
     "output_type": "stream",
     "text": [
      "\r\u001b[32mProgress: Tumor size  6565 \t Time: 0:00:11\u001b[39m\u001b[K"
     ]
    },
    {
     "name": "stderr",
     "output_type": "stream",
     "text": [
      "\r\u001b[32mProgress: Tumor size  6596 \t Time: 0:00:12\u001b[39m\u001b[K"
     ]
    },
    {
     "name": "stderr",
     "output_type": "stream",
     "text": [
      "\r\u001b[32mProgress: Tumor size  6626 \t Time: 0:00:12\u001b[39m\u001b[K"
     ]
    },
    {
     "name": "stderr",
     "output_type": "stream",
     "text": [
      "\r\u001b[32mProgress: Tumor size  6653 \t Time: 0:00:12\u001b[39m\u001b[K"
     ]
    },
    {
     "name": "stderr",
     "output_type": "stream",
     "text": [
      "\r\u001b[32mProgress: Tumor size  6683 \t Time: 0:00:12\u001b[39m\u001b[K"
     ]
    },
    {
     "name": "stderr",
     "output_type": "stream",
     "text": [
      "\r\u001b[32mProgress: Tumor size  6711 \t Time: 0:00:12\u001b[39m\u001b[K"
     ]
    },
    {
     "name": "stderr",
     "output_type": "stream",
     "text": [
      "\r\u001b[32mProgress: Tumor size  6740 \t Time: 0:00:12\u001b[39m\u001b[K"
     ]
    },
    {
     "name": "stderr",
     "output_type": "stream",
     "text": [
      "\r\u001b[32mProgress: Tumor size  6766 \t Time: 0:00:12\u001b[39m\u001b[K"
     ]
    },
    {
     "name": "stderr",
     "output_type": "stream",
     "text": [
      "\r\u001b[32mProgress: Tumor size  6790 \t Time: 0:00:12\u001b[39m\u001b[K"
     ]
    },
    {
     "name": "stderr",
     "output_type": "stream",
     "text": [
      "\r\u001b[32mProgress: Tumor size  6820 \t Time: 0:00:13\u001b[39m\u001b[K"
     ]
    },
    {
     "name": "stderr",
     "output_type": "stream",
     "text": [
      "\r\u001b[32mProgress: Tumor size  6848 \t Time: 0:00:13\u001b[39m\u001b[K"
     ]
    },
    {
     "name": "stderr",
     "output_type": "stream",
     "text": [
      "\r\u001b[32mProgress: Tumor size  6872 \t Time: 0:00:13\u001b[39m\u001b[K"
     ]
    },
    {
     "name": "stderr",
     "output_type": "stream",
     "text": [
      "\r\u001b[32mProgress: Tumor size  6894 \t Time: 0:00:13\u001b[39m\u001b[K"
     ]
    },
    {
     "name": "stderr",
     "output_type": "stream",
     "text": [
      "\r\u001b[32mProgress: Tumor size  6925 \t Time: 0:00:13\u001b[39m\u001b[K"
     ]
    },
    {
     "name": "stderr",
     "output_type": "stream",
     "text": [
      "\r\u001b[32mProgress: Tumor size  6954 \t Time: 0:00:13\u001b[39m\u001b[K"
     ]
    },
    {
     "name": "stderr",
     "output_type": "stream",
     "text": [
      "\r\u001b[32mProgress: Tumor size  6979 \t Time: 0:00:13\u001b[39m\u001b[K"
     ]
    },
    {
     "name": "stderr",
     "output_type": "stream",
     "text": [
      "\r\u001b[32mProgress: Tumor size  7004 \t Time: 0:00:13\u001b[39m\u001b[K"
     ]
    },
    {
     "name": "stderr",
     "output_type": "stream",
     "text": [
      "\r\u001b[32mProgress: Tumor size  7030 \t Time: 0:00:13\u001b[39m\u001b[K"
     ]
    },
    {
     "name": "stderr",
     "output_type": "stream",
     "text": [
      "\r\u001b[32mProgress: Tumor size  7055 \t Time: 0:00:14\u001b[39m\u001b[K"
     ]
    },
    {
     "name": "stderr",
     "output_type": "stream",
     "text": [
      "\r\u001b[32mProgress: Tumor size  7078 \t Time: 0:00:14\u001b[39m\u001b[K"
     ]
    },
    {
     "name": "stderr",
     "output_type": "stream",
     "text": [
      "\r\u001b[32mProgress: Tumor size  7100 \t Time: 0:00:14\u001b[39m\u001b[K"
     ]
    },
    {
     "name": "stderr",
     "output_type": "stream",
     "text": [
      "\r\u001b[32mProgress: Tumor size  7126 \t Time: 0:00:14\u001b[39m\u001b[K"
     ]
    },
    {
     "name": "stderr",
     "output_type": "stream",
     "text": [
      "\r\u001b[32mProgress: Tumor size  7155 \t Time: 0:00:14\u001b[39m\u001b[K"
     ]
    },
    {
     "name": "stderr",
     "output_type": "stream",
     "text": [
      "\r\u001b[32mProgress: Tumor size  7182 \t Time: 0:00:14\u001b[39m\u001b[K"
     ]
    },
    {
     "name": "stderr",
     "output_type": "stream",
     "text": [
      "\r\u001b[32mProgress: Tumor size  7209 \t Time: 0:00:14\u001b[39m\u001b[K"
     ]
    },
    {
     "name": "stderr",
     "output_type": "stream",
     "text": [
      "\r\u001b[32mProgress: Tumor size  7234 \t Time: 0:00:14\u001b[39m\u001b[K"
     ]
    },
    {
     "name": "stderr",
     "output_type": "stream",
     "text": [
      "\r\u001b[32mProgress: Tumor size  7260 \t Time: 0:00:15\u001b[39m\u001b[K"
     ]
    },
    {
     "name": "stderr",
     "output_type": "stream",
     "text": [
      "\r\u001b[32mProgress: Tumor size  7286 \t Time: 0:00:15\u001b[39m\u001b[K"
     ]
    },
    {
     "name": "stderr",
     "output_type": "stream",
     "text": [
      "\r\u001b[32mProgress: Tumor size  7311 \t Time: 0:00:15\u001b[39m\u001b[K"
     ]
    },
    {
     "name": "stderr",
     "output_type": "stream",
     "text": [
      "\r\u001b[32mProgress: Tumor size  7336 \t Time: 0:00:15\u001b[39m\u001b[K"
     ]
    },
    {
     "name": "stderr",
     "output_type": "stream",
     "text": [
      "\r\u001b[32mProgress: Tumor size  7360 \t Time: 0:00:15\u001b[39m\u001b[K"
     ]
    },
    {
     "name": "stderr",
     "output_type": "stream",
     "text": [
      "\r\u001b[32mProgress: Tumor size  7385 \t Time: 0:00:15\u001b[39m\u001b[K"
     ]
    },
    {
     "name": "stderr",
     "output_type": "stream",
     "text": [
      "\r\u001b[32mProgress: Tumor size  7409 \t Time: 0:00:15\u001b[39m\u001b[K"
     ]
    },
    {
     "name": "stderr",
     "output_type": "stream",
     "text": [
      "\r\u001b[32mProgress: Tumor size  7437 \t Time: 0:00:15\u001b[39m\u001b[K"
     ]
    },
    {
     "name": "stderr",
     "output_type": "stream",
     "text": [
      "\r\u001b[32mProgress: Tumor size  7465 \t Time: 0:00:16\u001b[39m\u001b[K"
     ]
    },
    {
     "name": "stderr",
     "output_type": "stream",
     "text": [
      "\r\u001b[32mProgress: Tumor size  7483 \t Time: 0:00:16\u001b[39m\u001b[K"
     ]
    },
    {
     "name": "stderr",
     "output_type": "stream",
     "text": [
      "\r\u001b[32mProgress: Tumor size  7506 \t Time: 0:00:16\u001b[39m\u001b[K"
     ]
    },
    {
     "name": "stderr",
     "output_type": "stream",
     "text": [
      "\r\u001b[32mProgress: Tumor size  7527 \t Time: 0:00:16\u001b[39m\u001b[K"
     ]
    },
    {
     "name": "stderr",
     "output_type": "stream",
     "text": [
      "\r\u001b[32mProgress: Tumor size  7547 \t Time: 0:00:16\u001b[39m\u001b[K"
     ]
    },
    {
     "name": "stderr",
     "output_type": "stream",
     "text": [
      "\r\u001b[32mProgress: Tumor size  7576 \t Time: 0:00:16\u001b[39m\u001b[K"
     ]
    },
    {
     "name": "stderr",
     "output_type": "stream",
     "text": [
      "\r\u001b[32mProgress: Tumor size  7603 \t Time: 0:00:16\u001b[39m\u001b[K"
     ]
    },
    {
     "name": "stderr",
     "output_type": "stream",
     "text": [
      "\r\u001b[32mProgress: Tumor size  7625 \t Time: 0:00:16\u001b[39m\u001b[K"
     ]
    },
    {
     "name": "stderr",
     "output_type": "stream",
     "text": [
      "\r\u001b[32mProgress: Tumor size  7647 \t Time: 0:00:16\u001b[39m\u001b[K"
     ]
    },
    {
     "name": "stderr",
     "output_type": "stream",
     "text": [
      "\r\u001b[32mProgress: Tumor size  7677 \t Time: 0:00:17\u001b[39m\u001b[K"
     ]
    },
    {
     "name": "stderr",
     "output_type": "stream",
     "text": [
      "\r\u001b[32mProgress: Tumor size  7706 \t Time: 0:00:17\u001b[39m\u001b[K"
     ]
    },
    {
     "name": "stderr",
     "output_type": "stream",
     "text": [
      "\r\u001b[32mProgress: Tumor size  7731 \t Time: 0:00:17\u001b[39m\u001b[K"
     ]
    },
    {
     "name": "stderr",
     "output_type": "stream",
     "text": [
      "\r\u001b[32mProgress: Tumor size  7751 \t Time: 0:00:17\u001b[39m\u001b[K"
     ]
    },
    {
     "name": "stderr",
     "output_type": "stream",
     "text": [
      "\r\u001b[32mProgress: Tumor size  7767 \t Time: 0:00:17\u001b[39m\u001b[K"
     ]
    },
    {
     "name": "stderr",
     "output_type": "stream",
     "text": [
      "\r\u001b[32mProgress: Tumor size  7783 \t Time: 0:00:17\u001b[39m\u001b[K"
     ]
    },
    {
     "name": "stderr",
     "output_type": "stream",
     "text": [
      "\r\u001b[32mProgress: Tumor size  7808 \t Time: 0:00:17\u001b[39m\u001b[K"
     ]
    },
    {
     "name": "stderr",
     "output_type": "stream",
     "text": [
      "\r\u001b[32mProgress: Tumor size  7832 \t Time: 0:00:17\u001b[39m\u001b[K"
     ]
    },
    {
     "name": "stderr",
     "output_type": "stream",
     "text": [
      "\r\u001b[32mProgress: Tumor size  7854 \t Time: 0:00:18\u001b[39m\u001b[K"
     ]
    },
    {
     "name": "stderr",
     "output_type": "stream",
     "text": [
      "\r\u001b[32mProgress: Tumor size  7874 \t Time: 0:00:18\u001b[39m\u001b[K"
     ]
    },
    {
     "name": "stderr",
     "output_type": "stream",
     "text": [
      "\r\u001b[32mProgress: Tumor size  7893 \t Time: 0:00:18\u001b[39m\u001b[K"
     ]
    },
    {
     "name": "stderr",
     "output_type": "stream",
     "text": [
      "\r\u001b[32mProgress: Tumor size  7915 \t Time: 0:00:18\u001b[39m\u001b[K"
     ]
    },
    {
     "name": "stderr",
     "output_type": "stream",
     "text": [
      "\r\u001b[32mProgress: Tumor size  7936 \t Time: 0:00:18\u001b[39m\u001b[K"
     ]
    },
    {
     "name": "stderr",
     "output_type": "stream",
     "text": [
      "\r\u001b[32mProgress: Tumor size  7957 \t Time: 0:00:18\u001b[39m\u001b[K"
     ]
    },
    {
     "name": "stderr",
     "output_type": "stream",
     "text": [
      "\r\u001b[32mProgress: Tumor size  7977 \t Time: 0:00:18\u001b[39m\u001b[K"
     ]
    },
    {
     "name": "stderr",
     "output_type": "stream",
     "text": [
      "\r\u001b[32mProgress: Tumor size  7996 \t Time: 0:00:18\u001b[39m\u001b[K"
     ]
    },
    {
     "name": "stderr",
     "output_type": "stream",
     "text": [
      "\r\u001b[32mProgress: Tumor size  8014 \t Time: 0:00:18\u001b[39m\u001b[K"
     ]
    },
    {
     "name": "stderr",
     "output_type": "stream",
     "text": [
      "\r\u001b[32mProgress: Tumor size  8036 \t Time: 0:00:19\u001b[39m\u001b[K"
     ]
    },
    {
     "name": "stderr",
     "output_type": "stream",
     "text": [
      "\r\u001b[32mProgress: Tumor size  8057 \t Time: 0:00:19\u001b[39m\u001b[K"
     ]
    },
    {
     "name": "stderr",
     "output_type": "stream",
     "text": [
      "\r\u001b[32mProgress: Tumor size  8076 \t Time: 0:00:19\u001b[39m\u001b[K"
     ]
    },
    {
     "name": "stderr",
     "output_type": "stream",
     "text": [
      "\r\u001b[32mProgress: Tumor size  8095 \t Time: 0:00:19\u001b[39m\u001b[K"
     ]
    },
    {
     "name": "stderr",
     "output_type": "stream",
     "text": [
      "\r\u001b[32mProgress: Tumor size  8115 \t Time: 0:00:19\u001b[39m\u001b[K"
     ]
    },
    {
     "name": "stderr",
     "output_type": "stream",
     "text": [
      "\r\u001b[32mProgress: Tumor size  8133 \t Time: 0:00:19\u001b[39m\u001b[K"
     ]
    },
    {
     "name": "stderr",
     "output_type": "stream",
     "text": [
      "\r\u001b[32mProgress: Tumor size  8156 \t Time: 0:00:19\u001b[39m\u001b[K"
     ]
    },
    {
     "name": "stderr",
     "output_type": "stream",
     "text": [
      "\r\u001b[32mProgress: Tumor size  8183 \t Time: 0:00:19\u001b[39m\u001b[K"
     ]
    },
    {
     "name": "stderr",
     "output_type": "stream",
     "text": [
      "\r\u001b[32mProgress: Tumor size  8207 \t Time: 0:00:20\u001b[39m\u001b[K"
     ]
    },
    {
     "name": "stderr",
     "output_type": "stream",
     "text": [
      "\r\u001b[32mProgress: Tumor size  8221 \t Time: 0:00:20\u001b[39m\u001b[K"
     ]
    },
    {
     "name": "stderr",
     "output_type": "stream",
     "text": [
      "\r\u001b[32mProgress: Tumor size  8235 \t Time: 0:00:20\u001b[39m\u001b[K"
     ]
    },
    {
     "name": "stderr",
     "output_type": "stream",
     "text": [
      "\r\u001b[32mProgress: Tumor size  8251 \t Time: 0:00:20\u001b[39m\u001b[K"
     ]
    },
    {
     "name": "stderr",
     "output_type": "stream",
     "text": [
      "\r\u001b[32mProgress: Tumor size  8269 \t Time: 0:00:20\u001b[39m\u001b[K"
     ]
    },
    {
     "name": "stderr",
     "output_type": "stream",
     "text": [
      "\r\u001b[32mProgress: Tumor size  8292 \t Time: 0:00:20\u001b[39m\u001b[K"
     ]
    },
    {
     "name": "stderr",
     "output_type": "stream",
     "text": [
      "\r\u001b[32mProgress: Tumor size  8312 \t Time: 0:00:20\u001b[39m\u001b[K"
     ]
    },
    {
     "name": "stderr",
     "output_type": "stream",
     "text": [
      "\r\u001b[32mProgress: Tumor size  8329 \t Time: 0:00:20\u001b[39m\u001b[K"
     ]
    },
    {
     "name": "stderr",
     "output_type": "stream",
     "text": [
      "\r\u001b[32mProgress: Tumor size  8352 \t Time: 0:00:20\u001b[39m\u001b[K"
     ]
    },
    {
     "name": "stderr",
     "output_type": "stream",
     "text": [
      "\r\u001b[32mProgress: Tumor size  8374 \t Time: 0:00:21\u001b[39m\u001b[K"
     ]
    },
    {
     "name": "stderr",
     "output_type": "stream",
     "text": [
      "\r\u001b[32mProgress: Tumor size  8392 \t Time: 0:00:21\u001b[39m\u001b[K"
     ]
    },
    {
     "name": "stderr",
     "output_type": "stream",
     "text": [
      "\r\u001b[32mProgress: Tumor size  8412 \t Time: 0:00:21\u001b[39m\u001b[K"
     ]
    },
    {
     "name": "stderr",
     "output_type": "stream",
     "text": [
      "\r\u001b[32mProgress: Tumor size  8433 \t Time: 0:00:21\u001b[39m\u001b[K"
     ]
    },
    {
     "name": "stderr",
     "output_type": "stream",
     "text": [
      "\r\u001b[32mProgress: Tumor size  8451 \t Time: 0:00:21\u001b[39m\u001b[K"
     ]
    },
    {
     "name": "stderr",
     "output_type": "stream",
     "text": [
      "\r\u001b[32mProgress: Tumor size  8477 \t Time: 0:00:21\u001b[39m\u001b[K"
     ]
    },
    {
     "name": "stderr",
     "output_type": "stream",
     "text": [
      "\r\u001b[32mProgress: Tumor size  8498 \t Time: 0:00:21\u001b[39m\u001b[K"
     ]
    },
    {
     "name": "stderr",
     "output_type": "stream",
     "text": [
      "\r\u001b[32mProgress: Tumor size  8519 \t Time: 0:00:21\u001b[39m\u001b[K"
     ]
    },
    {
     "name": "stderr",
     "output_type": "stream",
     "text": [
      "\r\u001b[32mProgress: Tumor size  8538 \t Time: 0:00:22\u001b[39m\u001b[K"
     ]
    },
    {
     "name": "stderr",
     "output_type": "stream",
     "text": [
      "\r\u001b[32mProgress: Tumor size  8558 \t Time: 0:00:22\u001b[39m\u001b[K"
     ]
    },
    {
     "name": "stderr",
     "output_type": "stream",
     "text": [
      "\r\u001b[32mProgress: Tumor size  8578 \t Time: 0:00:22\u001b[39m\u001b[K"
     ]
    },
    {
     "name": "stderr",
     "output_type": "stream",
     "text": [
      "\r\u001b[32mProgress: Tumor size  8596 \t Time: 0:00:22\u001b[39m\u001b[K"
     ]
    },
    {
     "name": "stderr",
     "output_type": "stream",
     "text": [
      "\r\u001b[32mProgress: Tumor size  8616 \t Time: 0:00:22\u001b[39m\u001b[K"
     ]
    },
    {
     "name": "stderr",
     "output_type": "stream",
     "text": [
      "\r\u001b[32mProgress: Tumor size  8641 \t Time: 0:00:22\u001b[39m\u001b[K"
     ]
    },
    {
     "name": "stderr",
     "output_type": "stream",
     "text": [
      "\r\u001b[32mProgress: Tumor size  8665 \t Time: 0:00:22\u001b[39m\u001b[K"
     ]
    },
    {
     "name": "stderr",
     "output_type": "stream",
     "text": [
      "\r\u001b[32mProgress: Tumor size  8682 \t Time: 0:00:22\u001b[39m\u001b[K"
     ]
    },
    {
     "name": "stderr",
     "output_type": "stream",
     "text": [
      "\r\u001b[32mProgress: Tumor size  8702 \t Time: 0:00:23\u001b[39m\u001b[K"
     ]
    },
    {
     "name": "stderr",
     "output_type": "stream",
     "text": [
      "\r\u001b[32mProgress: Tumor size  8720 \t Time: 0:00:23\u001b[39m\u001b[K"
     ]
    },
    {
     "name": "stderr",
     "output_type": "stream",
     "text": [
      "\r\u001b[32mProgress: Tumor size  8740 \t Time: 0:00:23\u001b[39m\u001b[K"
     ]
    },
    {
     "name": "stderr",
     "output_type": "stream",
     "text": [
      "\r\u001b[32mProgress: Tumor size  8759 \t Time: 0:00:23\u001b[39m\u001b[K"
     ]
    },
    {
     "name": "stderr",
     "output_type": "stream",
     "text": [
      "\r\u001b[32mProgress: Tumor size  8774 \t Time: 0:00:23\u001b[39m\u001b[K"
     ]
    },
    {
     "name": "stderr",
     "output_type": "stream",
     "text": [
      "\r\u001b[32mProgress: Tumor size  8797 \t Time: 0:00:23\u001b[39m\u001b[K"
     ]
    },
    {
     "name": "stderr",
     "output_type": "stream",
     "text": [
      "\r\u001b[32mProgress: Tumor size  8818 \t Time: 0:00:23\u001b[39m\u001b[K"
     ]
    },
    {
     "name": "stderr",
     "output_type": "stream",
     "text": [
      "\r\u001b[32mProgress: Tumor size  8838 \t Time: 0:00:23\u001b[39m"
     ]
    },
    {
     "name": "stderr",
     "output_type": "stream",
     "text": [
      "\u001b[K\r\u001b[32mProgress: Tumor size  8855 \t Time: 0:00:24\u001b[39m\u001b[K"
     ]
    },
    {
     "name": "stderr",
     "output_type": "stream",
     "text": [
      "\r\u001b[32mProgress: Tumor size  8871 \t Time: 0:00:24\u001b[39m\u001b[K"
     ]
    },
    {
     "name": "stderr",
     "output_type": "stream",
     "text": [
      "\r\u001b[32mProgress: Tumor size  8897 \t Time: 0:00:24\u001b[39m\u001b[K"
     ]
    },
    {
     "name": "stderr",
     "output_type": "stream",
     "text": [
      "\r\u001b[32mProgress: Tumor size  8916 \t Time: 0:00:24\u001b[39m\u001b[K"
     ]
    },
    {
     "name": "stderr",
     "output_type": "stream",
     "text": [
      "\r\u001b[32mProgress: Tumor size  8934 \t Time: 0:00:24\u001b[39m\u001b[K"
     ]
    },
    {
     "name": "stderr",
     "output_type": "stream",
     "text": [
      "\r\u001b[32mProgress: Tumor size  8951 \t Time: 0:00:24\u001b[39m\u001b[K"
     ]
    },
    {
     "name": "stderr",
     "output_type": "stream",
     "text": [
      "\r\u001b[32mProgress: Tumor size  8986 \t Time: 0:00:24\u001b[39m\u001b[K"
     ]
    },
    {
     "name": "stderr",
     "output_type": "stream",
     "text": [
      "\r\u001b[32mProgress: Tumor size  9005 \t Time: 0:00:25\u001b[39m\u001b[K"
     ]
    },
    {
     "name": "stderr",
     "output_type": "stream",
     "text": [
      "\r\u001b[32mProgress: Tumor size  9022 \t Time: 0:00:25\u001b[39m\u001b[K"
     ]
    },
    {
     "name": "stderr",
     "output_type": "stream",
     "text": [
      "\r\u001b[32mProgress: Tumor size  9039 \t Time: 0:00:25\u001b[39m\u001b[K"
     ]
    },
    {
     "name": "stderr",
     "output_type": "stream",
     "text": [
      "\r\u001b[32mProgress: Tumor size  9057 \t Time: 0:00:25\u001b[39m\u001b[K"
     ]
    },
    {
     "name": "stderr",
     "output_type": "stream",
     "text": [
      "\r\u001b[32mProgress: Tumor size  9081 \t Time: 0:00:25\u001b[39m\u001b[K"
     ]
    },
    {
     "name": "stderr",
     "output_type": "stream",
     "text": [
      "\r\u001b[32mProgress: Tumor size  9103 \t Time: 0:00:25\u001b[39m\u001b[K"
     ]
    },
    {
     "name": "stderr",
     "output_type": "stream",
     "text": [
      "\r\u001b[32mProgress: Tumor size  9119 \t Time: 0:00:25\u001b[39m\u001b[K"
     ]
    },
    {
     "name": "stderr",
     "output_type": "stream",
     "text": [
      "\r\u001b[32mProgress: Tumor size  9142 \t Time: 0:00:25\u001b[39m\u001b[K"
     ]
    },
    {
     "name": "stderr",
     "output_type": "stream",
     "text": [
      "\r\u001b[32mProgress: Tumor size  9164 \t Time: 0:00:25\u001b[39m\u001b[K"
     ]
    },
    {
     "name": "stderr",
     "output_type": "stream",
     "text": [
      "\r\u001b[32mProgress: Tumor size  9182 \t Time: 0:00:26\u001b[39m\u001b[K"
     ]
    },
    {
     "name": "stderr",
     "output_type": "stream",
     "text": [
      "\r\u001b[32mProgress: Tumor size  9195 \t Time: 0:00:26\u001b[39m\u001b[K"
     ]
    },
    {
     "name": "stderr",
     "output_type": "stream",
     "text": [
      "\r\u001b[32mProgress: Tumor size  9212 \t Time: 0:00:26\u001b[39m\u001b[K"
     ]
    },
    {
     "name": "stderr",
     "output_type": "stream",
     "text": [
      "\r\u001b[32mProgress: Tumor size  9238 \t Time: 0:00:26\u001b[39m\u001b[K"
     ]
    },
    {
     "name": "stderr",
     "output_type": "stream",
     "text": [
      "\r\u001b[32mProgress: Tumor size  9261 \t Time: 0:00:26\u001b[39m\u001b[K"
     ]
    },
    {
     "name": "stderr",
     "output_type": "stream",
     "text": [
      "\r\u001b[32mProgress: Tumor size  9274 \t Time: 0:00:26\u001b[39m\u001b[K"
     ]
    },
    {
     "name": "stderr",
     "output_type": "stream",
     "text": [
      "\r\u001b[32mProgress: Tumor size  9299 \t Time: 0:00:26\u001b[39m\u001b[K"
     ]
    },
    {
     "name": "stderr",
     "output_type": "stream",
     "text": [
      "\r\u001b[32mProgress: Tumor size  9322 \t Time: 0:00:27\u001b[39m\u001b[K"
     ]
    },
    {
     "name": "stderr",
     "output_type": "stream",
     "text": [
      "\r\u001b[32mProgress: Tumor size  9338 \t Time: 0:00:27\u001b[39m\u001b[K"
     ]
    },
    {
     "name": "stderr",
     "output_type": "stream",
     "text": [
      "\r\u001b[32mProgress: Tumor size  9356 \t Time: 0:00:27\u001b[39m\u001b[K"
     ]
    },
    {
     "name": "stderr",
     "output_type": "stream",
     "text": [
      "\r\u001b[32mProgress: Tumor size  9372 \t Time: 0:00:27\u001b[39m\u001b[K"
     ]
    },
    {
     "name": "stderr",
     "output_type": "stream",
     "text": [
      "\r\u001b[32mProgress: Tumor size  9384 \t Time: 0:00:27\u001b[39m\u001b[K"
     ]
    },
    {
     "name": "stderr",
     "output_type": "stream",
     "text": [
      "\r\u001b[32mProgress: Tumor size  9395 \t Time: 0:00:27\u001b[39m\u001b[K"
     ]
    },
    {
     "name": "stderr",
     "output_type": "stream",
     "text": [
      "\r\u001b[32mProgress: Tumor size  9413 \t Time: 0:00:27\u001b[39m\u001b[K"
     ]
    },
    {
     "name": "stderr",
     "output_type": "stream",
     "text": [
      "\r\u001b[32mProgress: Tumor size  9429 \t Time: 0:00:27\u001b[39m\u001b[K"
     ]
    },
    {
     "name": "stderr",
     "output_type": "stream",
     "text": [
      "\r\u001b[32mProgress: Tumor size  9445 \t Time: 0:00:27\u001b[39m\u001b[K"
     ]
    },
    {
     "name": "stderr",
     "output_type": "stream",
     "text": [
      "\r\u001b[32mProgress: Tumor size  9458 \t Time: 0:00:28\u001b[39m\u001b[K"
     ]
    },
    {
     "name": "stderr",
     "output_type": "stream",
     "text": [
      "\r\u001b[32mProgress: Tumor size  9473 \t Time: 0:00:28\u001b[39m\u001b[K"
     ]
    },
    {
     "name": "stderr",
     "output_type": "stream",
     "text": [
      "\r\u001b[32mProgress: Tumor size  9489 \t Time: 0:00:28\u001b[39m\u001b[K"
     ]
    },
    {
     "name": "stderr",
     "output_type": "stream",
     "text": [
      "\r\u001b[32mProgress: Tumor size  9513 \t Time: 0:00:28\u001b[39m\u001b[K"
     ]
    },
    {
     "name": "stderr",
     "output_type": "stream",
     "text": [
      "\r\u001b[32mProgress: Tumor size  9535 \t Time: 0:00:28\u001b[39m\u001b[K"
     ]
    },
    {
     "name": "stderr",
     "output_type": "stream",
     "text": [
      "\r\u001b[32mProgress: Tumor size  9552 \t Time: 0:00:28\u001b[39m\u001b[K"
     ]
    },
    {
     "name": "stderr",
     "output_type": "stream",
     "text": [
      "\r\u001b[32mProgress: Tumor size  9565 \t Time: 0:00:28\u001b[39m\u001b[K"
     ]
    },
    {
     "name": "stderr",
     "output_type": "stream",
     "text": [
      "\r\u001b[32mProgress: Tumor size  9580 \t Time: 0:00:28\u001b[39m\u001b[K"
     ]
    },
    {
     "name": "stderr",
     "output_type": "stream",
     "text": [
      "\r\u001b[32mProgress: Tumor size  9598 \t Time: 0:00:29\u001b[39m\u001b[K"
     ]
    },
    {
     "name": "stderr",
     "output_type": "stream",
     "text": [
      "\r\u001b[32mProgress: Tumor size  9616 \t Time: 0:00:29\u001b[39m\u001b[K"
     ]
    },
    {
     "name": "stderr",
     "output_type": "stream",
     "text": [
      "\r\u001b[32mProgress: Tumor size  9631 \t Time: 0:00:29\u001b[39m\u001b[K"
     ]
    },
    {
     "name": "stderr",
     "output_type": "stream",
     "text": [
      "\r\u001b[32mProgress: Tumor size  9646 \t Time: 0:00:29\u001b[39m\u001b[K"
     ]
    },
    {
     "name": "stderr",
     "output_type": "stream",
     "text": [
      "\r\u001b[32mProgress: Tumor size  9661 \t Time: 0:00:29\u001b[39m\u001b[K"
     ]
    },
    {
     "name": "stderr",
     "output_type": "stream",
     "text": [
      "\r\u001b[32mProgress: Tumor size  9678 \t Time: 0:00:29\u001b[39m\u001b[K"
     ]
    },
    {
     "name": "stderr",
     "output_type": "stream",
     "text": [
      "\r\u001b[32mProgress: Tumor size  9695 \t Time: 0:00:29\u001b[39m\u001b[K"
     ]
    },
    {
     "name": "stderr",
     "output_type": "stream",
     "text": [
      "\r\u001b[32mProgress: Tumor size  9712 \t Time: 0:00:29\u001b[39m\u001b[K"
     ]
    },
    {
     "name": "stderr",
     "output_type": "stream",
     "text": [
      "\r\u001b[32mProgress: Tumor size  9736 \t Time: 0:00:29\u001b[39m\u001b[K"
     ]
    },
    {
     "name": "stderr",
     "output_type": "stream",
     "text": [
      "\r\u001b[32mProgress: Tumor size  9757 \t Time: 0:00:30\u001b[39m\u001b[K"
     ]
    },
    {
     "name": "stderr",
     "output_type": "stream",
     "text": [
      "\r\u001b[32mProgress: Tumor size  9774 \t Time: 0:00:30\u001b[39m\u001b[K"
     ]
    },
    {
     "name": "stderr",
     "output_type": "stream",
     "text": [
      "\r\u001b[32mProgress: Tumor size  9790 \t Time: 0:00:30\u001b[39m\u001b[K"
     ]
    },
    {
     "name": "stderr",
     "output_type": "stream",
     "text": [
      "\r\u001b[32mProgress: Tumor size  9803 \t Time: 0:00:30\u001b[39m\u001b[K"
     ]
    },
    {
     "name": "stderr",
     "output_type": "stream",
     "text": [
      "\r\u001b[32mProgress: Tumor size  9819 \t Time: 0:00:30\u001b[39m\u001b[K"
     ]
    },
    {
     "name": "stderr",
     "output_type": "stream",
     "text": [
      "\r\u001b[32mProgress: Tumor size  9835 \t Time: 0:00:30\u001b[39m\u001b[K"
     ]
    },
    {
     "name": "stderr",
     "output_type": "stream",
     "text": [
      "\r\u001b[32mProgress: Tumor size  9854 \t Time: 0:00:30\u001b[39m\u001b[K"
     ]
    },
    {
     "name": "stderr",
     "output_type": "stream",
     "text": [
      "\r\u001b[32mProgress: Tumor size  9869 \t Time: 0:00:30\u001b[39m\u001b[K"
     ]
    },
    {
     "name": "stderr",
     "output_type": "stream",
     "text": [
      "\r\u001b[32mProgress: Tumor size  9885 \t Time: 0:00:31\u001b[39m\u001b[K"
     ]
    },
    {
     "name": "stderr",
     "output_type": "stream",
     "text": [
      "\r\u001b[32mProgress: Tumor size  9903 \t Time: 0:00:31\u001b[39m\u001b[K"
     ]
    },
    {
     "name": "stderr",
     "output_type": "stream",
     "text": [
      "\r\u001b[32mProgress: Tumor size  9921 \t Time: 0:00:31\u001b[39m\u001b[K"
     ]
    },
    {
     "name": "stderr",
     "output_type": "stream",
     "text": [
      "\r\u001b[32mProgress: Tumor size  9951 \t Time: 0:00:31\u001b[39m\u001b[K"
     ]
    },
    {
     "name": "stderr",
     "output_type": "stream",
     "text": [
      "\r\u001b[32mProgress: Tumor size  9970 \t Time: 0:00:31\u001b[39m\u001b[K"
     ]
    },
    {
     "name": "stderr",
     "output_type": "stream",
     "text": [
      "\r\u001b[32mProgress: Tumor size  9986 \t Time: 0:00:31\u001b[39m\u001b[K"
     ]
    },
    {
     "name": "stderr",
     "output_type": "stream",
     "text": [
      "\r\u001b[32mProgress: Tumor size  9998 \t Time: 0:00:31\u001b[39m\u001b[K"
     ]
    },
    {
     "name": "stderr",
     "output_type": "stream",
     "text": [
      "\r\u001b[32mProgress: Tumor size  694 \t Time: 0:00:00\u001b[39m\u001b[K"
     ]
    },
    {
     "name": "stderr",
     "output_type": "stream",
     "text": [
      "\r\u001b[32mProgress: Tumor size  1091 \t Time: 0:00:00\u001b[39m\u001b[K"
     ]
    },
    {
     "name": "stderr",
     "output_type": "stream",
     "text": [
      "\r\u001b[32mProgress: Tumor size  1387 \t Time: 0:00:00\u001b[39m\u001b[K"
     ]
    },
    {
     "name": "stderr",
     "output_type": "stream",
     "text": [
      "\r"
     ]
    },
    {
     "name": "stderr",
     "output_type": "stream",
     "text": [
      "\u001b[32mProgress: Tumor size  1602 \t Time: 0:00:00\u001b[39m\u001b[K"
     ]
    },
    {
     "name": "stderr",
     "output_type": "stream",
     "text": [
      "\r\u001b[32mProgress: Tumor size  1707 \t Time: 0:00:00\u001b[39m\u001b[K"
     ]
    },
    {
     "name": "stderr",
     "output_type": "stream",
     "text": [
      "\r\u001b[32mProgress: Tumor size  1915 \t Time: 0:00:00\u001b[39m\u001b[K"
     ]
    },
    {
     "name": "stderr",
     "output_type": "stream",
     "text": [
      "\r\u001b[32mProgress: Tumor size  2105 \t Time: 0:00:00\u001b[39m\u001b[K"
     ]
    },
    {
     "name": "stderr",
     "output_type": "stream",
     "text": [
      "\r\u001b[32mProgress: Tumor size  2265 \t Time: 0:00:00\u001b[39m\u001b[K"
     ]
    },
    {
     "name": "stderr",
     "output_type": "stream",
     "text": [
      "\r\u001b[32mProgress: Tumor size  2399 \t Time: 0:00:00\u001b[39m\u001b[K"
     ]
    },
    {
     "name": "stderr",
     "output_type": "stream",
     "text": [
      "\r\u001b[32mProgress: Tumor size  2505 \t Time: 0:00:01\u001b[39m\u001b[K"
     ]
    },
    {
     "name": "stderr",
     "output_type": "stream",
     "text": [
      "\r\u001b[32mProgress: Tumor size  2612 \t Time: 0:00:01\u001b[39m\u001b[K"
     ]
    },
    {
     "name": "stderr",
     "output_type": "stream",
     "text": [
      "\r\u001b[32mProgress: Tumor size  2724 \t Time: 0:00:01\u001b[39m\u001b[K"
     ]
    },
    {
     "name": "stderr",
     "output_type": "stream",
     "text": [
      "\r\u001b[32mProgress: Tumor size  2815 \t Time: 0:00:01\u001b[39m\u001b[K"
     ]
    },
    {
     "name": "stderr",
     "output_type": "stream",
     "text": [
      "\r\u001b[32mProgress: Tumor size  2907 \t Time: 0:00:01\u001b[39m\u001b[K"
     ]
    },
    {
     "name": "stderr",
     "output_type": "stream",
     "text": [
      "\r\u001b[32mProgress: Tumor size  2995 \t Time: 0:00:01\u001b[39m\u001b[K"
     ]
    },
    {
     "data": {
      "text/html": [
       "<table class=\"data-frame\"><thead><tr><th></th><th>index</th><th>position</th><th>mutations</th><th>parent</th><th>b</th><th>t_birth</th><th>p_birth</th></tr><tr><th></th><th>Int64</th><th>Array…</th><th>Array…</th><th>Int64</th><th>Float64</th><th>Float64</th><th>Array…</th></tr></thead><tbody><p>3,000 rows × 7 columns</p><tr><th>1</th><td>1</td><td>[-4.99309, -0.210119]</td><td>[]</td><td>0</td><td>0.0</td><td>0.0</td><td>[0.0, 0.0]</td></tr><tr><th>2</th><td>2</td><td>[-4.00741, -2.24503]</td><td>[1]</td><td>1</td><td>0.0</td><td>1.57901</td><td>[-0.885364, -1.90424]</td></tr><tr><th>3</th><td>3</td><td>[8.62228, 4.74437]</td><td>[]</td><td>1</td><td>0.0</td><td>3.63686</td><td>[1.65175, 1.29681]</td></tr><tr><th>4</th><td>4</td><td>[-5.27558, 4.32129]</td><td>[]</td><td>1</td><td>0.0</td><td>4.63986</td><td>[-0.712605, 1.9754]</td></tr><tr><th>5</th><td>5</td><td>[0.460848, -2.33259]</td><td>[]</td><td>2</td><td>0.0</td><td>5.55456</td><td>[1.13115, -1.31801]</td></tr><tr><th>6</th><td>6</td><td>[3.07904, 0.976179]</td><td>[3]</td><td>5</td><td>0.0</td><td>5.59782</td><td>[0.675408, 0.731946]</td></tr><tr><th>7</th><td>7</td><td>[-9.02417, 1.39529]</td><td>[]</td><td>5</td><td>0.0</td><td>6.03764</td><td>[-0.429068, 0.0875972]</td></tr><tr><th>8</th><td>8</td><td>[-6.87356, 0.931727]</td><td>[4]</td><td>2</td><td>0.0</td><td>6.093</td><td>[-2.45618, -3.49453]</td></tr><tr><th>9</th><td>9</td><td>[-2.33587, -5.04031]</td><td>[1, 2]</td><td>2</td><td>0.0</td><td>6.35839</td><td>[-1.49891, -4.17566]</td></tr><tr><th>10</th><td>10</td><td>[4.3847, 2.76842]</td><td>[]</td><td>6</td><td>0.0</td><td>6.50379</td><td>[3.55084, 1.48789]</td></tr><tr><th>11</th><td>11</td><td>[-0.26556, -0.053497]</td><td>[1]</td><td>2</td><td>0.0</td><td>6.56291</td><td>[-0.335911, -0.146246]</td></tr><tr><th>12</th><td>12</td><td>[-0.707847, -6.69984]</td><td>[1, 8]</td><td>2</td><td>0.0</td><td>6.90159</td><td>[0.106887, -4.08225]</td></tr><tr><th>13</th><td>13</td><td>[6.47816, 4.25169]</td><td>[9]</td><td>4</td><td>0.0</td><td>7.39948</td><td>[1.13596, 5.52327]</td></tr><tr><th>14</th><td>14</td><td>[-6.95799, 3.22566]</td><td>[]</td><td>6</td><td>0.0</td><td>7.51609</td><td>[-0.532477, 1.82494]</td></tr><tr><th>15</th><td>15</td><td>[0.96612, 1.71619]</td><td>[3]</td><td>6</td><td>0.0</td><td>7.64366</td><td>[1.1744, 3.27513]</td></tr><tr><th>16</th><td>16</td><td>[-4.54008, -4.78385]</td><td>[10, 11]</td><td>8</td><td>0.0</td><td>7.8624</td><td>[-2.9437, -4.59139]</td></tr><tr><th>17</th><td>17</td><td>[0.550086, -9.36176]</td><td>[]</td><td>16</td><td>0.0</td><td>7.8825</td><td>[-1.10857, -5.61231]</td></tr><tr><th>18</th><td>18</td><td>[1.84372, -0.678743]</td><td>[1]</td><td>11</td><td>0.0</td><td>7.9659</td><td>[2.0848, -0.236796]</td></tr><tr><th>19</th><td>19</td><td>[-6.63432, -5.33697]</td><td>[27]</td><td>8</td><td>0.0</td><td>8.01279</td><td>[-5.67618, -2.53292]</td></tr><tr><th>20</th><td>20</td><td>[-5.04032, 10.7752]</td><td>[]</td><td>4</td><td>0.0</td><td>8.04141</td><td>[-2.82436, 6.01956]</td></tr><tr><th>21</th><td>21</td><td>[-10.299, -2.89737]</td><td>[14]</td><td>1</td><td>0.0</td><td>8.15351</td><td>[-4.36512, -1.40442]</td></tr><tr><th>22</th><td>22</td><td>[3.94041, 4.74474]</td><td>[]</td><td>3</td><td>0.0</td><td>8.355</td><td>[1.70963, 5.0146]</td></tr><tr><th>23</th><td>23</td><td>[-3.15134, 9.76854]</td><td>[]</td><td>13</td><td>0.0</td><td>8.42872</td><td>[0.364143, 9.04488]</td></tr><tr><th>24</th><td>24</td><td>[-3.24037, 1.09403]</td><td>[4]</td><td>8</td><td>0.0</td><td>8.76325</td><td>[-1.13436, -3.8371]</td></tr><tr><th>&vellip;</th><td>&vellip;</td><td>&vellip;</td><td>&vellip;</td><td>&vellip;</td><td>&vellip;</td><td>&vellip;</td><td>&vellip;</td></tr></tbody></table>"
      ],
      "text/latex": [
       "\\begin{tabular}{r|ccccccc}\n",
       "\t& index & position & mutations & parent & b & t\\_birth & p\\_birth\\\\\n",
       "\t\\hline\n",
       "\t& Int64 & Array… & Array… & Int64 & Float64 & Float64 & Array…\\\\\n",
       "\t\\hline\n",
       "\t1 & 1 & [-4.99309, -0.210119] & [] & 0 & 0.0 & 0.0 & [0.0, 0.0] \\\\\n",
       "\t2 & 2 & [-4.00741, -2.24503] & [1] & 1 & 0.0 & 1.57901 & [-0.885364, -1.90424] \\\\\n",
       "\t3 & 3 & [8.62228, 4.74437] & [] & 1 & 0.0 & 3.63686 & [1.65175, 1.29681] \\\\\n",
       "\t4 & 4 & [-5.27558, 4.32129] & [] & 1 & 0.0 & 4.63986 & [-0.712605, 1.9754] \\\\\n",
       "\t5 & 5 & [0.460848, -2.33259] & [] & 2 & 0.0 & 5.55456 & [1.13115, -1.31801] \\\\\n",
       "\t6 & 6 & [3.07904, 0.976179] & [3] & 5 & 0.0 & 5.59782 & [0.675408, 0.731946] \\\\\n",
       "\t7 & 7 & [-9.02417, 1.39529] & [] & 5 & 0.0 & 6.03764 & [-0.429068, 0.0875972] \\\\\n",
       "\t8 & 8 & [-6.87356, 0.931727] & [4] & 2 & 0.0 & 6.093 & [-2.45618, -3.49453] \\\\\n",
       "\t9 & 9 & [-2.33587, -5.04031] & [1, 2] & 2 & 0.0 & 6.35839 & [-1.49891, -4.17566] \\\\\n",
       "\t10 & 10 & [4.3847, 2.76842] & [] & 6 & 0.0 & 6.50379 & [3.55084, 1.48789] \\\\\n",
       "\t11 & 11 & [-0.26556, -0.053497] & [1] & 2 & 0.0 & 6.56291 & [-0.335911, -0.146246] \\\\\n",
       "\t12 & 12 & [-0.707847, -6.69984] & [1, 8] & 2 & 0.0 & 6.90159 & [0.106887, -4.08225] \\\\\n",
       "\t13 & 13 & [6.47816, 4.25169] & [9] & 4 & 0.0 & 7.39948 & [1.13596, 5.52327] \\\\\n",
       "\t14 & 14 & [-6.95799, 3.22566] & [] & 6 & 0.0 & 7.51609 & [-0.532477, 1.82494] \\\\\n",
       "\t15 & 15 & [0.96612, 1.71619] & [3] & 6 & 0.0 & 7.64366 & [1.1744, 3.27513] \\\\\n",
       "\t16 & 16 & [-4.54008, -4.78385] & [10, 11] & 8 & 0.0 & 7.8624 & [-2.9437, -4.59139] \\\\\n",
       "\t17 & 17 & [0.550086, -9.36176] & [] & 16 & 0.0 & 7.8825 & [-1.10857, -5.61231] \\\\\n",
       "\t18 & 18 & [1.84372, -0.678743] & [1] & 11 & 0.0 & 7.9659 & [2.0848, -0.236796] \\\\\n",
       "\t19 & 19 & [-6.63432, -5.33697] & [27] & 8 & 0.0 & 8.01279 & [-5.67618, -2.53292] \\\\\n",
       "\t20 & 20 & [-5.04032, 10.7752] & [] & 4 & 0.0 & 8.04141 & [-2.82436, 6.01956] \\\\\n",
       "\t21 & 21 & [-10.299, -2.89737] & [14] & 1 & 0.0 & 8.15351 & [-4.36512, -1.40442] \\\\\n",
       "\t22 & 22 & [3.94041, 4.74474] & [] & 3 & 0.0 & 8.355 & [1.70963, 5.0146] \\\\\n",
       "\t23 & 23 & [-3.15134, 9.76854] & [] & 13 & 0.0 & 8.42872 & [0.364143, 9.04488] \\\\\n",
       "\t24 & 24 & [-3.24037, 1.09403] & [4] & 8 & 0.0 & 8.76325 & [-1.13436, -3.8371] \\\\\n",
       "\t$\\dots$ & $\\dots$ & $\\dots$ & $\\dots$ & $\\dots$ & $\\dots$ & $\\dots$ & $\\dots$ \\\\\n",
       "\\end{tabular}\n"
      ],
      "text/plain": [
       "\u001b[1m3000×7 DataFrame\u001b[0m\n",
       "\u001b[1m  Row \u001b[0m│\u001b[1m index \u001b[0m\u001b[1m position              \u001b[0m\u001b[1m mutations                 \u001b[0m\u001b[1m parent \u001b[0m\u001b[1m b    \u001b[0m ⋯\n",
       "\u001b[1m      \u001b[0m│\u001b[90m Int64 \u001b[0m\u001b[90m Array…                \u001b[0m\u001b[90m Array…                    \u001b[0m\u001b[90m Int64  \u001b[0m\u001b[90m Float\u001b[0m ⋯\n",
       "──────┼─────────────────────────────────────────────────────────────────────────\n",
       "    1 │     1  [-4.99309, -0.210119]  Int64[]                         0  0.0   ⋯\n",
       "    2 │     2  [-4.00741, -2.24503]   [1]                             1  0.0\n",
       "    3 │     3  [8.62228, 4.74437]     Int64[]                         1  0.0\n",
       "    4 │     4  [-5.27558, 4.32129]    Int64[]                         1  0.0\n",
       "    5 │     5  [0.460848, -2.33259]   Int64[]                         2  0.0   ⋯\n",
       "    6 │     6  [3.07904, 0.976179]    [3]                             5  0.0\n",
       "    7 │     7  [-9.02417, 1.39529]    Int64[]                         5  0.0\n",
       "    8 │     8  [-6.87356, 0.931727]   [4]                             2  0.0\n",
       "  ⋮   │   ⋮              ⋮                        ⋮                ⋮         ⋮ ⋱\n",
       " 2994 │  2994  [16.2847, 59.0004]     [15, 36, 205, 449]           2894  0.593 ⋯\n",
       " 2995 │  2995  [52.3938, -29.9826]    [5, 16, 45, 67, 203, 326]    2883  0.055\n",
       " 2996 │  2996  [-64.0966, 26.3118]    [50, 86, 237, 274, 435]      2750  0.281\n",
       " 2997 │  2997  [-8.10074, -57.7699]   [74, 111, 360, 379]          2884  0.457\n",
       " 2998 │  2998  [-11.902, -51.0867]    [74, 111, 272, 302, 479]     2661  0.008 ⋯\n",
       " 2999 │  2999  [-64.7613, -13.748]    [50, 86, 228]                2101  0.443\n",
       " 3000 │  3000  [82.9536, 15.0524]     [7, 63, 204, 319]            2853  0.666\n",
       "\u001b[36m                                                 3 columns and 2985 rows omitted\u001b[0m"
      ]
     },
     "metadata": {},
     "output_type": "display_data"
    }
   ],
   "source": [
    "tumor1 = birth_death_pushing(10000; b=1.,d=0., μ=0.2, ρ=7., dim=3)[:tumor] |> DataFrame\n",
    "tumor2 = birth_death_pushing(10000; b=1.,d=0., μ=0.2, ρ=Inf, dim=3)[:tumor] |> DataFrame\n",
    "tumor3 = birth_death_pushing(3000; b=1.,d=0., μ=0.2, ρ=1.4, dim=2)[:tumor] |> DataFrame"
   ]
  },
  {
   "cell_type": "code",
   "execution_count": 18,
   "metadata": {},
   "outputs": [
    {
     "name": "stderr",
     "output_type": "stream",
     "text": [
      "┌ Warning: This method assumes mutations to be ordered by occurence!\n",
      "└ @ TumorGrowth c:\\Users\\ArmanAngaji\\OneDrive - Universität zu Köln\\Dokumente\\Uni-Köln\\Masterarbeit\\Workspace\\Julia_Master\\MasterProject_Julia\\TumorGrowth\\src\\analysis.jl:115\n"
     ]
    },
    {
     "name": "stderr",
     "output_type": "stream",
     "text": [
      "┌ Warning: This method assumes mutations to be ordered by occurence!\n",
      "└ @ TumorGrowth c:\\Users\\ArmanAngaji\\OneDrive - Universität zu Köln\\Dokumente\\Uni-Köln\\Masterarbeit\\Workspace\\Julia_Master\\MasterProject_Julia\\TumorGrowth\\src\\analysis.jl:115\n"
     ]
    },
    {
     "name": "stderr",
     "output_type": "stream",
     "text": [
      "┌ Warning: This method assumes mutations to be ordered by occurence!\n",
      "└ @ TumorGrowth c:\\Users\\ArmanAngaji\\OneDrive - Universität zu Köln\\Dokumente\\Uni-Köln\\Masterarbeit\\Workspace\\Julia_Master\\MasterProject_Julia\\TumorGrowth\\src\\analysis.jl:115\n"
     ]
    },
    {
     "data": {
      "text/plain": [
       "GLMakie.Screen(...)"
      ]
     },
     "metadata": {},
     "output_type": "display_data"
    }
   ],
   "source": [
    "scene = Scene(resolution = (1000, 1000), show_axis=false)\n",
    "t1 = plotting_colored_mutations!(scene, tumor1;\n",
    "        shading=true, colorpalette=cgrad(:reds)[0.4:0.1:1.] )\n",
    "t2 = plotting_colored_mutations!(scene, tumor2;\n",
    "        shading=true, colorpalette=cgrad(:blues)[0.4:0.1:1.] )[end]\n",
    "t3 = plotting_colored_mutations!(scene, tumor3;\n",
    "        shading=false, colorpalette=cgrad(:greens)[0.2:0.1:1.] )[end]\n",
    "translate!(t2, Vec3f0(100, 0, 0))\n",
    "translate!(t3, Vec3f0(50, 100, 0))\n",
    "scene |> display"
   ]
  },
  {
   "cell_type": "code",
   "execution_count": 19,
   "metadata": {},
   "outputs": [],
   "source": [
    "using GLMakie.MakieLayout"
   ]
  },
  {
   "cell_type": "code",
   "execution_count": 20,
   "metadata": {},
   "outputs": [
    {
     "name": "stderr",
     "output_type": "stream",
     "text": [
      "┌ Warning: This method assumes mutations to be ordered by occurence!\n",
      "└ @ TumorGrowth c:\\Users\\ArmanAngaji\\OneDrive - Universität zu Köln\\Dokumente\\Uni-Köln\\Masterarbeit\\Workspace\\Julia_Master\\MasterProject_Julia\\TumorGrowth\\src\\analysis.jl:115\n"
     ]
    },
    {
     "name": "stderr",
     "output_type": "stream",
     "text": [
      "┌ Warning: This method assumes mutations to be ordered by occurence!\n",
      "└ @ TumorGrowth c:\\Users\\ArmanAngaji\\OneDrive - Universität zu Köln\\Dokumente\\Uni-Köln\\Masterarbeit\\Workspace\\Julia_Master\\MasterProject_Julia\\TumorGrowth\\src\\analysis.jl:115\n"
     ]
    },
    {
     "name": "stderr",
     "output_type": "stream",
     "text": [
      "┌ Warning: This method assumes mutations to be ordered by occurence!\n",
      "└ @ TumorGrowth c:\\Users\\ArmanAngaji\\OneDrive - Universität zu Köln\\Dokumente\\Uni-Köln\\Masterarbeit\\Workspace\\Julia_Master\\MasterProject_Julia\\TumorGrowth\\src\\analysis.jl:115\n"
     ]
    },
    {
     "data": {
      "text/plain": [
       "GLMakie.Screen(...)"
      ]
     },
     "metadata": {},
     "output_type": "display_data"
    }
   ],
   "source": [
    "scene, layout = layoutscene(show_axis=false)\n",
    "layout[1, 1:2]  = ax1 = LScene(scene, camera = cam2d!, resolution=(500,500))\n",
    "layout[2, 1]  = ax2 = LScene(scene, camera = cam3d!, raw = false, show_axis=false, resolution=(500,500))\n",
    "layout[2, 2] = ax3 = LScene(scene, camera = cam3d!, raw = false, show_axis=false, resolution=(500,500))\n",
    "\n",
    "t1 = plotting_colored_mutations!(ax2, tumor1;\n",
    "        shading=true, colorpalette=cgrad(:reds)[0.4:0.1:1.] )\n",
    "t2 = plotting_colored_mutations!(ax3, tumor2;\n",
    "        shading=true, colorpalette=cgrad(:blues)[0.4:0.1:1.] )\n",
    "# b = deepcopy(tumor3); b.position ./= 1.8\n",
    "t3 = plotting_colored_mutations!(ax1, tumor3; markersize=1.1,\n",
    "        shading=false, colorpalette=cgrad(:greens)[0.2:0.1:1.] )\n",
    "\n",
    "scene |> display"
   ]
  },
  {
   "cell_type": "markdown",
   "metadata": {},
   "source": [
    "### *plotting sampletumors*"
   ]
  },
  {
   "cell_type": "code",
   "execution_count": 22,
   "metadata": {},
   "outputs": [
    {
     "name": "stdout",
     "output_type": "stream",
     "text": [
      "  2.327656 seconds (7.87 M allocations: 1.447 GiB, 9.64% gc time)\n"
     ]
    }
   ],
   "source": [
    "@time tumor = birth_death_pushing(3000; b=1., d=0.0, μ=0.5, ρ=1.6, dim=2, showprogress=false)[:tumor] |> DataFrame\n",
    "samples, sampletumor = multi_region_sequencing(tumor, n=50);"
   ]
  },
  {
   "cell_type": "code",
   "execution_count": 24,
   "metadata": {},
   "outputs": [],
   "source": [
    "plotting_sampletumor_pies(sampletumor, first=30, colorpalette = TumorGrowth.distinguishable_colors(30))"
   ]
  },
  {
   "cell_type": "code",
   "execution_count": 25,
   "metadata": {},
   "outputs": [],
   "source": [
    "plotting_sampletumor_pies(sampletumor, mutations = [1,10,55])"
   ]
  },
  {
   "cell_type": "markdown",
   "metadata": {},
   "source": [
    "## Sampling"
   ]
  },
  {
   "cell_type": "code",
   "execution_count": 26,
   "metadata": {},
   "outputs": [],
   "source": [
    "b = data_import(\"examples/test_2000_2d.csv\");"
   ]
  },
  {
   "cell_type": "code",
   "execution_count": 27,
   "metadata": {},
   "outputs": [
    {
     "name": "stderr",
     "output_type": "stream",
     "text": [
      "┌ Warning: This method assumes mutations to be ordered by occurence!\n",
      "└ @ TumorGrowth c:\\Users\\ArmanAngaji\\OneDrive - Universität zu Köln\\Dokumente\\Uni-Köln\\Masterarbeit\\Workspace\\Julia_Master\\MasterProject_Julia\\TumorGrowth\\src\\analysis.jl:115\n"
     ]
    }
   ],
   "source": [
    "fig = b |> plotting_colored_mutations\n",
    "cross_section(b; x=10., width=3.) |> data -> plotting!(fig, data; color=:black)\n",
    "cross_section(b; y=25., width=3.) |> data -> plotting!(fig, data; color=:black)\n",
    "radial_sample(b; r=30., width=3.) |> data -> plotting!(fig, data; color=:black)"
   ]
  },
  {
   "cell_type": "code",
   "execution_count": 28,
   "metadata": {},
   "outputs": [
    {
     "name": "stderr",
     "output_type": "stream",
     "text": [
      "┌ Warning: This method assumes mutations to be ordered by occurence!\n",
      "└ @ TumorGrowth c:\\Users\\ArmanAngaji\\OneDrive - Universität zu Köln\\Dokumente\\Uni-Köln\\Masterarbeit\\Workspace\\Julia_Master\\MasterProject_Julia\\TumorGrowth\\src\\analysis.jl:115\n"
     ]
    }
   ],
   "source": [
    "fig = b |> plotting_colored_mutations\n",
    "bulk(b; pos=(25.,0.), box=(20,30)) |> data -> plotting!(fig, data; color=:black)\n",
    "punch(b; pos=(-20,-20), r=10) |> data -> plotting!(fig, data; color=:black)"
   ]
  },
  {
   "cell_type": "code",
   "execution_count": 29,
   "metadata": {},
   "outputs": [
    {
     "name": "stderr",
     "output_type": "stream",
     "text": [
      "┌ Warning: This method assumes mutations to be ordered by occurence!\n",
      "└ @ TumorGrowth c:\\Users\\ArmanAngaji\\OneDrive - Universität zu Köln\\Dokumente\\Uni-Köln\\Masterarbeit\\Workspace\\Julia_Master\\MasterProject_Julia\\TumorGrowth\\src\\analysis.jl:115\n"
     ]
    }
   ],
   "source": [
    "b = data_import(\"examples/test_5000_3d.csv\")\n",
    "scene = b |> plotting_colored_mutations\n",
    "cross_section(b; x=10., width=3.) |> data -> plotting!(scene, data; shading=true, color=:black, path=\"examples/test_5000_3d.png\")\n",
    "cross_section(b; y=5., width=3.) |> data -> plotting!(scene, data; color=:black)"
   ]
  },
  {
   "cell_type": "markdown",
   "metadata": {},
   "source": [
    "## Multi-region sampling"
   ]
  },
  {
   "cell_type": "code",
   "execution_count": null,
   "metadata": {},
   "outputs": [],
   "source": [
    "using Makie: meshscatter, meshscatter!, save, Point\n",
    "using Statistics, DataFrames, LinearAlgebra, StatsBase"
   ]
  },
  {
   "cell_type": "code",
   "execution_count": null,
   "metadata": {},
   "outputs": [],
   "source": [
    "@time tumor = birth_death_pushing(5000; b=0.69, d=0.1, μ=0.3, ρ=1.8, dim=2, seed=1010)[:tumor] |> DataFrame\n",
    "\n",
    "lattice, samples = multi_region_sampling(tumor; n=24, cells_per_sample=20)\n",
    "length(lattice), mean(size.(samples, 1))"
   ]
  },
  {
   "cell_type": "code",
   "execution_count": null,
   "metadata": {},
   "outputs": [],
   "source": [
    "scene = plotting_colored_mutations(tumor)\n",
    "for sample in samples\n",
    "        plotting!(scene, sample; color=:black)\n",
    "end\n",
    "\n",
    "sample_r = 2 * sqrt(20 / π)\n",
    "r = norm(std(tumor.position)) / 2\n",
    "cm = mean(tumor.position)\n",
    "density = size(punch(tumor; pos=cm, r=r), 1) / (π * r^2)\n",
    "R = sqrt(size(tumor, 1) / (π * density))\n",
    "a = minimum(pairwise(norm ∘ -, lattice) + I * 100)\n",
    "\n",
    "# scene = plotting_colored_mutations(tumor)\n",
    "meshscatter!(scene, [Point{2}.(lattice)...], markersize=sample_r, scale_plot=false)\n",
    "meshscatter!(scene, 0:0.2:360 .|> ϕ -> Point{2}((R-a/2) .* (cosd(ϕ), sind(ϕ)) .+ cm), markersize=1.0)\n",
    "display(scene)"
   ]
  },
  {
   "cell_type": "markdown",
   "metadata": {},
   "source": [
    "## Analysis"
   ]
  },
  {
   "cell_type": "code",
   "execution_count": 30,
   "metadata": {},
   "outputs": [
    {
     "name": "stderr",
     "output_type": "stream",
     "text": [
      "WARNING: using Plots.translate! in module Main conflicts with an existing identifier.\n"
     ]
    }
   ],
   "source": [
    "using Plots, StatsBase, Statistics"
   ]
  },
  {
   "cell_type": "code",
   "execution_count": 31,
   "metadata": {},
   "outputs": [
    {
     "name": "stderr",
     "output_type": "stream",
     "text": [
      "\r\u001b[32mProgress: Tumor size  136 \t Time: 0:00:00\u001b[39m\u001b[K"
     ]
    },
    {
     "name": "stderr",
     "output_type": "stream",
     "text": [
      "\r\u001b[32mProgress: Tumor size  1186 \t Time: 0:00:00\u001b[39m\u001b[K"
     ]
    },
    {
     "name": "stderr",
     "output_type": "stream",
     "text": [
      "\r\u001b[32mProgress: Tumor size  1716 \t Time: 0:00:00\u001b[39m\u001b[K"
     ]
    },
    {
     "name": "stderr",
     "output_type": "stream",
     "text": [
      "\r\u001b[32mProgress: Tumor size  1906 \t Time: 0:00:00\u001b[39m\u001b[K"
     ]
    },
    {
     "name": "stderr",
     "output_type": "stream",
     "text": [
      "\r\u001b[32mProgress: Tumor size  2096 \t Time: 0:00:00\u001b[39m\u001b[K"
     ]
    },
    {
     "name": "stderr",
     "output_type": "stream",
     "text": [
      "\r\u001b[32mProgress: Tumor size  2243 \t Time: 0:00:01\u001b[39m\u001b[K"
     ]
    },
    {
     "name": "stderr",
     "output_type": "stream",
     "text": [
      "\r\u001b[32mProgress: Tumor size  2358 \t Time: 0:00:01\u001b[39m\u001b[K"
     ]
    },
    {
     "name": "stderr",
     "output_type": "stream",
     "text": [
      "\r\u001b[32mProgress: Tumor size  2473 \t Time: 0:00:01\u001b[39m\u001b[K"
     ]
    },
    {
     "name": "stderr",
     "output_type": "stream",
     "text": [
      "\r\u001b[32mProgress: Tumor size  2578 \t Time: 0:00:01\u001b[39m\u001b[K"
     ]
    },
    {
     "name": "stderr",
     "output_type": "stream",
     "text": [
      "\r\u001b[32mProgress: Tumor size  2672 \t Time: 0:00:01\u001b[39m\u001b[K"
     ]
    },
    {
     "name": "stderr",
     "output_type": "stream",
     "text": [
      "\r\u001b[32mProgress: Tumor size  2786 \t Time: 0:00:01\u001b[39m\u001b[K"
     ]
    },
    {
     "name": "stderr",
     "output_type": "stream",
     "text": [
      "\r\u001b[32mProgress: Tumor size  2896 \t Time: 0:00:01\u001b[39m\u001b[K"
     ]
    },
    {
     "name": "stderr",
     "output_type": "stream",
     "text": [
      "\r\u001b[32mProgress: Tumor size  2988 \t Time: 0:00:01\u001b[39m\u001b[K"
     ]
    },
    {
     "name": "stderr",
     "output_type": "stream",
     "text": [
      "\r\u001b[32mProgress: Tumor size  3080 \t Time: 0:00:01\u001b[39m\u001b[K"
     ]
    },
    {
     "name": "stderr",
     "output_type": "stream",
     "text": [
      "\r\u001b[32mProgress: Tumor size  3159 \t Time: 0:00:02\u001b[39m\u001b[K"
     ]
    },
    {
     "name": "stderr",
     "output_type": "stream",
     "text": [
      "\r\u001b[32mProgress: Tumor size  3235 \t Time: 0:00:02\u001b[39m\u001b[K"
     ]
    },
    {
     "name": "stderr",
     "output_type": "stream",
     "text": [
      "\r\u001b[32mProgress: Tumor size  3309 \t Time: 0:00:02\u001b[39m\u001b[K"
     ]
    },
    {
     "name": "stderr",
     "output_type": "stream",
     "text": [
      "\r\u001b[32mProgress: Tumor size  3376 \t Time: 0:00:02\u001b[39m\u001b[K"
     ]
    },
    {
     "name": "stderr",
     "output_type": "stream",
     "text": [
      "\r\u001b[32mProgress: Tumor size  3450 \t Time: 0:00:02\u001b[39m\u001b[K"
     ]
    },
    {
     "name": "stderr",
     "output_type": "stream",
     "text": [
      "\r\u001b[32mProgress: Tumor size  3521 \t Time: 0:00:02\u001b[39m\u001b[K"
     ]
    },
    {
     "name": "stderr",
     "output_type": "stream",
     "text": [
      "\r\u001b[32mProgress: Tumor size  3596 \t Time: 0:00:02\u001b[39m\u001b[K"
     ]
    },
    {
     "name": "stderr",
     "output_type": "stream",
     "text": [
      "\r\u001b[32mProgress: Tumor size  3673 \t Time: 0:00:02\u001b[39m\u001b[K"
     ]
    },
    {
     "name": "stderr",
     "output_type": "stream",
     "text": [
      "\r\u001b[32mProgress: Tumor size  3747 \t Time: 0:00:03\u001b[39m\u001b[K"
     ]
    },
    {
     "name": "stderr",
     "output_type": "stream",
     "text": [
      "\r\u001b[32mProgress: Tumor size  3804 \t Time: 0:00:03\u001b[39m\u001b[K"
     ]
    },
    {
     "name": "stderr",
     "output_type": "stream",
     "text": [
      "\r\u001b[32mProgress: Tumor size  3868 \t Time: 0:00:03\u001b[39m\u001b[K"
     ]
    },
    {
     "name": "stderr",
     "output_type": "stream",
     "text": [
      "\r\u001b[32mProgress: Tumor size  3929 \t Time: 0:00:03\u001b[39m\u001b[K"
     ]
    },
    {
     "name": "stderr",
     "output_type": "stream",
     "text": [
      "\r\u001b[32mProgress: Tumor size  3994 \t Time: 0:00:03\u001b[39m\u001b[K"
     ]
    },
    {
     "data": {
      "text/html": [
       "<table class=\"data-frame\"><thead><tr><th></th><th>index</th><th>position</th><th>mutations</th><th>parent</th><th>b</th><th>t_birth</th></tr><tr><th></th><th>Int64</th><th>Array…</th><th>Array…</th><th>Int64</th><th>Float64</th><th>Float64</th></tr></thead><tbody><p>4,000 rows × 7 columns (omitted printing of 1 columns)</p><tr><th>1</th><td>4</td><td>[-17.0279, -0.0944228, -3.1618]</td><td>[4]</td><td>2</td><td>1.0</td><td>4.87684</td></tr><tr><th>2</th><td>10</td><td>[-3.83604, 11.6934, -9.82333]</td><td>[5]</td><td>9</td><td>1.0</td><td>6.95355</td></tr><tr><th>3</th><td>13</td><td>[4.56276, 8.84815, 8.9415]</td><td>[7, 21]</td><td>9</td><td>1.0</td><td>7.63742</td></tr><tr><th>4</th><td>14</td><td>[11.529, 10.2096, -2.84196]</td><td>[11, 984]</td><td>13</td><td>1.0</td><td>7.64333</td></tr><tr><th>5</th><td>16</td><td>[9.56642, -14.8992, -1.81125]</td><td>[]</td><td>15</td><td>1.0</td><td>7.87434</td></tr><tr><th>6</th><td>18</td><td>[-6.63023, 17.424, 0.521025]</td><td>[843]</td><td>14</td><td>1.0</td><td>7.98299</td></tr><tr><th>7</th><td>21</td><td>[-2.66822, -13.0479, -5.78213]</td><td>[1, 119, 136]</td><td>2</td><td>1.0</td><td>8.02655</td></tr><tr><th>8</th><td>27</td><td>[1.66569, -7.22833, 10.8225]</td><td>[347]</td><td>13</td><td>1.0</td><td>8.22172</td></tr><tr><th>9</th><td>35</td><td>[10.3418, 1.6289, -1.88615]</td><td>[111]</td><td>27</td><td>1.0</td><td>8.65431</td></tr><tr><th>10</th><td>36</td><td>[-2.52588, -13.6937, 3.83041]</td><td>[1]</td><td>30</td><td>1.0</td><td>8.67403</td></tr><tr><th>11</th><td>38</td><td>[-6.10534, 21.9653, 8.3975]</td><td>[5]</td><td>29</td><td>1.0</td><td>8.78192</td></tr><tr><th>12</th><td>39</td><td>[-0.568238, -16.1745, 3.33601]</td><td>[1]</td><td>21</td><td>1.0</td><td>8.84906</td></tr><tr><th>13</th><td>41</td><td>[-2.93833, -1.7549, 12.6967]</td><td>[1, 23]</td><td>39</td><td>1.0</td><td>8.93499</td></tr><tr><th>14</th><td>42</td><td>[18.0469, 9.78564, 7.65049]</td><td>[33]</td><td>18</td><td>1.0</td><td>8.95399</td></tr><tr><th>15</th><td>45</td><td>[14.176, 0.742302, -4.41219]</td><td>[1, 9, 329]</td><td>30</td><td>1.0</td><td>9.04415</td></tr><tr><th>16</th><td>48</td><td>[11.8975, -3.91408, -0.640963]</td><td>[1, 14]</td><td>40</td><td>1.0</td><td>9.12393</td></tr><tr><th>17</th><td>49</td><td>[-4.07773, 14.585, 4.22995]</td><td>[]</td><td>14</td><td>1.0</td><td>9.13463</td></tr><tr><th>18</th><td>52</td><td>[-3.78627, 9.64907, 14.0916]</td><td>[73]</td><td>49</td><td>1.0</td><td>9.22466</td></tr><tr><th>19</th><td>53</td><td>[2.51944, 16.7997, 3.45747]</td><td>[11, 38, 98]</td><td>14</td><td>1.0</td><td>9.24933</td></tr><tr><th>20</th><td>55</td><td>[0.238853, 7.04951, -7.84552]</td><td>[5, 1156]</td><td>10</td><td>1.0</td><td>9.28369</td></tr><tr><th>21</th><td>59</td><td>[9.76079, 8.59899, -12.5274]</td><td>[11]</td><td>14</td><td>1.0</td><td>9.35323</td></tr><tr><th>22</th><td>60</td><td>[10.8996, 19.597, 5.10492]</td><td>[7]</td><td>54</td><td>1.0</td><td>9.35872</td></tr><tr><th>23</th><td>67</td><td>[-6.38881, 11.183, 8.70085]</td><td>[5]</td><td>63</td><td>1.0</td><td>9.44625</td></tr><tr><th>24</th><td>77</td><td>[15.8891, -4.77143, 8.06282]</td><td>[]</td><td>27</td><td>1.0</td><td>9.54965</td></tr><tr><th>&vellip;</th><td>&vellip;</td><td>&vellip;</td><td>&vellip;</td><td>&vellip;</td><td>&vellip;</td><td>&vellip;</td></tr></tbody></table>"
      ],
      "text/latex": [
       "\\begin{tabular}{r|ccccccc}\n",
       "\t& index & position & mutations & parent & b & t\\_birth & \\\\\n",
       "\t\\hline\n",
       "\t& Int64 & Array… & Array… & Int64 & Float64 & Float64 & \\\\\n",
       "\t\\hline\n",
       "\t1 & 4 & [-17.0279, -0.0944228, -3.1618] & [4] & 2 & 1.0 & 4.87684 & $\\dots$ \\\\\n",
       "\t2 & 10 & [-3.83604, 11.6934, -9.82333] & [5] & 9 & 1.0 & 6.95355 & $\\dots$ \\\\\n",
       "\t3 & 13 & [4.56276, 8.84815, 8.9415] & [7, 21] & 9 & 1.0 & 7.63742 & $\\dots$ \\\\\n",
       "\t4 & 14 & [11.529, 10.2096, -2.84196] & [11, 984] & 13 & 1.0 & 7.64333 & $\\dots$ \\\\\n",
       "\t5 & 16 & [9.56642, -14.8992, -1.81125] & [] & 15 & 1.0 & 7.87434 & $\\dots$ \\\\\n",
       "\t6 & 18 & [-6.63023, 17.424, 0.521025] & [843] & 14 & 1.0 & 7.98299 & $\\dots$ \\\\\n",
       "\t7 & 21 & [-2.66822, -13.0479, -5.78213] & [1, 119, 136] & 2 & 1.0 & 8.02655 & $\\dots$ \\\\\n",
       "\t8 & 27 & [1.66569, -7.22833, 10.8225] & [347] & 13 & 1.0 & 8.22172 & $\\dots$ \\\\\n",
       "\t9 & 35 & [10.3418, 1.6289, -1.88615] & [111] & 27 & 1.0 & 8.65431 & $\\dots$ \\\\\n",
       "\t10 & 36 & [-2.52588, -13.6937, 3.83041] & [1] & 30 & 1.0 & 8.67403 & $\\dots$ \\\\\n",
       "\t11 & 38 & [-6.10534, 21.9653, 8.3975] & [5] & 29 & 1.0 & 8.78192 & $\\dots$ \\\\\n",
       "\t12 & 39 & [-0.568238, -16.1745, 3.33601] & [1] & 21 & 1.0 & 8.84906 & $\\dots$ \\\\\n",
       "\t13 & 41 & [-2.93833, -1.7549, 12.6967] & [1, 23] & 39 & 1.0 & 8.93499 & $\\dots$ \\\\\n",
       "\t14 & 42 & [18.0469, 9.78564, 7.65049] & [33] & 18 & 1.0 & 8.95399 & $\\dots$ \\\\\n",
       "\t15 & 45 & [14.176, 0.742302, -4.41219] & [1, 9, 329] & 30 & 1.0 & 9.04415 & $\\dots$ \\\\\n",
       "\t16 & 48 & [11.8975, -3.91408, -0.640963] & [1, 14] & 40 & 1.0 & 9.12393 & $\\dots$ \\\\\n",
       "\t17 & 49 & [-4.07773, 14.585, 4.22995] & [] & 14 & 1.0 & 9.13463 & $\\dots$ \\\\\n",
       "\t18 & 52 & [-3.78627, 9.64907, 14.0916] & [73] & 49 & 1.0 & 9.22466 & $\\dots$ \\\\\n",
       "\t19 & 53 & [2.51944, 16.7997, 3.45747] & [11, 38, 98] & 14 & 1.0 & 9.24933 & $\\dots$ \\\\\n",
       "\t20 & 55 & [0.238853, 7.04951, -7.84552] & [5, 1156] & 10 & 1.0 & 9.28369 & $\\dots$ \\\\\n",
       "\t21 & 59 & [9.76079, 8.59899, -12.5274] & [11] & 14 & 1.0 & 9.35323 & $\\dots$ \\\\\n",
       "\t22 & 60 & [10.8996, 19.597, 5.10492] & [7] & 54 & 1.0 & 9.35872 & $\\dots$ \\\\\n",
       "\t23 & 67 & [-6.38881, 11.183, 8.70085] & [5] & 63 & 1.0 & 9.44625 & $\\dots$ \\\\\n",
       "\t24 & 77 & [15.8891, -4.77143, 8.06282] & [] & 27 & 1.0 & 9.54965 & $\\dots$ \\\\\n",
       "\t$\\dots$ & $\\dots$ & $\\dots$ & $\\dots$ & $\\dots$ & $\\dots$ & $\\dots$ &  \\\\\n",
       "\\end{tabular}\n"
      ],
      "text/plain": [
       "\u001b[1m4000×7 DataFrame\u001b[0m\n",
       "\u001b[1m  Row \u001b[0m│\u001b[1m index \u001b[0m\u001b[1m position                        \u001b[0m\u001b[1m mutations                     \u001b[0m\u001b[1m\u001b[0m ⋯\n",
       "\u001b[1m      \u001b[0m│\u001b[90m Int64 \u001b[0m\u001b[90m Array…                          \u001b[0m\u001b[90m Array…                        \u001b[0m\u001b[90m\u001b[0m ⋯\n",
       "──────┼─────────────────────────────────────────────────────────────────────────\n",
       "    1 │     4  [-17.0279, -0.0944228, -3.1618]  [4]                            ⋯\n",
       "    2 │    10  [-3.83604, 11.6934, -9.82333]    [5]\n",
       "    3 │    13  [4.56276, 8.84815, 8.9415]       [7, 21]\n",
       "    4 │    14  [11.529, 10.2096, -2.84196]      [11, 984]\n",
       "    5 │    16  [9.56642, -14.8992, -1.81125]    Int64[]                        ⋯\n",
       "    6 │    18  [-6.63023, 17.424, 0.521025]     [843]\n",
       "    7 │    21  [-2.66822, -13.0479, -5.78213]   [1, 119, 136]\n",
       "    8 │    27  [1.66569, -7.22833, 10.8225]     [347]\n",
       "  ⋮   │   ⋮                   ⋮                               ⋮                ⋱\n",
       " 3994 │  4969  [-0.673374, -8.68505, 0.484497]  [1, 9]                         ⋯\n",
       " 3995 │  4970  [-4.37831, -4.30498, -17.83]     [1, 9, 415]\n",
       " 3996 │  4971  [3.46819, -2.73788, 14.1259]     [48, 92, 1459]\n",
       " 3997 │  4972  [-1.68272, 8.09834, -0.284231]   [651, 1388]\n",
       " 3998 │  4973  [-3.57423, -17.384, -2.23489]    [1, 106, 1296]                 ⋯\n",
       " 3999 │  4974  [0.0286978, 16.6713, 7.84193]    [11, 38, 99, 317, 318, 1461]\n",
       " 4000 │  4975  [-5.57216, 5.25419, 8.60072]     [5, 13]\n",
       "\u001b[36m                                                 4 columns and 3985 rows omitted\u001b[0m"
      ]
     },
     "metadata": {},
     "output_type": "display_data"
    }
   ],
   "source": [
    "params = (b=1., d=0.2, μ=0.3, ρ=Inf, dim=3)\n",
    "tumor = birth_death_pushing(4000; params...)[:tumor] |> DataFrame;"
   ]
  },
  {
   "cell_type": "code",
   "execution_count": 32,
   "metadata": {},
   "outputs": [
    {
     "data": {
      "text/plain": [
       "M (generic function with 1 method)"
      ]
     },
     "metadata": {},
     "output_type": "display_data"
    }
   ],
   "source": [
    "function M!(fig, f; res=0.0, nBins = 100, normalize=false, plotargs...)\n",
    "        hist = fit(Histogram, 1 ./ f[res.<f], nbins=nBins, closed=:left)\n",
    "        Mcounts = [ sum(hist.weights[1:n]) for n=1:length(hist.weights)]\n",
    "        Mcounts = normalize ? Mcounts ./ last(Mcounts) : Mcounts\n",
    "        Plots.plot!(fig, midpoints(hist.edges[1]), Mcounts; plotargs...)\n",
    "end\n",
    "M(f; res=0.0, nBins = 100, normalize=false, plotargs...) = M!(Plots.plot(), f; res=res, nBins = nBins, normalize=normalize, plotargs...)"
   ]
  },
  {
   "cell_type": "code",
   "execution_count": 33,
   "metadata": {},
   "outputs": [
    {
     "data": {
      "image/png": "[encoded data removed]",
      "image/svg+xml": "<?xml version=\"1.0\" encoding=\"utf-8\"?>\n<svg xmlns=\"http://www.w3.org/2000/svg\" xmlns:xlink=\"http://www.w3.org/1999/xlink\" width=\"600\" height=\"400\" viewBox=\"0 0 2400 1600\">\n<defs>\n  <clipPath id=\"clip040\">\n    <rect x=\"0\" y=\"0\" width=\"2400\" height=\"1600\"/>\n  </clipPath>\n</defs>\n<path clip-path=\"url(#clip040)\" d=\"\nM0 1600 L2400 1600 L2400 0 L0 0  Z\n  \" fill=\"#ffffff\" fill-rule=\"evenodd\" fill-opacity=\"1\"/>\n<defs>\n  <clipPath id=\"clip041\">\n    <rect x=\"480\" y=\"0\" width=\"1681\" height=\"1600\"/>\n  </clipPath>\n</defs>\n<path clip-path=\"url(#clip040)\" d=\"\nM235.283 1423.18 L2352.76 1423.18 L2352.76 47.2441 L235.283 47.2441  Z\n  \" fill=\"#ffffff\" fill-rule=\"evenodd\" fill-opacity=\"1\"/>\n<defs>\n  <clipPath id=\"clip042\">\n    <rect x=\"235\" y=\"47\" width=\"2118\" height=\"1377\"/>\n  </clipPath>\n</defs>\n<polyline clip-path=\"url(#clip042)\" style=\"stroke:#000000; stroke-linecap:butt; stroke-linejoin:round; stroke-width:2; stroke-opacity:0.1; fill:none\" points=\"\n  293.714,1423.18 293.714,47.2441 \n  \"/>\n<polyline clip-path=\"url(#clip042)\" style=\"stroke:#000000; stroke-linecap:butt; stroke-linejoin:round; stroke-width:2; stroke-opacity:0.1; fill:none\" points=\"\n  593.207,1423.18 593.207,47.2441 \n  \"/>\n<polyline clip-path=\"url(#clip042)\" style=\"stroke:#000000; stroke-linecap:butt; stroke-linejoin:round; stroke-width:2; stroke-opacity:0.1; fill:none\" points=\"\n  892.699,1423.18 892.699,47.2441 \n  \"/>\n<polyline clip-path=\"url(#clip042)\" style=\"stroke:#000000; stroke-linecap:butt; stroke-linejoin:round; stroke-width:2; stroke-opacity:0.1; fill:none\" points=\"\n  1192.19,1423.18 1192.19,47.2441 \n  \"/>\n<polyline clip-path=\"url(#clip042)\" style=\"stroke:#000000; stroke-linecap:butt; stroke-linejoin:round; stroke-width:2; stroke-opacity:0.1; fill:none\" points=\"\n  1491.68,1423.18 1491.68,47.2441 \n  \"/>\n<polyline clip-path=\"url(#clip042)\" style=\"stroke:#000000; stroke-linecap:butt; stroke-linejoin:round; stroke-width:2; stroke-opacity:0.1; fill:none\" points=\"\n  1791.18,1423.18 1791.18,47.2441 \n  \"/>\n<polyline clip-path=\"url(#clip042)\" style=\"stroke:#000000; stroke-linecap:butt; stroke-linejoin:round; stroke-width:2; stroke-opacity:0.1; fill:none\" points=\"\n  2090.67,1423.18 2090.67,47.2441 \n  \"/>\n<polyline clip-path=\"url(#clip040)\" style=\"stroke:#000000; stroke-linecap:butt; stroke-linejoin:round; stroke-width:4; stroke-opacity:1; fill:none\" points=\"\n  235.283,1423.18 2352.76,1423.18 \n  \"/>\n<polyline clip-path=\"url(#clip040)\" style=\"stroke:#000000; stroke-linecap:butt; stroke-linejoin:round; stroke-width:4; stroke-opacity:1; fill:none\" points=\"\n  293.714,1423.18 293.714,1406.67 \n  \"/>\n<polyline clip-path=\"url(#clip040)\" style=\"stroke:#000000; stroke-linecap:butt; stroke-linejoin:round; stroke-width:4; stroke-opacity:1; fill:none\" points=\"\n  593.207,1423.18 593.207,1406.67 \n  \"/>\n<polyline clip-path=\"url(#clip040)\" style=\"stroke:#000000; stroke-linecap:butt; stroke-linejoin:round; stroke-width:4; stroke-opacity:1; fill:none\" points=\"\n  892.699,1423.18 892.699,1406.67 \n  \"/>\n<polyline clip-path=\"url(#clip040)\" style=\"stroke:#000000; stroke-linecap:butt; stroke-linejoin:round; stroke-width:4; stroke-opacity:1; fill:none\" points=\"\n  1192.19,1423.18 1192.19,1406.67 \n  \"/>\n<polyline clip-path=\"url(#clip040)\" style=\"stroke:#000000; stroke-linecap:butt; stroke-linejoin:round; stroke-width:4; stroke-opacity:1; fill:none\" points=\"\n  1491.68,1423.18 1491.68,1406.67 \n  \"/>\n<polyline clip-path=\"url(#clip040)\" style=\"stroke:#000000; stroke-linecap:butt; stroke-linejoin:round; stroke-width:4; stroke-opacity:1; fill:none\" points=\"\n  1791.18,1423.18 1791.18,1406.67 \n  \"/>\n<polyline clip-path=\"url(#clip040)\" style=\"stroke:#000000; stroke-linecap:butt; stroke-linejoin:round; stroke-width:4; stroke-opacity:1; fill:none\" points=\"\n  2090.67,1423.18 2090.67,1406.67 \n  \"/>\n<path clip-path=\"url(#clip040)\" d=\"M293.714 1452.37 Q290.103 1452.37 288.274 1455.94 Q286.469 1459.48 286.469 1466.61 Q286.469 1473.71 288.274 1477.28 Q290.103 1480.82 293.714 1480.82 Q297.348 1480.82 299.154 1477.28 Q300.982 1473.71 300.982 1466.61 Q300.982 1459.48 299.154 1455.94 Q297.348 1452.37 293.714 1452.37 M293.714 1448.67 Q299.524 1448.67 302.58 1453.27 Q305.658 1457.86 305.658 1466.61 Q305.658 1475.33 302.58 1479.94 Q299.524 1484.52 293.714 1484.52 Q287.904 1484.52 284.825 1479.94 Q281.769 1475.33 281.769 1466.61 Q281.769 1457.86 284.825 1453.27 Q287.904 1448.67 293.714 1448.67 Z\" fill=\"#000000\" fill-rule=\"evenodd\" fill-opacity=\"1\" /><path clip-path=\"url(#clip040)\" d=\"M556.899 1479.92 L573.218 1479.92 L573.218 1483.85 L551.274 1483.85 L551.274 1479.92 Q553.936 1477.16 558.519 1472.53 Q563.126 1467.88 564.306 1466.54 Q566.552 1464.01 567.431 1462.28 Q568.334 1460.52 568.334 1458.83 Q568.334 1456.07 566.39 1454.34 Q564.468 1452.6 561.366 1452.6 Q559.167 1452.6 556.714 1453.37 Q554.283 1454.13 551.505 1455.68 L551.505 1450.96 Q554.329 1449.82 556.783 1449.25 Q559.237 1448.67 561.274 1448.67 Q566.644 1448.67 569.839 1451.35 Q573.033 1454.04 573.033 1458.53 Q573.033 1460.66 572.223 1462.58 Q571.436 1464.48 569.329 1467.07 Q568.751 1467.74 565.649 1470.96 Q562.547 1474.15 556.899 1479.92 Z\" fill=\"#000000\" fill-rule=\"evenodd\" fill-opacity=\"1\" /><path clip-path=\"url(#clip040)\" d=\"M593.033 1452.37 Q589.422 1452.37 587.593 1455.94 Q585.788 1459.48 585.788 1466.61 Q585.788 1473.71 587.593 1477.28 Q589.422 1480.82 593.033 1480.82 Q596.667 1480.82 598.473 1477.28 Q600.301 1473.71 600.301 1466.61 Q600.301 1459.48 598.473 1455.94 Q596.667 1452.37 593.033 1452.37 M593.033 1448.67 Q598.843 1448.67 601.899 1453.27 Q604.977 1457.86 604.977 1466.61 Q604.977 1475.33 601.899 1479.94 Q598.843 1484.52 593.033 1484.52 Q587.223 1484.52 584.144 1479.94 Q581.089 1475.33 581.089 1466.61 Q581.089 1457.86 584.144 1453.27 Q587.223 1448.67 593.033 1448.67 Z\" fill=\"#000000\" fill-rule=\"evenodd\" fill-opacity=\"1\" /><path clip-path=\"url(#clip040)\" d=\"M623.195 1452.37 Q619.584 1452.37 617.755 1455.94 Q615.949 1459.48 615.949 1466.61 Q615.949 1473.71 617.755 1477.28 Q619.584 1480.82 623.195 1480.82 Q626.829 1480.82 628.635 1477.28 Q630.463 1473.71 630.463 1466.61 Q630.463 1459.48 628.635 1455.94 Q626.829 1452.37 623.195 1452.37 M623.195 1448.67 Q629.005 1448.67 632.06 1453.27 Q635.139 1457.86 635.139 1466.61 Q635.139 1475.33 632.06 1479.94 Q629.005 1484.52 623.195 1484.52 Q617.385 1484.52 614.306 1479.94 Q611.25 1475.33 611.25 1466.61 Q611.25 1457.86 614.306 1453.27 Q617.385 1448.67 623.195 1448.67 Z\" fill=\"#000000\" fill-rule=\"evenodd\" fill-opacity=\"1\" /><path clip-path=\"url(#clip040)\" d=\"M865.79 1453.37 L853.984 1471.81 L865.79 1471.81 L865.79 1453.37 M864.563 1449.29 L870.442 1449.29 L870.442 1471.81 L875.373 1471.81 L875.373 1475.7 L870.442 1475.7 L870.442 1483.85 L865.79 1483.85 L865.79 1475.7 L850.188 1475.7 L850.188 1471.19 L864.563 1449.29 Z\" fill=\"#000000\" fill-rule=\"evenodd\" fill-opacity=\"1\" /><path clip-path=\"url(#clip040)\" d=\"M893.104 1452.37 Q889.493 1452.37 887.665 1455.94 Q885.859 1459.48 885.859 1466.61 Q885.859 1473.71 887.665 1477.28 Q889.493 1480.82 893.104 1480.82 Q896.739 1480.82 898.544 1477.28 Q900.373 1473.71 900.373 1466.61 Q900.373 1459.48 898.544 1455.94 Q896.739 1452.37 893.104 1452.37 M893.104 1448.67 Q898.914 1448.67 901.97 1453.27 Q905.049 1457.86 905.049 1466.61 Q905.049 1475.33 901.97 1479.94 Q898.914 1484.52 893.104 1484.52 Q887.294 1484.52 884.215 1479.94 Q881.16 1475.33 881.16 1466.61 Q881.16 1457.86 884.215 1453.27 Q887.294 1448.67 893.104 1448.67 Z\" fill=\"#000000\" fill-rule=\"evenodd\" fill-opacity=\"1\" /><path clip-path=\"url(#clip040)\" d=\"M923.266 1452.37 Q919.655 1452.37 917.826 1455.94 Q916.021 1459.48 916.021 1466.61 Q916.021 1473.71 917.826 1477.28 Q919.655 1480.82 923.266 1480.82 Q926.9 1480.82 928.706 1477.28 Q930.535 1473.71 930.535 1466.61 Q930.535 1459.48 928.706 1455.94 Q926.9 1452.37 923.266 1452.37 M923.266 1448.67 Q929.076 1448.67 932.132 1453.27 Q935.211 1457.86 935.211 1466.61 Q935.211 1475.33 932.132 1479.94 Q929.076 1484.52 923.266 1484.52 Q917.456 1484.52 914.377 1479.94 Q911.322 1475.33 911.322 1466.61 Q911.322 1457.86 914.377 1453.27 Q917.456 1448.67 923.266 1448.67 Z\" fill=\"#000000\" fill-rule=\"evenodd\" fill-opacity=\"1\" /><path clip-path=\"url(#clip040)\" d=\"M1162.52 1464.71 Q1159.37 1464.71 1157.52 1466.86 Q1155.69 1469.01 1155.69 1472.76 Q1155.69 1476.49 1157.52 1478.67 Q1159.37 1480.82 1162.52 1480.82 Q1165.66 1480.82 1167.49 1478.67 Q1169.34 1476.49 1169.34 1472.76 Q1169.34 1469.01 1167.49 1466.86 Q1165.66 1464.71 1162.52 1464.71 M1171.8 1450.06 L1171.8 1454.31 Q1170.04 1453.48 1168.23 1453.04 Q1166.45 1452.6 1164.69 1452.6 Q1160.06 1452.6 1157.61 1455.73 Q1155.18 1458.85 1154.83 1465.17 Q1156.2 1463.16 1158.26 1462.09 Q1160.32 1461 1162.79 1461 Q1168 1461 1171.01 1464.18 Q1174.04 1467.32 1174.04 1472.76 Q1174.04 1478.09 1170.9 1481.31 Q1167.75 1484.52 1162.52 1484.52 Q1156.52 1484.52 1153.35 1479.94 Q1150.18 1475.33 1150.18 1466.61 Q1150.18 1458.41 1154.07 1453.55 Q1157.96 1448.67 1164.51 1448.67 Q1166.27 1448.67 1168.05 1449.01 Q1169.85 1449.36 1171.8 1450.06 Z\" fill=\"#000000\" fill-rule=\"evenodd\" fill-opacity=\"1\" /><path clip-path=\"url(#clip040)\" d=\"M1192.1 1452.37 Q1188.49 1452.37 1186.66 1455.94 Q1184.85 1459.48 1184.85 1466.61 Q1184.85 1473.71 1186.66 1477.28 Q1188.49 1480.82 1192.1 1480.82 Q1195.73 1480.82 1197.54 1477.28 Q1199.37 1473.71 1199.37 1466.61 Q1199.37 1459.48 1197.54 1455.94 Q1195.73 1452.37 1192.1 1452.37 M1192.1 1448.67 Q1197.91 1448.67 1200.96 1453.27 Q1204.04 1457.86 1204.04 1466.61 Q1204.04 1475.33 1200.96 1479.94 Q1197.91 1484.52 1192.1 1484.52 Q1186.29 1484.52 1183.21 1479.94 Q1180.15 1475.33 1180.15 1466.61 Q1180.15 1457.86 1183.21 1453.27 Q1186.29 1448.67 1192.1 1448.67 Z\" fill=\"#000000\" fill-rule=\"evenodd\" fill-opacity=\"1\" /><path clip-path=\"url(#clip040)\" d=\"M1222.26 1452.37 Q1218.65 1452.37 1216.82 1455.94 Q1215.02 1459.48 1215.02 1466.61 Q1215.02 1473.71 1216.82 1477.28 Q1218.65 1480.82 1222.26 1480.82 Q1225.9 1480.82 1227.7 1477.28 Q1229.53 1473.71 1229.53 1466.61 Q1229.53 1459.48 1227.7 1455.94 Q1225.9 1452.37 1222.26 1452.37 M1222.26 1448.67 Q1228.07 1448.67 1231.13 1453.27 Q1234.21 1457.86 1234.21 1466.61 Q1234.21 1475.33 1231.13 1479.94 Q1228.07 1484.52 1222.26 1484.52 Q1216.45 1484.52 1213.37 1479.94 Q1210.32 1475.33 1210.32 1466.61 Q1210.32 1457.86 1213.37 1453.27 Q1216.45 1448.67 1222.26 1448.67 Z\" fill=\"#000000\" fill-rule=\"evenodd\" fill-opacity=\"1\" /><path clip-path=\"url(#clip040)\" d=\"M1461.48 1467.44 Q1458.14 1467.44 1456.22 1469.22 Q1454.32 1471 1454.32 1474.13 Q1454.32 1477.25 1456.22 1479.04 Q1458.14 1480.82 1461.48 1480.82 Q1464.81 1480.82 1466.73 1479.04 Q1468.65 1477.23 1468.65 1474.13 Q1468.65 1471 1466.73 1469.22 Q1464.83 1467.44 1461.48 1467.44 M1456.8 1465.45 Q1453.79 1464.71 1452.1 1462.65 Q1450.43 1460.59 1450.43 1457.63 Q1450.43 1453.48 1453.37 1451.07 Q1456.34 1448.67 1461.48 1448.67 Q1466.64 1448.67 1469.58 1451.07 Q1472.52 1453.48 1472.52 1457.63 Q1472.52 1460.59 1470.83 1462.65 Q1469.16 1464.71 1466.18 1465.45 Q1469.56 1466.24 1471.43 1468.53 Q1473.33 1470.82 1473.33 1474.13 Q1473.33 1479.15 1470.25 1481.84 Q1467.19 1484.52 1461.48 1484.52 Q1455.76 1484.52 1452.68 1481.84 Q1449.62 1479.15 1449.62 1474.13 Q1449.62 1470.82 1451.52 1468.53 Q1453.42 1466.24 1456.8 1465.45 M1455.09 1458.06 Q1455.09 1460.75 1456.75 1462.25 Q1458.44 1463.76 1461.48 1463.76 Q1464.49 1463.76 1466.18 1462.25 Q1467.89 1460.75 1467.89 1458.06 Q1467.89 1455.38 1466.18 1453.88 Q1464.49 1452.37 1461.48 1452.37 Q1458.44 1452.37 1456.75 1453.88 Q1455.09 1455.38 1455.09 1458.06 Z\" fill=\"#000000\" fill-rule=\"evenodd\" fill-opacity=\"1\" /><path clip-path=\"url(#clip040)\" d=\"M1491.64 1452.37 Q1488.03 1452.37 1486.2 1455.94 Q1484.39 1459.48 1484.39 1466.61 Q1484.39 1473.71 1486.2 1477.28 Q1488.03 1480.82 1491.64 1480.82 Q1495.27 1480.82 1497.08 1477.28 Q1498.91 1473.71 1498.91 1466.61 Q1498.91 1459.48 1497.08 1455.94 Q1495.27 1452.37 1491.64 1452.37 M1491.64 1448.67 Q1497.45 1448.67 1500.5 1453.27 Q1503.58 1457.86 1503.58 1466.61 Q1503.58 1475.33 1500.5 1479.94 Q1497.45 1484.52 1491.64 1484.52 Q1485.83 1484.52 1482.75 1479.94 Q1479.69 1475.33 1479.69 1466.61 Q1479.69 1457.86 1482.75 1453.27 Q1485.83 1448.67 1491.64 1448.67 Z\" fill=\"#000000\" fill-rule=\"evenodd\" fill-opacity=\"1\" /><path clip-path=\"url(#clip040)\" d=\"M1521.8 1452.37 Q1518.19 1452.37 1516.36 1455.94 Q1514.55 1459.48 1514.55 1466.61 Q1514.55 1473.71 1516.36 1477.28 Q1518.19 1480.82 1521.8 1480.82 Q1525.43 1480.82 1527.24 1477.28 Q1529.07 1473.71 1529.07 1466.61 Q1529.07 1459.48 1527.24 1455.94 Q1525.43 1452.37 1521.8 1452.37 M1521.8 1448.67 Q1527.61 1448.67 1530.67 1453.27 Q1533.74 1457.86 1533.74 1466.61 Q1533.74 1475.33 1530.67 1479.94 Q1527.61 1484.52 1521.8 1484.52 Q1515.99 1484.52 1512.91 1479.94 Q1509.86 1475.33 1509.86 1466.61 Q1509.86 1457.86 1512.91 1453.27 Q1515.99 1448.67 1521.8 1448.67 Z\" fill=\"#000000\" fill-rule=\"evenodd\" fill-opacity=\"1\" /><path clip-path=\"url(#clip040)\" d=\"M1735.7 1479.92 L1743.34 1479.92 L1743.34 1453.55 L1735.03 1455.22 L1735.03 1450.96 L1743.3 1449.29 L1747.97 1449.29 L1747.97 1479.92 L1755.61 1479.92 L1755.61 1483.85 L1735.7 1483.85 L1735.7 1479.92 Z\" fill=\"#000000\" fill-rule=\"evenodd\" fill-opacity=\"1\" /><path clip-path=\"url(#clip040)\" d=\"M1775.05 1452.37 Q1771.44 1452.37 1769.61 1455.94 Q1767.81 1459.48 1767.81 1466.61 Q1767.81 1473.71 1769.61 1477.28 Q1771.44 1480.82 1775.05 1480.82 Q1778.69 1480.82 1780.49 1477.28 Q1782.32 1473.71 1782.32 1466.61 Q1782.32 1459.48 1780.49 1455.94 Q1778.69 1452.37 1775.05 1452.37 M1775.05 1448.67 Q1780.86 1448.67 1783.92 1453.27 Q1787 1457.86 1787 1466.61 Q1787 1475.33 1783.92 1479.94 Q1780.86 1484.52 1775.05 1484.52 Q1769.24 1484.52 1766.17 1479.94 Q1763.11 1475.33 1763.11 1466.61 Q1763.11 1457.86 1766.17 1453.27 Q1769.24 1448.67 1775.05 1448.67 Z\" fill=\"#000000\" fill-rule=\"evenodd\" fill-opacity=\"1\" /><path clip-path=\"url(#clip040)\" d=\"M1805.22 1452.37 Q1801.61 1452.37 1799.78 1455.94 Q1797.97 1459.48 1797.97 1466.61 Q1797.97 1473.71 1799.78 1477.28 Q1801.61 1480.82 1805.22 1480.82 Q1808.85 1480.82 1810.66 1477.28 Q1812.48 1473.71 1812.48 1466.61 Q1812.48 1459.48 1810.66 1455.94 Q1808.85 1452.37 1805.22 1452.37 M1805.22 1448.67 Q1811.03 1448.67 1814.08 1453.27 Q1817.16 1457.86 1817.16 1466.61 Q1817.16 1475.33 1814.08 1479.94 Q1811.03 1484.52 1805.22 1484.52 Q1799.41 1484.52 1796.33 1479.94 Q1793.27 1475.33 1793.27 1466.61 Q1793.27 1457.86 1796.33 1453.27 Q1799.41 1448.67 1805.22 1448.67 Z\" fill=\"#000000\" fill-rule=\"evenodd\" fill-opacity=\"1\" /><path clip-path=\"url(#clip040)\" d=\"M1835.38 1452.37 Q1831.77 1452.37 1829.94 1455.94 Q1828.13 1459.48 1828.13 1466.61 Q1828.13 1473.71 1829.94 1477.28 Q1831.77 1480.82 1835.38 1480.82 Q1839.01 1480.82 1840.82 1477.28 Q1842.65 1473.71 1842.65 1466.61 Q1842.65 1459.48 1840.82 1455.94 Q1839.01 1452.37 1835.38 1452.37 M1835.38 1448.67 Q1841.19 1448.67 1844.24 1453.27 Q1847.32 1457.86 1847.32 1466.61 Q1847.32 1475.33 1844.24 1479.94 Q1841.19 1484.52 1835.38 1484.52 Q1829.57 1484.52 1826.49 1479.94 Q1823.43 1475.33 1823.43 1466.61 Q1823.43 1457.86 1826.49 1453.27 Q1829.57 1448.67 1835.38 1448.67 Z\" fill=\"#000000\" fill-rule=\"evenodd\" fill-opacity=\"1\" /><path clip-path=\"url(#clip040)\" d=\"M2035.2 1479.92 L2042.83 1479.92 L2042.83 1453.55 L2034.52 1455.22 L2034.52 1450.96 L2042.79 1449.29 L2047.46 1449.29 L2047.46 1479.92 L2055.1 1479.92 L2055.1 1483.85 L2035.2 1483.85 L2035.2 1479.92 Z\" fill=\"#000000\" fill-rule=\"evenodd\" fill-opacity=\"1\" /><path clip-path=\"url(#clip040)\" d=\"M2068.58 1479.92 L2084.89 1479.92 L2084.89 1483.85 L2062.95 1483.85 L2062.95 1479.92 Q2065.61 1477.16 2070.2 1472.53 Q2074.8 1467.88 2075.98 1466.54 Q2078.23 1464.01 2079.11 1462.28 Q2080.01 1460.52 2080.01 1458.83 Q2080.01 1456.07 2078.07 1454.34 Q2076.14 1452.6 2073.04 1452.6 Q2070.84 1452.6 2068.39 1453.37 Q2065.96 1454.13 2063.18 1455.68 L2063.18 1450.96 Q2066.01 1449.82 2068.46 1449.25 Q2070.91 1448.67 2072.95 1448.67 Q2078.32 1448.67 2081.51 1451.35 Q2084.71 1454.04 2084.71 1458.53 Q2084.71 1460.66 2083.9 1462.58 Q2083.11 1464.48 2081.01 1467.07 Q2080.43 1467.74 2077.33 1470.96 Q2074.22 1474.15 2068.58 1479.92 Z\" fill=\"#000000\" fill-rule=\"evenodd\" fill-opacity=\"1\" /><path clip-path=\"url(#clip040)\" d=\"M2104.71 1452.37 Q2101.1 1452.37 2099.27 1455.94 Q2097.46 1459.48 2097.46 1466.61 Q2097.46 1473.71 2099.27 1477.28 Q2101.1 1480.82 2104.71 1480.82 Q2108.34 1480.82 2110.15 1477.28 Q2111.98 1473.71 2111.98 1466.61 Q2111.98 1459.48 2110.15 1455.94 Q2108.34 1452.37 2104.71 1452.37 M2104.71 1448.67 Q2110.52 1448.67 2113.57 1453.27 Q2116.65 1457.86 2116.65 1466.61 Q2116.65 1475.33 2113.57 1479.94 Q2110.52 1484.52 2104.71 1484.52 Q2098.9 1484.52 2095.82 1479.94 Q2092.76 1475.33 2092.76 1466.61 Q2092.76 1457.86 2095.82 1453.27 Q2098.9 1448.67 2104.71 1448.67 Z\" fill=\"#000000\" fill-rule=\"evenodd\" fill-opacity=\"1\" /><path clip-path=\"url(#clip040)\" d=\"M2134.87 1452.37 Q2131.26 1452.37 2129.43 1455.94 Q2127.63 1459.48 2127.63 1466.61 Q2127.63 1473.71 2129.43 1477.28 Q2131.26 1480.82 2134.87 1480.82 Q2138.51 1480.82 2140.31 1477.28 Q2142.14 1473.71 2142.14 1466.61 Q2142.14 1459.48 2140.31 1455.94 Q2138.51 1452.37 2134.87 1452.37 M2134.87 1448.67 Q2140.68 1448.67 2143.74 1453.27 Q2146.82 1457.86 2146.82 1466.61 Q2146.82 1475.33 2143.74 1479.94 Q2140.68 1484.52 2134.87 1484.52 Q2129.06 1484.52 2125.98 1479.94 Q2122.93 1475.33 2122.93 1466.61 Q2122.93 1457.86 2125.98 1453.27 Q2129.06 1448.67 2134.87 1448.67 Z\" fill=\"#000000\" fill-rule=\"evenodd\" fill-opacity=\"1\" /><path clip-path=\"url(#clip040)\" d=\"M1254.71 1562.63 L1265.21 1562.63 L1265.21 1526.38 L1253.79 1528.67 L1253.79 1522.82 L1265.15 1520.52 L1271.58 1520.52 L1271.58 1562.63 L1282.08 1562.63 L1282.08 1568.04 L1254.71 1568.04 L1254.71 1562.63 Z\" fill=\"#000000\" fill-rule=\"evenodd\" fill-opacity=\"1\" /><path clip-path=\"url(#clip040)\" d=\"M1304.65 1520.52 L1310.06 1520.52 L1293.51 1574.09 L1288.1 1574.09 L1304.65 1520.52 Z\" fill=\"#000000\" fill-rule=\"evenodd\" fill-opacity=\"1\" /><path clip-path=\"url(#clip040)\" d=\"M1334.25 1518.52 L1334.25 1523.39 L1328.65 1523.39 Q1325.5 1523.39 1324.26 1524.66 Q1323.05 1525.93 1323.05 1529.24 L1323.05 1532.4 L1332.69 1532.4 L1332.69 1536.95 L1323.05 1536.95 L1323.05 1568.04 L1317.16 1568.04 L1317.16 1536.95 L1311.56 1536.95 L1311.56 1532.4 L1317.16 1532.4 L1317.16 1529.91 Q1317.16 1523.96 1319.93 1521.26 Q1322.7 1518.52 1328.71 1518.52 L1334.25 1518.52 Z\" fill=\"#000000\" fill-rule=\"evenodd\" fill-opacity=\"1\" /><polyline clip-path=\"url(#clip042)\" style=\"stroke:#000000; stroke-linecap:butt; stroke-linejoin:round; stroke-width:2; stroke-opacity:0.1; fill:none\" points=\"\n  235.283,1385.29 2352.76,1385.29 \n  \"/>\n<polyline clip-path=\"url(#clip042)\" style=\"stroke:#000000; stroke-linecap:butt; stroke-linejoin:round; stroke-width:2; stroke-opacity:0.1; fill:none\" points=\"\n  235.283,1104.1 2352.76,1104.1 \n  \"/>\n<polyline clip-path=\"url(#clip042)\" style=\"stroke:#000000; stroke-linecap:butt; stroke-linejoin:round; stroke-width:2; stroke-opacity:0.1; fill:none\" points=\"\n  235.283,822.909 2352.76,822.909 \n  \"/>\n<polyline clip-path=\"url(#clip042)\" style=\"stroke:#000000; stroke-linecap:butt; stroke-linejoin:round; stroke-width:2; stroke-opacity:0.1; fill:none\" points=\"\n  235.283,541.717 2352.76,541.717 \n  \"/>\n<polyline clip-path=\"url(#clip042)\" style=\"stroke:#000000; stroke-linecap:butt; stroke-linejoin:round; stroke-width:2; stroke-opacity:0.1; fill:none\" points=\"\n  235.283,260.525 2352.76,260.525 \n  \"/>\n<polyline clip-path=\"url(#clip040)\" style=\"stroke:#000000; stroke-linecap:butt; stroke-linejoin:round; stroke-width:4; stroke-opacity:1; fill:none\" points=\"\n  235.283,1423.18 235.283,47.2441 \n  \"/>\n<polyline clip-path=\"url(#clip040)\" style=\"stroke:#000000; stroke-linecap:butt; stroke-linejoin:round; stroke-width:4; stroke-opacity:1; fill:none\" points=\"\n  235.283,1385.29 260.693,1385.29 \n  \"/>\n<polyline clip-path=\"url(#clip040)\" style=\"stroke:#000000; stroke-linecap:butt; stroke-linejoin:round; stroke-width:4; stroke-opacity:1; fill:none\" points=\"\n  235.283,1104.1 260.693,1104.1 \n  \"/>\n<polyline clip-path=\"url(#clip040)\" style=\"stroke:#000000; stroke-linecap:butt; stroke-linejoin:round; stroke-width:4; stroke-opacity:1; fill:none\" points=\"\n  235.283,822.909 260.693,822.909 \n  \"/>\n<polyline clip-path=\"url(#clip040)\" style=\"stroke:#000000; stroke-linecap:butt; stroke-linejoin:round; stroke-width:4; stroke-opacity:1; fill:none\" points=\"\n  235.283,541.717 260.693,541.717 \n  \"/>\n<polyline clip-path=\"url(#clip040)\" style=\"stroke:#000000; stroke-linecap:butt; stroke-linejoin:round; stroke-width:4; stroke-opacity:1; fill:none\" points=\"\n  235.283,260.525 260.693,260.525 \n  \"/>\n<path clip-path=\"url(#clip040)\" d=\"M187.338 1371.09 Q183.727 1371.09 181.899 1374.66 Q180.093 1378.2 180.093 1385.33 Q180.093 1392.43 181.899 1396 Q183.727 1399.54 187.338 1399.54 Q190.973 1399.54 192.778 1396 Q194.607 1392.43 194.607 1385.33 Q194.607 1378.2 192.778 1374.66 Q190.973 1371.09 187.338 1371.09 M187.338 1367.39 Q193.149 1367.39 196.204 1371.99 Q199.283 1376.58 199.283 1385.33 Q199.283 1394.05 196.204 1398.66 Q193.149 1403.24 187.338 1403.24 Q181.528 1403.24 178.45 1398.66 Q175.394 1394.05 175.394 1385.33 Q175.394 1376.58 178.45 1371.99 Q181.528 1367.39 187.338 1367.39 Z\" fill=\"#000000\" fill-rule=\"evenodd\" fill-opacity=\"1\" /><path clip-path=\"url(#clip040)\" d=\"M117.825 1117.45 L125.464 1117.45 L125.464 1091.08 L117.154 1092.75 L117.154 1088.49 L125.418 1086.82 L130.093 1086.82 L130.093 1117.45 L137.732 1117.45 L137.732 1121.38 L117.825 1121.38 L117.825 1117.45 Z\" fill=\"#000000\" fill-rule=\"evenodd\" fill-opacity=\"1\" /><path clip-path=\"url(#clip040)\" d=\"M157.177 1089.9 Q153.566 1089.9 151.737 1093.46 Q149.931 1097.01 149.931 1104.14 Q149.931 1111.24 151.737 1114.81 Q153.566 1118.35 157.177 1118.35 Q160.811 1118.35 162.616 1114.81 Q164.445 1111.24 164.445 1104.14 Q164.445 1097.01 162.616 1093.46 Q160.811 1089.9 157.177 1089.9 M157.177 1086.2 Q162.987 1086.2 166.042 1090.8 Q169.121 1095.39 169.121 1104.14 Q169.121 1112.86 166.042 1117.47 Q162.987 1122.05 157.177 1122.05 Q151.366 1122.05 148.288 1117.47 Q145.232 1112.86 145.232 1104.14 Q145.232 1095.39 148.288 1090.8 Q151.366 1086.2 157.177 1086.2 Z\" fill=\"#000000\" fill-rule=\"evenodd\" fill-opacity=\"1\" /><path clip-path=\"url(#clip040)\" d=\"M187.338 1089.9 Q183.727 1089.9 181.899 1093.46 Q180.093 1097.01 180.093 1104.14 Q180.093 1111.24 181.899 1114.81 Q183.727 1118.35 187.338 1118.35 Q190.973 1118.35 192.778 1114.81 Q194.607 1111.24 194.607 1104.14 Q194.607 1097.01 192.778 1093.46 Q190.973 1089.9 187.338 1089.9 M187.338 1086.2 Q193.149 1086.2 196.204 1090.8 Q199.283 1095.39 199.283 1104.14 Q199.283 1112.86 196.204 1117.47 Q193.149 1122.05 187.338 1122.05 Q181.528 1122.05 178.45 1117.47 Q175.394 1112.86 175.394 1104.14 Q175.394 1095.39 178.45 1090.8 Q181.528 1086.2 187.338 1086.2 Z\" fill=\"#000000\" fill-rule=\"evenodd\" fill-opacity=\"1\" /><path clip-path=\"url(#clip040)\" d=\"M121.043 836.254 L137.362 836.254 L137.362 840.189 L115.418 840.189 L115.418 836.254 Q118.08 833.499 122.663 828.869 Q127.269 824.217 128.45 822.874 Q130.695 820.351 131.575 818.615 Q132.478 816.856 132.478 815.166 Q132.478 812.411 130.533 810.675 Q128.612 808.939 125.51 808.939 Q123.311 808.939 120.857 809.703 Q118.427 810.467 115.649 812.018 L115.649 807.295 Q118.473 806.161 120.927 805.582 Q123.38 805.004 125.418 805.004 Q130.788 805.004 133.982 807.689 Q137.177 810.374 137.177 814.865 Q137.177 816.994 136.367 818.916 Q135.579 820.814 133.473 823.406 Q132.894 824.078 129.792 827.295 Q126.691 830.49 121.043 836.254 Z\" fill=\"#000000\" fill-rule=\"evenodd\" fill-opacity=\"1\" /><path clip-path=\"url(#clip040)\" d=\"M157.177 808.707 Q153.566 808.707 151.737 812.272 Q149.931 815.814 149.931 822.943 Q149.931 830.05 151.737 833.615 Q153.566 837.156 157.177 837.156 Q160.811 837.156 162.616 833.615 Q164.445 830.05 164.445 822.943 Q164.445 815.814 162.616 812.272 Q160.811 808.707 157.177 808.707 M157.177 805.004 Q162.987 805.004 166.042 809.61 Q169.121 814.193 169.121 822.943 Q169.121 831.67 166.042 836.277 Q162.987 840.86 157.177 840.86 Q151.366 840.86 148.288 836.277 Q145.232 831.67 145.232 822.943 Q145.232 814.193 148.288 809.61 Q151.366 805.004 157.177 805.004 Z\" fill=\"#000000\" fill-rule=\"evenodd\" fill-opacity=\"1\" /><path clip-path=\"url(#clip040)\" d=\"M187.338 808.707 Q183.727 808.707 181.899 812.272 Q180.093 815.814 180.093 822.943 Q180.093 830.05 181.899 833.615 Q183.727 837.156 187.338 837.156 Q190.973 837.156 192.778 833.615 Q194.607 830.05 194.607 822.943 Q194.607 815.814 192.778 812.272 Q190.973 808.707 187.338 808.707 M187.338 805.004 Q193.149 805.004 196.204 809.61 Q199.283 814.193 199.283 822.943 Q199.283 831.67 196.204 836.277 Q193.149 840.86 187.338 840.86 Q181.528 840.86 178.45 836.277 Q175.394 831.67 175.394 822.943 Q175.394 814.193 178.45 809.61 Q181.528 805.004 187.338 805.004 Z\" fill=\"#000000\" fill-rule=\"evenodd\" fill-opacity=\"1\" /><path clip-path=\"url(#clip040)\" d=\"M131.181 540.363 Q134.538 541.08 136.413 543.349 Q138.311 545.617 138.311 548.95 Q138.311 554.066 134.792 556.867 Q131.274 559.668 124.793 559.668 Q122.617 559.668 120.302 559.228 Q118.01 558.812 115.556 557.955 L115.556 553.441 Q117.501 554.575 119.816 555.154 Q122.13 555.733 124.654 555.733 Q129.052 555.733 131.343 553.997 Q133.658 552.261 133.658 548.95 Q133.658 545.895 131.505 544.182 Q129.376 542.446 125.556 542.446 L121.529 542.446 L121.529 538.603 L125.742 538.603 Q129.191 538.603 131.019 537.238 Q132.848 535.849 132.848 533.256 Q132.848 530.594 130.95 529.182 Q129.075 527.747 125.556 527.747 Q123.635 527.747 121.436 528.164 Q119.237 528.58 116.598 529.46 L116.598 525.293 Q119.26 524.552 121.575 524.182 Q123.913 523.812 125.973 523.812 Q131.297 523.812 134.399 526.242 Q137.501 528.65 137.501 532.77 Q137.501 535.64 135.857 537.631 Q134.214 539.599 131.181 540.363 Z\" fill=\"#000000\" fill-rule=\"evenodd\" fill-opacity=\"1\" /><path clip-path=\"url(#clip040)\" d=\"M157.177 527.515 Q153.566 527.515 151.737 531.08 Q149.931 534.622 149.931 541.751 Q149.931 548.858 151.737 552.423 Q153.566 555.964 157.177 555.964 Q160.811 555.964 162.616 552.423 Q164.445 548.858 164.445 541.751 Q164.445 534.622 162.616 531.08 Q160.811 527.515 157.177 527.515 M157.177 523.812 Q162.987 523.812 166.042 528.418 Q169.121 533.001 169.121 541.751 Q169.121 550.478 166.042 555.085 Q162.987 559.668 157.177 559.668 Q151.366 559.668 148.288 555.085 Q145.232 550.478 145.232 541.751 Q145.232 533.001 148.288 528.418 Q151.366 523.812 157.177 523.812 Z\" fill=\"#000000\" fill-rule=\"evenodd\" fill-opacity=\"1\" /><path clip-path=\"url(#clip040)\" d=\"M187.338 527.515 Q183.727 527.515 181.899 531.08 Q180.093 534.622 180.093 541.751 Q180.093 548.858 181.899 552.423 Q183.727 555.964 187.338 555.964 Q190.973 555.964 192.778 552.423 Q194.607 548.858 194.607 541.751 Q194.607 534.622 192.778 531.08 Q190.973 527.515 187.338 527.515 M187.338 523.812 Q193.149 523.812 196.204 528.418 Q199.283 533.001 199.283 541.751 Q199.283 550.478 196.204 555.085 Q193.149 559.668 187.338 559.668 Q181.528 559.668 178.45 555.085 Q175.394 550.478 175.394 541.751 Q175.394 533.001 178.45 528.418 Q181.528 523.812 187.338 523.812 Z\" fill=\"#000000\" fill-rule=\"evenodd\" fill-opacity=\"1\" /><path clip-path=\"url(#clip040)\" d=\"M129.862 247.319 L118.056 265.768 L129.862 265.768 L129.862 247.319 M128.635 243.245 L134.515 243.245 L134.515 265.768 L139.445 265.768 L139.445 269.657 L134.515 269.657 L134.515 277.805 L129.862 277.805 L129.862 269.657 L114.26 269.657 L114.26 265.143 L128.635 243.245 Z\" fill=\"#000000\" fill-rule=\"evenodd\" fill-opacity=\"1\" /><path clip-path=\"url(#clip040)\" d=\"M157.177 246.323 Q153.566 246.323 151.737 249.888 Q149.931 253.43 149.931 260.559 Q149.931 267.666 151.737 271.231 Q153.566 274.772 157.177 274.772 Q160.811 274.772 162.616 271.231 Q164.445 267.666 164.445 260.559 Q164.445 253.43 162.616 249.888 Q160.811 246.323 157.177 246.323 M157.177 242.62 Q162.987 242.62 166.042 247.226 Q169.121 251.809 169.121 260.559 Q169.121 269.286 166.042 273.893 Q162.987 278.476 157.177 278.476 Q151.366 278.476 148.288 273.893 Q145.232 269.286 145.232 260.559 Q145.232 251.809 148.288 247.226 Q151.366 242.62 157.177 242.62 Z\" fill=\"#000000\" fill-rule=\"evenodd\" fill-opacity=\"1\" /><path clip-path=\"url(#clip040)\" d=\"M187.338 246.323 Q183.727 246.323 181.899 249.888 Q180.093 253.43 180.093 260.559 Q180.093 267.666 181.899 271.231 Q183.727 274.772 187.338 274.772 Q190.973 274.772 192.778 271.231 Q194.607 267.666 194.607 260.559 Q194.607 253.43 192.778 249.888 Q190.973 246.323 187.338 246.323 M187.338 242.62 Q193.149 242.62 196.204 247.226 Q199.283 251.809 199.283 260.559 Q199.283 269.286 196.204 273.893 Q193.149 278.476 187.338 278.476 Q181.528 278.476 178.45 273.893 Q175.394 269.286 175.394 260.559 Q175.394 251.809 178.45 247.226 Q181.528 242.62 187.338 242.62 Z\" fill=\"#000000\" fill-rule=\"evenodd\" fill-opacity=\"1\" /><path clip-path=\"url(#clip040)\" d=\"M16.4842 794.238 L16.4842 784.658 L48.8219 772.531 L16.4842 760.341 L16.4842 750.76 L64.0042 750.76 L64.0042 757.03 L22.277 757.03 L54.8694 769.284 L54.8694 775.746 L22.277 788 L64.0042 788 L64.0042 794.238 L16.4842 794.238 Z\" fill=\"#000000\" fill-rule=\"evenodd\" fill-opacity=\"1\" /><path clip-path=\"url(#clip040)\" d=\"M14.5426 724.183 Q21.8632 728.448 29.0246 730.517 Q36.186 732.586 43.5384 732.586 Q50.8908 732.586 58.1159 730.517 Q65.3091 728.417 72.5979 724.183 L72.5979 729.276 Q65.1182 734.05 57.8931 736.437 Q50.668 738.793 43.5384 738.793 Q36.4406 738.793 29.2474 736.437 Q22.0542 734.082 14.5426 729.276 L14.5426 724.183 Z\" fill=\"#000000\" fill-rule=\"evenodd\" fill-opacity=\"1\" /><path clip-path=\"url(#clip040)\" d=\"M14.479 694.774 L19.3487 694.774 L19.3487 700.376 Q19.3487 703.527 20.6219 704.768 Q21.895 705.977 25.2052 705.977 L28.3562 705.977 L28.3562 696.333 L32.9077 696.333 L32.9077 705.977 L64.0042 705.977 L64.0042 711.866 L32.9077 711.866 L32.9077 717.468 L28.3562 717.468 L28.3562 711.866 L25.8736 711.866 Q19.9216 711.866 17.2162 709.097 Q14.479 706.328 14.479 700.312 L14.479 694.774 Z\" fill=\"#000000\" fill-rule=\"evenodd\" fill-opacity=\"1\" /><path clip-path=\"url(#clip040)\" d=\"M14.5426 690.795 L14.5426 685.703 Q22.0542 680.928 29.2474 678.573 Q36.4406 676.186 43.5384 676.186 Q50.668 676.186 57.8931 678.573 Q65.1182 680.928 72.5979 685.703 L72.5979 690.795 Q65.3091 686.562 58.1159 684.493 Q50.8908 682.393 43.5384 682.393 Q36.186 682.393 29.0246 684.493 Q21.8632 686.562 14.5426 690.795 Z\" fill=\"#000000\" fill-rule=\"evenodd\" fill-opacity=\"1\" /><polyline clip-path=\"url(#clip042)\" style=\"stroke:#009af9; stroke-linecap:butt; stroke-linejoin:round; stroke-width:4; stroke-opacity:1; fill:none\" points=\"\n  301.201,1374.05 316.176,1365.61 331.15,1354.36 346.125,1343.11 361.1,1334.68 376.074,1329.05 391.049,1323.43 406.024,1309.37 420.998,1300.94 435.973,1298.12 \n  450.948,1286.88 465.922,1272.82 480.897,1264.38 495.871,1261.57 510.846,1253.13 525.821,1250.32 540.795,1239.07 555.77,1233.45 570.745,1222.2 585.719,1205.33 \n  600.694,1196.89 615.668,1188.46 630.643,1171.59 645.618,1168.77 660.592,1168.77 675.567,1154.72 690.542,1143.47 705.516,1143.47 720.491,1118.16 735.466,1118.16 \n  750.44,1090.04 765.415,1090.04 780.389,1090.04 795.364,1084.42 810.339,1084.42 825.313,1084.42 840.288,1050.67 855.263,1050.67 870.237,1050.67 885.212,1050.67 \n  900.187,1016.93 915.161,1016.93 930.136,1016.93 945.11,1016.93 960.085,969.129 975.06,969.129 990.034,969.129 1005.01,969.129 1019.98,969.129 1034.96,969.129 \n  1049.93,938.197 1064.91,938.197 1079.88,938.197 1094.86,938.197 1109.83,938.197 1124.81,938.197 1139.78,938.197 1154.76,856.652 1169.73,856.652 1184.7,856.652 \n  1199.68,856.652 1214.65,856.652 1229.63,856.652 1244.6,856.652 1259.58,856.652 1274.55,856.652 1289.53,763.858 1304.5,763.858 1319.48,763.858 1334.45,763.858 \n  1349.43,763.858 1364.4,763.858 1379.37,763.858 1394.35,763.858 1409.32,763.858 1424.3,763.858 1439.27,763.858 1454.25,763.858 1469.22,763.858 1484.2,763.858 \n  1499.17,614.827 1514.15,614.827 1529.12,614.827 1544.1,614.827 1559.07,614.827 1574.05,614.827 1589.02,614.827 1603.99,614.827 1618.97,614.827 1633.94,614.827 \n  1648.92,614.827 1663.89,614.827 1678.87,614.827 1693.84,614.827 1708.82,614.827 1723.79,614.827 1738.77,614.827 1753.74,614.827 1768.72,614.827 1783.69,614.827 \n  1798.66,417.992 1813.64,417.992 1828.61,417.992 1843.59,417.992 1858.56,417.992 1873.54,417.992 1888.51,417.992 1903.49,417.992 1918.46,417.992 1933.44,417.992 \n  1948.41,417.992 1963.39,417.992 1978.36,417.992 1993.33,417.992 2008.31,417.992 2023.28,417.992 2038.26,417.992 2053.23,417.992 2068.21,417.992 2083.18,417.992 \n  2098.16,417.992 2113.13,417.992 2128.11,417.992 2143.08,417.992 2158.06,417.992 2173.03,417.992 2188,417.992 2202.98,417.992 2217.95,417.992 2232.93,417.992 \n  2247.9,417.992 2262.88,417.992 2277.85,417.992 2292.83,86.1857 \n  \"/>\n<path clip-path=\"url(#clip042)\" d=\"M301.201 1380.05 L296.959 1378.29 L295.201 1374.05 L296.959 1369.8 L301.201 1368.05 L305.443 1369.8 L307.201 1374.05 L305.443 1378.29 Z\" fill=\"#009af9\" fill-rule=\"evenodd\" fill-opacity=\"1\" stroke=\"#000000\" stroke-opacity=\"1\" stroke-width=\"3.2\"/>\n<path clip-path=\"url(#clip042)\" d=\"M316.176 1371.61 L311.934 1369.85 L310.176 1365.61 L311.934 1361.37 L316.176 1359.61 L320.418 1361.37 L322.176 1365.61 L320.418 1369.85 Z\" fill=\"#009af9\" fill-rule=\"evenodd\" fill-opacity=\"1\" stroke=\"#000000\" stroke-opacity=\"1\" stroke-width=\"3.2\"/>\n<path clip-path=\"url(#clip042)\" d=\"M331.15 1360.36 L326.908 1358.6 L325.15 1354.36 L326.908 1350.12 L331.15 1348.36 L335.392 1350.12 L337.15 1354.36 L335.392 1358.6 Z\" fill=\"#009af9\" fill-rule=\"evenodd\" fill-opacity=\"1\" stroke=\"#000000\" stroke-opacity=\"1\" stroke-width=\"3.2\"/>\n<path clip-path=\"url(#clip042)\" d=\"M346.125 1349.11 L341.883 1347.36 L340.125 1343.11 L341.883 1338.87 L346.125 1337.11 L350.367 1338.87 L352.125 1343.11 L350.367 1347.36 Z\" fill=\"#009af9\" fill-rule=\"evenodd\" fill-opacity=\"1\" stroke=\"#000000\" stroke-opacity=\"1\" stroke-width=\"3.2\"/>\n<path clip-path=\"url(#clip042)\" d=\"M361.1 1340.68 L356.858 1338.92 L355.1 1334.68 L356.858 1330.44 L361.1 1328.68 L365.342 1330.44 L367.1 1334.68 L365.342 1338.92 Z\" fill=\"#009af9\" fill-rule=\"evenodd\" fill-opacity=\"1\" stroke=\"#000000\" stroke-opacity=\"1\" stroke-width=\"3.2\"/>\n<path clip-path=\"url(#clip042)\" d=\"M376.074 1335.05 L371.832 1333.3 L370.074 1329.05 L371.832 1324.81 L376.074 1323.05 L380.316 1324.81 L382.074 1329.05 L380.316 1333.3 Z\" fill=\"#009af9\" fill-rule=\"evenodd\" fill-opacity=\"1\" stroke=\"#000000\" stroke-opacity=\"1\" stroke-width=\"3.2\"/>\n<path clip-path=\"url(#clip042)\" d=\"M391.049 1329.43 L386.807 1327.67 L385.049 1323.43 L386.807 1319.19 L391.049 1317.43 L395.291 1319.19 L397.049 1323.43 L395.291 1327.67 Z\" fill=\"#009af9\" fill-rule=\"evenodd\" fill-opacity=\"1\" stroke=\"#000000\" stroke-opacity=\"1\" stroke-width=\"3.2\"/>\n<path clip-path=\"url(#clip042)\" d=\"M406.024 1315.37 L401.782 1313.61 L400.024 1309.37 L401.782 1305.13 L406.024 1303.37 L410.266 1305.13 L412.024 1309.37 L410.266 1313.61 Z\" fill=\"#009af9\" fill-rule=\"evenodd\" fill-opacity=\"1\" stroke=\"#000000\" stroke-opacity=\"1\" stroke-width=\"3.2\"/>\n<path clip-path=\"url(#clip042)\" d=\"M420.998 1306.94 L416.756 1305.18 L414.998 1300.94 L416.756 1296.69 L420.998 1294.94 L425.24 1296.69 L426.998 1300.94 L425.24 1305.18 Z\" fill=\"#009af9\" fill-rule=\"evenodd\" fill-opacity=\"1\" stroke=\"#000000\" stroke-opacity=\"1\" stroke-width=\"3.2\"/>\n<path clip-path=\"url(#clip042)\" d=\"M435.973 1304.12 L431.731 1302.37 L429.973 1298.12 L431.731 1293.88 L435.973 1292.12 L440.215 1293.88 L441.973 1298.12 L440.215 1302.37 Z\" fill=\"#009af9\" fill-rule=\"evenodd\" fill-opacity=\"1\" stroke=\"#000000\" stroke-opacity=\"1\" stroke-width=\"3.2\"/>\n<path clip-path=\"url(#clip042)\" d=\"M450.948 1292.88 L446.706 1291.12 L444.948 1286.88 L446.706 1282.63 L450.948 1280.88 L455.19 1282.63 L456.948 1286.88 L455.19 1291.12 Z\" fill=\"#009af9\" fill-rule=\"evenodd\" fill-opacity=\"1\" stroke=\"#000000\" stroke-opacity=\"1\" stroke-width=\"3.2\"/>\n<path clip-path=\"url(#clip042)\" d=\"M465.922 1278.82 L461.68 1277.06 L459.922 1272.82 L461.68 1268.57 L465.922 1266.82 L470.164 1268.57 L471.922 1272.82 L470.164 1277.06 Z\" fill=\"#009af9\" fill-rule=\"evenodd\" fill-opacity=\"1\" stroke=\"#000000\" stroke-opacity=\"1\" stroke-width=\"3.2\"/>\n<path clip-path=\"url(#clip042)\" d=\"M480.897 1270.38 L476.655 1268.62 L474.897 1264.38 L476.655 1260.14 L480.897 1258.38 L485.139 1260.14 L486.897 1264.38 L485.139 1268.62 Z\" fill=\"#009af9\" fill-rule=\"evenodd\" fill-opacity=\"1\" stroke=\"#000000\" stroke-opacity=\"1\" stroke-width=\"3.2\"/>\n<path clip-path=\"url(#clip042)\" d=\"M495.871 1267.57 L491.629 1265.81 L489.871 1261.57 L491.629 1257.33 L495.871 1255.57 L500.113 1257.33 L501.871 1261.57 L500.113 1265.81 Z\" fill=\"#009af9\" fill-rule=\"evenodd\" fill-opacity=\"1\" stroke=\"#000000\" stroke-opacity=\"1\" stroke-width=\"3.2\"/>\n<path clip-path=\"url(#clip042)\" d=\"M510.846 1259.13 L506.604 1257.37 L504.846 1253.13 L506.604 1248.89 L510.846 1247.13 L515.088 1248.89 L516.846 1253.13 L515.088 1257.37 Z\" fill=\"#009af9\" fill-rule=\"evenodd\" fill-opacity=\"1\" stroke=\"#000000\" stroke-opacity=\"1\" stroke-width=\"3.2\"/>\n<path clip-path=\"url(#clip042)\" d=\"M525.821 1256.32 L521.579 1254.56 L519.821 1250.32 L521.579 1246.08 L525.821 1244.32 L530.063 1246.08 L531.821 1250.32 L530.063 1254.56 Z\" fill=\"#009af9\" fill-rule=\"evenodd\" fill-opacity=\"1\" stroke=\"#000000\" stroke-opacity=\"1\" stroke-width=\"3.2\"/>\n<path clip-path=\"url(#clip042)\" d=\"M540.795 1245.07 L536.553 1243.31 L534.795 1239.07 L536.553 1234.83 L540.795 1233.07 L545.037 1234.83 L546.795 1239.07 L545.037 1243.31 Z\" fill=\"#009af9\" fill-rule=\"evenodd\" fill-opacity=\"1\" stroke=\"#000000\" stroke-opacity=\"1\" stroke-width=\"3.2\"/>\n<path clip-path=\"url(#clip042)\" d=\"M555.77 1239.45 L551.528 1237.69 L549.77 1233.45 L551.528 1229.21 L555.77 1227.45 L560.012 1229.21 L561.77 1233.45 L560.012 1237.69 Z\" fill=\"#009af9\" fill-rule=\"evenodd\" fill-opacity=\"1\" stroke=\"#000000\" stroke-opacity=\"1\" stroke-width=\"3.2\"/>\n<path clip-path=\"url(#clip042)\" d=\"M570.745 1228.2 L566.503 1226.44 L564.745 1222.2 L566.503 1217.96 L570.745 1216.2 L574.987 1217.96 L576.745 1222.2 L574.987 1226.44 Z\" fill=\"#009af9\" fill-rule=\"evenodd\" fill-opacity=\"1\" stroke=\"#000000\" stroke-opacity=\"1\" stroke-width=\"3.2\"/>\n<path clip-path=\"url(#clip042)\" d=\"M585.719 1211.33 L581.477 1209.57 L579.719 1205.33 L581.477 1201.09 L585.719 1199.33 L589.961 1201.09 L591.719 1205.33 L589.961 1209.57 Z\" fill=\"#009af9\" fill-rule=\"evenodd\" fill-opacity=\"1\" stroke=\"#000000\" stroke-opacity=\"1\" stroke-width=\"3.2\"/>\n<path clip-path=\"url(#clip042)\" d=\"M600.694 1202.89 L596.452 1201.14 L594.694 1196.89 L596.452 1192.65 L600.694 1190.89 L604.936 1192.65 L606.694 1196.89 L604.936 1201.14 Z\" fill=\"#009af9\" fill-rule=\"evenodd\" fill-opacity=\"1\" stroke=\"#000000\" stroke-opacity=\"1\" stroke-width=\"3.2\"/>\n<path clip-path=\"url(#clip042)\" d=\"M615.668 1194.46 L611.426 1192.7 L609.668 1188.46 L611.426 1184.22 L615.668 1182.46 L619.91 1184.22 L621.668 1188.46 L619.91 1192.7 Z\" fill=\"#009af9\" fill-rule=\"evenodd\" fill-opacity=\"1\" stroke=\"#000000\" stroke-opacity=\"1\" stroke-width=\"3.2\"/>\n<path clip-path=\"url(#clip042)\" d=\"M630.643 1177.59 L626.401 1175.83 L624.643 1171.59 L626.401 1167.34 L630.643 1165.59 L634.885 1167.34 L636.643 1171.59 L634.885 1175.83 Z\" fill=\"#009af9\" fill-rule=\"evenodd\" fill-opacity=\"1\" stroke=\"#000000\" stroke-opacity=\"1\" stroke-width=\"3.2\"/>\n<path clip-path=\"url(#clip042)\" d=\"M645.618 1174.77 L641.376 1173.02 L639.618 1168.77 L641.376 1164.53 L645.618 1162.77 L649.86 1164.53 L651.618 1168.77 L649.86 1173.02 Z\" fill=\"#009af9\" fill-rule=\"evenodd\" fill-opacity=\"1\" stroke=\"#000000\" stroke-opacity=\"1\" stroke-width=\"3.2\"/>\n<path clip-path=\"url(#clip042)\" d=\"M660.592 1174.77 L656.35 1173.02 L654.592 1168.77 L656.35 1164.53 L660.592 1162.77 L664.834 1164.53 L666.592 1168.77 L664.834 1173.02 Z\" fill=\"#009af9\" fill-rule=\"evenodd\" fill-opacity=\"1\" stroke=\"#000000\" stroke-opacity=\"1\" stroke-width=\"3.2\"/>\n<path clip-path=\"url(#clip042)\" d=\"M675.567 1160.72 L671.325 1158.96 L669.567 1154.72 L671.325 1150.47 L675.567 1148.72 L679.809 1150.47 L681.567 1154.72 L679.809 1158.96 Z\" fill=\"#009af9\" fill-rule=\"evenodd\" fill-opacity=\"1\" stroke=\"#000000\" stroke-opacity=\"1\" stroke-width=\"3.2\"/>\n<path clip-path=\"url(#clip042)\" d=\"M690.542 1149.47 L686.3 1147.71 L684.542 1143.47 L686.3 1139.23 L690.542 1137.47 L694.784 1139.23 L696.542 1143.47 L694.784 1147.71 Z\" fill=\"#009af9\" fill-rule=\"evenodd\" fill-opacity=\"1\" stroke=\"#000000\" stroke-opacity=\"1\" stroke-width=\"3.2\"/>\n<path clip-path=\"url(#clip042)\" d=\"M705.516 1149.47 L701.274 1147.71 L699.516 1143.47 L701.274 1139.23 L705.516 1137.47 L709.758 1139.23 L711.516 1143.47 L709.758 1147.71 Z\" fill=\"#009af9\" fill-rule=\"evenodd\" fill-opacity=\"1\" stroke=\"#000000\" stroke-opacity=\"1\" stroke-width=\"3.2\"/>\n<path clip-path=\"url(#clip042)\" d=\"M720.491 1124.16 L716.249 1122.4 L714.491 1118.16 L716.249 1113.92 L720.491 1112.16 L724.733 1113.92 L726.491 1118.16 L724.733 1122.4 Z\" fill=\"#009af9\" fill-rule=\"evenodd\" fill-opacity=\"1\" stroke=\"#000000\" stroke-opacity=\"1\" stroke-width=\"3.2\"/>\n<path clip-path=\"url(#clip042)\" d=\"M735.466 1124.16 L731.224 1122.4 L729.466 1118.16 L731.224 1113.92 L735.466 1112.16 L739.708 1113.92 L741.466 1118.16 L739.708 1122.4 Z\" fill=\"#009af9\" fill-rule=\"evenodd\" fill-opacity=\"1\" stroke=\"#000000\" stroke-opacity=\"1\" stroke-width=\"3.2\"/>\n<path clip-path=\"url(#clip042)\" d=\"M750.44 1096.04 L746.198 1094.28 L744.44 1090.04 L746.198 1085.8 L750.44 1084.04 L754.682 1085.8 L756.44 1090.04 L754.682 1094.28 Z\" fill=\"#009af9\" fill-rule=\"evenodd\" fill-opacity=\"1\" stroke=\"#000000\" stroke-opacity=\"1\" stroke-width=\"3.2\"/>\n<path clip-path=\"url(#clip042)\" d=\"M765.415 1096.04 L761.173 1094.28 L759.415 1090.04 L761.173 1085.8 L765.415 1084.04 L769.657 1085.8 L771.415 1090.04 L769.657 1094.28 Z\" fill=\"#009af9\" fill-rule=\"evenodd\" fill-opacity=\"1\" stroke=\"#000000\" stroke-opacity=\"1\" stroke-width=\"3.2\"/>\n<path clip-path=\"url(#clip042)\" d=\"M780.389 1096.04 L776.147 1094.28 L774.389 1090.04 L776.147 1085.8 L780.389 1084.04 L784.631 1085.8 L786.389 1090.04 L784.631 1094.28 Z\" fill=\"#009af9\" fill-rule=\"evenodd\" fill-opacity=\"1\" stroke=\"#000000\" stroke-opacity=\"1\" stroke-width=\"3.2\"/>\n<path clip-path=\"url(#clip042)\" d=\"M795.364 1090.42 L791.122 1088.66 L789.364 1084.42 L791.122 1080.18 L795.364 1078.42 L799.606 1080.18 L801.364 1084.42 L799.606 1088.66 Z\" fill=\"#009af9\" fill-rule=\"evenodd\" fill-opacity=\"1\" stroke=\"#000000\" stroke-opacity=\"1\" stroke-width=\"3.2\"/>\n<path clip-path=\"url(#clip042)\" d=\"M810.339 1090.42 L806.097 1088.66 L804.339 1084.42 L806.097 1080.18 L810.339 1078.42 L814.581 1080.18 L816.339 1084.42 L814.581 1088.66 Z\" fill=\"#009af9\" fill-rule=\"evenodd\" fill-opacity=\"1\" stroke=\"#000000\" stroke-opacity=\"1\" stroke-width=\"3.2\"/>\n<path clip-path=\"url(#clip042)\" d=\"M825.313 1090.42 L821.071 1088.66 L819.313 1084.42 L821.071 1080.18 L825.313 1078.42 L829.555 1080.18 L831.313 1084.42 L829.555 1088.66 Z\" fill=\"#009af9\" fill-rule=\"evenodd\" fill-opacity=\"1\" stroke=\"#000000\" stroke-opacity=\"1\" stroke-width=\"3.2\"/>\n<path clip-path=\"url(#clip042)\" d=\"M840.288 1056.67 L836.046 1054.92 L834.288 1050.67 L836.046 1046.43 L840.288 1044.67 L844.53 1046.43 L846.288 1050.67 L844.53 1054.92 Z\" fill=\"#009af9\" fill-rule=\"evenodd\" fill-opacity=\"1\" stroke=\"#000000\" stroke-opacity=\"1\" stroke-width=\"3.2\"/>\n<path clip-path=\"url(#clip042)\" d=\"M855.263 1056.67 L851.021 1054.92 L849.263 1050.67 L851.021 1046.43 L855.263 1044.67 L859.505 1046.43 L861.263 1050.67 L859.505 1054.92 Z\" fill=\"#009af9\" fill-rule=\"evenodd\" fill-opacity=\"1\" stroke=\"#000000\" stroke-opacity=\"1\" stroke-width=\"3.2\"/>\n<path clip-path=\"url(#clip042)\" d=\"M870.237 1056.67 L865.995 1054.92 L864.237 1050.67 L865.995 1046.43 L870.237 1044.67 L874.479 1046.43 L876.237 1050.67 L874.479 1054.92 Z\" fill=\"#009af9\" fill-rule=\"evenodd\" fill-opacity=\"1\" stroke=\"#000000\" stroke-opacity=\"1\" stroke-width=\"3.2\"/>\n<path clip-path=\"url(#clip042)\" d=\"M885.212 1056.67 L880.97 1054.92 L879.212 1050.67 L880.97 1046.43 L885.212 1044.67 L889.454 1046.43 L891.212 1050.67 L889.454 1054.92 Z\" fill=\"#009af9\" fill-rule=\"evenodd\" fill-opacity=\"1\" stroke=\"#000000\" stroke-opacity=\"1\" stroke-width=\"3.2\"/>\n<path clip-path=\"url(#clip042)\" d=\"M900.187 1022.93 L895.945 1021.17 L894.187 1016.93 L895.945 1012.69 L900.187 1010.93 L904.429 1012.69 L906.187 1016.93 L904.429 1021.17 Z\" fill=\"#009af9\" fill-rule=\"evenodd\" fill-opacity=\"1\" stroke=\"#000000\" stroke-opacity=\"1\" stroke-width=\"3.2\"/>\n<path clip-path=\"url(#clip042)\" d=\"M915.161 1022.93 L910.919 1021.17 L909.161 1016.93 L910.919 1012.69 L915.161 1010.93 L919.403 1012.69 L921.161 1016.93 L919.403 1021.17 Z\" fill=\"#009af9\" fill-rule=\"evenodd\" fill-opacity=\"1\" stroke=\"#000000\" stroke-opacity=\"1\" stroke-width=\"3.2\"/>\n<path clip-path=\"url(#clip042)\" d=\"M930.136 1022.93 L925.894 1021.17 L924.136 1016.93 L925.894 1012.69 L930.136 1010.93 L934.378 1012.69 L936.136 1016.93 L934.378 1021.17 Z\" fill=\"#009af9\" fill-rule=\"evenodd\" fill-opacity=\"1\" stroke=\"#000000\" stroke-opacity=\"1\" stroke-width=\"3.2\"/>\n<path clip-path=\"url(#clip042)\" d=\"M945.11 1022.93 L940.868 1021.17 L939.11 1016.93 L940.868 1012.69 L945.11 1010.93 L949.352 1012.69 L951.11 1016.93 L949.352 1021.17 Z\" fill=\"#009af9\" fill-rule=\"evenodd\" fill-opacity=\"1\" stroke=\"#000000\" stroke-opacity=\"1\" stroke-width=\"3.2\"/>\n<path clip-path=\"url(#clip042)\" d=\"M960.085 975.129 L955.843 973.371 L954.085 969.129 L955.843 964.887 L960.085 963.129 L964.327 964.887 L966.085 969.129 L964.327 973.371 Z\" fill=\"#009af9\" fill-rule=\"evenodd\" fill-opacity=\"1\" stroke=\"#000000\" stroke-opacity=\"1\" stroke-width=\"3.2\"/>\n<path clip-path=\"url(#clip042)\" d=\"M975.06 975.129 L970.818 973.371 L969.06 969.129 L970.818 964.887 L975.06 963.129 L979.302 964.887 L981.06 969.129 L979.302 973.371 Z\" fill=\"#009af9\" fill-rule=\"evenodd\" fill-opacity=\"1\" stroke=\"#000000\" stroke-opacity=\"1\" stroke-width=\"3.2\"/>\n<path clip-path=\"url(#clip042)\" d=\"M990.034 975.129 L985.792 973.371 L984.034 969.129 L985.792 964.887 L990.034 963.129 L994.276 964.887 L996.034 969.129 L994.276 973.371 Z\" fill=\"#009af9\" fill-rule=\"evenodd\" fill-opacity=\"1\" stroke=\"#000000\" stroke-opacity=\"1\" stroke-width=\"3.2\"/>\n<path clip-path=\"url(#clip042)\" d=\"M1005.01 975.129 L1000.77 973.371 L999.009 969.129 L1000.77 964.887 L1005.01 963.129 L1009.25 964.887 L1011.01 969.129 L1009.25 973.371 Z\" fill=\"#009af9\" fill-rule=\"evenodd\" fill-opacity=\"1\" stroke=\"#000000\" stroke-opacity=\"1\" stroke-width=\"3.2\"/>\n<path clip-path=\"url(#clip042)\" d=\"M1019.98 975.129 L1015.74 973.371 L1013.98 969.129 L1015.74 964.887 L1019.98 963.129 L1024.23 964.887 L1025.98 969.129 L1024.23 973.371 Z\" fill=\"#009af9\" fill-rule=\"evenodd\" fill-opacity=\"1\" stroke=\"#000000\" stroke-opacity=\"1\" stroke-width=\"3.2\"/>\n<path clip-path=\"url(#clip042)\" d=\"M1034.96 975.129 L1030.72 973.371 L1028.96 969.129 L1030.72 964.887 L1034.96 963.129 L1039.2 964.887 L1040.96 969.129 L1039.2 973.371 Z\" fill=\"#009af9\" fill-rule=\"evenodd\" fill-opacity=\"1\" stroke=\"#000000\" stroke-opacity=\"1\" stroke-width=\"3.2\"/>\n<path clip-path=\"url(#clip042)\" d=\"M1049.93 944.197 L1045.69 942.439 L1043.93 938.197 L1045.69 933.955 L1049.93 932.197 L1054.17 933.955 L1055.93 938.197 L1054.17 942.439 Z\" fill=\"#009af9\" fill-rule=\"evenodd\" fill-opacity=\"1\" stroke=\"#000000\" stroke-opacity=\"1\" stroke-width=\"3.2\"/>\n<path clip-path=\"url(#clip042)\" d=\"M1064.91 944.197 L1060.67 942.439 L1058.91 938.197 L1060.67 933.955 L1064.91 932.197 L1069.15 933.955 L1070.91 938.197 L1069.15 942.439 Z\" fill=\"#009af9\" fill-rule=\"evenodd\" fill-opacity=\"1\" stroke=\"#000000\" stroke-opacity=\"1\" stroke-width=\"3.2\"/>\n<path clip-path=\"url(#clip042)\" d=\"M1079.88 944.197 L1075.64 942.439 L1073.88 938.197 L1075.64 933.955 L1079.88 932.197 L1084.12 933.955 L1085.88 938.197 L1084.12 942.439 Z\" fill=\"#009af9\" fill-rule=\"evenodd\" fill-opacity=\"1\" stroke=\"#000000\" stroke-opacity=\"1\" stroke-width=\"3.2\"/>\n<path clip-path=\"url(#clip042)\" d=\"M1094.86 944.197 L1090.61 942.439 L1088.86 938.197 L1090.61 933.955 L1094.86 932.197 L1099.1 933.955 L1100.86 938.197 L1099.1 942.439 Z\" fill=\"#009af9\" fill-rule=\"evenodd\" fill-opacity=\"1\" stroke=\"#000000\" stroke-opacity=\"1\" stroke-width=\"3.2\"/>\n<path clip-path=\"url(#clip042)\" d=\"M1109.83 944.197 L1105.59 942.439 L1103.83 938.197 L1105.59 933.955 L1109.83 932.197 L1114.07 933.955 L1115.83 938.197 L1114.07 942.439 Z\" fill=\"#009af9\" fill-rule=\"evenodd\" fill-opacity=\"1\" stroke=\"#000000\" stroke-opacity=\"1\" stroke-width=\"3.2\"/>\n<path clip-path=\"url(#clip042)\" d=\"M1124.81 944.197 L1120.56 942.439 L1118.81 938.197 L1120.56 933.955 L1124.81 932.197 L1129.05 933.955 L1130.81 938.197 L1129.05 942.439 Z\" fill=\"#009af9\" fill-rule=\"evenodd\" fill-opacity=\"1\" stroke=\"#000000\" stroke-opacity=\"1\" stroke-width=\"3.2\"/>\n<path clip-path=\"url(#clip042)\" d=\"M1139.78 944.197 L1135.54 942.439 L1133.78 938.197 L1135.54 933.955 L1139.78 932.197 L1144.02 933.955 L1145.78 938.197 L1144.02 942.439 Z\" fill=\"#009af9\" fill-rule=\"evenodd\" fill-opacity=\"1\" stroke=\"#000000\" stroke-opacity=\"1\" stroke-width=\"3.2\"/>\n<path clip-path=\"url(#clip042)\" d=\"M1154.76 862.652 L1150.51 860.894 L1148.76 856.652 L1150.51 852.41 L1154.76 850.652 L1159 852.41 L1160.76 856.652 L1159 860.894 Z\" fill=\"#009af9\" fill-rule=\"evenodd\" fill-opacity=\"1\" stroke=\"#000000\" stroke-opacity=\"1\" stroke-width=\"3.2\"/>\n<path clip-path=\"url(#clip042)\" d=\"M1169.73 862.652 L1165.49 860.894 L1163.73 856.652 L1165.49 852.41 L1169.73 850.652 L1173.97 852.41 L1175.73 856.652 L1173.97 860.894 Z\" fill=\"#009af9\" fill-rule=\"evenodd\" fill-opacity=\"1\" stroke=\"#000000\" stroke-opacity=\"1\" stroke-width=\"3.2\"/>\n<path clip-path=\"url(#clip042)\" d=\"M1184.7 862.652 L1180.46 860.894 L1178.7 856.652 L1180.46 852.41 L1184.7 850.652 L1188.95 852.41 L1190.7 856.652 L1188.95 860.894 Z\" fill=\"#009af9\" fill-rule=\"evenodd\" fill-opacity=\"1\" stroke=\"#000000\" stroke-opacity=\"1\" stroke-width=\"3.2\"/>\n<path clip-path=\"url(#clip042)\" d=\"M1199.68 862.652 L1195.44 860.894 L1193.68 856.652 L1195.44 852.41 L1199.68 850.652 L1203.92 852.41 L1205.68 856.652 L1203.92 860.894 Z\" fill=\"#009af9\" fill-rule=\"evenodd\" fill-opacity=\"1\" stroke=\"#000000\" stroke-opacity=\"1\" stroke-width=\"3.2\"/>\n<path clip-path=\"url(#clip042)\" d=\"M1214.65 862.652 L1210.41 860.894 L1208.65 856.652 L1210.41 852.41 L1214.65 850.652 L1218.9 852.41 L1220.65 856.652 L1218.9 860.894 Z\" fill=\"#009af9\" fill-rule=\"evenodd\" fill-opacity=\"1\" stroke=\"#000000\" stroke-opacity=\"1\" stroke-width=\"3.2\"/>\n<path clip-path=\"url(#clip042)\" d=\"M1229.63 862.652 L1225.39 860.894 L1223.63 856.652 L1225.39 852.41 L1229.63 850.652 L1233.87 852.41 L1235.63 856.652 L1233.87 860.894 Z\" fill=\"#009af9\" fill-rule=\"evenodd\" fill-opacity=\"1\" stroke=\"#000000\" stroke-opacity=\"1\" stroke-width=\"3.2\"/>\n<path clip-path=\"url(#clip042)\" d=\"M1244.6 862.652 L1240.36 860.894 L1238.6 856.652 L1240.36 852.41 L1244.6 850.652 L1248.85 852.41 L1250.6 856.652 L1248.85 860.894 Z\" fill=\"#009af9\" fill-rule=\"evenodd\" fill-opacity=\"1\" stroke=\"#000000\" stroke-opacity=\"1\" stroke-width=\"3.2\"/>\n<path clip-path=\"url(#clip042)\" d=\"M1259.58 862.652 L1255.34 860.894 L1253.58 856.652 L1255.34 852.41 L1259.58 850.652 L1263.82 852.41 L1265.58 856.652 L1263.82 860.894 Z\" fill=\"#009af9\" fill-rule=\"evenodd\" fill-opacity=\"1\" stroke=\"#000000\" stroke-opacity=\"1\" stroke-width=\"3.2\"/>\n<path clip-path=\"url(#clip042)\" d=\"M1274.55 862.652 L1270.31 860.894 L1268.55 856.652 L1270.31 852.41 L1274.55 850.652 L1278.79 852.41 L1280.55 856.652 L1278.79 860.894 Z\" fill=\"#009af9\" fill-rule=\"evenodd\" fill-opacity=\"1\" stroke=\"#000000\" stroke-opacity=\"1\" stroke-width=\"3.2\"/>\n<path clip-path=\"url(#clip042)\" d=\"M1289.53 769.858 L1285.28 768.1 L1283.53 763.858 L1285.28 759.616 L1289.53 757.858 L1293.77 759.616 L1295.53 763.858 L1293.77 768.1 Z\" fill=\"#009af9\" fill-rule=\"evenodd\" fill-opacity=\"1\" stroke=\"#000000\" stroke-opacity=\"1\" stroke-width=\"3.2\"/>\n<path clip-path=\"url(#clip042)\" d=\"M1304.5 769.858 L1300.26 768.1 L1298.5 763.858 L1300.26 759.616 L1304.5 757.858 L1308.74 759.616 L1310.5 763.858 L1308.74 768.1 Z\" fill=\"#009af9\" fill-rule=\"evenodd\" fill-opacity=\"1\" stroke=\"#000000\" stroke-opacity=\"1\" stroke-width=\"3.2\"/>\n<path clip-path=\"url(#clip042)\" d=\"M1319.48 769.858 L1315.23 768.1 L1313.48 763.858 L1315.23 759.616 L1319.48 757.858 L1323.72 759.616 L1325.48 763.858 L1323.72 768.1 Z\" fill=\"#009af9\" fill-rule=\"evenodd\" fill-opacity=\"1\" stroke=\"#000000\" stroke-opacity=\"1\" stroke-width=\"3.2\"/>\n<path clip-path=\"url(#clip042)\" d=\"M1334.45 769.858 L1330.21 768.1 L1328.45 763.858 L1330.21 759.616 L1334.45 757.858 L1338.69 759.616 L1340.45 763.858 L1338.69 768.1 Z\" fill=\"#009af9\" fill-rule=\"evenodd\" fill-opacity=\"1\" stroke=\"#000000\" stroke-opacity=\"1\" stroke-width=\"3.2\"/>\n<path clip-path=\"url(#clip042)\" d=\"M1349.43 769.858 L1345.18 768.1 L1343.43 763.858 L1345.18 759.616 L1349.43 757.858 L1353.67 759.616 L1355.43 763.858 L1353.67 768.1 Z\" fill=\"#009af9\" fill-rule=\"evenodd\" fill-opacity=\"1\" stroke=\"#000000\" stroke-opacity=\"1\" stroke-width=\"3.2\"/>\n<path clip-path=\"url(#clip042)\" d=\"M1364.4 769.858 L1360.16 768.1 L1358.4 763.858 L1360.16 759.616 L1364.4 757.858 L1368.64 759.616 L1370.4 763.858 L1368.64 768.1 Z\" fill=\"#009af9\" fill-rule=\"evenodd\" fill-opacity=\"1\" stroke=\"#000000\" stroke-opacity=\"1\" stroke-width=\"3.2\"/>\n<path clip-path=\"url(#clip042)\" d=\"M1379.37 769.858 L1375.13 768.1 L1373.37 763.858 L1375.13 759.616 L1379.37 757.858 L1383.62 759.616 L1385.37 763.858 L1383.62 768.1 Z\" fill=\"#009af9\" fill-rule=\"evenodd\" fill-opacity=\"1\" stroke=\"#000000\" stroke-opacity=\"1\" stroke-width=\"3.2\"/>\n<path clip-path=\"url(#clip042)\" d=\"M1394.35 769.858 L1390.11 768.1 L1388.35 763.858 L1390.11 759.616 L1394.35 757.858 L1398.59 759.616 L1400.35 763.858 L1398.59 768.1 Z\" fill=\"#009af9\" fill-rule=\"evenodd\" fill-opacity=\"1\" stroke=\"#000000\" stroke-opacity=\"1\" stroke-width=\"3.2\"/>\n<path clip-path=\"url(#clip042)\" d=\"M1409.32 769.858 L1405.08 768.1 L1403.32 763.858 L1405.08 759.616 L1409.32 757.858 L1413.57 759.616 L1415.32 763.858 L1413.57 768.1 Z\" fill=\"#009af9\" fill-rule=\"evenodd\" fill-opacity=\"1\" stroke=\"#000000\" stroke-opacity=\"1\" stroke-width=\"3.2\"/>\n<path clip-path=\"url(#clip042)\" d=\"M1424.3 769.858 L1420.06 768.1 L1418.3 763.858 L1420.06 759.616 L1424.3 757.858 L1428.54 759.616 L1430.3 763.858 L1428.54 768.1 Z\" fill=\"#009af9\" fill-rule=\"evenodd\" fill-opacity=\"1\" stroke=\"#000000\" stroke-opacity=\"1\" stroke-width=\"3.2\"/>\n<path clip-path=\"url(#clip042)\" d=\"M1439.27 769.858 L1435.03 768.1 L1433.27 763.858 L1435.03 759.616 L1439.27 757.858 L1443.52 759.616 L1445.27 763.858 L1443.52 768.1 Z\" fill=\"#009af9\" fill-rule=\"evenodd\" fill-opacity=\"1\" stroke=\"#000000\" stroke-opacity=\"1\" stroke-width=\"3.2\"/>\n<path clip-path=\"url(#clip042)\" d=\"M1454.25 769.858 L1450.01 768.1 L1448.25 763.858 L1450.01 759.616 L1454.25 757.858 L1458.49 759.616 L1460.25 763.858 L1458.49 768.1 Z\" fill=\"#009af9\" fill-rule=\"evenodd\" fill-opacity=\"1\" stroke=\"#000000\" stroke-opacity=\"1\" stroke-width=\"3.2\"/>\n<path clip-path=\"url(#clip042)\" d=\"M1469.22 769.858 L1464.98 768.1 L1463.22 763.858 L1464.98 759.616 L1469.22 757.858 L1473.46 759.616 L1475.22 763.858 L1473.46 768.1 Z\" fill=\"#009af9\" fill-rule=\"evenodd\" fill-opacity=\"1\" stroke=\"#000000\" stroke-opacity=\"1\" stroke-width=\"3.2\"/>\n<path clip-path=\"url(#clip042)\" d=\"M1484.2 769.858 L1479.96 768.1 L1478.2 763.858 L1479.96 759.616 L1484.2 757.858 L1488.44 759.616 L1490.2 763.858 L1488.44 768.1 Z\" fill=\"#009af9\" fill-rule=\"evenodd\" fill-opacity=\"1\" stroke=\"#000000\" stroke-opacity=\"1\" stroke-width=\"3.2\"/>\n<path clip-path=\"url(#clip042)\" d=\"M1499.17 620.827 L1494.93 619.069 L1493.17 614.827 L1494.93 610.585 L1499.17 608.827 L1503.41 610.585 L1505.17 614.827 L1503.41 619.069 Z\" fill=\"#009af9\" fill-rule=\"evenodd\" fill-opacity=\"1\" stroke=\"#000000\" stroke-opacity=\"1\" stroke-width=\"3.2\"/>\n<path clip-path=\"url(#clip042)\" d=\"M1514.15 620.827 L1509.9 619.069 L1508.15 614.827 L1509.9 610.585 L1514.15 608.827 L1518.39 610.585 L1520.15 614.827 L1518.39 619.069 Z\" fill=\"#009af9\" fill-rule=\"evenodd\" fill-opacity=\"1\" stroke=\"#000000\" stroke-opacity=\"1\" stroke-width=\"3.2\"/>\n<path clip-path=\"url(#clip042)\" d=\"M1529.12 620.827 L1524.88 619.069 L1523.12 614.827 L1524.88 610.585 L1529.12 608.827 L1533.36 610.585 L1535.12 614.827 L1533.36 619.069 Z\" fill=\"#009af9\" fill-rule=\"evenodd\" fill-opacity=\"1\" stroke=\"#000000\" stroke-opacity=\"1\" stroke-width=\"3.2\"/>\n<path clip-path=\"url(#clip042)\" d=\"M1544.1 620.827 L1539.85 619.069 L1538.1 614.827 L1539.85 610.585 L1544.1 608.827 L1548.34 610.585 L1550.1 614.827 L1548.34 619.069 Z\" fill=\"#009af9\" fill-rule=\"evenodd\" fill-opacity=\"1\" stroke=\"#000000\" stroke-opacity=\"1\" stroke-width=\"3.2\"/>\n<path clip-path=\"url(#clip042)\" d=\"M1559.07 620.827 L1554.83 619.069 L1553.07 614.827 L1554.83 610.585 L1559.07 608.827 L1563.31 610.585 L1565.07 614.827 L1563.31 619.069 Z\" fill=\"#009af9\" fill-rule=\"evenodd\" fill-opacity=\"1\" stroke=\"#000000\" stroke-opacity=\"1\" stroke-width=\"3.2\"/>\n<path clip-path=\"url(#clip042)\" d=\"M1574.05 620.827 L1569.8 619.069 L1568.05 614.827 L1569.8 610.585 L1574.05 608.827 L1578.29 610.585 L1580.05 614.827 L1578.29 619.069 Z\" fill=\"#009af9\" fill-rule=\"evenodd\" fill-opacity=\"1\" stroke=\"#000000\" stroke-opacity=\"1\" stroke-width=\"3.2\"/>\n<path clip-path=\"url(#clip042)\" d=\"M1589.02 620.827 L1584.78 619.069 L1583.02 614.827 L1584.78 610.585 L1589.02 608.827 L1593.26 610.585 L1595.02 614.827 L1593.26 619.069 Z\" fill=\"#009af9\" fill-rule=\"evenodd\" fill-opacity=\"1\" stroke=\"#000000\" stroke-opacity=\"1\" stroke-width=\"3.2\"/>\n<path clip-path=\"url(#clip042)\" d=\"M1603.99 620.827 L1599.75 619.069 L1597.99 614.827 L1599.75 610.585 L1603.99 608.827 L1608.24 610.585 L1609.99 614.827 L1608.24 619.069 Z\" fill=\"#009af9\" fill-rule=\"evenodd\" fill-opacity=\"1\" stroke=\"#000000\" stroke-opacity=\"1\" stroke-width=\"3.2\"/>\n<path clip-path=\"url(#clip042)\" d=\"M1618.97 620.827 L1614.73 619.069 L1612.97 614.827 L1614.73 610.585 L1618.97 608.827 L1623.21 610.585 L1624.97 614.827 L1623.21 619.069 Z\" fill=\"#009af9\" fill-rule=\"evenodd\" fill-opacity=\"1\" stroke=\"#000000\" stroke-opacity=\"1\" stroke-width=\"3.2\"/>\n<path clip-path=\"url(#clip042)\" d=\"M1633.94 620.827 L1629.7 619.069 L1627.94 614.827 L1629.7 610.585 L1633.94 608.827 L1638.19 610.585 L1639.94 614.827 L1638.19 619.069 Z\" fill=\"#009af9\" fill-rule=\"evenodd\" fill-opacity=\"1\" stroke=\"#000000\" stroke-opacity=\"1\" stroke-width=\"3.2\"/>\n<path clip-path=\"url(#clip042)\" d=\"M1648.92 620.827 L1644.68 619.069 L1642.92 614.827 L1644.68 610.585 L1648.92 608.827 L1653.16 610.585 L1654.92 614.827 L1653.16 619.069 Z\" fill=\"#009af9\" fill-rule=\"evenodd\" fill-opacity=\"1\" stroke=\"#000000\" stroke-opacity=\"1\" stroke-width=\"3.2\"/>\n<path clip-path=\"url(#clip042)\" d=\"M1663.89 620.827 L1659.65 619.069 L1657.89 614.827 L1659.65 610.585 L1663.89 608.827 L1668.13 610.585 L1669.89 614.827 L1668.13 619.069 Z\" fill=\"#009af9\" fill-rule=\"evenodd\" fill-opacity=\"1\" stroke=\"#000000\" stroke-opacity=\"1\" stroke-width=\"3.2\"/>\n<path clip-path=\"url(#clip042)\" d=\"M1678.87 620.827 L1674.63 619.069 L1672.87 614.827 L1674.63 610.585 L1678.87 608.827 L1683.11 610.585 L1684.87 614.827 L1683.11 619.069 Z\" fill=\"#009af9\" fill-rule=\"evenodd\" fill-opacity=\"1\" stroke=\"#000000\" stroke-opacity=\"1\" stroke-width=\"3.2\"/>\n<path clip-path=\"url(#clip042)\" d=\"M1693.84 620.827 L1689.6 619.069 L1687.84 614.827 L1689.6 610.585 L1693.84 608.827 L1698.08 610.585 L1699.84 614.827 L1698.08 619.069 Z\" fill=\"#009af9\" fill-rule=\"evenodd\" fill-opacity=\"1\" stroke=\"#000000\" stroke-opacity=\"1\" stroke-width=\"3.2\"/>\n<path clip-path=\"url(#clip042)\" d=\"M1708.82 620.827 L1704.57 619.069 L1702.82 614.827 L1704.57 610.585 L1708.82 608.827 L1713.06 610.585 L1714.82 614.827 L1713.06 619.069 Z\" fill=\"#009af9\" fill-rule=\"evenodd\" fill-opacity=\"1\" stroke=\"#000000\" stroke-opacity=\"1\" stroke-width=\"3.2\"/>\n<path clip-path=\"url(#clip042)\" d=\"M1723.79 620.827 L1719.55 619.069 L1717.79 614.827 L1719.55 610.585 L1723.79 608.827 L1728.03 610.585 L1729.79 614.827 L1728.03 619.069 Z\" fill=\"#009af9\" fill-rule=\"evenodd\" fill-opacity=\"1\" stroke=\"#000000\" stroke-opacity=\"1\" stroke-width=\"3.2\"/>\n<path clip-path=\"url(#clip042)\" d=\"M1738.77 620.827 L1734.52 619.069 L1732.77 614.827 L1734.52 610.585 L1738.77 608.827 L1743.01 610.585 L1744.77 614.827 L1743.01 619.069 Z\" fill=\"#009af9\" fill-rule=\"evenodd\" fill-opacity=\"1\" stroke=\"#000000\" stroke-opacity=\"1\" stroke-width=\"3.2\"/>\n<path clip-path=\"url(#clip042)\" d=\"M1753.74 620.827 L1749.5 619.069 L1747.74 614.827 L1749.5 610.585 L1753.74 608.827 L1757.98 610.585 L1759.74 614.827 L1757.98 619.069 Z\" fill=\"#009af9\" fill-rule=\"evenodd\" fill-opacity=\"1\" stroke=\"#000000\" stroke-opacity=\"1\" stroke-width=\"3.2\"/>\n<path clip-path=\"url(#clip042)\" d=\"M1768.72 620.827 L1764.47 619.069 L1762.72 614.827 L1764.47 610.585 L1768.72 608.827 L1772.96 610.585 L1774.72 614.827 L1772.96 619.069 Z\" fill=\"#009af9\" fill-rule=\"evenodd\" fill-opacity=\"1\" stroke=\"#000000\" stroke-opacity=\"1\" stroke-width=\"3.2\"/>\n<path clip-path=\"url(#clip042)\" d=\"M1783.69 620.827 L1779.45 619.069 L1777.69 614.827 L1779.45 610.585 L1783.69 608.827 L1787.93 610.585 L1789.69 614.827 L1787.93 619.069 Z\" fill=\"#009af9\" fill-rule=\"evenodd\" fill-opacity=\"1\" stroke=\"#000000\" stroke-opacity=\"1\" stroke-width=\"3.2\"/>\n<path clip-path=\"url(#clip042)\" d=\"M1798.66 423.992 L1794.42 422.234 L1792.66 417.992 L1794.42 413.75 L1798.66 411.992 L1802.91 413.75 L1804.66 417.992 L1802.91 422.234 Z\" fill=\"#009af9\" fill-rule=\"evenodd\" fill-opacity=\"1\" stroke=\"#000000\" stroke-opacity=\"1\" stroke-width=\"3.2\"/>\n<path clip-path=\"url(#clip042)\" d=\"M1813.64 423.992 L1809.4 422.234 L1807.64 417.992 L1809.4 413.75 L1813.64 411.992 L1817.88 413.75 L1819.64 417.992 L1817.88 422.234 Z\" fill=\"#009af9\" fill-rule=\"evenodd\" fill-opacity=\"1\" stroke=\"#000000\" stroke-opacity=\"1\" stroke-width=\"3.2\"/>\n<path clip-path=\"url(#clip042)\" d=\"M1828.61 423.992 L1824.37 422.234 L1822.61 417.992 L1824.37 413.75 L1828.61 411.992 L1832.86 413.75 L1834.61 417.992 L1832.86 422.234 Z\" fill=\"#009af9\" fill-rule=\"evenodd\" fill-opacity=\"1\" stroke=\"#000000\" stroke-opacity=\"1\" stroke-width=\"3.2\"/>\n<path clip-path=\"url(#clip042)\" d=\"M1843.59 423.992 L1839.35 422.234 L1837.59 417.992 L1839.35 413.75 L1843.59 411.992 L1847.83 413.75 L1849.59 417.992 L1847.83 422.234 Z\" fill=\"#009af9\" fill-rule=\"evenodd\" fill-opacity=\"1\" stroke=\"#000000\" stroke-opacity=\"1\" stroke-width=\"3.2\"/>\n<path clip-path=\"url(#clip042)\" d=\"M1858.56 423.992 L1854.32 422.234 L1852.56 417.992 L1854.32 413.75 L1858.56 411.992 L1862.81 413.75 L1864.56 417.992 L1862.81 422.234 Z\" fill=\"#009af9\" fill-rule=\"evenodd\" fill-opacity=\"1\" stroke=\"#000000\" stroke-opacity=\"1\" stroke-width=\"3.2\"/>\n<path clip-path=\"url(#clip042)\" d=\"M1873.54 423.992 L1869.3 422.234 L1867.54 417.992 L1869.3 413.75 L1873.54 411.992 L1877.78 413.75 L1879.54 417.992 L1877.78 422.234 Z\" fill=\"#009af9\" fill-rule=\"evenodd\" fill-opacity=\"1\" stroke=\"#000000\" stroke-opacity=\"1\" stroke-width=\"3.2\"/>\n<path clip-path=\"url(#clip042)\" d=\"M1888.51 423.992 L1884.27 422.234 L1882.51 417.992 L1884.27 413.75 L1888.51 411.992 L1892.75 413.75 L1894.51 417.992 L1892.75 422.234 Z\" fill=\"#009af9\" fill-rule=\"evenodd\" fill-opacity=\"1\" stroke=\"#000000\" stroke-opacity=\"1\" stroke-width=\"3.2\"/>\n<path clip-path=\"url(#clip042)\" d=\"M1903.49 423.992 L1899.24 422.234 L1897.49 417.992 L1899.24 413.75 L1903.49 411.992 L1907.73 413.75 L1909.49 417.992 L1907.73 422.234 Z\" fill=\"#009af9\" fill-rule=\"evenodd\" fill-opacity=\"1\" stroke=\"#000000\" stroke-opacity=\"1\" stroke-width=\"3.2\"/>\n<path clip-path=\"url(#clip042)\" d=\"M1918.46 423.992 L1914.22 422.234 L1912.46 417.992 L1914.22 413.75 L1918.46 411.992 L1922.7 413.75 L1924.46 417.992 L1922.7 422.234 Z\" fill=\"#009af9\" fill-rule=\"evenodd\" fill-opacity=\"1\" stroke=\"#000000\" stroke-opacity=\"1\" stroke-width=\"3.2\"/>\n<path clip-path=\"url(#clip042)\" d=\"M1933.44 423.992 L1929.19 422.234 L1927.44 417.992 L1929.19 413.75 L1933.44 411.992 L1937.68 413.75 L1939.44 417.992 L1937.68 422.234 Z\" fill=\"#009af9\" fill-rule=\"evenodd\" fill-opacity=\"1\" stroke=\"#000000\" stroke-opacity=\"1\" stroke-width=\"3.2\"/>\n<path clip-path=\"url(#clip042)\" d=\"M1948.41 423.992 L1944.17 422.234 L1942.41 417.992 L1944.17 413.75 L1948.41 411.992 L1952.65 413.75 L1954.41 417.992 L1952.65 422.234 Z\" fill=\"#009af9\" fill-rule=\"evenodd\" fill-opacity=\"1\" stroke=\"#000000\" stroke-opacity=\"1\" stroke-width=\"3.2\"/>\n<path clip-path=\"url(#clip042)\" d=\"M1963.39 423.992 L1959.14 422.234 L1957.39 417.992 L1959.14 413.75 L1963.39 411.992 L1967.63 413.75 L1969.39 417.992 L1967.63 422.234 Z\" fill=\"#009af9\" fill-rule=\"evenodd\" fill-opacity=\"1\" stroke=\"#000000\" stroke-opacity=\"1\" stroke-width=\"3.2\"/>\n<path clip-path=\"url(#clip042)\" d=\"M1978.36 423.992 L1974.12 422.234 L1972.36 417.992 L1974.12 413.75 L1978.36 411.992 L1982.6 413.75 L1984.36 417.992 L1982.6 422.234 Z\" fill=\"#009af9\" fill-rule=\"evenodd\" fill-opacity=\"1\" stroke=\"#000000\" stroke-opacity=\"1\" stroke-width=\"3.2\"/>\n<path clip-path=\"url(#clip042)\" d=\"M1993.33 423.992 L1989.09 422.234 L1987.33 417.992 L1989.09 413.75 L1993.33 411.992 L1997.58 413.75 L1999.33 417.992 L1997.58 422.234 Z\" fill=\"#009af9\" fill-rule=\"evenodd\" fill-opacity=\"1\" stroke=\"#000000\" stroke-opacity=\"1\" stroke-width=\"3.2\"/>\n<path clip-path=\"url(#clip042)\" d=\"M2008.31 423.992 L2004.07 422.234 L2002.31 417.992 L2004.07 413.75 L2008.31 411.992 L2012.55 413.75 L2014.31 417.992 L2012.55 422.234 Z\" fill=\"#009af9\" fill-rule=\"evenodd\" fill-opacity=\"1\" stroke=\"#000000\" stroke-opacity=\"1\" stroke-width=\"3.2\"/>\n<path clip-path=\"url(#clip042)\" d=\"M2023.28 423.992 L2019.04 422.234 L2017.28 417.992 L2019.04 413.75 L2023.28 411.992 L2027.53 413.75 L2029.28 417.992 L2027.53 422.234 Z\" fill=\"#009af9\" fill-rule=\"evenodd\" fill-opacity=\"1\" stroke=\"#000000\" stroke-opacity=\"1\" stroke-width=\"3.2\"/>\n<path clip-path=\"url(#clip042)\" d=\"M2038.26 423.992 L2034.02 422.234 L2032.26 417.992 L2034.02 413.75 L2038.26 411.992 L2042.5 413.75 L2044.26 417.992 L2042.5 422.234 Z\" fill=\"#009af9\" fill-rule=\"evenodd\" fill-opacity=\"1\" stroke=\"#000000\" stroke-opacity=\"1\" stroke-width=\"3.2\"/>\n<path clip-path=\"url(#clip042)\" d=\"M2053.23 423.992 L2048.99 422.234 L2047.23 417.992 L2048.99 413.75 L2053.23 411.992 L2057.48 413.75 L2059.23 417.992 L2057.48 422.234 Z\" fill=\"#009af9\" fill-rule=\"evenodd\" fill-opacity=\"1\" stroke=\"#000000\" stroke-opacity=\"1\" stroke-width=\"3.2\"/>\n<path clip-path=\"url(#clip042)\" d=\"M2068.21 423.992 L2063.97 422.234 L2062.21 417.992 L2063.97 413.75 L2068.21 411.992 L2072.45 413.75 L2074.21 417.992 L2072.45 422.234 Z\" fill=\"#009af9\" fill-rule=\"evenodd\" fill-opacity=\"1\" stroke=\"#000000\" stroke-opacity=\"1\" stroke-width=\"3.2\"/>\n<path clip-path=\"url(#clip042)\" d=\"M2083.18 423.992 L2078.94 422.234 L2077.18 417.992 L2078.94 413.75 L2083.18 411.992 L2087.42 413.75 L2089.18 417.992 L2087.42 422.234 Z\" fill=\"#009af9\" fill-rule=\"evenodd\" fill-opacity=\"1\" stroke=\"#000000\" stroke-opacity=\"1\" stroke-width=\"3.2\"/>\n<path clip-path=\"url(#clip042)\" d=\"M2098.16 423.992 L2093.92 422.234 L2092.16 417.992 L2093.92 413.75 L2098.16 411.992 L2102.4 413.75 L2104.16 417.992 L2102.4 422.234 Z\" fill=\"#009af9\" fill-rule=\"evenodd\" fill-opacity=\"1\" stroke=\"#000000\" stroke-opacity=\"1\" stroke-width=\"3.2\"/>\n<path clip-path=\"url(#clip042)\" d=\"M2113.13 423.992 L2108.89 422.234 L2107.13 417.992 L2108.89 413.75 L2113.13 411.992 L2117.37 413.75 L2119.13 417.992 L2117.37 422.234 Z\" fill=\"#009af9\" fill-rule=\"evenodd\" fill-opacity=\"1\" stroke=\"#000000\" stroke-opacity=\"1\" stroke-width=\"3.2\"/>\n<path clip-path=\"url(#clip042)\" d=\"M2128.11 423.992 L2123.86 422.234 L2122.11 417.992 L2123.86 413.75 L2128.11 411.992 L2132.35 413.75 L2134.11 417.992 L2132.35 422.234 Z\" fill=\"#009af9\" fill-rule=\"evenodd\" fill-opacity=\"1\" stroke=\"#000000\" stroke-opacity=\"1\" stroke-width=\"3.2\"/>\n<path clip-path=\"url(#clip042)\" d=\"M2143.08 423.992 L2138.84 422.234 L2137.08 417.992 L2138.84 413.75 L2143.08 411.992 L2147.32 413.75 L2149.08 417.992 L2147.32 422.234 Z\" fill=\"#009af9\" fill-rule=\"evenodd\" fill-opacity=\"1\" stroke=\"#000000\" stroke-opacity=\"1\" stroke-width=\"3.2\"/>\n<path clip-path=\"url(#clip042)\" d=\"M2158.06 423.992 L2153.81 422.234 L2152.06 417.992 L2153.81 413.75 L2158.06 411.992 L2162.3 413.75 L2164.06 417.992 L2162.3 422.234 Z\" fill=\"#009af9\" fill-rule=\"evenodd\" fill-opacity=\"1\" stroke=\"#000000\" stroke-opacity=\"1\" stroke-width=\"3.2\"/>\n<path clip-path=\"url(#clip042)\" d=\"M2173.03 423.992 L2168.79 422.234 L2167.03 417.992 L2168.79 413.75 L2173.03 411.992 L2177.27 413.75 L2179.03 417.992 L2177.27 422.234 Z\" fill=\"#009af9\" fill-rule=\"evenodd\" fill-opacity=\"1\" stroke=\"#000000\" stroke-opacity=\"1\" stroke-width=\"3.2\"/>\n<path clip-path=\"url(#clip042)\" d=\"M2188 423.992 L2183.76 422.234 L2182 417.992 L2183.76 413.75 L2188 411.992 L2192.25 413.75 L2194 417.992 L2192.25 422.234 Z\" fill=\"#009af9\" fill-rule=\"evenodd\" fill-opacity=\"1\" stroke=\"#000000\" stroke-opacity=\"1\" stroke-width=\"3.2\"/>\n<path clip-path=\"url(#clip042)\" d=\"M2202.98 423.992 L2198.74 422.234 L2196.98 417.992 L2198.74 413.75 L2202.98 411.992 L2207.22 413.75 L2208.98 417.992 L2207.22 422.234 Z\" fill=\"#009af9\" fill-rule=\"evenodd\" fill-opacity=\"1\" stroke=\"#000000\" stroke-opacity=\"1\" stroke-width=\"3.2\"/>\n<path clip-path=\"url(#clip042)\" d=\"M2217.95 423.992 L2213.71 422.234 L2211.95 417.992 L2213.71 413.75 L2217.95 411.992 L2222.2 413.75 L2223.95 417.992 L2222.2 422.234 Z\" fill=\"#009af9\" fill-rule=\"evenodd\" fill-opacity=\"1\" stroke=\"#000000\" stroke-opacity=\"1\" stroke-width=\"3.2\"/>\n<path clip-path=\"url(#clip042)\" d=\"M2232.93 423.992 L2228.69 422.234 L2226.93 417.992 L2228.69 413.75 L2232.93 411.992 L2237.17 413.75 L2238.93 417.992 L2237.17 422.234 Z\" fill=\"#009af9\" fill-rule=\"evenodd\" fill-opacity=\"1\" stroke=\"#000000\" stroke-opacity=\"1\" stroke-width=\"3.2\"/>\n<path clip-path=\"url(#clip042)\" d=\"M2247.9 423.992 L2243.66 422.234 L2241.9 417.992 L2243.66 413.75 L2247.9 411.992 L2252.15 413.75 L2253.9 417.992 L2252.15 422.234 Z\" fill=\"#009af9\" fill-rule=\"evenodd\" fill-opacity=\"1\" stroke=\"#000000\" stroke-opacity=\"1\" stroke-width=\"3.2\"/>\n<path clip-path=\"url(#clip042)\" d=\"M2262.88 423.992 L2258.64 422.234 L2256.88 417.992 L2258.64 413.75 L2262.88 411.992 L2267.12 413.75 L2268.88 417.992 L2267.12 422.234 Z\" fill=\"#009af9\" fill-rule=\"evenodd\" fill-opacity=\"1\" stroke=\"#000000\" stroke-opacity=\"1\" stroke-width=\"3.2\"/>\n<path clip-path=\"url(#clip042)\" d=\"M2277.85 423.992 L2273.61 422.234 L2271.85 417.992 L2273.61 413.75 L2277.85 411.992 L2282.09 413.75 L2283.85 417.992 L2282.09 422.234 Z\" fill=\"#009af9\" fill-rule=\"evenodd\" fill-opacity=\"1\" stroke=\"#000000\" stroke-opacity=\"1\" stroke-width=\"3.2\"/>\n<path clip-path=\"url(#clip042)\" d=\"M2292.83 92.1857 L2288.59 90.4277 L2286.83 86.1857 L2288.59 81.9437 L2292.83 80.1857 L2297.07 81.9437 L2298.83 86.1857 L2297.07 90.4277 Z\" fill=\"#009af9\" fill-rule=\"evenodd\" fill-opacity=\"1\" stroke=\"#000000\" stroke-opacity=\"1\" stroke-width=\"3.2\"/>\n<polyline clip-path=\"url(#clip042)\" style=\"stroke:#e26f46; stroke-linecap:butt; stroke-linejoin:round; stroke-width:4; stroke-opacity:1; fill:none\" points=\"\n  295.211,1384.24 296.709,1383.18 298.206,1382.13 299.704,1381.07 301.201,1380.02 302.699,1378.97 304.196,1377.91 305.694,1376.86 307.191,1375.8 308.689,1374.75 \n  310.186,1373.69 311.683,1372.64 313.181,1371.58 314.678,1370.53 316.176,1369.48 317.673,1368.42 319.171,1367.37 320.668,1366.31 322.166,1365.26 323.663,1364.2 \n  325.161,1363.15 326.658,1362.09 328.156,1361.04 329.653,1359.99 331.15,1358.93 332.648,1357.88 334.145,1356.82 335.643,1355.77 337.14,1354.71 338.638,1353.66 \n  340.135,1352.6 341.633,1351.55 343.13,1350.5 344.628,1349.44 346.125,1348.39 347.623,1347.33 349.12,1346.28 350.617,1345.22 352.115,1344.17 353.612,1343.11 \n  355.11,1342.06 356.607,1341 358.105,1339.95 359.602,1338.9 361.1,1337.84 362.597,1336.79 364.095,1335.73 365.592,1334.68 367.09,1333.62 368.587,1332.57 \n  370.084,1331.51 371.582,1330.46 373.079,1329.41 374.577,1328.35 376.074,1327.3 377.572,1326.24 379.069,1325.19 380.567,1324.13 382.064,1323.08 383.562,1322.02 \n  385.059,1320.97 386.557,1319.92 388.054,1318.86 389.552,1317.81 391.049,1316.75 392.546,1315.7 394.044,1314.64 395.541,1313.59 397.039,1312.53 398.536,1311.48 \n  400.034,1310.43 401.531,1309.37 403.029,1308.32 404.526,1307.26 406.024,1306.21 407.521,1305.15 409.019,1304.1 410.516,1303.04 412.013,1301.99 413.511,1300.94 \n  415.008,1299.88 416.506,1298.83 418.003,1297.77 419.501,1296.72 420.998,1295.66 422.496,1294.61 423.993,1293.55 425.491,1292.5 426.988,1291.44 428.486,1290.39 \n  429.983,1289.34 431.48,1288.28 432.978,1287.23 434.475,1286.17 435.973,1285.12 437.47,1284.06 438.968,1283.01 440.465,1281.95 441.963,1280.9 443.46,1279.85 \n  444.958,1278.79 446.455,1277.74 447.953,1276.68 449.45,1275.63 450.948,1274.57 452.445,1273.52 453.942,1272.46 455.44,1271.41 456.937,1270.36 458.435,1269.3 \n  459.932,1268.25 461.43,1267.19 462.927,1266.14 464.425,1265.08 465.922,1264.03 467.42,1262.97 468.917,1261.92 470.415,1260.87 471.912,1259.81 473.409,1258.76 \n  474.907,1257.7 476.404,1256.65 477.902,1255.59 479.399,1254.54 480.897,1253.48 482.394,1252.43 483.892,1251.38 485.389,1250.32 486.887,1249.27 488.384,1248.21 \n  489.882,1247.16 491.379,1246.1 492.876,1245.05 494.374,1243.99 495.871,1242.94 497.369,1241.88 498.866,1240.83 500.364,1239.78 501.861,1238.72 503.359,1237.67 \n  504.856,1236.61 506.354,1235.56 507.851,1234.5 509.349,1233.45 510.846,1232.39 512.344,1231.34 513.841,1230.29 515.338,1229.23 516.836,1228.18 518.333,1227.12 \n  519.831,1226.07 521.328,1225.01 522.826,1223.96 524.323,1222.9 525.821,1221.85 527.318,1220.8 528.816,1219.74 530.313,1218.69 531.811,1217.63 533.308,1216.58 \n  534.805,1215.52 536.303,1214.47 537.8,1213.41 539.298,1212.36 540.795,1211.31 542.293,1210.25 543.79,1209.2 545.288,1208.14 546.785,1207.09 548.283,1206.03 \n  549.78,1204.98 551.278,1203.92 552.775,1202.87 554.272,1201.81 555.77,1200.76 557.267,1199.71 558.765,1198.65 560.262,1197.6 561.76,1196.54 563.257,1195.49 \n  564.755,1194.43 566.252,1193.38 567.75,1192.32 569.247,1191.27 570.745,1190.22 572.242,1189.16 573.74,1188.11 575.237,1187.05 576.734,1186 578.232,1184.94 \n  579.729,1183.89 581.227,1182.83 582.724,1181.78 584.222,1180.73 585.719,1179.67 587.217,1178.62 588.714,1177.56 590.212,1176.51 591.709,1175.45 593.207,1174.4 \n  594.704,1173.34 596.201,1172.29 597.699,1171.24 599.196,1170.18 600.694,1169.13 602.191,1168.07 603.689,1167.02 605.186,1165.96 606.684,1164.91 608.181,1163.85 \n  609.679,1162.8 611.176,1161.75 612.674,1160.69 614.171,1159.64 615.668,1158.58 617.166,1157.53 618.663,1156.47 620.161,1155.42 621.658,1154.36 623.156,1153.31 \n  624.653,1152.25 626.151,1151.2 627.648,1150.15 629.146,1149.09 630.643,1148.04 632.141,1146.98 633.638,1145.93 635.136,1144.87 636.633,1143.82 638.13,1142.76 \n  639.628,1141.71 641.125,1140.66 642.623,1139.6 644.12,1138.55 645.618,1137.49 647.115,1136.44 648.613,1135.38 650.11,1134.33 651.608,1133.27 653.105,1132.22 \n  654.603,1131.17 656.1,1130.11 657.597,1129.06 659.095,1128 660.592,1126.95 662.09,1125.89 663.587,1124.84 665.085,1123.78 666.582,1122.73 668.08,1121.68 \n  669.577,1120.62 671.075,1119.57 672.572,1118.51 674.07,1117.46 675.567,1116.4 677.064,1115.35 678.562,1114.29 680.059,1113.24 681.557,1112.19 683.054,1111.13 \n  684.552,1110.08 686.049,1109.02 687.547,1107.97 689.044,1106.91 690.542,1105.86 692.039,1104.8 693.537,1103.75 695.034,1102.69 696.532,1101.64 698.029,1100.59 \n  699.526,1099.53 701.024,1098.48 702.521,1097.42 704.019,1096.37 705.516,1095.31 707.014,1094.26 708.511,1093.2 710.009,1092.15 711.506,1091.1 713.004,1090.04 \n  714.501,1088.99 715.999,1087.93 717.496,1086.88 718.993,1085.82 720.491,1084.77 721.988,1083.71 723.486,1082.66 724.983,1081.61 726.481,1080.55 727.978,1079.5 \n  729.476,1078.44 730.973,1077.39 732.471,1076.33 733.968,1075.28 735.466,1074.22 736.963,1073.17 738.46,1072.12 739.958,1071.06 741.455,1070.01 742.953,1068.95 \n  744.45,1067.9 745.948,1066.84 747.445,1065.79 748.943,1064.73 750.44,1063.68 751.938,1062.62 753.435,1061.57 754.933,1060.52 756.43,1059.46 757.928,1058.41 \n  759.425,1057.35 760.922,1056.3 762.42,1055.24 763.917,1054.19 765.415,1053.13 766.912,1052.08 768.41,1051.03 769.907,1049.97 771.405,1048.92 772.902,1047.86 \n  774.4,1046.81 775.897,1045.75 777.395,1044.7 778.892,1043.64 780.389,1042.59 781.887,1041.54 783.384,1040.48 784.882,1039.43 786.379,1038.37 787.877,1037.32 \n  789.374,1036.26 790.872,1035.21 792.369,1034.15 793.867,1033.1 795.364,1032.05 796.862,1030.99 798.359,1029.94 799.856,1028.88 801.354,1027.83 802.851,1026.77 \n  804.349,1025.72 805.846,1024.66 807.344,1023.61 808.841,1022.56 810.339,1021.5 811.836,1020.45 813.334,1019.39 814.831,1018.34 816.329,1017.28 817.826,1016.23 \n  819.324,1015.17 820.821,1014.12 822.318,1013.06 823.816,1012.01 825.313,1010.96 826.811,1009.9 828.308,1008.85 829.806,1007.79 831.303,1006.74 832.801,1005.68 \n  834.298,1004.63 835.796,1003.57 837.293,1002.52 838.791,1001.47 840.288,1000.41 841.785,999.357 843.283,998.302 844.78,997.248 846.278,996.193 847.775,995.139 \n  849.273,994.084 850.77,993.03 852.268,991.975 853.765,990.921 855.263,989.866 856.76,988.812 858.258,987.758 859.755,986.703 861.252,985.649 862.75,984.594 \n  864.247,983.54 865.745,982.485 867.242,981.431 868.74,980.376 870.237,979.322 871.735,978.267 873.232,977.213 874.73,976.158 876.227,975.104 877.725,974.049 \n  879.222,972.995 880.719,971.94 882.217,970.886 883.714,969.832 885.212,968.777 886.709,967.723 888.207,966.668 889.704,965.614 891.202,964.559 892.699,963.505 \n  894.197,962.45 895.694,961.396 897.192,960.341 898.689,959.287 900.187,958.232 901.684,957.178 903.181,956.123 904.679,955.069 906.176,954.014 907.674,952.96 \n  909.171,951.906 910.669,950.851 912.166,949.797 913.664,948.742 915.161,947.688 916.659,946.633 918.156,945.579 919.654,944.524 921.151,943.47 922.648,942.415 \n  924.146,941.361 925.643,940.306 927.141,939.252 928.638,938.197 930.136,937.143 931.633,936.089 933.131,935.034 934.628,933.98 936.126,932.925 937.623,931.871 \n  939.121,930.816 940.618,929.762 942.115,928.707 943.613,927.653 945.11,926.598 946.608,925.544 948.105,924.489 949.603,923.435 951.1,922.38 952.598,921.326 \n  954.095,920.271 955.593,919.217 957.09,918.163 958.588,917.108 960.085,916.054 961.583,914.999 963.08,913.945 964.577,912.89 966.075,911.836 967.572,910.781 \n  969.07,909.727 970.567,908.672 972.065,907.618 973.562,906.563 975.06,905.509 976.557,904.454 978.055,903.4 979.552,902.345 981.05,901.291 982.547,900.237 \n  984.044,899.182 985.542,898.128 987.039,897.073 988.537,896.019 990.034,894.964 991.532,893.91 993.029,892.855 994.527,891.801 996.024,890.746 997.522,889.692 \n  999.019,888.637 1000.52,887.583 1002.01,886.528 1003.51,885.474 1005.01,884.419 1006.51,883.365 1008,882.311 1009.5,881.256 1011,880.202 1012.5,879.147 \n  1013.99,878.093 1015.49,877.038 1016.99,875.984 1018.49,874.929 1019.98,873.875 1021.48,872.82 1022.98,871.766 1024.48,870.711 1025.97,869.657 1027.47,868.602 \n  1028.97,867.548 1030.47,866.493 1031.96,865.439 1033.46,864.385 1034.96,863.33 1036.46,862.276 1037.95,861.221 1039.45,860.167 1040.95,859.112 1042.45,858.058 \n  1043.94,857.003 1045.44,855.949 1046.94,854.894 1048.44,853.84 1049.93,852.785 1051.43,851.731 1052.93,850.676 1054.43,849.622 1055.92,848.567 1057.42,847.513 \n  1058.92,846.459 1060.42,845.404 1061.91,844.35 1063.41,843.295 1064.91,842.241 1066.4,841.186 1067.9,840.132 1069.4,839.077 1070.9,838.023 1072.39,836.968 \n  1073.89,835.914 1075.39,834.859 1076.89,833.805 1078.38,832.75 1079.88,831.696 1081.38,830.642 1082.88,829.587 1084.37,828.533 1085.87,827.478 1087.37,826.424 \n  1088.87,825.369 1090.36,824.315 1091.86,823.26 1093.36,822.206 1094.86,821.151 1096.35,820.097 1097.85,819.042 1099.35,817.988 1100.85,816.933 1102.34,815.879 \n  1103.84,814.824 1105.34,813.77 1106.84,812.716 1108.33,811.661 1109.83,810.607 1111.33,809.552 1112.83,808.498 1114.32,807.443 1115.82,806.389 1117.32,805.334 \n  1118.82,804.28 1120.31,803.225 1121.81,802.171 1123.31,801.116 1124.81,800.062 1126.3,799.007 1127.8,797.953 1129.3,796.898 1130.8,795.844 1132.29,794.79 \n  1133.79,793.735 1135.29,792.681 1136.79,791.626 1138.28,790.572 1139.78,789.517 1141.28,788.463 1142.78,787.408 1144.27,786.354 1145.77,785.299 1147.27,784.245 \n  1148.77,783.19 1150.26,782.136 1151.76,781.081 1153.26,780.027 1154.76,778.972 1156.25,777.918 1157.75,776.864 1159.25,775.809 1160.75,774.755 1162.24,773.7 \n  1163.74,772.646 1165.24,771.591 1166.73,770.537 1168.23,769.482 1169.73,768.428 1171.23,767.373 1172.72,766.319 1174.22,765.264 1175.72,764.21 1177.22,763.155 \n  1178.71,762.101 1180.21,761.046 1181.71,759.992 1183.21,758.938 1184.7,757.883 1186.2,756.829 1187.7,755.774 1189.2,754.72 1190.69,753.665 1192.19,752.611 \n  1193.69,751.556 1195.19,750.502 1196.68,749.447 1198.18,748.393 1199.68,747.338 1201.18,746.284 1202.67,745.229 1204.17,744.175 1205.67,743.12 1207.17,742.066 \n  1208.66,741.012 1210.16,739.957 1211.66,738.903 1213.16,737.848 1214.65,736.794 1216.15,735.739 1217.65,734.685 1219.15,733.63 1220.64,732.576 1222.14,731.521 \n  1223.64,730.467 1225.14,729.412 1226.63,728.358 1228.13,727.303 1229.63,726.249 1231.13,725.195 1232.62,724.14 1234.12,723.086 1235.62,722.031 1237.12,720.977 \n  1238.61,719.922 1240.11,718.868 1241.61,717.813 1243.11,716.759 1244.6,715.704 1246.1,714.65 1247.6,713.595 1249.1,712.541 1250.59,711.486 1252.09,710.432 \n  1253.59,709.377 1255.09,708.323 1256.58,707.269 1258.08,706.214 1259.58,705.16 1261.08,704.105 1262.57,703.051 1264.07,701.996 1265.57,700.942 1267.07,699.887 \n  1268.56,698.833 1270.06,697.778 1271.56,696.724 1273.05,695.669 1274.55,694.615 1276.05,693.56 1277.55,692.506 1279.04,691.451 1280.54,690.397 1282.04,689.343 \n  1283.54,688.288 1285.03,687.234 1286.53,686.179 1288.03,685.125 1289.53,684.07 1291.02,683.016 1292.52,681.961 1294.02,680.907 1295.52,679.852 1297.01,678.798 \n  1298.51,677.743 1300.01,676.689 1301.51,675.634 1303,674.58 1304.5,673.525 1306,672.471 1307.5,671.417 1308.99,670.362 1310.49,669.308 1311.99,668.253 \n  1313.49,667.199 1314.98,666.144 1316.48,665.09 1317.98,664.035 1319.48,662.981 1320.97,661.926 1322.47,660.872 1323.97,659.817 1325.47,658.763 1326.96,657.708 \n  1328.46,656.654 1329.96,655.599 1331.46,654.545 1332.95,653.491 1334.45,652.436 1335.95,651.382 1337.45,650.327 1338.94,649.273 1340.44,648.218 1341.94,647.164 \n  1343.44,646.109 1344.93,645.055 1346.43,644 1347.93,642.946 1349.43,641.891 1350.92,640.837 1352.42,639.782 1353.92,638.728 1355.42,637.673 1356.91,636.619 \n  1358.41,635.565 1359.91,634.51 1361.41,633.456 1362.9,632.401 1364.4,631.347 1365.9,630.292 1367.4,629.238 1368.89,628.183 1370.39,627.129 1371.89,626.074 \n  1373.38,625.02 1374.88,623.965 1376.38,622.911 1377.88,621.856 1379.37,620.802 1380.87,619.748 1382.37,618.693 1383.87,617.639 1385.36,616.584 1386.86,615.53 \n  1388.36,614.475 1389.86,613.421 1391.35,612.366 1392.85,611.312 1394.35,610.257 1395.85,609.203 1397.34,608.148 1398.84,607.094 1400.34,606.039 1401.84,604.985 \n  1403.33,603.93 1404.83,602.876 1406.33,601.822 1407.83,600.767 1409.32,599.713 1410.82,598.658 1412.32,597.604 1413.82,596.549 1415.31,595.495 1416.81,594.44 \n  1418.31,593.386 1419.81,592.331 1421.3,591.277 1422.8,590.222 1424.3,589.168 1425.8,588.113 1427.29,587.059 1428.79,586.004 1430.29,584.95 1431.79,583.896 \n  1433.28,582.841 1434.78,581.787 1436.28,580.732 1437.78,579.678 1439.27,578.623 1440.77,577.569 1442.27,576.514 1443.77,575.46 1445.26,574.405 1446.76,573.351 \n  1448.26,572.296 1449.76,571.242 1451.25,570.187 1452.75,569.133 1454.25,568.078 1455.75,567.024 1457.24,565.97 1458.74,564.915 1460.24,563.861 1461.74,562.806 \n  1463.23,561.752 1464.73,560.697 1466.23,559.643 1467.73,558.588 1469.22,557.534 1470.72,556.479 1472.22,555.425 1473.71,554.37 1475.21,553.316 1476.71,552.261 \n  1478.21,551.207 1479.7,550.152 1481.2,549.098 1482.7,548.044 1484.2,546.989 1485.69,545.935 1487.19,544.88 1488.69,543.826 1490.19,542.771 1491.68,541.717 \n  1493.18,540.662 1494.68,539.608 1496.18,538.553 1497.67,537.499 1499.17,536.444 1500.67,535.39 1502.17,534.335 1503.66,533.281 1505.16,532.226 1506.66,531.172 \n  1508.16,530.118 1509.65,529.063 1511.15,528.009 1512.65,526.954 1514.15,525.9 1515.64,524.845 1517.14,523.791 1518.64,522.736 1520.14,521.682 1521.63,520.627 \n  1523.13,519.573 1524.63,518.518 1526.13,517.464 1527.62,516.409 1529.12,515.355 1530.62,514.3 1532.12,513.246 1533.61,512.192 1535.11,511.137 1536.61,510.083 \n  1538.11,509.028 1539.6,507.974 1541.1,506.919 1542.6,505.865 1544.1,504.81 1545.59,503.756 1547.09,502.701 1548.59,501.647 1550.09,500.592 1551.58,499.538 \n  1553.08,498.483 1554.58,497.429 1556.08,496.375 1557.57,495.32 1559.07,494.266 1560.57,493.211 1562.07,492.157 1563.56,491.102 1565.06,490.048 1566.56,488.993 \n  1568.06,487.939 1569.55,486.884 1571.05,485.83 1572.55,484.775 1574.05,483.721 1575.54,482.666 1577.04,481.612 1578.54,480.557 1580.03,479.503 1581.53,478.449 \n  1583.03,477.394 1584.53,476.34 1586.02,475.285 1587.52,474.231 1589.02,473.176 1590.52,472.122 1592.01,471.067 1593.51,470.013 1595.01,468.958 1596.51,467.904 \n  1598,466.849 1599.5,465.795 1601,464.74 1602.5,463.686 1603.99,462.631 1605.49,461.577 1606.99,460.523 1608.49,459.468 1609.98,458.414 1611.48,457.359 \n  1612.98,456.305 1614.48,455.25 1615.97,454.196 1617.47,453.141 1618.97,452.087 1620.47,451.032 1621.96,449.978 1623.46,448.923 1624.96,447.869 1626.46,446.814 \n  1627.95,445.76 1629.45,444.705 1630.95,443.651 1632.45,442.597 1633.94,441.542 1635.44,440.488 1636.94,439.433 1638.44,438.379 1639.93,437.324 1641.43,436.27 \n  1642.93,435.215 1644.43,434.161 1645.92,433.106 1647.42,432.052 1648.92,430.997 1650.42,429.943 1651.91,428.888 1653.41,427.834 1654.91,426.779 1656.41,425.725 \n  1657.9,424.671 1659.4,423.616 1660.9,422.562 1662.4,421.507 1663.89,420.453 1665.39,419.398 1666.89,418.344 1668.39,417.289 1669.88,416.235 1671.38,415.18 \n  1672.88,414.126 1674.38,413.071 1675.87,412.017 1677.37,410.962 1678.87,409.908 1680.36,408.853 1681.86,407.799 1683.36,406.745 1684.86,405.69 1686.35,404.636 \n  1687.85,403.581 1689.35,402.527 1690.85,401.472 1692.34,400.418 1693.84,399.363 1695.34,398.309 1696.84,397.254 1698.33,396.2 1699.83,395.145 1701.33,394.091 \n  1702.83,393.036 1704.32,391.982 1705.82,390.928 1707.32,389.873 1708.82,388.819 1710.31,387.764 1711.81,386.71 1713.31,385.655 1714.81,384.601 1716.3,383.546 \n  1717.8,382.492 1719.3,381.437 1720.8,380.383 1722.29,379.328 1723.79,378.274 1725.29,377.219 1726.79,376.165 1728.28,375.11 1729.78,374.056 1731.28,373.002 \n  1732.78,371.947 1734.27,370.893 1735.77,369.838 1737.27,368.784 1738.77,367.729 1740.26,366.675 1741.76,365.62 1743.26,364.566 1744.76,363.511 1746.25,362.457 \n  1747.75,361.402 1749.25,360.348 1750.75,359.293 1752.24,358.239 1753.74,357.184 1755.24,356.13 1756.74,355.076 1758.23,354.021 1759.73,352.967 1761.23,351.912 \n  1762.73,350.858 1764.22,349.803 1765.72,348.749 1767.22,347.694 1768.72,346.64 1770.21,345.585 1771.71,344.531 1773.21,343.476 1774.71,342.422 1776.2,341.367 \n  1777.7,340.313 1779.2,339.258 1780.69,338.204 1782.19,337.15 1783.69,336.095 1785.19,335.041 1786.68,333.986 1788.18,332.932 1789.68,331.877 1791.18,330.823 \n  \n  \"/>\n<polyline clip-path=\"url(#clip042)\" style=\"stroke:#3da44d; stroke-linecap:butt; stroke-linejoin:round; stroke-width:4; stroke-opacity:1; fill:none\" points=\"\n  301.201,1374.05 316.176,1368.42 331.15,1354.36 346.125,1337.49 361.1,1331.87 376.074,1326.24 391.049,1320.62 406.024,1312.18 420.998,1300.94 435.973,1292.5 \n  450.948,1284.06 465.922,1270 480.897,1258.76 495.871,1253.13 510.846,1250.32 525.821,1241.88 540.795,1227.83 555.77,1227.83 570.745,1222.2 585.719,1222.2 \n  600.694,1199.71 615.668,1199.71 630.643,1177.21 645.618,1177.21 660.592,1177.21 675.567,1157.53 690.542,1157.53 705.516,1157.53 720.491,1120.97 735.466,1120.97 \n  750.44,1120.97 765.415,1120.97 780.389,1120.97 795.364,1073.17 810.339,1073.17 825.313,1073.17 840.288,1073.17 855.263,1073.17 870.237,1073.17 885.212,1073.17 \n  900.187,971.94 915.161,971.94 930.136,971.94 945.11,971.94 960.085,971.94 975.06,971.94 990.034,971.94 1005.01,971.94 1019.98,971.94 1034.96,971.94 \n  1049.93,834.156 1064.91,834.156 1079.88,834.156 1094.86,834.156 1109.83,834.156 1124.81,834.156 1139.78,834.156 1154.76,834.156 1169.73,834.156 1184.7,834.156 \n  1199.68,834.156 1214.65,834.156 1229.63,834.156 1244.6,834.156 1259.58,834.156 1274.55,834.156 1289.53,572.648 \n  \"/>\n<path clip-path=\"url(#clip042)\" d=\"M301.201 1368.05 L295.201 1374.05 L301.201 1380.05 L307.201 1374.05 L301.201 1368.05 Z\" fill=\"#3da44d\" fill-rule=\"evenodd\" fill-opacity=\"1\" stroke=\"#000000\" stroke-opacity=\"1\" stroke-width=\"3.2\"/>\n<path clip-path=\"url(#clip042)\" d=\"M316.176 1362.42 L310.176 1368.42 L316.176 1374.42 L322.176 1368.42 L316.176 1362.42 Z\" fill=\"#3da44d\" fill-rule=\"evenodd\" fill-opacity=\"1\" stroke=\"#000000\" stroke-opacity=\"1\" stroke-width=\"3.2\"/>\n<path clip-path=\"url(#clip042)\" d=\"M331.15 1348.36 L325.15 1354.36 L331.15 1360.36 L337.15 1354.36 L331.15 1348.36 Z\" fill=\"#3da44d\" fill-rule=\"evenodd\" fill-opacity=\"1\" stroke=\"#000000\" stroke-opacity=\"1\" stroke-width=\"3.2\"/>\n<path clip-path=\"url(#clip042)\" d=\"M346.125 1331.49 L340.125 1337.49 L346.125 1343.49 L352.125 1337.49 L346.125 1331.49 Z\" fill=\"#3da44d\" fill-rule=\"evenodd\" fill-opacity=\"1\" stroke=\"#000000\" stroke-opacity=\"1\" stroke-width=\"3.2\"/>\n<path clip-path=\"url(#clip042)\" d=\"M361.1 1325.87 L355.1 1331.87 L361.1 1337.87 L367.1 1331.87 L361.1 1325.87 Z\" fill=\"#3da44d\" fill-rule=\"evenodd\" fill-opacity=\"1\" stroke=\"#000000\" stroke-opacity=\"1\" stroke-width=\"3.2\"/>\n<path clip-path=\"url(#clip042)\" d=\"M376.074 1320.24 L370.074 1326.24 L376.074 1332.24 L382.074 1326.24 L376.074 1320.24 Z\" fill=\"#3da44d\" fill-rule=\"evenodd\" fill-opacity=\"1\" stroke=\"#000000\" stroke-opacity=\"1\" stroke-width=\"3.2\"/>\n<path clip-path=\"url(#clip042)\" d=\"M391.049 1314.62 L385.049 1320.62 L391.049 1326.62 L397.049 1320.62 L391.049 1314.62 Z\" fill=\"#3da44d\" fill-rule=\"evenodd\" fill-opacity=\"1\" stroke=\"#000000\" stroke-opacity=\"1\" stroke-width=\"3.2\"/>\n<path clip-path=\"url(#clip042)\" d=\"M406.024 1306.18 L400.024 1312.18 L406.024 1318.18 L412.024 1312.18 L406.024 1306.18 Z\" fill=\"#3da44d\" fill-rule=\"evenodd\" fill-opacity=\"1\" stroke=\"#000000\" stroke-opacity=\"1\" stroke-width=\"3.2\"/>\n<path clip-path=\"url(#clip042)\" d=\"M420.998 1294.94 L414.998 1300.94 L420.998 1306.94 L426.998 1300.94 L420.998 1294.94 Z\" fill=\"#3da44d\" fill-rule=\"evenodd\" fill-opacity=\"1\" stroke=\"#000000\" stroke-opacity=\"1\" stroke-width=\"3.2\"/>\n<path clip-path=\"url(#clip042)\" d=\"M435.973 1286.5 L429.973 1292.5 L435.973 1298.5 L441.973 1292.5 L435.973 1286.5 Z\" fill=\"#3da44d\" fill-rule=\"evenodd\" fill-opacity=\"1\" stroke=\"#000000\" stroke-opacity=\"1\" stroke-width=\"3.2\"/>\n<path clip-path=\"url(#clip042)\" d=\"M450.948 1278.06 L444.948 1284.06 L450.948 1290.06 L456.948 1284.06 L450.948 1278.06 Z\" fill=\"#3da44d\" fill-rule=\"evenodd\" fill-opacity=\"1\" stroke=\"#000000\" stroke-opacity=\"1\" stroke-width=\"3.2\"/>\n<path clip-path=\"url(#clip042)\" d=\"M465.922 1264 L459.922 1270 L465.922 1276 L471.922 1270 L465.922 1264 Z\" fill=\"#3da44d\" fill-rule=\"evenodd\" fill-opacity=\"1\" stroke=\"#000000\" stroke-opacity=\"1\" stroke-width=\"3.2\"/>\n<path clip-path=\"url(#clip042)\" d=\"M480.897 1252.76 L474.897 1258.76 L480.897 1264.76 L486.897 1258.76 L480.897 1252.76 Z\" fill=\"#3da44d\" fill-rule=\"evenodd\" fill-opacity=\"1\" stroke=\"#000000\" stroke-opacity=\"1\" stroke-width=\"3.2\"/>\n<path clip-path=\"url(#clip042)\" d=\"M495.871 1247.13 L489.871 1253.13 L495.871 1259.13 L501.871 1253.13 L495.871 1247.13 Z\" fill=\"#3da44d\" fill-rule=\"evenodd\" fill-opacity=\"1\" stroke=\"#000000\" stroke-opacity=\"1\" stroke-width=\"3.2\"/>\n<path clip-path=\"url(#clip042)\" d=\"M510.846 1244.32 L504.846 1250.32 L510.846 1256.32 L516.846 1250.32 L510.846 1244.32 Z\" fill=\"#3da44d\" fill-rule=\"evenodd\" fill-opacity=\"1\" stroke=\"#000000\" stroke-opacity=\"1\" stroke-width=\"3.2\"/>\n<path clip-path=\"url(#clip042)\" d=\"M525.821 1235.88 L519.821 1241.88 L525.821 1247.88 L531.821 1241.88 L525.821 1235.88 Z\" fill=\"#3da44d\" fill-rule=\"evenodd\" fill-opacity=\"1\" stroke=\"#000000\" stroke-opacity=\"1\" stroke-width=\"3.2\"/>\n<path clip-path=\"url(#clip042)\" d=\"M540.795 1221.83 L534.795 1227.83 L540.795 1233.83 L546.795 1227.83 L540.795 1221.83 Z\" fill=\"#3da44d\" fill-rule=\"evenodd\" fill-opacity=\"1\" stroke=\"#000000\" stroke-opacity=\"1\" stroke-width=\"3.2\"/>\n<path clip-path=\"url(#clip042)\" d=\"M555.77 1221.83 L549.77 1227.83 L555.77 1233.83 L561.77 1227.83 L555.77 1221.83 Z\" fill=\"#3da44d\" fill-rule=\"evenodd\" fill-opacity=\"1\" stroke=\"#000000\" stroke-opacity=\"1\" stroke-width=\"3.2\"/>\n<path clip-path=\"url(#clip042)\" d=\"M570.745 1216.2 L564.745 1222.2 L570.745 1228.2 L576.745 1222.2 L570.745 1216.2 Z\" fill=\"#3da44d\" fill-rule=\"evenodd\" fill-opacity=\"1\" stroke=\"#000000\" stroke-opacity=\"1\" stroke-width=\"3.2\"/>\n<path clip-path=\"url(#clip042)\" d=\"M585.719 1216.2 L579.719 1222.2 L585.719 1228.2 L591.719 1222.2 L585.719 1216.2 Z\" fill=\"#3da44d\" fill-rule=\"evenodd\" fill-opacity=\"1\" stroke=\"#000000\" stroke-opacity=\"1\" stroke-width=\"3.2\"/>\n<path clip-path=\"url(#clip042)\" d=\"M600.694 1193.71 L594.694 1199.71 L600.694 1205.71 L606.694 1199.71 L600.694 1193.71 Z\" fill=\"#3da44d\" fill-rule=\"evenodd\" fill-opacity=\"1\" stroke=\"#000000\" stroke-opacity=\"1\" stroke-width=\"3.2\"/>\n<path clip-path=\"url(#clip042)\" d=\"M615.668 1193.71 L609.668 1199.71 L615.668 1205.71 L621.668 1199.71 L615.668 1193.71 Z\" fill=\"#3da44d\" fill-rule=\"evenodd\" fill-opacity=\"1\" stroke=\"#000000\" stroke-opacity=\"1\" stroke-width=\"3.2\"/>\n<path clip-path=\"url(#clip042)\" d=\"M630.643 1171.21 L624.643 1177.21 L630.643 1183.21 L636.643 1177.21 L630.643 1171.21 Z\" fill=\"#3da44d\" fill-rule=\"evenodd\" fill-opacity=\"1\" stroke=\"#000000\" stroke-opacity=\"1\" stroke-width=\"3.2\"/>\n<path clip-path=\"url(#clip042)\" d=\"M645.618 1171.21 L639.618 1177.21 L645.618 1183.21 L651.618 1177.21 L645.618 1171.21 Z\" fill=\"#3da44d\" fill-rule=\"evenodd\" fill-opacity=\"1\" stroke=\"#000000\" stroke-opacity=\"1\" stroke-width=\"3.2\"/>\n<path clip-path=\"url(#clip042)\" d=\"M660.592 1171.21 L654.592 1177.21 L660.592 1183.21 L666.592 1177.21 L660.592 1171.21 Z\" fill=\"#3da44d\" fill-rule=\"evenodd\" fill-opacity=\"1\" stroke=\"#000000\" stroke-opacity=\"1\" stroke-width=\"3.2\"/>\n<path clip-path=\"url(#clip042)\" d=\"M675.567 1151.53 L669.567 1157.53 L675.567 1163.53 L681.567 1157.53 L675.567 1151.53 Z\" fill=\"#3da44d\" fill-rule=\"evenodd\" fill-opacity=\"1\" stroke=\"#000000\" stroke-opacity=\"1\" stroke-width=\"3.2\"/>\n<path clip-path=\"url(#clip042)\" d=\"M690.542 1151.53 L684.542 1157.53 L690.542 1163.53 L696.542 1157.53 L690.542 1151.53 Z\" fill=\"#3da44d\" fill-rule=\"evenodd\" fill-opacity=\"1\" stroke=\"#000000\" stroke-opacity=\"1\" stroke-width=\"3.2\"/>\n<path clip-path=\"url(#clip042)\" d=\"M705.516 1151.53 L699.516 1157.53 L705.516 1163.53 L711.516 1157.53 L705.516 1151.53 Z\" fill=\"#3da44d\" fill-rule=\"evenodd\" fill-opacity=\"1\" stroke=\"#000000\" stroke-opacity=\"1\" stroke-width=\"3.2\"/>\n<path clip-path=\"url(#clip042)\" d=\"M720.491 1114.97 L714.491 1120.97 L720.491 1126.97 L726.491 1120.97 L720.491 1114.97 Z\" fill=\"#3da44d\" fill-rule=\"evenodd\" fill-opacity=\"1\" stroke=\"#000000\" stroke-opacity=\"1\" stroke-width=\"3.2\"/>\n<path clip-path=\"url(#clip042)\" d=\"M735.466 1114.97 L729.466 1120.97 L735.466 1126.97 L741.466 1120.97 L735.466 1114.97 Z\" fill=\"#3da44d\" fill-rule=\"evenodd\" fill-opacity=\"1\" stroke=\"#000000\" stroke-opacity=\"1\" stroke-width=\"3.2\"/>\n<path clip-path=\"url(#clip042)\" d=\"M750.44 1114.97 L744.44 1120.97 L750.44 1126.97 L756.44 1120.97 L750.44 1114.97 Z\" fill=\"#3da44d\" fill-rule=\"evenodd\" fill-opacity=\"1\" stroke=\"#000000\" stroke-opacity=\"1\" stroke-width=\"3.2\"/>\n<path clip-path=\"url(#clip042)\" d=\"M765.415 1114.97 L759.415 1120.97 L765.415 1126.97 L771.415 1120.97 L765.415 1114.97 Z\" fill=\"#3da44d\" fill-rule=\"evenodd\" fill-opacity=\"1\" stroke=\"#000000\" stroke-opacity=\"1\" stroke-width=\"3.2\"/>\n<path clip-path=\"url(#clip042)\" d=\"M780.389 1114.97 L774.389 1120.97 L780.389 1126.97 L786.389 1120.97 L780.389 1114.97 Z\" fill=\"#3da44d\" fill-rule=\"evenodd\" fill-opacity=\"1\" stroke=\"#000000\" stroke-opacity=\"1\" stroke-width=\"3.2\"/>\n<path clip-path=\"url(#clip042)\" d=\"M795.364 1067.17 L789.364 1073.17 L795.364 1079.17 L801.364 1073.17 L795.364 1067.17 Z\" fill=\"#3da44d\" fill-rule=\"evenodd\" fill-opacity=\"1\" stroke=\"#000000\" stroke-opacity=\"1\" stroke-width=\"3.2\"/>\n<path clip-path=\"url(#clip042)\" d=\"M810.339 1067.17 L804.339 1073.17 L810.339 1079.17 L816.339 1073.17 L810.339 1067.17 Z\" fill=\"#3da44d\" fill-rule=\"evenodd\" fill-opacity=\"1\" stroke=\"#000000\" stroke-opacity=\"1\" stroke-width=\"3.2\"/>\n<path clip-path=\"url(#clip042)\" d=\"M825.313 1067.17 L819.313 1073.17 L825.313 1079.17 L831.313 1073.17 L825.313 1067.17 Z\" fill=\"#3da44d\" fill-rule=\"evenodd\" fill-opacity=\"1\" stroke=\"#000000\" stroke-opacity=\"1\" stroke-width=\"3.2\"/>\n<path clip-path=\"url(#clip042)\" d=\"M840.288 1067.17 L834.288 1073.17 L840.288 1079.17 L846.288 1073.17 L840.288 1067.17 Z\" fill=\"#3da44d\" fill-rule=\"evenodd\" fill-opacity=\"1\" stroke=\"#000000\" stroke-opacity=\"1\" stroke-width=\"3.2\"/>\n<path clip-path=\"url(#clip042)\" d=\"M855.263 1067.17 L849.263 1073.17 L855.263 1079.17 L861.263 1073.17 L855.263 1067.17 Z\" fill=\"#3da44d\" fill-rule=\"evenodd\" fill-opacity=\"1\" stroke=\"#000000\" stroke-opacity=\"1\" stroke-width=\"3.2\"/>\n<path clip-path=\"url(#clip042)\" d=\"M870.237 1067.17 L864.237 1073.17 L870.237 1079.17 L876.237 1073.17 L870.237 1067.17 Z\" fill=\"#3da44d\" fill-rule=\"evenodd\" fill-opacity=\"1\" stroke=\"#000000\" stroke-opacity=\"1\" stroke-width=\"3.2\"/>\n<path clip-path=\"url(#clip042)\" d=\"M885.212 1067.17 L879.212 1073.17 L885.212 1079.17 L891.212 1073.17 L885.212 1067.17 Z\" fill=\"#3da44d\" fill-rule=\"evenodd\" fill-opacity=\"1\" stroke=\"#000000\" stroke-opacity=\"1\" stroke-width=\"3.2\"/>\n<path clip-path=\"url(#clip042)\" d=\"M900.187 965.94 L894.187 971.94 L900.187 977.94 L906.187 971.94 L900.187 965.94 Z\" fill=\"#3da44d\" fill-rule=\"evenodd\" fill-opacity=\"1\" stroke=\"#000000\" stroke-opacity=\"1\" stroke-width=\"3.2\"/>\n<path clip-path=\"url(#clip042)\" d=\"M915.161 965.94 L909.161 971.94 L915.161 977.94 L921.161 971.94 L915.161 965.94 Z\" fill=\"#3da44d\" fill-rule=\"evenodd\" fill-opacity=\"1\" stroke=\"#000000\" stroke-opacity=\"1\" stroke-width=\"3.2\"/>\n<path clip-path=\"url(#clip042)\" d=\"M930.136 965.94 L924.136 971.94 L930.136 977.94 L936.136 971.94 L930.136 965.94 Z\" fill=\"#3da44d\" fill-rule=\"evenodd\" fill-opacity=\"1\" stroke=\"#000000\" stroke-opacity=\"1\" stroke-width=\"3.2\"/>\n<path clip-path=\"url(#clip042)\" d=\"M945.11 965.94 L939.11 971.94 L945.11 977.94 L951.11 971.94 L945.11 965.94 Z\" fill=\"#3da44d\" fill-rule=\"evenodd\" fill-opacity=\"1\" stroke=\"#000000\" stroke-opacity=\"1\" stroke-width=\"3.2\"/>\n<path clip-path=\"url(#clip042)\" d=\"M960.085 965.94 L954.085 971.94 L960.085 977.94 L966.085 971.94 L960.085 965.94 Z\" fill=\"#3da44d\" fill-rule=\"evenodd\" fill-opacity=\"1\" stroke=\"#000000\" stroke-opacity=\"1\" stroke-width=\"3.2\"/>\n<path clip-path=\"url(#clip042)\" d=\"M975.06 965.94 L969.06 971.94 L975.06 977.94 L981.06 971.94 L975.06 965.94 Z\" fill=\"#3da44d\" fill-rule=\"evenodd\" fill-opacity=\"1\" stroke=\"#000000\" stroke-opacity=\"1\" stroke-width=\"3.2\"/>\n<path clip-path=\"url(#clip042)\" d=\"M990.034 965.94 L984.034 971.94 L990.034 977.94 L996.034 971.94 L990.034 965.94 Z\" fill=\"#3da44d\" fill-rule=\"evenodd\" fill-opacity=\"1\" stroke=\"#000000\" stroke-opacity=\"1\" stroke-width=\"3.2\"/>\n<path clip-path=\"url(#clip042)\" d=\"M1005.01 965.94 L999.009 971.94 L1005.01 977.94 L1011.01 971.94 L1005.01 965.94 Z\" fill=\"#3da44d\" fill-rule=\"evenodd\" fill-opacity=\"1\" stroke=\"#000000\" stroke-opacity=\"1\" stroke-width=\"3.2\"/>\n<path clip-path=\"url(#clip042)\" d=\"M1019.98 965.94 L1013.98 971.94 L1019.98 977.94 L1025.98 971.94 L1019.98 965.94 Z\" fill=\"#3da44d\" fill-rule=\"evenodd\" fill-opacity=\"1\" stroke=\"#000000\" stroke-opacity=\"1\" stroke-width=\"3.2\"/>\n<path clip-path=\"url(#clip042)\" d=\"M1034.96 965.94 L1028.96 971.94 L1034.96 977.94 L1040.96 971.94 L1034.96 965.94 Z\" fill=\"#3da44d\" fill-rule=\"evenodd\" fill-opacity=\"1\" stroke=\"#000000\" stroke-opacity=\"1\" stroke-width=\"3.2\"/>\n<path clip-path=\"url(#clip042)\" d=\"M1049.93 828.156 L1043.93 834.156 L1049.93 840.156 L1055.93 834.156 L1049.93 828.156 Z\" fill=\"#3da44d\" fill-rule=\"evenodd\" fill-opacity=\"1\" stroke=\"#000000\" stroke-opacity=\"1\" stroke-width=\"3.2\"/>\n<path clip-path=\"url(#clip042)\" d=\"M1064.91 828.156 L1058.91 834.156 L1064.91 840.156 L1070.91 834.156 L1064.91 828.156 Z\" fill=\"#3da44d\" fill-rule=\"evenodd\" fill-opacity=\"1\" stroke=\"#000000\" stroke-opacity=\"1\" stroke-width=\"3.2\"/>\n<path clip-path=\"url(#clip042)\" d=\"M1079.88 828.156 L1073.88 834.156 L1079.88 840.156 L1085.88 834.156 L1079.88 828.156 Z\" fill=\"#3da44d\" fill-rule=\"evenodd\" fill-opacity=\"1\" stroke=\"#000000\" stroke-opacity=\"1\" stroke-width=\"3.2\"/>\n<path clip-path=\"url(#clip042)\" d=\"M1094.86 828.156 L1088.86 834.156 L1094.86 840.156 L1100.86 834.156 L1094.86 828.156 Z\" fill=\"#3da44d\" fill-rule=\"evenodd\" fill-opacity=\"1\" stroke=\"#000000\" stroke-opacity=\"1\" stroke-width=\"3.2\"/>\n<path clip-path=\"url(#clip042)\" d=\"M1109.83 828.156 L1103.83 834.156 L1109.83 840.156 L1115.83 834.156 L1109.83 828.156 Z\" fill=\"#3da44d\" fill-rule=\"evenodd\" fill-opacity=\"1\" stroke=\"#000000\" stroke-opacity=\"1\" stroke-width=\"3.2\"/>\n<path clip-path=\"url(#clip042)\" d=\"M1124.81 828.156 L1118.81 834.156 L1124.81 840.156 L1130.81 834.156 L1124.81 828.156 Z\" fill=\"#3da44d\" fill-rule=\"evenodd\" fill-opacity=\"1\" stroke=\"#000000\" stroke-opacity=\"1\" stroke-width=\"3.2\"/>\n<path clip-path=\"url(#clip042)\" d=\"M1139.78 828.156 L1133.78 834.156 L1139.78 840.156 L1145.78 834.156 L1139.78 828.156 Z\" fill=\"#3da44d\" fill-rule=\"evenodd\" fill-opacity=\"1\" stroke=\"#000000\" stroke-opacity=\"1\" stroke-width=\"3.2\"/>\n<path clip-path=\"url(#clip042)\" d=\"M1154.76 828.156 L1148.76 834.156 L1154.76 840.156 L1160.76 834.156 L1154.76 828.156 Z\" fill=\"#3da44d\" fill-rule=\"evenodd\" fill-opacity=\"1\" stroke=\"#000000\" stroke-opacity=\"1\" stroke-width=\"3.2\"/>\n<path clip-path=\"url(#clip042)\" d=\"M1169.73 828.156 L1163.73 834.156 L1169.73 840.156 L1175.73 834.156 L1169.73 828.156 Z\" fill=\"#3da44d\" fill-rule=\"evenodd\" fill-opacity=\"1\" stroke=\"#000000\" stroke-opacity=\"1\" stroke-width=\"3.2\"/>\n<path clip-path=\"url(#clip042)\" d=\"M1184.7 828.156 L1178.7 834.156 L1184.7 840.156 L1190.7 834.156 L1184.7 828.156 Z\" fill=\"#3da44d\" fill-rule=\"evenodd\" fill-opacity=\"1\" stroke=\"#000000\" stroke-opacity=\"1\" stroke-width=\"3.2\"/>\n<path clip-path=\"url(#clip042)\" d=\"M1199.68 828.156 L1193.68 834.156 L1199.68 840.156 L1205.68 834.156 L1199.68 828.156 Z\" fill=\"#3da44d\" fill-rule=\"evenodd\" fill-opacity=\"1\" stroke=\"#000000\" stroke-opacity=\"1\" stroke-width=\"3.2\"/>\n<path clip-path=\"url(#clip042)\" d=\"M1214.65 828.156 L1208.65 834.156 L1214.65 840.156 L1220.65 834.156 L1214.65 828.156 Z\" fill=\"#3da44d\" fill-rule=\"evenodd\" fill-opacity=\"1\" stroke=\"#000000\" stroke-opacity=\"1\" stroke-width=\"3.2\"/>\n<path clip-path=\"url(#clip042)\" d=\"M1229.63 828.156 L1223.63 834.156 L1229.63 840.156 L1235.63 834.156 L1229.63 828.156 Z\" fill=\"#3da44d\" fill-rule=\"evenodd\" fill-opacity=\"1\" stroke=\"#000000\" stroke-opacity=\"1\" stroke-width=\"3.2\"/>\n<path clip-path=\"url(#clip042)\" d=\"M1244.6 828.156 L1238.6 834.156 L1244.6 840.156 L1250.6 834.156 L1244.6 828.156 Z\" fill=\"#3da44d\" fill-rule=\"evenodd\" fill-opacity=\"1\" stroke=\"#000000\" stroke-opacity=\"1\" stroke-width=\"3.2\"/>\n<path clip-path=\"url(#clip042)\" d=\"M1259.58 828.156 L1253.58 834.156 L1259.58 840.156 L1265.58 834.156 L1259.58 828.156 Z\" fill=\"#3da44d\" fill-rule=\"evenodd\" fill-opacity=\"1\" stroke=\"#000000\" stroke-opacity=\"1\" stroke-width=\"3.2\"/>\n<path clip-path=\"url(#clip042)\" d=\"M1274.55 828.156 L1268.55 834.156 L1274.55 840.156 L1280.55 834.156 L1274.55 828.156 Z\" fill=\"#3da44d\" fill-rule=\"evenodd\" fill-opacity=\"1\" stroke=\"#000000\" stroke-opacity=\"1\" stroke-width=\"3.2\"/>\n<path clip-path=\"url(#clip042)\" d=\"M1289.53 566.648 L1283.53 572.648 L1289.53 578.648 L1295.53 572.648 L1289.53 566.648 Z\" fill=\"#3da44d\" fill-rule=\"evenodd\" fill-opacity=\"1\" stroke=\"#000000\" stroke-opacity=\"1\" stroke-width=\"3.2\"/>\n</svg>\n",
      "text/html": [
       "<?xml version=\"1.0\" encoding=\"utf-8\"?>\n",
       "<svg xmlns=\"http://www.w3.org/2000/svg\" xmlns:xlink=\"http://www.w3.org/1999/xlink\" width=\"600\" height=\"400\" viewBox=\"0 0 2400 1600\">\n",
       "<defs>\n",
       "  <clipPath id=\"clip090\">\n",
       "    <rect x=\"0\" y=\"0\" width=\"2400\" height=\"1600\"/>\n",
       "  </clipPath>\n",
       "</defs>\n",
       "<path clip-path=\"url(#clip090)\" d=\"\n",
       "M0 1600 L2400 1600 L2400 0 L0 0  Z\n",
       "  \" fill=\"#ffffff\" fill-rule=\"evenodd\" fill-opacity=\"1\"/>\n",
       "<defs>\n",
       "  <clipPath id=\"clip091\">\n",
       "    <rect x=\"480\" y=\"0\" width=\"1681\" height=\"1600\"/>\n",
       "  </clipPath>\n",
       "</defs>\n",
       "<path clip-path=\"url(#clip090)\" d=\"\n",
       "M235.283 1423.18 L2352.76 1423.18 L2352.76 47.2441 L235.283 47.2441  Z\n",
       "  \" fill=\"#ffffff\" fill-rule=\"evenodd\" fill-opacity=\"1\"/>\n",
       "<defs>\n",
       "  <clipPath id=\"clip092\">\n",
       "    <rect x=\"235\" y=\"47\" width=\"2118\" height=\"1377\"/>\n",
       "  </clipPath>\n",
       "</defs>\n",
       "<polyline clip-path=\"url(#clip092)\" style=\"stroke:#000000; stroke-linecap:butt; stroke-linejoin:round; stroke-width:2; stroke-opacity:0.1; fill:none\" points=\"\n",
       "  293.714,1423.18 293.714,47.2441 \n",
       "  \"/>\n",
       "<polyline clip-path=\"url(#clip092)\" style=\"stroke:#000000; stroke-linecap:butt; stroke-linejoin:round; stroke-width:2; stroke-opacity:0.1; fill:none\" points=\"\n",
       "  593.207,1423.18 593.207,47.2441 \n",
       "  \"/>\n",
       "<polyline clip-path=\"url(#clip092)\" style=\"stroke:#000000; stroke-linecap:butt; stroke-linejoin:round; stroke-width:2; stroke-opacity:0.1; fill:none\" points=\"\n",
       "  892.699,1423.18 892.699,47.2441 \n",
       "  \"/>\n",
       "<polyline clip-path=\"url(#clip092)\" style=\"stroke:#000000; stroke-linecap:butt; stroke-linejoin:round; stroke-width:2; stroke-opacity:0.1; fill:none\" points=\"\n",
       "  1192.19,1423.18 1192.19,47.2441 \n",
       "  \"/>\n",
       "<polyline clip-path=\"url(#clip092)\" style=\"stroke:#000000; stroke-linecap:butt; stroke-linejoin:round; stroke-width:2; stroke-opacity:0.1; fill:none\" points=\"\n",
       "  1491.68,1423.18 1491.68,47.2441 \n",
       "  \"/>\n",
       "<polyline clip-path=\"url(#clip092)\" style=\"stroke:#000000; stroke-linecap:butt; stroke-linejoin:round; stroke-width:2; stroke-opacity:0.1; fill:none\" points=\"\n",
       "  1791.18,1423.18 1791.18,47.2441 \n",
       "  \"/>\n",
       "<polyline clip-path=\"url(#clip092)\" style=\"stroke:#000000; stroke-linecap:butt; stroke-linejoin:round; stroke-width:2; stroke-opacity:0.1; fill:none\" points=\"\n",
       "  2090.67,1423.18 2090.67,47.2441 \n",
       "  \"/>\n",
       "<polyline clip-path=\"url(#clip090)\" style=\"stroke:#000000; stroke-linecap:butt; stroke-linejoin:round; stroke-width:4; stroke-opacity:1; fill:none\" points=\"\n",
       "  235.283,1423.18 2352.76,1423.18 \n",
       "  \"/>\n",
       "<polyline clip-path=\"url(#clip090)\" style=\"stroke:#000000; stroke-linecap:butt; stroke-linejoin:round; stroke-width:4; stroke-opacity:1; fill:none\" points=\"\n",
       "  293.714,1423.18 293.714,1406.67 \n",
       "  \"/>\n",
       "<polyline clip-path=\"url(#clip090)\" style=\"stroke:#000000; stroke-linecap:butt; stroke-linejoin:round; stroke-width:4; stroke-opacity:1; fill:none\" points=\"\n",
       "  593.207,1423.18 593.207,1406.67 \n",
       "  \"/>\n",
       "<polyline clip-path=\"url(#clip090)\" style=\"stroke:#000000; stroke-linecap:butt; stroke-linejoin:round; stroke-width:4; stroke-opacity:1; fill:none\" points=\"\n",
       "  892.699,1423.18 892.699,1406.67 \n",
       "  \"/>\n",
       "<polyline clip-path=\"url(#clip090)\" style=\"stroke:#000000; stroke-linecap:butt; stroke-linejoin:round; stroke-width:4; stroke-opacity:1; fill:none\" points=\"\n",
       "  1192.19,1423.18 1192.19,1406.67 \n",
       "  \"/>\n",
       "<polyline clip-path=\"url(#clip090)\" style=\"stroke:#000000; stroke-linecap:butt; stroke-linejoin:round; stroke-width:4; stroke-opacity:1; fill:none\" points=\"\n",
       "  1491.68,1423.18 1491.68,1406.67 \n",
       "  \"/>\n",
       "<polyline clip-path=\"url(#clip090)\" style=\"stroke:#000000; stroke-linecap:butt; stroke-linejoin:round; stroke-width:4; stroke-opacity:1; fill:none\" points=\"\n",
       "  1791.18,1423.18 1791.18,1406.67 \n",
       "  \"/>\n",
       "<polyline clip-path=\"url(#clip090)\" style=\"stroke:#000000; stroke-linecap:butt; stroke-linejoin:round; stroke-width:4; stroke-opacity:1; fill:none\" points=\"\n",
       "  2090.67,1423.18 2090.67,1406.67 \n",
       "  \"/>\n",
       "<path clip-path=\"url(#clip090)\" d=\"M293.714 1452.37 Q290.103 1452.37 288.274 1455.94 Q286.469 1459.48 286.469 1466.61 Q286.469 1473.71 288.274 1477.28 Q290.103 1480.82 293.714 1480.82 Q297.348 1480.82 299.154 1477.28 Q300.982 1473.71 300.982 1466.61 Q300.982 1459.48 299.154 1455.94 Q297.348 1452.37 293.714 1452.37 M293.714 1448.67 Q299.524 1448.67 302.58 1453.27 Q305.658 1457.86 305.658 1466.61 Q305.658 1475.33 302.58 1479.94 Q299.524 1484.52 293.714 1484.52 Q287.904 1484.52 284.825 1479.94 Q281.769 1475.33 281.769 1466.61 Q281.769 1457.86 284.825 1453.27 Q287.904 1448.67 293.714 1448.67 Z\" fill=\"#000000\" fill-rule=\"evenodd\" fill-opacity=\"1\" /><path clip-path=\"url(#clip090)\" d=\"M556.899 1479.92 L573.218 1479.92 L573.218 1483.85 L551.274 1483.85 L551.274 1479.92 Q553.936 1477.16 558.519 1472.53 Q563.126 1467.88 564.306 1466.54 Q566.552 1464.01 567.431 1462.28 Q568.334 1460.52 568.334 1458.83 Q568.334 1456.07 566.39 1454.34 Q564.468 1452.6 561.366 1452.6 Q559.167 1452.6 556.714 1453.37 Q554.283 1454.13 551.505 1455.68 L551.505 1450.96 Q554.329 1449.82 556.783 1449.25 Q559.237 1448.67 561.274 1448.67 Q566.644 1448.67 569.839 1451.35 Q573.033 1454.04 573.033 1458.53 Q573.033 1460.66 572.223 1462.58 Q571.436 1464.48 569.329 1467.07 Q568.751 1467.74 565.649 1470.96 Q562.547 1474.15 556.899 1479.92 Z\" fill=\"#000000\" fill-rule=\"evenodd\" fill-opacity=\"1\" /><path clip-path=\"url(#clip090)\" d=\"M593.033 1452.37 Q589.422 1452.37 587.593 1455.94 Q585.788 1459.48 585.788 1466.61 Q585.788 1473.71 587.593 1477.28 Q589.422 1480.82 593.033 1480.82 Q596.667 1480.82 598.473 1477.28 Q600.301 1473.71 600.301 1466.61 Q600.301 1459.48 598.473 1455.94 Q596.667 1452.37 593.033 1452.37 M593.033 1448.67 Q598.843 1448.67 601.899 1453.27 Q604.977 1457.86 604.977 1466.61 Q604.977 1475.33 601.899 1479.94 Q598.843 1484.52 593.033 1484.52 Q587.223 1484.52 584.144 1479.94 Q581.089 1475.33 581.089 1466.61 Q581.089 1457.86 584.144 1453.27 Q587.223 1448.67 593.033 1448.67 Z\" fill=\"#000000\" fill-rule=\"evenodd\" fill-opacity=\"1\" /><path clip-path=\"url(#clip090)\" d=\"M623.195 1452.37 Q619.584 1452.37 617.755 1455.94 Q615.949 1459.48 615.949 1466.61 Q615.949 1473.71 617.755 1477.28 Q619.584 1480.82 623.195 1480.82 Q626.829 1480.82 628.635 1477.28 Q630.463 1473.71 630.463 1466.61 Q630.463 1459.48 628.635 1455.94 Q626.829 1452.37 623.195 1452.37 M623.195 1448.67 Q629.005 1448.67 632.06 1453.27 Q635.139 1457.86 635.139 1466.61 Q635.139 1475.33 632.06 1479.94 Q629.005 1484.52 623.195 1484.52 Q617.385 1484.52 614.306 1479.94 Q611.25 1475.33 611.25 1466.61 Q611.25 1457.86 614.306 1453.27 Q617.385 1448.67 623.195 1448.67 Z\" fill=\"#000000\" fill-rule=\"evenodd\" fill-opacity=\"1\" /><path clip-path=\"url(#clip090)\" d=\"M865.79 1453.37 L853.984 1471.81 L865.79 1471.81 L865.79 1453.37 M864.563 1449.29 L870.442 1449.29 L870.442 1471.81 L875.373 1471.81 L875.373 1475.7 L870.442 1475.7 L870.442 1483.85 L865.79 1483.85 L865.79 1475.7 L850.188 1475.7 L850.188 1471.19 L864.563 1449.29 Z\" fill=\"#000000\" fill-rule=\"evenodd\" fill-opacity=\"1\" /><path clip-path=\"url(#clip090)\" d=\"M893.104 1452.37 Q889.493 1452.37 887.665 1455.94 Q885.859 1459.48 885.859 1466.61 Q885.859 1473.71 887.665 1477.28 Q889.493 1480.82 893.104 1480.82 Q896.739 1480.82 898.544 1477.28 Q900.373 1473.71 900.373 1466.61 Q900.373 1459.48 898.544 1455.94 Q896.739 1452.37 893.104 1452.37 M893.104 1448.67 Q898.914 1448.67 901.97 1453.27 Q905.049 1457.86 905.049 1466.61 Q905.049 1475.33 901.97 1479.94 Q898.914 1484.52 893.104 1484.52 Q887.294 1484.52 884.215 1479.94 Q881.16 1475.33 881.16 1466.61 Q881.16 1457.86 884.215 1453.27 Q887.294 1448.67 893.104 1448.67 Z\" fill=\"#000000\" fill-rule=\"evenodd\" fill-opacity=\"1\" /><path clip-path=\"url(#clip090)\" d=\"M923.266 1452.37 Q919.655 1452.37 917.826 1455.94 Q916.021 1459.48 916.021 1466.61 Q916.021 1473.71 917.826 1477.28 Q919.655 1480.82 923.266 1480.82 Q926.9 1480.82 928.706 1477.28 Q930.535 1473.71 930.535 1466.61 Q930.535 1459.48 928.706 1455.94 Q926.9 1452.37 923.266 1452.37 M923.266 1448.67 Q929.076 1448.67 932.132 1453.27 Q935.211 1457.86 935.211 1466.61 Q935.211 1475.33 932.132 1479.94 Q929.076 1484.52 923.266 1484.52 Q917.456 1484.52 914.377 1479.94 Q911.322 1475.33 911.322 1466.61 Q911.322 1457.86 914.377 1453.27 Q917.456 1448.67 923.266 1448.67 Z\" fill=\"#000000\" fill-rule=\"evenodd\" fill-opacity=\"1\" /><path clip-path=\"url(#clip090)\" d=\"M1162.52 1464.71 Q1159.37 1464.71 1157.52 1466.86 Q1155.69 1469.01 1155.69 1472.76 Q1155.69 1476.49 1157.52 1478.67 Q1159.37 1480.82 1162.52 1480.82 Q1165.66 1480.82 1167.49 1478.67 Q1169.34 1476.49 1169.34 1472.76 Q1169.34 1469.01 1167.49 1466.86 Q1165.66 1464.71 1162.52 1464.71 M1171.8 1450.06 L1171.8 1454.31 Q1170.04 1453.48 1168.23 1453.04 Q1166.45 1452.6 1164.69 1452.6 Q1160.06 1452.6 1157.61 1455.73 Q1155.18 1458.85 1154.83 1465.17 Q1156.2 1463.16 1158.26 1462.09 Q1160.32 1461 1162.79 1461 Q1168 1461 1171.01 1464.18 Q1174.04 1467.32 1174.04 1472.76 Q1174.04 1478.09 1170.9 1481.31 Q1167.75 1484.52 1162.52 1484.52 Q1156.52 1484.52 1153.35 1479.94 Q1150.18 1475.33 1150.18 1466.61 Q1150.18 1458.41 1154.07 1453.55 Q1157.96 1448.67 1164.51 1448.67 Q1166.27 1448.67 1168.05 1449.01 Q1169.85 1449.36 1171.8 1450.06 Z\" fill=\"#000000\" fill-rule=\"evenodd\" fill-opacity=\"1\" /><path clip-path=\"url(#clip090)\" d=\"M1192.1 1452.37 Q1188.49 1452.37 1186.66 1455.94 Q1184.85 1459.48 1184.85 1466.61 Q1184.85 1473.71 1186.66 1477.28 Q1188.49 1480.82 1192.1 1480.82 Q1195.73 1480.82 1197.54 1477.28 Q1199.37 1473.71 1199.37 1466.61 Q1199.37 1459.48 1197.54 1455.94 Q1195.73 1452.37 1192.1 1452.37 M1192.1 1448.67 Q1197.91 1448.67 1200.96 1453.27 Q1204.04 1457.86 1204.04 1466.61 Q1204.04 1475.33 1200.96 1479.94 Q1197.91 1484.52 1192.1 1484.52 Q1186.29 1484.52 1183.21 1479.94 Q1180.15 1475.33 1180.15 1466.61 Q1180.15 1457.86 1183.21 1453.27 Q1186.29 1448.67 1192.1 1448.67 Z\" fill=\"#000000\" fill-rule=\"evenodd\" fill-opacity=\"1\" /><path clip-path=\"url(#clip090)\" d=\"M1222.26 1452.37 Q1218.65 1452.37 1216.82 1455.94 Q1215.02 1459.48 1215.02 1466.61 Q1215.02 1473.71 1216.82 1477.28 Q1218.65 1480.82 1222.26 1480.82 Q1225.9 1480.82 1227.7 1477.28 Q1229.53 1473.71 1229.53 1466.61 Q1229.53 1459.48 1227.7 1455.94 Q1225.9 1452.37 1222.26 1452.37 M1222.26 1448.67 Q1228.07 1448.67 1231.13 1453.27 Q1234.21 1457.86 1234.21 1466.61 Q1234.21 1475.33 1231.13 1479.94 Q1228.07 1484.52 1222.26 1484.52 Q1216.45 1484.52 1213.37 1479.94 Q1210.32 1475.33 1210.32 1466.61 Q1210.32 1457.86 1213.37 1453.27 Q1216.45 1448.67 1222.26 1448.67 Z\" fill=\"#000000\" fill-rule=\"evenodd\" fill-opacity=\"1\" /><path clip-path=\"url(#clip090)\" d=\"M1461.48 1467.44 Q1458.14 1467.44 1456.22 1469.22 Q1454.32 1471 1454.32 1474.13 Q1454.32 1477.25 1456.22 1479.04 Q1458.14 1480.82 1461.48 1480.82 Q1464.81 1480.82 1466.73 1479.04 Q1468.65 1477.23 1468.65 1474.13 Q1468.65 1471 1466.73 1469.22 Q1464.83 1467.44 1461.48 1467.44 M1456.8 1465.45 Q1453.79 1464.71 1452.1 1462.65 Q1450.43 1460.59 1450.43 1457.63 Q1450.43 1453.48 1453.37 1451.07 Q1456.34 1448.67 1461.48 1448.67 Q1466.64 1448.67 1469.58 1451.07 Q1472.52 1453.48 1472.52 1457.63 Q1472.52 1460.59 1470.83 1462.65 Q1469.16 1464.71 1466.18 1465.45 Q1469.56 1466.24 1471.43 1468.53 Q1473.33 1470.82 1473.33 1474.13 Q1473.33 1479.15 1470.25 1481.84 Q1467.19 1484.52 1461.48 1484.52 Q1455.76 1484.52 1452.68 1481.84 Q1449.62 1479.15 1449.62 1474.13 Q1449.62 1470.82 1451.52 1468.53 Q1453.42 1466.24 1456.8 1465.45 M1455.09 1458.06 Q1455.09 1460.75 1456.75 1462.25 Q1458.44 1463.76 1461.48 1463.76 Q1464.49 1463.76 1466.18 1462.25 Q1467.89 1460.75 1467.89 1458.06 Q1467.89 1455.38 1466.18 1453.88 Q1464.49 1452.37 1461.48 1452.37 Q1458.44 1452.37 1456.75 1453.88 Q1455.09 1455.38 1455.09 1458.06 Z\" fill=\"#000000\" fill-rule=\"evenodd\" fill-opacity=\"1\" /><path clip-path=\"url(#clip090)\" d=\"M1491.64 1452.37 Q1488.03 1452.37 1486.2 1455.94 Q1484.39 1459.48 1484.39 1466.61 Q1484.39 1473.71 1486.2 1477.28 Q1488.03 1480.82 1491.64 1480.82 Q1495.27 1480.82 1497.08 1477.28 Q1498.91 1473.71 1498.91 1466.61 Q1498.91 1459.48 1497.08 1455.94 Q1495.27 1452.37 1491.64 1452.37 M1491.64 1448.67 Q1497.45 1448.67 1500.5 1453.27 Q1503.58 1457.86 1503.58 1466.61 Q1503.58 1475.33 1500.5 1479.94 Q1497.45 1484.52 1491.64 1484.52 Q1485.83 1484.52 1482.75 1479.94 Q1479.69 1475.33 1479.69 1466.61 Q1479.69 1457.86 1482.75 1453.27 Q1485.83 1448.67 1491.64 1448.67 Z\" fill=\"#000000\" fill-rule=\"evenodd\" fill-opacity=\"1\" /><path clip-path=\"url(#clip090)\" d=\"M1521.8 1452.37 Q1518.19 1452.37 1516.36 1455.94 Q1514.55 1459.48 1514.55 1466.61 Q1514.55 1473.71 1516.36 1477.28 Q1518.19 1480.82 1521.8 1480.82 Q1525.43 1480.82 1527.24 1477.28 Q1529.07 1473.71 1529.07 1466.61 Q1529.07 1459.48 1527.24 1455.94 Q1525.43 1452.37 1521.8 1452.37 M1521.8 1448.67 Q1527.61 1448.67 1530.67 1453.27 Q1533.74 1457.86 1533.74 1466.61 Q1533.74 1475.33 1530.67 1479.94 Q1527.61 1484.52 1521.8 1484.52 Q1515.99 1484.52 1512.91 1479.94 Q1509.86 1475.33 1509.86 1466.61 Q1509.86 1457.86 1512.91 1453.27 Q1515.99 1448.67 1521.8 1448.67 Z\" fill=\"#000000\" fill-rule=\"evenodd\" fill-opacity=\"1\" /><path clip-path=\"url(#clip090)\" d=\"M1735.7 1479.92 L1743.34 1479.92 L1743.34 1453.55 L1735.03 1455.22 L1735.03 1450.96 L1743.3 1449.29 L1747.97 1449.29 L1747.97 1479.92 L1755.61 1479.92 L1755.61 1483.85 L1735.7 1483.85 L1735.7 1479.92 Z\" fill=\"#000000\" fill-rule=\"evenodd\" fill-opacity=\"1\" /><path clip-path=\"url(#clip090)\" d=\"M1775.05 1452.37 Q1771.44 1452.37 1769.61 1455.94 Q1767.81 1459.48 1767.81 1466.61 Q1767.81 1473.71 1769.61 1477.28 Q1771.44 1480.82 1775.05 1480.82 Q1778.69 1480.82 1780.49 1477.28 Q1782.32 1473.71 1782.32 1466.61 Q1782.32 1459.48 1780.49 1455.94 Q1778.69 1452.37 1775.05 1452.37 M1775.05 1448.67 Q1780.86 1448.67 1783.92 1453.27 Q1787 1457.86 1787 1466.61 Q1787 1475.33 1783.92 1479.94 Q1780.86 1484.52 1775.05 1484.52 Q1769.24 1484.52 1766.17 1479.94 Q1763.11 1475.33 1763.11 1466.61 Q1763.11 1457.86 1766.17 1453.27 Q1769.24 1448.67 1775.05 1448.67 Z\" fill=\"#000000\" fill-rule=\"evenodd\" fill-opacity=\"1\" /><path clip-path=\"url(#clip090)\" d=\"M1805.22 1452.37 Q1801.61 1452.37 1799.78 1455.94 Q1797.97 1459.48 1797.97 1466.61 Q1797.97 1473.71 1799.78 1477.28 Q1801.61 1480.82 1805.22 1480.82 Q1808.85 1480.82 1810.66 1477.28 Q1812.48 1473.71 1812.48 1466.61 Q1812.48 1459.48 1810.66 1455.94 Q1808.85 1452.37 1805.22 1452.37 M1805.22 1448.67 Q1811.03 1448.67 1814.08 1453.27 Q1817.16 1457.86 1817.16 1466.61 Q1817.16 1475.33 1814.08 1479.94 Q1811.03 1484.52 1805.22 1484.52 Q1799.41 1484.52 1796.33 1479.94 Q1793.27 1475.33 1793.27 1466.61 Q1793.27 1457.86 1796.33 1453.27 Q1799.41 1448.67 1805.22 1448.67 Z\" fill=\"#000000\" fill-rule=\"evenodd\" fill-opacity=\"1\" /><path clip-path=\"url(#clip090)\" d=\"M1835.38 1452.37 Q1831.77 1452.37 1829.94 1455.94 Q1828.13 1459.48 1828.13 1466.61 Q1828.13 1473.71 1829.94 1477.28 Q1831.77 1480.82 1835.38 1480.82 Q1839.01 1480.82 1840.82 1477.28 Q1842.65 1473.71 1842.65 1466.61 Q1842.65 1459.48 1840.82 1455.94 Q1839.01 1452.37 1835.38 1452.37 M1835.38 1448.67 Q1841.19 1448.67 1844.24 1453.27 Q1847.32 1457.86 1847.32 1466.61 Q1847.32 1475.33 1844.24 1479.94 Q1841.19 1484.52 1835.38 1484.52 Q1829.57 1484.52 1826.49 1479.94 Q1823.43 1475.33 1823.43 1466.61 Q1823.43 1457.86 1826.49 1453.27 Q1829.57 1448.67 1835.38 1448.67 Z\" fill=\"#000000\" fill-rule=\"evenodd\" fill-opacity=\"1\" /><path clip-path=\"url(#clip090)\" d=\"M2035.2 1479.92 L2042.83 1479.92 L2042.83 1453.55 L2034.52 1455.22 L2034.52 1450.96 L2042.79 1449.29 L2047.46 1449.29 L2047.46 1479.92 L2055.1 1479.92 L2055.1 1483.85 L2035.2 1483.85 L2035.2 1479.92 Z\" fill=\"#000000\" fill-rule=\"evenodd\" fill-opacity=\"1\" /><path clip-path=\"url(#clip090)\" d=\"M2068.58 1479.92 L2084.89 1479.92 L2084.89 1483.85 L2062.95 1483.85 L2062.95 1479.92 Q2065.61 1477.16 2070.2 1472.53 Q2074.8 1467.88 2075.98 1466.54 Q2078.23 1464.01 2079.11 1462.28 Q2080.01 1460.52 2080.01 1458.83 Q2080.01 1456.07 2078.07 1454.34 Q2076.14 1452.6 2073.04 1452.6 Q2070.84 1452.6 2068.39 1453.37 Q2065.96 1454.13 2063.18 1455.68 L2063.18 1450.96 Q2066.01 1449.82 2068.46 1449.25 Q2070.91 1448.67 2072.95 1448.67 Q2078.32 1448.67 2081.51 1451.35 Q2084.71 1454.04 2084.71 1458.53 Q2084.71 1460.66 2083.9 1462.58 Q2083.11 1464.48 2081.01 1467.07 Q2080.43 1467.74 2077.33 1470.96 Q2074.22 1474.15 2068.58 1479.92 Z\" fill=\"#000000\" fill-rule=\"evenodd\" fill-opacity=\"1\" /><path clip-path=\"url(#clip090)\" d=\"M2104.71 1452.37 Q2101.1 1452.37 2099.27 1455.94 Q2097.46 1459.48 2097.46 1466.61 Q2097.46 1473.71 2099.27 1477.28 Q2101.1 1480.82 2104.71 1480.82 Q2108.34 1480.82 2110.15 1477.28 Q2111.98 1473.71 2111.98 1466.61 Q2111.98 1459.48 2110.15 1455.94 Q2108.34 1452.37 2104.71 1452.37 M2104.71 1448.67 Q2110.52 1448.67 2113.57 1453.27 Q2116.65 1457.86 2116.65 1466.61 Q2116.65 1475.33 2113.57 1479.94 Q2110.52 1484.52 2104.71 1484.52 Q2098.9 1484.52 2095.82 1479.94 Q2092.76 1475.33 2092.76 1466.61 Q2092.76 1457.86 2095.82 1453.27 Q2098.9 1448.67 2104.71 1448.67 Z\" fill=\"#000000\" fill-rule=\"evenodd\" fill-opacity=\"1\" /><path clip-path=\"url(#clip090)\" d=\"M2134.87 1452.37 Q2131.26 1452.37 2129.43 1455.94 Q2127.63 1459.48 2127.63 1466.61 Q2127.63 1473.71 2129.43 1477.28 Q2131.26 1480.82 2134.87 1480.82 Q2138.51 1480.82 2140.31 1477.28 Q2142.14 1473.71 2142.14 1466.61 Q2142.14 1459.48 2140.31 1455.94 Q2138.51 1452.37 2134.87 1452.37 M2134.87 1448.67 Q2140.68 1448.67 2143.74 1453.27 Q2146.82 1457.86 2146.82 1466.61 Q2146.82 1475.33 2143.74 1479.94 Q2140.68 1484.52 2134.87 1484.52 Q2129.06 1484.52 2125.98 1479.94 Q2122.93 1475.33 2122.93 1466.61 Q2122.93 1457.86 2125.98 1453.27 Q2129.06 1448.67 2134.87 1448.67 Z\" fill=\"#000000\" fill-rule=\"evenodd\" fill-opacity=\"1\" /><path clip-path=\"url(#clip090)\" d=\"M1254.71 1562.63 L1265.21 1562.63 L1265.21 1526.38 L1253.79 1528.67 L1253.79 1522.82 L1265.15 1520.52 L1271.58 1520.52 L1271.58 1562.63 L1282.08 1562.63 L1282.08 1568.04 L1254.71 1568.04 L1254.71 1562.63 Z\" fill=\"#000000\" fill-rule=\"evenodd\" fill-opacity=\"1\" /><path clip-path=\"url(#clip090)\" d=\"M1304.65 1520.52 L1310.06 1520.52 L1293.51 1574.09 L1288.1 1574.09 L1304.65 1520.52 Z\" fill=\"#000000\" fill-rule=\"evenodd\" fill-opacity=\"1\" /><path clip-path=\"url(#clip090)\" d=\"M1334.25 1518.52 L1334.25 1523.39 L1328.65 1523.39 Q1325.5 1523.39 1324.26 1524.66 Q1323.05 1525.93 1323.05 1529.24 L1323.05 1532.4 L1332.69 1532.4 L1332.69 1536.95 L1323.05 1536.95 L1323.05 1568.04 L1317.16 1568.04 L1317.16 1536.95 L1311.56 1536.95 L1311.56 1532.4 L1317.16 1532.4 L1317.16 1529.91 Q1317.16 1523.96 1319.93 1521.26 Q1322.7 1518.52 1328.71 1518.52 L1334.25 1518.52 Z\" fill=\"#000000\" fill-rule=\"evenodd\" fill-opacity=\"1\" /><polyline clip-path=\"url(#clip092)\" style=\"stroke:#000000; stroke-linecap:butt; stroke-linejoin:round; stroke-width:2; stroke-opacity:0.1; fill:none\" points=\"\n",
       "  235.283,1385.29 2352.76,1385.29 \n",
       "  \"/>\n",
       "<polyline clip-path=\"url(#clip092)\" style=\"stroke:#000000; stroke-linecap:butt; stroke-linejoin:round; stroke-width:2; stroke-opacity:0.1; fill:none\" points=\"\n",
       "  235.283,1104.1 2352.76,1104.1 \n",
       "  \"/>\n",
       "<polyline clip-path=\"url(#clip092)\" style=\"stroke:#000000; stroke-linecap:butt; stroke-linejoin:round; stroke-width:2; stroke-opacity:0.1; fill:none\" points=\"\n",
       "  235.283,822.909 2352.76,822.909 \n",
       "  \"/>\n",
       "<polyline clip-path=\"url(#clip092)\" style=\"stroke:#000000; stroke-linecap:butt; stroke-linejoin:round; stroke-width:2; stroke-opacity:0.1; fill:none\" points=\"\n",
       "  235.283,541.717 2352.76,541.717 \n",
       "  \"/>\n",
       "<polyline clip-path=\"url(#clip092)\" style=\"stroke:#000000; stroke-linecap:butt; stroke-linejoin:round; stroke-width:2; stroke-opacity:0.1; fill:none\" points=\"\n",
       "  235.283,260.525 2352.76,260.525 \n",
       "  \"/>\n",
       "<polyline clip-path=\"url(#clip090)\" style=\"stroke:#000000; stroke-linecap:butt; stroke-linejoin:round; stroke-width:4; stroke-opacity:1; fill:none\" points=\"\n",
       "  235.283,1423.18 235.283,47.2441 \n",
       "  \"/>\n",
       "<polyline clip-path=\"url(#clip090)\" style=\"stroke:#000000; stroke-linecap:butt; stroke-linejoin:round; stroke-width:4; stroke-opacity:1; fill:none\" points=\"\n",
       "  235.283,1385.29 260.693,1385.29 \n",
       "  \"/>\n",
       "<polyline clip-path=\"url(#clip090)\" style=\"stroke:#000000; stroke-linecap:butt; stroke-linejoin:round; stroke-width:4; stroke-opacity:1; fill:none\" points=\"\n",
       "  235.283,1104.1 260.693,1104.1 \n",
       "  \"/>\n",
       "<polyline clip-path=\"url(#clip090)\" style=\"stroke:#000000; stroke-linecap:butt; stroke-linejoin:round; stroke-width:4; stroke-opacity:1; fill:none\" points=\"\n",
       "  235.283,822.909 260.693,822.909 \n",
       "  \"/>\n",
       "<polyline clip-path=\"url(#clip090)\" style=\"stroke:#000000; stroke-linecap:butt; stroke-linejoin:round; stroke-width:4; stroke-opacity:1; fill:none\" points=\"\n",
       "  235.283,541.717 260.693,541.717 \n",
       "  \"/>\n",
       "<polyline clip-path=\"url(#clip090)\" style=\"stroke:#000000; stroke-linecap:butt; stroke-linejoin:round; stroke-width:4; stroke-opacity:1; fill:none\" points=\"\n",
       "  235.283,260.525 260.693,260.525 \n",
       "  \"/>\n",
       "<path clip-path=\"url(#clip090)\" d=\"M187.338 1371.09 Q183.727 1371.09 181.899 1374.66 Q180.093 1378.2 180.093 1385.33 Q180.093 1392.43 181.899 1396 Q183.727 1399.54 187.338 1399.54 Q190.973 1399.54 192.778 1396 Q194.607 1392.43 194.607 1385.33 Q194.607 1378.2 192.778 1374.66 Q190.973 1371.09 187.338 1371.09 M187.338 1367.39 Q193.149 1367.39 196.204 1371.99 Q199.283 1376.58 199.283 1385.33 Q199.283 1394.05 196.204 1398.66 Q193.149 1403.24 187.338 1403.24 Q181.528 1403.24 178.45 1398.66 Q175.394 1394.05 175.394 1385.33 Q175.394 1376.58 178.45 1371.99 Q181.528 1367.39 187.338 1367.39 Z\" fill=\"#000000\" fill-rule=\"evenodd\" fill-opacity=\"1\" /><path clip-path=\"url(#clip090)\" d=\"M117.825 1117.45 L125.464 1117.45 L125.464 1091.08 L117.154 1092.75 L117.154 1088.49 L125.418 1086.82 L130.093 1086.82 L130.093 1117.45 L137.732 1117.45 L137.732 1121.38 L117.825 1121.38 L117.825 1117.45 Z\" fill=\"#000000\" fill-rule=\"evenodd\" fill-opacity=\"1\" /><path clip-path=\"url(#clip090)\" d=\"M157.177 1089.9 Q153.566 1089.9 151.737 1093.46 Q149.931 1097.01 149.931 1104.14 Q149.931 1111.24 151.737 1114.81 Q153.566 1118.35 157.177 1118.35 Q160.811 1118.35 162.616 1114.81 Q164.445 1111.24 164.445 1104.14 Q164.445 1097.01 162.616 1093.46 Q160.811 1089.9 157.177 1089.9 M157.177 1086.2 Q162.987 1086.2 166.042 1090.8 Q169.121 1095.39 169.121 1104.14 Q169.121 1112.86 166.042 1117.47 Q162.987 1122.05 157.177 1122.05 Q151.366 1122.05 148.288 1117.47 Q145.232 1112.86 145.232 1104.14 Q145.232 1095.39 148.288 1090.8 Q151.366 1086.2 157.177 1086.2 Z\" fill=\"#000000\" fill-rule=\"evenodd\" fill-opacity=\"1\" /><path clip-path=\"url(#clip090)\" d=\"M187.338 1089.9 Q183.727 1089.9 181.899 1093.46 Q180.093 1097.01 180.093 1104.14 Q180.093 1111.24 181.899 1114.81 Q183.727 1118.35 187.338 1118.35 Q190.973 1118.35 192.778 1114.81 Q194.607 1111.24 194.607 1104.14 Q194.607 1097.01 192.778 1093.46 Q190.973 1089.9 187.338 1089.9 M187.338 1086.2 Q193.149 1086.2 196.204 1090.8 Q199.283 1095.39 199.283 1104.14 Q199.283 1112.86 196.204 1117.47 Q193.149 1122.05 187.338 1122.05 Q181.528 1122.05 178.45 1117.47 Q175.394 1112.86 175.394 1104.14 Q175.394 1095.39 178.45 1090.8 Q181.528 1086.2 187.338 1086.2 Z\" fill=\"#000000\" fill-rule=\"evenodd\" fill-opacity=\"1\" /><path clip-path=\"url(#clip090)\" d=\"M121.043 836.254 L137.362 836.254 L137.362 840.189 L115.418 840.189 L115.418 836.254 Q118.08 833.499 122.663 828.869 Q127.269 824.217 128.45 822.874 Q130.695 820.351 131.575 818.615 Q132.478 816.856 132.478 815.166 Q132.478 812.411 130.533 810.675 Q128.612 808.939 125.51 808.939 Q123.311 808.939 120.857 809.703 Q118.427 810.467 115.649 812.018 L115.649 807.295 Q118.473 806.161 120.927 805.582 Q123.38 805.004 125.418 805.004 Q130.788 805.004 133.982 807.689 Q137.177 810.374 137.177 814.865 Q137.177 816.994 136.367 818.916 Q135.579 820.814 133.473 823.406 Q132.894 824.078 129.792 827.295 Q126.691 830.49 121.043 836.254 Z\" fill=\"#000000\" fill-rule=\"evenodd\" fill-opacity=\"1\" /><path clip-path=\"url(#clip090)\" d=\"M157.177 808.707 Q153.566 808.707 151.737 812.272 Q149.931 815.814 149.931 822.943 Q149.931 830.05 151.737 833.615 Q153.566 837.156 157.177 837.156 Q160.811 837.156 162.616 833.615 Q164.445 830.05 164.445 822.943 Q164.445 815.814 162.616 812.272 Q160.811 808.707 157.177 808.707 M157.177 805.004 Q162.987 805.004 166.042 809.61 Q169.121 814.193 169.121 822.943 Q169.121 831.67 166.042 836.277 Q162.987 840.86 157.177 840.86 Q151.366 840.86 148.288 836.277 Q145.232 831.67 145.232 822.943 Q145.232 814.193 148.288 809.61 Q151.366 805.004 157.177 805.004 Z\" fill=\"#000000\" fill-rule=\"evenodd\" fill-opacity=\"1\" /><path clip-path=\"url(#clip090)\" d=\"M187.338 808.707 Q183.727 808.707 181.899 812.272 Q180.093 815.814 180.093 822.943 Q180.093 830.05 181.899 833.615 Q183.727 837.156 187.338 837.156 Q190.973 837.156 192.778 833.615 Q194.607 830.05 194.607 822.943 Q194.607 815.814 192.778 812.272 Q190.973 808.707 187.338 808.707 M187.338 805.004 Q193.149 805.004 196.204 809.61 Q199.283 814.193 199.283 822.943 Q199.283 831.67 196.204 836.277 Q193.149 840.86 187.338 840.86 Q181.528 840.86 178.45 836.277 Q175.394 831.67 175.394 822.943 Q175.394 814.193 178.45 809.61 Q181.528 805.004 187.338 805.004 Z\" fill=\"#000000\" fill-rule=\"evenodd\" fill-opacity=\"1\" /><path clip-path=\"url(#clip090)\" d=\"M131.181 540.363 Q134.538 541.08 136.413 543.349 Q138.311 545.617 138.311 548.95 Q138.311 554.066 134.792 556.867 Q131.274 559.668 124.793 559.668 Q122.617 559.668 120.302 559.228 Q118.01 558.812 115.556 557.955 L115.556 553.441 Q117.501 554.575 119.816 555.154 Q122.13 555.733 124.654 555.733 Q129.052 555.733 131.343 553.997 Q133.658 552.261 133.658 548.95 Q133.658 545.895 131.505 544.182 Q129.376 542.446 125.556 542.446 L121.529 542.446 L121.529 538.603 L125.742 538.603 Q129.191 538.603 131.019 537.238 Q132.848 535.849 132.848 533.256 Q132.848 530.594 130.95 529.182 Q129.075 527.747 125.556 527.747 Q123.635 527.747 121.436 528.164 Q119.237 528.58 116.598 529.46 L116.598 525.293 Q119.26 524.552 121.575 524.182 Q123.913 523.812 125.973 523.812 Q131.297 523.812 134.399 526.242 Q137.501 528.65 137.501 532.77 Q137.501 535.64 135.857 537.631 Q134.214 539.599 131.181 540.363 Z\" fill=\"#000000\" fill-rule=\"evenodd\" fill-opacity=\"1\" /><path clip-path=\"url(#clip090)\" d=\"M157.177 527.515 Q153.566 527.515 151.737 531.08 Q149.931 534.622 149.931 541.751 Q149.931 548.858 151.737 552.423 Q153.566 555.964 157.177 555.964 Q160.811 555.964 162.616 552.423 Q164.445 548.858 164.445 541.751 Q164.445 534.622 162.616 531.08 Q160.811 527.515 157.177 527.515 M157.177 523.812 Q162.987 523.812 166.042 528.418 Q169.121 533.001 169.121 541.751 Q169.121 550.478 166.042 555.085 Q162.987 559.668 157.177 559.668 Q151.366 559.668 148.288 555.085 Q145.232 550.478 145.232 541.751 Q145.232 533.001 148.288 528.418 Q151.366 523.812 157.177 523.812 Z\" fill=\"#000000\" fill-rule=\"evenodd\" fill-opacity=\"1\" /><path clip-path=\"url(#clip090)\" d=\"M187.338 527.515 Q183.727 527.515 181.899 531.08 Q180.093 534.622 180.093 541.751 Q180.093 548.858 181.899 552.423 Q183.727 555.964 187.338 555.964 Q190.973 555.964 192.778 552.423 Q194.607 548.858 194.607 541.751 Q194.607 534.622 192.778 531.08 Q190.973 527.515 187.338 527.515 M187.338 523.812 Q193.149 523.812 196.204 528.418 Q199.283 533.001 199.283 541.751 Q199.283 550.478 196.204 555.085 Q193.149 559.668 187.338 559.668 Q181.528 559.668 178.45 555.085 Q175.394 550.478 175.394 541.751 Q175.394 533.001 178.45 528.418 Q181.528 523.812 187.338 523.812 Z\" fill=\"#000000\" fill-rule=\"evenodd\" fill-opacity=\"1\" /><path clip-path=\"url(#clip090)\" d=\"M129.862 247.319 L118.056 265.768 L129.862 265.768 L129.862 247.319 M128.635 243.245 L134.515 243.245 L134.515 265.768 L139.445 265.768 L139.445 269.657 L134.515 269.657 L134.515 277.805 L129.862 277.805 L129.862 269.657 L114.26 269.657 L114.26 265.143 L128.635 243.245 Z\" fill=\"#000000\" fill-rule=\"evenodd\" fill-opacity=\"1\" /><path clip-path=\"url(#clip090)\" d=\"M157.177 246.323 Q153.566 246.323 151.737 249.888 Q149.931 253.43 149.931 260.559 Q149.931 267.666 151.737 271.231 Q153.566 274.772 157.177 274.772 Q160.811 274.772 162.616 271.231 Q164.445 267.666 164.445 260.559 Q164.445 253.43 162.616 249.888 Q160.811 246.323 157.177 246.323 M157.177 242.62 Q162.987 242.62 166.042 247.226 Q169.121 251.809 169.121 260.559 Q169.121 269.286 166.042 273.893 Q162.987 278.476 157.177 278.476 Q151.366 278.476 148.288 273.893 Q145.232 269.286 145.232 260.559 Q145.232 251.809 148.288 247.226 Q151.366 242.62 157.177 242.62 Z\" fill=\"#000000\" fill-rule=\"evenodd\" fill-opacity=\"1\" /><path clip-path=\"url(#clip090)\" d=\"M187.338 246.323 Q183.727 246.323 181.899 249.888 Q180.093 253.43 180.093 260.559 Q180.093 267.666 181.899 271.231 Q183.727 274.772 187.338 274.772 Q190.973 274.772 192.778 271.231 Q194.607 267.666 194.607 260.559 Q194.607 253.43 192.778 249.888 Q190.973 246.323 187.338 246.323 M187.338 242.62 Q193.149 242.62 196.204 247.226 Q199.283 251.809 199.283 260.559 Q199.283 269.286 196.204 273.893 Q193.149 278.476 187.338 278.476 Q181.528 278.476 178.45 273.893 Q175.394 269.286 175.394 260.559 Q175.394 251.809 178.45 247.226 Q181.528 242.62 187.338 242.62 Z\" fill=\"#000000\" fill-rule=\"evenodd\" fill-opacity=\"1\" /><path clip-path=\"url(#clip090)\" d=\"M16.4842 794.238 L16.4842 784.658 L48.8219 772.531 L16.4842 760.341 L16.4842 750.76 L64.0042 750.76 L64.0042 757.03 L22.277 757.03 L54.8694 769.284 L54.8694 775.746 L22.277 788 L64.0042 788 L64.0042 794.238 L16.4842 794.238 Z\" fill=\"#000000\" fill-rule=\"evenodd\" fill-opacity=\"1\" /><path clip-path=\"url(#clip090)\" d=\"M14.5426 724.183 Q21.8632 728.448 29.0246 730.517 Q36.186 732.586 43.5384 732.586 Q50.8908 732.586 58.1159 730.517 Q65.3091 728.417 72.5979 724.183 L72.5979 729.276 Q65.1182 734.05 57.8931 736.437 Q50.668 738.793 43.5384 738.793 Q36.4406 738.793 29.2474 736.437 Q22.0542 734.082 14.5426 729.276 L14.5426 724.183 Z\" fill=\"#000000\" fill-rule=\"evenodd\" fill-opacity=\"1\" /><path clip-path=\"url(#clip090)\" d=\"M14.479 694.774 L19.3487 694.774 L19.3487 700.376 Q19.3487 703.527 20.6219 704.768 Q21.895 705.977 25.2052 705.977 L28.3562 705.977 L28.3562 696.333 L32.9077 696.333 L32.9077 705.977 L64.0042 705.977 L64.0042 711.866 L32.9077 711.866 L32.9077 717.468 L28.3562 717.468 L28.3562 711.866 L25.8736 711.866 Q19.9216 711.866 17.2162 709.097 Q14.479 706.328 14.479 700.312 L14.479 694.774 Z\" fill=\"#000000\" fill-rule=\"evenodd\" fill-opacity=\"1\" /><path clip-path=\"url(#clip090)\" d=\"M14.5426 690.795 L14.5426 685.703 Q22.0542 680.928 29.2474 678.573 Q36.4406 676.186 43.5384 676.186 Q50.668 676.186 57.8931 678.573 Q65.1182 680.928 72.5979 685.703 L72.5979 690.795 Q65.3091 686.562 58.1159 684.493 Q50.8908 682.393 43.5384 682.393 Q36.186 682.393 29.0246 684.493 Q21.8632 686.562 14.5426 690.795 Z\" fill=\"#000000\" fill-rule=\"evenodd\" fill-opacity=\"1\" /><polyline clip-path=\"url(#clip092)\" style=\"stroke:#009af9; stroke-linecap:butt; stroke-linejoin:round; stroke-width:4; stroke-opacity:1; fill:none\" points=\"\n",
       "  301.201,1374.05 316.176,1365.61 331.15,1354.36 346.125,1343.11 361.1,1334.68 376.074,1329.05 391.049,1323.43 406.024,1309.37 420.998,1300.94 435.973,1298.12 \n",
       "  450.948,1286.88 465.922,1272.82 480.897,1264.38 495.871,1261.57 510.846,1253.13 525.821,1250.32 540.795,1239.07 555.77,1233.45 570.745,1222.2 585.719,1205.33 \n",
       "  600.694,1196.89 615.668,1188.46 630.643,1171.59 645.618,1168.77 660.592,1168.77 675.567,1154.72 690.542,1143.47 705.516,1143.47 720.491,1118.16 735.466,1118.16 \n",
       "  750.44,1090.04 765.415,1090.04 780.389,1090.04 795.364,1084.42 810.339,1084.42 825.313,1084.42 840.288,1050.67 855.263,1050.67 870.237,1050.67 885.212,1050.67 \n",
       "  900.187,1016.93 915.161,1016.93 930.136,1016.93 945.11,1016.93 960.085,969.129 975.06,969.129 990.034,969.129 1005.01,969.129 1019.98,969.129 1034.96,969.129 \n",
       "  1049.93,938.197 1064.91,938.197 1079.88,938.197 1094.86,938.197 1109.83,938.197 1124.81,938.197 1139.78,938.197 1154.76,856.652 1169.73,856.652 1184.7,856.652 \n",
       "  1199.68,856.652 1214.65,856.652 1229.63,856.652 1244.6,856.652 1259.58,856.652 1274.55,856.652 1289.53,763.858 1304.5,763.858 1319.48,763.858 1334.45,763.858 \n",
       "  1349.43,763.858 1364.4,763.858 1379.37,763.858 1394.35,763.858 1409.32,763.858 1424.3,763.858 1439.27,763.858 1454.25,763.858 1469.22,763.858 1484.2,763.858 \n",
       "  1499.17,614.827 1514.15,614.827 1529.12,614.827 1544.1,614.827 1559.07,614.827 1574.05,614.827 1589.02,614.827 1603.99,614.827 1618.97,614.827 1633.94,614.827 \n",
       "  1648.92,614.827 1663.89,614.827 1678.87,614.827 1693.84,614.827 1708.82,614.827 1723.79,614.827 1738.77,614.827 1753.74,614.827 1768.72,614.827 1783.69,614.827 \n",
       "  1798.66,417.992 1813.64,417.992 1828.61,417.992 1843.59,417.992 1858.56,417.992 1873.54,417.992 1888.51,417.992 1903.49,417.992 1918.46,417.992 1933.44,417.992 \n",
       "  1948.41,417.992 1963.39,417.992 1978.36,417.992 1993.33,417.992 2008.31,417.992 2023.28,417.992 2038.26,417.992 2053.23,417.992 2068.21,417.992 2083.18,417.992 \n",
       "  2098.16,417.992 2113.13,417.992 2128.11,417.992 2143.08,417.992 2158.06,417.992 2173.03,417.992 2188,417.992 2202.98,417.992 2217.95,417.992 2232.93,417.992 \n",
       "  2247.9,417.992 2262.88,417.992 2277.85,417.992 2292.83,86.1857 \n",
       "  \"/>\n",
       "<path clip-path=\"url(#clip092)\" d=\"M301.201 1380.05 L296.959 1378.29 L295.201 1374.05 L296.959 1369.8 L301.201 1368.05 L305.443 1369.8 L307.201 1374.05 L305.443 1378.29 Z\" fill=\"#009af9\" fill-rule=\"evenodd\" fill-opacity=\"1\" stroke=\"#000000\" stroke-opacity=\"1\" stroke-width=\"3.2\"/>\n",
       "<path clip-path=\"url(#clip092)\" d=\"M316.176 1371.61 L311.934 1369.85 L310.176 1365.61 L311.934 1361.37 L316.176 1359.61 L320.418 1361.37 L322.176 1365.61 L320.418 1369.85 Z\" fill=\"#009af9\" fill-rule=\"evenodd\" fill-opacity=\"1\" stroke=\"#000000\" stroke-opacity=\"1\" stroke-width=\"3.2\"/>\n",
       "<path clip-path=\"url(#clip092)\" d=\"M331.15 1360.36 L326.908 1358.6 L325.15 1354.36 L326.908 1350.12 L331.15 1348.36 L335.392 1350.12 L337.15 1354.36 L335.392 1358.6 Z\" fill=\"#009af9\" fill-rule=\"evenodd\" fill-opacity=\"1\" stroke=\"#000000\" stroke-opacity=\"1\" stroke-width=\"3.2\"/>\n",
       "<path clip-path=\"url(#clip092)\" d=\"M346.125 1349.11 L341.883 1347.36 L340.125 1343.11 L341.883 1338.87 L346.125 1337.11 L350.367 1338.87 L352.125 1343.11 L350.367 1347.36 Z\" fill=\"#009af9\" fill-rule=\"evenodd\" fill-opacity=\"1\" stroke=\"#000000\" stroke-opacity=\"1\" stroke-width=\"3.2\"/>\n",
       "<path clip-path=\"url(#clip092)\" d=\"M361.1 1340.68 L356.858 1338.92 L355.1 1334.68 L356.858 1330.44 L361.1 1328.68 L365.342 1330.44 L367.1 1334.68 L365.342 1338.92 Z\" fill=\"#009af9\" fill-rule=\"evenodd\" fill-opacity=\"1\" stroke=\"#000000\" stroke-opacity=\"1\" stroke-width=\"3.2\"/>\n",
       "<path clip-path=\"url(#clip092)\" d=\"M376.074 1335.05 L371.832 1333.3 L370.074 1329.05 L371.832 1324.81 L376.074 1323.05 L380.316 1324.81 L382.074 1329.05 L380.316 1333.3 Z\" fill=\"#009af9\" fill-rule=\"evenodd\" fill-opacity=\"1\" stroke=\"#000000\" stroke-opacity=\"1\" stroke-width=\"3.2\"/>\n",
       "<path clip-path=\"url(#clip092)\" d=\"M391.049 1329.43 L386.807 1327.67 L385.049 1323.43 L386.807 1319.19 L391.049 1317.43 L395.291 1319.19 L397.049 1323.43 L395.291 1327.67 Z\" fill=\"#009af9\" fill-rule=\"evenodd\" fill-opacity=\"1\" stroke=\"#000000\" stroke-opacity=\"1\" stroke-width=\"3.2\"/>\n",
       "<path clip-path=\"url(#clip092)\" d=\"M406.024 1315.37 L401.782 1313.61 L400.024 1309.37 L401.782 1305.13 L406.024 1303.37 L410.266 1305.13 L412.024 1309.37 L410.266 1313.61 Z\" fill=\"#009af9\" fill-rule=\"evenodd\" fill-opacity=\"1\" stroke=\"#000000\" stroke-opacity=\"1\" stroke-width=\"3.2\"/>\n",
       "<path clip-path=\"url(#clip092)\" d=\"M420.998 1306.94 L416.756 1305.18 L414.998 1300.94 L416.756 1296.69 L420.998 1294.94 L425.24 1296.69 L426.998 1300.94 L425.24 1305.18 Z\" fill=\"#009af9\" fill-rule=\"evenodd\" fill-opacity=\"1\" stroke=\"#000000\" stroke-opacity=\"1\" stroke-width=\"3.2\"/>\n",
       "<path clip-path=\"url(#clip092)\" d=\"M435.973 1304.12 L431.731 1302.37 L429.973 1298.12 L431.731 1293.88 L435.973 1292.12 L440.215 1293.88 L441.973 1298.12 L440.215 1302.37 Z\" fill=\"#009af9\" fill-rule=\"evenodd\" fill-opacity=\"1\" stroke=\"#000000\" stroke-opacity=\"1\" stroke-width=\"3.2\"/>\n",
       "<path clip-path=\"url(#clip092)\" d=\"M450.948 1292.88 L446.706 1291.12 L444.948 1286.88 L446.706 1282.63 L450.948 1280.88 L455.19 1282.63 L456.948 1286.88 L455.19 1291.12 Z\" fill=\"#009af9\" fill-rule=\"evenodd\" fill-opacity=\"1\" stroke=\"#000000\" stroke-opacity=\"1\" stroke-width=\"3.2\"/>\n",
       "<path clip-path=\"url(#clip092)\" d=\"M465.922 1278.82 L461.68 1277.06 L459.922 1272.82 L461.68 1268.57 L465.922 1266.82 L470.164 1268.57 L471.922 1272.82 L470.164 1277.06 Z\" fill=\"#009af9\" fill-rule=\"evenodd\" fill-opacity=\"1\" stroke=\"#000000\" stroke-opacity=\"1\" stroke-width=\"3.2\"/>\n",
       "<path clip-path=\"url(#clip092)\" d=\"M480.897 1270.38 L476.655 1268.62 L474.897 1264.38 L476.655 1260.14 L480.897 1258.38 L485.139 1260.14 L486.897 1264.38 L485.139 1268.62 Z\" fill=\"#009af9\" fill-rule=\"evenodd\" fill-opacity=\"1\" stroke=\"#000000\" stroke-opacity=\"1\" stroke-width=\"3.2\"/>\n",
       "<path clip-path=\"url(#clip092)\" d=\"M495.871 1267.57 L491.629 1265.81 L489.871 1261.57 L491.629 1257.33 L495.871 1255.57 L500.113 1257.33 L501.871 1261.57 L500.113 1265.81 Z\" fill=\"#009af9\" fill-rule=\"evenodd\" fill-opacity=\"1\" stroke=\"#000000\" stroke-opacity=\"1\" stroke-width=\"3.2\"/>\n",
       "<path clip-path=\"url(#clip092)\" d=\"M510.846 1259.13 L506.604 1257.37 L504.846 1253.13 L506.604 1248.89 L510.846 1247.13 L515.088 1248.89 L516.846 1253.13 L515.088 1257.37 Z\" fill=\"#009af9\" fill-rule=\"evenodd\" fill-opacity=\"1\" stroke=\"#000000\" stroke-opacity=\"1\" stroke-width=\"3.2\"/>\n",
       "<path clip-path=\"url(#clip092)\" d=\"M525.821 1256.32 L521.579 1254.56 L519.821 1250.32 L521.579 1246.08 L525.821 1244.32 L530.063 1246.08 L531.821 1250.32 L530.063 1254.56 Z\" fill=\"#009af9\" fill-rule=\"evenodd\" fill-opacity=\"1\" stroke=\"#000000\" stroke-opacity=\"1\" stroke-width=\"3.2\"/>\n",
       "<path clip-path=\"url(#clip092)\" d=\"M540.795 1245.07 L536.553 1243.31 L534.795 1239.07 L536.553 1234.83 L540.795 1233.07 L545.037 1234.83 L546.795 1239.07 L545.037 1243.31 Z\" fill=\"#009af9\" fill-rule=\"evenodd\" fill-opacity=\"1\" stroke=\"#000000\" stroke-opacity=\"1\" stroke-width=\"3.2\"/>\n",
       "<path clip-path=\"url(#clip092)\" d=\"M555.77 1239.45 L551.528 1237.69 L549.77 1233.45 L551.528 1229.21 L555.77 1227.45 L560.012 1229.21 L561.77 1233.45 L560.012 1237.69 Z\" fill=\"#009af9\" fill-rule=\"evenodd\" fill-opacity=\"1\" stroke=\"#000000\" stroke-opacity=\"1\" stroke-width=\"3.2\"/>\n",
       "<path clip-path=\"url(#clip092)\" d=\"M570.745 1228.2 L566.503 1226.44 L564.745 1222.2 L566.503 1217.96 L570.745 1216.2 L574.987 1217.96 L576.745 1222.2 L574.987 1226.44 Z\" fill=\"#009af9\" fill-rule=\"evenodd\" fill-opacity=\"1\" stroke=\"#000000\" stroke-opacity=\"1\" stroke-width=\"3.2\"/>\n",
       "<path clip-path=\"url(#clip092)\" d=\"M585.719 1211.33 L581.477 1209.57 L579.719 1205.33 L581.477 1201.09 L585.719 1199.33 L589.961 1201.09 L591.719 1205.33 L589.961 1209.57 Z\" fill=\"#009af9\" fill-rule=\"evenodd\" fill-opacity=\"1\" stroke=\"#000000\" stroke-opacity=\"1\" stroke-width=\"3.2\"/>\n",
       "<path clip-path=\"url(#clip092)\" d=\"M600.694 1202.89 L596.452 1201.14 L594.694 1196.89 L596.452 1192.65 L600.694 1190.89 L604.936 1192.65 L606.694 1196.89 L604.936 1201.14 Z\" fill=\"#009af9\" fill-rule=\"evenodd\" fill-opacity=\"1\" stroke=\"#000000\" stroke-opacity=\"1\" stroke-width=\"3.2\"/>\n",
       "<path clip-path=\"url(#clip092)\" d=\"M615.668 1194.46 L611.426 1192.7 L609.668 1188.46 L611.426 1184.22 L615.668 1182.46 L619.91 1184.22 L621.668 1188.46 L619.91 1192.7 Z\" fill=\"#009af9\" fill-rule=\"evenodd\" fill-opacity=\"1\" stroke=\"#000000\" stroke-opacity=\"1\" stroke-width=\"3.2\"/>\n",
       "<path clip-path=\"url(#clip092)\" d=\"M630.643 1177.59 L626.401 1175.83 L624.643 1171.59 L626.401 1167.34 L630.643 1165.59 L634.885 1167.34 L636.643 1171.59 L634.885 1175.83 Z\" fill=\"#009af9\" fill-rule=\"evenodd\" fill-opacity=\"1\" stroke=\"#000000\" stroke-opacity=\"1\" stroke-width=\"3.2\"/>\n",
       "<path clip-path=\"url(#clip092)\" d=\"M645.618 1174.77 L641.376 1173.02 L639.618 1168.77 L641.376 1164.53 L645.618 1162.77 L649.86 1164.53 L651.618 1168.77 L649.86 1173.02 Z\" fill=\"#009af9\" fill-rule=\"evenodd\" fill-opacity=\"1\" stroke=\"#000000\" stroke-opacity=\"1\" stroke-width=\"3.2\"/>\n",
       "<path clip-path=\"url(#clip092)\" d=\"M660.592 1174.77 L656.35 1173.02 L654.592 1168.77 L656.35 1164.53 L660.592 1162.77 L664.834 1164.53 L666.592 1168.77 L664.834 1173.02 Z\" fill=\"#009af9\" fill-rule=\"evenodd\" fill-opacity=\"1\" stroke=\"#000000\" stroke-opacity=\"1\" stroke-width=\"3.2\"/>\n",
       "<path clip-path=\"url(#clip092)\" d=\"M675.567 1160.72 L671.325 1158.96 L669.567 1154.72 L671.325 1150.47 L675.567 1148.72 L679.809 1150.47 L681.567 1154.72 L679.809 1158.96 Z\" fill=\"#009af9\" fill-rule=\"evenodd\" fill-opacity=\"1\" stroke=\"#000000\" stroke-opacity=\"1\" stroke-width=\"3.2\"/>\n",
       "<path clip-path=\"url(#clip092)\" d=\"M690.542 1149.47 L686.3 1147.71 L684.542 1143.47 L686.3 1139.23 L690.542 1137.47 L694.784 1139.23 L696.542 1143.47 L694.784 1147.71 Z\" fill=\"#009af9\" fill-rule=\"evenodd\" fill-opacity=\"1\" stroke=\"#000000\" stroke-opacity=\"1\" stroke-width=\"3.2\"/>\n",
       "<path clip-path=\"url(#clip092)\" d=\"M705.516 1149.47 L701.274 1147.71 L699.516 1143.47 L701.274 1139.23 L705.516 1137.47 L709.758 1139.23 L711.516 1143.47 L709.758 1147.71 Z\" fill=\"#009af9\" fill-rule=\"evenodd\" fill-opacity=\"1\" stroke=\"#000000\" stroke-opacity=\"1\" stroke-width=\"3.2\"/>\n",
       "<path clip-path=\"url(#clip092)\" d=\"M720.491 1124.16 L716.249 1122.4 L714.491 1118.16 L716.249 1113.92 L720.491 1112.16 L724.733 1113.92 L726.491 1118.16 L724.733 1122.4 Z\" fill=\"#009af9\" fill-rule=\"evenodd\" fill-opacity=\"1\" stroke=\"#000000\" stroke-opacity=\"1\" stroke-width=\"3.2\"/>\n",
       "<path clip-path=\"url(#clip092)\" d=\"M735.466 1124.16 L731.224 1122.4 L729.466 1118.16 L731.224 1113.92 L735.466 1112.16 L739.708 1113.92 L741.466 1118.16 L739.708 1122.4 Z\" fill=\"#009af9\" fill-rule=\"evenodd\" fill-opacity=\"1\" stroke=\"#000000\" stroke-opacity=\"1\" stroke-width=\"3.2\"/>\n",
       "<path clip-path=\"url(#clip092)\" d=\"M750.44 1096.04 L746.198 1094.28 L744.44 1090.04 L746.198 1085.8 L750.44 1084.04 L754.682 1085.8 L756.44 1090.04 L754.682 1094.28 Z\" fill=\"#009af9\" fill-rule=\"evenodd\" fill-opacity=\"1\" stroke=\"#000000\" stroke-opacity=\"1\" stroke-width=\"3.2\"/>\n",
       "<path clip-path=\"url(#clip092)\" d=\"M765.415 1096.04 L761.173 1094.28 L759.415 1090.04 L761.173 1085.8 L765.415 1084.04 L769.657 1085.8 L771.415 1090.04 L769.657 1094.28 Z\" fill=\"#009af9\" fill-rule=\"evenodd\" fill-opacity=\"1\" stroke=\"#000000\" stroke-opacity=\"1\" stroke-width=\"3.2\"/>\n",
       "<path clip-path=\"url(#clip092)\" d=\"M780.389 1096.04 L776.147 1094.28 L774.389 1090.04 L776.147 1085.8 L780.389 1084.04 L784.631 1085.8 L786.389 1090.04 L784.631 1094.28 Z\" fill=\"#009af9\" fill-rule=\"evenodd\" fill-opacity=\"1\" stroke=\"#000000\" stroke-opacity=\"1\" stroke-width=\"3.2\"/>\n",
       "<path clip-path=\"url(#clip092)\" d=\"M795.364 1090.42 L791.122 1088.66 L789.364 1084.42 L791.122 1080.18 L795.364 1078.42 L799.606 1080.18 L801.364 1084.42 L799.606 1088.66 Z\" fill=\"#009af9\" fill-rule=\"evenodd\" fill-opacity=\"1\" stroke=\"#000000\" stroke-opacity=\"1\" stroke-width=\"3.2\"/>\n",
       "<path clip-path=\"url(#clip092)\" d=\"M810.339 1090.42 L806.097 1088.66 L804.339 1084.42 L806.097 1080.18 L810.339 1078.42 L814.581 1080.18 L816.339 1084.42 L814.581 1088.66 Z\" fill=\"#009af9\" fill-rule=\"evenodd\" fill-opacity=\"1\" stroke=\"#000000\" stroke-opacity=\"1\" stroke-width=\"3.2\"/>\n",
       "<path clip-path=\"url(#clip092)\" d=\"M825.313 1090.42 L821.071 1088.66 L819.313 1084.42 L821.071 1080.18 L825.313 1078.42 L829.555 1080.18 L831.313 1084.42 L829.555 1088.66 Z\" fill=\"#009af9\" fill-rule=\"evenodd\" fill-opacity=\"1\" stroke=\"#000000\" stroke-opacity=\"1\" stroke-width=\"3.2\"/>\n",
       "<path clip-path=\"url(#clip092)\" d=\"M840.288 1056.67 L836.046 1054.92 L834.288 1050.67 L836.046 1046.43 L840.288 1044.67 L844.53 1046.43 L846.288 1050.67 L844.53 1054.92 Z\" fill=\"#009af9\" fill-rule=\"evenodd\" fill-opacity=\"1\" stroke=\"#000000\" stroke-opacity=\"1\" stroke-width=\"3.2\"/>\n",
       "<path clip-path=\"url(#clip092)\" d=\"M855.263 1056.67 L851.021 1054.92 L849.263 1050.67 L851.021 1046.43 L855.263 1044.67 L859.505 1046.43 L861.263 1050.67 L859.505 1054.92 Z\" fill=\"#009af9\" fill-rule=\"evenodd\" fill-opacity=\"1\" stroke=\"#000000\" stroke-opacity=\"1\" stroke-width=\"3.2\"/>\n",
       "<path clip-path=\"url(#clip092)\" d=\"M870.237 1056.67 L865.995 1054.92 L864.237 1050.67 L865.995 1046.43 L870.237 1044.67 L874.479 1046.43 L876.237 1050.67 L874.479 1054.92 Z\" fill=\"#009af9\" fill-rule=\"evenodd\" fill-opacity=\"1\" stroke=\"#000000\" stroke-opacity=\"1\" stroke-width=\"3.2\"/>\n",
       "<path clip-path=\"url(#clip092)\" d=\"M885.212 1056.67 L880.97 1054.92 L879.212 1050.67 L880.97 1046.43 L885.212 1044.67 L889.454 1046.43 L891.212 1050.67 L889.454 1054.92 Z\" fill=\"#009af9\" fill-rule=\"evenodd\" fill-opacity=\"1\" stroke=\"#000000\" stroke-opacity=\"1\" stroke-width=\"3.2\"/>\n",
       "<path clip-path=\"url(#clip092)\" d=\"M900.187 1022.93 L895.945 1021.17 L894.187 1016.93 L895.945 1012.69 L900.187 1010.93 L904.429 1012.69 L906.187 1016.93 L904.429 1021.17 Z\" fill=\"#009af9\" fill-rule=\"evenodd\" fill-opacity=\"1\" stroke=\"#000000\" stroke-opacity=\"1\" stroke-width=\"3.2\"/>\n",
       "<path clip-path=\"url(#clip092)\" d=\"M915.161 1022.93 L910.919 1021.17 L909.161 1016.93 L910.919 1012.69 L915.161 1010.93 L919.403 1012.69 L921.161 1016.93 L919.403 1021.17 Z\" fill=\"#009af9\" fill-rule=\"evenodd\" fill-opacity=\"1\" stroke=\"#000000\" stroke-opacity=\"1\" stroke-width=\"3.2\"/>\n",
       "<path clip-path=\"url(#clip092)\" d=\"M930.136 1022.93 L925.894 1021.17 L924.136 1016.93 L925.894 1012.69 L930.136 1010.93 L934.378 1012.69 L936.136 1016.93 L934.378 1021.17 Z\" fill=\"#009af9\" fill-rule=\"evenodd\" fill-opacity=\"1\" stroke=\"#000000\" stroke-opacity=\"1\" stroke-width=\"3.2\"/>\n",
       "<path clip-path=\"url(#clip092)\" d=\"M945.11 1022.93 L940.868 1021.17 L939.11 1016.93 L940.868 1012.69 L945.11 1010.93 L949.352 1012.69 L951.11 1016.93 L949.352 1021.17 Z\" fill=\"#009af9\" fill-rule=\"evenodd\" fill-opacity=\"1\" stroke=\"#000000\" stroke-opacity=\"1\" stroke-width=\"3.2\"/>\n",
       "<path clip-path=\"url(#clip092)\" d=\"M960.085 975.129 L955.843 973.371 L954.085 969.129 L955.843 964.887 L960.085 963.129 L964.327 964.887 L966.085 969.129 L964.327 973.371 Z\" fill=\"#009af9\" fill-rule=\"evenodd\" fill-opacity=\"1\" stroke=\"#000000\" stroke-opacity=\"1\" stroke-width=\"3.2\"/>\n",
       "<path clip-path=\"url(#clip092)\" d=\"M975.06 975.129 L970.818 973.371 L969.06 969.129 L970.818 964.887 L975.06 963.129 L979.302 964.887 L981.06 969.129 L979.302 973.371 Z\" fill=\"#009af9\" fill-rule=\"evenodd\" fill-opacity=\"1\" stroke=\"#000000\" stroke-opacity=\"1\" stroke-width=\"3.2\"/>\n",
       "<path clip-path=\"url(#clip092)\" d=\"M990.034 975.129 L985.792 973.371 L984.034 969.129 L985.792 964.887 L990.034 963.129 L994.276 964.887 L996.034 969.129 L994.276 973.371 Z\" fill=\"#009af9\" fill-rule=\"evenodd\" fill-opacity=\"1\" stroke=\"#000000\" stroke-opacity=\"1\" stroke-width=\"3.2\"/>\n",
       "<path clip-path=\"url(#clip092)\" d=\"M1005.01 975.129 L1000.77 973.371 L999.009 969.129 L1000.77 964.887 L1005.01 963.129 L1009.25 964.887 L1011.01 969.129 L1009.25 973.371 Z\" fill=\"#009af9\" fill-rule=\"evenodd\" fill-opacity=\"1\" stroke=\"#000000\" stroke-opacity=\"1\" stroke-width=\"3.2\"/>\n",
       "<path clip-path=\"url(#clip092)\" d=\"M1019.98 975.129 L1015.74 973.371 L1013.98 969.129 L1015.74 964.887 L1019.98 963.129 L1024.23 964.887 L1025.98 969.129 L1024.23 973.371 Z\" fill=\"#009af9\" fill-rule=\"evenodd\" fill-opacity=\"1\" stroke=\"#000000\" stroke-opacity=\"1\" stroke-width=\"3.2\"/>\n",
       "<path clip-path=\"url(#clip092)\" d=\"M1034.96 975.129 L1030.72 973.371 L1028.96 969.129 L1030.72 964.887 L1034.96 963.129 L1039.2 964.887 L1040.96 969.129 L1039.2 973.371 Z\" fill=\"#009af9\" fill-rule=\"evenodd\" fill-opacity=\"1\" stroke=\"#000000\" stroke-opacity=\"1\" stroke-width=\"3.2\"/>\n",
       "<path clip-path=\"url(#clip092)\" d=\"M1049.93 944.197 L1045.69 942.439 L1043.93 938.197 L1045.69 933.955 L1049.93 932.197 L1054.17 933.955 L1055.93 938.197 L1054.17 942.439 Z\" fill=\"#009af9\" fill-rule=\"evenodd\" fill-opacity=\"1\" stroke=\"#000000\" stroke-opacity=\"1\" stroke-width=\"3.2\"/>\n",
       "<path clip-path=\"url(#clip092)\" d=\"M1064.91 944.197 L1060.67 942.439 L1058.91 938.197 L1060.67 933.955 L1064.91 932.197 L1069.15 933.955 L1070.91 938.197 L1069.15 942.439 Z\" fill=\"#009af9\" fill-rule=\"evenodd\" fill-opacity=\"1\" stroke=\"#000000\" stroke-opacity=\"1\" stroke-width=\"3.2\"/>\n",
       "<path clip-path=\"url(#clip092)\" d=\"M1079.88 944.197 L1075.64 942.439 L1073.88 938.197 L1075.64 933.955 L1079.88 932.197 L1084.12 933.955 L1085.88 938.197 L1084.12 942.439 Z\" fill=\"#009af9\" fill-rule=\"evenodd\" fill-opacity=\"1\" stroke=\"#000000\" stroke-opacity=\"1\" stroke-width=\"3.2\"/>\n",
       "<path clip-path=\"url(#clip092)\" d=\"M1094.86 944.197 L1090.61 942.439 L1088.86 938.197 L1090.61 933.955 L1094.86 932.197 L1099.1 933.955 L1100.86 938.197 L1099.1 942.439 Z\" fill=\"#009af9\" fill-rule=\"evenodd\" fill-opacity=\"1\" stroke=\"#000000\" stroke-opacity=\"1\" stroke-width=\"3.2\"/>\n",
       "<path clip-path=\"url(#clip092)\" d=\"M1109.83 944.197 L1105.59 942.439 L1103.83 938.197 L1105.59 933.955 L1109.83 932.197 L1114.07 933.955 L1115.83 938.197 L1114.07 942.439 Z\" fill=\"#009af9\" fill-rule=\"evenodd\" fill-opacity=\"1\" stroke=\"#000000\" stroke-opacity=\"1\" stroke-width=\"3.2\"/>\n",
       "<path clip-path=\"url(#clip092)\" d=\"M1124.81 944.197 L1120.56 942.439 L1118.81 938.197 L1120.56 933.955 L1124.81 932.197 L1129.05 933.955 L1130.81 938.197 L1129.05 942.439 Z\" fill=\"#009af9\" fill-rule=\"evenodd\" fill-opacity=\"1\" stroke=\"#000000\" stroke-opacity=\"1\" stroke-width=\"3.2\"/>\n",
       "<path clip-path=\"url(#clip092)\" d=\"M1139.78 944.197 L1135.54 942.439 L1133.78 938.197 L1135.54 933.955 L1139.78 932.197 L1144.02 933.955 L1145.78 938.197 L1144.02 942.439 Z\" fill=\"#009af9\" fill-rule=\"evenodd\" fill-opacity=\"1\" stroke=\"#000000\" stroke-opacity=\"1\" stroke-width=\"3.2\"/>\n",
       "<path clip-path=\"url(#clip092)\" d=\"M1154.76 862.652 L1150.51 860.894 L1148.76 856.652 L1150.51 852.41 L1154.76 850.652 L1159 852.41 L1160.76 856.652 L1159 860.894 Z\" fill=\"#009af9\" fill-rule=\"evenodd\" fill-opacity=\"1\" stroke=\"#000000\" stroke-opacity=\"1\" stroke-width=\"3.2\"/>\n",
       "<path clip-path=\"url(#clip092)\" d=\"M1169.73 862.652 L1165.49 860.894 L1163.73 856.652 L1165.49 852.41 L1169.73 850.652 L1173.97 852.41 L1175.73 856.652 L1173.97 860.894 Z\" fill=\"#009af9\" fill-rule=\"evenodd\" fill-opacity=\"1\" stroke=\"#000000\" stroke-opacity=\"1\" stroke-width=\"3.2\"/>\n",
       "<path clip-path=\"url(#clip092)\" d=\"M1184.7 862.652 L1180.46 860.894 L1178.7 856.652 L1180.46 852.41 L1184.7 850.652 L1188.95 852.41 L1190.7 856.652 L1188.95 860.894 Z\" fill=\"#009af9\" fill-rule=\"evenodd\" fill-opacity=\"1\" stroke=\"#000000\" stroke-opacity=\"1\" stroke-width=\"3.2\"/>\n",
       "<path clip-path=\"url(#clip092)\" d=\"M1199.68 862.652 L1195.44 860.894 L1193.68 856.652 L1195.44 852.41 L1199.68 850.652 L1203.92 852.41 L1205.68 856.652 L1203.92 860.894 Z\" fill=\"#009af9\" fill-rule=\"evenodd\" fill-opacity=\"1\" stroke=\"#000000\" stroke-opacity=\"1\" stroke-width=\"3.2\"/>\n",
       "<path clip-path=\"url(#clip092)\" d=\"M1214.65 862.652 L1210.41 860.894 L1208.65 856.652 L1210.41 852.41 L1214.65 850.652 L1218.9 852.41 L1220.65 856.652 L1218.9 860.894 Z\" fill=\"#009af9\" fill-rule=\"evenodd\" fill-opacity=\"1\" stroke=\"#000000\" stroke-opacity=\"1\" stroke-width=\"3.2\"/>\n",
       "<path clip-path=\"url(#clip092)\" d=\"M1229.63 862.652 L1225.39 860.894 L1223.63 856.652 L1225.39 852.41 L1229.63 850.652 L1233.87 852.41 L1235.63 856.652 L1233.87 860.894 Z\" fill=\"#009af9\" fill-rule=\"evenodd\" fill-opacity=\"1\" stroke=\"#000000\" stroke-opacity=\"1\" stroke-width=\"3.2\"/>\n",
       "<path clip-path=\"url(#clip092)\" d=\"M1244.6 862.652 L1240.36 860.894 L1238.6 856.652 L1240.36 852.41 L1244.6 850.652 L1248.85 852.41 L1250.6 856.652 L1248.85 860.894 Z\" fill=\"#009af9\" fill-rule=\"evenodd\" fill-opacity=\"1\" stroke=\"#000000\" stroke-opacity=\"1\" stroke-width=\"3.2\"/>\n",
       "<path clip-path=\"url(#clip092)\" d=\"M1259.58 862.652 L1255.34 860.894 L1253.58 856.652 L1255.34 852.41 L1259.58 850.652 L1263.82 852.41 L1265.58 856.652 L1263.82 860.894 Z\" fill=\"#009af9\" fill-rule=\"evenodd\" fill-opacity=\"1\" stroke=\"#000000\" stroke-opacity=\"1\" stroke-width=\"3.2\"/>\n",
       "<path clip-path=\"url(#clip092)\" d=\"M1274.55 862.652 L1270.31 860.894 L1268.55 856.652 L1270.31 852.41 L1274.55 850.652 L1278.79 852.41 L1280.55 856.652 L1278.79 860.894 Z\" fill=\"#009af9\" fill-rule=\"evenodd\" fill-opacity=\"1\" stroke=\"#000000\" stroke-opacity=\"1\" stroke-width=\"3.2\"/>\n",
       "<path clip-path=\"url(#clip092)\" d=\"M1289.53 769.858 L1285.28 768.1 L1283.53 763.858 L1285.28 759.616 L1289.53 757.858 L1293.77 759.616 L1295.53 763.858 L1293.77 768.1 Z\" fill=\"#009af9\" fill-rule=\"evenodd\" fill-opacity=\"1\" stroke=\"#000000\" stroke-opacity=\"1\" stroke-width=\"3.2\"/>\n",
       "<path clip-path=\"url(#clip092)\" d=\"M1304.5 769.858 L1300.26 768.1 L1298.5 763.858 L1300.26 759.616 L1304.5 757.858 L1308.74 759.616 L1310.5 763.858 L1308.74 768.1 Z\" fill=\"#009af9\" fill-rule=\"evenodd\" fill-opacity=\"1\" stroke=\"#000000\" stroke-opacity=\"1\" stroke-width=\"3.2\"/>\n",
       "<path clip-path=\"url(#clip092)\" d=\"M1319.48 769.858 L1315.23 768.1 L1313.48 763.858 L1315.23 759.616 L1319.48 757.858 L1323.72 759.616 L1325.48 763.858 L1323.72 768.1 Z\" fill=\"#009af9\" fill-rule=\"evenodd\" fill-opacity=\"1\" stroke=\"#000000\" stroke-opacity=\"1\" stroke-width=\"3.2\"/>\n",
       "<path clip-path=\"url(#clip092)\" d=\"M1334.45 769.858 L1330.21 768.1 L1328.45 763.858 L1330.21 759.616 L1334.45 757.858 L1338.69 759.616 L1340.45 763.858 L1338.69 768.1 Z\" fill=\"#009af9\" fill-rule=\"evenodd\" fill-opacity=\"1\" stroke=\"#000000\" stroke-opacity=\"1\" stroke-width=\"3.2\"/>\n",
       "<path clip-path=\"url(#clip092)\" d=\"M1349.43 769.858 L1345.18 768.1 L1343.43 763.858 L1345.18 759.616 L1349.43 757.858 L1353.67 759.616 L1355.43 763.858 L1353.67 768.1 Z\" fill=\"#009af9\" fill-rule=\"evenodd\" fill-opacity=\"1\" stroke=\"#000000\" stroke-opacity=\"1\" stroke-width=\"3.2\"/>\n",
       "<path clip-path=\"url(#clip092)\" d=\"M1364.4 769.858 L1360.16 768.1 L1358.4 763.858 L1360.16 759.616 L1364.4 757.858 L1368.64 759.616 L1370.4 763.858 L1368.64 768.1 Z\" fill=\"#009af9\" fill-rule=\"evenodd\" fill-opacity=\"1\" stroke=\"#000000\" stroke-opacity=\"1\" stroke-width=\"3.2\"/>\n",
       "<path clip-path=\"url(#clip092)\" d=\"M1379.37 769.858 L1375.13 768.1 L1373.37 763.858 L1375.13 759.616 L1379.37 757.858 L1383.62 759.616 L1385.37 763.858 L1383.62 768.1 Z\" fill=\"#009af9\" fill-rule=\"evenodd\" fill-opacity=\"1\" stroke=\"#000000\" stroke-opacity=\"1\" stroke-width=\"3.2\"/>\n",
       "<path clip-path=\"url(#clip092)\" d=\"M1394.35 769.858 L1390.11 768.1 L1388.35 763.858 L1390.11 759.616 L1394.35 757.858 L1398.59 759.616 L1400.35 763.858 L1398.59 768.1 Z\" fill=\"#009af9\" fill-rule=\"evenodd\" fill-opacity=\"1\" stroke=\"#000000\" stroke-opacity=\"1\" stroke-width=\"3.2\"/>\n",
       "<path clip-path=\"url(#clip092)\" d=\"M1409.32 769.858 L1405.08 768.1 L1403.32 763.858 L1405.08 759.616 L1409.32 757.858 L1413.57 759.616 L1415.32 763.858 L1413.57 768.1 Z\" fill=\"#009af9\" fill-rule=\"evenodd\" fill-opacity=\"1\" stroke=\"#000000\" stroke-opacity=\"1\" stroke-width=\"3.2\"/>\n",
       "<path clip-path=\"url(#clip092)\" d=\"M1424.3 769.858 L1420.06 768.1 L1418.3 763.858 L1420.06 759.616 L1424.3 757.858 L1428.54 759.616 L1430.3 763.858 L1428.54 768.1 Z\" fill=\"#009af9\" fill-rule=\"evenodd\" fill-opacity=\"1\" stroke=\"#000000\" stroke-opacity=\"1\" stroke-width=\"3.2\"/>\n",
       "<path clip-path=\"url(#clip092)\" d=\"M1439.27 769.858 L1435.03 768.1 L1433.27 763.858 L1435.03 759.616 L1439.27 757.858 L1443.52 759.616 L1445.27 763.858 L1443.52 768.1 Z\" fill=\"#009af9\" fill-rule=\"evenodd\" fill-opacity=\"1\" stroke=\"#000000\" stroke-opacity=\"1\" stroke-width=\"3.2\"/>\n",
       "<path clip-path=\"url(#clip092)\" d=\"M1454.25 769.858 L1450.01 768.1 L1448.25 763.858 L1450.01 759.616 L1454.25 757.858 L1458.49 759.616 L1460.25 763.858 L1458.49 768.1 Z\" fill=\"#009af9\" fill-rule=\"evenodd\" fill-opacity=\"1\" stroke=\"#000000\" stroke-opacity=\"1\" stroke-width=\"3.2\"/>\n",
       "<path clip-path=\"url(#clip092)\" d=\"M1469.22 769.858 L1464.98 768.1 L1463.22 763.858 L1464.98 759.616 L1469.22 757.858 L1473.46 759.616 L1475.22 763.858 L1473.46 768.1 Z\" fill=\"#009af9\" fill-rule=\"evenodd\" fill-opacity=\"1\" stroke=\"#000000\" stroke-opacity=\"1\" stroke-width=\"3.2\"/>\n",
       "<path clip-path=\"url(#clip092)\" d=\"M1484.2 769.858 L1479.96 768.1 L1478.2 763.858 L1479.96 759.616 L1484.2 757.858 L1488.44 759.616 L1490.2 763.858 L1488.44 768.1 Z\" fill=\"#009af9\" fill-rule=\"evenodd\" fill-opacity=\"1\" stroke=\"#000000\" stroke-opacity=\"1\" stroke-width=\"3.2\"/>\n",
       "<path clip-path=\"url(#clip092)\" d=\"M1499.17 620.827 L1494.93 619.069 L1493.17 614.827 L1494.93 610.585 L1499.17 608.827 L1503.41 610.585 L1505.17 614.827 L1503.41 619.069 Z\" fill=\"#009af9\" fill-rule=\"evenodd\" fill-opacity=\"1\" stroke=\"#000000\" stroke-opacity=\"1\" stroke-width=\"3.2\"/>\n",
       "<path clip-path=\"url(#clip092)\" d=\"M1514.15 620.827 L1509.9 619.069 L1508.15 614.827 L1509.9 610.585 L1514.15 608.827 L1518.39 610.585 L1520.15 614.827 L1518.39 619.069 Z\" fill=\"#009af9\" fill-rule=\"evenodd\" fill-opacity=\"1\" stroke=\"#000000\" stroke-opacity=\"1\" stroke-width=\"3.2\"/>\n",
       "<path clip-path=\"url(#clip092)\" d=\"M1529.12 620.827 L1524.88 619.069 L1523.12 614.827 L1524.88 610.585 L1529.12 608.827 L1533.36 610.585 L1535.12 614.827 L1533.36 619.069 Z\" fill=\"#009af9\" fill-rule=\"evenodd\" fill-opacity=\"1\" stroke=\"#000000\" stroke-opacity=\"1\" stroke-width=\"3.2\"/>\n",
       "<path clip-path=\"url(#clip092)\" d=\"M1544.1 620.827 L1539.85 619.069 L1538.1 614.827 L1539.85 610.585 L1544.1 608.827 L1548.34 610.585 L1550.1 614.827 L1548.34 619.069 Z\" fill=\"#009af9\" fill-rule=\"evenodd\" fill-opacity=\"1\" stroke=\"#000000\" stroke-opacity=\"1\" stroke-width=\"3.2\"/>\n",
       "<path clip-path=\"url(#clip092)\" d=\"M1559.07 620.827 L1554.83 619.069 L1553.07 614.827 L1554.83 610.585 L1559.07 608.827 L1563.31 610.585 L1565.07 614.827 L1563.31 619.069 Z\" fill=\"#009af9\" fill-rule=\"evenodd\" fill-opacity=\"1\" stroke=\"#000000\" stroke-opacity=\"1\" stroke-width=\"3.2\"/>\n",
       "<path clip-path=\"url(#clip092)\" d=\"M1574.05 620.827 L1569.8 619.069 L1568.05 614.827 L1569.8 610.585 L1574.05 608.827 L1578.29 610.585 L1580.05 614.827 L1578.29 619.069 Z\" fill=\"#009af9\" fill-rule=\"evenodd\" fill-opacity=\"1\" stroke=\"#000000\" stroke-opacity=\"1\" stroke-width=\"3.2\"/>\n",
       "<path clip-path=\"url(#clip092)\" d=\"M1589.02 620.827 L1584.78 619.069 L1583.02 614.827 L1584.78 610.585 L1589.02 608.827 L1593.26 610.585 L1595.02 614.827 L1593.26 619.069 Z\" fill=\"#009af9\" fill-rule=\"evenodd\" fill-opacity=\"1\" stroke=\"#000000\" stroke-opacity=\"1\" stroke-width=\"3.2\"/>\n",
       "<path clip-path=\"url(#clip092)\" d=\"M1603.99 620.827 L1599.75 619.069 L1597.99 614.827 L1599.75 610.585 L1603.99 608.827 L1608.24 610.585 L1609.99 614.827 L1608.24 619.069 Z\" fill=\"#009af9\" fill-rule=\"evenodd\" fill-opacity=\"1\" stroke=\"#000000\" stroke-opacity=\"1\" stroke-width=\"3.2\"/>\n",
       "<path clip-path=\"url(#clip092)\" d=\"M1618.97 620.827 L1614.73 619.069 L1612.97 614.827 L1614.73 610.585 L1618.97 608.827 L1623.21 610.585 L1624.97 614.827 L1623.21 619.069 Z\" fill=\"#009af9\" fill-rule=\"evenodd\" fill-opacity=\"1\" stroke=\"#000000\" stroke-opacity=\"1\" stroke-width=\"3.2\"/>\n",
       "<path clip-path=\"url(#clip092)\" d=\"M1633.94 620.827 L1629.7 619.069 L1627.94 614.827 L1629.7 610.585 L1633.94 608.827 L1638.19 610.585 L1639.94 614.827 L1638.19 619.069 Z\" fill=\"#009af9\" fill-rule=\"evenodd\" fill-opacity=\"1\" stroke=\"#000000\" stroke-opacity=\"1\" stroke-width=\"3.2\"/>\n",
       "<path clip-path=\"url(#clip092)\" d=\"M1648.92 620.827 L1644.68 619.069 L1642.92 614.827 L1644.68 610.585 L1648.92 608.827 L1653.16 610.585 L1654.92 614.827 L1653.16 619.069 Z\" fill=\"#009af9\" fill-rule=\"evenodd\" fill-opacity=\"1\" stroke=\"#000000\" stroke-opacity=\"1\" stroke-width=\"3.2\"/>\n",
       "<path clip-path=\"url(#clip092)\" d=\"M1663.89 620.827 L1659.65 619.069 L1657.89 614.827 L1659.65 610.585 L1663.89 608.827 L1668.13 610.585 L1669.89 614.827 L1668.13 619.069 Z\" fill=\"#009af9\" fill-rule=\"evenodd\" fill-opacity=\"1\" stroke=\"#000000\" stroke-opacity=\"1\" stroke-width=\"3.2\"/>\n",
       "<path clip-path=\"url(#clip092)\" d=\"M1678.87 620.827 L1674.63 619.069 L1672.87 614.827 L1674.63 610.585 L1678.87 608.827 L1683.11 610.585 L1684.87 614.827 L1683.11 619.069 Z\" fill=\"#009af9\" fill-rule=\"evenodd\" fill-opacity=\"1\" stroke=\"#000000\" stroke-opacity=\"1\" stroke-width=\"3.2\"/>\n",
       "<path clip-path=\"url(#clip092)\" d=\"M1693.84 620.827 L1689.6 619.069 L1687.84 614.827 L1689.6 610.585 L1693.84 608.827 L1698.08 610.585 L1699.84 614.827 L1698.08 619.069 Z\" fill=\"#009af9\" fill-rule=\"evenodd\" fill-opacity=\"1\" stroke=\"#000000\" stroke-opacity=\"1\" stroke-width=\"3.2\"/>\n",
       "<path clip-path=\"url(#clip092)\" d=\"M1708.82 620.827 L1704.57 619.069 L1702.82 614.827 L1704.57 610.585 L1708.82 608.827 L1713.06 610.585 L1714.82 614.827 L1713.06 619.069 Z\" fill=\"#009af9\" fill-rule=\"evenodd\" fill-opacity=\"1\" stroke=\"#000000\" stroke-opacity=\"1\" stroke-width=\"3.2\"/>\n",
       "<path clip-path=\"url(#clip092)\" d=\"M1723.79 620.827 L1719.55 619.069 L1717.79 614.827 L1719.55 610.585 L1723.79 608.827 L1728.03 610.585 L1729.79 614.827 L1728.03 619.069 Z\" fill=\"#009af9\" fill-rule=\"evenodd\" fill-opacity=\"1\" stroke=\"#000000\" stroke-opacity=\"1\" stroke-width=\"3.2\"/>\n",
       "<path clip-path=\"url(#clip092)\" d=\"M1738.77 620.827 L1734.52 619.069 L1732.77 614.827 L1734.52 610.585 L1738.77 608.827 L1743.01 610.585 L1744.77 614.827 L1743.01 619.069 Z\" fill=\"#009af9\" fill-rule=\"evenodd\" fill-opacity=\"1\" stroke=\"#000000\" stroke-opacity=\"1\" stroke-width=\"3.2\"/>\n",
       "<path clip-path=\"url(#clip092)\" d=\"M1753.74 620.827 L1749.5 619.069 L1747.74 614.827 L1749.5 610.585 L1753.74 608.827 L1757.98 610.585 L1759.74 614.827 L1757.98 619.069 Z\" fill=\"#009af9\" fill-rule=\"evenodd\" fill-opacity=\"1\" stroke=\"#000000\" stroke-opacity=\"1\" stroke-width=\"3.2\"/>\n",
       "<path clip-path=\"url(#clip092)\" d=\"M1768.72 620.827 L1764.47 619.069 L1762.72 614.827 L1764.47 610.585 L1768.72 608.827 L1772.96 610.585 L1774.72 614.827 L1772.96 619.069 Z\" fill=\"#009af9\" fill-rule=\"evenodd\" fill-opacity=\"1\" stroke=\"#000000\" stroke-opacity=\"1\" stroke-width=\"3.2\"/>\n",
       "<path clip-path=\"url(#clip092)\" d=\"M1783.69 620.827 L1779.45 619.069 L1777.69 614.827 L1779.45 610.585 L1783.69 608.827 L1787.93 610.585 L1789.69 614.827 L1787.93 619.069 Z\" fill=\"#009af9\" fill-rule=\"evenodd\" fill-opacity=\"1\" stroke=\"#000000\" stroke-opacity=\"1\" stroke-width=\"3.2\"/>\n",
       "<path clip-path=\"url(#clip092)\" d=\"M1798.66 423.992 L1794.42 422.234 L1792.66 417.992 L1794.42 413.75 L1798.66 411.992 L1802.91 413.75 L1804.66 417.992 L1802.91 422.234 Z\" fill=\"#009af9\" fill-rule=\"evenodd\" fill-opacity=\"1\" stroke=\"#000000\" stroke-opacity=\"1\" stroke-width=\"3.2\"/>\n",
       "<path clip-path=\"url(#clip092)\" d=\"M1813.64 423.992 L1809.4 422.234 L1807.64 417.992 L1809.4 413.75 L1813.64 411.992 L1817.88 413.75 L1819.64 417.992 L1817.88 422.234 Z\" fill=\"#009af9\" fill-rule=\"evenodd\" fill-opacity=\"1\" stroke=\"#000000\" stroke-opacity=\"1\" stroke-width=\"3.2\"/>\n",
       "<path clip-path=\"url(#clip092)\" d=\"M1828.61 423.992 L1824.37 422.234 L1822.61 417.992 L1824.37 413.75 L1828.61 411.992 L1832.86 413.75 L1834.61 417.992 L1832.86 422.234 Z\" fill=\"#009af9\" fill-rule=\"evenodd\" fill-opacity=\"1\" stroke=\"#000000\" stroke-opacity=\"1\" stroke-width=\"3.2\"/>\n",
       "<path clip-path=\"url(#clip092)\" d=\"M1843.59 423.992 L1839.35 422.234 L1837.59 417.992 L1839.35 413.75 L1843.59 411.992 L1847.83 413.75 L1849.59 417.992 L1847.83 422.234 Z\" fill=\"#009af9\" fill-rule=\"evenodd\" fill-opacity=\"1\" stroke=\"#000000\" stroke-opacity=\"1\" stroke-width=\"3.2\"/>\n",
       "<path clip-path=\"url(#clip092)\" d=\"M1858.56 423.992 L1854.32 422.234 L1852.56 417.992 L1854.32 413.75 L1858.56 411.992 L1862.81 413.75 L1864.56 417.992 L1862.81 422.234 Z\" fill=\"#009af9\" fill-rule=\"evenodd\" fill-opacity=\"1\" stroke=\"#000000\" stroke-opacity=\"1\" stroke-width=\"3.2\"/>\n",
       "<path clip-path=\"url(#clip092)\" d=\"M1873.54 423.992 L1869.3 422.234 L1867.54 417.992 L1869.3 413.75 L1873.54 411.992 L1877.78 413.75 L1879.54 417.992 L1877.78 422.234 Z\" fill=\"#009af9\" fill-rule=\"evenodd\" fill-opacity=\"1\" stroke=\"#000000\" stroke-opacity=\"1\" stroke-width=\"3.2\"/>\n",
       "<path clip-path=\"url(#clip092)\" d=\"M1888.51 423.992 L1884.27 422.234 L1882.51 417.992 L1884.27 413.75 L1888.51 411.992 L1892.75 413.75 L1894.51 417.992 L1892.75 422.234 Z\" fill=\"#009af9\" fill-rule=\"evenodd\" fill-opacity=\"1\" stroke=\"#000000\" stroke-opacity=\"1\" stroke-width=\"3.2\"/>\n",
       "<path clip-path=\"url(#clip092)\" d=\"M1903.49 423.992 L1899.24 422.234 L1897.49 417.992 L1899.24 413.75 L1903.49 411.992 L1907.73 413.75 L1909.49 417.992 L1907.73 422.234 Z\" fill=\"#009af9\" fill-rule=\"evenodd\" fill-opacity=\"1\" stroke=\"#000000\" stroke-opacity=\"1\" stroke-width=\"3.2\"/>\n",
       "<path clip-path=\"url(#clip092)\" d=\"M1918.46 423.992 L1914.22 422.234 L1912.46 417.992 L1914.22 413.75 L1918.46 411.992 L1922.7 413.75 L1924.46 417.992 L1922.7 422.234 Z\" fill=\"#009af9\" fill-rule=\"evenodd\" fill-opacity=\"1\" stroke=\"#000000\" stroke-opacity=\"1\" stroke-width=\"3.2\"/>\n",
       "<path clip-path=\"url(#clip092)\" d=\"M1933.44 423.992 L1929.19 422.234 L1927.44 417.992 L1929.19 413.75 L1933.44 411.992 L1937.68 413.75 L1939.44 417.992 L1937.68 422.234 Z\" fill=\"#009af9\" fill-rule=\"evenodd\" fill-opacity=\"1\" stroke=\"#000000\" stroke-opacity=\"1\" stroke-width=\"3.2\"/>\n",
       "<path clip-path=\"url(#clip092)\" d=\"M1948.41 423.992 L1944.17 422.234 L1942.41 417.992 L1944.17 413.75 L1948.41 411.992 L1952.65 413.75 L1954.41 417.992 L1952.65 422.234 Z\" fill=\"#009af9\" fill-rule=\"evenodd\" fill-opacity=\"1\" stroke=\"#000000\" stroke-opacity=\"1\" stroke-width=\"3.2\"/>\n",
       "<path clip-path=\"url(#clip092)\" d=\"M1963.39 423.992 L1959.14 422.234 L1957.39 417.992 L1959.14 413.75 L1963.39 411.992 L1967.63 413.75 L1969.39 417.992 L1967.63 422.234 Z\" fill=\"#009af9\" fill-rule=\"evenodd\" fill-opacity=\"1\" stroke=\"#000000\" stroke-opacity=\"1\" stroke-width=\"3.2\"/>\n",
       "<path clip-path=\"url(#clip092)\" d=\"M1978.36 423.992 L1974.12 422.234 L1972.36 417.992 L1974.12 413.75 L1978.36 411.992 L1982.6 413.75 L1984.36 417.992 L1982.6 422.234 Z\" fill=\"#009af9\" fill-rule=\"evenodd\" fill-opacity=\"1\" stroke=\"#000000\" stroke-opacity=\"1\" stroke-width=\"3.2\"/>\n",
       "<path clip-path=\"url(#clip092)\" d=\"M1993.33 423.992 L1989.09 422.234 L1987.33 417.992 L1989.09 413.75 L1993.33 411.992 L1997.58 413.75 L1999.33 417.992 L1997.58 422.234 Z\" fill=\"#009af9\" fill-rule=\"evenodd\" fill-opacity=\"1\" stroke=\"#000000\" stroke-opacity=\"1\" stroke-width=\"3.2\"/>\n",
       "<path clip-path=\"url(#clip092)\" d=\"M2008.31 423.992 L2004.07 422.234 L2002.31 417.992 L2004.07 413.75 L2008.31 411.992 L2012.55 413.75 L2014.31 417.992 L2012.55 422.234 Z\" fill=\"#009af9\" fill-rule=\"evenodd\" fill-opacity=\"1\" stroke=\"#000000\" stroke-opacity=\"1\" stroke-width=\"3.2\"/>\n",
       "<path clip-path=\"url(#clip092)\" d=\"M2023.28 423.992 L2019.04 422.234 L2017.28 417.992 L2019.04 413.75 L2023.28 411.992 L2027.53 413.75 L2029.28 417.992 L2027.53 422.234 Z\" fill=\"#009af9\" fill-rule=\"evenodd\" fill-opacity=\"1\" stroke=\"#000000\" stroke-opacity=\"1\" stroke-width=\"3.2\"/>\n",
       "<path clip-path=\"url(#clip092)\" d=\"M2038.26 423.992 L2034.02 422.234 L2032.26 417.992 L2034.02 413.75 L2038.26 411.992 L2042.5 413.75 L2044.26 417.992 L2042.5 422.234 Z\" fill=\"#009af9\" fill-rule=\"evenodd\" fill-opacity=\"1\" stroke=\"#000000\" stroke-opacity=\"1\" stroke-width=\"3.2\"/>\n",
       "<path clip-path=\"url(#clip092)\" d=\"M2053.23 423.992 L2048.99 422.234 L2047.23 417.992 L2048.99 413.75 L2053.23 411.992 L2057.48 413.75 L2059.23 417.992 L2057.48 422.234 Z\" fill=\"#009af9\" fill-rule=\"evenodd\" fill-opacity=\"1\" stroke=\"#000000\" stroke-opacity=\"1\" stroke-width=\"3.2\"/>\n",
       "<path clip-path=\"url(#clip092)\" d=\"M2068.21 423.992 L2063.97 422.234 L2062.21 417.992 L2063.97 413.75 L2068.21 411.992 L2072.45 413.75 L2074.21 417.992 L2072.45 422.234 Z\" fill=\"#009af9\" fill-rule=\"evenodd\" fill-opacity=\"1\" stroke=\"#000000\" stroke-opacity=\"1\" stroke-width=\"3.2\"/>\n",
       "<path clip-path=\"url(#clip092)\" d=\"M2083.18 423.992 L2078.94 422.234 L2077.18 417.992 L2078.94 413.75 L2083.18 411.992 L2087.42 413.75 L2089.18 417.992 L2087.42 422.234 Z\" fill=\"#009af9\" fill-rule=\"evenodd\" fill-opacity=\"1\" stroke=\"#000000\" stroke-opacity=\"1\" stroke-width=\"3.2\"/>\n",
       "<path clip-path=\"url(#clip092)\" d=\"M2098.16 423.992 L2093.92 422.234 L2092.16 417.992 L2093.92 413.75 L2098.16 411.992 L2102.4 413.75 L2104.16 417.992 L2102.4 422.234 Z\" fill=\"#009af9\" fill-rule=\"evenodd\" fill-opacity=\"1\" stroke=\"#000000\" stroke-opacity=\"1\" stroke-width=\"3.2\"/>\n",
       "<path clip-path=\"url(#clip092)\" d=\"M2113.13 423.992 L2108.89 422.234 L2107.13 417.992 L2108.89 413.75 L2113.13 411.992 L2117.37 413.75 L2119.13 417.992 L2117.37 422.234 Z\" fill=\"#009af9\" fill-rule=\"evenodd\" fill-opacity=\"1\" stroke=\"#000000\" stroke-opacity=\"1\" stroke-width=\"3.2\"/>\n",
       "<path clip-path=\"url(#clip092)\" d=\"M2128.11 423.992 L2123.86 422.234 L2122.11 417.992 L2123.86 413.75 L2128.11 411.992 L2132.35 413.75 L2134.11 417.992 L2132.35 422.234 Z\" fill=\"#009af9\" fill-rule=\"evenodd\" fill-opacity=\"1\" stroke=\"#000000\" stroke-opacity=\"1\" stroke-width=\"3.2\"/>\n",
       "<path clip-path=\"url(#clip092)\" d=\"M2143.08 423.992 L2138.84 422.234 L2137.08 417.992 L2138.84 413.75 L2143.08 411.992 L2147.32 413.75 L2149.08 417.992 L2147.32 422.234 Z\" fill=\"#009af9\" fill-rule=\"evenodd\" fill-opacity=\"1\" stroke=\"#000000\" stroke-opacity=\"1\" stroke-width=\"3.2\"/>\n",
       "<path clip-path=\"url(#clip092)\" d=\"M2158.06 423.992 L2153.81 422.234 L2152.06 417.992 L2153.81 413.75 L2158.06 411.992 L2162.3 413.75 L2164.06 417.992 L2162.3 422.234 Z\" fill=\"#009af9\" fill-rule=\"evenodd\" fill-opacity=\"1\" stroke=\"#000000\" stroke-opacity=\"1\" stroke-width=\"3.2\"/>\n",
       "<path clip-path=\"url(#clip092)\" d=\"M2173.03 423.992 L2168.79 422.234 L2167.03 417.992 L2168.79 413.75 L2173.03 411.992 L2177.27 413.75 L2179.03 417.992 L2177.27 422.234 Z\" fill=\"#009af9\" fill-rule=\"evenodd\" fill-opacity=\"1\" stroke=\"#000000\" stroke-opacity=\"1\" stroke-width=\"3.2\"/>\n",
       "<path clip-path=\"url(#clip092)\" d=\"M2188 423.992 L2183.76 422.234 L2182 417.992 L2183.76 413.75 L2188 411.992 L2192.25 413.75 L2194 417.992 L2192.25 422.234 Z\" fill=\"#009af9\" fill-rule=\"evenodd\" fill-opacity=\"1\" stroke=\"#000000\" stroke-opacity=\"1\" stroke-width=\"3.2\"/>\n",
       "<path clip-path=\"url(#clip092)\" d=\"M2202.98 423.992 L2198.74 422.234 L2196.98 417.992 L2198.74 413.75 L2202.98 411.992 L2207.22 413.75 L2208.98 417.992 L2207.22 422.234 Z\" fill=\"#009af9\" fill-rule=\"evenodd\" fill-opacity=\"1\" stroke=\"#000000\" stroke-opacity=\"1\" stroke-width=\"3.2\"/>\n",
       "<path clip-path=\"url(#clip092)\" d=\"M2217.95 423.992 L2213.71 422.234 L2211.95 417.992 L2213.71 413.75 L2217.95 411.992 L2222.2 413.75 L2223.95 417.992 L2222.2 422.234 Z\" fill=\"#009af9\" fill-rule=\"evenodd\" fill-opacity=\"1\" stroke=\"#000000\" stroke-opacity=\"1\" stroke-width=\"3.2\"/>\n",
       "<path clip-path=\"url(#clip092)\" d=\"M2232.93 423.992 L2228.69 422.234 L2226.93 417.992 L2228.69 413.75 L2232.93 411.992 L2237.17 413.75 L2238.93 417.992 L2237.17 422.234 Z\" fill=\"#009af9\" fill-rule=\"evenodd\" fill-opacity=\"1\" stroke=\"#000000\" stroke-opacity=\"1\" stroke-width=\"3.2\"/>\n",
       "<path clip-path=\"url(#clip092)\" d=\"M2247.9 423.992 L2243.66 422.234 L2241.9 417.992 L2243.66 413.75 L2247.9 411.992 L2252.15 413.75 L2253.9 417.992 L2252.15 422.234 Z\" fill=\"#009af9\" fill-rule=\"evenodd\" fill-opacity=\"1\" stroke=\"#000000\" stroke-opacity=\"1\" stroke-width=\"3.2\"/>\n",
       "<path clip-path=\"url(#clip092)\" d=\"M2262.88 423.992 L2258.64 422.234 L2256.88 417.992 L2258.64 413.75 L2262.88 411.992 L2267.12 413.75 L2268.88 417.992 L2267.12 422.234 Z\" fill=\"#009af9\" fill-rule=\"evenodd\" fill-opacity=\"1\" stroke=\"#000000\" stroke-opacity=\"1\" stroke-width=\"3.2\"/>\n",
       "<path clip-path=\"url(#clip092)\" d=\"M2277.85 423.992 L2273.61 422.234 L2271.85 417.992 L2273.61 413.75 L2277.85 411.992 L2282.09 413.75 L2283.85 417.992 L2282.09 422.234 Z\" fill=\"#009af9\" fill-rule=\"evenodd\" fill-opacity=\"1\" stroke=\"#000000\" stroke-opacity=\"1\" stroke-width=\"3.2\"/>\n",
       "<path clip-path=\"url(#clip092)\" d=\"M2292.83 92.1857 L2288.59 90.4277 L2286.83 86.1857 L2288.59 81.9437 L2292.83 80.1857 L2297.07 81.9437 L2298.83 86.1857 L2297.07 90.4277 Z\" fill=\"#009af9\" fill-rule=\"evenodd\" fill-opacity=\"1\" stroke=\"#000000\" stroke-opacity=\"1\" stroke-width=\"3.2\"/>\n",
       "<polyline clip-path=\"url(#clip092)\" style=\"stroke:#e26f46; stroke-linecap:butt; stroke-linejoin:round; stroke-width:4; stroke-opacity:1; fill:none\" points=\"\n",
       "  295.211,1384.24 296.709,1383.18 298.206,1382.13 299.704,1381.07 301.201,1380.02 302.699,1378.97 304.196,1377.91 305.694,1376.86 307.191,1375.8 308.689,1374.75 \n",
       "  310.186,1373.69 311.683,1372.64 313.181,1371.58 314.678,1370.53 316.176,1369.48 317.673,1368.42 319.171,1367.37 320.668,1366.31 322.166,1365.26 323.663,1364.2 \n",
       "  325.161,1363.15 326.658,1362.09 328.156,1361.04 329.653,1359.99 331.15,1358.93 332.648,1357.88 334.145,1356.82 335.643,1355.77 337.14,1354.71 338.638,1353.66 \n",
       "  340.135,1352.6 341.633,1351.55 343.13,1350.5 344.628,1349.44 346.125,1348.39 347.623,1347.33 349.12,1346.28 350.617,1345.22 352.115,1344.17 353.612,1343.11 \n",
       "  355.11,1342.06 356.607,1341 358.105,1339.95 359.602,1338.9 361.1,1337.84 362.597,1336.79 364.095,1335.73 365.592,1334.68 367.09,1333.62 368.587,1332.57 \n",
       "  370.084,1331.51 371.582,1330.46 373.079,1329.41 374.577,1328.35 376.074,1327.3 377.572,1326.24 379.069,1325.19 380.567,1324.13 382.064,1323.08 383.562,1322.02 \n",
       "  385.059,1320.97 386.557,1319.92 388.054,1318.86 389.552,1317.81 391.049,1316.75 392.546,1315.7 394.044,1314.64 395.541,1313.59 397.039,1312.53 398.536,1311.48 \n",
       "  400.034,1310.43 401.531,1309.37 403.029,1308.32 404.526,1307.26 406.024,1306.21 407.521,1305.15 409.019,1304.1 410.516,1303.04 412.013,1301.99 413.511,1300.94 \n",
       "  415.008,1299.88 416.506,1298.83 418.003,1297.77 419.501,1296.72 420.998,1295.66 422.496,1294.61 423.993,1293.55 425.491,1292.5 426.988,1291.44 428.486,1290.39 \n",
       "  429.983,1289.34 431.48,1288.28 432.978,1287.23 434.475,1286.17 435.973,1285.12 437.47,1284.06 438.968,1283.01 440.465,1281.95 441.963,1280.9 443.46,1279.85 \n",
       "  444.958,1278.79 446.455,1277.74 447.953,1276.68 449.45,1275.63 450.948,1274.57 452.445,1273.52 453.942,1272.46 455.44,1271.41 456.937,1270.36 458.435,1269.3 \n",
       "  459.932,1268.25 461.43,1267.19 462.927,1266.14 464.425,1265.08 465.922,1264.03 467.42,1262.97 468.917,1261.92 470.415,1260.87 471.912,1259.81 473.409,1258.76 \n",
       "  474.907,1257.7 476.404,1256.65 477.902,1255.59 479.399,1254.54 480.897,1253.48 482.394,1252.43 483.892,1251.38 485.389,1250.32 486.887,1249.27 488.384,1248.21 \n",
       "  489.882,1247.16 491.379,1246.1 492.876,1245.05 494.374,1243.99 495.871,1242.94 497.369,1241.88 498.866,1240.83 500.364,1239.78 501.861,1238.72 503.359,1237.67 \n",
       "  504.856,1236.61 506.354,1235.56 507.851,1234.5 509.349,1233.45 510.846,1232.39 512.344,1231.34 513.841,1230.29 515.338,1229.23 516.836,1228.18 518.333,1227.12 \n",
       "  519.831,1226.07 521.328,1225.01 522.826,1223.96 524.323,1222.9 525.821,1221.85 527.318,1220.8 528.816,1219.74 530.313,1218.69 531.811,1217.63 533.308,1216.58 \n",
       "  534.805,1215.52 536.303,1214.47 537.8,1213.41 539.298,1212.36 540.795,1211.31 542.293,1210.25 543.79,1209.2 545.288,1208.14 546.785,1207.09 548.283,1206.03 \n",
       "  549.78,1204.98 551.278,1203.92 552.775,1202.87 554.272,1201.81 555.77,1200.76 557.267,1199.71 558.765,1198.65 560.262,1197.6 561.76,1196.54 563.257,1195.49 \n",
       "  564.755,1194.43 566.252,1193.38 567.75,1192.32 569.247,1191.27 570.745,1190.22 572.242,1189.16 573.74,1188.11 575.237,1187.05 576.734,1186 578.232,1184.94 \n",
       "  579.729,1183.89 581.227,1182.83 582.724,1181.78 584.222,1180.73 585.719,1179.67 587.217,1178.62 588.714,1177.56 590.212,1176.51 591.709,1175.45 593.207,1174.4 \n",
       "  594.704,1173.34 596.201,1172.29 597.699,1171.24 599.196,1170.18 600.694,1169.13 602.191,1168.07 603.689,1167.02 605.186,1165.96 606.684,1164.91 608.181,1163.85 \n",
       "  609.679,1162.8 611.176,1161.75 612.674,1160.69 614.171,1159.64 615.668,1158.58 617.166,1157.53 618.663,1156.47 620.161,1155.42 621.658,1154.36 623.156,1153.31 \n",
       "  624.653,1152.25 626.151,1151.2 627.648,1150.15 629.146,1149.09 630.643,1148.04 632.141,1146.98 633.638,1145.93 635.136,1144.87 636.633,1143.82 638.13,1142.76 \n",
       "  639.628,1141.71 641.125,1140.66 642.623,1139.6 644.12,1138.55 645.618,1137.49 647.115,1136.44 648.613,1135.38 650.11,1134.33 651.608,1133.27 653.105,1132.22 \n",
       "  654.603,1131.17 656.1,1130.11 657.597,1129.06 659.095,1128 660.592,1126.95 662.09,1125.89 663.587,1124.84 665.085,1123.78 666.582,1122.73 668.08,1121.68 \n",
       "  669.577,1120.62 671.075,1119.57 672.572,1118.51 674.07,1117.46 675.567,1116.4 677.064,1115.35 678.562,1114.29 680.059,1113.24 681.557,1112.19 683.054,1111.13 \n",
       "  684.552,1110.08 686.049,1109.02 687.547,1107.97 689.044,1106.91 690.542,1105.86 692.039,1104.8 693.537,1103.75 695.034,1102.69 696.532,1101.64 698.029,1100.59 \n",
       "  699.526,1099.53 701.024,1098.48 702.521,1097.42 704.019,1096.37 705.516,1095.31 707.014,1094.26 708.511,1093.2 710.009,1092.15 711.506,1091.1 713.004,1090.04 \n",
       "  714.501,1088.99 715.999,1087.93 717.496,1086.88 718.993,1085.82 720.491,1084.77 721.988,1083.71 723.486,1082.66 724.983,1081.61 726.481,1080.55 727.978,1079.5 \n",
       "  729.476,1078.44 730.973,1077.39 732.471,1076.33 733.968,1075.28 735.466,1074.22 736.963,1073.17 738.46,1072.12 739.958,1071.06 741.455,1070.01 742.953,1068.95 \n",
       "  744.45,1067.9 745.948,1066.84 747.445,1065.79 748.943,1064.73 750.44,1063.68 751.938,1062.62 753.435,1061.57 754.933,1060.52 756.43,1059.46 757.928,1058.41 \n",
       "  759.425,1057.35 760.922,1056.3 762.42,1055.24 763.917,1054.19 765.415,1053.13 766.912,1052.08 768.41,1051.03 769.907,1049.97 771.405,1048.92 772.902,1047.86 \n",
       "  774.4,1046.81 775.897,1045.75 777.395,1044.7 778.892,1043.64 780.389,1042.59 781.887,1041.54 783.384,1040.48 784.882,1039.43 786.379,1038.37 787.877,1037.32 \n",
       "  789.374,1036.26 790.872,1035.21 792.369,1034.15 793.867,1033.1 795.364,1032.05 796.862,1030.99 798.359,1029.94 799.856,1028.88 801.354,1027.83 802.851,1026.77 \n",
       "  804.349,1025.72 805.846,1024.66 807.344,1023.61 808.841,1022.56 810.339,1021.5 811.836,1020.45 813.334,1019.39 814.831,1018.34 816.329,1017.28 817.826,1016.23 \n",
       "  819.324,1015.17 820.821,1014.12 822.318,1013.06 823.816,1012.01 825.313,1010.96 826.811,1009.9 828.308,1008.85 829.806,1007.79 831.303,1006.74 832.801,1005.68 \n",
       "  834.298,1004.63 835.796,1003.57 837.293,1002.52 838.791,1001.47 840.288,1000.41 841.785,999.357 843.283,998.302 844.78,997.248 846.278,996.193 847.775,995.139 \n",
       "  849.273,994.084 850.77,993.03 852.268,991.975 853.765,990.921 855.263,989.866 856.76,988.812 858.258,987.758 859.755,986.703 861.252,985.649 862.75,984.594 \n",
       "  864.247,983.54 865.745,982.485 867.242,981.431 868.74,980.376 870.237,979.322 871.735,978.267 873.232,977.213 874.73,976.158 876.227,975.104 877.725,974.049 \n",
       "  879.222,972.995 880.719,971.94 882.217,970.886 883.714,969.832 885.212,968.777 886.709,967.723 888.207,966.668 889.704,965.614 891.202,964.559 892.699,963.505 \n",
       "  894.197,962.45 895.694,961.396 897.192,960.341 898.689,959.287 900.187,958.232 901.684,957.178 903.181,956.123 904.679,955.069 906.176,954.014 907.674,952.96 \n",
       "  909.171,951.906 910.669,950.851 912.166,949.797 913.664,948.742 915.161,947.688 916.659,946.633 918.156,945.579 919.654,944.524 921.151,943.47 922.648,942.415 \n",
       "  924.146,941.361 925.643,940.306 927.141,939.252 928.638,938.197 930.136,937.143 931.633,936.089 933.131,935.034 934.628,933.98 936.126,932.925 937.623,931.871 \n",
       "  939.121,930.816 940.618,929.762 942.115,928.707 943.613,927.653 945.11,926.598 946.608,925.544 948.105,924.489 949.603,923.435 951.1,922.38 952.598,921.326 \n",
       "  954.095,920.271 955.593,919.217 957.09,918.163 958.588,917.108 960.085,916.054 961.583,914.999 963.08,913.945 964.577,912.89 966.075,911.836 967.572,910.781 \n",
       "  969.07,909.727 970.567,908.672 972.065,907.618 973.562,906.563 975.06,905.509 976.557,904.454 978.055,903.4 979.552,902.345 981.05,901.291 982.547,900.237 \n",
       "  984.044,899.182 985.542,898.128 987.039,897.073 988.537,896.019 990.034,894.964 991.532,893.91 993.029,892.855 994.527,891.801 996.024,890.746 997.522,889.692 \n",
       "  999.019,888.637 1000.52,887.583 1002.01,886.528 1003.51,885.474 1005.01,884.419 1006.51,883.365 1008,882.311 1009.5,881.256 1011,880.202 1012.5,879.147 \n",
       "  1013.99,878.093 1015.49,877.038 1016.99,875.984 1018.49,874.929 1019.98,873.875 1021.48,872.82 1022.98,871.766 1024.48,870.711 1025.97,869.657 1027.47,868.602 \n",
       "  1028.97,867.548 1030.47,866.493 1031.96,865.439 1033.46,864.385 1034.96,863.33 1036.46,862.276 1037.95,861.221 1039.45,860.167 1040.95,859.112 1042.45,858.058 \n",
       "  1043.94,857.003 1045.44,855.949 1046.94,854.894 1048.44,853.84 1049.93,852.785 1051.43,851.731 1052.93,850.676 1054.43,849.622 1055.92,848.567 1057.42,847.513 \n",
       "  1058.92,846.459 1060.42,845.404 1061.91,844.35 1063.41,843.295 1064.91,842.241 1066.4,841.186 1067.9,840.132 1069.4,839.077 1070.9,838.023 1072.39,836.968 \n",
       "  1073.89,835.914 1075.39,834.859 1076.89,833.805 1078.38,832.75 1079.88,831.696 1081.38,830.642 1082.88,829.587 1084.37,828.533 1085.87,827.478 1087.37,826.424 \n",
       "  1088.87,825.369 1090.36,824.315 1091.86,823.26 1093.36,822.206 1094.86,821.151 1096.35,820.097 1097.85,819.042 1099.35,817.988 1100.85,816.933 1102.34,815.879 \n",
       "  1103.84,814.824 1105.34,813.77 1106.84,812.716 1108.33,811.661 1109.83,810.607 1111.33,809.552 1112.83,808.498 1114.32,807.443 1115.82,806.389 1117.32,805.334 \n",
       "  1118.82,804.28 1120.31,803.225 1121.81,802.171 1123.31,801.116 1124.81,800.062 1126.3,799.007 1127.8,797.953 1129.3,796.898 1130.8,795.844 1132.29,794.79 \n",
       "  1133.79,793.735 1135.29,792.681 1136.79,791.626 1138.28,790.572 1139.78,789.517 1141.28,788.463 1142.78,787.408 1144.27,786.354 1145.77,785.299 1147.27,784.245 \n",
       "  1148.77,783.19 1150.26,782.136 1151.76,781.081 1153.26,780.027 1154.76,778.972 1156.25,777.918 1157.75,776.864 1159.25,775.809 1160.75,774.755 1162.24,773.7 \n",
       "  1163.74,772.646 1165.24,771.591 1166.73,770.537 1168.23,769.482 1169.73,768.428 1171.23,767.373 1172.72,766.319 1174.22,765.264 1175.72,764.21 1177.22,763.155 \n",
       "  1178.71,762.101 1180.21,761.046 1181.71,759.992 1183.21,758.938 1184.7,757.883 1186.2,756.829 1187.7,755.774 1189.2,754.72 1190.69,753.665 1192.19,752.611 \n",
       "  1193.69,751.556 1195.19,750.502 1196.68,749.447 1198.18,748.393 1199.68,747.338 1201.18,746.284 1202.67,745.229 1204.17,744.175 1205.67,743.12 1207.17,742.066 \n",
       "  1208.66,741.012 1210.16,739.957 1211.66,738.903 1213.16,737.848 1214.65,736.794 1216.15,735.739 1217.65,734.685 1219.15,733.63 1220.64,732.576 1222.14,731.521 \n",
       "  1223.64,730.467 1225.14,729.412 1226.63,728.358 1228.13,727.303 1229.63,726.249 1231.13,725.195 1232.62,724.14 1234.12,723.086 1235.62,722.031 1237.12,720.977 \n",
       "  1238.61,719.922 1240.11,718.868 1241.61,717.813 1243.11,716.759 1244.6,715.704 1246.1,714.65 1247.6,713.595 1249.1,712.541 1250.59,711.486 1252.09,710.432 \n",
       "  1253.59,709.377 1255.09,708.323 1256.58,707.269 1258.08,706.214 1259.58,705.16 1261.08,704.105 1262.57,703.051 1264.07,701.996 1265.57,700.942 1267.07,699.887 \n",
       "  1268.56,698.833 1270.06,697.778 1271.56,696.724 1273.05,695.669 1274.55,694.615 1276.05,693.56 1277.55,692.506 1279.04,691.451 1280.54,690.397 1282.04,689.343 \n",
       "  1283.54,688.288 1285.03,687.234 1286.53,686.179 1288.03,685.125 1289.53,684.07 1291.02,683.016 1292.52,681.961 1294.02,680.907 1295.52,679.852 1297.01,678.798 \n",
       "  1298.51,677.743 1300.01,676.689 1301.51,675.634 1303,674.58 1304.5,673.525 1306,672.471 1307.5,671.417 1308.99,670.362 1310.49,669.308 1311.99,668.253 \n",
       "  1313.49,667.199 1314.98,666.144 1316.48,665.09 1317.98,664.035 1319.48,662.981 1320.97,661.926 1322.47,660.872 1323.97,659.817 1325.47,658.763 1326.96,657.708 \n",
       "  1328.46,656.654 1329.96,655.599 1331.46,654.545 1332.95,653.491 1334.45,652.436 1335.95,651.382 1337.45,650.327 1338.94,649.273 1340.44,648.218 1341.94,647.164 \n",
       "  1343.44,646.109 1344.93,645.055 1346.43,644 1347.93,642.946 1349.43,641.891 1350.92,640.837 1352.42,639.782 1353.92,638.728 1355.42,637.673 1356.91,636.619 \n",
       "  1358.41,635.565 1359.91,634.51 1361.41,633.456 1362.9,632.401 1364.4,631.347 1365.9,630.292 1367.4,629.238 1368.89,628.183 1370.39,627.129 1371.89,626.074 \n",
       "  1373.38,625.02 1374.88,623.965 1376.38,622.911 1377.88,621.856 1379.37,620.802 1380.87,619.748 1382.37,618.693 1383.87,617.639 1385.36,616.584 1386.86,615.53 \n",
       "  1388.36,614.475 1389.86,613.421 1391.35,612.366 1392.85,611.312 1394.35,610.257 1395.85,609.203 1397.34,608.148 1398.84,607.094 1400.34,606.039 1401.84,604.985 \n",
       "  1403.33,603.93 1404.83,602.876 1406.33,601.822 1407.83,600.767 1409.32,599.713 1410.82,598.658 1412.32,597.604 1413.82,596.549 1415.31,595.495 1416.81,594.44 \n",
       "  1418.31,593.386 1419.81,592.331 1421.3,591.277 1422.8,590.222 1424.3,589.168 1425.8,588.113 1427.29,587.059 1428.79,586.004 1430.29,584.95 1431.79,583.896 \n",
       "  1433.28,582.841 1434.78,581.787 1436.28,580.732 1437.78,579.678 1439.27,578.623 1440.77,577.569 1442.27,576.514 1443.77,575.46 1445.26,574.405 1446.76,573.351 \n",
       "  1448.26,572.296 1449.76,571.242 1451.25,570.187 1452.75,569.133 1454.25,568.078 1455.75,567.024 1457.24,565.97 1458.74,564.915 1460.24,563.861 1461.74,562.806 \n",
       "  1463.23,561.752 1464.73,560.697 1466.23,559.643 1467.73,558.588 1469.22,557.534 1470.72,556.479 1472.22,555.425 1473.71,554.37 1475.21,553.316 1476.71,552.261 \n",
       "  1478.21,551.207 1479.7,550.152 1481.2,549.098 1482.7,548.044 1484.2,546.989 1485.69,545.935 1487.19,544.88 1488.69,543.826 1490.19,542.771 1491.68,541.717 \n",
       "  1493.18,540.662 1494.68,539.608 1496.18,538.553 1497.67,537.499 1499.17,536.444 1500.67,535.39 1502.17,534.335 1503.66,533.281 1505.16,532.226 1506.66,531.172 \n",
       "  1508.16,530.118 1509.65,529.063 1511.15,528.009 1512.65,526.954 1514.15,525.9 1515.64,524.845 1517.14,523.791 1518.64,522.736 1520.14,521.682 1521.63,520.627 \n",
       "  1523.13,519.573 1524.63,518.518 1526.13,517.464 1527.62,516.409 1529.12,515.355 1530.62,514.3 1532.12,513.246 1533.61,512.192 1535.11,511.137 1536.61,510.083 \n",
       "  1538.11,509.028 1539.6,507.974 1541.1,506.919 1542.6,505.865 1544.1,504.81 1545.59,503.756 1547.09,502.701 1548.59,501.647 1550.09,500.592 1551.58,499.538 \n",
       "  1553.08,498.483 1554.58,497.429 1556.08,496.375 1557.57,495.32 1559.07,494.266 1560.57,493.211 1562.07,492.157 1563.56,491.102 1565.06,490.048 1566.56,488.993 \n",
       "  1568.06,487.939 1569.55,486.884 1571.05,485.83 1572.55,484.775 1574.05,483.721 1575.54,482.666 1577.04,481.612 1578.54,480.557 1580.03,479.503 1581.53,478.449 \n",
       "  1583.03,477.394 1584.53,476.34 1586.02,475.285 1587.52,474.231 1589.02,473.176 1590.52,472.122 1592.01,471.067 1593.51,470.013 1595.01,468.958 1596.51,467.904 \n",
       "  1598,466.849 1599.5,465.795 1601,464.74 1602.5,463.686 1603.99,462.631 1605.49,461.577 1606.99,460.523 1608.49,459.468 1609.98,458.414 1611.48,457.359 \n",
       "  1612.98,456.305 1614.48,455.25 1615.97,454.196 1617.47,453.141 1618.97,452.087 1620.47,451.032 1621.96,449.978 1623.46,448.923 1624.96,447.869 1626.46,446.814 \n",
       "  1627.95,445.76 1629.45,444.705 1630.95,443.651 1632.45,442.597 1633.94,441.542 1635.44,440.488 1636.94,439.433 1638.44,438.379 1639.93,437.324 1641.43,436.27 \n",
       "  1642.93,435.215 1644.43,434.161 1645.92,433.106 1647.42,432.052 1648.92,430.997 1650.42,429.943 1651.91,428.888 1653.41,427.834 1654.91,426.779 1656.41,425.725 \n",
       "  1657.9,424.671 1659.4,423.616 1660.9,422.562 1662.4,421.507 1663.89,420.453 1665.39,419.398 1666.89,418.344 1668.39,417.289 1669.88,416.235 1671.38,415.18 \n",
       "  1672.88,414.126 1674.38,413.071 1675.87,412.017 1677.37,410.962 1678.87,409.908 1680.36,408.853 1681.86,407.799 1683.36,406.745 1684.86,405.69 1686.35,404.636 \n",
       "  1687.85,403.581 1689.35,402.527 1690.85,401.472 1692.34,400.418 1693.84,399.363 1695.34,398.309 1696.84,397.254 1698.33,396.2 1699.83,395.145 1701.33,394.091 \n",
       "  1702.83,393.036 1704.32,391.982 1705.82,390.928 1707.32,389.873 1708.82,388.819 1710.31,387.764 1711.81,386.71 1713.31,385.655 1714.81,384.601 1716.3,383.546 \n",
       "  1717.8,382.492 1719.3,381.437 1720.8,380.383 1722.29,379.328 1723.79,378.274 1725.29,377.219 1726.79,376.165 1728.28,375.11 1729.78,374.056 1731.28,373.002 \n",
       "  1732.78,371.947 1734.27,370.893 1735.77,369.838 1737.27,368.784 1738.77,367.729 1740.26,366.675 1741.76,365.62 1743.26,364.566 1744.76,363.511 1746.25,362.457 \n",
       "  1747.75,361.402 1749.25,360.348 1750.75,359.293 1752.24,358.239 1753.74,357.184 1755.24,356.13 1756.74,355.076 1758.23,354.021 1759.73,352.967 1761.23,351.912 \n",
       "  1762.73,350.858 1764.22,349.803 1765.72,348.749 1767.22,347.694 1768.72,346.64 1770.21,345.585 1771.71,344.531 1773.21,343.476 1774.71,342.422 1776.2,341.367 \n",
       "  1777.7,340.313 1779.2,339.258 1780.69,338.204 1782.19,337.15 1783.69,336.095 1785.19,335.041 1786.68,333.986 1788.18,332.932 1789.68,331.877 1791.18,330.823 \n",
       "  \n",
       "  \"/>\n",
       "<polyline clip-path=\"url(#clip092)\" style=\"stroke:#3da44d; stroke-linecap:butt; stroke-linejoin:round; stroke-width:4; stroke-opacity:1; fill:none\" points=\"\n",
       "  301.201,1374.05 316.176,1368.42 331.15,1354.36 346.125,1337.49 361.1,1331.87 376.074,1326.24 391.049,1320.62 406.024,1312.18 420.998,1300.94 435.973,1292.5 \n",
       "  450.948,1284.06 465.922,1270 480.897,1258.76 495.871,1253.13 510.846,1250.32 525.821,1241.88 540.795,1227.83 555.77,1227.83 570.745,1222.2 585.719,1222.2 \n",
       "  600.694,1199.71 615.668,1199.71 630.643,1177.21 645.618,1177.21 660.592,1177.21 675.567,1157.53 690.542,1157.53 705.516,1157.53 720.491,1120.97 735.466,1120.97 \n",
       "  750.44,1120.97 765.415,1120.97 780.389,1120.97 795.364,1073.17 810.339,1073.17 825.313,1073.17 840.288,1073.17 855.263,1073.17 870.237,1073.17 885.212,1073.17 \n",
       "  900.187,971.94 915.161,971.94 930.136,971.94 945.11,971.94 960.085,971.94 975.06,971.94 990.034,971.94 1005.01,971.94 1019.98,971.94 1034.96,971.94 \n",
       "  1049.93,834.156 1064.91,834.156 1079.88,834.156 1094.86,834.156 1109.83,834.156 1124.81,834.156 1139.78,834.156 1154.76,834.156 1169.73,834.156 1184.7,834.156 \n",
       "  1199.68,834.156 1214.65,834.156 1229.63,834.156 1244.6,834.156 1259.58,834.156 1274.55,834.156 1289.53,572.648 \n",
       "  \"/>\n",
       "<path clip-path=\"url(#clip092)\" d=\"M301.201 1368.05 L295.201 1374.05 L301.201 1380.05 L307.201 1374.05 L301.201 1368.05 Z\" fill=\"#3da44d\" fill-rule=\"evenodd\" fill-opacity=\"1\" stroke=\"#000000\" stroke-opacity=\"1\" stroke-width=\"3.2\"/>\n",
       "<path clip-path=\"url(#clip092)\" d=\"M316.176 1362.42 L310.176 1368.42 L316.176 1374.42 L322.176 1368.42 L316.176 1362.42 Z\" fill=\"#3da44d\" fill-rule=\"evenodd\" fill-opacity=\"1\" stroke=\"#000000\" stroke-opacity=\"1\" stroke-width=\"3.2\"/>\n",
       "<path clip-path=\"url(#clip092)\" d=\"M331.15 1348.36 L325.15 1354.36 L331.15 1360.36 L337.15 1354.36 L331.15 1348.36 Z\" fill=\"#3da44d\" fill-rule=\"evenodd\" fill-opacity=\"1\" stroke=\"#000000\" stroke-opacity=\"1\" stroke-width=\"3.2\"/>\n",
       "<path clip-path=\"url(#clip092)\" d=\"M346.125 1331.49 L340.125 1337.49 L346.125 1343.49 L352.125 1337.49 L346.125 1331.49 Z\" fill=\"#3da44d\" fill-rule=\"evenodd\" fill-opacity=\"1\" stroke=\"#000000\" stroke-opacity=\"1\" stroke-width=\"3.2\"/>\n",
       "<path clip-path=\"url(#clip092)\" d=\"M361.1 1325.87 L355.1 1331.87 L361.1 1337.87 L367.1 1331.87 L361.1 1325.87 Z\" fill=\"#3da44d\" fill-rule=\"evenodd\" fill-opacity=\"1\" stroke=\"#000000\" stroke-opacity=\"1\" stroke-width=\"3.2\"/>\n",
       "<path clip-path=\"url(#clip092)\" d=\"M376.074 1320.24 L370.074 1326.24 L376.074 1332.24 L382.074 1326.24 L376.074 1320.24 Z\" fill=\"#3da44d\" fill-rule=\"evenodd\" fill-opacity=\"1\" stroke=\"#000000\" stroke-opacity=\"1\" stroke-width=\"3.2\"/>\n",
       "<path clip-path=\"url(#clip092)\" d=\"M391.049 1314.62 L385.049 1320.62 L391.049 1326.62 L397.049 1320.62 L391.049 1314.62 Z\" fill=\"#3da44d\" fill-rule=\"evenodd\" fill-opacity=\"1\" stroke=\"#000000\" stroke-opacity=\"1\" stroke-width=\"3.2\"/>\n",
       "<path clip-path=\"url(#clip092)\" d=\"M406.024 1306.18 L400.024 1312.18 L406.024 1318.18 L412.024 1312.18 L406.024 1306.18 Z\" fill=\"#3da44d\" fill-rule=\"evenodd\" fill-opacity=\"1\" stroke=\"#000000\" stroke-opacity=\"1\" stroke-width=\"3.2\"/>\n",
       "<path clip-path=\"url(#clip092)\" d=\"M420.998 1294.94 L414.998 1300.94 L420.998 1306.94 L426.998 1300.94 L420.998 1294.94 Z\" fill=\"#3da44d\" fill-rule=\"evenodd\" fill-opacity=\"1\" stroke=\"#000000\" stroke-opacity=\"1\" stroke-width=\"3.2\"/>\n",
       "<path clip-path=\"url(#clip092)\" d=\"M435.973 1286.5 L429.973 1292.5 L435.973 1298.5 L441.973 1292.5 L435.973 1286.5 Z\" fill=\"#3da44d\" fill-rule=\"evenodd\" fill-opacity=\"1\" stroke=\"#000000\" stroke-opacity=\"1\" stroke-width=\"3.2\"/>\n",
       "<path clip-path=\"url(#clip092)\" d=\"M450.948 1278.06 L444.948 1284.06 L450.948 1290.06 L456.948 1284.06 L450.948 1278.06 Z\" fill=\"#3da44d\" fill-rule=\"evenodd\" fill-opacity=\"1\" stroke=\"#000000\" stroke-opacity=\"1\" stroke-width=\"3.2\"/>\n",
       "<path clip-path=\"url(#clip092)\" d=\"M465.922 1264 L459.922 1270 L465.922 1276 L471.922 1270 L465.922 1264 Z\" fill=\"#3da44d\" fill-rule=\"evenodd\" fill-opacity=\"1\" stroke=\"#000000\" stroke-opacity=\"1\" stroke-width=\"3.2\"/>\n",
       "<path clip-path=\"url(#clip092)\" d=\"M480.897 1252.76 L474.897 1258.76 L480.897 1264.76 L486.897 1258.76 L480.897 1252.76 Z\" fill=\"#3da44d\" fill-rule=\"evenodd\" fill-opacity=\"1\" stroke=\"#000000\" stroke-opacity=\"1\" stroke-width=\"3.2\"/>\n",
       "<path clip-path=\"url(#clip092)\" d=\"M495.871 1247.13 L489.871 1253.13 L495.871 1259.13 L501.871 1253.13 L495.871 1247.13 Z\" fill=\"#3da44d\" fill-rule=\"evenodd\" fill-opacity=\"1\" stroke=\"#000000\" stroke-opacity=\"1\" stroke-width=\"3.2\"/>\n",
       "<path clip-path=\"url(#clip092)\" d=\"M510.846 1244.32 L504.846 1250.32 L510.846 1256.32 L516.846 1250.32 L510.846 1244.32 Z\" fill=\"#3da44d\" fill-rule=\"evenodd\" fill-opacity=\"1\" stroke=\"#000000\" stroke-opacity=\"1\" stroke-width=\"3.2\"/>\n",
       "<path clip-path=\"url(#clip092)\" d=\"M525.821 1235.88 L519.821 1241.88 L525.821 1247.88 L531.821 1241.88 L525.821 1235.88 Z\" fill=\"#3da44d\" fill-rule=\"evenodd\" fill-opacity=\"1\" stroke=\"#000000\" stroke-opacity=\"1\" stroke-width=\"3.2\"/>\n",
       "<path clip-path=\"url(#clip092)\" d=\"M540.795 1221.83 L534.795 1227.83 L540.795 1233.83 L546.795 1227.83 L540.795 1221.83 Z\" fill=\"#3da44d\" fill-rule=\"evenodd\" fill-opacity=\"1\" stroke=\"#000000\" stroke-opacity=\"1\" stroke-width=\"3.2\"/>\n",
       "<path clip-path=\"url(#clip092)\" d=\"M555.77 1221.83 L549.77 1227.83 L555.77 1233.83 L561.77 1227.83 L555.77 1221.83 Z\" fill=\"#3da44d\" fill-rule=\"evenodd\" fill-opacity=\"1\" stroke=\"#000000\" stroke-opacity=\"1\" stroke-width=\"3.2\"/>\n",
       "<path clip-path=\"url(#clip092)\" d=\"M570.745 1216.2 L564.745 1222.2 L570.745 1228.2 L576.745 1222.2 L570.745 1216.2 Z\" fill=\"#3da44d\" fill-rule=\"evenodd\" fill-opacity=\"1\" stroke=\"#000000\" stroke-opacity=\"1\" stroke-width=\"3.2\"/>\n",
       "<path clip-path=\"url(#clip092)\" d=\"M585.719 1216.2 L579.719 1222.2 L585.719 1228.2 L591.719 1222.2 L585.719 1216.2 Z\" fill=\"#3da44d\" fill-rule=\"evenodd\" fill-opacity=\"1\" stroke=\"#000000\" stroke-opacity=\"1\" stroke-width=\"3.2\"/>\n",
       "<path clip-path=\"url(#clip092)\" d=\"M600.694 1193.71 L594.694 1199.71 L600.694 1205.71 L606.694 1199.71 L600.694 1193.71 Z\" fill=\"#3da44d\" fill-rule=\"evenodd\" fill-opacity=\"1\" stroke=\"#000000\" stroke-opacity=\"1\" stroke-width=\"3.2\"/>\n",
       "<path clip-path=\"url(#clip092)\" d=\"M615.668 1193.71 L609.668 1199.71 L615.668 1205.71 L621.668 1199.71 L615.668 1193.71 Z\" fill=\"#3da44d\" fill-rule=\"evenodd\" fill-opacity=\"1\" stroke=\"#000000\" stroke-opacity=\"1\" stroke-width=\"3.2\"/>\n",
       "<path clip-path=\"url(#clip092)\" d=\"M630.643 1171.21 L624.643 1177.21 L630.643 1183.21 L636.643 1177.21 L630.643 1171.21 Z\" fill=\"#3da44d\" fill-rule=\"evenodd\" fill-opacity=\"1\" stroke=\"#000000\" stroke-opacity=\"1\" stroke-width=\"3.2\"/>\n",
       "<path clip-path=\"url(#clip092)\" d=\"M645.618 1171.21 L639.618 1177.21 L645.618 1183.21 L651.618 1177.21 L645.618 1171.21 Z\" fill=\"#3da44d\" fill-rule=\"evenodd\" fill-opacity=\"1\" stroke=\"#000000\" stroke-opacity=\"1\" stroke-width=\"3.2\"/>\n",
       "<path clip-path=\"url(#clip092)\" d=\"M660.592 1171.21 L654.592 1177.21 L660.592 1183.21 L666.592 1177.21 L660.592 1171.21 Z\" fill=\"#3da44d\" fill-rule=\"evenodd\" fill-opacity=\"1\" stroke=\"#000000\" stroke-opacity=\"1\" stroke-width=\"3.2\"/>\n",
       "<path clip-path=\"url(#clip092)\" d=\"M675.567 1151.53 L669.567 1157.53 L675.567 1163.53 L681.567 1157.53 L675.567 1151.53 Z\" fill=\"#3da44d\" fill-rule=\"evenodd\" fill-opacity=\"1\" stroke=\"#000000\" stroke-opacity=\"1\" stroke-width=\"3.2\"/>\n",
       "<path clip-path=\"url(#clip092)\" d=\"M690.542 1151.53 L684.542 1157.53 L690.542 1163.53 L696.542 1157.53 L690.542 1151.53 Z\" fill=\"#3da44d\" fill-rule=\"evenodd\" fill-opacity=\"1\" stroke=\"#000000\" stroke-opacity=\"1\" stroke-width=\"3.2\"/>\n",
       "<path clip-path=\"url(#clip092)\" d=\"M705.516 1151.53 L699.516 1157.53 L705.516 1163.53 L711.516 1157.53 L705.516 1151.53 Z\" fill=\"#3da44d\" fill-rule=\"evenodd\" fill-opacity=\"1\" stroke=\"#000000\" stroke-opacity=\"1\" stroke-width=\"3.2\"/>\n",
       "<path clip-path=\"url(#clip092)\" d=\"M720.491 1114.97 L714.491 1120.97 L720.491 1126.97 L726.491 1120.97 L720.491 1114.97 Z\" fill=\"#3da44d\" fill-rule=\"evenodd\" fill-opacity=\"1\" stroke=\"#000000\" stroke-opacity=\"1\" stroke-width=\"3.2\"/>\n",
       "<path clip-path=\"url(#clip092)\" d=\"M735.466 1114.97 L729.466 1120.97 L735.466 1126.97 L741.466 1120.97 L735.466 1114.97 Z\" fill=\"#3da44d\" fill-rule=\"evenodd\" fill-opacity=\"1\" stroke=\"#000000\" stroke-opacity=\"1\" stroke-width=\"3.2\"/>\n",
       "<path clip-path=\"url(#clip092)\" d=\"M750.44 1114.97 L744.44 1120.97 L750.44 1126.97 L756.44 1120.97 L750.44 1114.97 Z\" fill=\"#3da44d\" fill-rule=\"evenodd\" fill-opacity=\"1\" stroke=\"#000000\" stroke-opacity=\"1\" stroke-width=\"3.2\"/>\n",
       "<path clip-path=\"url(#clip092)\" d=\"M765.415 1114.97 L759.415 1120.97 L765.415 1126.97 L771.415 1120.97 L765.415 1114.97 Z\" fill=\"#3da44d\" fill-rule=\"evenodd\" fill-opacity=\"1\" stroke=\"#000000\" stroke-opacity=\"1\" stroke-width=\"3.2\"/>\n",
       "<path clip-path=\"url(#clip092)\" d=\"M780.389 1114.97 L774.389 1120.97 L780.389 1126.97 L786.389 1120.97 L780.389 1114.97 Z\" fill=\"#3da44d\" fill-rule=\"evenodd\" fill-opacity=\"1\" stroke=\"#000000\" stroke-opacity=\"1\" stroke-width=\"3.2\"/>\n",
       "<path clip-path=\"url(#clip092)\" d=\"M795.364 1067.17 L789.364 1073.17 L795.364 1079.17 L801.364 1073.17 L795.364 1067.17 Z\" fill=\"#3da44d\" fill-rule=\"evenodd\" fill-opacity=\"1\" stroke=\"#000000\" stroke-opacity=\"1\" stroke-width=\"3.2\"/>\n",
       "<path clip-path=\"url(#clip092)\" d=\"M810.339 1067.17 L804.339 1073.17 L810.339 1079.17 L816.339 1073.17 L810.339 1067.17 Z\" fill=\"#3da44d\" fill-rule=\"evenodd\" fill-opacity=\"1\" stroke=\"#000000\" stroke-opacity=\"1\" stroke-width=\"3.2\"/>\n",
       "<path clip-path=\"url(#clip092)\" d=\"M825.313 1067.17 L819.313 1073.17 L825.313 1079.17 L831.313 1073.17 L825.313 1067.17 Z\" fill=\"#3da44d\" fill-rule=\"evenodd\" fill-opacity=\"1\" stroke=\"#000000\" stroke-opacity=\"1\" stroke-width=\"3.2\"/>\n",
       "<path clip-path=\"url(#clip092)\" d=\"M840.288 1067.17 L834.288 1073.17 L840.288 1079.17 L846.288 1073.17 L840.288 1067.17 Z\" fill=\"#3da44d\" fill-rule=\"evenodd\" fill-opacity=\"1\" stroke=\"#000000\" stroke-opacity=\"1\" stroke-width=\"3.2\"/>\n",
       "<path clip-path=\"url(#clip092)\" d=\"M855.263 1067.17 L849.263 1073.17 L855.263 1079.17 L861.263 1073.17 L855.263 1067.17 Z\" fill=\"#3da44d\" fill-rule=\"evenodd\" fill-opacity=\"1\" stroke=\"#000000\" stroke-opacity=\"1\" stroke-width=\"3.2\"/>\n",
       "<path clip-path=\"url(#clip092)\" d=\"M870.237 1067.17 L864.237 1073.17 L870.237 1079.17 L876.237 1073.17 L870.237 1067.17 Z\" fill=\"#3da44d\" fill-rule=\"evenodd\" fill-opacity=\"1\" stroke=\"#000000\" stroke-opacity=\"1\" stroke-width=\"3.2\"/>\n",
       "<path clip-path=\"url(#clip092)\" d=\"M885.212 1067.17 L879.212 1073.17 L885.212 1079.17 L891.212 1073.17 L885.212 1067.17 Z\" fill=\"#3da44d\" fill-rule=\"evenodd\" fill-opacity=\"1\" stroke=\"#000000\" stroke-opacity=\"1\" stroke-width=\"3.2\"/>\n",
       "<path clip-path=\"url(#clip092)\" d=\"M900.187 965.94 L894.187 971.94 L900.187 977.94 L906.187 971.94 L900.187 965.94 Z\" fill=\"#3da44d\" fill-rule=\"evenodd\" fill-opacity=\"1\" stroke=\"#000000\" stroke-opacity=\"1\" stroke-width=\"3.2\"/>\n",
       "<path clip-path=\"url(#clip092)\" d=\"M915.161 965.94 L909.161 971.94 L915.161 977.94 L921.161 971.94 L915.161 965.94 Z\" fill=\"#3da44d\" fill-rule=\"evenodd\" fill-opacity=\"1\" stroke=\"#000000\" stroke-opacity=\"1\" stroke-width=\"3.2\"/>\n",
       "<path clip-path=\"url(#clip092)\" d=\"M930.136 965.94 L924.136 971.94 L930.136 977.94 L936.136 971.94 L930.136 965.94 Z\" fill=\"#3da44d\" fill-rule=\"evenodd\" fill-opacity=\"1\" stroke=\"#000000\" stroke-opacity=\"1\" stroke-width=\"3.2\"/>\n",
       "<path clip-path=\"url(#clip092)\" d=\"M945.11 965.94 L939.11 971.94 L945.11 977.94 L951.11 971.94 L945.11 965.94 Z\" fill=\"#3da44d\" fill-rule=\"evenodd\" fill-opacity=\"1\" stroke=\"#000000\" stroke-opacity=\"1\" stroke-width=\"3.2\"/>\n",
       "<path clip-path=\"url(#clip092)\" d=\"M960.085 965.94 L954.085 971.94 L960.085 977.94 L966.085 971.94 L960.085 965.94 Z\" fill=\"#3da44d\" fill-rule=\"evenodd\" fill-opacity=\"1\" stroke=\"#000000\" stroke-opacity=\"1\" stroke-width=\"3.2\"/>\n",
       "<path clip-path=\"url(#clip092)\" d=\"M975.06 965.94 L969.06 971.94 L975.06 977.94 L981.06 971.94 L975.06 965.94 Z\" fill=\"#3da44d\" fill-rule=\"evenodd\" fill-opacity=\"1\" stroke=\"#000000\" stroke-opacity=\"1\" stroke-width=\"3.2\"/>\n",
       "<path clip-path=\"url(#clip092)\" d=\"M990.034 965.94 L984.034 971.94 L990.034 977.94 L996.034 971.94 L990.034 965.94 Z\" fill=\"#3da44d\" fill-rule=\"evenodd\" fill-opacity=\"1\" stroke=\"#000000\" stroke-opacity=\"1\" stroke-width=\"3.2\"/>\n",
       "<path clip-path=\"url(#clip092)\" d=\"M1005.01 965.94 L999.009 971.94 L1005.01 977.94 L1011.01 971.94 L1005.01 965.94 Z\" fill=\"#3da44d\" fill-rule=\"evenodd\" fill-opacity=\"1\" stroke=\"#000000\" stroke-opacity=\"1\" stroke-width=\"3.2\"/>\n",
       "<path clip-path=\"url(#clip092)\" d=\"M1019.98 965.94 L1013.98 971.94 L1019.98 977.94 L1025.98 971.94 L1019.98 965.94 Z\" fill=\"#3da44d\" fill-rule=\"evenodd\" fill-opacity=\"1\" stroke=\"#000000\" stroke-opacity=\"1\" stroke-width=\"3.2\"/>\n",
       "<path clip-path=\"url(#clip092)\" d=\"M1034.96 965.94 L1028.96 971.94 L1034.96 977.94 L1040.96 971.94 L1034.96 965.94 Z\" fill=\"#3da44d\" fill-rule=\"evenodd\" fill-opacity=\"1\" stroke=\"#000000\" stroke-opacity=\"1\" stroke-width=\"3.2\"/>\n",
       "<path clip-path=\"url(#clip092)\" d=\"M1049.93 828.156 L1043.93 834.156 L1049.93 840.156 L1055.93 834.156 L1049.93 828.156 Z\" fill=\"#3da44d\" fill-rule=\"evenodd\" fill-opacity=\"1\" stroke=\"#000000\" stroke-opacity=\"1\" stroke-width=\"3.2\"/>\n",
       "<path clip-path=\"url(#clip092)\" d=\"M1064.91 828.156 L1058.91 834.156 L1064.91 840.156 L1070.91 834.156 L1064.91 828.156 Z\" fill=\"#3da44d\" fill-rule=\"evenodd\" fill-opacity=\"1\" stroke=\"#000000\" stroke-opacity=\"1\" stroke-width=\"3.2\"/>\n",
       "<path clip-path=\"url(#clip092)\" d=\"M1079.88 828.156 L1073.88 834.156 L1079.88 840.156 L1085.88 834.156 L1079.88 828.156 Z\" fill=\"#3da44d\" fill-rule=\"evenodd\" fill-opacity=\"1\" stroke=\"#000000\" stroke-opacity=\"1\" stroke-width=\"3.2\"/>\n",
       "<path clip-path=\"url(#clip092)\" d=\"M1094.86 828.156 L1088.86 834.156 L1094.86 840.156 L1100.86 834.156 L1094.86 828.156 Z\" fill=\"#3da44d\" fill-rule=\"evenodd\" fill-opacity=\"1\" stroke=\"#000000\" stroke-opacity=\"1\" stroke-width=\"3.2\"/>\n",
       "<path clip-path=\"url(#clip092)\" d=\"M1109.83 828.156 L1103.83 834.156 L1109.83 840.156 L1115.83 834.156 L1109.83 828.156 Z\" fill=\"#3da44d\" fill-rule=\"evenodd\" fill-opacity=\"1\" stroke=\"#000000\" stroke-opacity=\"1\" stroke-width=\"3.2\"/>\n",
       "<path clip-path=\"url(#clip092)\" d=\"M1124.81 828.156 L1118.81 834.156 L1124.81 840.156 L1130.81 834.156 L1124.81 828.156 Z\" fill=\"#3da44d\" fill-rule=\"evenodd\" fill-opacity=\"1\" stroke=\"#000000\" stroke-opacity=\"1\" stroke-width=\"3.2\"/>\n",
       "<path clip-path=\"url(#clip092)\" d=\"M1139.78 828.156 L1133.78 834.156 L1139.78 840.156 L1145.78 834.156 L1139.78 828.156 Z\" fill=\"#3da44d\" fill-rule=\"evenodd\" fill-opacity=\"1\" stroke=\"#000000\" stroke-opacity=\"1\" stroke-width=\"3.2\"/>\n",
       "<path clip-path=\"url(#clip092)\" d=\"M1154.76 828.156 L1148.76 834.156 L1154.76 840.156 L1160.76 834.156 L1154.76 828.156 Z\" fill=\"#3da44d\" fill-rule=\"evenodd\" fill-opacity=\"1\" stroke=\"#000000\" stroke-opacity=\"1\" stroke-width=\"3.2\"/>\n",
       "<path clip-path=\"url(#clip092)\" d=\"M1169.73 828.156 L1163.73 834.156 L1169.73 840.156 L1175.73 834.156 L1169.73 828.156 Z\" fill=\"#3da44d\" fill-rule=\"evenodd\" fill-opacity=\"1\" stroke=\"#000000\" stroke-opacity=\"1\" stroke-width=\"3.2\"/>\n",
       "<path clip-path=\"url(#clip092)\" d=\"M1184.7 828.156 L1178.7 834.156 L1184.7 840.156 L1190.7 834.156 L1184.7 828.156 Z\" fill=\"#3da44d\" fill-rule=\"evenodd\" fill-opacity=\"1\" stroke=\"#000000\" stroke-opacity=\"1\" stroke-width=\"3.2\"/>\n",
       "<path clip-path=\"url(#clip092)\" d=\"M1199.68 828.156 L1193.68 834.156 L1199.68 840.156 L1205.68 834.156 L1199.68 828.156 Z\" fill=\"#3da44d\" fill-rule=\"evenodd\" fill-opacity=\"1\" stroke=\"#000000\" stroke-opacity=\"1\" stroke-width=\"3.2\"/>\n",
       "<path clip-path=\"url(#clip092)\" d=\"M1214.65 828.156 L1208.65 834.156 L1214.65 840.156 L1220.65 834.156 L1214.65 828.156 Z\" fill=\"#3da44d\" fill-rule=\"evenodd\" fill-opacity=\"1\" stroke=\"#000000\" stroke-opacity=\"1\" stroke-width=\"3.2\"/>\n",
       "<path clip-path=\"url(#clip092)\" d=\"M1229.63 828.156 L1223.63 834.156 L1229.63 840.156 L1235.63 834.156 L1229.63 828.156 Z\" fill=\"#3da44d\" fill-rule=\"evenodd\" fill-opacity=\"1\" stroke=\"#000000\" stroke-opacity=\"1\" stroke-width=\"3.2\"/>\n",
       "<path clip-path=\"url(#clip092)\" d=\"M1244.6 828.156 L1238.6 834.156 L1244.6 840.156 L1250.6 834.156 L1244.6 828.156 Z\" fill=\"#3da44d\" fill-rule=\"evenodd\" fill-opacity=\"1\" stroke=\"#000000\" stroke-opacity=\"1\" stroke-width=\"3.2\"/>\n",
       "<path clip-path=\"url(#clip092)\" d=\"M1259.58 828.156 L1253.58 834.156 L1259.58 840.156 L1265.58 834.156 L1259.58 828.156 Z\" fill=\"#3da44d\" fill-rule=\"evenodd\" fill-opacity=\"1\" stroke=\"#000000\" stroke-opacity=\"1\" stroke-width=\"3.2\"/>\n",
       "<path clip-path=\"url(#clip092)\" d=\"M1274.55 828.156 L1268.55 834.156 L1274.55 840.156 L1280.55 834.156 L1274.55 828.156 Z\" fill=\"#3da44d\" fill-rule=\"evenodd\" fill-opacity=\"1\" stroke=\"#000000\" stroke-opacity=\"1\" stroke-width=\"3.2\"/>\n",
       "<path clip-path=\"url(#clip092)\" d=\"M1289.53 566.648 L1283.53 572.648 L1289.53 578.648 L1295.53 572.648 L1289.53 566.648 Z\" fill=\"#3da44d\" fill-rule=\"evenodd\" fill-opacity=\"1\" stroke=\"#000000\" stroke-opacity=\"1\" stroke-width=\"3.2\"/>\n",
       "</svg>\n"
      ]
     },
     "metadata": {},
     "output_type": "display_data"
    },
    {
     "name": "stderr",
     "output_type": "stream",
     "text": [
      "WARNING: CPU random generator seem to be failing, disabling hardware random number generation\n",
      "WARNING: RDRND generated: 0xffffffff 0xffffffff 0xffffffff 0xffffffff\n"
     ]
    }
   ],
   "source": [
    "fig = M(mutation_freqs(tumor).frequency; res=0.0005, nBins=200,\n",
    "        xlab=\"1/f\", ylab=\"M(f)\", lab=\"\", marker=:o, ms=1.5)\n",
    "β = params.μ * params.b/(params.b-params.d)\n",
    "Plots.plot!(1:1000, n-> β*n, lab=\"\")\n",
    "\n",
    "f = filter(m -> m.reads > 1, stochastic_sequencing(tumor, readdepth=1000)).frequency\n",
    "M!(fig, stochastic_sequencing(tumor, readdepth=2000).frequency; res=0.001, lab=\"\", marker=:d, ms=1.5 )"
   ]
  },
  {
   "cell_type": "markdown",
   "metadata": {},
   "source": [
    "### clones"
   ]
  },
  {
   "cell_type": "code",
   "execution_count": 40,
   "metadata": {},
   "outputs": [
    {
     "name": "stderr",
     "output_type": "stream",
     "text": [
      "┌ Warning: This method assumes mutations to be ordered by occurence!\n",
      "└ @ TumorGrowth c:\\Users\\ArmanAngaji\\OneDrive - Universität zu Köln\\Dokumente\\Uni-Köln\\Masterarbeit\\Workspace\\Julia_Master\\MasterProject_Julia\\TumorGrowth\\src\\analysis.jl:100\n"
     ]
    },
    {
     "name": "stderr",
     "output_type": "stream",
     "text": [
      "┌ Warning: This method assumes mutations to be ordered by occurence!\n",
      "└ @ TumorGrowth c:\\Users\\ArmanAngaji\\OneDrive - Universität zu Köln\\Dokumente\\Uni-Köln\\Masterarbeit\\Workspace\\Julia_Master\\MasterProject_Julia\\TumorGrowth\\src\\analysis.jl:100\n"
     ]
    }
   ],
   "source": [
    "tumor = data_import(\"examples/test_2000_2d.csv\")\n",
    "\n",
    "fig = plotting(tumor; color=:lightblue, shading=false)\n",
    "clone(tumor, nothing) |> t -> plotting!(fig, t, color=:red)\n",
    "clone(tumor, 2) |> t -> plotting!(fig, t, color=:blue)"
   ]
  },
  {
   "cell_type": "code",
   "execution_count": 47,
   "metadata": {},
   "outputs": [
    {
     "name": "stderr",
     "output_type": "stream",
     "text": [
      "┌ Warning: This method assumes mutations to be ordered by occurence!\n",
      "└ @ TumorGrowth c:\\Users\\ArmanAngaji\\OneDrive - Universität zu Köln\\Dokumente\\Uni-Köln\\Masterarbeit\\Workspace\\Julia_Master\\MasterProject_Julia\\TumorGrowth\\src\\analysis.jl:115\n",
      "┌ Warning: This method assumes mutations to be ordered by occurence!\n",
      "└ @ TumorGrowth c:\\Users\\ArmanAngaji\\OneDrive - Universität zu Köln\\Dokumente\\Uni-Köln\\Masterarbeit\\Workspace\\Julia_Master\\MasterProject_Julia\\TumorGrowth\\src\\analysis.jl:115\n",
      "┌ Warning: This method assumes mutations to be ordered by occurence!\n",
      "└ @ TumorGrowth c:\\Users\\ArmanAngaji\\OneDrive - Universität zu Köln\\Dokumente\\Uni-Köln\\Masterarbeit\\Workspace\\Julia_Master\\MasterProject_Julia\\TumorGrowth\\src\\analysis.jl:115\n"
     ]
    },
    {
     "name": "stderr",
     "output_type": "stream",
     "text": [
      "┌ Warning: This method assumes mutations to be ordered by occurence!\n",
      "└ @ TumorGrowth c:\\Users\\ArmanAngaji\\OneDrive - Universität zu Köln\\Dokumente\\Uni-Köln\\Masterarbeit\\Workspace\\Julia_Master\\MasterProject_Julia\\TumorGrowth\\src\\analysis.jl:115\n",
      "┌ Warning: This method assumes mutations to be ordered by occurence!\n",
      "└ @ TumorGrowth c:\\Users\\ArmanAngaji\\OneDrive - Universität zu Köln\\Dokumente\\Uni-Köln\\Masterarbeit\\Workspace\\Julia_Master\\MasterProject_Julia\\TumorGrowth\\src\\analysis.jl:115\n",
      "┌ Warning: This method assumes mutations to be ordered by occurence!\n",
      "└ @ TumorGrowth c:\\Users\\ArmanAngaji\\OneDrive - Universität zu Köln\\Dokumente\\Uni-Köln\\Masterarbeit\\Workspace\\Julia_Master\\MasterProject_Julia\\TumorGrowth\\src\\analysis.jl:115\n"
     ]
    }
   ],
   "source": [
    "fig = plotting(tumor; color=:lightgrey, shading=false)\n",
    "sort(by=size, rev=true, clones(tumor))[1] |> clones .|> t -> plotting_colored_mutations!(fig, t; colorpalette=palette(:tab10), shading=false,autodepth=true)\n",
    "fig"
   ]
  },
  {
   "cell_type": "markdown",
   "metadata": {},
   "source": [
    "### *density ~ b*"
   ]
  },
  {
   "cell_type": "code",
   "execution_count": 1,
   "metadata": {},
   "outputs": [
    {
     "ename": "UndefVarError",
     "evalue": "UndefVarError: TumorGrowth not defined",
     "output_type": "error",
     "traceback": [
      "UndefVarError: TumorGrowth not defined\n",
      "\n",
      "Stacktrace:\n",
      " [1] top-level scope\n",
      "   @ ~\\OneDrive - Universität zu Köln\\Dokumente\\Uni-Köln\\Masterarbeit\\Workspace\\Julia_Master\\MasterProject_Julia\\TumorGrowth\\usage.ipynb:4"
     ]
    }
   ],
   "source": [
    "using Plots, Statistics\n",
    "\n",
    "# TumorGrowth.b_linear()\n",
    "TumorGrowth.b_hill(6)\n",
    "TumorGrowth.b_curve(1.; bup=1., ρc=1.1)"
   ]
  },
  {
   "cell_type": "code",
   "execution_count": 37,
   "metadata": {},
   "outputs": [
    {
     "name": "stdout",
     "output_type": "stream",
     "text": [
      "  5.522627 seconds (13.86 M allocations: 2.408 GiB, 5.84% gc time, 2.65% compilation time)\n"
     ]
    }
   ],
   "source": [
    "b, d, ρ = 1., 0.2, 1.1\n",
    "@time tumor = birth_death_pushing(5000; b=1., d=d\n",
    "    , μ=0.3, ρ=ρ, dim=2, showprogress=false, seed=4242)[:tumor]\n",
    "tumordf = tumor |> DataFrame;"
   ]
  },
  {
   "cell_type": "code",
   "execution_count": 38,
   "metadata": {},
   "outputs": [
    {
     "data": {
      "image/png": "[encoded data removed]",
      "image/svg+xml": "<?xml version=\"1.0\" encoding=\"utf-8\"?>\n<svg xmlns=\"http://www.w3.org/2000/svg\" xmlns:xlink=\"http://www.w3.org/1999/xlink\" width=\"300\" height=\"150\" viewBox=\"0 0 1200 600\">\n<defs>\n  <clipPath id=\"clip210\">\n    <rect x=\"0\" y=\"0\" width=\"1200\" height=\"600\"/>\n  </clipPath>\n</defs>\n<path clip-path=\"url(#clip210)\" d=\"\nM0 600 L1200 600 L1200 0 L0 0  Z\n  \" fill=\"#ffffff\" fill-rule=\"evenodd\" fill-opacity=\"1\"/>\n<defs>\n  <clipPath id=\"clip211\">\n    <rect x=\"240\" y=\"0\" width=\"841\" height=\"600\"/>\n  </clipPath>\n</defs>\n<path clip-path=\"url(#clip210)\" d=\"\nM100.177 505.088 L1152.76 505.088 L1152.76 47.2441 L100.177 47.2441  Z\n  \" fill=\"#ffffff\" fill-rule=\"evenodd\" fill-opacity=\"1\"/>\n<defs>\n  <clipPath id=\"clip212\">\n    <rect x=\"100\" y=\"47\" width=\"1054\" height=\"459\"/>\n  </clipPath>\n</defs>\n<polyline clip-path=\"url(#clip212)\" style=\"stroke:#000000; stroke-linecap:butt; stroke-linejoin:round; stroke-width:2; stroke-opacity:0.1; fill:none\" points=\"\n  160.835,505.088 160.835,47.2441 \n  \"/>\n<polyline clip-path=\"url(#clip212)\" style=\"stroke:#000000; stroke-linecap:butt; stroke-linejoin:round; stroke-width:2; stroke-opacity:0.1; fill:none\" points=\"\n  307.244,505.088 307.244,47.2441 \n  \"/>\n<polyline clip-path=\"url(#clip212)\" style=\"stroke:#000000; stroke-linecap:butt; stroke-linejoin:round; stroke-width:2; stroke-opacity:0.1; fill:none\" points=\"\n  453.652,505.088 453.652,47.2441 \n  \"/>\n<polyline clip-path=\"url(#clip212)\" style=\"stroke:#000000; stroke-linecap:butt; stroke-linejoin:round; stroke-width:2; stroke-opacity:0.1; fill:none\" points=\"\n  600.061,505.088 600.061,47.2441 \n  \"/>\n<polyline clip-path=\"url(#clip212)\" style=\"stroke:#000000; stroke-linecap:butt; stroke-linejoin:round; stroke-width:2; stroke-opacity:0.1; fill:none\" points=\"\n  746.47,505.088 746.47,47.2441 \n  \"/>\n<polyline clip-path=\"url(#clip212)\" style=\"stroke:#000000; stroke-linecap:butt; stroke-linejoin:round; stroke-width:2; stroke-opacity:0.1; fill:none\" points=\"\n  892.879,505.088 892.879,47.2441 \n  \"/>\n<polyline clip-path=\"url(#clip212)\" style=\"stroke:#000000; stroke-linecap:butt; stroke-linejoin:round; stroke-width:2; stroke-opacity:0.1; fill:none\" points=\"\n  1039.29,505.088 1039.29,47.2441 \n  \"/>\n<polyline clip-path=\"url(#clip210)\" style=\"stroke:#000000; stroke-linecap:butt; stroke-linejoin:round; stroke-width:4; stroke-opacity:1; fill:none\" points=\"\n  100.177,505.088 1152.76,505.088 \n  \"/>\n<polyline clip-path=\"url(#clip210)\" style=\"stroke:#000000; stroke-linecap:butt; stroke-linejoin:round; stroke-width:4; stroke-opacity:1; fill:none\" points=\"\n  160.835,505.088 160.835,499.594 \n  \"/>\n<polyline clip-path=\"url(#clip210)\" style=\"stroke:#000000; stroke-linecap:butt; stroke-linejoin:round; stroke-width:4; stroke-opacity:1; fill:none\" points=\"\n  307.244,505.088 307.244,499.594 \n  \"/>\n<polyline clip-path=\"url(#clip210)\" style=\"stroke:#000000; stroke-linecap:butt; stroke-linejoin:round; stroke-width:4; stroke-opacity:1; fill:none\" points=\"\n  453.652,505.088 453.652,499.594 \n  \"/>\n<polyline clip-path=\"url(#clip210)\" style=\"stroke:#000000; stroke-linecap:butt; stroke-linejoin:round; stroke-width:4; stroke-opacity:1; fill:none\" points=\"\n  600.061,505.088 600.061,499.594 \n  \"/>\n<polyline clip-path=\"url(#clip210)\" style=\"stroke:#000000; stroke-linecap:butt; stroke-linejoin:round; stroke-width:4; stroke-opacity:1; fill:none\" points=\"\n  746.47,505.088 746.47,499.594 \n  \"/>\n<polyline clip-path=\"url(#clip210)\" style=\"stroke:#000000; stroke-linecap:butt; stroke-linejoin:round; stroke-width:4; stroke-opacity:1; fill:none\" points=\"\n  892.879,505.088 892.879,499.594 \n  \"/>\n<polyline clip-path=\"url(#clip210)\" style=\"stroke:#000000; stroke-linecap:butt; stroke-linejoin:round; stroke-width:4; stroke-opacity:1; fill:none\" points=\"\n  1039.29,505.088 1039.29,499.594 \n  \"/>\n<path clip-path=\"url(#clip210)\" d=\"M117.49 552.225 L133.809 552.225 L133.809 556.16 L111.865 556.16 L111.865 552.225 Q114.527 549.47 119.11 544.84 Q123.717 540.188 124.897 538.845 Q127.143 536.322 128.022 534.586 Q128.925 532.827 128.925 531.137 Q128.925 528.382 126.981 526.646 Q125.059 524.91 121.958 524.91 Q119.759 524.91 117.305 525.674 Q114.874 526.438 112.097 527.989 L112.097 523.267 Q114.921 522.132 117.374 521.554 Q119.828 520.975 121.865 520.975 Q127.235 520.975 130.43 523.66 Q133.624 526.345 133.624 530.836 Q133.624 532.966 132.814 534.887 Q132.027 536.785 129.92 539.378 Q129.342 540.049 126.24 543.266 Q123.138 546.461 117.49 552.225 Z\" fill=\"#000000\" fill-rule=\"evenodd\" fill-opacity=\"1\" /><path clip-path=\"url(#clip210)\" d=\"M143.624 550.28 L148.508 550.28 L148.508 556.16 L143.624 556.16 L143.624 550.28 Z\" fill=\"#000000\" fill-rule=\"evenodd\" fill-opacity=\"1\" /><path clip-path=\"url(#clip210)\" d=\"M162.721 552.225 L179.041 552.225 L179.041 556.16 L157.096 556.16 L157.096 552.225 Q159.758 549.47 164.342 544.84 Q168.948 540.188 170.129 538.845 Q172.374 536.322 173.254 534.586 Q174.156 532.827 174.156 531.137 Q174.156 528.382 172.212 526.646 Q170.291 524.91 167.189 524.91 Q164.99 524.91 162.536 525.674 Q160.106 526.438 157.328 527.989 L157.328 523.267 Q160.152 522.132 162.606 521.554 Q165.059 520.975 167.096 520.975 Q172.467 520.975 175.661 523.66 Q178.855 526.345 178.855 530.836 Q178.855 532.966 178.045 534.887 Q177.258 536.785 175.152 539.378 Q174.573 540.049 171.471 543.266 Q168.369 546.461 162.721 552.225 Z\" fill=\"#000000\" fill-rule=\"evenodd\" fill-opacity=\"1\" /><path clip-path=\"url(#clip210)\" d=\"M188.902 521.6 L207.258 521.6 L207.258 525.535 L193.184 525.535 L193.184 534.007 Q194.203 533.66 195.221 533.498 Q196.24 533.313 197.258 533.313 Q203.045 533.313 206.425 536.484 Q209.804 539.655 209.804 545.072 Q209.804 550.651 206.332 553.752 Q202.86 556.831 196.541 556.831 Q194.365 556.831 192.096 556.461 Q189.851 556.09 187.443 555.35 L187.443 550.651 Q189.527 551.785 191.749 552.34 Q193.971 552.896 196.448 552.896 Q200.453 552.896 202.79 550.79 Q205.128 548.683 205.128 545.072 Q205.128 541.461 202.79 539.354 Q200.453 537.248 196.448 537.248 Q194.573 537.248 192.698 537.665 Q190.846 538.081 188.902 538.961 L188.902 521.6 Z\" fill=\"#000000\" fill-rule=\"evenodd\" fill-opacity=\"1\" /><path clip-path=\"url(#clip210)\" d=\"M263.401 552.225 L279.721 552.225 L279.721 556.16 L257.776 556.16 L257.776 552.225 Q260.438 549.47 265.022 544.84 Q269.628 540.188 270.809 538.845 Q273.054 536.322 273.934 534.586 Q274.836 532.827 274.836 531.137 Q274.836 528.382 272.892 526.646 Q270.971 524.91 267.869 524.91 Q265.67 524.91 263.216 525.674 Q260.785 526.438 258.008 527.989 L258.008 523.267 Q260.832 522.132 263.285 521.554 Q265.739 520.975 267.776 520.975 Q273.146 520.975 276.341 523.66 Q279.535 526.345 279.535 530.836 Q279.535 532.966 278.725 534.887 Q277.938 536.785 275.832 539.378 Q275.253 540.049 272.151 543.266 Q269.049 546.461 263.401 552.225 Z\" fill=\"#000000\" fill-rule=\"evenodd\" fill-opacity=\"1\" /><path clip-path=\"url(#clip210)\" d=\"M289.535 550.28 L294.42 550.28 L294.42 556.16 L289.535 556.16 L289.535 550.28 Z\" fill=\"#000000\" fill-rule=\"evenodd\" fill-opacity=\"1\" /><path clip-path=\"url(#clip210)\" d=\"M304.651 521.6 L323.007 521.6 L323.007 525.535 L308.933 525.535 L308.933 534.007 Q309.952 533.66 310.97 533.498 Q311.989 533.313 313.007 533.313 Q318.794 533.313 322.174 536.484 Q325.554 539.655 325.554 545.072 Q325.554 550.651 322.081 553.752 Q318.609 556.831 312.29 556.831 Q310.114 556.831 307.845 556.461 Q305.6 556.09 303.193 555.35 L303.193 550.651 Q305.276 551.785 307.498 552.34 Q309.72 552.896 312.197 552.896 Q316.202 552.896 318.54 550.79 Q320.878 548.683 320.878 545.072 Q320.878 541.461 318.54 539.354 Q316.202 537.248 312.197 537.248 Q310.322 537.248 308.447 537.665 Q306.595 538.081 304.651 538.961 L304.651 521.6 Z\" fill=\"#000000\" fill-rule=\"evenodd\" fill-opacity=\"1\" /><path clip-path=\"url(#clip210)\" d=\"M344.766 524.679 Q341.155 524.679 339.327 528.243 Q337.521 531.785 337.521 538.915 Q337.521 546.021 339.327 549.586 Q341.155 553.127 344.766 553.127 Q348.401 553.127 350.206 549.586 Q352.035 546.021 352.035 538.915 Q352.035 531.785 350.206 528.243 Q348.401 524.679 344.766 524.679 M344.766 520.975 Q350.577 520.975 353.632 525.581 Q356.711 530.165 356.711 538.915 Q356.711 547.641 353.632 552.248 Q350.577 556.831 344.766 556.831 Q338.956 556.831 335.878 552.248 Q332.822 547.641 332.822 538.915 Q332.822 530.165 335.878 525.581 Q338.956 520.975 344.766 520.975 Z\" fill=\"#000000\" fill-rule=\"evenodd\" fill-opacity=\"1\" /><path clip-path=\"url(#clip210)\" d=\"M410.308 552.225 L426.627 552.225 L426.627 556.16 L404.683 556.16 L404.683 552.225 Q407.345 549.47 411.928 544.84 Q416.535 540.188 417.715 538.845 Q419.96 536.322 420.84 534.586 Q421.743 532.827 421.743 531.137 Q421.743 528.382 419.798 526.646 Q417.877 524.91 414.775 524.91 Q412.576 524.91 410.123 525.674 Q407.692 526.438 404.914 527.989 L404.914 523.267 Q407.738 522.132 410.192 521.554 Q412.646 520.975 414.683 520.975 Q420.053 520.975 423.247 523.66 Q426.442 526.345 426.442 530.836 Q426.442 532.966 425.632 534.887 Q424.845 536.785 422.738 539.378 Q422.159 540.049 419.058 543.266 Q415.956 546.461 410.308 552.225 Z\" fill=\"#000000\" fill-rule=\"evenodd\" fill-opacity=\"1\" /><path clip-path=\"url(#clip210)\" d=\"M436.442 550.28 L441.326 550.28 L441.326 556.16 L436.442 556.16 L436.442 550.28 Z\" fill=\"#000000\" fill-rule=\"evenodd\" fill-opacity=\"1\" /><path clip-path=\"url(#clip210)\" d=\"M450.331 521.6 L472.553 521.6 L472.553 523.591 L460.007 556.16 L455.122 556.16 L466.928 525.535 L450.331 525.535 L450.331 521.6 Z\" fill=\"#000000\" fill-rule=\"evenodd\" fill-opacity=\"1\" /><path clip-path=\"url(#clip210)\" d=\"M481.719 521.6 L500.076 521.6 L500.076 525.535 L486.002 525.535 L486.002 534.007 Q487.02 533.66 488.039 533.498 Q489.057 533.313 490.076 533.313 Q495.863 533.313 499.242 536.484 Q502.622 539.655 502.622 545.072 Q502.622 550.651 499.15 553.752 Q495.678 556.831 489.358 556.831 Q487.182 556.831 484.914 556.461 Q482.668 556.09 480.261 555.35 L480.261 550.651 Q482.344 551.785 484.567 552.34 Q486.789 552.896 489.266 552.896 Q493.27 552.896 495.608 550.79 Q497.946 548.683 497.946 545.072 Q497.946 541.461 495.608 539.354 Q493.27 537.248 489.266 537.248 Q487.391 537.248 485.516 537.665 Q483.664 538.081 481.719 538.961 L481.719 521.6 Z\" fill=\"#000000\" fill-rule=\"evenodd\" fill-opacity=\"1\" /><path clip-path=\"url(#clip210)\" d=\"M566.288 537.526 Q569.645 538.243 571.52 540.512 Q573.418 542.78 573.418 546.114 Q573.418 551.229 569.899 554.03 Q566.381 556.831 559.899 556.831 Q557.723 556.831 555.409 556.391 Q553.117 555.975 550.663 555.118 L550.663 550.604 Q552.608 551.739 554.923 552.317 Q557.237 552.896 559.761 552.896 Q564.159 552.896 566.45 551.16 Q568.765 549.424 568.765 546.114 Q568.765 543.058 566.612 541.345 Q564.483 539.609 560.663 539.609 L556.636 539.609 L556.636 535.766 L560.848 535.766 Q564.298 535.766 566.126 534.401 Q567.955 533.012 567.955 530.419 Q567.955 527.757 566.057 526.345 Q564.182 524.91 560.663 524.91 Q558.742 524.91 556.543 525.327 Q554.344 525.743 551.705 526.623 L551.705 522.456 Q554.367 521.716 556.682 521.345 Q559.02 520.975 561.08 520.975 Q566.404 520.975 569.506 523.405 Q572.608 525.813 572.608 529.933 Q572.608 532.804 570.964 534.794 Q569.321 536.762 566.288 537.526 Z\" fill=\"#000000\" fill-rule=\"evenodd\" fill-opacity=\"1\" /><path clip-path=\"url(#clip210)\" d=\"M582.284 550.28 L587.168 550.28 L587.168 556.16 L582.284 556.16 L582.284 550.28 Z\" fill=\"#000000\" fill-rule=\"evenodd\" fill-opacity=\"1\" /><path clip-path=\"url(#clip210)\" d=\"M607.353 524.679 Q603.742 524.679 601.913 528.243 Q600.108 531.785 600.108 538.915 Q600.108 546.021 601.913 549.586 Q603.742 553.127 607.353 553.127 Q610.987 553.127 612.793 549.586 Q614.621 546.021 614.621 538.915 Q614.621 531.785 612.793 528.243 Q610.987 524.679 607.353 524.679 M607.353 520.975 Q613.163 520.975 616.219 525.581 Q619.297 530.165 619.297 538.915 Q619.297 547.641 616.219 552.248 Q613.163 556.831 607.353 556.831 Q601.543 556.831 598.464 552.248 Q595.408 547.641 595.408 538.915 Q595.408 530.165 598.464 525.581 Q601.543 520.975 607.353 520.975 Z\" fill=\"#000000\" fill-rule=\"evenodd\" fill-opacity=\"1\" /><path clip-path=\"url(#clip210)\" d=\"M637.515 524.679 Q633.904 524.679 632.075 528.243 Q630.269 531.785 630.269 538.915 Q630.269 546.021 632.075 549.586 Q633.904 553.127 637.515 553.127 Q641.149 553.127 642.955 549.586 Q644.783 546.021 644.783 538.915 Q644.783 531.785 642.955 528.243 Q641.149 524.679 637.515 524.679 M637.515 520.975 Q643.325 520.975 646.38 525.581 Q649.459 530.165 649.459 538.915 Q649.459 547.641 646.38 552.248 Q643.325 556.831 637.515 556.831 Q631.705 556.831 628.626 552.248 Q625.57 547.641 625.57 538.915 Q625.57 530.165 628.626 525.581 Q631.705 520.975 637.515 520.975 Z\" fill=\"#000000\" fill-rule=\"evenodd\" fill-opacity=\"1\" /><path clip-path=\"url(#clip210)\" d=\"M713.195 537.526 Q716.551 538.243 718.426 540.512 Q720.324 542.78 720.324 546.114 Q720.324 551.229 716.806 554.03 Q713.287 556.831 706.806 556.831 Q704.63 556.831 702.315 556.391 Q700.024 555.975 697.57 555.118 L697.57 550.604 Q699.514 551.739 701.829 552.317 Q704.144 552.896 706.667 552.896 Q711.065 552.896 713.357 551.16 Q715.672 549.424 715.672 546.114 Q715.672 543.058 713.519 541.345 Q711.389 539.609 707.57 539.609 L703.542 539.609 L703.542 535.766 L707.755 535.766 Q711.204 535.766 713.033 534.401 Q714.861 533.012 714.861 530.419 Q714.861 527.757 712.963 526.345 Q711.088 524.91 707.57 524.91 Q705.649 524.91 703.449 525.327 Q701.25 525.743 698.612 526.623 L698.612 522.456 Q701.274 521.716 703.588 521.345 Q705.926 520.975 707.986 520.975 Q713.311 520.975 716.412 523.405 Q719.514 525.813 719.514 529.933 Q719.514 532.804 717.871 534.794 Q716.227 536.762 713.195 537.526 Z\" fill=\"#000000\" fill-rule=\"evenodd\" fill-opacity=\"1\" /><path clip-path=\"url(#clip210)\" d=\"M729.19 550.28 L734.074 550.28 L734.074 556.16 L729.19 556.16 L729.19 550.28 Z\" fill=\"#000000\" fill-rule=\"evenodd\" fill-opacity=\"1\" /><path clip-path=\"url(#clip210)\" d=\"M748.287 552.225 L764.607 552.225 L764.607 556.16 L742.662 556.16 L742.662 552.225 Q745.324 549.47 749.908 544.84 Q754.514 540.188 755.695 538.845 Q757.94 536.322 758.82 534.586 Q759.722 532.827 759.722 531.137 Q759.722 528.382 757.778 526.646 Q755.857 524.91 752.755 524.91 Q750.556 524.91 748.102 525.674 Q745.671 526.438 742.894 527.989 L742.894 523.267 Q745.718 522.132 748.171 521.554 Q750.625 520.975 752.662 520.975 Q758.033 520.975 761.227 523.66 Q764.421 526.345 764.421 530.836 Q764.421 532.966 763.611 534.887 Q762.824 536.785 760.718 539.378 Q760.139 540.049 757.037 543.266 Q753.935 546.461 748.287 552.225 Z\" fill=\"#000000\" fill-rule=\"evenodd\" fill-opacity=\"1\" /><path clip-path=\"url(#clip210)\" d=\"M774.468 521.6 L792.824 521.6 L792.824 525.535 L778.75 525.535 L778.75 534.007 Q779.768 533.66 780.787 533.498 Q781.806 533.313 782.824 533.313 Q788.611 533.313 791.991 536.484 Q795.37 539.655 795.37 545.072 Q795.37 550.651 791.898 553.752 Q788.426 556.831 782.106 556.831 Q779.931 556.831 777.662 556.461 Q775.417 556.09 773.009 555.35 L773.009 550.651 Q775.093 551.785 777.315 552.34 Q779.537 552.896 782.014 552.896 Q786.018 552.896 788.356 550.79 Q790.694 548.683 790.694 545.072 Q790.694 541.461 788.356 539.354 Q786.018 537.248 782.014 537.248 Q780.139 537.248 778.264 537.665 Q776.412 538.081 774.468 538.961 L774.468 521.6 Z\" fill=\"#000000\" fill-rule=\"evenodd\" fill-opacity=\"1\" /><path clip-path=\"url(#clip210)\" d=\"M859.106 537.526 Q862.462 538.243 864.337 540.512 Q866.236 542.78 866.236 546.114 Q866.236 551.229 862.717 554.03 Q859.199 556.831 852.717 556.831 Q850.541 556.831 848.226 556.391 Q845.935 555.975 843.481 555.118 L843.481 550.604 Q845.425 551.739 847.74 552.317 Q850.055 552.896 852.578 552.896 Q856.976 552.896 859.268 551.16 Q861.583 549.424 861.583 546.114 Q861.583 543.058 859.43 541.345 Q857.3 539.609 853.481 539.609 L849.453 539.609 L849.453 535.766 L853.666 535.766 Q857.115 535.766 858.944 534.401 Q860.773 533.012 860.773 530.419 Q860.773 527.757 858.874 526.345 Q856.999 524.91 853.481 524.91 Q851.56 524.91 849.361 525.327 Q847.162 525.743 844.523 526.623 L844.523 522.456 Q847.185 521.716 849.5 521.345 Q851.837 520.975 853.898 520.975 Q859.222 520.975 862.324 523.405 Q865.425 525.813 865.425 529.933 Q865.425 532.804 863.782 534.794 Q862.138 536.762 859.106 537.526 Z\" fill=\"#000000\" fill-rule=\"evenodd\" fill-opacity=\"1\" /><path clip-path=\"url(#clip210)\" d=\"M875.101 550.28 L879.985 550.28 L879.985 556.16 L875.101 556.16 L875.101 550.28 Z\" fill=\"#000000\" fill-rule=\"evenodd\" fill-opacity=\"1\" /><path clip-path=\"url(#clip210)\" d=\"M890.217 521.6 L908.573 521.6 L908.573 525.535 L894.499 525.535 L894.499 534.007 Q895.518 533.66 896.536 533.498 Q897.555 533.313 898.573 533.313 Q904.36 533.313 907.74 536.484 Q911.12 539.655 911.12 545.072 Q911.12 550.651 907.647 553.752 Q904.175 556.831 897.856 556.831 Q895.68 556.831 893.411 556.461 Q891.166 556.09 888.759 555.35 L888.759 550.651 Q890.842 551.785 893.064 552.34 Q895.286 552.896 897.763 552.896 Q901.768 552.896 904.106 550.79 Q906.444 548.683 906.444 545.072 Q906.444 541.461 904.106 539.354 Q901.768 537.248 897.763 537.248 Q895.888 537.248 894.013 537.665 Q892.161 538.081 890.217 538.961 L890.217 521.6 Z\" fill=\"#000000\" fill-rule=\"evenodd\" fill-opacity=\"1\" /><path clip-path=\"url(#clip210)\" d=\"M930.332 524.679 Q926.721 524.679 924.893 528.243 Q923.087 531.785 923.087 538.915 Q923.087 546.021 924.893 549.586 Q926.721 553.127 930.332 553.127 Q933.967 553.127 935.772 549.586 Q937.601 546.021 937.601 538.915 Q937.601 531.785 935.772 528.243 Q933.967 524.679 930.332 524.679 M930.332 520.975 Q936.143 520.975 939.198 525.581 Q942.277 530.165 942.277 538.915 Q942.277 547.641 939.198 552.248 Q936.143 556.831 930.332 556.831 Q924.522 556.831 921.444 552.248 Q918.388 547.641 918.388 538.915 Q918.388 530.165 921.444 525.581 Q924.522 520.975 930.332 520.975 Z\" fill=\"#000000\" fill-rule=\"evenodd\" fill-opacity=\"1\" /><path clip-path=\"url(#clip210)\" d=\"M1006.01 537.526 Q1009.37 538.243 1011.24 540.512 Q1013.14 542.78 1013.14 546.114 Q1013.14 551.229 1009.62 554.03 Q1006.11 556.831 999.624 556.831 Q997.448 556.831 995.133 556.391 Q992.841 555.975 990.388 555.118 L990.388 550.604 Q992.332 551.739 994.647 552.317 Q996.962 552.896 999.485 552.896 Q1003.88 552.896 1006.17 551.16 Q1008.49 549.424 1008.49 546.114 Q1008.49 543.058 1006.34 541.345 Q1004.21 539.609 1000.39 539.609 L996.36 539.609 L996.36 535.766 L1000.57 535.766 Q1004.02 535.766 1005.85 534.401 Q1007.68 533.012 1007.68 530.419 Q1007.68 527.757 1005.78 526.345 Q1003.91 524.91 1000.39 524.91 Q998.466 524.91 996.267 525.327 Q994.068 525.743 991.429 526.623 L991.429 522.456 Q994.091 521.716 996.406 521.345 Q998.744 520.975 1000.8 520.975 Q1006.13 520.975 1009.23 523.405 Q1012.33 525.813 1012.33 529.933 Q1012.33 532.804 1010.69 534.794 Q1009.04 536.762 1006.01 537.526 Z\" fill=\"#000000\" fill-rule=\"evenodd\" fill-opacity=\"1\" /><path clip-path=\"url(#clip210)\" d=\"M1022.01 550.28 L1026.89 550.28 L1026.89 556.16 L1022.01 556.16 L1022.01 550.28 Z\" fill=\"#000000\" fill-rule=\"evenodd\" fill-opacity=\"1\" /><path clip-path=\"url(#clip210)\" d=\"M1035.9 521.6 L1058.12 521.6 L1058.12 523.591 L1045.57 556.16 L1040.69 556.16 L1052.49 525.535 L1035.9 525.535 L1035.9 521.6 Z\" fill=\"#000000\" fill-rule=\"evenodd\" fill-opacity=\"1\" /><path clip-path=\"url(#clip210)\" d=\"M1067.29 521.6 L1085.64 521.6 L1085.64 525.535 L1071.57 525.535 L1071.57 534.007 Q1072.59 533.66 1073.6 533.498 Q1074.62 533.313 1075.64 533.313 Q1081.43 533.313 1084.81 536.484 Q1088.19 539.655 1088.19 545.072 Q1088.19 550.651 1084.72 553.752 Q1081.24 556.831 1074.92 556.831 Q1072.75 556.831 1070.48 556.461 Q1068.23 556.09 1065.83 555.35 L1065.83 550.651 Q1067.91 551.785 1070.13 552.34 Q1072.35 552.896 1074.83 552.896 Q1078.84 552.896 1081.17 550.79 Q1083.51 548.683 1083.51 545.072 Q1083.51 541.461 1081.17 539.354 Q1078.84 537.248 1074.83 537.248 Q1072.96 537.248 1071.08 537.665 Q1069.23 538.081 1067.29 538.961 L1067.29 521.6 Z\" fill=\"#000000\" fill-rule=\"evenodd\" fill-opacity=\"1\" /><polyline clip-path=\"url(#clip212)\" style=\"stroke:#000000; stroke-linecap:butt; stroke-linejoin:round; stroke-width:2; stroke-opacity:0.1; fill:none\" points=\"\n  100.177,492.13 1152.76,492.13 \n  \"/>\n<polyline clip-path=\"url(#clip212)\" style=\"stroke:#000000; stroke-linecap:butt; stroke-linejoin:round; stroke-width:2; stroke-opacity:0.1; fill:none\" points=\"\n  100.177,390.705 1152.76,390.705 \n  \"/>\n<polyline clip-path=\"url(#clip212)\" style=\"stroke:#000000; stroke-linecap:butt; stroke-linejoin:round; stroke-width:2; stroke-opacity:0.1; fill:none\" points=\"\n  100.177,289.28 1152.76,289.28 \n  \"/>\n<polyline clip-path=\"url(#clip212)\" style=\"stroke:#000000; stroke-linecap:butt; stroke-linejoin:round; stroke-width:2; stroke-opacity:0.1; fill:none\" points=\"\n  100.177,187.855 1152.76,187.855 \n  \"/>\n<polyline clip-path=\"url(#clip212)\" style=\"stroke:#000000; stroke-linecap:butt; stroke-linejoin:round; stroke-width:2; stroke-opacity:0.1; fill:none\" points=\"\n  100.177,86.4301 1152.76,86.4301 \n  \"/>\n<polyline clip-path=\"url(#clip210)\" style=\"stroke:#000000; stroke-linecap:butt; stroke-linejoin:round; stroke-width:4; stroke-opacity:1; fill:none\" points=\"\n  100.177,505.088 100.177,47.2441 \n  \"/>\n<polyline clip-path=\"url(#clip210)\" style=\"stroke:#000000; stroke-linecap:butt; stroke-linejoin:round; stroke-width:4; stroke-opacity:1; fill:none\" points=\"\n  100.177,492.13 112.808,492.13 \n  \"/>\n<polyline clip-path=\"url(#clip210)\" style=\"stroke:#000000; stroke-linecap:butt; stroke-linejoin:round; stroke-width:4; stroke-opacity:1; fill:none\" points=\"\n  100.177,390.705 112.808,390.705 \n  \"/>\n<polyline clip-path=\"url(#clip210)\" style=\"stroke:#000000; stroke-linecap:butt; stroke-linejoin:round; stroke-width:4; stroke-opacity:1; fill:none\" points=\"\n  100.177,289.28 112.808,289.28 \n  \"/>\n<polyline clip-path=\"url(#clip210)\" style=\"stroke:#000000; stroke-linecap:butt; stroke-linejoin:round; stroke-width:4; stroke-opacity:1; fill:none\" points=\"\n  100.177,187.855 112.808,187.855 \n  \"/>\n<polyline clip-path=\"url(#clip210)\" style=\"stroke:#000000; stroke-linecap:butt; stroke-linejoin:round; stroke-width:4; stroke-opacity:1; fill:none\" points=\"\n  100.177,86.4301 112.808,86.4301 \n  \"/>\n<path clip-path=\"url(#clip210)\" d=\"M70.2328 477.929 Q66.6217 477.929 64.793 481.494 Q62.9875 485.035 62.9875 492.165 Q62.9875 499.271 64.793 502.836 Q66.6217 506.378 70.2328 506.378 Q73.867 506.378 75.6726 502.836 Q77.5013 499.271 77.5013 492.165 Q77.5013 485.035 75.6726 481.494 Q73.867 477.929 70.2328 477.929 M70.2328 474.225 Q76.0429 474.225 79.0985 478.831 Q82.1772 483.415 82.1772 492.165 Q82.1772 500.892 79.0985 505.498 Q76.0429 510.081 70.2328 510.081 Q64.4226 510.081 61.344 505.498 Q58.2884 500.892 58.2884 492.165 Q58.2884 483.415 61.344 478.831 Q64.4226 474.225 70.2328 474.225 Z\" fill=\"#000000\" fill-rule=\"evenodd\" fill-opacity=\"1\" /><path clip-path=\"url(#clip210)\" d=\"M65.8578 404.05 L82.1772 404.05 L82.1772 407.985 L60.2328 407.985 L60.2328 404.05 Q62.8949 401.295 67.4782 396.666 Q72.0846 392.013 73.2652 390.67 Q75.5105 388.147 76.3902 386.411 Q77.2929 384.652 77.2929 382.962 Q77.2929 380.207 75.3485 378.471 Q73.4272 376.735 70.3254 376.735 Q68.1263 376.735 65.6726 377.499 Q63.2421 378.263 60.4643 379.814 L60.4643 375.092 Q63.2884 373.957 65.7421 373.379 Q68.1958 372.8 70.2328 372.8 Q75.6031 372.8 78.7976 375.485 Q81.992 378.17 81.992 382.661 Q81.992 384.791 81.1818 386.712 Q80.3948 388.61 78.2883 391.203 Q77.7096 391.874 74.6078 395.092 Q71.5059 398.286 65.8578 404.05 Z\" fill=\"#000000\" fill-rule=\"evenodd\" fill-opacity=\"1\" /><path clip-path=\"url(#clip210)\" d=\"M72.5939 276.074 L60.7884 294.523 L72.5939 294.523 L72.5939 276.074 M71.367 272 L77.2466 272 L77.2466 294.523 L82.1772 294.523 L82.1772 298.412 L77.2466 298.412 L77.2466 306.56 L72.5939 306.56 L72.5939 298.412 L56.9921 298.412 L56.9921 293.898 L71.367 272 Z\" fill=\"#000000\" fill-rule=\"evenodd\" fill-opacity=\"1\" /><path clip-path=\"url(#clip210)\" d=\"M70.6495 185.992 Q67.5013 185.992 65.6495 188.144 Q63.8208 190.297 63.8208 194.047 Q63.8208 197.774 65.6495 199.95 Q67.5013 202.103 70.6495 202.103 Q73.7976 202.103 75.6263 199.95 Q77.4781 197.774 77.4781 194.047 Q77.4781 190.297 75.6263 188.144 Q73.7976 185.992 70.6495 185.992 M79.9318 171.339 L79.9318 175.598 Q78.1726 174.765 76.367 174.325 Q74.5846 173.885 72.8254 173.885 Q68.1958 173.885 65.7421 177.01 Q63.3115 180.135 62.9643 186.455 Q64.33 184.441 66.3902 183.376 Q68.4504 182.288 70.9272 182.288 Q76.1355 182.288 79.1448 185.459 Q82.1772 188.607 82.1772 194.047 Q82.1772 199.371 79.029 202.589 Q75.8809 205.806 70.6495 205.806 Q64.6541 205.806 61.4828 201.223 Q58.3116 196.617 58.3116 187.89 Q58.3116 179.695 62.2004 174.834 Q66.0893 169.95 72.6402 169.95 Q74.3994 169.95 76.1818 170.297 Q77.9874 170.645 79.9318 171.339 Z\" fill=\"#000000\" fill-rule=\"evenodd\" fill-opacity=\"1\" /><path clip-path=\"url(#clip210)\" d=\"M70.3254 87.2981 Q66.9921 87.2981 65.0708 89.0805 Q63.1726 90.8629 63.1726 93.9879 Q63.1726 97.1129 65.0708 98.8953 Q66.9921 100.678 70.3254 100.678 Q73.6587 100.678 75.58 98.8953 Q77.5013 97.0898 77.5013 93.9879 Q77.5013 90.8629 75.58 89.0805 Q73.6819 87.2981 70.3254 87.2981 M65.6495 85.3074 Q62.6402 84.5667 60.9504 82.5065 Q59.2838 80.4463 59.2838 77.4834 Q59.2838 73.3399 62.2236 70.9325 Q65.1865 68.5251 70.3254 68.5251 Q75.4874 68.5251 78.4272 70.9325 Q81.367 73.3399 81.367 77.4834 Q81.367 80.4463 79.6772 82.5065 Q78.0105 84.5667 75.0244 85.3074 Q78.404 86.0944 80.279 88.3861 Q82.1772 90.6778 82.1772 93.9879 Q82.1772 99.011 79.0985 101.696 Q76.0429 104.381 70.3254 104.381 Q64.6078 104.381 61.5291 101.696 Q58.4736 99.011 58.4736 93.9879 Q58.4736 90.6778 60.3717 88.3861 Q62.2699 86.0944 65.6495 85.3074 M63.9365 77.9232 Q63.9365 80.6084 65.6032 82.113 Q67.293 83.6176 70.3254 83.6176 Q73.3346 83.6176 75.0244 82.113 Q76.7374 80.6084 76.7374 77.9232 Q76.7374 75.238 75.0244 73.7334 Q73.3346 72.2288 70.3254 72.2288 Q67.293 72.2288 65.6032 73.7334 Q63.9365 75.238 63.9365 77.9232 Z\" fill=\"#000000\" fill-rule=\"evenodd\" fill-opacity=\"1\" /><polyline clip-path=\"url(#clip212)\" style=\"stroke:#009af9; stroke-linecap:butt; stroke-linejoin:round; stroke-width:4; stroke-opacity:1; fill:none\" points=\"\n  129.967,492.13 229.394,456.979 423.431,436.417 598.229,421.828 603.047,410.511 681.251,401.265 729.096,393.448 743.33,386.676 749.642,380.703 766.711,375.36 \n  769.209,370.527 785.489,366.114 788.75,362.055 794.967,358.297 795.776,354.798 797.073,351.525 797.099,348.451 800.303,345.552 806.111,342.81 808.472,340.209 \n  809.263,337.735 810.512,335.376 813.24,333.121 813.7,330.963 816.72,328.893 822.552,326.904 827.267,324.99 827.569,323.146 830.408,321.366 831.127,319.647 \n  831.928,317.984 837.092,316.374 839.2,314.813 841.182,313.3 842.6,311.829 843.587,310.401 844.505,309.011 847.012,307.659 848.227,306.342 850.481,305.058 \n  852.063,303.806 852.088,302.583 852.619,301.39 853.042,300.224 853.456,299.085 855.476,297.97 857.113,296.879 857.333,295.812 858.134,294.766 859.418,293.742 \n  862.655,292.737 862.895,291.753 863.286,290.787 867.656,289.839 868.671,288.908 870.572,287.994 870.939,287.097 873.149,286.215 873.768,285.348 873.956,284.496 \n  874.003,283.657 874.704,282.833 876.042,282.021 877.248,281.223 877.353,280.436 877.596,279.662 877.926,278.9 877.958,278.148 878.417,277.408 882.002,276.678 \n  882.589,275.959 883.269,275.25 884.497,274.55 884.609,273.86 885.756,273.179 889,272.508 889.889,271.845 890.181,271.19 890.655,270.544 892.009,269.907 \n  892.357,269.277 892.567,268.654 892.848,268.04 893.188,267.432 893.901,266.832 894.25,266.239 895.269,265.653 896.439,265.073 896.86,264.5 898.635,263.933 \n  899.046,263.373 899.541,262.819 901.329,262.271 901.462,261.728 902.344,261.192 903.974,260.661 903.999,260.135 904.353,259.615 905.177,259.1 905.673,258.59 \n  906.274,258.086 906.416,257.586 907.418,257.091 908.006,256.601 908.544,256.116 908.987,255.635 909.02,255.159 909.782,254.687 909.885,254.22 910.793,253.757 \n  910.894,253.298 912.417,252.843 912.71,252.392 912.808,251.946 914.06,251.503 915.681,251.064 916.078,250.628 917.411,250.197 917.791,249.769 918.226,249.344 \n  919.12,248.924 919.178,248.506 919.577,248.092 919.793,247.682 920.949,247.274 921.128,246.87 921.861,246.469 922.13,246.071 922.238,245.677 922.954,245.285 \n  923.917,244.897 924.504,244.511 924.967,244.128 925.022,243.748 925.185,243.371 925.335,242.997 925.546,242.626 925.622,242.257 926.505,241.891 926.562,241.527 \n  926.839,241.166 928.302,240.808 930.056,240.452 930.079,240.098 930.396,239.747 930.626,239.399 930.634,239.053 930.711,238.709 934.496,238.367 934.771,238.028 \n  935.063,237.691 935.193,237.357 935.39,237.024 935.911,236.694 936.12,236.365 936.412,236.039 936.758,235.715 936.793,235.393 937.507,235.073 938.392,234.755 \n  938.652,234.439 938.686,234.125 938.757,233.813 939.382,233.503 939.551,233.195 939.613,232.888 940.511,232.584 940.569,232.281 940.632,231.98 940.66,231.681 \n  941.018,231.383 941.464,231.088 941.57,230.794 941.963,230.501 942.172,230.211 942.606,229.922 942.668,229.635 942.691,229.349 942.852,229.065 943.081,228.782 \n  943.645,228.501 943.88,228.222 944.06,227.944 944.178,227.668 944.359,227.393 944.401,227.119 944.499,226.847 944.864,226.577 945.227,226.308 945.321,226.04 \n  945.382,225.774 945.642,225.509 945.793,225.246 946.54,224.984 946.835,224.723 946.922,224.464 946.923,224.206 947.72,223.949 947.723,223.693 948.26,223.439 \n  948.324,223.186 948.389,222.935 948.516,222.684 948.632,222.435 949.086,222.187 949.301,221.94 949.432,221.695 949.719,221.45 950.138,221.207 950.555,220.965 \n  950.943,220.724 951.016,220.484 951.479,220.246 951.925,220.008 951.978,219.772 952.26,219.536 952.795,219.302 952.976,219.069 953.18,218.837 953.873,218.606 \n  953.915,218.376 954.102,218.147 954.756,217.919 955.177,217.692 955.924,217.466 956.246,217.241 956.66,217.017 956.86,216.794 957.347,216.572 957.531,216.351 \n  957.821,216.131 958.09,215.912 958.196,215.694 958.716,215.477 959.063,215.261 959.583,215.046 959.632,214.831 959.73,214.618 959.852,214.405 959.887,214.193 \n  960.257,213.982 960.783,213.772 961.108,213.563 961.182,213.355 961.506,213.148 961.749,212.941 961.809,212.735 961.811,212.53 961.828,212.326 961.992,212.123 \n  962.168,211.921 962.643,211.719 962.712,211.518 962.789,211.318 963.139,211.119 963.161,210.92 963.23,210.723 963.257,210.526 963.829,210.329 964.132,210.134 \n  964.315,209.939 964.576,209.745 964.586,209.552 964.752,209.36 964.753,209.168 965.06,208.977 965.42,208.787 965.674,208.597 966.135,208.408 966.24,208.22 \n  966.331,208.033 966.339,207.846 966.645,207.66 966.725,207.474 966.913,207.29 967.042,207.105 967.227,206.922 967.301,206.739 967.33,206.557 967.396,206.376 \n  968.214,206.195 968.266,206.015 968.387,205.835 968.387,205.656 968.512,205.478 969.22,205.301 969.28,205.124 969.801,204.947 969.832,204.771 971.012,204.596 \n  971.105,204.422 971.211,204.248 971.494,204.074 971.606,203.902 971.671,203.729 971.672,203.558 971.875,203.387 971.973,203.216 972.228,203.046 972.527,202.877 \n  973.337,202.708 973.502,202.54 973.744,202.372 973.813,202.205 973.918,202.039 973.969,201.873 974.033,201.707 974.091,201.542 974.259,201.378 974.424,201.214 \n  974.487,201.051 974.616,200.888 974.97,200.726 975.208,200.564 975.659,200.403 975.691,200.242 975.732,200.082 975.95,199.922 976.175,199.763 976.916,199.604 \n  977.383,199.446 977.396,199.288 977.414,199.131 977.435,198.974 977.883,198.818 977.921,198.662 978.059,198.507 978.096,198.352 978.352,198.197 978.587,198.044 \n  978.598,197.89 978.885,197.737 979.29,197.585 979.723,197.433 980.617,197.281 980.629,197.13 980.686,196.979 980.742,196.829 981.38,196.679 981.568,196.53 \n  981.644,196.381 981.746,196.232 982.153,196.084 982.438,195.937 982.531,195.789 982.553,195.643 982.673,195.496 983.056,195.35 983.218,195.205 983.297,195.06 \n  983.453,194.915 983.457,194.771 983.458,194.627 983.981,194.483 984.101,194.34 984.287,194.198 984.329,194.055 984.62,193.914 984.629,193.772 984.981,193.631 \n  985.121,193.49 985.336,193.35 985.392,193.21 985.459,193.071 985.47,192.932 986.213,192.793 986.602,192.654 986.721,192.516 987.679,192.379 987.756,192.242 \n  987.79,192.105 987.918,191.968 988.184,191.832 988.206,191.696 988.275,191.561 988.408,191.426 988.498,191.291 988.531,191.157 988.587,191.023 988.614,190.889 \n  988.649,190.756 988.658,190.623 988.686,190.49 988.787,190.358 988.844,190.226 988.845,190.095 988.875,189.963 989.035,189.833 989.196,189.702 989.424,189.572 \n  989.589,189.442 989.853,189.312 989.931,189.183 990.136,189.054 990.326,188.926 990.534,188.798 990.578,188.67 990.672,188.542 990.682,188.415 990.693,188.288 \n  990.869,188.161 990.915,188.035 990.944,187.909 991.067,187.783 991.087,187.658 991.156,187.533 991.287,187.408 991.37,187.284 991.46,187.16 991.609,187.036 \n  991.722,186.912 991.737,186.789 991.797,186.666 991.981,186.543 992.21,186.421 992.36,186.299 992.411,186.177 992.529,186.056 993.154,185.935 993.23,185.814 \n  993.252,185.693 993.63,185.573 993.777,185.453 993.927,185.333 994.151,185.214 994.229,185.094 994.517,184.975 994.639,184.857 994.721,184.738 994.77,184.62 \n  994.889,184.503 994.906,184.385 994.947,184.268 994.987,184.151 995.011,184.034 995.293,183.918 995.362,183.801 995.368,183.686 995.491,183.57 995.69,183.455 \n  995.771,183.339 996.036,183.225 996.074,183.11 996.122,182.996 996.264,182.881 996.472,182.768 996.489,182.654 996.83,182.541 997.237,182.428 997.254,182.315 \n  997.294,182.202 997.469,182.09 997.783,181.978 997.882,181.866 998,181.754 998.103,181.643 998.223,181.532 998.226,181.421 998.629,181.311 998.658,181.2 \n  998.802,181.09 999.058,180.98 999.274,180.871 999.368,180.761 999.473,180.652 999.731,180.543 999.81,180.434 1000.29,180.326 1000.42,180.218 1000.6,180.11 \n  1000.64,180.002 1000.67,179.894 1000.89,179.787 1000.92,179.68 1000.97,179.573 1001.11,179.466 1001.63,179.36 1001.74,179.254 1001.81,179.148 1001.92,179.042 \n  1001.97,178.936 1002.03,178.831 1002.07,178.726 1002.11,178.621 1002.18,178.516 1002.32,178.412 1002.33,178.308 1002.53,178.204 1002.62,178.1 1002.63,177.996 \n  1002.83,177.893 1003.28,177.79 1003.3,177.687 1003.34,177.584 1003.36,177.481 1003.37,177.379 1003.45,177.277 1003.55,177.175 1003.56,177.073 1003.62,176.972 \n  1003.62,176.87 1003.77,176.769 1003.98,176.668 1003.98,176.568 1004.06,176.467 1004.24,176.367 1004.3,176.267 1004.35,176.167 1004.36,176.067 1004.45,175.968 \n  1004.91,175.868 1005.04,175.769 1005.06,175.67 1005.27,175.571 1005.4,175.473 1005.43,175.374 1005.44,175.276 1005.67,175.178 1005.75,175.08 1005.92,174.983 \n  1005.94,174.885 1006.03,174.788 1006.42,174.691 1006.63,174.594 1006.63,174.497 1006.64,174.401 1006.67,174.305 1006.71,174.209 1006.75,174.113 1006.77,174.017 \n  1006.82,173.921 1006.83,173.826 1006.84,173.731 1007.02,173.636 1007.15,173.541 1007.36,173.446 1007.37,173.351 1007.43,173.257 1007.43,173.163 1007.44,173.069 \n  1007.51,172.975 1007.6,172.881 1007.77,172.788 1007.98,172.695 1008.06,172.601 1008.16,172.509 1008.22,172.416 1008.3,172.323 1008.32,172.231 1008.57,172.138 \n  1008.6,172.046 1008.74,171.954 1008.77,171.862 1008.78,171.771 1008.79,171.679 1008.82,171.588 1008.86,171.497 1008.89,171.406 1008.9,171.315 1008.95,171.225 \n  1008.99,171.134 1009.11,171.044 1009.33,170.954 1009.48,170.864 1009.51,170.774 1009.75,170.684 1009.78,170.595 1009.92,170.505 1009.96,170.416 1010.49,170.327 \n  1010.61,170.238 1010.83,170.149 1011.08,170.061 1011.12,169.972 1011.3,169.884 1011.33,169.796 1011.72,169.708 1011.91,169.62 1011.97,169.533 1012.02,169.445 \n  1012.19,169.358 1012.25,169.27 1012.33,169.183 1012.35,169.096 1012.44,169.01 1012.46,168.923 1012.53,168.837 1012.58,168.75 1012.61,168.664 1012.65,168.578 \n  1012.72,168.492 1012.92,168.407 1012.94,168.321 1012.97,168.235 1013.03,168.15 1013.05,168.065 1013.15,167.98 1013.19,167.895 1013.25,167.81 1013.27,167.726 \n  1013.36,167.641 1013.39,167.557 1013.44,167.473 1013.45,167.389 1013.47,167.305 1013.53,167.221 1013.54,167.138 1013.56,167.054 1013.6,166.971 1013.71,166.888 \n  1013.75,166.804 1013.83,166.722 1013.91,166.639 1014.16,166.556 1014.2,166.474 1014.22,166.391 1014.34,166.309 1014.34,166.227 1014.4,166.145 1014.55,166.063 \n  1014.68,165.981 1014.73,165.9 1014.9,165.818 1014.92,165.737 1015.11,165.656 1015.23,165.575 1015.25,165.494 1015.32,165.413 1015.34,165.332 1015.37,165.252 \n  1015.56,165.171 1015.58,165.091 1015.66,165.011 1015.77,164.931 1016.17,164.851 1016.19,164.771 1016.29,164.691 1016.4,164.612 1016.56,164.532 1016.59,164.453 \n  1016.6,164.374 1016.67,164.295 1016.8,164.216 1017.26,164.137 1017.41,164.058 1017.47,163.98 1017.52,163.901 1017.61,163.823 1017.65,163.745 1017.8,163.667 \n  1017.83,163.589 1017.84,163.511 1017.98,163.433 1018.11,163.355 1018.11,163.278 1018.19,163.201 1018.24,163.123 1018.24,163.046 1018.3,162.969 1018.4,162.892 \n  1018.53,162.816 1018.54,162.739 1018.61,162.662 1018.65,162.586 1018.66,162.51 1018.67,162.433 1018.69,162.357 1018.89,162.281 1018.92,162.206 1018.97,162.13 \n  1018.97,162.054 1019.16,161.979 1019.18,161.903 1019.21,161.828 1019.25,161.753 1019.48,161.678 1019.51,161.603 1019.52,161.528 1019.79,161.453 1019.82,161.378 \n  1020.12,161.304 1020.14,161.23 1020.18,161.155 1020.21,161.081 1020.57,161.007 1020.62,160.933 1020.82,160.859 1020.83,160.785 1020.84,160.712 1020.94,160.638 \n  1021.1,160.565 1021.14,160.491 1021.37,160.418 1021.4,160.345 1021.41,160.272 1021.48,160.199 1021.62,160.126 1021.66,160.054 1021.67,159.981 1021.68,159.908 \n  1021.7,159.836 1021.72,159.764 1021.73,159.692 1021.83,159.619 1021.86,159.547 1021.9,159.476 1021.92,159.404 1022.22,159.332 1022.32,159.261 1022.33,159.189 \n  1022.39,159.118 1022.4,159.046 1022.41,158.975 1022.47,158.904 1022.51,158.833 1022.53,158.762 1022.54,158.692 1022.6,158.621 1022.65,158.55 1022.67,158.48 \n  1022.75,158.409 1022.76,158.339 1022.82,158.269 1022.83,158.199 1022.87,158.129 1022.93,158.059 1022.94,157.989 1022.95,157.919 1022.99,157.85 1023.14,157.78 \n  1023.36,157.711 1023.47,157.642 1023.53,157.572 1023.64,157.503 1023.7,157.434 1023.71,157.365 1023.77,157.296 1023.79,157.228 1023.98,157.159 1023.98,157.09 \n  1024,157.022 1024.05,156.953 1024.21,156.885 1024.39,156.817 1024.47,156.749 1024.47,156.681 1024.52,156.613 1024.54,156.545 1024.56,156.477 1024.74,156.41 \n  1024.8,156.342 1024.96,156.275 1024.96,156.207 1025.01,156.14 1025.01,156.073 1025.03,156.006 1025.13,155.938 1025.25,155.872 1025.29,155.805 1025.42,155.738 \n  1025.5,155.671 1025.5,155.605 1025.61,155.538 1025.62,155.472 1025.63,155.405 1025.67,155.339 1025.73,155.273 1025.8,155.207 1026.03,155.141 1026.16,155.075 \n  1026.28,155.009 1026.36,154.943 1026.41,154.878 1026.53,154.812 1026.55,154.747 1026.59,154.681 1026.61,154.616 1026.66,154.551 1026.66,154.486 1026.67,154.421 \n  1026.71,154.356 1026.72,154.291 1026.77,154.226 1026.81,154.161 1026.84,154.097 1026.86,154.032 1026.87,153.968 1027.06,153.903 1027.09,153.839 1027.16,153.775 \n  1027.23,153.71 1027.29,153.646 1027.36,153.582 1027.36,153.518 1027.46,153.455 1027.46,153.391 1027.5,153.327 1027.52,153.264 1027.58,153.2 1027.74,153.137 \n  1027.92,153.073 1027.97,153.01 1028.04,152.947 1028.05,152.884 1028.25,152.821 1028.28,152.758 1028.29,152.695 1028.4,152.632 1028.44,152.569 1028.51,152.507 \n  1028.66,152.444 1028.81,152.382 1028.83,152.319 1028.94,152.257 1029.1,152.195 1029.11,152.132 1029.12,152.07 1029.22,152.008 1029.38,151.946 1029.44,151.884 \n  1029.49,151.823 1029.5,151.761 1029.52,151.699 1029.53,151.638 1029.6,151.576 1029.73,151.515 1029.87,151.453 1030.08,151.392 1030.16,151.331 1030.26,151.27 \n  1030.3,151.209 1030.6,151.148 1030.64,151.087 1030.7,151.026 1030.76,150.965 1030.81,150.905 1030.82,150.844 1030.85,150.783 1030.87,150.723 1030.89,150.662 \n  1031.02,150.602 1031.12,150.542 1031.12,150.482 1031.31,150.422 1031.32,150.361 1031.39,150.301 1031.39,150.242 1031.55,150.182 1031.71,150.122 1031.74,150.062 \n  1032.19,150.003 1032.43,149.943 1032.44,149.884 1032.45,149.824 1032.53,149.765 1032.55,149.706 1032.57,149.646 1032.59,149.587 1032.61,149.528 1032.67,149.469 \n  1032.68,149.41 1033.13,149.351 1033.17,149.293 1033.3,149.234 1033.33,149.175 1033.49,149.117 1033.59,149.058 1033.63,149 1033.65,148.941 1033.7,148.883 \n  1033.7,148.825 1033.89,148.766 1034.03,148.708 1034.17,148.65 1034.19,148.592 1034.29,148.534 1034.47,148.476 1034.49,148.419 1034.53,148.361 1034.6,148.303 \n  1034.63,148.246 1034.63,148.188 1034.71,148.131 1034.91,148.073 1034.97,148.016 1035.01,147.959 1035.05,147.901 1035.1,147.844 1035.13,147.787 1035.13,147.73 \n  1035.36,147.673 1035.38,147.616 1035.4,147.56 1035.49,147.503 1035.52,147.446 1035.52,147.39 1035.65,147.333 1035.69,147.276 1035.69,147.22 1035.73,147.164 \n  1035.79,147.107 1035.87,147.051 1035.88,146.995 1036.17,146.939 1036.35,146.883 1036.42,146.827 1036.48,146.771 1036.55,146.715 1036.64,146.659 1036.64,146.603 \n  1036.72,146.548 1036.87,146.492 1036.88,146.436 1036.92,146.381 1036.98,146.325 1037.04,146.27 1037.1,146.215 1037.23,146.159 1037.28,146.104 1037.37,146.049 \n  1037.48,145.994 1037.52,145.939 1037.59,145.884 1037.66,145.829 1037.67,145.774 1037.69,145.719 1037.73,145.665 1037.73,145.61 1037.79,145.555 1037.79,145.501 \n  1037.91,145.446 1037.93,145.392 1038,145.337 1038.08,145.283 1038.13,145.229 1038.14,145.175 1038.14,145.121 1038.15,145.066 1038.2,145.012 1038.23,144.958 \n  1038.29,144.904 1038.35,144.851 1038.43,144.797 1038.59,144.743 1038.61,144.689 1038.79,144.636 1038.84,144.582 1038.88,144.529 1039.01,144.475 1039.05,144.422 \n  1039.11,144.368 1039.27,144.315 1039.29,144.262 1039.34,144.209 1039.36,144.156 1039.39,144.102 1039.4,144.049 1039.65,143.996 1039.69,143.944 1039.71,143.891 \n  1039.71,143.838 1039.81,143.785 1039.86,143.733 1039.9,143.68 1039.92,143.627 1039.99,143.575 1040.01,143.522 1040.07,143.47 1040.08,143.418 1040.08,143.365 \n  1040.09,143.313 1040.13,143.261 1040.18,143.209 1040.28,143.157 1040.31,143.104 1040.31,143.052 1040.32,143.001 1040.33,142.949 1040.34,142.897 1040.38,142.845 \n  1040.45,142.793 1040.55,142.742 1040.65,142.69 1040.72,142.639 1040.73,142.587 1040.75,142.536 1040.81,142.484 1040.87,142.433 1040.9,142.381 1041,142.33 \n  1041.06,142.279 1041.08,142.228 1041.11,142.177 1041.11,142.126 1041.12,142.075 1041.24,142.024 1041.35,141.973 1041.35,141.922 1041.36,141.871 1041.37,141.821 \n  1041.4,141.77 1041.51,141.719 1041.55,141.669 1041.56,141.618 1041.57,141.568 1041.69,141.517 1041.69,141.467 1041.8,141.416 1041.8,141.366 1041.83,141.316 \n  1041.86,141.266 1041.89,141.216 1041.89,141.166 1041.96,141.115 1041.96,141.066 1041.99,141.016 1042.01,140.966 1042.13,140.916 1042.26,140.866 1042.35,140.816 \n  1042.42,140.767 1042.43,140.717 1042.54,140.667 1042.59,140.618 1042.63,140.568 1042.63,140.519 1042.65,140.469 1042.68,140.42 1042.71,140.371 1042.84,140.322 \n  1042.93,140.272 1042.99,140.223 1043,140.174 1043.01,140.125 1043.11,140.076 1043.14,140.027 1043.15,139.978 1043.16,139.929 1043.24,139.88 1043.29,139.832 \n  1043.32,139.783 1043.37,139.734 1043.38,139.685 1043.39,139.637 1043.48,139.588 1043.6,139.54 1043.68,139.491 1043.69,139.443 1043.73,139.395 1043.74,139.346 \n  1043.75,139.298 1043.78,139.25 1043.78,139.202 1043.82,139.153 1043.89,139.105 1044.01,139.057 1044.14,139.009 1044.25,138.961 1044.31,138.913 1044.43,138.866 \n  1044.44,138.818 1044.45,138.77 1044.5,138.722 1044.52,138.675 1044.66,138.627 1044.67,138.579 1044.75,138.532 1044.77,138.484 1044.85,138.437 1044.86,138.389 \n  1044.88,138.342 1044.98,138.295 1045,138.247 1045.13,138.2 1045.15,138.153 1045.17,138.106 1045.26,138.059 1045.27,138.012 1045.27,137.965 1045.27,137.918 \n  1045.39,137.871 1045.47,137.824 1045.53,137.777 1045.58,137.73 1045.59,137.683 1045.74,137.637 1045.75,137.59 1045.81,137.543 1045.83,137.497 1045.92,137.45 \n  1045.95,137.404 1046.03,137.357 1046.14,137.311 1046.19,137.264 1046.19,137.218 1046.26,137.172 1046.28,137.126 1046.33,137.079 1046.34,137.033 1046.37,136.987 \n  1046.4,136.941 1046.47,136.895 1046.48,136.849 1046.6,136.803 1046.64,136.757 1046.65,136.711 1046.67,136.665 1046.69,136.62 1046.72,136.574 1046.78,136.528 \n  1046.81,136.483 1046.83,136.437 1046.84,136.391 1046.85,136.346 1046.87,136.3 1046.9,136.255 1046.98,136.209 1046.99,136.164 1047,136.119 1047.07,136.073 \n  1047.07,136.028 1047.1,135.983 1047.22,135.938 1047.24,135.893 1047.28,135.847 1047.29,135.802 1047.3,135.757 1047.38,135.712 1047.39,135.667 1047.4,135.623 \n  1047.41,135.578 1047.48,135.533 1047.49,135.488 1047.54,135.443 1047.67,135.399 1047.69,135.354 1047.76,135.309 1047.78,135.265 1047.91,135.22 1048.02,135.176 \n  1048.04,135.131 1048.04,135.087 1048.19,135.042 1048.32,134.998 1048.62,134.954 1048.7,134.91 1048.77,134.865 1048.79,134.821 1048.81,134.777 1048.83,134.733 \n  1048.88,134.689 1048.93,134.645 1048.99,134.601 1048.99,134.557 1049.02,134.513 1049.11,134.469 1049.18,134.425 1049.21,134.381 1049.24,134.338 1049.32,134.294 \n  1049.42,134.25 1049.44,134.206 1049.48,134.163 1049.49,134.119 1049.52,134.076 1049.53,134.032 1049.66,133.989 1049.72,133.945 1049.75,133.902 1049.76,133.858 \n  1049.77,133.815 1049.78,133.772 1049.89,133.729 1049.9,133.685 1049.9,133.642 1050.27,133.599 1050.27,133.556 1050.28,133.513 1050.37,133.47 1050.39,133.427 \n  1050.52,133.384 1050.54,133.341 1050.6,133.298 1050.62,133.255 1050.67,133.212 1050.67,133.17 1050.72,133.127 1050.76,133.084 1050.78,133.042 1050.8,132.999 \n  1050.83,132.956 1050.87,132.914 1050.91,132.871 1051.01,132.829 1051.05,132.786 1051.12,132.744 1051.22,132.702 1051.28,132.659 1051.33,132.617 1051.45,132.575 \n  1051.47,132.532 1051.52,132.49 1051.56,132.448 1051.59,132.406 1051.63,132.364 1051.65,132.322 1051.7,132.28 1051.74,132.238 1051.84,132.196 1051.88,132.154 \n  1051.96,132.112 1052.05,132.07 1052.11,132.028 1052.14,131.986 1052.16,131.945 1052.26,131.903 1052.29,131.861 1052.31,131.82 1052.32,131.778 1052.32,131.736 \n  1052.33,131.695 1052.38,131.653 1052.43,131.612 1052.46,131.57 1052.53,131.529 1052.53,131.488 1052.58,131.446 1052.62,131.405 1052.64,131.364 1052.73,131.322 \n  1052.75,131.281 1052.79,131.24 1052.8,131.199 1052.81,131.158 1052.88,131.117 1052.88,131.076 1052.89,131.035 1053.06,130.994 1053.09,130.953 1053.19,130.912 \n  1053.29,130.871 1053.29,130.83 1053.39,130.789 1053.42,130.748 1053.43,130.708 1053.5,130.667 1053.52,130.626 1053.52,130.586 1053.57,130.545 1053.71,130.504 \n  1053.75,130.464 1053.77,130.423 1053.79,130.383 1053.8,130.342 1053.83,130.302 1053.87,130.262 1053.92,130.221 1053.95,130.181 1053.97,130.141 1053.98,130.1 \n  1054,130.06 1054.12,130.02 1054.12,129.98 1054.21,129.94 1054.24,129.899 1054.28,129.859 1054.31,129.819 1054.33,129.779 1054.41,129.739 1054.43,129.699 \n  1054.44,129.659 1054.51,129.62 1054.63,129.58 1054.63,129.54 1054.64,129.5 1054.64,129.46 1054.8,129.421 1054.81,129.381 1054.82,129.341 1054.85,129.302 \n  1054.88,129.262 1054.96,129.222 1054.97,129.183 1054.98,129.143 1054.98,129.104 1055.01,129.064 1055.1,129.025 1055.17,128.986 1055.17,128.946 1055.19,128.907 \n  1055.19,128.868 1055.21,128.828 1055.32,128.789 1055.35,128.75 1055.36,128.711 1055.37,128.672 1055.39,128.633 1055.42,128.593 1055.53,128.554 1055.54,128.515 \n  1055.58,128.476 1055.6,128.437 1055.68,128.399 1055.68,128.36 1055.72,128.321 1055.73,128.282 1055.75,128.243 1055.8,128.204 1055.85,128.166 1055.88,128.127 \n  1055.93,128.088 1056.08,128.049 1056.09,128.011 1056.13,127.972 1056.29,127.934 1056.29,127.895 1056.35,127.857 1056.38,127.818 1056.38,127.78 1056.54,127.741 \n  1056.57,127.703 1056.57,127.664 1056.58,127.626 1056.6,127.588 1056.63,127.549 1056.72,127.511 1056.74,127.473 1056.79,127.435 1056.8,127.397 1056.84,127.358 \n  1056.88,127.32 1056.88,127.282 1056.97,127.244 1057.04,127.206 1057.07,127.168 1057.1,127.13 1057.14,127.092 1057.16,127.054 1057.18,127.016 1057.2,126.979 \n  1057.23,126.941 1057.27,126.903 1057.29,126.865 1057.3,126.827 1057.3,126.79 1057.32,126.752 1057.34,126.714 1057.38,126.677 1057.51,126.639 1057.52,126.601 \n  1057.55,126.564 1057.56,126.526 1057.58,126.489 1057.59,126.451 1057.64,126.414 1057.7,126.377 1057.72,126.339 1057.79,126.302 1057.8,126.265 1057.8,126.227 \n  1057.8,126.19 1057.85,126.153 1057.87,126.115 1057.88,126.078 1057.89,126.041 1057.92,126.004 1058.01,125.967 1058.04,125.93 1058.05,125.893 1058.08,125.856 \n  1058.15,125.819 1058.19,125.782 1058.21,125.745 1058.23,125.708 1058.24,125.671 1058.24,125.634 1058.27,125.597 1058.36,125.56 1058.39,125.524 1058.39,125.487 \n  1058.4,125.45 1058.45,125.413 1058.45,125.377 1058.53,125.34 1058.56,125.303 1058.56,125.267 1058.61,125.23 1058.71,125.194 1058.72,125.157 1058.72,125.121 \n  1058.73,125.084 1058.74,125.048 1058.78,125.011 1058.78,124.975 1058.79,124.939 1058.79,124.902 1058.86,124.866 1058.87,124.83 1058.93,124.793 1058.94,124.757 \n  1059.04,124.721 1059.05,124.685 1059.05,124.649 1059.09,124.613 1059.09,124.576 1059.15,124.54 1059.29,124.504 1059.31,124.468 1059.42,124.432 1059.42,124.396 \n  1059.44,124.36 1059.51,124.324 1059.52,124.288 1059.52,124.253 1059.53,124.217 1059.6,124.181 1059.6,124.145 1059.64,124.109 1059.67,124.074 1059.72,124.038 \n  1059.84,124.002 1059.92,123.966 1059.92,123.931 1059.94,123.895 1059.95,123.86 1059.98,123.824 1059.99,123.788 1060,123.753 1060.05,123.717 1060.07,123.682 \n  1060.19,123.647 1060.25,123.611 1060.35,123.576 1060.39,123.54 1060.41,123.505 1060.42,123.47 1060.47,123.434 1060.49,123.399 1060.52,123.364 1060.52,123.329 \n  1060.64,123.293 1060.65,123.258 1060.69,123.223 1060.7,123.188 1060.82,123.153 1060.89,123.118 1060.92,123.083 1060.96,123.048 1060.98,123.013 1060.98,122.978 \n  1060.98,122.943 1061.03,122.908 1061.07,122.873 1061.07,122.838 1061.08,122.803 1061.08,122.768 1061.14,122.733 1061.2,122.699 1061.2,122.664 1061.23,122.629 \n  1061.24,122.594 1061.26,122.56 1061.29,122.525 1061.3,122.49 1061.36,122.456 1061.39,122.421 1061.56,122.387 1061.65,122.352 1061.67,122.317 1061.7,122.283 \n  1061.76,122.248 1061.76,122.214 1061.82,122.18 1061.86,122.145 1061.88,122.111 1061.94,122.076 1061.96,122.042 1062.04,122.008 1062.08,121.973 1062.1,121.939 \n  1062.14,121.905 1062.15,121.871 1062.19,121.836 1062.22,121.802 1062.35,121.768 1062.38,121.734 1062.46,121.7 1062.46,121.666 1062.47,121.632 1062.47,121.598 \n  1062.55,121.564 1062.57,121.53 1062.63,121.496 1062.66,121.462 1062.67,121.428 1062.7,121.394 1062.75,121.36 1062.75,121.326 1062.78,121.292 1062.82,121.258 \n  1062.85,121.225 1062.86,121.191 1062.93,121.157 1062.99,121.123 1063.01,121.09 1063.01,121.056 1063.13,121.022 1063.16,120.989 1063.22,120.955 1063.23,120.921 \n  1063.31,120.888 1063.33,120.854 1063.34,120.821 1063.37,120.787 1063.42,120.754 1063.44,120.72 1063.45,120.687 1063.46,120.653 1063.48,120.62 1063.61,120.587 \n  1063.65,120.553 1063.71,120.52 1063.72,120.487 1063.74,120.453 1063.74,120.42 1063.79,120.387 1063.79,120.354 1063.92,120.32 1063.92,120.287 1064.02,120.254 \n  1064.03,120.221 1064.03,120.188 1064.05,120.155 1064.07,120.122 1064.1,120.089 1064.13,120.056 1064.13,120.023 1064.13,119.99 1064.14,119.957 1064.16,119.924 \n  1064.28,119.891 1064.28,119.858 1064.33,119.825 1064.39,119.792 1064.43,119.759 1064.43,119.727 1064.49,119.694 1064.52,119.661 1064.61,119.628 1064.66,119.596 \n  1064.73,119.563 1064.84,119.53 1064.85,119.497 1064.86,119.465 1064.87,119.432 1064.89,119.4 1064.95,119.367 1065.07,119.334 1065.09,119.302 1065.12,119.269 \n  1065.12,119.237 1065.15,119.204 1065.17,119.172 1065.26,119.14 1065.26,119.107 1065.28,119.075 1065.47,119.042 1065.58,119.01 1065.74,118.978 1065.77,118.945 \n  1065.82,118.913 1065.88,118.881 1065.91,118.849 1065.92,118.816 1065.94,118.784 1065.95,118.752 1065.98,118.72 1066,118.688 1066.03,118.655 1066.04,118.623 \n  1066.06,118.591 1066.08,118.559 1066.15,118.527 1066.23,118.495 1066.25,118.463 1066.25,118.431 1066.27,118.399 1066.28,118.367 1066.34,118.335 1066.42,118.303 \n  1066.43,118.272 1066.53,118.24 1066.54,118.208 1066.58,118.176 1066.59,118.144 1066.59,118.112 1066.62,118.081 1066.63,118.049 1066.67,118.017 1066.68,117.985 \n  1066.68,117.954 1066.81,117.922 1066.84,117.89 1066.91,117.859 1066.94,117.827 1066.95,117.796 1066.98,117.764 1067.09,117.733 1067.15,117.701 1067.19,117.67 \n  1067.22,117.638 1067.26,117.607 1067.28,117.575 1067.41,117.544 1067.45,117.512 1067.49,117.481 1067.5,117.45 1067.5,117.418 1067.51,117.387 1067.54,117.356 \n  1067.6,117.324 1067.61,117.293 1067.67,117.262 1067.7,117.23 1067.71,117.199 1067.71,117.168 1067.79,117.137 1067.8,117.106 1067.81,117.075 1067.84,117.043 \n  1067.86,117.012 1067.87,116.981 1067.88,116.95 1067.93,116.919 1067.93,116.888 1067.95,116.857 1068.06,116.826 1068.06,116.795 1068.07,116.764 1068.08,116.733 \n  1068.2,116.702 1068.21,116.671 1068.23,116.641 1068.26,116.61 1068.26,116.579 1068.27,116.548 1068.29,116.517 1068.33,116.486 1068.34,116.456 1068.39,116.425 \n  1068.43,116.394 1068.44,116.364 1068.47,116.333 1068.49,116.302 1068.5,116.272 1068.51,116.241 1068.55,116.21 1068.61,116.18 1068.65,116.149 1068.65,116.119 \n  1068.74,116.088 1068.84,116.057 1068.9,116.027 1068.94,115.997 1069.01,115.966 1069.03,115.936 1069.04,115.905 1069.06,115.875 1069.11,115.844 1069.17,115.814 \n  1069.21,115.784 1069.28,115.753 1069.31,115.723 1069.33,115.693 1069.35,115.662 1069.37,115.632 1069.42,115.602 1069.45,115.572 1069.46,115.541 1069.55,115.511 \n  1069.57,115.481 1069.62,115.451 1069.64,115.421 1069.69,115.391 1069.7,115.361 1069.71,115.33 1069.72,115.3 1069.73,115.27 1069.73,115.24 1069.78,115.21 \n  1069.8,115.18 1069.81,115.15 1069.85,115.12 1069.89,115.09 1069.95,115.06 1070.02,115.031 1070.03,115.001 1070.07,114.971 1070.09,114.941 1070.16,114.911 \n  1070.19,114.881 1070.2,114.851 1070.23,114.822 1070.25,114.792 1070.37,114.762 1070.42,114.732 1070.45,114.703 1070.46,114.673 1070.48,114.643 1070.51,114.614 \n  1070.55,114.584 1070.6,114.554 1070.64,114.525 1070.65,114.495 1070.65,114.466 1070.71,114.436 1070.73,114.406 1070.78,114.377 1070.88,114.347 1070.9,114.318 \n  1070.93,114.288 1070.95,114.259 1070.95,114.23 1070.99,114.2 1070.99,114.171 1071.05,114.141 1071.06,114.112 1071.06,114.083 1071.06,114.053 1071.09,114.024 \n  1071.1,113.995 1071.1,113.965 1071.2,113.936 1071.31,113.907 1071.43,113.878 1071.56,113.848 1071.57,113.819 1071.63,113.79 1071.64,113.761 1071.65,113.732 \n  1071.69,113.703 1071.72,113.673 1071.76,113.644 1071.77,113.615 1071.78,113.586 1071.8,113.557 1071.8,113.528 1071.82,113.499 1071.87,113.47 1071.88,113.441 \n  1071.91,113.412 1071.92,113.383 1071.96,113.354 1071.97,113.325 1072.04,113.296 1072.06,113.267 1072.07,113.239 1072.08,113.21 1072.13,113.181 1072.19,113.152 \n  1072.21,113.123 1072.25,113.094 1072.26,113.066 1072.27,113.037 1072.31,113.008 1072.33,112.979 1072.36,112.951 1072.36,112.922 1072.39,112.893 1072.4,112.865 \n  1072.43,112.836 1072.44,112.807 1072.46,112.779 1072.58,112.75 1072.59,112.722 1072.6,112.693 1072.63,112.665 1072.66,112.636 1072.68,112.608 1072.71,112.579 \n  1072.74,112.551 1072.77,112.522 1072.79,112.494 1072.84,112.465 1072.85,112.437 1072.85,112.408 1072.9,112.38 1072.94,112.352 1072.98,112.323 1073,112.295 \n  1073,112.267 1073,112.238 1073.14,112.21 1073.15,112.182 1073.16,112.153 1073.17,112.125 1073.23,112.097 1073.28,112.069 1073.3,112.041 1073.31,112.012 \n  1073.36,111.984 1073.36,111.956 1073.37,111.928 1073.42,111.9 1073.43,111.872 1073.43,111.844 1073.43,111.816 1073.47,111.788 1073.47,111.759 1073.47,111.731 \n  1073.49,111.703 1073.5,111.675 1073.55,111.647 1073.59,111.62 1073.59,111.592 1073.6,111.564 1073.61,111.536 1073.61,111.508 1073.63,111.48 1073.63,111.452 \n  1073.64,111.424 1073.71,111.396 1073.72,111.369 1073.78,111.341 1073.79,111.313 1073.79,111.285 1073.83,111.257 1073.84,111.23 1073.85,111.202 1073.87,111.174 \n  1073.87,111.146 1073.94,111.119 1074.01,111.091 1074.03,111.063 1074.05,111.036 1074.08,111.008 1074.11,110.981 1074.12,110.953 1074.13,110.925 1074.14,110.898 \n  1074.17,110.87 1074.22,110.843 1074.24,110.815 1074.24,110.788 1074.25,110.76 1074.3,110.733 1074.33,110.705 1074.36,110.678 1074.4,110.65 1074.46,110.623 \n  1074.46,110.596 1074.49,110.568 1074.5,110.541 1074.51,110.513 1074.54,110.486 1074.55,110.459 1074.55,110.431 1074.59,110.404 1074.59,110.377 1074.64,110.35 \n  1074.65,110.322 1074.68,110.295 1074.74,110.268 1074.78,110.241 1074.79,110.213 1074.79,110.186 1074.81,110.159 1074.82,110.132 1074.85,110.105 1074.85,110.078 \n  1074.89,110.051 1074.96,110.023 1074.99,109.996 1075,109.969 1075.03,109.942 1075.06,109.915 1075.06,109.888 1075.08,109.861 1075.1,109.834 1075.11,109.807 \n  1075.18,109.78 1075.18,109.753 1075.18,109.726 1075.19,109.699 1075.19,109.672 1075.19,109.646 1075.2,109.619 1075.21,109.592 1075.26,109.565 1075.27,109.538 \n  1075.35,109.511 1075.36,109.485 1075.47,109.458 1075.55,109.431 1075.55,109.404 1075.69,109.377 1075.7,109.351 1075.74,109.324 1075.8,109.297 1075.83,109.271 \n  1075.83,109.244 1075.89,109.217 1075.97,109.191 1076.03,109.164 1076.11,109.137 1076.15,109.111 1076.17,109.084 1076.21,109.057 1076.23,109.031 1076.29,109.004 \n  1076.32,108.978 1076.34,108.951 1076.36,108.925 1076.37,108.898 1076.37,108.872 1076.38,108.845 1076.4,108.819 1076.41,108.792 1076.41,108.766 1076.46,108.74 \n  1076.51,108.713 1076.52,108.687 1076.52,108.66 1076.55,108.634 1076.56,108.608 1076.58,108.581 1076.59,108.555 1076.59,108.529 1076.61,108.502 1076.63,108.476 \n  1076.65,108.45 1076.67,108.424 1076.75,108.397 1076.77,108.371 1076.8,108.345 1076.8,108.319 1076.82,108.292 1076.83,108.266 1076.86,108.24 1076.86,108.214 \n  1076.89,108.188 1076.89,108.162 1076.92,108.136 1076.95,108.11 1076.99,108.083 1076.99,108.057 1077,108.031 1077.04,108.005 1077.09,107.979 1077.29,107.953 \n  1077.35,107.927 1077.36,107.901 1077.41,107.875 1077.41,107.849 1077.42,107.823 1077.42,107.797 1077.44,107.772 1077.45,107.746 1077.45,107.72 1077.46,107.694 \n  1077.47,107.668 1077.57,107.642 1077.61,107.616 1077.61,107.59 1077.61,107.565 1077.63,107.539 1077.66,107.513 1077.74,107.487 1077.75,107.462 1077.77,107.436 \n  1077.82,107.41 1077.83,107.384 1077.87,107.359 1077.9,107.333 1077.91,107.307 1077.91,107.282 1077.94,107.256 1078,107.23 1078,107.205 1078,107.179 \n  1078.01,107.153 1078.02,107.128 1078.04,107.102 1078.05,107.077 1078.06,107.051 1078.06,107.026 1078.11,107 1078.11,106.975 1078.12,106.949 1078.17,106.924 \n  1078.2,106.898 1078.21,106.873 1078.21,106.847 1078.21,106.822 1078.22,106.796 1078.26,106.771 1078.3,106.745 1078.3,106.72 1078.33,106.695 1078.34,106.669 \n  1078.36,106.644 1078.45,106.619 1078.47,106.593 1078.48,106.568 1078.52,106.543 1078.55,106.517 1078.56,106.492 1078.59,106.467 1078.61,106.442 1078.62,106.416 \n  1078.66,106.391 1078.67,106.366 1078.69,106.341 1078.7,106.316 1078.72,106.29 1078.73,106.265 1078.75,106.24 1078.8,106.215 1078.89,106.19 1078.95,106.165 \n  1078.96,106.14 1079.15,106.115 1079.24,106.089 1079.25,106.064 1079.35,106.039 1079.38,106.014 1079.46,105.989 1079.5,105.964 1079.53,105.939 1079.57,105.914 \n  1079.57,105.889 1079.58,105.864 1079.59,105.839 1079.6,105.814 1079.62,105.79 1079.64,105.765 1079.65,105.74 1079.66,105.715 1079.66,105.69 1079.67,105.665 \n  1079.75,105.64 1079.76,105.615 1079.77,105.591 1079.78,105.566 1079.84,105.541 1079.85,105.516 1079.87,105.491 1079.9,105.467 1079.9,105.442 1079.9,105.417 \n  1079.93,105.392 1079.97,105.368 1079.99,105.343 1080.01,105.318 1080.03,105.294 1080.03,105.269 1080.06,105.244 1080.07,105.22 1080.08,105.195 1080.1,105.17 \n  1080.13,105.146 1080.14,105.121 1080.14,105.097 1080.17,105.072 1080.18,105.047 1080.18,105.023 1080.19,104.998 1080.2,104.974 1080.21,104.949 1080.25,104.925 \n  1080.34,104.9 1080.34,104.876 1080.39,104.851 1080.4,104.827 1080.43,104.802 1080.45,104.778 1080.45,104.754 1080.46,104.729 1080.5,104.705 1080.53,104.68 \n  1080.59,104.656 1080.62,104.632 1080.69,104.607 1080.69,104.583 1080.8,104.559 1080.82,104.534 1080.84,104.51 1080.86,104.486 1080.86,104.461 1080.87,104.437 \n  1080.87,104.413 1080.88,104.389 1080.92,104.364 1080.92,104.34 1080.92,104.316 1080.93,104.292 1080.98,104.268 1081.02,104.243 1081.05,104.219 1081.07,104.195 \n  1081.08,104.171 1081.1,104.147 1081.11,104.123 1081.12,104.099 1081.18,104.074 1081.2,104.05 1081.21,104.026 1081.21,104.002 1081.25,103.978 1081.26,103.954 \n  1081.26,103.93 1081.26,103.906 1081.27,103.882 1081.3,103.858 1081.34,103.834 1081.34,103.81 1081.35,103.786 1081.37,103.762 1081.42,103.738 1081.42,103.714 \n  1081.42,103.69 1081.44,103.667 1081.46,103.643 1081.49,103.619 1081.49,103.595 1081.5,103.571 1081.53,103.547 1081.54,103.523 1081.58,103.5 1081.61,103.476 \n  1081.65,103.452 1081.67,103.428 1081.69,103.404 1081.73,103.381 1081.74,103.357 1081.76,103.333 1081.78,103.309 1081.78,103.286 1081.84,103.262 1081.9,103.238 \n  1081.91,103.214 1081.94,103.191 1081.94,103.167 1081.98,103.143 1081.98,103.12 1081.99,103.096 1081.99,103.073 1082.01,103.049 1082.07,103.025 1082.12,103.002 \n  1082.18,102.978 1082.18,102.955 1082.24,102.931 1082.26,102.908 1082.27,102.884 1082.31,102.86 1082.33,102.837 1082.33,102.813 1082.34,102.79 1082.35,102.766 \n  1082.37,102.743 1082.47,102.72 1082.48,102.696 1082.49,102.673 1082.5,102.649 1082.58,102.626 1082.59,102.602 1082.63,102.579 1082.63,102.556 1082.65,102.532 \n  1082.67,102.509 1082.68,102.485 1082.68,102.462 1082.72,102.439 1082.76,102.415 1082.77,102.392 1082.82,102.369 1082.83,102.346 1082.84,102.322 1082.85,102.299 \n  1082.85,102.276 1082.85,102.253 1082.92,102.229 1082.93,102.206 1082.96,102.183 1082.99,102.16 1083.08,102.136 1083.09,102.113 1083.11,102.09 1083.12,102.067 \n  1083.13,102.044 1083.15,102.021 1083.16,101.998 1083.21,101.974 1083.25,101.951 1083.25,101.928 1083.3,101.905 1083.32,101.882 1083.32,101.859 1083.35,101.836 \n  1083.36,101.813 1083.38,101.79 1083.4,101.767 1083.41,101.744 1083.41,101.721 1083.41,101.698 1083.43,101.675 1083.44,101.652 1083.47,101.629 1083.5,101.606 \n  1083.56,101.583 1083.6,101.56 1083.6,101.537 1083.65,101.514 1083.7,101.491 1083.7,101.468 1083.73,101.446 1083.74,101.423 1083.75,101.4 1083.77,101.377 \n  1083.79,101.354 1083.79,101.331 1083.79,101.308 1083.8,101.286 1083.83,101.263 1083.84,101.24 1083.86,101.217 1083.86,101.195 1083.88,101.172 1083.91,101.149 \n  1083.97,101.126 1084,101.104 1084.05,101.081 1084.06,101.058 1084.2,101.035 1084.26,101.013 1084.28,100.99 1084.33,100.967 1084.35,100.945 1084.4,100.922 \n  1084.41,100.9 1084.41,100.877 1084.42,100.854 1084.42,100.832 1084.44,100.809 1084.45,100.786 1084.46,100.764 1084.48,100.741 1084.49,100.719 1084.51,100.696 \n  1084.52,100.674 1084.54,100.651 1084.59,100.629 1084.65,100.606 1084.66,100.584 1084.67,100.561 1084.68,100.539 1084.68,100.516 1084.69,100.494 1084.69,100.471 \n  1084.71,100.449 1084.72,100.427 1084.73,100.404 1084.76,100.382 1084.76,100.359 1084.8,100.337 1084.83,100.315 1084.84,100.292 1084.85,100.27 1084.86,100.247 \n  1084.87,100.225 1084.87,100.203 1084.88,100.18 1084.9,100.158 1084.92,100.136 1084.92,100.114 1085,100.091 1085,100.069 1085,100.047 1085.02,100.025 \n  1085.11,100.002 1085.12,99.9801 1085.12,99.9579 1085.14,99.9357 1085.18,99.9135 1085.19,99.8913 1085.22,99.8691 1085.25,99.8469 1085.25,99.8248 1085.26,99.8026 \n  1085.28,99.7805 1085.29,99.7583 1085.36,99.7362 1085.37,99.7141 1085.37,99.692 1085.39,99.6699 1085.39,99.6478 1085.39,99.6258 1085.43,99.6037 1085.44,99.5816 \n  1085.45,99.5596 1085.47,99.5376 1085.48,99.5155 1085.5,99.4935 1085.51,99.4715 1085.56,99.4495 1085.57,99.4275 1085.57,99.4056 1085.59,99.3836 1085.64,99.3616 \n  1085.65,99.3397 1085.71,99.3177 1085.75,99.2958 1085.83,99.2739 1085.86,99.252 1085.87,99.2301 1085.87,99.2082 1085.88,99.1863 1085.92,99.1644 1085.94,99.1426 \n  1085.96,99.1207 1085.96,99.0989 1085.97,99.077 1085.98,99.0552 1085.99,99.0334 1086.01,99.0116 1086.02,98.9898 1086.02,98.968 1086.08,98.9462 1086.11,98.9245 \n  1086.12,98.9027 1086.12,98.8809 1086.13,98.8592 1086.14,98.8375 1086.22,98.8157 1086.24,98.794 1086.32,98.7723 1086.32,98.7506 1086.33,98.7289 1086.34,98.7073 \n  1086.36,98.6856 1086.37,98.6639 1086.39,98.6423 1086.39,98.6207 1086.39,98.599 1086.4,98.5774 1086.41,98.5558 1086.41,98.5342 1086.42,98.5126 1086.45,98.491 \n  1086.52,98.4694 1086.53,98.4479 1086.63,98.4263 1086.67,98.4048 1086.69,98.3832 1086.72,98.3617 1086.73,98.3402 1086.73,98.3187 1086.75,98.2972 1086.8,98.2757 \n  1086.82,98.2542 1086.82,98.2327 1086.85,98.2113 1086.88,98.1898 1086.88,98.1683 1086.89,98.1469 1086.9,98.1255 1086.91,98.1041 1086.92,98.0826 1086.93,98.0612 \n  1086.95,98.0399 1086.99,98.0185 1087,97.9971 1087,97.9757 1087.03,97.9544 1087.03,97.933 1087.04,97.9117 1087.05,97.8904 1087.09,97.869 1087.1,97.8477 \n  1087.1,97.8264 1087.11,97.8051 1087.12,97.7838 1087.15,97.7626 1087.15,97.7413 1087.17,97.72 1087.37,97.6988 1087.37,97.6775 1087.38,97.6563 1087.39,97.6351 \n  1087.47,97.6139 1087.55,97.5927 1087.58,97.5715 1087.58,97.5503 1087.64,97.5291 1087.66,97.5079 1087.66,97.4868 1087.7,97.4656 1087.7,97.4445 1087.75,97.4233 \n  1087.76,97.4022 1087.79,97.3811 1087.81,97.36 1087.81,97.3389 1087.82,97.3178 1087.83,97.2967 1087.83,97.2756 1087.86,97.2546 1087.87,97.2335 1087.88,97.2125 \n  1087.89,97.1914 1087.9,97.1704 1087.92,97.1494 1087.93,97.1284 1087.94,97.1074 1087.96,97.0864 1087.98,97.0654 1088.01,97.0444 1088.03,97.0235 1088.06,97.0025 \n  1088.07,96.9815 1088.09,96.9606 1088.11,96.9397 1088.14,96.9187 1088.15,96.8978 1088.17,96.8769 1088.18,96.856 1088.19,96.8351 1088.2,96.8142 1088.2,96.7934 \n  1088.26,96.7725 1088.27,96.7516 1088.33,96.7308 1088.37,96.71 1088.38,96.6891 1088.4,96.6683 1088.41,96.6475 1088.41,96.6267 1088.44,96.6059 1088.44,96.5851 \n  1088.45,96.5643 1088.46,96.5436 1088.47,96.5228 1088.48,96.502 1088.48,96.4813 1088.53,96.4606 1088.54,96.4398 1088.55,96.4191 1088.57,96.3984 1088.59,96.3777 \n  1088.66,96.357 1088.66,96.3363 1088.67,96.3156 1088.68,96.295 1088.7,96.2743 1088.72,96.2536 1088.72,96.233 1088.74,96.2124 1088.74,96.1917 1088.75,96.1711 \n  1088.79,96.1505 1088.84,96.1299 1088.87,96.1093 1088.88,96.0887 1088.89,96.0681 1088.91,96.0476 1088.91,96.027 1088.93,96.0065 1088.99,95.9859 1089,95.9654 \n  1089.02,95.9449 1089.05,95.9243 1089.06,95.9038 1089.07,95.8833 1089.07,95.8628 1089.1,95.8424 1089.11,95.8219 1089.12,95.8014 1089.18,95.7809 1089.18,95.7605 \n  1089.25,95.74 1089.29,95.7196 1089.32,95.6992 1089.32,95.6788 1089.32,95.6583 1089.32,95.6379 1089.37,95.6176 1089.37,95.5972 1089.38,95.5768 1089.39,95.5564 \n  1089.46,95.5361 1089.46,95.5157 1089.47,95.4954 1089.48,95.475 1089.52,95.4547 1089.56,95.4344 1089.57,95.414 1089.57,95.3937 1089.6,95.3734 1089.61,95.3532 \n  1089.62,95.3329 1089.66,95.3126 1089.67,95.2923 1089.67,95.2721 1089.67,95.2518 1089.7,95.2316 1089.7,95.2114 1089.75,95.1911 1089.81,95.1709 1089.82,95.1507 \n  1089.85,95.1305 1089.85,95.1103 1089.85,95.0901 1089.86,95.07 1089.87,95.0498 1089.91,95.0296 1089.92,95.0095 1089.93,94.9893 1089.99,94.9692 1090.01,94.9491 \n  1090.03,94.929 1090.03,94.9088 1090.1,94.8887 1090.1,94.8686 1090.11,94.8486 1090.12,94.8285 1090.16,94.8084 1090.17,94.7883 1090.2,94.7683 1090.23,94.7482 \n  1090.23,94.7282 1090.24,94.7082 1090.26,94.6881 1090.27,94.6681 1090.32,94.6481 1090.33,94.6281 1090.34,94.6081 1090.38,94.5881 1090.41,94.5682 1090.42,94.5482 \n  1090.42,94.5282 1090.43,94.5083 1090.46,94.4883 1090.47,94.4684 1090.49,94.4485 1090.51,94.4285 1090.53,94.4086 1090.53,94.3887 1090.56,94.3688 1090.57,94.3489 \n  1090.58,94.329 1090.6,94.3092 1090.6,94.2893 1090.6,94.2694 1090.62,94.2496 1090.65,94.2297 1090.69,94.2099 1090.7,94.1901 1090.74,94.1702 1090.76,94.1504 \n  1090.77,94.1306 1090.79,94.1108 1090.79,94.091 1090.8,94.0713 1090.82,94.0515 1090.83,94.0317 1090.85,94.012 1090.9,93.9922 1090.91,93.9725 1090.93,93.9527 \n  1090.93,93.933 1090.94,93.9133 1090.94,93.8936 1090.94,93.8739 1090.95,93.8542 1090.95,93.8345 1090.96,93.8148 1090.97,93.7951 1090.99,93.7754 1091.01,93.7558 \n  1091.02,93.7361 1091.04,93.7165 1091.06,93.6968 1091.07,93.6772 1091.09,93.6576 1091.11,93.638 1091.14,93.6184 1091.16,93.5988 1091.17,93.5792 1091.17,93.5596 \n  1091.19,93.54 1091.19,93.5205 1091.2,93.5009 1091.21,93.4813 1091.23,93.4618 1091.24,93.4423 1091.27,93.4227 1091.27,93.4032 1091.28,93.3837 1091.32,93.3642 \n  1091.33,93.3447 1091.34,93.3252 1091.35,93.3057 1091.35,93.2862 1091.36,93.2667 1091.38,93.2473 1091.4,93.2278 1091.42,93.2084 1091.45,93.1889 1091.45,93.1695 \n  1091.5,93.1501 1091.52,93.1307 1091.54,93.1112 1091.54,93.0918 1091.57,93.0724 1091.58,93.0531 1091.58,93.0337 1091.61,93.0143 1091.61,92.9949 1091.62,92.9756 \n  1091.63,92.9562 1091.66,92.9369 1091.71,92.9175 1091.75,92.8982 1091.77,92.8789 1091.77,92.8596 1091.79,92.8403 1091.81,92.821 1091.82,92.8017 1091.9,92.7824 \n  1091.9,92.7631 1091.95,92.7438 1091.97,92.7246 1091.97,92.7053 1092.02,92.6861 1092.03,92.6668 1092.05,92.6476 1092.08,92.6284 1092.09,92.6091 1092.1,92.5899 \n  1092.1,92.5707 1092.1,92.5515 1092.12,92.5323 1092.14,92.5131 1092.16,92.494 1092.17,92.4748 1092.18,92.4556 1092.18,92.4365 1092.18,92.4173 1092.19,92.3982 \n  1092.19,92.3791 1092.2,92.3599 1092.2,92.3408 1092.25,92.3217 1092.25,92.3026 1092.29,92.2835 1092.31,92.2644 1092.32,92.2453 1092.34,92.2263 1092.34,92.2072 \n  1092.37,92.1881 1092.4,92.1691 1092.41,92.15 1092.41,92.131 1092.41,92.112 1092.42,92.0929 1092.42,92.0739 1092.44,92.0549 1092.44,92.0359 1092.45,92.0169 \n  1092.49,91.9979 1092.5,91.9789 1092.5,91.9599 1092.51,91.941 1092.53,91.922 1092.54,91.9031 1092.57,91.8841 1092.58,91.8652 1092.61,91.8462 1092.62,91.8273 \n  1092.64,91.8084 1092.64,91.7895 1092.64,91.7706 1092.66,91.7517 1092.66,91.7328 1092.66,91.7139 1092.67,91.695 1092.67,91.6762 1092.67,91.6573 1092.68,91.6384 \n  1092.68,91.6196 1092.69,91.6008 1092.7,91.5819 1092.75,91.5631 1092.76,91.5443 1092.77,91.5255 1092.77,91.5067 1092.77,91.4879 1092.77,91.4691 1092.78,91.4503 \n  1092.81,91.4315 1092.82,91.4127 1092.85,91.394 1092.88,91.3752 1092.9,91.3564 1092.92,91.3377 1092.96,91.319 1093,91.3002 1093.05,91.2815 1093.05,91.2628 \n  1093.06,91.2441 1093.06,91.2254 1093.09,91.2067 1093.12,91.188 1093.13,91.1693 1093.13,91.1506 1093.15,91.132 1093.19,91.1133 1093.24,91.0947 1093.24,91.076 \n  1093.29,91.0574 1093.29,91.0387 1093.3,91.0201 1093.3,91.0015 1093.31,90.9829 1093.31,90.9643 1093.36,90.9457 1093.41,90.9271 1093.43,90.9085 1093.49,90.8899 \n  1093.53,90.8713 1093.53,90.8528 1093.54,90.8342 1093.55,90.8157 1093.58,90.7971 1093.59,90.7786 1093.63,90.76 1093.66,90.7415 1093.76,90.723 1093.77,90.7045 \n  1093.77,90.686 1093.78,90.6675 1093.78,90.649 1093.79,90.6305 1093.79,90.612 1093.81,90.5936 1093.86,90.5751 1093.86,90.5566 1093.88,90.5382 1093.89,90.5197 \n  1093.91,90.5013 1093.92,90.4829 1093.93,90.4644 1093.93,90.446 1093.94,90.4276 1093.94,90.4092 1093.95,90.3908 1093.96,90.3724 1093.99,90.354 1093.99,90.3357 \n  1094.01,90.3173 1094.05,90.2989 1094.07,90.2806 1094.12,90.2622 1094.12,90.2439 1094.15,90.2255 1094.16,90.2072 1094.16,90.1889 1094.17,90.1706 1094.2,90.1523 \n  1094.21,90.134 1094.24,90.1157 1094.26,90.0974 1094.28,90.0791 1094.28,90.0608 1094.28,90.0425 1094.28,90.0243 1094.3,90.006 1094.37,89.9878 1094.38,89.9695 \n  1094.38,89.9513 1094.39,89.933 1094.41,89.9148 1094.45,89.8966 1094.45,89.8784 1094.46,89.8602 1094.47,89.842 1094.49,89.8238 1094.52,89.8056 1094.52,89.7874 \n  1094.55,89.7692 1094.55,89.7511 1094.59,89.7329 1094.59,89.7148 1094.63,89.6966 1094.64,89.6785 1094.67,89.6603 1094.69,89.6422 1094.7,89.6241 1094.71,89.606 \n  1094.71,89.5879 1094.74,89.5698 1094.74,89.5517 1094.78,89.5336 1094.79,89.5155 1094.85,89.4974 1094.88,89.4794 1094.88,89.4613 1094.89,89.4432 1094.91,89.4252 \n  1094.93,89.4071 1094.94,89.3891 1094.95,89.3711 1094.96,89.353 1094.96,89.335 1094.97,89.317 1095.01,89.299 1095.01,89.281 1095.02,89.263 1095.05,89.245 \n  1095.07,89.2271 1095.08,89.2091 1095.08,89.1911 1095.09,89.1732 1095.09,89.1552 1095.16,89.1372 1095.16,89.1193 1095.19,89.1014 1095.22,89.0834 1095.22,89.0655 \n  1095.23,89.0476 1095.23,89.0297 1095.27,89.0118 1095.27,88.9939 1095.27,88.976 1095.31,88.9581 1095.34,88.9402 1095.34,88.9224 1095.35,88.9045 1095.36,88.8866 \n  1095.36,88.8688 1095.39,88.8509 1095.39,88.8331 1095.45,88.8153 1095.46,88.7974 1095.47,88.7796 1095.52,88.7618 1095.54,88.744 1095.6,88.7262 1095.62,88.7084 \n  1095.63,88.6906 1095.63,88.6728 1095.64,88.655 1095.66,88.6373 1095.69,88.6195 1095.69,88.6017 1095.72,88.584 1095.75,88.5662 1095.76,88.5485 1095.79,88.5308 \n  1095.79,88.513 1095.84,88.4953 1095.84,88.4776 1095.84,88.4599 1095.91,88.4422 1095.93,88.4245 1095.96,88.4068 1095.96,88.3891 1095.96,88.3714 1095.98,88.3538 \n  1095.98,88.3361 1095.99,88.3184 1096,88.3008 1096.02,88.2831 1096.04,88.2655 1096.04,88.2478 1096.08,88.2302 1096.16,88.2126 1096.17,88.195 1096.23,88.1774 \n  1096.28,88.1598 1096.29,88.1422 1096.3,88.1246 1096.31,88.107 1096.31,88.0894 1096.33,88.0718 1096.36,88.0543 1096.36,88.0367 1096.38,88.0191 1096.41,88.0016 \n  1096.42,87.984 1096.45,87.9665 1096.46,87.949 1096.47,87.9314 1096.51,87.9139 1096.51,87.8964 1096.54,87.8789 1096.56,87.8614 1096.58,87.8439 1096.59,87.8264 \n  1096.6,87.8089 1096.61,87.7914 1096.63,87.774 1096.63,87.7565 1096.63,87.739 1096.64,87.7216 1096.69,87.7041 1096.71,87.6867 1096.71,87.6693 1096.71,87.6518 \n  1096.71,87.6344 1096.72,87.617 1096.72,87.5996 1096.73,87.5822 1096.73,87.5648 1096.73,87.5474 1096.74,87.53 1096.75,87.5126 1096.77,87.4952 1096.82,87.4779 \n  1096.84,87.4605 1096.9,87.4431 1096.91,87.4258 1096.91,87.4084 1096.93,87.3911 1096.94,87.3738 1096.95,87.3564 1096.98,87.3391 1096.99,87.3218 1097,87.3045 \n  1097.02,87.2872 1097.03,87.2699 1097.03,87.2526 1097.04,87.2353 1097.05,87.218 1097.08,87.2008 1097.13,87.1835 1097.13,87.1662 1097.16,87.149 1097.16,87.1317 \n  1097.17,87.1145 1097.19,87.0972 1097.2,87.08 1097.2,87.0628 1097.22,87.0455 1097.23,87.0283 1097.23,87.0111 1097.25,86.9939 1097.25,86.9767 1097.27,86.9595 \n  1097.28,86.9423 1097.28,86.9251 1097.31,86.908 1097.34,86.8908 1097.35,86.8736 1097.35,86.8565 1097.37,86.8393 1097.39,86.8222 1097.39,86.805 1097.4,86.7879 \n  1097.42,86.7708 1097.43,86.7536 1097.45,86.7365 1097.46,86.7194 1097.48,86.7023 1097.49,86.6852 1097.49,86.6681 1097.5,86.651 1097.53,86.6339 1097.54,86.6169 \n  1097.54,86.5998 1097.54,86.5827 1097.55,86.5657 1097.58,86.5486 1097.59,86.5316 1097.61,86.5145 1097.63,86.4975 1097.64,86.4804 1097.64,86.4634 1097.68,86.4464 \n  1097.76,86.4294 1097.79,86.4124 1097.82,86.3954 1097.82,86.3784 1097.82,86.3614 1097.85,86.3444 1097.86,86.3274 1097.87,86.3104 1097.87,86.2935 1097.93,86.2765 \n  1097.94,86.2595 1097.97,86.2426 1098.02,86.2256 1098.02,86.2087 1098.03,86.1918 1098.07,86.1748 1098.08,86.1579 1098.1,86.141 1098.11,86.1241 1098.12,86.1072 \n  1098.23,86.0903 1098.23,86.0734 1098.32,86.0565 1098.32,86.0396 1098.32,86.0227 1098.33,86.0059 1098.33,85.989 1098.34,85.9721 1098.37,85.9553 1098.38,85.9384 \n  1098.39,85.9216 1098.4,85.9047 1098.41,85.8879 1098.41,85.8711 1098.43,85.8542 1098.43,85.8374 1098.49,85.8206 1098.51,85.8038 1098.53,85.787 1098.54,85.7702 \n  1098.56,85.7534 1098.57,85.7366 1098.57,85.7199 1098.61,85.7031 1098.62,85.6863 1098.63,85.6696 1098.64,85.6528 1098.67,85.6361 1098.67,85.6193 1098.68,85.6026 \n  1098.71,85.5858 1098.71,85.5691 1098.71,85.5524 1098.72,85.5357 1098.76,85.519 1098.76,85.5023 1098.84,85.4855 1098.86,85.4689 1098.87,85.4522 1098.9,85.4355 \n  1098.91,85.4188 1098.93,85.4021 1098.94,85.3855 1098.96,85.3688 1098.98,85.3521 1099.01,85.3355 1099.02,85.3188 1099.03,85.3022 1099.03,85.2856 1099.04,85.2689 \n  1099.08,85.2523 1099.09,85.2357 1099.13,85.2191 1099.16,85.2025 1099.18,85.1859 1099.19,85.1693 1099.2,85.1527 1099.21,85.1361 1099.22,85.1195 1099.24,85.1029 \n  1099.24,85.0864 1099.24,85.0698 1099.24,85.0532 1099.25,85.0367 1099.25,85.0201 1099.31,85.0036 1099.36,84.9871 1099.4,84.9705 1099.42,84.954 1099.43,84.9375 \n  1099.45,84.921 1099.45,84.9045 1099.48,84.8879 1099.48,84.8714 1099.51,84.855 1099.52,84.8385 1099.53,84.822 1099.54,84.8055 1099.56,84.789 1099.56,84.7726 \n  1099.57,84.7561 1099.57,84.7396 1099.58,84.7232 1099.6,84.7067 1099.62,84.6903 1099.71,84.6739 1099.71,84.6574 1099.72,84.641 1099.72,84.6246 1099.74,84.6082 \n  1099.74,84.5918 1099.75,84.5754 1099.77,84.559 1099.8,84.5426 1099.87,84.5262 1099.87,84.5098 1099.88,84.4934 1099.89,84.4771 1099.9,84.4607 1099.91,84.4443 \n  1099.92,84.428 1099.94,84.4116 1099.94,84.3953 1099.98,84.3789 1099.99,84.3626 1100.02,84.3463 1100.02,84.3299 1100.05,84.3136 1100.05,84.2973 1100.05,84.281 \n  1100.06,84.2647 1100.08,84.2484 1100.09,84.2321 1100.1,84.2158 1100.1,84.1995 1100.1,84.1833 1100.16,84.167 1100.16,84.1507 1100.18,84.1345 1100.26,84.1182 \n  1100.27,84.1019 1100.27,84.0857 1100.28,84.0695 1100.3,84.0532 1100.3,84.037 1100.3,84.0208 1100.31,84.0045 1100.33,83.9883 1100.38,83.9721 1100.39,83.9559 \n  1100.39,83.9397 1100.41,83.9235 1100.41,83.9073 1100.41,83.8912 1100.44,83.875 1100.44,83.8588 1100.44,83.8426 1100.44,83.8265 1100.49,83.8103 1100.5,83.7942 \n  1100.51,83.778 1100.51,83.7619 1100.53,83.7457 1100.54,83.7296 1100.54,83.7135 1100.54,83.6973 1100.57,83.6812 1100.59,83.6651 1100.61,83.649 1100.64,83.6329 \n  1100.67,83.6168 1100.7,83.6007 1100.71,83.5846 1100.76,83.5686 1100.78,83.5525 1100.8,83.5364 1100.8,83.5203 1100.84,83.5043 1100.85,83.4882 1100.87,83.4722 \n  1100.88,83.4561 1100.9,83.4401 1100.91,83.424 1100.92,83.408 1100.92,83.392 1100.94,83.376 1101.01,83.36 1101.02,83.3439 1101.02,83.3279 1101.07,83.3119 \n  1101.09,83.2959 1101.09,83.28 1101.1,83.264 1101.13,83.248 1101.14,83.232 1101.14,83.216 1101.15,83.2001 1101.15,83.1841 1101.18,83.1682 1101.19,83.1522 \n  1101.21,83.1363 1101.22,83.1203 1101.23,83.1044 1101.24,83.0885 1101.25,83.0725 1101.25,83.0566 1101.26,83.0407 1101.31,83.0248 1101.32,83.0089 1101.34,82.993 \n  1101.36,82.9771 1101.36,82.9612 1101.36,82.9453 1101.4,82.9294 1101.4,82.9136 1101.41,82.8977 1101.45,82.8818 1101.47,82.866 1101.49,82.8501 1101.53,82.8343 \n  1101.53,82.8184 1101.54,82.8026 1101.55,82.7867 1101.55,82.7709 1101.55,82.7551 1101.58,82.7393 1101.6,82.7235 1101.6,82.7076 1101.62,82.6918 1101.62,82.676 \n  1101.64,82.6602 1101.64,82.6445 1101.65,82.6287 1101.65,82.6129 1101.66,82.5971 1101.66,82.5813 1101.67,82.5656 1101.67,82.5498 1101.68,82.5341 1101.68,82.5183 \n  1101.69,82.5026 1101.7,82.4868 1101.7,82.4711 1101.71,82.4553 1101.71,82.4396 1101.71,82.4239 1101.71,82.4082 1101.71,82.3925 1101.72,82.3768 1101.73,82.3611 \n  1101.76,82.3454 1101.76,82.3297 1101.81,82.314 1101.84,82.2983 1101.89,82.2826 1101.9,82.2669 1101.9,82.2513 1101.91,82.2356 1101.92,82.2199 1101.93,82.2043 \n  1101.97,82.1886 1101.98,82.173 1102.01,82.1574 1102.01,82.1417 1102.02,82.1261 1102.03,82.1105 1102.05,82.0948 1102.09,82.0792 1102.13,82.0636 1102.14,82.048 \n  1102.17,82.0324 1102.18,82.0168 1102.18,82.0012 1102.19,81.9856 1102.2,81.9701 1102.21,81.9545 1102.21,81.9389 1102.22,81.9233 1102.23,81.9078 1102.24,81.8922 \n  1102.25,81.8767 1102.25,81.8611 1102.26,81.8456 1102.27,81.83 1102.27,81.8145 1102.32,81.799 1102.35,81.7834 1102.36,81.7679 1102.4,81.7524 1102.41,81.7369 \n  1102.42,81.7214 1102.44,81.7059 1102.51,81.6904 1102.51,81.6749 1102.52,81.6594 1102.54,81.6439 1102.54,81.6284 1102.55,81.613 1102.56,81.5975 1102.61,81.582 \n  1102.64,81.5666 1102.65,81.5511 1102.68,81.5357 1102.7,81.5202 1102.72,81.5048 1102.75,81.4894 1102.76,81.4739 1102.76,81.4585 1102.78,81.4431 1102.78,81.4277 \n  1102.79,81.4123 1102.81,81.3968 1102.83,81.3814 1102.85,81.366 1102.88,81.3507 1102.89,81.3353 1102.9,81.3199 1102.94,81.3045 1102.95,81.2891 1102.96,81.2738 \n  1102.97,81.2584 1102.98,81.243 1102.99,81.2277 1102.99,81.2123 1103.01,81.197 1103.04,81.1816 1103.05,81.1663 1103.07,81.151 1103.09,81.1356 1103.09,81.1203 \n  1103.1,81.105 1103.1,81.0897 1103.11,81.0744 1103.12,81.0591 1103.13,81.0438 1103.14,81.0285 1103.2,81.0132 1103.2,80.9979 1103.24,80.9826 1103.25,80.9673 \n  1103.26,80.9521 1103.28,80.9368 1103.28,80.9215 1103.29,80.9063 1103.3,80.891 1103.3,80.8758 1103.34,80.8605 1103.34,80.8453 1103.36,80.8301 1103.36,80.8148 \n  1103.39,80.7996 1103.44,80.7844 1103.48,80.7692 1103.53,80.7539 1103.54,80.7387 1103.54,80.7235 1103.55,80.7083 1103.55,80.6931 1103.56,80.6779 1103.56,80.6628 \n  1103.59,80.6476 1103.6,80.6324 1103.63,80.6172 1103.64,80.6021 1103.64,80.5869 1103.64,80.5717 1103.66,80.5566 1103.67,80.5414 1103.67,80.5263 1103.69,80.5112 \n  1103.7,80.496 1103.74,80.4809 1103.75,80.4658 1103.75,80.4506 1103.76,80.4355 1103.78,80.4204 1103.81,80.4053 1103.81,80.3902 1103.81,80.3751 1103.81,80.36 \n  1103.82,80.3449 1103.82,80.3298 1103.85,80.3147 1103.86,80.2997 1103.91,80.2846 1103.91,80.2695 1103.97,80.2545 1104.01,80.2394 1104.03,80.2243 1104.03,80.2093 \n  1104.06,80.1942 1104.09,80.1792 1104.1,80.1642 1104.12,80.1491 1104.13,80.1341 1104.13,80.1191 1104.14,80.1041 1104.16,80.089 1104.22,80.074 1104.23,80.059 \n  1104.23,80.044 1104.26,80.029 1104.27,80.014 1104.27,79.9991 1104.33,79.9841 1104.33,79.9691 1104.33,79.9541 1104.34,79.9391 1104.35,79.9242 1104.38,79.9092 \n  1104.39,79.8943 1104.4,79.8793 1104.4,79.8644 1104.41,79.8494 1104.41,79.8345 1104.46,79.8195 1104.48,79.8046 1104.5,79.7897 1104.52,79.7748 1104.52,79.7598 \n  1104.52,79.7449 1104.59,79.73 1104.59,79.7151 1104.6,79.7002 1104.6,79.6853 1104.61,79.6704 1104.61,79.6555 1104.62,79.6407 1104.65,79.6258 1104.66,79.6109 \n  1104.68,79.596 1104.69,79.5812 1104.7,79.5663 1104.71,79.5515 1104.73,79.5366 1104.73,79.5218 1104.74,79.5069 1104.74,79.4921 1104.81,79.4772 1104.81,79.4624 \n  1104.81,79.4476 1104.83,79.4328 1104.86,79.4179 1104.86,79.4031 1104.87,79.3883 1104.87,79.3735 1104.87,79.3587 1104.89,79.3439 1104.91,79.3291 1104.91,79.3143 \n  1104.92,79.2996 1104.93,79.2848 1104.95,79.27 1104.98,79.2552 1104.98,79.2405 1105.01,79.2257 1105.01,79.211 1105.02,79.1962 1105.03,79.1815 1105.05,79.1667 \n  1105.06,79.152 1105.09,79.1372 1105.1,79.1225 1105.1,79.1078 1105.1,79.0931 1105.14,79.0783 1105.15,79.0636 1105.16,79.0489 1105.19,79.0342 1105.19,79.0195 \n  1105.21,79.0048 1105.22,78.9901 1105.23,78.9754 1105.24,78.9607 1105.24,78.9461 1105.25,78.9314 1105.27,78.9167 1105.3,78.902 1105.3,78.8874 1105.31,78.8727 \n  1105.32,78.8581 1105.35,78.8434 1105.36,78.8288 1105.37,78.8141 1105.38,78.7995 1105.38,78.7849 1105.38,78.7702 1105.4,78.7556 1105.4,78.741 1105.41,78.7264 \n  1105.48,78.7118 1105.49,78.6971 1105.5,78.6825 1105.5,78.6679 1105.52,78.6533 1105.55,78.6388 1105.56,78.6242 1105.57,78.6096 1105.57,78.595 1105.59,78.5804 \n  1105.59,78.5659 1105.6,78.5513 1105.6,78.5367 1105.63,78.5222 1105.64,78.5076 1105.64,78.4931 1105.66,78.4785 1105.67,78.464 1105.68,78.4494 1105.68,78.4349 \n  1105.69,78.4204 1105.69,78.4059 1105.72,78.3913 1105.75,78.3768 1105.78,78.3623 1105.79,78.3478 1105.8,78.3333 1105.81,78.3188 1105.83,78.3043 1105.83,78.2898 \n  1105.84,78.2753 1105.85,78.2608 1105.86,78.2464 1105.87,78.2319 1105.89,78.2174 1105.9,78.203 1105.91,78.1885 1105.92,78.174 1105.93,78.1596 1105.96,78.1451 \n  1105.98,78.1307 1106.01,78.1162 1106.02,78.1018 1106.02,78.0874 1106.04,78.0729 1106.07,78.0585 1106.08,78.0441 1106.08,78.0297 1106.1,78.0153 1106.1,78.0009 \n  1106.12,77.9864 1106.13,77.972 1106.13,77.9576 1106.13,77.9433 1106.15,77.9289 1106.15,77.9145 1106.15,77.9001 1106.16,77.8857 1106.16,77.8714 1106.16,77.857 \n  1106.2,77.8426 1106.21,77.8283 1106.21,77.8139 1106.23,77.7996 1106.26,77.7852 1106.26,77.7709 1106.26,77.7565 1106.27,77.7422 1106.27,77.7279 1106.28,77.7135 \n  1106.28,77.6992 1106.33,77.6849 1106.33,77.6706 1106.35,77.6563 1106.35,77.642 1106.35,77.6276 1106.35,77.6133 1106.36,77.5991 1106.37,77.5848 1106.38,77.5705 \n  1106.38,77.5562 1106.39,77.5419 1106.4,77.5276 1106.41,77.5134 1106.42,77.4991 1106.43,77.4848 1106.44,77.4706 1106.46,77.4563 1106.47,77.4421 1106.47,77.4278 \n  1106.5,77.4136 1106.54,77.3993 1106.56,77.3851 1106.56,77.3709 1106.58,77.3566 1106.59,77.3424 1106.62,77.3282 1106.63,77.314 1106.66,77.2998 1106.67,77.2856 \n  1106.68,77.2714 1106.69,77.2572 1106.69,77.243 1106.69,77.2288 1106.71,77.2146 1106.72,77.2004 1106.73,77.1862 1106.74,77.1721 1106.75,77.1579 1106.75,77.1437 \n  1106.75,77.1296 1106.77,77.1154 1106.81,77.1012 1106.83,77.0871 1106.83,77.0729 1106.84,77.0588 1106.86,77.0447 1106.87,77.0305 1106.87,77.0164 1106.88,77.0023 \n  1106.89,76.9881 1106.9,76.974 1106.91,76.9599 1106.92,76.9458 1106.92,76.9317 1106.93,76.9176 1106.95,76.9035 1106.96,76.8894 1106.97,76.8753 1106.98,76.8612 \n  1106.98,76.8471 1106.99,76.833 1107,76.819 1107.02,76.8049 1107.05,76.7908 1107.06,76.7767 1107.06,76.7627 1107.06,76.7486 1107.08,76.7346 1107.09,76.7205 \n  1107.09,76.7065 1107.09,76.6924 1107.11,76.6784 1107.12,76.6644 1107.14,76.6503 1107.15,76.6363 1107.16,76.6223 1107.16,76.6083 1107.17,76.5943 1107.24,76.5802 \n  1107.28,76.5662 1107.28,76.5522 1107.32,76.5382 1107.33,76.5242 1107.33,76.5102 1107.36,76.4963 1107.38,76.4823 1107.39,76.4683 1107.39,76.4543 1107.4,76.4403 \n  1107.45,76.4264 1107.45,76.4124 1107.47,76.3985 1107.47,76.3845 1107.49,76.3705 1107.49,76.3566 1107.5,76.3426 1107.5,76.3287 1107.52,76.3148 1107.53,76.3008 \n  1107.53,76.2869 1107.53,76.273 1107.53,76.2591 1107.54,76.2451 1107.54,76.2312 1107.56,76.2173 1107.58,76.2034 1107.58,76.1895 1107.58,76.1756 1107.62,76.1617 \n  1107.63,76.1478 1107.64,76.1339 1107.64,76.12 1107.66,76.1062 1107.67,76.0923 1107.68,76.0784 1107.7,76.0645 1107.74,76.0507 1107.74,76.0368 1107.75,76.023 \n  1107.79,76.0091 1107.79,75.9953 1107.8,75.9814 1107.82,75.9676 1107.87,75.9537 1107.87,75.9399 1107.88,75.9261 1107.9,75.9122 1107.91,75.8984 1107.92,75.8846 \n  1107.94,75.8708 1107.94,75.857 1107.97,75.8431 1107.97,75.8293 1107.97,75.8155 1107.97,75.8017 1107.97,75.788 1107.99,75.7742 1107.99,75.7604 1108,75.7466 \n  1108.03,75.7328 1108.05,75.719 1108.07,75.7053 1108.1,75.6915 1108.1,75.6777 1108.1,75.664 1108.11,75.6502 1108.12,75.6365 1108.13,75.6227 1108.13,75.609 \n  1108.14,75.5952 1108.16,75.5815 1108.16,75.5678 1108.17,75.554 1108.17,75.5403 1108.18,75.5266 1108.18,75.5129 1108.19,75.4991 1108.2,75.4854 1108.23,75.4717 \n  1108.23,75.458 1108.24,75.4443 1108.25,75.4306 1108.27,75.4169 1108.29,75.4032 1108.3,75.3896 1108.32,75.3759 1108.35,75.3622 1108.35,75.3485 1108.37,75.3349 \n  1108.39,75.3212 1108.39,75.3075 1108.43,75.2939 1108.44,75.2802 1108.44,75.2666 1108.45,75.2529 1108.46,75.2393 1108.47,75.2256 1108.47,75.212 1108.48,75.1983 \n  1108.55,75.1847 1108.56,75.1711 1108.56,75.1575 1108.58,75.1438 1108.59,75.1302 1108.61,75.1166 1108.64,75.103 1108.64,75.0894 1108.64,75.0758 1108.65,75.0622 \n  1108.67,75.0486 1108.69,75.035 1108.69,75.0214 1108.71,75.0078 1108.71,74.9943 1108.72,74.9807 1108.73,74.9671 1108.75,74.9536 1108.76,74.94 1108.77,74.9264 \n  1108.77,74.9129 1108.77,74.8993 1108.78,74.8858 1108.8,74.8722 1108.82,74.8587 1108.83,74.8451 1108.84,74.8316 1108.85,74.8181 1108.88,74.8045 1108.89,74.791 \n  1108.89,74.7775 1108.9,74.764 1108.91,74.7505 1108.92,74.7369 1108.95,74.7234 1108.95,74.7099 1108.97,74.6964 1108.97,74.6829 1108.97,74.6694 1108.98,74.656 \n  1108.99,74.6425 1108.99,74.629 1109.02,74.6155 1109.02,74.602 1109.05,74.5886 1109.06,74.5751 1109.06,74.5616 1109.08,74.5482 1109.1,74.5347 1109.11,74.5213 \n  1109.12,74.5078 1109.13,74.4944 1109.14,74.4809 1109.16,74.4675 1109.19,74.4541 1109.19,74.4406 1109.23,74.4272 1109.23,74.4138 1109.25,74.4003 1109.26,74.3869 \n  1109.27,74.3735 1109.28,74.3601 1109.3,74.3467 1109.33,74.3333 1109.35,74.3199 1109.36,74.3065 1109.36,74.2931 1109.37,74.2797 1109.38,74.2663 1109.39,74.2529 \n  1109.39,74.2396 1109.39,74.2262 1109.44,74.2128 1109.46,74.1994 1109.49,74.1861 1109.51,74.1727 1109.51,74.1594 1109.53,74.146 1109.54,74.1327 1109.55,74.1193 \n  1109.56,74.106 1109.56,74.0926 1109.56,74.0793 1109.57,74.066 1109.59,74.0526 1109.6,74.0393 1109.62,74.026 1109.65,74.0127 1109.65,73.9993 1109.68,73.986 \n  1109.68,73.9727 1109.69,73.9594 1109.69,73.9461 1109.7,73.9328 1109.73,73.9195 1109.73,73.9062 1109.74,73.8929 1109.75,73.8797 1109.76,73.8664 1109.76,73.8531 \n  1109.78,73.8398 1109.84,73.8266 1109.87,73.8133 1109.89,73.8 1109.9,73.7868 1109.9,73.7735 1109.91,73.7603 1109.93,73.747 1109.94,73.7338 1109.97,73.7205 \n  1109.97,73.7073 1109.99,73.694 1110,73.6808 1110.02,73.6676 1110.03,73.6544 1110.03,73.6411 1110.04,73.6279 1110.07,73.6147 1110.08,73.6015 1110.1,73.5883 \n  1110.1,73.5751 1110.14,73.5619 1110.14,73.5487 1110.14,73.5355 1110.15,73.5223 1110.16,73.5091 1110.18,73.4959 1110.18,73.4827 1110.18,73.4696 1110.22,73.4564 \n  1110.23,73.4432 1110.24,73.4301 1110.24,73.4169 1110.24,73.4037 1110.26,73.3906 1110.27,73.3774 1110.29,73.3643 1110.32,73.3511 1110.33,73.338 1110.33,73.3248 \n  1110.33,73.3117 1110.34,73.2986 1110.39,73.2854 1110.41,73.2723 1110.44,73.2592 1110.44,73.2461 1110.49,73.233 1110.51,73.2199 1110.52,73.2067 1110.53,73.1936 \n  1110.53,73.1805 1110.54,73.1674 1110.54,73.1543 1110.58,73.1412 1110.63,73.1282 1110.64,73.1151 1110.65,73.102 1110.66,73.0889 1110.67,73.0758 1110.68,73.0628 \n  1110.68,73.0497 1110.69,73.0366 1110.7,73.0236 1110.71,73.0105 1110.74,72.9975 1110.75,72.9844 1110.76,72.9714 1110.76,72.9583 1110.76,72.9453 1110.76,72.9322 \n  1110.77,72.9192 1110.77,72.9062 1110.77,72.8931 1110.78,72.8801 1110.78,72.8671 1110.79,72.8541 1110.8,72.8411 1110.8,72.828 1110.8,72.815 1110.82,72.802 \n  1110.82,72.789 1110.82,72.776 1110.83,72.763 1110.84,72.75 1110.84,72.7371 1110.85,72.7241 1110.85,72.7111 1110.85,72.6981 1110.86,72.6851 1110.86,72.6722 \n  1110.86,72.6592 1110.87,72.6462 1110.87,72.6333 1110.9,72.6203 1110.9,72.6074 1110.9,72.5944 1110.92,72.5815 1110.98,72.5685 1111,72.5556 1111.01,72.5426 \n  1111.01,72.5297 1111.03,72.5168 1111.03,72.5038 1111.03,72.4909 1111.04,72.478 1111.06,72.4651 1111.07,72.4522 1111.08,72.4392 1111.09,72.4263 1111.09,72.4134 \n  1111.1,72.4005 1111.11,72.3876 1111.12,72.3747 1111.13,72.3618 1111.15,72.3489 1111.19,72.3361 1111.19,72.3232 1111.2,72.3103 1111.21,72.2974 1111.21,72.2846 \n  1111.23,72.2717 1111.23,72.2588 1111.24,72.246 1111.26,72.2331 1111.28,72.2202 1111.29,72.2074 1111.29,72.1945 1111.3,72.1817 1111.31,72.1688 1111.31,72.156 \n  1111.33,72.1432 1111.35,72.1303 1111.36,72.1175 1111.36,72.1047 1111.37,72.0919 1111.39,72.079 1111.39,72.0662 1111.39,72.0534 1111.41,72.0406 1111.43,72.0278 \n  1111.45,72.015 1111.45,72.0022 1111.46,71.9894 1111.47,71.9766 1111.48,71.9638 1111.52,71.951 1111.52,71.9382 1111.53,71.9254 1111.54,71.9127 1111.57,71.8999 \n  1111.57,71.8871 1111.58,71.8743 1111.58,71.8616 1111.58,71.8488 1111.58,71.8361 1111.58,71.8233 1111.63,71.8105 1111.63,71.7978 1111.64,71.785 1111.66,71.7723 \n  1111.68,71.7596 1111.69,71.7468 1111.7,71.7341 1111.7,71.7214 1111.71,71.7086 1111.74,71.6959 1111.75,71.6832 1111.8,71.6705 1111.8,71.6578 1111.81,71.645 \n  1111.83,71.6323 1111.86,71.6196 1111.86,71.6069 1111.87,71.5942 1111.87,71.5815 1111.88,71.5688 1111.91,71.5562 1111.93,71.5435 1111.94,71.5308 1111.95,71.5181 \n  1111.96,71.5054 1111.97,71.4928 1111.97,71.4801 1111.97,71.4674 1111.98,71.4548 1111.98,71.4421 1112,71.4294 1112.01,71.4168 1112.02,71.4041 1112.04,71.3915 \n  1112.05,71.3788 1112.07,71.3662 1112.11,71.3536 1112.11,71.3409 1112.14,71.3283 1112.18,71.3157 1112.19,71.303 1112.19,71.2904 1112.2,71.2778 1112.22,71.2652 \n  1112.24,71.2526 1112.26,71.2399 1112.29,71.2273 1112.31,71.2147 1112.31,71.2021 1112.31,71.1895 1112.33,71.1769 1112.33,71.1644 1112.38,71.1518 1112.39,71.1392 \n  1112.41,71.1266 1112.42,71.114 1112.42,71.1014 1112.42,71.0889 1112.49,71.0763 1112.49,71.0637 1112.49,71.0512 1112.53,71.0386 1112.55,71.0261 1112.56,71.0135 \n  1112.56,71.0009 1112.56,70.9884 1112.57,70.9759 1112.57,70.9633 1112.57,70.9508 1112.58,70.9382 1112.59,70.9257 1112.61,70.9132 1112.61,70.9006 1112.62,70.8881 \n  1112.64,70.8756 1112.64,70.8631 1112.66,70.8506 1112.67,70.8381 1112.71,70.8256 1112.72,70.8131 1112.75,70.8006 1112.75,70.7881 1112.76,70.7756 1112.77,70.7631 \n  1112.78,70.7506 1112.79,70.7381 1112.8,70.7256 1112.82,70.7131 1112.82,70.7006 1112.82,70.6882 1112.82,70.6757 1112.84,70.6632 1112.85,70.6508 1112.85,70.6383 \n  1112.85,70.6259 1112.86,70.6134 1112.88,70.6009 1112.88,70.5885 1112.89,70.576 1112.92,70.5636 1112.92,70.5512 1112.96,70.5387 1112.97,70.5263 1112.99,70.5139 \n  1113,70.5014 1113.01,70.489 1113.02,70.4766 1113.02,70.4642 1113.02,70.4518 1113.04,70.4393 1113.05,70.4269 1113.07,70.4145 1113.08,70.4021 1113.09,70.3897 \n  1113.11,70.3773 1113.12,70.3649 1113.13,70.3525 1113.13,70.3401 1113.13,70.3278 1113.14,70.3154 1113.16,70.303 1113.16,70.2906 1113.16,70.2782 1113.16,70.2659 \n  1113.18,70.2535 1113.21,70.2411 1113.27,70.2288 1113.27,70.2164 1113.27,70.2041 1113.27,70.1917 1113.28,70.1794 1113.29,70.167 1113.33,70.1547 1113.34,70.1423 \n  1113.36,70.13 1113.36,70.1177 1113.37,70.1053 1113.37,70.093 1113.37,70.0807 1113.38,70.0684 1113.4,70.056 1113.4,70.0437 1113.4,70.0314 1113.41,70.0191 \n  1113.41,70.0068 1113.42,69.9945 1113.45,69.9822 1113.48,69.9699 1113.5,69.9576 1113.5,69.9453 1113.55,69.933 1113.58,69.9207 1113.6,69.9084 1113.6,69.8962 \n  1113.63,69.8839 1113.64,69.8716 1113.64,69.8593 1113.66,69.8471 1113.66,69.8348 1113.66,69.8225 1113.67,69.8103 1113.69,69.798 1113.7,69.7858 1113.71,69.7735 \n  1113.74,69.7613 1113.74,69.749 1113.75,69.7368 1113.76,69.7245 1113.77,69.7123 1113.77,69.7001 1113.77,69.6878 1113.78,69.6756 1113.78,69.6634 1113.8,69.6512 \n  1113.83,69.639 1113.85,69.6267 1113.85,69.6145 1113.86,69.6023 1113.87,69.5901 1113.88,69.5779 1113.89,69.5657 1113.89,69.5535 1113.9,69.5413 1113.91,69.5291 \n  1113.92,69.5169 1113.94,69.5047 1113.96,69.4926 1113.96,69.4804 1113.97,69.4682 1114,69.456 1114.02,69.4439 1114.02,69.4317 1114.03,69.4195 1114.08,69.4074 \n  1114.08,69.3952 1114.1,69.383 1114.1,69.3709 1114.1,69.3587 1114.13,69.3466 1114.13,69.3344 1114.15,69.3223 1114.16,69.3102 1114.16,69.298 1114.18,69.2859 \n  1114.19,69.2738 1114.2,69.2616 1114.22,69.2495 1114.24,69.2374 1114.25,69.2253 1114.26,69.2132 1114.26,69.201 1114.28,69.1889 1114.34,69.1768 1114.36,69.1647 \n  1114.36,69.1526 1114.39,69.1405 1114.39,69.1284 1114.4,69.1163 1114.44,69.1042 1114.44,69.0922 1114.46,69.0801 1114.46,69.068 1114.47,69.0559 1114.5,69.0438 \n  1114.51,69.0318 1114.51,69.0197 1114.53,69.0076 1114.58,68.9956 1114.58,68.9835 1114.58,68.9714 1114.59,68.9594 1114.64,68.9473 1114.65,68.9353 1114.68,68.9232 \n  1114.7,68.9112 1114.7,68.8991 1114.71,68.8871 1114.71,68.8751 1114.71,68.863 1114.71,68.851 1114.72,68.839 1114.72,68.827 1114.73,68.8149 1114.8,68.8029 \n  1114.8,68.7909 1114.81,68.7789 1114.82,68.7669 1114.83,68.7549 1114.84,68.7429 1114.89,68.7309 1114.89,68.7189 1114.9,68.7069 1114.91,68.6949 1114.92,68.6829 \n  1114.95,68.6709 1114.96,68.6589 1114.96,68.6469 1114.97,68.635 1114.97,68.623 1114.98,68.611 1114.99,68.599 1115.01,68.5871 1115.05,68.5751 1115.05,68.5631 \n  1115.05,68.5512 1115.07,68.5392 1115.1,68.5273 1115.1,68.5153 1115.1,68.5034 1115.11,68.4914 1115.14,68.4795 1115.14,68.4675 1115.15,68.4556 1115.17,68.4437 \n  1115.19,68.4317 1115.22,68.4198 1115.24,68.4079 1115.28,68.396 1115.29,68.3841 1115.29,68.3721 1115.3,68.3602 1115.32,68.3483 1115.33,68.3364 1115.33,68.3245 \n  1115.35,68.3126 1115.36,68.3007 1115.37,68.2888 1115.37,68.2769 1115.4,68.265 1115.42,68.2531 1115.42,68.2412 1115.43,68.2293 1115.46,68.2175 1115.48,68.2056 \n  1115.49,68.1937 1115.49,68.1818 1115.5,68.17 1115.51,68.1581 1115.53,68.1462 1115.53,68.1344 1115.53,68.1225 1115.53,68.1107 1115.53,68.0988 1115.54,68.087 \n  1115.55,68.0751 1115.58,68.0633 1115.59,68.0514 1115.61,68.0396 1115.61,68.0278 1115.64,68.0159 1115.64,68.0041 1115.66,67.9923 1115.67,67.9804 1115.67,67.9686 \n  1115.69,67.9568 1115.69,67.945 1115.7,67.9332 1115.72,67.9214 1115.73,67.9095 1115.74,67.8977 1115.77,67.8859 1115.77,67.8741 1115.8,67.8623 1115.8,67.8505 \n  1115.81,67.8387 1115.81,67.827 1115.82,67.8152 1115.82,67.8034 1115.84,67.7916 1115.84,67.7798 1115.87,67.7681 1115.88,67.7563 1115.89,67.7445 1115.91,67.7327 \n  1115.92,67.721 1115.93,67.7092 1115.93,67.6975 1115.95,67.6857 1115.95,67.6739 1115.95,67.6622 1115.96,67.6504 1115.97,67.6387 1115.97,67.627 1115.98,67.6152 \n  1116.01,67.6035 1116.03,67.5917 1116.04,67.58 1116.04,67.5683 1116.04,67.5566 1116.08,67.5448 1116.08,67.5331 1116.12,67.5214 1116.15,67.5097 1116.15,67.498 \n  1116.16,67.4863 1116.16,67.4745 1116.16,67.4628 1116.17,67.4511 1116.17,67.4394 1116.18,67.4277 1116.19,67.416 1116.19,67.4044 1116.2,67.3927 1116.22,67.381 \n  1116.23,67.3693 1116.24,67.3576 1116.28,67.3459 1116.28,67.3343 1116.3,67.3226 1116.3,67.3109 1116.3,67.2993 1116.34,67.2876 1116.34,67.2759 1116.35,67.2643 \n  1116.36,67.2526 1116.36,67.241 1116.37,67.2293 1116.37,67.2177 1116.38,67.206 1116.41,67.1944 1116.41,67.1827 1116.42,67.1711 1116.42,67.1594 1116.42,67.1478 \n  1116.42,67.1362 1116.43,67.1246 1116.44,67.1129 1116.45,67.1013 1116.45,67.0897 1116.47,67.0781 1116.48,67.0665 1116.48,67.0549 1116.48,67.0432 1116.5,67.0316 \n  1116.51,67.02 1116.51,67.0084 1116.51,66.9968 1116.52,66.9852 1116.56,66.9736 1116.57,66.9621 1116.58,66.9505 1116.59,66.9389 1116.61,66.9273 1116.61,66.9157 \n  1116.62,66.9041 1116.63,66.8926 1116.63,66.881 1116.64,66.8694 1116.65,66.8579 1116.66,66.8463 1116.67,66.8347 1116.68,66.8232 1116.68,66.8116 1116.68,66.8001 \n  1116.68,66.7885 1116.7,66.777 1116.71,66.7654 1116.71,66.7539 1116.71,66.7423 1116.73,66.7308 1116.74,66.7193 1116.75,66.7077 1116.77,66.6962 1116.78,66.6847 \n  1116.78,66.6732 1116.79,66.6616 1116.79,66.6501 1116.79,66.6386 1116.8,66.6271 1116.82,66.6156 1116.84,66.6041 1116.85,66.5926 1116.87,66.5811 1116.87,66.5696 \n  1116.87,66.5581 1116.87,66.5466 1116.87,66.5351 1116.9,66.5236 1116.91,66.5121 1116.91,66.5006 1116.93,66.4891 1116.95,66.4776 1116.98,66.4662 1116.98,66.4547 \n  1116.98,66.4432 1116.99,66.4318 1116.99,66.4203 1116.99,66.4088 1117,66.3974 1117,66.3859 1117.01,66.3744 1117.02,66.363 1117.02,66.3515 1117.04,66.3401 \n  1117.04,66.3286 1117.07,66.3172 1117.07,66.3058 1117.08,66.2943 1117.09,66.2829 1117.11,66.2715 1117.11,66.26 1117.11,66.2486 1117.14,66.2372 1117.14,66.2257 \n  1117.15,66.2143 1117.16,66.2029 1117.16,66.1915 1117.17,66.1801 1117.19,66.1687 1117.19,66.1573 1117.19,66.1459 1117.2,66.1345 1117.21,66.1231 1117.21,66.1117 \n  1117.23,66.1003 1117.25,66.0889 1117.26,66.0775 1117.26,66.0661 1117.26,66.0547 1117.29,66.0433 1117.31,66.0319 1117.32,66.0206 1117.34,66.0092 1117.35,65.9978 \n  1117.35,65.9865 1117.35,65.9751 1117.37,65.9637 1117.38,65.9524 1117.4,65.941 1117.41,65.9296 1117.45,65.9183 1117.47,65.9069 1117.47,65.8956 1117.47,65.8842 \n  1117.48,65.8729 1117.48,65.8616 1117.49,65.8502 1117.49,65.8389 1117.5,65.8276 1117.52,65.8162 1117.52,65.8049 1117.52,65.7936 1117.53,65.7822 1117.56,65.7709 \n  1117.59,65.7596 1117.59,65.7483 1117.62,65.737 1117.65,65.7257 1117.66,65.7144 1117.67,65.703 1117.68,65.6917 1117.68,65.6804 1117.69,65.6691 1117.7,65.6579 \n  1117.72,65.6466 1117.72,65.6353 1117.78,65.624 1117.79,65.6127 1117.8,65.6014 1117.8,65.5901 1117.8,65.5789 1117.81,65.5676 1117.81,65.5563 1117.82,65.545 \n  1117.82,65.5338 1117.86,65.5225 1117.87,65.5112 1117.88,65.5 1117.89,65.4887 1117.94,65.4775 1117.94,65.4662 1117.96,65.455 1117.96,65.4437 1117.97,65.4325 \n  1117.99,65.4212 1118.01,65.41 1118.02,65.3987 1118.04,65.3875 1118.07,65.3763 1118.1,65.365 1118.12,65.3538 1118.12,65.3426 1118.13,65.3314 1118.13,65.3201 \n  1118.14,65.3089 1118.17,65.2977 1118.19,65.2865 1118.2,65.2753 1118.2,65.2641 1118.23,65.2529 1118.24,65.2417 1118.26,65.2305 1118.27,65.2193 1118.29,65.2081 \n  1118.31,65.1969 1118.31,65.1857 1118.31,65.1745 1118.31,65.1633 1118.32,65.1521 1118.33,65.1409 1118.35,65.1298 1118.36,65.1186 1118.4,65.1074 1118.41,65.0962 \n  1118.41,65.0851 1118.43,65.0739 1118.46,65.0627 1118.46,65.0516 1118.49,65.0404 1118.53,65.0293 1118.55,65.0181 1118.56,65.007 1118.59,64.9958 1118.6,64.9847 \n  1118.6,64.9735 1118.62,64.9624 1118.64,64.9512 1118.68,64.9401 1118.69,64.929 1118.7,64.9178 1118.7,64.9067 1118.71,64.8956 1118.73,64.8845 1118.73,64.8733 \n  1118.75,64.8622 1118.75,64.8511 1118.77,64.84 1118.77,64.8289 1118.78,64.8178 1118.78,64.8067 1118.79,64.7955 1118.82,64.7844 1118.83,64.7733 1118.83,64.7622 \n  1118.85,64.7511 1118.88,64.7401 1118.88,64.729 1118.89,64.7179 1118.91,64.7068 1118.92,64.6957 1118.94,64.6846 1118.95,64.6735 1118.95,64.6625 1118.99,64.6514 \n  1119,64.6403 1119,64.6293 1119.01,64.6182 1119.01,64.6071 1119.02,64.5961 1119.03,64.585 1119.05,64.5739 1119.05,64.5629 1119.06,64.5518 1119.06,64.5408 \n  1119.07,64.5297 1119.07,64.5187 1119.07,64.5077 1119.08,64.4966 1119.08,64.4856 1119.09,64.4745 1119.12,64.4635 1119.13,64.4525 1119.14,64.4415 1119.16,64.4304 \n  1119.16,64.4194 1119.16,64.4084 1119.18,64.3974 1119.18,64.3863 1119.19,64.3753 1119.21,64.3643 1119.21,64.3533 1119.22,64.3423 1119.22,64.3313 1119.23,64.3203 \n  1119.23,64.3093 1119.23,64.2983 1119.23,64.2873 1119.23,64.2763 1119.23,64.2653 1119.24,64.2543 1119.24,64.2434 1119.24,64.2324 1119.25,64.2214 1119.25,64.2104 \n  1119.26,64.1994 1119.27,64.1885 1119.29,64.1775 1119.31,64.1665 1119.33,64.1556 1119.33,64.1446 1119.33,64.1336 1119.35,64.1227 1119.36,64.1117 1119.38,64.1008 \n  1119.39,64.0898 1119.4,64.0789 1119.4,64.0679 1119.4,64.057 1119.41,64.046 1119.41,64.0351 1119.42,64.0242 1119.43,64.0132 1119.43,64.0023 1119.43,63.9914 \n  1119.43,63.9804 1119.44,63.9695 1119.45,63.9586 1119.46,63.9477 1119.48,63.9367 1119.49,63.9258 1119.49,63.9149 1119.5,63.904 1119.51,63.8931 1119.52,63.8822 \n  1119.54,63.8713 1119.57,63.8604 1119.57,63.8495 1119.59,63.8386 1119.59,63.8277 1119.6,63.8168 1119.6,63.8059 1119.65,63.795 1119.66,63.7841 1119.66,63.7732 \n  1119.69,63.7624 1119.69,63.7515 1119.69,63.7406 1119.7,63.7297 1119.71,63.7189 1119.71,63.708 1119.72,63.6971 1119.76,63.6863 1119.76,63.6754 1119.76,63.6645 \n  1119.77,63.6537 1119.79,63.6428 1119.82,63.632 1119.84,63.6211 1119.85,63.6103 1119.86,63.5994 1119.86,63.5886 1119.88,63.5777 1119.89,63.5669 1119.89,63.5561 \n  1119.9,63.5452 1119.96,63.5344 1119.96,63.5236 1119.98,63.5127 1119.98,63.5019 1119.99,63.4911 1119.99,63.4803 1120.01,63.4694 1120.01,63.4586 1120.03,63.4478 \n  1120.04,63.437 1120.04,63.4262 1120.04,63.4154 1120.05,63.4046 1120.07,63.3938 1120.07,63.383 1120.07,63.3722 1120.08,63.3614 1120.08,63.3506 1120.09,63.3398 \n  1120.09,63.329 1120.1,63.3182 1120.1,63.3074 1120.12,63.2967 1120.13,63.2859 1120.15,63.2751 1120.15,63.2643 1120.15,63.2535 1120.15,63.2428 1120.16,63.232 \n  1120.17,63.2212 1120.17,63.2105 1120.18,63.1997 1120.18,63.189 1120.19,63.1782 1120.2,63.1674 1120.2,63.1567 1120.2,63.1459 1120.23,63.1352 1120.23,63.1245 \n  1120.24,63.1137 1120.24,63.103 1120.24,63.0922 1120.26,63.0815 1120.26,63.0708 1120.26,63.06 1120.31,63.0493 1120.33,63.0386 1120.34,63.0278 1120.35,63.0171 \n  1120.37,63.0064 1120.37,62.9957 1120.38,62.985 1120.39,62.9743 1120.39,62.9635 1120.4,62.9528 1120.41,62.9421 1120.44,62.9314 1120.46,62.9207 1120.47,62.91 \n  1120.48,62.8993 1120.48,62.8886 1120.5,62.8779 1120.5,62.8672 1120.5,62.8566 1120.51,62.8459 1120.55,62.8352 1120.56,62.8245 1120.57,62.8138 1120.58,62.8031 \n  1120.59,62.7925 1120.59,62.7818 1120.59,62.7711 1120.62,62.7605 1120.63,62.7498 1120.63,62.7391 1120.64,62.7285 1120.66,62.7178 1120.67,62.7072 1120.67,62.6965 \n  1120.67,62.6858 1120.68,62.6752 1120.69,62.6645 1120.7,62.6539 1120.71,62.6433 1120.71,62.6326 1120.71,62.622 1120.73,62.6113 1120.74,62.6007 1120.76,62.5901 \n  1120.77,62.5794 1120.77,62.5688 1120.77,62.5582 1120.77,62.5476 1120.78,62.5369 1120.78,62.5263 1120.8,62.5157 1120.82,62.5051 1120.83,62.4945 1120.84,62.4839 \n  1120.85,62.4733 1120.87,62.4627 1120.87,62.452 1120.88,62.4414 1120.9,62.4308 1120.93,62.4202 1120.93,62.4097 1120.95,62.3991 1120.95,62.3885 1120.95,62.3779 \n  1120.95,62.3673 1120.95,62.3567 1120.98,62.3461 1120.98,62.3356 1121.02,62.325 1121.03,62.3144 1121.04,62.3038 1121.04,62.2933 1121.06,62.2827 1121.07,62.2721 \n  1121.08,62.2616 1121.09,62.251 1121.1,62.2404 1121.11,62.2299 1121.13,62.2193 1121.14,62.2088 1121.17,62.1982 1121.17,62.1877 1121.18,62.1771 1121.2,62.1666 \n  1121.2,62.156 1121.21,62.1455 1121.21,62.135 1121.22,62.1244 1121.23,62.1139 1121.23,62.1034 1121.24,62.0928 1121.24,62.0823 1121.25,62.0718 1121.3,62.0613 \n  1121.33,62.0507 1121.34,62.0402 1121.35,62.0297 1121.36,62.0192 1121.36,62.0087 1121.37,61.9982 1121.37,61.9877 1121.37,61.9772 1121.4,61.9667 1121.4,61.9562 \n  1121.41,61.9457 1121.41,61.9352 1121.42,61.9247 1121.43,61.9142 1121.44,61.9037 1121.44,61.8932 1121.45,61.8827 1121.46,61.8722 1121.46,61.8617 1121.47,61.8513 \n  1121.47,61.8408 1121.47,61.8303 1121.49,61.8198 1121.49,61.8094 1121.5,61.7989 1121.5,61.7884 1121.5,61.778 1121.51,61.7675 1121.51,61.7571 1121.52,61.7466 \n  1121.52,61.7361 1121.52,61.7257 1121.53,61.7152 1121.54,61.7048 1121.55,61.6943 1121.55,61.6839 1121.58,61.6735 1121.6,61.663 1121.62,61.6526 1121.64,61.6421 \n  1121.64,61.6317 1121.64,61.6213 1121.65,61.6109 1121.66,61.6004 1121.7,61.59 1121.7,61.5796 1121.7,61.5692 1121.72,61.5587 1121.73,61.5483 1121.74,61.5379 \n  1121.74,61.5275 1121.78,61.5171 1121.79,61.5067 1121.81,61.4963 1121.81,61.4859 1121.82,61.4755 1121.82,61.4651 1121.84,61.4547 1121.85,61.4443 1121.86,61.4339 \n  1121.89,61.4235 1121.9,61.4131 1121.94,61.4027 1121.96,61.3923 1121.97,61.3819 1121.97,61.3716 1121.97,61.3612 1121.99,61.3508 1122.01,61.3404 1122.03,61.3301 \n  1122.03,61.3197 1122.04,61.3093 1122.04,61.299 1122.04,61.2886 1122.05,61.2782 1122.05,61.2679 1122.05,61.2575 1122.05,61.2472 1122.07,61.2368 1122.07,61.2265 \n  1122.09,61.2161 1122.1,61.2058 1122.11,61.1954 1122.11,61.1851 1122.14,61.1747 1122.15,61.1644 1122.15,61.1541 1122.16,61.1437 1122.17,61.1334 1122.19,61.1231 \n  1122.21,61.1128 1122.21,61.1024 1122.23,61.0921 1122.24,61.0818 1122.25,61.0715 1122.26,61.0611 1122.27,61.0508 1122.28,61.0405 1122.28,61.0302 1122.29,61.0199 \n  1122.3,61.0096 1122.31,60.9993 1122.31,60.989 1122.31,60.9787 1122.31,60.9684 1122.34,60.9581 1122.36,60.9478 1122.36,60.9375 1122.37,60.9272 1122.38,60.9169 \n  1122.38,60.9066 1122.4,60.8964 1122.4,60.8861 1122.42,60.8758 1122.42,60.8655 1122.43,60.8552 1122.45,60.845 1122.46,60.8347 1122.46,60.8244 1122.47,60.8142 \n  1122.48,60.8039 1122.51,60.7936 1122.52,60.7834 1122.53,60.7731 1122.53,60.7629 1122.53,60.7526 1122.54,60.7424 1122.56,60.7321 1122.57,60.7219 1122.59,60.7116 \n  1122.59,60.7014 1122.61,60.6911 1122.61,60.6809 1122.61,60.6707 1122.63,60.6604 1122.64,60.6502 1122.64,60.64 1122.64,60.6297 1122.65,60.6195 1122.66,60.6093 \n  1122.66,60.599 1122.69,60.5888 1122.7,60.5786 1122.7,60.5684 1122.71,60.5582 1122.72,60.548 1122.72,60.5377 1122.73,60.5275 1122.73,60.5173 1122.73,60.5071 \n  1122.74,60.4969 1122.74,60.4867 1122.75,60.4765 1122.76,60.4663 1122.77,60.4561 1122.78,60.4459 1122.81,60.4358 1122.81,60.4256 1122.82,60.4154 1122.84,60.4052 \n  1122.84,60.395 1122.85,60.3848 1122.86,60.3747 1122.86,60.3645 1122.87,60.3543 1122.87,60.3441 1122.88,60.334 1122.89,60.3238 1122.89,60.3136 1122.89,60.3035 \n  1122.9,60.2933 1122.91,60.2831 1122.91,60.273 1122.94,60.2628 1122.94,60.2527 1122.94,60.2425 1122.95,60.2324 1122.96,60.2222 1122.96,60.2121 1122.97,60.2019 \n  \n  \"/>\n<polyline clip-path=\"url(#clip212)\" style=\"stroke:#e26f46; stroke-linecap:butt; stroke-linejoin:round; stroke-width:4; stroke-opacity:1; fill:none\" points=\"\n  129.967,269.27 229.394,252.05 423.431,218.445 598.229,188.172 603.047,187.338 681.251,173.794 729.096,165.508 743.33,163.043 749.642,161.95 766.711,158.993 \n  769.209,158.561 785.489,155.741 788.75,155.176 794.967,154.1 795.776,153.96 797.073,153.735 797.099,153.731 800.303,153.176 806.111,152.17 808.472,151.761 \n  809.263,151.624 810.512,151.408 813.24,150.935 813.7,150.855 816.72,150.332 822.552,149.322 827.267,148.506 827.569,148.453 830.408,147.962 831.127,147.837 \n  831.928,147.699 837.092,146.804 839.2,146.439 841.182,146.096 842.6,145.85 843.587,145.679 844.505,145.52 847.012,145.086 848.227,144.876 850.481,144.485 \n  852.063,144.211 852.088,144.207 852.619,144.115 853.042,144.042 853.456,143.97 855.476,143.62 857.113,143.337 857.333,143.299 858.134,143.16 859.418,142.938 \n  862.655,142.377 862.895,142.335 863.286,142.268 867.656,141.511 868.671,141.335 870.572,141.006 870.939,140.942 873.149,140.56 873.768,140.452 873.956,140.42 \n  874.003,140.412 874.704,140.29 876.042,140.059 877.248,139.85 877.353,139.832 877.596,139.789 877.926,139.732 877.958,139.727 878.417,139.647 882.002,139.026 \n  882.589,138.925 883.269,138.807 884.497,138.594 884.609,138.575 885.756,138.376 889,137.814 889.889,137.66 890.181,137.61 890.655,137.528 892.009,137.293 \n  892.357,137.233 892.567,137.197 892.848,137.148 893.188,137.089 893.901,136.966 894.25,136.905 895.269,136.729 896.439,136.526 896.86,136.453 898.635,136.146 \n  899.046,136.075 899.541,135.989 901.329,135.679 901.462,135.656 902.344,135.503 903.974,135.221 903.999,135.217 904.353,135.155 905.177,135.013 905.673,134.927 \n  906.274,134.823 906.416,134.798 907.418,134.625 908.006,134.523 908.544,134.43 908.987,134.353 909.02,134.347 909.782,134.215 909.885,134.197 910.793,134.04 \n  910.894,134.023 912.417,133.759 912.71,133.708 912.808,133.691 914.06,133.474 915.681,133.194 916.078,133.125 917.411,132.894 917.791,132.828 918.226,132.753 \n  919.12,132.598 919.178,132.588 919.577,132.519 919.793,132.481 920.949,132.281 921.128,132.25 921.861,132.123 922.13,132.077 922.238,132.058 922.954,131.934 \n  923.917,131.767 924.504,131.666 924.967,131.585 925.022,131.576 925.185,131.548 925.335,131.521 925.546,131.485 925.622,131.472 926.505,131.319 926.562,131.309 \n  926.839,131.261 928.302,131.008 930.056,130.704 930.079,130.7 930.396,130.645 930.626,130.605 930.634,130.604 930.711,130.591 934.496,129.935 934.771,129.887 \n  935.063,129.837 935.193,129.814 935.39,129.78 935.911,129.69 936.12,129.654 936.412,129.603 936.758,129.543 936.793,129.537 937.507,129.414 938.392,129.26 \n  938.652,129.215 938.686,129.209 938.757,129.197 939.382,129.089 939.551,129.059 939.613,129.049 940.511,128.893 940.569,128.883 940.632,128.872 940.66,128.867 \n  941.018,128.805 941.464,128.728 941.57,128.71 941.963,128.642 942.172,128.606 942.606,128.53 942.668,128.52 942.691,128.516 942.852,128.488 943.081,128.448 \n  943.645,128.35 943.88,128.31 944.06,128.279 944.178,128.258 944.359,128.227 944.401,128.22 944.499,128.203 944.864,128.139 945.227,128.077 945.321,128.06 \n  945.382,128.05 945.642,128.005 945.793,127.978 946.54,127.849 946.835,127.798 946.922,127.783 946.923,127.783 947.72,127.645 947.723,127.644 948.26,127.551 \n  948.324,127.54 948.389,127.529 948.516,127.507 948.632,127.487 949.086,127.408 949.301,127.371 949.432,127.348 949.719,127.299 950.138,127.226 950.555,127.154 \n  950.943,127.087 951.016,127.074 951.479,126.994 951.925,126.916 951.978,126.907 952.26,126.859 952.795,126.766 952.976,126.734 953.18,126.699 953.873,126.579 \n  953.915,126.572 954.102,126.54 954.756,126.426 955.177,126.353 955.924,126.224 956.246,126.168 956.66,126.097 956.86,126.062 957.347,125.978 957.531,125.946 \n  957.821,125.895 958.09,125.849 958.196,125.83 958.716,125.74 959.063,125.68 959.583,125.59 959.632,125.582 959.73,125.565 959.852,125.544 959.887,125.538 \n  960.257,125.473 960.783,125.382 961.108,125.326 961.182,125.313 961.506,125.257 961.749,125.215 961.809,125.205 961.811,125.204 961.828,125.201 961.992,125.173 \n  962.168,125.143 962.643,125.06 962.712,125.048 962.789,125.035 963.139,124.974 963.161,124.971 963.23,124.959 963.257,124.954 963.829,124.855 964.132,124.802 \n  964.315,124.771 964.576,124.726 964.586,124.724 964.752,124.695 964.753,124.695 965.06,124.642 965.42,124.579 965.674,124.535 966.135,124.456 966.24,124.437 \n  966.331,124.422 966.339,124.42 966.645,124.367 966.725,124.353 966.913,124.321 967.042,124.298 967.227,124.266 967.301,124.254 967.33,124.248 967.396,124.237 \n  968.214,124.095 968.266,124.086 968.387,124.066 968.387,124.065 968.512,124.044 969.22,123.921 969.28,123.911 969.801,123.821 969.832,123.815 971.012,123.611 \n  971.105,123.595 971.211,123.576 971.494,123.527 971.606,123.508 971.671,123.497 971.672,123.497 971.875,123.461 971.973,123.444 972.228,123.4 972.527,123.349 \n  973.337,123.208 973.502,123.18 973.744,123.138 973.813,123.126 973.918,123.108 973.969,123.099 974.033,123.088 974.091,123.078 974.259,123.049 974.424,123.02 \n  974.487,123.009 974.616,122.987 974.97,122.925 975.208,122.884 975.659,122.806 975.691,122.801 975.732,122.793 975.95,122.756 976.175,122.717 976.916,122.588 \n  977.383,122.507 977.396,122.505 977.414,122.502 977.435,122.498 977.883,122.421 977.921,122.414 978.059,122.39 978.096,122.384 978.352,122.34 978.587,122.299 \n  978.598,122.297 978.885,122.247 979.29,122.177 979.723,122.102 980.617,121.947 980.629,121.945 980.686,121.935 980.742,121.926 981.38,121.815 981.568,121.783 \n  981.644,121.77 981.746,121.752 982.153,121.681 982.438,121.632 982.531,121.616 982.553,121.612 982.673,121.591 983.056,121.525 983.218,121.497 983.297,121.483 \n  983.453,121.456 983.457,121.456 983.458,121.455 983.981,121.365 984.101,121.344 984.287,121.312 984.329,121.305 984.62,121.254 984.629,121.253 984.981,121.192 \n  985.121,121.167 985.336,121.13 985.392,121.12 985.459,121.109 985.47,121.107 986.213,120.978 986.602,120.911 986.721,120.89 987.679,120.724 987.756,120.711 \n  987.79,120.705 987.918,120.683 988.184,120.637 988.206,120.633 988.275,120.621 988.408,120.598 988.498,120.583 988.531,120.577 988.587,120.567 988.614,120.562 \n  988.649,120.556 988.658,120.555 988.686,120.55 988.787,120.532 988.844,120.523 988.845,120.522 988.875,120.517 989.035,120.489 989.196,120.462 989.424,120.422 \n  989.589,120.394 989.853,120.348 989.931,120.334 990.136,120.299 990.326,120.266 990.534,120.23 990.578,120.222 990.672,120.206 990.682,120.204 990.693,120.202 \n  990.869,120.172 990.915,120.164 990.944,120.159 991.067,120.138 991.087,120.134 991.156,120.122 991.287,120.099 991.37,120.085 991.46,120.07 991.609,120.044 \n  991.722,120.024 991.737,120.022 991.797,120.011 991.981,119.979 992.21,119.94 992.36,119.914 992.411,119.905 992.529,119.884 993.154,119.776 993.23,119.763 \n  993.252,119.759 993.63,119.694 993.777,119.668 993.927,119.642 994.151,119.603 994.229,119.59 994.517,119.54 994.639,119.519 994.721,119.505 994.77,119.496 \n  994.889,119.476 994.906,119.473 994.947,119.466 994.987,119.459 995.011,119.455 995.293,119.406 995.362,119.394 995.368,119.393 995.491,119.371 995.69,119.337 \n  995.771,119.323 996.036,119.277 996.074,119.27 996.122,119.262 996.264,119.238 996.472,119.202 996.489,119.199 996.83,119.14 997.237,119.069 997.254,119.066 \n  997.294,119.059 997.469,119.029 997.783,118.974 997.882,118.957 998,118.937 998.103,118.919 998.223,118.898 998.226,118.898 998.629,118.828 998.658,118.823 \n  998.802,118.798 999.058,118.754 999.274,118.716 999.368,118.7 999.473,118.682 999.731,118.637 999.81,118.623 1000.29,118.541 1000.42,118.517 1000.6,118.487 \n  1000.64,118.48 1000.67,118.475 1000.89,118.437 1000.92,118.431 1000.97,118.423 1001.11,118.399 1001.63,118.308 1001.74,118.288 1001.81,118.277 1001.92,118.258 \n  1001.97,118.249 1002.03,118.239 1002.07,118.233 1002.11,118.225 1002.18,118.214 1002.32,118.188 1002.33,118.187 1002.53,118.152 1002.62,118.137 1002.63,118.135 \n  1002.83,118.1 1003.28,118.022 1003.3,118.019 1003.34,118.011 1003.36,118.009 1003.37,118.006 1003.45,117.992 1003.55,117.976 1003.56,117.973 1003.62,117.963 \n  1003.62,117.963 1003.77,117.938 1003.98,117.902 1003.98,117.901 1004.06,117.887 1004.24,117.856 1004.3,117.845 1004.35,117.837 1004.36,117.835 1004.45,117.819 \n  1004.91,117.74 1005.04,117.718 1005.06,117.714 1005.27,117.678 1005.4,117.656 1005.43,117.65 1005.44,117.648 1005.67,117.609 1005.75,117.594 1005.92,117.565 \n  1005.94,117.561 1006.03,117.547 1006.42,117.478 1006.63,117.443 1006.63,117.443 1006.64,117.44 1006.67,117.436 1006.71,117.429 1006.75,117.421 1006.77,117.418 \n  1006.82,117.41 1006.83,117.407 1006.84,117.406 1007.02,117.374 1007.15,117.352 1007.36,117.317 1007.37,117.314 1007.43,117.304 1007.43,117.304 1007.44,117.303 \n  1007.51,117.289 1007.6,117.274 1007.77,117.244 1007.98,117.208 1008.06,117.194 1008.16,117.177 1008.22,117.167 1008.3,117.153 1008.32,117.15 1008.57,117.107 \n  1008.6,117.102 1008.74,117.077 1008.77,117.072 1008.78,117.07 1008.79,117.069 1008.82,117.062 1008.86,117.056 1008.89,117.051 1008.9,117.049 1008.95,117.041 \n  1008.99,117.033 1009.11,117.013 1009.33,116.975 1009.48,116.949 1009.51,116.943 1009.75,116.902 1009.78,116.896 1009.92,116.873 1009.96,116.866 1010.49,116.774 \n  1010.61,116.753 1010.83,116.714 1011.08,116.671 1011.12,116.665 1011.3,116.634 1011.33,116.629 1011.72,116.56 1011.91,116.528 1011.97,116.517 1012.02,116.509 \n  1012.19,116.48 1012.25,116.468 1012.33,116.455 1012.35,116.452 1012.44,116.437 1012.46,116.433 1012.53,116.421 1012.58,116.411 1012.61,116.407 1012.65,116.399 \n  1012.72,116.388 1012.92,116.353 1012.94,116.35 1012.97,116.344 1013.03,116.333 1013.05,116.33 1013.15,116.313 1013.19,116.307 1013.25,116.297 1013.27,116.292 \n  1013.36,116.277 1013.39,116.271 1013.44,116.263 1013.45,116.261 1013.47,116.258 1013.53,116.248 1013.54,116.245 1013.56,116.242 1013.6,116.235 1013.71,116.216 \n  1013.75,116.209 1013.83,116.195 1013.91,116.182 1014.16,116.138 1014.2,116.131 1014.22,116.128 1014.34,116.107 1014.34,116.107 1014.4,116.096 1014.55,116.07 \n  1014.68,116.048 1014.73,116.04 1014.9,116.009 1014.92,116.007 1015.11,115.974 1015.23,115.953 1015.25,115.949 1015.32,115.937 1015.34,115.934 1015.37,115.928 \n  1015.56,115.896 1015.58,115.893 1015.66,115.878 1015.77,115.859 1016.17,115.79 1016.19,115.786 1016.29,115.768 1016.4,115.75 1016.56,115.723 1016.59,115.718 \n  1016.6,115.716 1016.67,115.704 1016.8,115.681 1017.26,115.601 1017.41,115.576 1017.47,115.565 1017.52,115.557 1017.61,115.54 1017.65,115.533 1017.8,115.508 \n  1017.83,115.502 1017.84,115.501 1017.98,115.477 1018.11,115.455 1018.11,115.454 1018.19,115.441 1018.24,115.432 1018.24,115.432 1018.3,115.421 1018.4,115.404 \n  1018.53,115.381 1018.54,115.38 1018.61,115.368 1018.65,115.361 1018.66,115.358 1018.67,115.357 1018.69,115.353 1018.89,115.32 1018.92,115.313 1018.97,115.306 \n  1018.97,115.306 1019.16,115.272 1019.18,115.268 1019.21,115.264 1019.25,115.256 1019.48,115.217 1019.51,115.211 1019.52,115.209 1019.79,115.162 1019.82,115.158 \n  1020.12,115.107 1020.14,115.102 1020.18,115.095 1020.21,115.091 1020.57,115.028 1020.62,115.019 1020.82,114.985 1020.83,114.982 1020.84,114.981 1020.94,114.963 \n  1021.1,114.937 1021.14,114.929 1021.37,114.889 1021.4,114.885 1021.41,114.883 1021.48,114.871 1021.62,114.846 1021.66,114.839 1021.67,114.837 1021.68,114.836 \n  1021.7,114.833 1021.72,114.828 1021.73,114.828 1021.83,114.81 1021.86,114.805 1021.9,114.798 1021.92,114.794 1022.22,114.742 1022.32,114.725 1022.33,114.723 \n  1022.39,114.713 1022.4,114.711 1022.41,114.71 1022.47,114.7 1022.51,114.692 1022.53,114.689 1022.54,114.688 1022.6,114.676 1022.65,114.667 1022.67,114.665 \n  1022.75,114.65 1022.76,114.649 1022.82,114.638 1022.83,114.637 1022.87,114.63 1022.93,114.619 1022.94,114.618 1022.95,114.616 1022.99,114.608 1023.14,114.583 \n  1023.36,114.545 1023.47,114.526 1023.53,114.515 1023.64,114.497 1023.7,114.486 1023.71,114.484 1023.77,114.474 1023.79,114.471 1023.98,114.438 1023.98,114.438 \n  1024,114.435 1024.05,114.425 1024.21,114.398 1024.39,114.366 1024.47,114.353 1024.47,114.353 1024.52,114.344 1024.54,114.34 1024.56,114.338 1024.74,114.306 \n  1024.8,114.296 1024.96,114.268 1024.96,114.267 1025.01,114.259 1025.01,114.259 1025.03,114.256 1025.13,114.238 1025.25,114.218 1025.29,114.21 1025.42,114.187 \n  1025.5,114.175 1025.5,114.174 1025.61,114.156 1025.62,114.154 1025.63,114.152 1025.67,114.144 1025.73,114.135 1025.8,114.122 1026.03,114.082 1026.16,114.06 \n  1026.28,114.04 1026.36,114.025 1026.41,114.017 1026.53,113.996 1026.55,113.992 1026.59,113.985 1026.61,113.981 1026.66,113.973 1026.66,113.973 1026.67,113.971 \n  1026.71,113.965 1026.72,113.963 1026.77,113.955 1026.81,113.947 1026.84,113.942 1026.86,113.939 1026.87,113.936 1027.06,113.904 1027.09,113.899 1027.16,113.887 \n  1027.23,113.874 1027.29,113.864 1027.36,113.853 1027.36,113.853 1027.46,113.835 1027.46,113.834 1027.5,113.827 1027.52,113.824 1027.58,113.814 1027.74,113.786 \n  1027.92,113.754 1027.97,113.746 1028.04,113.734 1028.05,113.732 1028.25,113.698 1028.28,113.693 1028.29,113.691 1028.4,113.671 1028.44,113.664 1028.51,113.653 \n  1028.66,113.627 1028.81,113.601 1028.83,113.597 1028.94,113.578 1029.1,113.551 1029.11,113.548 1029.12,113.547 1029.22,113.53 1029.38,113.503 1029.44,113.492 \n  1029.49,113.483 1029.5,113.481 1029.52,113.477 1029.53,113.476 1029.6,113.464 1029.73,113.441 1029.87,113.417 1030.08,113.381 1030.16,113.368 1030.26,113.35 \n  1030.3,113.344 1030.6,113.291 1030.64,113.284 1030.7,113.273 1030.76,113.263 1030.81,113.254 1030.82,113.253 1030.85,113.248 1030.87,113.245 1030.89,113.241 \n  1031.02,113.219 1031.12,113.201 1031.12,113.2 1031.31,113.167 1031.32,113.167 1031.39,113.154 1031.39,113.153 1031.55,113.127 1031.71,113.098 1031.74,113.093 \n  1032.19,113.016 1032.43,112.974 1032.44,112.972 1032.45,112.97 1032.53,112.957 1032.55,112.952 1032.57,112.95 1032.59,112.945 1032.61,112.943 1032.67,112.932 \n  1032.68,112.93 1033.13,112.852 1033.17,112.846 1033.3,112.823 1033.33,112.819 1033.49,112.79 1033.59,112.773 1033.63,112.766 1033.65,112.763 1033.7,112.754 \n  1033.7,112.754 1033.89,112.72 1034.03,112.697 1034.17,112.672 1034.19,112.67 1034.29,112.653 1034.47,112.621 1034.49,112.617 1034.53,112.611 1034.6,112.598 \n  1034.63,112.594 1034.63,112.594 1034.71,112.58 1034.91,112.544 1034.97,112.533 1035.01,112.526 1035.05,112.52 1035.1,112.512 1035.13,112.507 1035.13,112.506 \n  1035.36,112.467 1035.38,112.464 1035.4,112.46 1035.49,112.444 1035.52,112.439 1035.52,112.439 1035.65,112.416 1035.69,112.41 1035.69,112.409 1035.73,112.403 \n  1035.79,112.393 1035.87,112.379 1035.88,112.377 1036.17,112.326 1036.35,112.295 1036.42,112.282 1036.48,112.272 1036.55,112.261 1036.64,112.245 1036.64,112.244 \n  1036.72,112.231 1036.87,112.204 1036.88,112.203 1036.92,112.196 1036.98,112.186 1037.04,112.176 1037.1,112.165 1037.23,112.143 1037.28,112.134 1037.37,112.119 \n  1037.48,112.1 1037.52,112.093 1037.59,112.081 1037.66,112.068 1037.67,112.067 1037.69,112.062 1037.73,112.055 1037.73,112.055 1037.79,112.047 1037.79,112.046 \n  1037.91,112.025 1037.93,112.022 1038,112.01 1038.08,111.996 1038.13,111.987 1038.14,111.985 1038.14,111.985 1038.15,111.983 1038.2,111.974 1038.23,111.97 \n  1038.29,111.96 1038.35,111.949 1038.43,111.935 1038.59,111.908 1038.61,111.904 1038.79,111.872 1038.84,111.864 1038.88,111.857 1039.01,111.834 1039.05,111.828 \n  1039.11,111.818 1039.27,111.789 1039.29,111.785 1039.34,111.777 1039.36,111.774 1039.39,111.768 1039.4,111.766 1039.65,111.723 1039.69,111.716 1039.71,111.714 \n  1039.71,111.713 1039.81,111.696 1039.86,111.688 1039.9,111.68 1039.92,111.677 1039.99,111.665 1040.01,111.661 1040.07,111.651 1040.08,111.649 1040.08,111.649 \n  1040.09,111.648 1040.13,111.64 1040.18,111.632 1040.28,111.614 1040.31,111.61 1040.31,111.609 1040.32,111.608 1040.33,111.605 1040.34,111.605 1040.38,111.597 \n  1040.45,111.585 1040.55,111.567 1040.65,111.551 1040.72,111.539 1040.73,111.536 1040.75,111.533 1040.81,111.522 1040.87,111.512 1040.9,111.508 1041,111.49 \n  1041.06,111.48 1041.08,111.475 1041.11,111.471 1041.11,111.471 1041.12,111.469 1041.24,111.448 1041.35,111.43 1041.35,111.429 1041.36,111.428 1041.37,111.427 \n  1041.4,111.421 1041.51,111.402 1041.55,111.394 1041.56,111.393 1041.57,111.391 1041.69,111.37 1041.69,111.37 1041.8,111.352 1041.8,111.351 1041.83,111.346 \n  1041.86,111.342 1041.89,111.336 1041.89,111.336 1041.96,111.324 1041.96,111.323 1041.99,111.319 1042.01,111.315 1042.13,111.294 1042.26,111.271 1042.35,111.256 \n  1042.42,111.244 1042.43,111.241 1042.54,111.224 1042.59,111.214 1042.63,111.207 1042.63,111.207 1042.65,111.205 1042.68,111.198 1042.71,111.193 1042.84,111.171 \n  1042.93,111.155 1042.99,111.145 1043,111.144 1043.01,111.142 1043.11,111.124 1043.14,111.119 1043.15,111.118 1043.16,111.115 1043.24,111.102 1043.29,111.093 \n  1043.32,111.088 1043.37,111.079 1043.38,111.078 1043.39,111.077 1043.48,111.06 1043.6,111.04 1043.68,111.025 1043.69,111.023 1043.73,111.018 1043.74,111.016 \n  1043.75,111.013 1043.78,111.009 1043.78,111.008 1043.82,111.002 1043.89,110.989 1044.01,110.969 1044.14,110.946 1044.25,110.927 1044.31,110.917 1044.43,110.895 \n  1044.44,110.893 1044.45,110.892 1044.5,110.884 1044.52,110.881 1044.66,110.857 1044.67,110.853 1044.75,110.841 1044.77,110.837 1044.85,110.824 1044.86,110.822 \n  1044.88,110.817 1044.98,110.801 1045,110.797 1045.13,110.775 1045.15,110.771 1045.17,110.768 1045.26,110.752 1045.27,110.751 1045.27,110.75 1045.27,110.75 \n  1045.39,110.73 1045.47,110.715 1045.53,110.705 1045.58,110.696 1045.59,110.694 1045.74,110.669 1045.75,110.668 1045.81,110.657 1045.83,110.654 1045.92,110.638 \n  1045.95,110.632 1046.03,110.618 1046.14,110.6 1046.19,110.591 1046.19,110.591 1046.26,110.579 1046.28,110.575 1046.33,110.567 1046.34,110.564 1046.37,110.56 \n  1046.4,110.554 1046.47,110.543 1046.48,110.541 1046.6,110.521 1046.64,110.512 1046.65,110.511 1046.67,110.507 1046.69,110.505 1046.72,110.498 1046.78,110.489 \n  1046.81,110.483 1046.83,110.481 1046.84,110.479 1046.85,110.477 1046.87,110.474 1046.9,110.468 1046.98,110.455 1046.99,110.452 1047,110.451 1047.07,110.438 \n  1047.07,110.438 1047.1,110.434 1047.22,110.412 1047.24,110.41 1047.28,110.402 1047.29,110.401 1047.3,110.399 1047.38,110.385 1047.39,110.384 1047.4,110.381 \n  1047.41,110.379 1047.48,110.368 1047.49,110.367 1047.54,110.357 1047.67,110.334 1047.69,110.332 1047.76,110.319 1047.78,110.316 1047.91,110.293 1048.02,110.273 \n  1048.04,110.271 1048.04,110.27 1048.19,110.244 1048.32,110.222 1048.62,110.169 1048.7,110.157 1048.77,110.143 1048.79,110.14 1048.81,110.138 1048.83,110.134 \n  1048.88,110.124 1048.93,110.116 1048.99,110.107 1048.99,110.107 1049.02,110.102 1049.11,110.085 1049.18,110.073 1049.21,110.068 1049.24,110.063 1049.32,110.049 \n  1049.42,110.031 1049.44,110.027 1049.48,110.02 1049.49,110.02 1049.52,110.014 1049.53,110.013 1049.66,109.991 1049.72,109.979 1049.75,109.975 1049.76,109.972 \n  1049.77,109.971 1049.78,109.969 1049.89,109.95 1049.9,109.948 1049.9,109.948 1050.27,109.885 1050.27,109.884 1050.28,109.882 1050.37,109.867 1050.39,109.863 \n  1050.52,109.84 1050.54,109.837 1050.6,109.827 1050.62,109.823 1050.67,109.815 1050.67,109.814 1050.72,109.807 1050.76,109.799 1050.78,109.796 1050.8,109.792 \n  1050.83,109.788 1050.87,109.78 1050.91,109.774 1051.01,109.756 1051.05,109.749 1051.12,109.738 1051.22,109.72 1051.28,109.71 1051.33,109.701 1051.45,109.68 \n  1051.47,109.677 1051.52,109.667 1051.56,109.661 1051.59,109.657 1051.63,109.648 1051.65,109.646 1051.7,109.636 1051.74,109.629 1051.84,109.612 1051.88,109.606 \n  1051.96,109.592 1052.05,109.577 1052.11,109.565 1052.14,109.56 1052.16,109.557 1052.26,109.54 1052.29,109.534 1052.31,109.531 1052.32,109.53 1052.32,109.529 \n  1052.33,109.527 1052.38,109.52 1052.43,109.511 1052.46,109.506 1052.53,109.493 1052.53,109.492 1052.58,109.484 1052.62,109.477 1052.64,109.474 1052.73,109.458 \n  1052.75,109.455 1052.79,109.447 1052.8,109.447 1052.81,109.445 1052.88,109.432 1052.88,109.432 1052.89,109.431 1053.06,109.401 1053.09,109.396 1053.19,109.378 \n  1053.29,109.362 1053.29,109.361 1053.39,109.345 1053.42,109.339 1053.43,109.336 1053.5,109.325 1053.52,109.322 1053.52,109.322 1053.57,109.312 1053.71,109.289 \n  1053.75,109.281 1053.77,109.278 1053.79,109.275 1053.8,109.273 1053.83,109.268 1053.87,109.261 1053.92,109.252 1053.95,109.248 1053.97,109.244 1053.98,109.242 \n  1054,109.239 1054.12,109.218 1054.12,109.217 1054.21,109.202 1054.24,109.198 1054.28,109.19 1054.31,109.185 1054.33,109.181 1054.41,109.167 1054.43,109.163 \n  1054.44,109.162 1054.51,109.149 1054.63,109.13 1054.63,109.13 1054.64,109.128 1054.64,109.128 1054.8,109.1 1054.81,109.098 1054.82,109.096 1054.85,109.091 \n  1054.88,109.086 1054.96,109.072 1054.97,109.07 1054.98,109.069 1054.98,109.069 1055.01,109.063 1055.1,109.048 1055.17,109.036 1055.17,109.035 1055.19,109.032 \n  1055.19,109.031 1055.21,109.029 1055.32,109.009 1055.35,109.004 1055.36,109.003 1055.37,109.001 1055.39,108.997 1055.42,108.993 1055.53,108.974 1055.54,108.971 \n  1055.58,108.965 1055.6,108.962 1055.68,108.948 1055.68,108.947 1055.72,108.941 1055.73,108.939 1055.75,108.936 1055.8,108.927 1055.85,108.919 1055.88,108.912 \n  1055.93,108.904 1056.08,108.878 1056.09,108.876 1056.13,108.869 1056.29,108.843 1056.29,108.842 1056.35,108.832 1056.38,108.826 1056.38,108.826 1056.54,108.799 \n  1056.57,108.794 1056.57,108.793 1056.58,108.791 1056.6,108.788 1056.63,108.783 1056.72,108.767 1056.74,108.763 1056.79,108.755 1056.8,108.754 1056.84,108.746 \n  1056.88,108.739 1056.88,108.739 1056.97,108.723 1057.04,108.713 1057.07,108.707 1057.1,108.702 1057.14,108.695 1057.16,108.691 1057.18,108.688 1057.2,108.684 \n  1057.23,108.679 1057.27,108.673 1057.29,108.669 1057.3,108.667 1057.3,108.667 1057.32,108.663 1057.34,108.66 1057.38,108.653 1057.51,108.631 1057.52,108.628 \n  1057.55,108.623 1057.56,108.622 1057.58,108.618 1057.59,108.617 1057.64,108.609 1057.7,108.597 1057.72,108.594 1057.79,108.582 1057.8,108.58 1057.8,108.58 \n  1057.8,108.58 1057.85,108.571 1057.87,108.567 1057.88,108.566 1057.89,108.564 1057.92,108.56 1058.01,108.544 1058.04,108.539 1058.05,108.537 1058.08,108.532 \n  1058.15,108.52 1058.19,108.512 1058.21,108.509 1058.23,108.506 1058.24,108.504 1058.24,108.503 1058.27,108.498 1058.36,108.482 1058.39,108.478 1058.39,108.478 \n  1058.4,108.476 1058.45,108.467 1058.45,108.467 1058.53,108.453 1058.56,108.449 1058.56,108.448 1058.61,108.44 1058.71,108.423 1058.72,108.421 1058.72,108.421 \n  1058.73,108.42 1058.74,108.417 1058.78,108.411 1058.78,108.41 1058.79,108.409 1058.79,108.408 1058.86,108.397 1058.87,108.395 1058.93,108.385 1058.94,108.382 \n  1059.04,108.365 1059.05,108.364 1059.05,108.363 1059.09,108.358 1059.09,108.357 1059.15,108.346 1059.29,108.323 1059.31,108.319 1059.42,108.3 1059.42,108.299 \n  1059.44,108.296 1059.51,108.284 1059.52,108.282 1059.52,108.282 1059.53,108.281 1059.6,108.269 1059.6,108.269 1059.64,108.261 1059.67,108.257 1059.72,108.248 \n  1059.84,108.227 1059.92,108.213 1059.92,108.213 1059.94,108.21 1059.95,108.208 1059.98,108.203 1059.99,108.202 1060,108.2 1060.05,108.19 1060.07,108.188 \n  1060.19,108.166 1060.25,108.155 1060.35,108.138 1060.39,108.132 1060.41,108.128 1060.42,108.126 1060.47,108.118 1060.49,108.115 1060.52,108.109 1060.52,108.109 \n  1060.64,108.089 1060.65,108.086 1060.69,108.079 1060.7,108.078 1060.82,108.058 1060.89,108.045 1060.92,108.04 1060.96,108.033 1060.98,108.03 1060.98,108.029 \n  1060.98,108.029 1061.03,108.02 1061.07,108.014 1061.07,108.014 1061.08,108.013 1061.08,108.012 1061.14,108.001 1061.2,107.991 1061.2,107.991 1061.23,107.987 \n  1061.24,107.984 1061.26,107.981 1061.29,107.976 1061.3,107.974 1061.36,107.964 1061.39,107.958 1061.56,107.93 1061.65,107.913 1061.67,107.91 1061.7,107.906 \n  1061.76,107.895 1061.76,107.894 1061.82,107.884 1061.86,107.876 1061.88,107.873 1061.94,107.863 1061.96,107.859 1062.04,107.846 1062.08,107.838 1062.1,107.836 \n  1062.14,107.829 1062.15,107.826 1062.19,107.82 1062.22,107.814 1062.35,107.792 1062.38,107.787 1062.46,107.774 1062.46,107.773 1062.47,107.772 1062.47,107.772 \n  1062.55,107.757 1062.57,107.754 1062.63,107.745 1062.66,107.739 1062.67,107.738 1062.7,107.731 1062.75,107.723 1062.75,107.722 1062.78,107.718 1062.82,107.711 \n  1062.85,107.705 1062.86,107.704 1062.93,107.692 1062.99,107.682 1063.01,107.679 1063.01,107.677 1063.13,107.658 1063.16,107.651 1063.22,107.641 1063.23,107.639 \n  1063.31,107.625 1063.33,107.622 1063.34,107.62 1063.37,107.616 1063.42,107.608 1063.44,107.603 1063.45,107.602 1063.46,107.6 1063.48,107.597 1063.61,107.574 \n  1063.65,107.567 1063.71,107.556 1063.72,107.554 1063.74,107.552 1063.74,107.551 1063.79,107.543 1063.79,107.542 1063.92,107.521 1063.92,107.52 1064.02,107.504 \n  1064.03,107.502 1064.03,107.501 1064.05,107.497 1064.07,107.494 1064.1,107.489 1064.13,107.485 1064.13,107.484 1064.13,107.483 1064.14,107.483 1064.16,107.479 \n  1064.28,107.457 1064.28,107.457 1064.33,107.449 1064.39,107.439 1064.43,107.432 1064.43,107.431 1064.49,107.422 1064.52,107.417 1064.61,107.401 1064.66,107.392 \n  1064.73,107.38 1064.84,107.36 1064.85,107.359 1064.86,107.357 1064.87,107.356 1064.89,107.352 1064.95,107.341 1065.07,107.322 1065.09,107.318 1065.12,107.313 \n  1065.12,107.312 1065.15,107.307 1065.17,107.304 1065.26,107.289 1065.26,107.288 1065.28,107.284 1065.47,107.252 1065.58,107.232 1065.74,107.206 1065.77,107.2 \n  1065.82,107.191 1065.88,107.182 1065.91,107.177 1065.92,107.173 1065.94,107.171 1065.95,107.169 1065.98,107.163 1066,107.16 1066.03,107.154 1066.04,107.153 \n  1066.06,107.149 1066.08,107.145 1066.15,107.133 1066.23,107.12 1066.25,107.117 1066.25,107.116 1066.27,107.114 1066.28,107.111 1066.34,107.101 1066.42,107.087 \n  1066.43,107.085 1066.53,107.069 1066.54,107.067 1066.58,107.059 1066.59,107.058 1066.59,107.058 1066.62,107.052 1066.63,107.051 1066.67,107.044 1066.68,107.042 \n  1066.68,107.042 1066.81,107.019 1066.84,107.014 1066.91,107.003 1066.94,106.997 1066.95,106.996 1066.98,106.99 1067.09,106.972 1067.15,106.961 1067.19,106.954 \n  1067.22,106.949 1067.26,106.942 1067.28,106.938 1067.41,106.916 1067.45,106.909 1067.49,106.902 1067.5,106.9 1067.5,106.9 1067.51,106.898 1067.54,106.893 \n  1067.6,106.883 1067.61,106.881 1067.67,106.871 1067.7,106.866 1067.71,106.864 1067.71,106.864 1067.79,106.85 1067.8,106.849 1067.81,106.846 1067.84,106.841 \n  1067.86,106.838 1067.87,106.836 1067.88,106.835 1067.93,106.826 1067.93,106.826 1067.95,106.823 1068.06,106.804 1068.06,106.803 1068.07,106.801 1068.08,106.8 \n  1068.2,106.78 1068.21,106.777 1068.23,106.774 1068.26,106.768 1068.26,106.768 1068.27,106.767 1068.29,106.764 1068.33,106.757 1068.34,106.754 1068.39,106.746 \n  1068.43,106.74 1068.44,106.737 1068.47,106.731 1068.49,106.729 1068.5,106.728 1068.51,106.726 1068.55,106.719 1068.61,106.708 1068.65,106.701 1068.65,106.701 \n  1068.74,106.686 1068.84,106.667 1068.9,106.657 1068.94,106.651 1069.01,106.64 1069.03,106.635 1069.04,106.634 1069.06,106.63 1069.11,106.622 1069.17,106.611 \n  1069.21,106.604 1069.28,106.591 1069.31,106.587 1069.33,106.584 1069.35,106.579 1069.37,106.577 1069.42,106.568 1069.45,106.562 1069.46,106.561 1069.55,106.545 \n  1069.57,106.541 1069.62,106.533 1069.64,106.53 1069.69,106.521 1069.7,106.519 1069.71,106.518 1069.72,106.516 1069.73,106.515 1069.73,106.514 1069.78,106.506 \n  1069.8,106.501 1069.81,106.5 1069.85,106.494 1069.89,106.487 1069.95,106.476 1070.02,106.463 1070.03,106.462 1070.07,106.456 1070.09,106.451 1070.16,106.44 \n  1070.19,106.435 1070.2,106.432 1070.23,106.427 1070.25,106.425 1070.37,106.404 1070.42,106.394 1070.45,106.389 1070.46,106.388 1070.48,106.384 1070.51,106.38 \n  1070.55,106.371 1070.6,106.363 1070.64,106.357 1070.65,106.356 1070.65,106.355 1070.71,106.344 1070.73,106.341 1070.78,106.333 1070.88,106.316 1070.9,106.312 \n  1070.93,106.307 1070.95,106.303 1070.95,106.302 1070.99,106.296 1070.99,106.296 1071.05,106.285 1071.06,106.284 1071.06,106.283 1071.06,106.283 1071.09,106.279 \n  1071.1,106.277 1071.1,106.277 1071.2,106.26 1071.31,106.24 1071.43,106.219 1071.56,106.198 1071.57,106.196 1071.63,106.185 1071.64,106.184 1071.65,106.182 \n  1071.69,106.175 1071.72,106.17 1071.76,106.162 1071.77,106.161 1071.78,106.158 1071.8,106.156 1071.8,106.155 1071.82,106.152 1071.87,106.143 1071.88,106.142 \n  1071.91,106.136 1071.92,106.135 1071.96,106.128 1071.97,106.127 1072.04,106.114 1072.06,106.111 1072.07,106.11 1072.08,106.107 1072.13,106.098 1072.19,106.088 \n  1072.21,106.085 1072.25,106.078 1072.26,106.076 1072.27,106.074 1072.31,106.067 1072.33,106.063 1072.36,106.059 1072.36,106.058 1072.39,106.053 1072.4,106.051 \n  1072.43,106.046 1072.44,106.044 1072.46,106.041 1072.58,106.021 1072.59,106.018 1072.6,106.017 1072.63,106.011 1072.66,106.007 1072.68,106.002 1072.71,105.999 \n  1072.74,105.993 1072.77,105.987 1072.79,105.984 1072.84,105.975 1072.85,105.974 1072.85,105.973 1072.9,105.964 1072.94,105.958 1072.98,105.951 1073,105.948 \n  1073,105.948 1073,105.948 1073.14,105.923 1073.15,105.922 1073.16,105.92 1073.17,105.919 1073.23,105.907 1073.28,105.9 1073.3,105.897 1073.31,105.893 \n  1073.36,105.886 1073.36,105.886 1073.37,105.883 1073.42,105.875 1073.43,105.873 1073.43,105.873 1073.43,105.873 1073.47,105.866 1073.47,105.866 1073.47,105.866 \n  1073.49,105.863 1073.5,105.861 1073.55,105.853 1073.59,105.845 1073.59,105.845 1073.6,105.844 1073.61,105.843 1073.61,105.842 1073.63,105.839 1073.63,105.838 \n  1073.64,105.838 1073.71,105.825 1073.72,105.823 1073.78,105.812 1073.79,105.811 1073.79,105.811 1073.83,105.804 1073.84,105.802 1073.85,105.801 1073.87,105.797 \n  1073.87,105.797 1073.94,105.785 1074.01,105.772 1074.03,105.769 1074.05,105.766 1074.08,105.761 1074.11,105.755 1074.12,105.753 1074.13,105.751 1074.14,105.75 \n  1074.17,105.746 1074.22,105.736 1074.24,105.733 1074.24,105.733 1074.25,105.731 1074.3,105.723 1074.33,105.718 1074.36,105.711 1074.4,105.705 1074.46,105.695 \n  1074.46,105.695 1074.49,105.69 1074.5,105.688 1074.51,105.686 1074.54,105.682 1074.55,105.68 1074.55,105.679 1074.59,105.673 1074.59,105.672 1074.64,105.663 \n  1074.65,105.662 1074.68,105.657 1074.74,105.647 1074.78,105.64 1074.79,105.637 1074.79,105.637 1074.81,105.634 1074.82,105.633 1074.85,105.628 1074.85,105.627 \n  1074.89,105.621 1074.96,105.609 1074.99,105.602 1075,105.602 1075.03,105.596 1075.06,105.591 1075.06,105.591 1075.08,105.588 1075.1,105.584 1075.11,105.582 \n  1075.18,105.571 1075.18,105.57 1075.18,105.57 1075.19,105.569 1075.19,105.568 1075.19,105.568 1075.2,105.567 1075.21,105.565 1075.26,105.557 1075.27,105.555 \n  1075.35,105.541 1075.36,105.54 1075.47,105.52 1075.55,105.506 1075.55,105.506 1075.69,105.481 1075.7,105.481 1075.74,105.473 1075.8,105.463 1075.83,105.458 \n  1075.83,105.458 1075.89,105.447 1075.97,105.434 1076.03,105.423 1076.11,105.41 1076.15,105.403 1076.17,105.399 1076.21,105.392 1076.23,105.389 1076.29,105.379 \n  1076.32,105.372 1076.34,105.369 1076.36,105.366 1076.37,105.364 1076.37,105.363 1076.38,105.362 1076.4,105.36 1076.41,105.358 1076.41,105.356 1076.46,105.349 \n  1076.51,105.341 1076.52,105.338 1076.52,105.337 1076.55,105.332 1076.56,105.332 1076.58,105.329 1076.59,105.325 1076.59,105.325 1076.61,105.322 1076.63,105.318 \n  1076.65,105.316 1076.67,105.312 1076.75,105.299 1076.77,105.295 1076.8,105.29 1076.8,105.289 1076.82,105.286 1076.83,105.284 1076.86,105.28 1076.86,105.279 \n  1076.89,105.275 1076.89,105.273 1076.92,105.269 1076.95,105.264 1076.99,105.257 1076.99,105.257 1077,105.256 1077.04,105.248 1077.09,105.24 1077.29,105.205 \n  1077.35,105.194 1077.36,105.192 1077.41,105.184 1077.41,105.183 1077.42,105.183 1077.42,105.182 1077.44,105.18 1077.45,105.177 1077.45,105.177 1077.46,105.176 \n  1077.47,105.174 1077.57,105.156 1077.61,105.15 1077.61,105.15 1077.61,105.149 1077.63,105.145 1077.66,105.14 1077.74,105.127 1077.75,105.124 1077.77,105.122 \n  1077.82,105.112 1077.83,105.111 1077.87,105.104 1077.9,105.1 1077.91,105.097 1077.91,105.097 1077.94,105.092 1078,105.083 1078,105.082 1078,105.082 \n  1078.01,105.081 1078.02,105.078 1078.04,105.074 1078.05,105.073 1078.06,105.072 1078.06,105.071 1078.11,105.063 1078.11,105.062 1078.12,105.061 1078.17,105.052 \n  1078.2,105.047 1078.21,105.046 1078.21,105.045 1078.21,105.045 1078.22,105.043 1078.26,105.038 1078.3,105.03 1078.3,105.029 1078.33,105.025 1078.34,105.024 \n  1078.36,105.019 1078.45,105.003 1078.47,105 1078.48,104.999 1078.52,104.992 1078.55,104.986 1078.56,104.984 1078.59,104.98 1078.61,104.976 1078.62,104.975 \n  1078.66,104.967 1078.67,104.966 1078.69,104.962 1078.7,104.961 1078.72,104.958 1078.73,104.955 1078.75,104.952 1078.8,104.943 1078.89,104.927 1078.95,104.917 \n  1078.96,104.915 1079.15,104.883 1079.24,104.867 1079.25,104.865 1079.35,104.849 1079.38,104.843 1079.46,104.829 1079.5,104.822 1079.53,104.816 1079.57,104.81 \n  1079.57,104.81 1079.58,104.807 1079.59,104.807 1079.6,104.805 1079.62,104.801 1079.64,104.797 1079.65,104.796 1079.66,104.795 1079.66,104.794 1079.67,104.793 \n  1079.75,104.779 1079.76,104.777 1079.77,104.775 1079.78,104.774 1079.84,104.764 1079.85,104.761 1079.87,104.758 1079.9,104.754 1079.9,104.753 1079.9,104.753 \n  1079.93,104.748 1079.97,104.741 1079.99,104.738 1080.01,104.734 1080.03,104.731 1080.03,104.731 1080.06,104.725 1080.07,104.724 1080.08,104.722 1080.1,104.718 \n  1080.13,104.712 1080.14,104.711 1080.14,104.711 1080.17,104.705 1080.18,104.705 1080.18,104.705 1080.19,104.702 1080.2,104.701 1080.21,104.699 1080.25,104.692 \n  1080.34,104.677 1080.34,104.677 1080.39,104.668 1080.4,104.666 1080.43,104.662 1080.45,104.658 1080.45,104.657 1080.46,104.657 1080.5,104.649 1080.53,104.644 \n  1080.59,104.634 1080.62,104.629 1080.69,104.616 1080.69,104.616 1080.8,104.596 1080.82,104.594 1080.84,104.59 1080.86,104.587 1080.86,104.586 1080.87,104.584 \n  1080.87,104.584 1080.88,104.583 1080.92,104.577 1080.92,104.577 1080.92,104.576 1080.93,104.575 1080.98,104.566 1081.02,104.559 1081.05,104.554 1081.07,104.55 \n  1081.08,104.549 1081.1,104.545 1081.11,104.543 1081.12,104.542 1081.18,104.531 1081.2,104.528 1081.21,104.527 1081.21,104.526 1081.25,104.519 1081.26,104.518 \n  1081.26,104.517 1081.26,104.517 1081.27,104.515 1081.3,104.511 1081.34,104.503 1081.34,104.503 1081.35,104.503 1081.37,104.498 1081.42,104.49 1081.42,104.49 \n  1081.42,104.49 1081.44,104.485 1081.46,104.483 1081.49,104.478 1081.49,104.477 1081.5,104.476 1081.53,104.471 1081.54,104.47 1081.58,104.462 1081.61,104.457 \n  1081.65,104.449 1081.67,104.447 1081.69,104.442 1081.73,104.435 1081.74,104.434 1081.76,104.43 1081.78,104.428 1081.78,104.426 1081.84,104.416 1081.9,104.407 \n  1081.91,104.404 1081.94,104.4 1081.94,104.399 1081.98,104.393 1081.98,104.392 1081.99,104.391 1081.99,104.391 1082.01,104.387 1082.07,104.376 1082.12,104.368 \n  1082.18,104.358 1082.18,104.357 1082.24,104.347 1082.26,104.345 1082.27,104.342 1082.31,104.335 1082.33,104.332 1082.33,104.331 1082.34,104.33 1082.35,104.329 \n  1082.37,104.325 1082.47,104.308 1082.48,104.306 1082.49,104.305 1082.5,104.303 1082.58,104.289 1082.59,104.287 1082.63,104.281 1082.63,104.28 1082.65,104.276 \n  1082.67,104.274 1082.68,104.272 1082.68,104.272 1082.72,104.264 1082.76,104.258 1082.77,104.256 1082.82,104.248 1082.83,104.246 1082.84,104.244 1082.85,104.242 \n  1082.85,104.242 1082.85,104.241 1082.92,104.229 1082.93,104.227 1082.96,104.222 1082.99,104.217 1083.08,104.202 1083.09,104.2 1083.11,104.196 1083.12,104.194 \n  1083.13,104.193 1083.15,104.189 1083.16,104.188 1083.21,104.179 1083.25,104.173 1083.25,104.173 1083.3,104.164 1083.32,104.16 1083.32,104.16 1083.35,104.155 \n  1083.36,104.154 1083.38,104.15 1083.4,104.147 1083.41,104.146 1083.41,104.145 1083.41,104.144 1083.43,104.142 1083.44,104.14 1083.47,104.135 1083.5,104.129 \n  1083.56,104.119 1083.6,104.112 1083.6,104.112 1083.65,104.103 1083.7,104.094 1083.7,104.094 1083.73,104.09 1083.74,104.087 1083.75,104.087 1083.77,104.082 \n  1083.79,104.078 1083.79,104.078 1083.79,104.078 1083.8,104.078 1083.83,104.072 1083.84,104.071 1083.86,104.067 1083.86,104.066 1083.88,104.063 1083.91,104.058 \n  1083.97,104.047 1084,104.042 1084.05,104.035 1084.06,104.033 1084.2,104.008 1084.26,103.997 1084.28,103.995 1084.33,103.985 1084.35,103.982 1084.4,103.974 \n  1084.41,103.971 1084.41,103.971 1084.42,103.97 1084.42,103.969 1084.44,103.967 1084.45,103.965 1084.46,103.963 1084.48,103.96 1084.49,103.958 1084.51,103.954 \n  1084.52,103.952 1084.54,103.95 1084.59,103.941 1084.65,103.931 1084.66,103.929 1084.67,103.926 1084.68,103.924 1084.68,103.924 1084.69,103.923 1084.69,103.923 \n  1084.71,103.92 1084.72,103.917 1084.73,103.917 1084.76,103.912 1084.76,103.91 1084.8,103.904 1084.83,103.899 1084.84,103.897 1084.85,103.895 1084.86,103.894 \n  1084.87,103.892 1084.87,103.891 1084.88,103.89 1084.9,103.887 1084.92,103.884 1084.92,103.883 1085,103.869 1085,103.869 1085,103.869 1085.02,103.866 \n  1085.11,103.85 1085.12,103.85 1085.12,103.848 1085.14,103.845 1085.18,103.838 1085.19,103.837 1085.22,103.831 1085.25,103.826 1085.25,103.826 1085.26,103.824 \n  1085.28,103.82 1085.29,103.819 1085.36,103.808 1085.37,103.806 1085.37,103.806 1085.39,103.803 1085.39,103.802 1085.39,103.801 1085.43,103.796 1085.44,103.793 \n  1085.45,103.792 1085.47,103.788 1085.48,103.787 1085.5,103.784 1085.51,103.781 1085.56,103.773 1085.57,103.771 1085.57,103.77 1085.59,103.767 1085.64,103.759 \n  1085.65,103.757 1085.71,103.746 1085.75,103.739 1085.83,103.726 1085.86,103.72 1085.87,103.719 1085.87,103.719 1085.88,103.716 1085.92,103.71 1085.94,103.706 \n  1085.96,103.703 1085.96,103.703 1085.97,103.702 1085.98,103.699 1085.99,103.699 1086.01,103.695 1086.02,103.694 1086.02,103.692 1086.08,103.683 1086.11,103.677 \n  1086.12,103.675 1086.12,103.675 1086.13,103.674 1086.14,103.672 1086.22,103.658 1086.24,103.654 1086.32,103.641 1086.32,103.641 1086.33,103.639 1086.34,103.638 \n  1086.36,103.633 1086.37,103.631 1086.39,103.629 1086.39,103.629 1086.39,103.629 1086.4,103.626 1086.41,103.626 1086.41,103.625 1086.42,103.624 1086.45,103.619 \n  1086.52,103.606 1086.53,103.604 1086.63,103.588 1086.67,103.581 1086.69,103.577 1086.72,103.571 1086.73,103.571 1086.73,103.57 1086.75,103.567 1086.8,103.557 \n  1086.82,103.555 1086.82,103.555 1086.85,103.549 1086.88,103.545 1086.88,103.544 1086.89,103.542 1086.9,103.54 1086.91,103.538 1086.92,103.537 1086.93,103.535 \n  1086.95,103.531 1086.99,103.526 1087,103.524 1087,103.523 1087.03,103.517 1087.03,103.517 1087.04,103.516 1087.05,103.515 1087.09,103.507 1087.1,103.506 \n  1087.1,103.505 1087.11,103.504 1087.12,103.502 1087.15,103.497 1087.15,103.496 1087.17,103.494 1087.37,103.46 1087.37,103.459 1087.38,103.458 1087.39,103.455 \n  1087.47,103.442 1087.55,103.428 1087.58,103.424 1087.58,103.423 1087.64,103.412 1087.66,103.409 1087.66,103.408 1087.7,103.403 1087.7,103.401 1087.75,103.394 \n  1087.76,103.392 1087.79,103.387 1087.81,103.383 1087.81,103.383 1087.82,103.381 1087.83,103.38 1087.83,103.379 1087.86,103.374 1087.87,103.373 1087.88,103.371 \n  1087.89,103.369 1087.9,103.367 1087.92,103.363 1087.93,103.361 1087.94,103.36 1087.96,103.357 1087.98,103.353 1088.01,103.349 1088.03,103.345 1088.06,103.34 \n  1088.07,103.338 1088.09,103.334 1088.11,103.331 1088.14,103.326 1088.15,103.323 1088.17,103.32 1088.18,103.318 1088.19,103.318 1088.2,103.316 1088.2,103.315 \n  1088.26,103.304 1088.27,103.303 1088.33,103.293 1088.37,103.285 1088.38,103.285 1088.4,103.28 1088.41,103.28 1088.41,103.278 1088.44,103.274 1088.44,103.274 \n  1088.45,103.271 1088.46,103.27 1088.47,103.269 1088.48,103.267 1088.48,103.266 1088.53,103.259 1088.54,103.256 1088.55,103.255 1088.57,103.252 1088.59,103.247 \n  1088.66,103.236 1088.66,103.236 1088.67,103.234 1088.68,103.232 1088.7,103.228 1088.72,103.225 1088.72,103.225 1088.74,103.223 1088.74,103.221 1088.75,103.22 \n  1088.79,103.213 1088.84,103.205 1088.87,103.2 1088.88,103.198 1088.89,103.196 1088.91,103.192 1088.91,103.192 1088.93,103.188 1088.99,103.178 1089,103.176 \n  1089.02,103.173 1089.05,103.169 1089.06,103.167 1089.07,103.165 1089.07,103.164 1089.1,103.16 1089.11,103.158 1089.12,103.156 1089.18,103.146 1089.18,103.145 \n  1089.25,103.133 1089.29,103.126 1089.32,103.121 1089.32,103.121 1089.32,103.121 1089.32,103.121 1089.37,103.113 1089.37,103.112 1089.38,103.112 1089.39,103.109 \n  1089.46,103.097 1089.46,103.097 1089.47,103.095 1089.48,103.094 1089.52,103.087 1089.56,103.08 1089.57,103.079 1089.57,103.077 1089.6,103.072 1089.61,103.072 \n  1089.62,103.069 1089.66,103.063 1089.67,103.061 1089.67,103.06 1089.67,103.06 1089.7,103.056 1089.7,103.056 1089.75,103.046 1089.81,103.037 1089.82,103.035 \n  1089.85,103.03 1089.85,103.03 1089.85,103.03 1089.86,103.028 1089.87,103.026 1089.91,103.019 1089.92,103.017 1089.93,103.017 1089.99,103.006 1090.01,103.002 \n  1090.03,102.999 1090.03,102.998 1090.1,102.987 1090.1,102.986 1090.11,102.984 1090.12,102.983 1090.16,102.976 1090.17,102.973 1090.2,102.969 1090.23,102.965 \n  1090.23,102.964 1090.24,102.962 1090.26,102.958 1090.27,102.956 1090.32,102.947 1090.33,102.946 1090.34,102.945 1090.38,102.938 1090.41,102.932 1090.42,102.931 \n  1090.42,102.931 1090.43,102.929 1090.46,102.924 1090.47,102.922 1090.49,102.918 1090.51,102.915 1090.53,102.912 1090.53,102.912 1090.56,102.907 1090.57,102.905 \n  1090.58,102.902 1090.6,102.9 1090.6,102.9 1090.6,102.9 1090.62,102.896 1090.65,102.892 1090.69,102.885 1090.7,102.883 1090.74,102.876 1090.76,102.872 \n  1090.77,102.871 1090.79,102.868 1090.79,102.867 1090.8,102.865 1090.82,102.862 1090.83,102.861 1090.85,102.856 1090.9,102.848 1090.91,102.846 1090.93,102.843 \n  1090.93,102.843 1090.94,102.842 1090.94,102.84 1090.94,102.84 1090.95,102.839 1090.95,102.838 1090.96,102.837 1090.97,102.835 1090.99,102.832 1091.01,102.828 \n  1091.02,102.827 1091.04,102.824 1091.06,102.819 1091.07,102.818 1091.09,102.815 1091.11,102.811 1091.14,102.806 1091.16,102.803 1091.17,102.801 1091.17,102.801 \n  1091.19,102.797 1091.19,102.797 1091.2,102.796 1091.21,102.794 1091.23,102.791 1091.24,102.789 1091.27,102.784 1091.27,102.783 1091.28,102.781 1091.32,102.776 \n  1091.33,102.774 1091.34,102.771 1091.35,102.77 1091.35,102.77 1091.36,102.769 1091.38,102.764 1091.4,102.761 1091.42,102.757 1091.45,102.753 1091.45,102.752 \n  1091.5,102.743 1091.52,102.741 1091.54,102.737 1091.54,102.737 1091.57,102.732 1091.58,102.729 1091.58,102.729 1091.61,102.725 1091.61,102.724 1091.62,102.722 \n  1091.63,102.721 1091.66,102.717 1091.71,102.707 1091.75,102.701 1091.77,102.697 1091.77,102.696 1091.79,102.693 1091.81,102.69 1091.82,102.689 1091.9,102.675 \n  1091.9,102.675 1091.95,102.666 1091.97,102.663 1091.97,102.663 1092.02,102.654 1092.03,102.652 1092.05,102.649 1092.08,102.643 1092.09,102.642 1092.1,102.64 \n  1092.1,102.64 1092.1,102.64 1092.12,102.637 1092.14,102.633 1092.16,102.629 1092.17,102.628 1092.18,102.626 1092.18,102.626 1092.18,102.626 1092.19,102.624 \n  1092.19,102.624 1092.2,102.623 1092.2,102.622 1092.25,102.614 1092.25,102.613 1092.29,102.607 1092.31,102.604 1092.32,102.602 1092.34,102.598 1092.34,102.598 \n  1092.37,102.592 1092.4,102.587 1092.41,102.587 1092.41,102.586 1092.41,102.586 1092.42,102.584 1092.42,102.584 1092.44,102.581 1092.44,102.581 1092.45,102.579 \n  1092.49,102.572 1092.5,102.571 1092.5,102.57 1092.51,102.569 1092.53,102.565 1092.54,102.563 1092.57,102.559 1092.58,102.556 1092.61,102.551 1092.62,102.55 \n  1092.64,102.547 1092.64,102.547 1092.64,102.546 1092.66,102.544 1092.66,102.543 1092.66,102.542 1092.67,102.541 1092.67,102.541 1092.67,102.541 1092.68,102.54 \n  1092.68,102.54 1092.69,102.538 1092.7,102.535 1092.75,102.527 1092.76,102.526 1092.77,102.525 1092.77,102.524 1092.77,102.524 1092.77,102.524 1092.78,102.522 \n  1092.81,102.516 1092.82,102.516 1092.85,102.51 1092.88,102.504 1092.9,102.502 1092.92,102.497 1092.96,102.492 1093,102.484 1093.05,102.476 1093.05,102.475 \n  1093.06,102.473 1093.06,102.473 1093.09,102.469 1093.12,102.464 1093.13,102.462 1093.13,102.461 1093.15,102.458 1093.19,102.451 1093.24,102.442 1093.24,102.442 \n  1093.29,102.434 1093.29,102.433 1093.3,102.432 1093.3,102.431 1093.31,102.431 1093.31,102.43 1093.36,102.422 1093.41,102.413 1093.43,102.41 1093.49,102.399 \n  1093.53,102.393 1093.53,102.393 1093.54,102.391 1093.55,102.39 1093.58,102.383 1093.59,102.382 1093.63,102.376 1093.66,102.369 1093.76,102.353 1093.77,102.351 \n  1093.77,102.351 1093.78,102.35 1093.78,102.349 1093.79,102.347 1093.79,102.347 1093.81,102.345 1093.86,102.336 1093.86,102.336 1093.88,102.332 1093.89,102.33 \n  1093.91,102.326 1093.92,102.324 1093.93,102.323 1093.93,102.322 1093.94,102.321 1093.94,102.321 1093.95,102.32 1093.96,102.318 1093.99,102.313 1093.99,102.312 \n  1094.01,102.308 1094.05,102.303 1094.07,102.298 1094.12,102.29 1094.12,102.289 1094.15,102.284 1094.16,102.283 1094.16,102.282 1094.17,102.282 1094.2,102.276 \n  1094.21,102.275 1094.24,102.268 1094.26,102.265 1094.28,102.263 1094.28,102.262 1094.28,102.262 1094.28,102.262 1094.3,102.26 1094.37,102.246 1094.38,102.245 \n  1094.38,102.244 1094.39,102.243 1094.41,102.239 1094.45,102.232 1094.45,102.232 1094.46,102.23 1094.47,102.23 1094.49,102.226 1094.52,102.221 1094.52,102.22 \n  1094.55,102.215 1094.55,102.215 1094.59,102.208 1094.59,102.208 1094.63,102.202 1094.64,102.201 1094.67,102.195 1094.69,102.191 1094.7,102.189 1094.71,102.188 \n  1094.71,102.188 1094.74,102.182 1094.74,102.182 1094.78,102.176 1094.79,102.174 1094.85,102.164 1094.88,102.159 1094.88,102.158 1094.89,102.156 1094.91,102.153 \n  1094.93,102.149 1094.94,102.149 1094.95,102.146 1094.96,102.144 1094.96,102.144 1094.97,102.143 1095.01,102.136 1095.01,102.135 1095.02,102.135 1095.05,102.129 \n  1095.07,102.126 1095.08,102.124 1095.08,102.124 1095.09,102.123 1095.09,102.121 1095.16,102.109 1095.16,102.109 1095.19,102.105 1095.22,102.1 1095.22,102.1 \n  1095.23,102.098 1095.23,102.097 1095.27,102.092 1095.27,102.091 1095.27,102.091 1095.31,102.084 1095.34,102.079 1095.34,102.079 1095.35,102.077 1095.36,102.076 \n  1095.36,102.075 1095.39,102.07 1095.39,102.069 1095.45,102.059 1095.46,102.057 1095.47,102.056 1095.52,102.048 1095.54,102.044 1095.6,102.033 1095.62,102.031 \n  1095.63,102.029 1095.63,102.028 1095.64,102.026 1095.66,102.023 1095.69,102.019 1095.69,102.018 1095.72,102.013 1095.75,102.008 1095.76,102.006 1095.79,102.001 \n  1095.79,102 1095.84,101.993 1095.84,101.993 1095.84,101.992 1095.91,101.979 1095.93,101.976 1095.96,101.971 1095.96,101.971 1095.96,101.971 1095.98,101.969 \n  1095.98,101.967 1095.99,101.966 1096,101.965 1096.02,101.961 1096.04,101.957 1096.04,101.957 1096.08,101.95 1096.16,101.936 1096.17,101.934 1096.23,101.924 \n  1096.28,101.916 1096.29,101.914 1096.3,101.913 1096.31,101.912 1096.31,101.911 1096.33,101.907 1096.36,101.903 1096.36,101.902 1096.38,101.899 1096.41,101.894 \n  1096.42,101.891 1096.45,101.887 1096.46,101.885 1096.47,101.883 1096.51,101.877 1096.51,101.876 1096.54,101.87 1096.56,101.868 1096.58,101.864 1096.59,101.863 \n  1096.6,101.861 1096.61,101.858 1096.63,101.856 1096.63,101.855 1096.63,101.855 1096.64,101.854 1096.69,101.845 1096.71,101.842 1096.71,101.842 1096.71,101.842 \n  1096.71,101.841 1096.72,101.841 1096.72,101.84 1096.73,101.838 1096.73,101.838 1096.73,101.837 1096.74,101.836 1096.75,101.835 1096.77,101.831 1096.82,101.823 \n  1096.84,101.819 1096.9,101.809 1096.91,101.807 1096.91,101.807 1096.93,101.804 1096.94,101.802 1096.95,101.8 1096.98,101.794 1096.99,101.793 1097,101.792 \n  1097.02,101.788 1097.03,101.787 1097.03,101.786 1097.04,101.785 1097.05,101.783 1097.08,101.777 1097.13,101.769 1097.13,101.769 1097.16,101.764 1097.16,101.764 \n  1097.17,101.762 1097.19,101.758 1097.2,101.757 1097.2,101.756 1097.22,101.753 1097.23,101.752 1097.23,101.752 1097.25,101.748 1097.25,101.747 1097.27,101.745 \n  1097.28,101.744 1097.28,101.742 1097.31,101.738 1097.34,101.732 1097.35,101.731 1097.35,101.73 1097.37,101.727 1097.39,101.724 1097.39,101.724 1097.4,101.722 \n  1097.42,101.719 1097.43,101.718 1097.45,101.713 1097.46,101.712 1097.48,101.709 1097.49,101.706 1097.49,101.706 1097.5,101.705 1097.53,101.699 1097.54,101.698 \n  1097.54,101.698 1097.54,101.697 1097.55,101.696 1097.58,101.69 1097.59,101.69 1097.61,101.686 1097.63,101.681 1097.64,101.681 1097.64,101.68 1097.68,101.673 \n  1097.76,101.66 1097.79,101.655 1097.82,101.65 1097.82,101.65 1097.82,101.649 1097.85,101.645 1097.86,101.642 1097.87,101.641 1097.87,101.641 1097.93,101.63 \n  1097.94,101.628 1097.97,101.624 1098.02,101.615 1098.02,101.614 1098.03,101.613 1098.07,101.605 1098.08,101.604 1098.1,101.6 1098.11,101.6 1098.12,101.597 \n  1098.23,101.579 1098.23,101.578 1098.32,101.563 1098.32,101.563 1098.32,101.562 1098.33,101.561 1098.33,101.56 1098.34,101.56 1098.37,101.555 1098.38,101.553 \n  1098.39,101.55 1098.4,101.549 1098.41,101.547 1098.41,101.546 1098.43,101.544 1098.43,101.543 1098.49,101.533 1098.51,101.531 1098.53,101.527 1098.54,101.524 \n  1098.56,101.521 1098.57,101.52 1098.57,101.52 1098.61,101.513 1098.62,101.51 1098.63,101.508 1098.64,101.508 1098.67,101.503 1098.67,101.502 1098.68,101.501 \n  1098.71,101.495 1098.71,101.495 1098.71,101.495 1098.72,101.494 1098.76,101.486 1098.76,101.486 1098.84,101.473 1098.86,101.468 1098.87,101.468 1098.9,101.462 \n  1098.91,101.46 1098.93,101.457 1098.94,101.455 1098.96,101.452 1098.98,101.448 1099.01,101.442 1099.02,101.442 1099.03,101.44 1099.03,101.44 1099.04,101.437 \n  1099.08,101.432 1099.09,101.429 1099.13,101.422 1099.16,101.418 1099.18,101.413 1099.19,101.411 1099.2,101.41 1099.21,101.409 1099.22,101.406 1099.24,101.404 \n  1099.24,101.404 1099.24,101.404 1099.24,101.403 1099.25,101.402 1099.25,101.401 1099.31,101.391 1099.36,101.382 1099.4,101.375 1099.42,101.373 1099.43,101.37 \n  1099.45,101.367 1099.45,101.366 1099.48,101.361 1099.48,101.361 1099.51,101.356 1099.52,101.355 1099.53,101.353 1099.54,101.351 1099.56,101.348 1099.56,101.348 \n  1099.57,101.347 1099.57,101.345 1099.58,101.344 1099.6,101.34 1099.62,101.338 1099.71,101.323 1099.71,101.322 1099.72,101.32 1099.72,101.32 1099.74,101.316 \n  1099.74,101.316 1099.75,101.315 1099.77,101.311 1099.8,101.306 1099.87,101.295 1099.87,101.294 1099.88,101.293 1099.89,101.291 1099.9,101.289 1099.91,101.286 \n  1099.92,101.285 1099.94,101.282 1099.94,101.282 1099.98,101.276 1099.99,101.274 1100.02,101.269 1100.02,101.268 1100.05,101.264 1100.05,101.263 1100.05,101.262 \n  1100.06,101.262 1100.08,101.259 1100.09,101.256 1100.1,101.255 1100.1,101.254 1100.1,101.254 1100.16,101.245 1100.16,101.243 1100.18,101.241 1100.26,101.226 \n  1100.27,101.226 1100.27,101.224 1100.28,101.223 1100.3,101.221 1100.3,101.22 1100.3,101.22 1100.31,101.217 1100.33,101.215 1100.38,101.205 1100.39,101.204 \n  1100.39,101.204 1100.41,101.201 1100.41,101.201 1100.41,101.2 1100.44,101.196 1100.44,101.196 1100.44,101.195 1100.44,101.195 1100.49,101.186 1100.5,101.186 \n  1100.51,101.184 1100.51,101.183 1100.53,101.18 1100.54,101.179 1100.54,101.179 1100.54,101.179 1100.57,101.173 1100.59,101.17 1100.61,101.166 1100.64,101.16 \n  1100.67,101.157 1100.7,101.15 1100.71,101.149 1100.76,101.14 1100.78,101.136 1100.8,101.133 1100.8,101.132 1100.84,101.125 1100.85,101.125 1100.87,101.121 \n  1100.88,101.119 1100.9,101.116 1100.91,101.115 1100.92,101.113 1100.92,101.113 1100.94,101.108 1101.01,101.096 1101.02,101.096 1101.02,101.095 1101.07,101.087 \n  1101.09,101.084 1101.09,101.083 1101.1,101.081 1101.13,101.076 1101.14,101.075 1101.14,101.074 1101.15,101.073 1101.15,101.072 1101.18,101.067 1101.19,101.065 \n  1101.21,101.063 1101.22,101.061 1101.23,101.059 1101.24,101.057 1101.25,101.056 1101.25,101.056 1101.26,101.053 1101.31,101.045 1101.32,101.044 1101.34,101.039 \n  1101.36,101.037 1101.36,101.035 1101.36,101.035 1101.4,101.029 1101.4,101.029 1101.41,101.028 1101.45,101.021 1101.47,101.017 1101.49,101.013 1101.53,101.007 \n  1101.53,101.006 1101.54,101.005 1101.55,101.004 1101.55,101.003 1101.55,101.003 1101.58,100.998 1101.6,100.995 1101.6,100.994 1101.62,100.992 1101.62,100.991 \n  1101.64,100.988 1101.64,100.987 1101.65,100.986 1101.65,100.986 1101.66,100.985 1101.66,100.984 1101.67,100.982 1101.67,100.982 1101.68,100.982 1101.68,100.981 \n  1101.69,100.98 1101.7,100.977 1101.7,100.977 1101.71,100.976 1101.71,100.976 1101.71,100.976 1101.71,100.975 1101.71,100.975 1101.72,100.975 1101.73,100.971 \n  1101.76,100.967 1101.76,100.967 1101.81,100.958 1101.84,100.954 1101.89,100.945 1101.9,100.942 1101.9,100.942 1101.91,100.941 1101.92,100.94 1101.93,100.937 \n  1101.97,100.931 1101.98,100.929 1102.01,100.924 1102.01,100.923 1102.02,100.923 1102.03,100.921 1102.05,100.917 1102.09,100.909 1102.13,100.902 1102.14,100.901 \n  1102.17,100.897 1102.18,100.894 1102.18,100.894 1102.19,100.892 1102.2,100.891 1102.21,100.89 1102.21,100.889 1102.22,100.888 1102.23,100.886 1102.24,100.884 \n  1102.25,100.882 1102.25,100.881 1102.26,100.88 1102.27,100.879 1102.27,100.878 1102.32,100.871 1102.35,100.865 1102.36,100.862 1102.4,100.857 1102.41,100.854 \n  1102.42,100.852 1102.44,100.848 1102.51,100.837 1102.51,100.837 1102.52,100.836 1102.54,100.832 1102.54,100.831 1102.55,100.83 1102.56,100.828 1102.61,100.82 \n  1102.64,100.815 1102.65,100.813 1102.68,100.808 1102.7,100.804 1102.72,100.8 1102.75,100.795 1102.76,100.794 1102.76,100.793 1102.78,100.791 1102.78,100.789 \n  1102.79,100.789 1102.81,100.785 1102.83,100.782 1102.85,100.777 1102.88,100.774 1102.89,100.771 1102.9,100.769 1102.94,100.763 1102.95,100.762 1102.96,100.759 \n  1102.97,100.757 1102.98,100.755 1102.99,100.754 1102.99,100.754 1103.01,100.751 1103.04,100.746 1103.05,100.743 1103.07,100.739 1103.09,100.737 1103.09,100.737 \n  1103.1,100.735 1103.1,100.735 1103.11,100.732 1103.12,100.731 1103.13,100.729 1103.14,100.728 1103.2,100.718 1103.2,100.717 1103.24,100.71 1103.25,100.709 \n  1103.26,100.707 1103.28,100.703 1103.28,100.703 1103.29,100.702 1103.3,100.7 1103.3,100.7 1103.34,100.693 1103.34,100.693 1103.36,100.69 1103.36,100.69 \n  1103.39,100.684 1103.44,100.675 1103.48,100.669 1103.53,100.661 1103.54,100.659 1103.54,100.659 1103.55,100.657 1103.55,100.657 1103.56,100.655 1103.56,100.654 \n  1103.59,100.649 1103.6,100.648 1103.63,100.643 1103.64,100.641 1103.64,100.641 1103.64,100.64 1103.66,100.638 1103.67,100.637 1103.67,100.636 1103.69,100.633 \n  1103.7,100.632 1103.74,100.624 1103.75,100.623 1103.75,100.622 1103.76,100.621 1103.78,100.617 1103.81,100.613 1103.81,100.612 1103.81,100.612 1103.81,100.612 \n  1103.82,100.611 1103.82,100.611 1103.85,100.606 1103.86,100.603 1103.91,100.594 1103.91,100.594 1103.97,100.584 1104.01,100.577 1104.03,100.574 1104.03,100.573 \n  1104.06,100.569 1104.09,100.564 1104.1,100.561 1104.12,100.559 1104.13,100.557 1104.13,100.556 1104.14,100.555 1104.16,100.551 1104.22,100.54 1104.23,100.54 \n  1104.23,100.539 1104.26,100.534 1104.27,100.532 1104.27,100.532 1104.33,100.522 1104.33,100.522 1104.33,100.521 1104.34,100.52 1104.35,100.519 1104.38,100.512 \n  1104.39,100.511 1104.4,100.509 1104.4,100.509 1104.41,100.508 1104.41,100.507 1104.46,100.499 1104.48,100.497 1104.5,100.492 1104.52,100.489 1104.52,100.489 \n  1104.52,100.488 1104.59,100.478 1104.59,100.476 1104.6,100.476 1104.6,100.475 1104.61,100.473 1104.61,100.473 1104.62,100.472 1104.65,100.466 1104.66,100.464 \n  1104.68,100.461 1104.69,100.46 1104.7,100.458 1104.71,100.456 1104.73,100.453 1104.73,100.452 1104.74,100.451 1104.74,100.45 1104.81,100.439 1104.81,100.439 \n  1104.81,100.438 1104.83,100.435 1104.86,100.431 1104.86,100.429 1104.87,100.429 1104.87,100.428 1104.87,100.428 1104.89,100.425 1104.91,100.422 1104.91,100.421 \n  1104.92,100.42 1104.93,100.419 1104.95,100.415 1104.98,100.409 1104.98,100.408 1105.01,100.404 1105.01,100.404 1105.02,100.403 1105.03,100.4 1105.05,100.397 \n  1105.06,100.395 1105.09,100.39 1105.1,100.389 1105.1,100.389 1105.1,100.388 1105.14,100.382 1105.15,100.38 1105.16,100.377 1105.19,100.373 1105.19,100.373 \n  1105.21,100.369 1105.22,100.368 1105.23,100.366 1105.24,100.365 1105.24,100.364 1105.25,100.363 1105.27,100.359 1105.3,100.355 1105.3,100.353 1105.31,100.352 \n  1105.32,100.351 1105.35,100.344 1105.36,100.343 1105.37,100.342 1105.38,100.34 1105.38,100.34 1105.38,100.34 1105.4,100.336 1105.4,100.336 1105.41,100.335 \n  1105.48,100.322 1105.49,100.322 1105.5,100.319 1105.5,100.319 1105.52,100.316 1105.55,100.31 1105.56,100.309 1105.57,100.307 1105.57,100.306 1105.59,100.304 \n  1105.59,100.304 1105.6,100.301 1105.6,100.301 1105.63,100.297 1105.64,100.295 1105.64,100.295 1105.66,100.292 1105.67,100.289 1105.68,100.287 1105.68,100.287 \n  1105.69,100.287 1105.69,100.287 1105.72,100.28 1105.75,100.276 1105.78,100.271 1105.79,100.268 1105.8,100.267 1105.81,100.265 1105.83,100.263 1105.83,100.262 \n  1105.84,100.26 1105.85,100.259 1105.86,100.257 1105.87,100.255 1105.89,100.252 1105.9,100.251 1105.91,100.248 1105.92,100.246 1105.93,100.245 1105.96,100.239 \n  1105.98,100.236 1106.01,100.231 1106.02,100.229 1106.02,100.229 1106.04,100.225 1106.07,100.221 1106.08,100.218 1106.08,100.218 1106.1,100.215 1106.1,100.215 \n  1106.12,100.213 1106.13,100.211 1106.13,100.21 1106.13,100.209 1106.15,100.207 1106.15,100.207 1106.15,100.206 1106.16,100.205 1106.16,100.205 1106.16,100.205 \n  1106.2,100.199 1106.21,100.196 1106.21,100.196 1106.23,100.193 1106.26,100.188 1106.26,100.188 1106.26,100.187 1106.27,100.186 1106.27,100.185 1106.28,100.184 \n  1106.28,100.184 1106.33,100.176 1106.33,100.175 1106.35,100.172 1106.35,100.172 1106.35,100.172 1106.35,100.171 1106.36,100.17 1106.37,100.168 1106.38,100.167 \n  1106.38,100.167 1106.39,100.166 1106.4,100.164 1106.41,100.162 1106.42,100.159 1106.43,100.157 1106.44,100.157 1106.46,100.153 1106.47,100.151 1106.47,100.151 \n  1106.5,100.146 1106.54,100.139 1106.56,100.135 1106.56,100.135 1106.58,100.132 1106.59,100.13 1106.62,100.125 1106.63,100.124 1106.66,100.119 1106.67,100.117 \n  1106.68,100.115 1106.69,100.113 1106.69,100.113 1106.69,100.113 1106.71,100.109 1106.72,100.108 1106.73,100.107 1106.74,100.104 1106.75,100.103 1106.75,100.102 \n  1106.75,100.102 1106.77,100.099 1106.81,100.092 1106.83,100.089 1106.83,100.088 1106.84,100.087 1106.86,100.084 1106.87,100.081 1106.87,100.081 1106.88,100.081 \n  1106.89,100.079 1106.9,100.077 1106.91,100.074 1106.92,100.073 1106.92,100.073 1106.93,100.071 1106.95,100.068 1106.96,100.067 1106.97,100.065 1106.98,100.062 \n  1106.98,100.062 1106.99,100.061 1107,100.059 1107.02,100.057 1107.05,100.051 1107.06,100.049 1107.06,100.049 1107.06,100.048 1107.08,100.046 1107.09,100.045 \n  1107.09,100.043 1107.09,100.043 1107.11,100.04 1107.12,100.039 1107.14,100.035 1107.15,100.033 1107.16,100.032 1107.16,100.032 1107.17,100.029 1107.24,100.017 \n  1107.28,100.01 1107.28,100.01 1107.32,100.005 1107.33,100.002 1107.33,100.002 1107.36,99.9971 1107.38,99.9941 1107.39,99.9915 1107.39,99.9915 1107.4,99.9906 \n  1107.45,99.9817 1107.45,99.9811 1107.47,99.978 1107.47,99.9779 1107.49,99.9742 1107.49,99.9738 1107.5,99.9736 1107.5,99.9722 1107.52,99.9699 1107.53,99.9682 \n  1107.53,99.9681 1107.53,99.9681 1107.53,99.9678 1107.54,99.9651 1107.54,99.9651 1107.56,99.9616 1107.58,99.9592 1107.58,99.9588 1107.58,99.9583 1107.62,99.952 \n  1107.63,99.9495 1107.64,99.9491 1107.64,99.9485 1107.66,99.9446 1107.67,99.9433 1107.68,99.9417 1107.7,99.9374 1107.74,99.9317 1107.74,99.9305 1107.75,99.9303 \n  1107.79,99.9233 1107.79,99.9217 1107.8,99.9212 1107.82,99.9172 1107.87,99.9096 1107.87,99.9085 1107.88,99.9067 1107.9,99.9032 1107.91,99.9015 1107.92,99.8997 \n  1107.94,99.8969 1107.94,99.8958 1107.97,99.892 1107.97,99.891 1107.97,99.8909 1107.97,99.8907 1107.97,99.8906 1107.99,99.8883 1107.99,99.8875 1108,99.8856 \n  1108.03,99.8818 1108.05,99.8768 1108.07,99.8738 1108.1,99.8691 1108.1,99.8691 1108.1,99.8684 1108.11,99.8674 1108.12,99.8653 1108.13,99.8632 1108.13,99.863 \n  1108.14,99.8619 1108.16,99.8593 1108.16,99.8585 1108.17,99.8569 1108.17,99.8559 1108.18,99.8557 1108.18,99.8555 1108.19,99.8534 1108.2,99.8512 1108.23,99.8469 \n  1108.23,99.8466 1108.24,99.8447 1108.25,99.8424 1108.27,99.8394 1108.29,99.8351 1108.3,99.8334 1108.32,99.83 1108.35,99.8251 1108.35,99.8251 1108.37,99.8216 \n  1108.39,99.8186 1108.39,99.8181 1108.43,99.8112 1108.44,99.8107 1108.44,99.8107 1108.45,99.8083 1108.46,99.8059 1108.47,99.8053 1108.47,99.804 1108.48,99.8025 \n  1108.55,99.7913 1108.56,99.7897 1108.56,99.7886 1108.58,99.7866 1108.59,99.7844 1108.61,99.7807 1108.64,99.776 1108.64,99.7754 1108.64,99.7746 1108.65,99.7737 \n  1108.67,99.77 1108.69,99.7669 1108.69,99.7668 1108.71,99.7636 1108.71,99.7634 1108.72,99.7608 1108.73,99.7601 1108.75,99.7564 1108.76,99.7547 1108.77,99.7529 \n  1108.77,99.7523 1108.77,99.7522 1108.78,99.7508 1108.8,99.747 1108.82,99.7443 1108.83,99.7428 1108.84,99.7414 1108.85,99.7386 1108.88,99.7338 1108.89,99.732 \n  1108.89,99.732 1108.9,99.7312 1108.91,99.7288 1108.92,99.7272 1108.95,99.7218 1108.95,99.7213 1108.97,99.7181 1108.97,99.7179 1108.97,99.7176 1108.98,99.717 \n  1108.99,99.7153 1108.99,99.7147 1109.02,99.7101 1109.02,99.7094 1109.05,99.7044 1109.06,99.7027 1109.06,99.7023 1109.08,99.6991 1109.1,99.6954 1109.11,99.6933 \n  1109.12,99.6931 1109.13,99.6897 1109.14,99.6884 1109.16,99.6858 1109.19,99.6804 1109.19,99.6797 1109.23,99.674 1109.23,99.6724 1109.25,99.6702 1109.26,99.6675 \n  1109.27,99.6654 1109.28,99.6644 1109.3,99.6603 1109.33,99.6551 1109.35,99.6531 1109.36,99.651 1109.36,99.6506 1109.37,99.6489 1109.38,99.6474 1109.39,99.6453 \n  1109.39,99.6453 1109.39,99.6452 1109.44,99.6377 1109.46,99.6337 1109.49,99.6278 1109.51,99.6245 1109.51,99.6245 1109.53,99.6213 1109.54,99.6186 1109.55,99.6175 \n  1109.56,99.6166 1109.56,99.6161 1109.56,99.6159 1109.57,99.6135 1109.59,99.6104 1109.6,99.6084 1109.62,99.6056 1109.65,99.5997 1109.65,99.5996 1109.68,99.5951 \n  1109.68,99.5948 1109.69,99.5934 1109.69,99.5929 1109.7,99.591 1109.73,99.5864 1109.73,99.5858 1109.74,99.5854 1109.75,99.5828 1109.76,99.5812 1109.76,99.5808 \n  1109.78,99.5772 1109.84,99.567 1109.87,99.5619 1109.89,99.5583 1109.9,99.5567 1109.9,99.5565 1109.91,99.556 1109.93,99.5521 1109.94,99.5501 1109.97,99.5456 \n  1109.97,99.5452 1109.99,99.5407 1110,99.5398 1110.02,99.5355 1110.03,99.5343 1110.03,99.5338 1110.04,99.5336 1110.07,99.5279 1110.08,99.5265 1110.1,99.5231 \n  1110.1,99.5222 1110.14,99.5163 1110.14,99.5153 1110.14,99.5151 1110.15,99.5131 1110.16,99.5116 1110.18,99.5092 1110.18,99.5088 1110.18,99.5082 1110.22,99.5011 \n  1110.23,99.5001 1110.24,99.4989 1110.24,99.4988 1110.24,99.4976 1110.26,99.4951 1110.27,99.4938 1110.29,99.489 1110.32,99.4844 1110.33,99.4834 1110.33,99.482 \n  1110.33,99.4818 1110.34,99.4801 1110.39,99.4728 1110.41,99.4689 1110.44,99.4632 1110.44,99.4629 1110.49,99.4546 1110.51,99.4516 1110.52,99.4499 1110.53,99.4483 \n  1110.53,99.4478 1110.54,99.4468 1110.54,99.4456 1110.58,99.4402 1110.63,99.4314 1110.64,99.4297 1110.65,99.4277 1110.66,99.4247 1110.67,99.4246 1110.68,99.4221 \n  1110.68,99.4213 1110.69,99.4212 1110.7,99.4183 1110.71,99.4169 1110.74,99.4115 1110.75,99.4106 1110.76,99.409 1110.76,99.4088 1110.76,99.4083 1110.76,99.4075 \n  1110.77,99.4072 1110.77,99.4072 1110.77,99.4061 1110.78,99.4048 1110.78,99.4046 1110.79,99.4038 1110.8,99.4008 1110.8,99.4008 1110.8,99.4008 1110.82,99.3984 \n  1110.82,99.3971 1110.82,99.397 1110.83,99.3964 1110.84,99.3944 1110.84,99.3937 1110.85,99.3929 1110.85,99.3921 1110.85,99.3919 1110.86,99.3917 1110.86,99.3916 \n  1110.86,99.3913 1110.87,99.3899 1110.87,99.3891 1110.9,99.3838 1110.9,99.3838 1110.9,99.3832 1110.92,99.3798 1110.98,99.3698 1111,99.3666 1111.01,99.3652 \n  1111.01,99.3649 1111.03,99.3621 1111.03,99.3609 1111.03,99.3608 1111.04,99.36 1111.06,99.3565 1111.07,99.3552 1111.08,99.3532 1111.09,99.3505 1111.09,99.3503 \n  1111.1,99.3501 1111.11,99.3471 1111.12,99.3459 1111.13,99.3438 1111.15,99.3403 1111.19,99.3339 1111.19,99.3331 1111.2,99.3317 1111.21,99.3306 1111.21,99.3296 \n  1111.23,99.3276 1111.23,99.326 1111.24,99.3242 1111.26,99.321 1111.28,99.3183 1111.29,99.3171 1111.29,99.3162 1111.3,99.3143 1111.31,99.3136 1111.31,99.3122 \n  1111.33,99.3094 1111.35,99.3055 1111.36,99.305 1111.36,99.3045 1111.37,99.3024 1111.39,99.2993 1111.39,99.2991 1111.39,99.2988 1111.41,99.2956 1111.43,99.2921 \n  1111.45,99.2889 1111.45,99.2885 1111.46,99.2875 1111.47,99.2853 1111.48,99.2827 1111.52,99.277 1111.52,99.2761 1111.53,99.2756 1111.54,99.2737 1111.57,99.2678 \n  1111.57,99.2675 1111.58,99.2669 1111.58,99.2669 1111.58,99.2658 1111.58,99.2657 1111.58,99.2656 1111.63,99.2581 1111.63,99.2576 1111.64,99.2553 1111.66,99.2521 \n  1111.68,99.2496 1111.69,99.2466 1111.7,99.2452 1111.7,99.2451 1111.71,99.2433 1111.74,99.2377 1111.75,99.2359 1111.8,99.2288 1111.8,99.2276 1111.81,99.2268 \n  1111.83,99.2229 1111.86,99.2171 1111.86,99.217 1111.87,99.216 1111.87,99.2153 1111.88,99.2136 1111.91,99.2088 1111.93,99.2054 1111.94,99.2031 1111.95,99.2026 \n  1111.96,99.1997 1111.97,99.1993 1111.97,99.1991 1111.97,99.1988 1111.98,99.1976 1111.98,99.197 1112,99.1929 1112.01,99.192 1112.02,99.1908 1112.04,99.1865 \n  1112.05,99.1845 1112.07,99.1812 1112.11,99.1752 1112.11,99.1747 1112.14,99.1684 1112.18,99.1631 1112.19,99.1609 1112.19,99.1606 1112.2,99.1588 1112.22,99.155 \n  1112.24,99.1514 1112.26,99.1492 1112.29,99.1436 1112.31,99.1406 1112.31,99.1397 1112.31,99.1393 1112.33,99.137 1112.33,99.1361 1112.38,99.1273 1112.39,99.1266 \n  1112.41,99.1228 1112.42,99.1214 1112.42,99.1214 1112.42,99.1211 1112.49,99.1092 1112.49,99.1092 1112.49,99.1079 1112.53,99.1025 1112.55,99.0985 1112.56,99.0973 \n  1112.56,99.0959 1112.56,99.0959 1112.57,99.0949 1112.57,99.0947 1112.57,99.0944 1112.58,99.0935 1112.59,99.0907 1112.61,99.0882 1112.61,99.088 1112.62,99.0856 \n  1112.64,99.0831 1112.64,99.0818 1112.66,99.0789 1112.67,99.0766 1112.71,99.0703 1112.72,99.0694 1112.75,99.0641 1112.75,99.0627 1112.76,99.0614 1112.77,99.0597 \n  1112.78,99.0588 1112.79,99.0567 1112.8,99.0551 1112.82,99.0522 1112.82,99.0515 1112.82,99.0509 1112.82,99.0506 1112.84,99.0473 1112.85,99.0469 1112.85,99.0466 \n  1112.85,99.0458 1112.86,99.0446 1112.88,99.0416 1112.88,99.0408 1112.89,99.0393 1112.92,99.0344 1112.92,99.0341 1112.96,99.0272 1112.97,99.0249 1112.99,99.0224 \n  1113,99.0204 1113.01,99.0184 1113.02,99.0173 1113.02,99.0165 1113.02,99.0165 1113.04,99.0128 1113.05,99.0118 1113.07,99.0084 1113.08,99.0056 1113.09,99.0047 \n  1113.11,99.0013 1113.12,98.999 1113.13,98.9978 1113.13,98.9973 1113.13,98.9972 1113.14,98.9958 1113.16,98.9933 1113.16,98.9931 1113.16,98.9919 1113.16,98.9918 \n  1113.18,98.9882 1113.21,98.9837 1113.27,98.9741 1113.27,98.9741 1113.27,98.9734 1113.27,98.9733 1113.28,98.9726 1113.29,98.9695 1113.33,98.963 1113.34,98.961 \n  1113.36,98.9584 1113.36,98.9575 1113.37,98.9565 1113.37,98.9562 1113.37,98.9558 1113.38,98.9544 1113.4,98.9513 1113.4,98.9511 1113.4,98.9508 1113.41,98.9501 \n  1113.41,98.9495 1113.42,98.9479 1113.45,98.942 1113.48,98.9374 1113.5,98.9335 1113.5,98.9329 1113.55,98.9243 1113.58,98.9191 1113.6,98.9169 1113.6,98.9155 \n  1113.63,98.9104 1113.64,98.9089 1113.64,98.9088 1113.66,98.9063 1113.66,98.9059 1113.66,98.9055 1113.67,98.9042 1113.69,98.9012 1113.7,98.8995 1113.71,98.898 \n  1113.74,98.8921 1113.74,98.8913 1113.75,98.8897 1113.76,98.8895 1113.77,98.8871 1113.77,98.8869 1113.77,98.8868 1113.78,98.8855 1113.78,98.8847 1113.8,98.8826 \n  1113.83,98.8764 1113.85,98.8732 1113.85,98.8731 1113.86,98.8712 1113.87,98.8695 1113.88,98.8683 1113.89,98.8663 1113.89,98.8653 1113.9,98.8636 1113.91,98.8631 \n  1113.92,98.861 1113.94,98.8571 1113.96,98.8548 1113.96,98.8533 1113.97,98.8518 1114,98.8466 1114.02,98.8443 1114.02,98.8428 1114.03,98.8411 1114.08,98.8335 \n  1114.08,98.8327 1114.1,98.8303 1114.1,98.8302 1114.1,98.8294 1114.13,98.8253 1114.13,98.824 1114.15,98.8205 1114.16,98.8194 1114.16,98.819 1114.18,98.8157 \n  1114.19,98.8136 1114.2,98.8117 1114.22,98.8093 1114.24,98.8061 1114.25,98.8045 1114.26,98.8026 1114.26,98.8019 1114.28,98.799 1114.34,98.7885 1114.36,98.7855 \n  1114.36,98.7842 1114.39,98.7802 1114.39,98.779 1114.4,98.7781 1114.44,98.7713 1114.44,98.7703 1114.46,98.768 1114.46,98.7679 1114.47,98.7663 1114.5,98.7604 \n  1114.51,98.7583 1114.51,98.758 1114.53,98.7546 1114.58,98.7475 1114.58,98.7474 1114.58,98.7469 1114.59,98.7449 1114.64,98.7356 1114.65,98.7343 1114.68,98.7286 \n  1114.7,98.7255 1114.7,98.7254 1114.71,98.7248 1114.71,98.7248 1114.71,98.7247 1114.71,98.7235 1114.72,98.7229 1114.72,98.7221 1114.73,98.7206 1114.8,98.7091 \n  1114.8,98.709 1114.81,98.7065 1114.82,98.7049 1114.83,98.7026 1114.84,98.7011 1114.89,98.6933 1114.89,98.6925 1114.9,98.6906 1114.91,98.6903 1114.92,98.6886 \n  1114.95,98.6819 1114.96,98.681 1114.96,98.6807 1114.97,98.6799 1114.97,98.6794 1114.98,98.678 1114.99,98.6752 1115.01,98.6722 1115.05,98.6656 1115.05,98.6648 \n  1115.05,98.6646 1115.07,98.6609 1115.1,98.6573 1115.1,98.6573 1115.1,98.6571 1115.11,98.6551 1115.14,98.6492 1115.14,98.6492 1115.15,98.6481 1115.17,98.6448 \n  1115.19,98.641 1115.22,98.636 1115.24,98.6325 1115.28,98.6252 1115.29,98.6237 1115.29,98.6234 1115.3,98.6219 1115.32,98.6177 1115.33,98.6171 1115.33,98.6167 \n  1115.35,98.6124 1115.36,98.6111 1115.37,98.6094 1115.37,98.609 1115.4,98.6046 1115.42,98.6006 1115.42,98.6005 1115.43,98.5994 1115.46,98.5946 1115.48,98.5901 \n  1115.49,98.5898 1115.49,98.5888 1115.5,98.5879 1115.51,98.5863 1115.53,98.582 1115.53,98.5818 1115.53,98.5815 1115.53,98.5815 1115.53,98.5813 1115.54,98.5804 \n  1115.55,98.5789 1115.58,98.5741 1115.59,98.5713 1115.61,98.5683 1115.61,98.5681 1115.64,98.5637 1115.64,98.5626 1115.66,98.5599 1115.67,98.5584 1115.67,98.5582 \n  1115.69,98.554 1115.69,98.5537 1115.7,98.5529 1115.72,98.5491 1115.73,98.5478 1115.74,98.5455 1115.77,98.5408 1115.77,98.5401 1115.8,98.5361 1115.8,98.5356 \n  1115.81,98.5333 1115.81,98.5333 1115.82,98.5321 1115.82,98.5314 1115.84,98.529 1115.84,98.5289 1115.87,98.5224 1115.88,98.5214 1115.89,98.52 1115.91,98.5169 \n  1115.92,98.514 1115.93,98.5135 1115.93,98.5134 1115.95,98.5099 1115.95,98.5091 1115.95,98.5091 1115.96,98.5083 1115.97,98.5063 1115.97,98.5057 1115.98,98.5044 \n  1116.01,98.499 1116.03,98.4953 1116.04,98.4946 1116.04,98.4941 1116.04,98.4935 1116.08,98.4876 1116.08,98.4875 1116.12,98.4793 1116.15,98.4751 1116.15,98.4746 \n  1116.16,98.4738 1116.16,98.4723 1116.16,98.4722 1116.17,98.4719 1116.17,98.4716 1116.18,98.4696 1116.19,98.4685 1116.19,98.4673 1116.2,98.4668 1116.22,98.4621 \n  1116.23,98.4614 1116.24,98.4587 1116.28,98.4526 1116.28,98.4526 1116.3,98.4492 1116.3,98.449 1116.3,98.449 1116.34,98.4418 1116.34,98.4412 1116.35,98.44 \n  1116.36,98.4392 1116.36,98.4386 1116.37,98.4374 1116.37,98.4363 1116.38,98.4342 1116.41,98.4303 1116.41,98.43 1116.42,98.4288 1116.42,98.4287 1116.42,98.4287 \n  1116.42,98.4271 1116.43,98.4268 1116.44,98.4242 1116.45,98.4233 1116.45,98.4228 1116.47,98.4185 1116.48,98.4179 1116.48,98.4178 1116.48,98.4177 1116.5,98.4141 \n  1116.51,98.4132 1116.51,98.413 1116.51,98.4123 1116.52,98.41 1116.56,98.4036 1116.57,98.402 1116.58,98.4005 1116.59,98.3989 1116.61,98.3957 1116.61,98.3949 \n  1116.62,98.3938 1116.63,98.3923 1116.63,98.3908 1116.64,98.389 1116.65,98.3888 1116.66,98.3856 1116.67,98.3849 1116.68,98.3837 1116.68,98.3834 1116.68,98.3824 \n  1116.68,98.3822 1116.7,98.3796 1116.71,98.3785 1116.71,98.3779 1116.71,98.3776 1116.73,98.3744 1116.74,98.3731 1116.75,98.371 1116.77,98.3681 1116.78,98.3664 \n  1116.78,98.3649 1116.79,98.3636 1116.79,98.3632 1116.79,98.3632 1116.8,98.3618 1116.82,98.3588 1116.84,98.3554 1116.85,98.3529 1116.87,98.3508 1116.87,98.3508 \n  1116.87,98.3498 1116.87,98.3496 1116.87,98.3493 1116.9,98.3456 1116.91,98.3428 1116.91,98.3425 1116.93,98.3397 1116.95,98.3365 1116.98,98.3311 1116.98,98.3308 \n  1116.98,98.3304 1116.99,98.3299 1116.99,98.3288 1116.99,98.3286 1117,98.3282 1117,98.3276 1117.01,98.3251 1117.02,98.3242 1117.02,98.3235 1117.04,98.3205 \n  1117.04,98.32 1117.07,98.3159 1117.07,98.3147 1117.08,98.3129 1117.09,98.3127 1117.11,98.3093 1117.11,98.3091 1117.11,98.3079 1117.14,98.3034 1117.14,98.3024 \n  1117.15,98.3014 1117.16,98.2998 1117.16,98.2996 1117.17,98.2975 1117.19,98.2948 1117.19,98.2943 1117.19,98.2939 1117.2,98.2932 1117.21,98.2913 1117.21,98.2906 \n  1117.23,98.2878 1117.25,98.2845 1117.26,98.2832 1117.26,98.2827 1117.26,98.2822 1117.29,98.2774 1117.31,98.2744 1117.32,98.2724 1117.34,98.2684 1117.35,98.2676 \n  1117.35,98.267 1117.35,98.2666 1117.37,98.2628 1117.38,98.2624 1117.4,98.258 1117.41,98.257 1117.45,98.2492 1117.47,98.2461 1117.47,98.2456 1117.47,98.2456 \n  1117.48,98.2452 1117.48,98.2451 1117.49,98.2422 1117.49,98.2422 1117.5,98.2404 1117.52,98.2382 1117.52,98.2377 1117.52,98.2372 1117.53,98.2355 1117.56,98.2307 \n  1117.59,98.2259 1117.59,98.225 1117.62,98.2202 1117.65,98.2148 1117.66,98.2133 1117.67,98.2122 1117.68,98.2106 1117.68,98.2106 1117.69,98.2078 1117.7,98.2069 \n  1117.72,98.2034 1117.72,98.2029 1117.78,98.1916 1117.79,98.1908 1117.8,98.1894 1117.8,98.1884 1117.8,98.1884 1117.81,98.187 1117.81,98.1864 1117.82,98.1862 \n  1117.82,98.1861 1117.86,98.179 1117.87,98.1763 1117.88,98.175 1117.89,98.1731 1117.94,98.1646 1117.94,98.1643 1117.96,98.1615 1117.96,98.1613 1117.97,98.1599 \n  1117.99,98.1554 1118.01,98.1518 1118.02,98.1517 1118.04,98.1479 1118.07,98.1418 1118.1,98.1367 1118.12,98.1336 1118.12,98.133 1118.13,98.1323 1118.13,98.1314 \n  1118.14,98.1297 1118.17,98.1246 1118.19,98.1206 1118.2,98.12 1118.2,98.1197 1118.23,98.1147 1118.24,98.1133 1118.26,98.1102 1118.27,98.1069 1118.29,98.1047 \n  1118.31,98.1014 1118.31,98.1008 1118.31,98.1005 1118.31,98.1002 1118.32,98.0991 1118.33,98.0966 1118.35,98.093 1118.36,98.0916 1118.4,98.0846 1118.41,98.0837 \n  1118.41,98.0825 1118.43,98.0799 1118.46,98.0754 1118.46,98.0741 1118.49,98.0701 1118.53,98.0622 1118.55,98.0583 1118.56,98.0581 1118.59,98.0524 1118.6,98.0507 \n  1118.6,98.0502 1118.62,98.0464 1118.64,98.0438 1118.68,98.0369 1118.69,98.0353 1118.7,98.0337 1118.7,98.0333 1118.71,98.0314 1118.73,98.0278 1118.73,98.0272 \n  1118.75,98.0252 1118.75,98.0248 1118.77,98.0211 1118.77,98.0203 1118.78,98.02 1118.78,98.0196 1118.79,98.0177 1118.82,98.0117 1118.83,98.0101 1118.83,98.01 \n  1118.85,98.007 1118.88,98.0027 1118.88,98.0021 1118.89,97.9994 1118.91,97.997 1118.92,97.9942 1118.94,97.9907 1118.95,97.9905 1118.95,97.9891 1118.99,97.9826 \n  1119,97.9813 1119,97.981 1119.01,97.9798 1119.01,97.9786 1119.02,97.9774 1119.03,97.9759 1119.05,97.9726 1119.05,97.9724 1119.06,97.9703 1119.06,97.9702 \n  1119.07,97.9692 1119.07,97.9688 1119.07,97.9685 1119.08,97.9678 1119.08,97.9667 1119.09,97.9659 1119.12,97.9612 1119.13,97.9592 1119.14,97.9575 1119.16,97.9543 \n  1119.16,97.954 1119.16,97.9532 1119.18,97.9504 1119.18,97.9501 1119.19,97.948 1119.21,97.9453 1119.21,97.944 1119.22,97.9436 1119.22,97.9432 1119.23,97.942 \n  1119.23,97.9419 1119.23,97.9419 1119.23,97.9418 1119.23,97.9413 1119.23,97.9412 1119.24,97.94 1119.24,97.9396 1119.24,97.9391 1119.25,97.9385 1119.25,97.9374 \n  1119.26,97.9356 1119.27,97.934 1119.29,97.931 1119.31,97.9271 1119.33,97.9245 1119.33,97.9245 1119.33,97.9239 1119.35,97.9205 1119.36,97.9188 1119.38,97.9148 \n  1119.39,97.913 1119.4,97.9125 1119.4,97.912 1119.4,97.9118 1119.41,97.91 1119.41,97.9095 1119.42,97.909 1119.43,97.9073 1119.43,97.9066 1119.43,97.9064 \n  1119.43,97.9062 1119.44,97.9056 1119.45,97.9039 1119.46,97.9023 1119.48,97.898 1119.49,97.8963 1119.49,97.8961 1119.5,97.8942 1119.51,97.8929 1119.52,97.8919 \n  1119.54,97.8875 1119.57,97.8828 1119.57,97.8826 1119.59,97.8787 1119.59,97.8785 1119.6,97.8778 1119.6,97.8767 1119.65,97.8693 1119.66,97.8673 1119.66,97.8663 \n  1119.69,97.8624 1119.69,97.862 1119.69,97.8609 1119.7,97.8596 1119.71,97.8586 1119.71,97.8585 1119.72,97.8564 1119.76,97.85 1119.76,97.8499 1119.76,97.8487 \n  1119.77,97.8472 1119.79,97.8435 1119.82,97.8383 1119.84,97.8357 1119.85,97.8335 1119.86,97.8322 1119.86,97.8317 1119.88,97.8282 1119.89,97.8273 1119.89,97.8263 \n  1119.9,97.8251 1119.96,97.8154 1119.96,97.8151 1119.98,97.812 1119.98,97.8108 1119.99,97.8104 1119.99,97.8102 1120.01,97.8066 1120.01,97.8059 1120.03,97.8022 \n  1120.04,97.8019 1120.04,97.8018 1120.04,97.8007 1120.05,97.7999 1120.07,97.7961 1120.07,97.7956 1120.07,97.7956 1120.08,97.7944 1120.08,97.7933 1120.09,97.7923 \n  1120.09,97.7921 1120.1,97.7914 1120.1,97.7912 1120.12,97.7877 1120.13,97.7855 1120.15,97.7825 1120.15,97.7822 1120.15,97.782 1120.15,97.7818 1120.16,97.781 \n  1120.17,97.7784 1120.17,97.7777 1120.18,97.7766 1120.18,97.7762 1120.19,97.7749 1120.2,97.774 1120.2,97.7737 1120.2,97.7735 1120.23,97.7686 1120.23,97.7677 \n  1120.24,97.7664 1120.24,97.7662 1120.24,97.766 1120.26,97.7631 1120.26,97.7628 1120.26,97.7622 1120.31,97.7542 1120.33,97.7501 1120.34,97.7492 1120.35,97.7476 \n  1120.37,97.7444 1120.37,97.7433 1120.38,97.7425 1120.39,97.7403 1120.39,97.7398 1120.4,97.7379 1120.41,97.7368 1120.44,97.7323 1120.46,97.728 1120.47,97.7264 \n  1120.48,97.7253 1120.48,97.725 1120.5,97.7219 1120.5,97.7211 1120.5,97.7211 1120.51,97.7195 1120.55,97.7128 1120.56,97.7117 1120.57,97.7098 1120.58,97.7068 \n  1120.59,97.7062 1120.59,97.706 1120.59,97.706 1120.62,97.7006 1120.63,97.6996 1120.63,97.6988 1120.64,97.6969 1120.66,97.6928 1120.67,97.6925 1120.67,97.6925 \n  1120.67,97.692 1120.68,97.691 1120.69,97.6883 1120.7,97.687 1120.71,97.6858 1120.71,97.6844 1120.71,97.6842 1120.73,97.6815 1120.74,97.679 1120.76,97.6772 \n  1120.77,97.6753 1120.77,97.6752 1120.77,97.6742 1120.77,97.6741 1120.78,97.6725 1120.78,97.6721 1120.8,97.67 1120.82,97.6654 1120.83,97.6633 1120.84,97.6629 \n  1120.85,97.6607 1120.87,97.657 1120.87,97.6564 1120.88,97.6558 1120.9,97.6512 1120.93,97.6461 1120.93,97.646 1120.95,97.644 1120.95,97.6438 1120.95,97.6434 \n  1120.95,97.6432 1120.95,97.6429 1120.98,97.6387 1120.98,97.6375 1121.02,97.6312 1121.03,97.6291 1121.04,97.6274 1121.04,97.6271 1121.06,97.6246 1121.07,97.622 \n  1121.08,97.6212 1121.09,97.6198 1121.1,97.6166 1121.11,97.616 1121.13,97.6115 1121.14,97.6101 1121.17,97.6056 1121.17,97.6055 1121.18,97.6028 1121.2,97.6007 \n  1121.2,97.6007 1121.21,97.5984 1121.21,97.5977 1121.22,97.5965 1121.23,97.5957 1121.23,97.5942 1121.24,97.5938 1121.24,97.5936 1121.25,97.5921 1121.3,97.5823 \n  1121.33,97.578 1121.34,97.5763 1121.35,97.5742 1121.36,97.573 1121.36,97.5724 1121.37,97.5713 1121.37,97.5706 1121.37,97.5706 1121.4,97.5657 1121.4,97.5648 \n  1121.41,97.5646 1121.41,97.5633 1121.42,97.5628 1121.43,97.5608 1121.44,97.5586 1121.44,97.5579 1121.45,97.5574 1121.46,97.5548 1121.46,97.5543 1121.47,97.5539 \n  1121.47,97.5531 1121.47,97.5527 1121.49,97.5503 1121.49,97.5499 1121.5,97.5479 1121.5,97.5474 1121.5,97.5473 1121.51,97.5469 1121.51,97.5464 1121.52,97.5448 \n  1121.52,97.5448 1121.52,97.544 1121.53,97.5421 1121.54,97.5416 1121.55,97.5394 1121.55,97.5393 1121.58,97.5335 1121.6,97.5315 1121.62,97.5271 1121.64,97.524 \n  1121.64,97.5238 1121.64,97.5237 1121.65,97.522 1121.66,97.5206 1121.7,97.5143 1121.7,97.5134 1121.7,97.513 1121.72,97.5107 1121.73,97.5079 1121.74,97.5064 \n  1121.74,97.5059 1121.78,97.499 1121.79,97.4981 1121.81,97.4953 1121.81,97.4951 1121.82,97.4932 1121.82,97.4925 1121.84,97.49 1121.85,97.4872 1121.86,97.4864 \n  1121.89,97.4798 1121.9,97.4788 1121.94,97.4719 1121.96,97.468 1121.97,97.4664 1121.97,97.4663 1121.97,97.4663 1121.99,97.4629 1122.01,97.4597 1122.03,97.4565 \n  1122.03,97.4556 1122.04,97.4554 1122.04,97.4554 1122.04,97.4546 1122.05,97.4537 1122.05,97.4529 1122.05,97.4528 1122.05,97.4527 1122.07,97.4503 1122.07,97.4492 \n  1122.09,97.4462 1122.1,97.4436 1122.11,97.4421 1122.11,97.4421 1122.14,97.4381 1122.15,97.436 1122.15,97.4354 1122.16,97.4333 1122.17,97.4317 1122.19,97.4283 \n  1122.21,97.4251 1122.21,97.4247 1122.23,97.4218 1122.24,97.42 1122.25,97.4175 1122.26,97.4158 1122.27,97.4141 1122.28,97.4132 1122.28,97.4126 1122.29,97.4119 \n  1122.3,97.4102 1122.31,97.4077 1122.31,97.4076 1122.31,97.4074 1122.31,97.4073 1122.34,97.403 1122.36,97.4001 1122.36,97.3989 1122.37,97.3981 1122.38,97.3953 \n  1122.38,97.3953 1122.4,97.3928 1122.4,97.3927 1122.42,97.3893 1122.42,97.3892 1122.43,97.3873 1122.45,97.3831 1122.46,97.382 1122.46,97.3816 1122.47,97.3801 \n  1122.48,97.3781 1122.51,97.3735 1122.52,97.3709 1122.53,97.3698 1122.53,97.3697 1122.53,97.3694 1122.54,97.3673 1122.56,97.3653 1122.57,97.3624 1122.59,97.3599 \n  1122.59,97.3587 1122.61,97.3566 1122.61,97.3561 1122.61,97.3559 1122.63,97.3525 1122.64,97.3512 1122.64,97.3508 1122.64,97.3504 1122.65,97.3496 1122.66,97.347 \n  1122.66,97.3465 1122.69,97.3424 1122.7,97.3406 1122.7,97.3405 1122.71,97.3388 1122.72,97.3376 1122.72,97.336 1122.73,97.3345 1122.73,97.3344 1122.73,97.3343 \n  1122.74,97.3341 1122.74,97.3331 1122.75,97.3319 1122.76,97.3297 1122.77,97.3279 1122.78,97.3273 1122.81,97.3221 1122.81,97.3208 1122.82,97.3196 1122.84,97.3168 \n  1122.84,97.3162 1122.85,97.3137 1122.86,97.3135 1122.86,97.3124 1122.87,97.3115 1122.87,97.3107 1122.88,97.3093 1122.89,97.308 1122.89,97.3072 1122.89,97.3066 \n  1122.9,97.3056 1122.91,97.304 1122.91,97.3033 1122.94,97.2996 1122.94,97.2986 1122.94,97.2984 1122.95,97.2972 1122.96,97.2954 1122.96,97.2952 1122.97,97.2943 \n  \n  \"/>\n</svg>\n",
      "text/html": [
       "<?xml version=\"1.0\" encoding=\"utf-8\"?>\n",
       "<svg xmlns=\"http://www.w3.org/2000/svg\" xmlns:xlink=\"http://www.w3.org/1999/xlink\" width=\"300\" height=\"150\" viewBox=\"0 0 1200 600\">\n",
       "<defs>\n",
       "  <clipPath id=\"clip260\">\n",
       "    <rect x=\"0\" y=\"0\" width=\"1200\" height=\"600\"/>\n",
       "  </clipPath>\n",
       "</defs>\n",
       "<path clip-path=\"url(#clip260)\" d=\"\n",
       "M0 600 L1200 600 L1200 0 L0 0  Z\n",
       "  \" fill=\"#ffffff\" fill-rule=\"evenodd\" fill-opacity=\"1\"/>\n",
       "<defs>\n",
       "  <clipPath id=\"clip261\">\n",
       "    <rect x=\"240\" y=\"0\" width=\"841\" height=\"600\"/>\n",
       "  </clipPath>\n",
       "</defs>\n",
       "<path clip-path=\"url(#clip260)\" d=\"\n",
       "M100.177 505.088 L1152.76 505.088 L1152.76 47.2441 L100.177 47.2441  Z\n",
       "  \" fill=\"#ffffff\" fill-rule=\"evenodd\" fill-opacity=\"1\"/>\n",
       "<defs>\n",
       "  <clipPath id=\"clip262\">\n",
       "    <rect x=\"100\" y=\"47\" width=\"1054\" height=\"459\"/>\n",
       "  </clipPath>\n",
       "</defs>\n",
       "<polyline clip-path=\"url(#clip262)\" style=\"stroke:#000000; stroke-linecap:butt; stroke-linejoin:round; stroke-width:2; stroke-opacity:0.1; fill:none\" points=\"\n",
       "  160.835,505.088 160.835,47.2441 \n",
       "  \"/>\n",
       "<polyline clip-path=\"url(#clip262)\" style=\"stroke:#000000; stroke-linecap:butt; stroke-linejoin:round; stroke-width:2; stroke-opacity:0.1; fill:none\" points=\"\n",
       "  307.244,505.088 307.244,47.2441 \n",
       "  \"/>\n",
       "<polyline clip-path=\"url(#clip262)\" style=\"stroke:#000000; stroke-linecap:butt; stroke-linejoin:round; stroke-width:2; stroke-opacity:0.1; fill:none\" points=\"\n",
       "  453.652,505.088 453.652,47.2441 \n",
       "  \"/>\n",
       "<polyline clip-path=\"url(#clip262)\" style=\"stroke:#000000; stroke-linecap:butt; stroke-linejoin:round; stroke-width:2; stroke-opacity:0.1; fill:none\" points=\"\n",
       "  600.061,505.088 600.061,47.2441 \n",
       "  \"/>\n",
       "<polyline clip-path=\"url(#clip262)\" style=\"stroke:#000000; stroke-linecap:butt; stroke-linejoin:round; stroke-width:2; stroke-opacity:0.1; fill:none\" points=\"\n",
       "  746.47,505.088 746.47,47.2441 \n",
       "  \"/>\n",
       "<polyline clip-path=\"url(#clip262)\" style=\"stroke:#000000; stroke-linecap:butt; stroke-linejoin:round; stroke-width:2; stroke-opacity:0.1; fill:none\" points=\"\n",
       "  892.879,505.088 892.879,47.2441 \n",
       "  \"/>\n",
       "<polyline clip-path=\"url(#clip262)\" style=\"stroke:#000000; stroke-linecap:butt; stroke-linejoin:round; stroke-width:2; stroke-opacity:0.1; fill:none\" points=\"\n",
       "  1039.29,505.088 1039.29,47.2441 \n",
       "  \"/>\n",
       "<polyline clip-path=\"url(#clip260)\" style=\"stroke:#000000; stroke-linecap:butt; stroke-linejoin:round; stroke-width:4; stroke-opacity:1; fill:none\" points=\"\n",
       "  100.177,505.088 1152.76,505.088 \n",
       "  \"/>\n",
       "<polyline clip-path=\"url(#clip260)\" style=\"stroke:#000000; stroke-linecap:butt; stroke-linejoin:round; stroke-width:4; stroke-opacity:1; fill:none\" points=\"\n",
       "  160.835,505.088 160.835,499.594 \n",
       "  \"/>\n",
       "<polyline clip-path=\"url(#clip260)\" style=\"stroke:#000000; stroke-linecap:butt; stroke-linejoin:round; stroke-width:4; stroke-opacity:1; fill:none\" points=\"\n",
       "  307.244,505.088 307.244,499.594 \n",
       "  \"/>\n",
       "<polyline clip-path=\"url(#clip260)\" style=\"stroke:#000000; stroke-linecap:butt; stroke-linejoin:round; stroke-width:4; stroke-opacity:1; fill:none\" points=\"\n",
       "  453.652,505.088 453.652,499.594 \n",
       "  \"/>\n",
       "<polyline clip-path=\"url(#clip260)\" style=\"stroke:#000000; stroke-linecap:butt; stroke-linejoin:round; stroke-width:4; stroke-opacity:1; fill:none\" points=\"\n",
       "  600.061,505.088 600.061,499.594 \n",
       "  \"/>\n",
       "<polyline clip-path=\"url(#clip260)\" style=\"stroke:#000000; stroke-linecap:butt; stroke-linejoin:round; stroke-width:4; stroke-opacity:1; fill:none\" points=\"\n",
       "  746.47,505.088 746.47,499.594 \n",
       "  \"/>\n",
       "<polyline clip-path=\"url(#clip260)\" style=\"stroke:#000000; stroke-linecap:butt; stroke-linejoin:round; stroke-width:4; stroke-opacity:1; fill:none\" points=\"\n",
       "  892.879,505.088 892.879,499.594 \n",
       "  \"/>\n",
       "<polyline clip-path=\"url(#clip260)\" style=\"stroke:#000000; stroke-linecap:butt; stroke-linejoin:round; stroke-width:4; stroke-opacity:1; fill:none\" points=\"\n",
       "  1039.29,505.088 1039.29,499.594 \n",
       "  \"/>\n",
       "<path clip-path=\"url(#clip260)\" d=\"M117.49 552.225 L133.809 552.225 L133.809 556.16 L111.865 556.16 L111.865 552.225 Q114.527 549.47 119.11 544.84 Q123.717 540.188 124.897 538.845 Q127.143 536.322 128.022 534.586 Q128.925 532.827 128.925 531.137 Q128.925 528.382 126.981 526.646 Q125.059 524.91 121.958 524.91 Q119.759 524.91 117.305 525.674 Q114.874 526.438 112.097 527.989 L112.097 523.267 Q114.921 522.132 117.374 521.554 Q119.828 520.975 121.865 520.975 Q127.235 520.975 130.43 523.66 Q133.624 526.345 133.624 530.836 Q133.624 532.966 132.814 534.887 Q132.027 536.785 129.92 539.378 Q129.342 540.049 126.24 543.266 Q123.138 546.461 117.49 552.225 Z\" fill=\"#000000\" fill-rule=\"evenodd\" fill-opacity=\"1\" /><path clip-path=\"url(#clip260)\" d=\"M143.624 550.28 L148.508 550.28 L148.508 556.16 L143.624 556.16 L143.624 550.28 Z\" fill=\"#000000\" fill-rule=\"evenodd\" fill-opacity=\"1\" /><path clip-path=\"url(#clip260)\" d=\"M162.721 552.225 L179.041 552.225 L179.041 556.16 L157.096 556.16 L157.096 552.225 Q159.758 549.47 164.342 544.84 Q168.948 540.188 170.129 538.845 Q172.374 536.322 173.254 534.586 Q174.156 532.827 174.156 531.137 Q174.156 528.382 172.212 526.646 Q170.291 524.91 167.189 524.91 Q164.99 524.91 162.536 525.674 Q160.106 526.438 157.328 527.989 L157.328 523.267 Q160.152 522.132 162.606 521.554 Q165.059 520.975 167.096 520.975 Q172.467 520.975 175.661 523.66 Q178.855 526.345 178.855 530.836 Q178.855 532.966 178.045 534.887 Q177.258 536.785 175.152 539.378 Q174.573 540.049 171.471 543.266 Q168.369 546.461 162.721 552.225 Z\" fill=\"#000000\" fill-rule=\"evenodd\" fill-opacity=\"1\" /><path clip-path=\"url(#clip260)\" d=\"M188.902 521.6 L207.258 521.6 L207.258 525.535 L193.184 525.535 L193.184 534.007 Q194.203 533.66 195.221 533.498 Q196.24 533.313 197.258 533.313 Q203.045 533.313 206.425 536.484 Q209.804 539.655 209.804 545.072 Q209.804 550.651 206.332 553.752 Q202.86 556.831 196.541 556.831 Q194.365 556.831 192.096 556.461 Q189.851 556.09 187.443 555.35 L187.443 550.651 Q189.527 551.785 191.749 552.34 Q193.971 552.896 196.448 552.896 Q200.453 552.896 202.79 550.79 Q205.128 548.683 205.128 545.072 Q205.128 541.461 202.79 539.354 Q200.453 537.248 196.448 537.248 Q194.573 537.248 192.698 537.665 Q190.846 538.081 188.902 538.961 L188.902 521.6 Z\" fill=\"#000000\" fill-rule=\"evenodd\" fill-opacity=\"1\" /><path clip-path=\"url(#clip260)\" d=\"M263.401 552.225 L279.721 552.225 L279.721 556.16 L257.776 556.16 L257.776 552.225 Q260.438 549.47 265.022 544.84 Q269.628 540.188 270.809 538.845 Q273.054 536.322 273.934 534.586 Q274.836 532.827 274.836 531.137 Q274.836 528.382 272.892 526.646 Q270.971 524.91 267.869 524.91 Q265.67 524.91 263.216 525.674 Q260.785 526.438 258.008 527.989 L258.008 523.267 Q260.832 522.132 263.285 521.554 Q265.739 520.975 267.776 520.975 Q273.146 520.975 276.341 523.66 Q279.535 526.345 279.535 530.836 Q279.535 532.966 278.725 534.887 Q277.938 536.785 275.832 539.378 Q275.253 540.049 272.151 543.266 Q269.049 546.461 263.401 552.225 Z\" fill=\"#000000\" fill-rule=\"evenodd\" fill-opacity=\"1\" /><path clip-path=\"url(#clip260)\" d=\"M289.535 550.28 L294.42 550.28 L294.42 556.16 L289.535 556.16 L289.535 550.28 Z\" fill=\"#000000\" fill-rule=\"evenodd\" fill-opacity=\"1\" /><path clip-path=\"url(#clip260)\" d=\"M304.651 521.6 L323.007 521.6 L323.007 525.535 L308.933 525.535 L308.933 534.007 Q309.952 533.66 310.97 533.498 Q311.989 533.313 313.007 533.313 Q318.794 533.313 322.174 536.484 Q325.554 539.655 325.554 545.072 Q325.554 550.651 322.081 553.752 Q318.609 556.831 312.29 556.831 Q310.114 556.831 307.845 556.461 Q305.6 556.09 303.193 555.35 L303.193 550.651 Q305.276 551.785 307.498 552.34 Q309.72 552.896 312.197 552.896 Q316.202 552.896 318.54 550.79 Q320.878 548.683 320.878 545.072 Q320.878 541.461 318.54 539.354 Q316.202 537.248 312.197 537.248 Q310.322 537.248 308.447 537.665 Q306.595 538.081 304.651 538.961 L304.651 521.6 Z\" fill=\"#000000\" fill-rule=\"evenodd\" fill-opacity=\"1\" /><path clip-path=\"url(#clip260)\" d=\"M344.766 524.679 Q341.155 524.679 339.327 528.243 Q337.521 531.785 337.521 538.915 Q337.521 546.021 339.327 549.586 Q341.155 553.127 344.766 553.127 Q348.401 553.127 350.206 549.586 Q352.035 546.021 352.035 538.915 Q352.035 531.785 350.206 528.243 Q348.401 524.679 344.766 524.679 M344.766 520.975 Q350.577 520.975 353.632 525.581 Q356.711 530.165 356.711 538.915 Q356.711 547.641 353.632 552.248 Q350.577 556.831 344.766 556.831 Q338.956 556.831 335.878 552.248 Q332.822 547.641 332.822 538.915 Q332.822 530.165 335.878 525.581 Q338.956 520.975 344.766 520.975 Z\" fill=\"#000000\" fill-rule=\"evenodd\" fill-opacity=\"1\" /><path clip-path=\"url(#clip260)\" d=\"M410.308 552.225 L426.627 552.225 L426.627 556.16 L404.683 556.16 L404.683 552.225 Q407.345 549.47 411.928 544.84 Q416.535 540.188 417.715 538.845 Q419.96 536.322 420.84 534.586 Q421.743 532.827 421.743 531.137 Q421.743 528.382 419.798 526.646 Q417.877 524.91 414.775 524.91 Q412.576 524.91 410.123 525.674 Q407.692 526.438 404.914 527.989 L404.914 523.267 Q407.738 522.132 410.192 521.554 Q412.646 520.975 414.683 520.975 Q420.053 520.975 423.247 523.66 Q426.442 526.345 426.442 530.836 Q426.442 532.966 425.632 534.887 Q424.845 536.785 422.738 539.378 Q422.159 540.049 419.058 543.266 Q415.956 546.461 410.308 552.225 Z\" fill=\"#000000\" fill-rule=\"evenodd\" fill-opacity=\"1\" /><path clip-path=\"url(#clip260)\" d=\"M436.442 550.28 L441.326 550.28 L441.326 556.16 L436.442 556.16 L436.442 550.28 Z\" fill=\"#000000\" fill-rule=\"evenodd\" fill-opacity=\"1\" /><path clip-path=\"url(#clip260)\" d=\"M450.331 521.6 L472.553 521.6 L472.553 523.591 L460.007 556.16 L455.122 556.16 L466.928 525.535 L450.331 525.535 L450.331 521.6 Z\" fill=\"#000000\" fill-rule=\"evenodd\" fill-opacity=\"1\" /><path clip-path=\"url(#clip260)\" d=\"M481.719 521.6 L500.076 521.6 L500.076 525.535 L486.002 525.535 L486.002 534.007 Q487.02 533.66 488.039 533.498 Q489.057 533.313 490.076 533.313 Q495.863 533.313 499.242 536.484 Q502.622 539.655 502.622 545.072 Q502.622 550.651 499.15 553.752 Q495.678 556.831 489.358 556.831 Q487.182 556.831 484.914 556.461 Q482.668 556.09 480.261 555.35 L480.261 550.651 Q482.344 551.785 484.567 552.34 Q486.789 552.896 489.266 552.896 Q493.27 552.896 495.608 550.79 Q497.946 548.683 497.946 545.072 Q497.946 541.461 495.608 539.354 Q493.27 537.248 489.266 537.248 Q487.391 537.248 485.516 537.665 Q483.664 538.081 481.719 538.961 L481.719 521.6 Z\" fill=\"#000000\" fill-rule=\"evenodd\" fill-opacity=\"1\" /><path clip-path=\"url(#clip260)\" d=\"M566.288 537.526 Q569.645 538.243 571.52 540.512 Q573.418 542.78 573.418 546.114 Q573.418 551.229 569.899 554.03 Q566.381 556.831 559.899 556.831 Q557.723 556.831 555.409 556.391 Q553.117 555.975 550.663 555.118 L550.663 550.604 Q552.608 551.739 554.923 552.317 Q557.237 552.896 559.761 552.896 Q564.159 552.896 566.45 551.16 Q568.765 549.424 568.765 546.114 Q568.765 543.058 566.612 541.345 Q564.483 539.609 560.663 539.609 L556.636 539.609 L556.636 535.766 L560.848 535.766 Q564.298 535.766 566.126 534.401 Q567.955 533.012 567.955 530.419 Q567.955 527.757 566.057 526.345 Q564.182 524.91 560.663 524.91 Q558.742 524.91 556.543 525.327 Q554.344 525.743 551.705 526.623 L551.705 522.456 Q554.367 521.716 556.682 521.345 Q559.02 520.975 561.08 520.975 Q566.404 520.975 569.506 523.405 Q572.608 525.813 572.608 529.933 Q572.608 532.804 570.964 534.794 Q569.321 536.762 566.288 537.526 Z\" fill=\"#000000\" fill-rule=\"evenodd\" fill-opacity=\"1\" /><path clip-path=\"url(#clip260)\" d=\"M582.284 550.28 L587.168 550.28 L587.168 556.16 L582.284 556.16 L582.284 550.28 Z\" fill=\"#000000\" fill-rule=\"evenodd\" fill-opacity=\"1\" /><path clip-path=\"url(#clip260)\" d=\"M607.353 524.679 Q603.742 524.679 601.913 528.243 Q600.108 531.785 600.108 538.915 Q600.108 546.021 601.913 549.586 Q603.742 553.127 607.353 553.127 Q610.987 553.127 612.793 549.586 Q614.621 546.021 614.621 538.915 Q614.621 531.785 612.793 528.243 Q610.987 524.679 607.353 524.679 M607.353 520.975 Q613.163 520.975 616.219 525.581 Q619.297 530.165 619.297 538.915 Q619.297 547.641 616.219 552.248 Q613.163 556.831 607.353 556.831 Q601.543 556.831 598.464 552.248 Q595.408 547.641 595.408 538.915 Q595.408 530.165 598.464 525.581 Q601.543 520.975 607.353 520.975 Z\" fill=\"#000000\" fill-rule=\"evenodd\" fill-opacity=\"1\" /><path clip-path=\"url(#clip260)\" d=\"M637.515 524.679 Q633.904 524.679 632.075 528.243 Q630.269 531.785 630.269 538.915 Q630.269 546.021 632.075 549.586 Q633.904 553.127 637.515 553.127 Q641.149 553.127 642.955 549.586 Q644.783 546.021 644.783 538.915 Q644.783 531.785 642.955 528.243 Q641.149 524.679 637.515 524.679 M637.515 520.975 Q643.325 520.975 646.38 525.581 Q649.459 530.165 649.459 538.915 Q649.459 547.641 646.38 552.248 Q643.325 556.831 637.515 556.831 Q631.705 556.831 628.626 552.248 Q625.57 547.641 625.57 538.915 Q625.57 530.165 628.626 525.581 Q631.705 520.975 637.515 520.975 Z\" fill=\"#000000\" fill-rule=\"evenodd\" fill-opacity=\"1\" /><path clip-path=\"url(#clip260)\" d=\"M713.195 537.526 Q716.551 538.243 718.426 540.512 Q720.324 542.78 720.324 546.114 Q720.324 551.229 716.806 554.03 Q713.287 556.831 706.806 556.831 Q704.63 556.831 702.315 556.391 Q700.024 555.975 697.57 555.118 L697.57 550.604 Q699.514 551.739 701.829 552.317 Q704.144 552.896 706.667 552.896 Q711.065 552.896 713.357 551.16 Q715.672 549.424 715.672 546.114 Q715.672 543.058 713.519 541.345 Q711.389 539.609 707.57 539.609 L703.542 539.609 L703.542 535.766 L707.755 535.766 Q711.204 535.766 713.033 534.401 Q714.861 533.012 714.861 530.419 Q714.861 527.757 712.963 526.345 Q711.088 524.91 707.57 524.91 Q705.649 524.91 703.449 525.327 Q701.25 525.743 698.612 526.623 L698.612 522.456 Q701.274 521.716 703.588 521.345 Q705.926 520.975 707.986 520.975 Q713.311 520.975 716.412 523.405 Q719.514 525.813 719.514 529.933 Q719.514 532.804 717.871 534.794 Q716.227 536.762 713.195 537.526 Z\" fill=\"#000000\" fill-rule=\"evenodd\" fill-opacity=\"1\" /><path clip-path=\"url(#clip260)\" d=\"M729.19 550.28 L734.074 550.28 L734.074 556.16 L729.19 556.16 L729.19 550.28 Z\" fill=\"#000000\" fill-rule=\"evenodd\" fill-opacity=\"1\" /><path clip-path=\"url(#clip260)\" d=\"M748.287 552.225 L764.607 552.225 L764.607 556.16 L742.662 556.16 L742.662 552.225 Q745.324 549.47 749.908 544.84 Q754.514 540.188 755.695 538.845 Q757.94 536.322 758.82 534.586 Q759.722 532.827 759.722 531.137 Q759.722 528.382 757.778 526.646 Q755.857 524.91 752.755 524.91 Q750.556 524.91 748.102 525.674 Q745.671 526.438 742.894 527.989 L742.894 523.267 Q745.718 522.132 748.171 521.554 Q750.625 520.975 752.662 520.975 Q758.033 520.975 761.227 523.66 Q764.421 526.345 764.421 530.836 Q764.421 532.966 763.611 534.887 Q762.824 536.785 760.718 539.378 Q760.139 540.049 757.037 543.266 Q753.935 546.461 748.287 552.225 Z\" fill=\"#000000\" fill-rule=\"evenodd\" fill-opacity=\"1\" /><path clip-path=\"url(#clip260)\" d=\"M774.468 521.6 L792.824 521.6 L792.824 525.535 L778.75 525.535 L778.75 534.007 Q779.768 533.66 780.787 533.498 Q781.806 533.313 782.824 533.313 Q788.611 533.313 791.991 536.484 Q795.37 539.655 795.37 545.072 Q795.37 550.651 791.898 553.752 Q788.426 556.831 782.106 556.831 Q779.931 556.831 777.662 556.461 Q775.417 556.09 773.009 555.35 L773.009 550.651 Q775.093 551.785 777.315 552.34 Q779.537 552.896 782.014 552.896 Q786.018 552.896 788.356 550.79 Q790.694 548.683 790.694 545.072 Q790.694 541.461 788.356 539.354 Q786.018 537.248 782.014 537.248 Q780.139 537.248 778.264 537.665 Q776.412 538.081 774.468 538.961 L774.468 521.6 Z\" fill=\"#000000\" fill-rule=\"evenodd\" fill-opacity=\"1\" /><path clip-path=\"url(#clip260)\" d=\"M859.106 537.526 Q862.462 538.243 864.337 540.512 Q866.236 542.78 866.236 546.114 Q866.236 551.229 862.717 554.03 Q859.199 556.831 852.717 556.831 Q850.541 556.831 848.226 556.391 Q845.935 555.975 843.481 555.118 L843.481 550.604 Q845.425 551.739 847.74 552.317 Q850.055 552.896 852.578 552.896 Q856.976 552.896 859.268 551.16 Q861.583 549.424 861.583 546.114 Q861.583 543.058 859.43 541.345 Q857.3 539.609 853.481 539.609 L849.453 539.609 L849.453 535.766 L853.666 535.766 Q857.115 535.766 858.944 534.401 Q860.773 533.012 860.773 530.419 Q860.773 527.757 858.874 526.345 Q856.999 524.91 853.481 524.91 Q851.56 524.91 849.361 525.327 Q847.162 525.743 844.523 526.623 L844.523 522.456 Q847.185 521.716 849.5 521.345 Q851.837 520.975 853.898 520.975 Q859.222 520.975 862.324 523.405 Q865.425 525.813 865.425 529.933 Q865.425 532.804 863.782 534.794 Q862.138 536.762 859.106 537.526 Z\" fill=\"#000000\" fill-rule=\"evenodd\" fill-opacity=\"1\" /><path clip-path=\"url(#clip260)\" d=\"M875.101 550.28 L879.985 550.28 L879.985 556.16 L875.101 556.16 L875.101 550.28 Z\" fill=\"#000000\" fill-rule=\"evenodd\" fill-opacity=\"1\" /><path clip-path=\"url(#clip260)\" d=\"M890.217 521.6 L908.573 521.6 L908.573 525.535 L894.499 525.535 L894.499 534.007 Q895.518 533.66 896.536 533.498 Q897.555 533.313 898.573 533.313 Q904.36 533.313 907.74 536.484 Q911.12 539.655 911.12 545.072 Q911.12 550.651 907.647 553.752 Q904.175 556.831 897.856 556.831 Q895.68 556.831 893.411 556.461 Q891.166 556.09 888.759 555.35 L888.759 550.651 Q890.842 551.785 893.064 552.34 Q895.286 552.896 897.763 552.896 Q901.768 552.896 904.106 550.79 Q906.444 548.683 906.444 545.072 Q906.444 541.461 904.106 539.354 Q901.768 537.248 897.763 537.248 Q895.888 537.248 894.013 537.665 Q892.161 538.081 890.217 538.961 L890.217 521.6 Z\" fill=\"#000000\" fill-rule=\"evenodd\" fill-opacity=\"1\" /><path clip-path=\"url(#clip260)\" d=\"M930.332 524.679 Q926.721 524.679 924.893 528.243 Q923.087 531.785 923.087 538.915 Q923.087 546.021 924.893 549.586 Q926.721 553.127 930.332 553.127 Q933.967 553.127 935.772 549.586 Q937.601 546.021 937.601 538.915 Q937.601 531.785 935.772 528.243 Q933.967 524.679 930.332 524.679 M930.332 520.975 Q936.143 520.975 939.198 525.581 Q942.277 530.165 942.277 538.915 Q942.277 547.641 939.198 552.248 Q936.143 556.831 930.332 556.831 Q924.522 556.831 921.444 552.248 Q918.388 547.641 918.388 538.915 Q918.388 530.165 921.444 525.581 Q924.522 520.975 930.332 520.975 Z\" fill=\"#000000\" fill-rule=\"evenodd\" fill-opacity=\"1\" /><path clip-path=\"url(#clip260)\" d=\"M1006.01 537.526 Q1009.37 538.243 1011.24 540.512 Q1013.14 542.78 1013.14 546.114 Q1013.14 551.229 1009.62 554.03 Q1006.11 556.831 999.624 556.831 Q997.448 556.831 995.133 556.391 Q992.841 555.975 990.388 555.118 L990.388 550.604 Q992.332 551.739 994.647 552.317 Q996.962 552.896 999.485 552.896 Q1003.88 552.896 1006.17 551.16 Q1008.49 549.424 1008.49 546.114 Q1008.49 543.058 1006.34 541.345 Q1004.21 539.609 1000.39 539.609 L996.36 539.609 L996.36 535.766 L1000.57 535.766 Q1004.02 535.766 1005.85 534.401 Q1007.68 533.012 1007.68 530.419 Q1007.68 527.757 1005.78 526.345 Q1003.91 524.91 1000.39 524.91 Q998.466 524.91 996.267 525.327 Q994.068 525.743 991.429 526.623 L991.429 522.456 Q994.091 521.716 996.406 521.345 Q998.744 520.975 1000.8 520.975 Q1006.13 520.975 1009.23 523.405 Q1012.33 525.813 1012.33 529.933 Q1012.33 532.804 1010.69 534.794 Q1009.04 536.762 1006.01 537.526 Z\" fill=\"#000000\" fill-rule=\"evenodd\" fill-opacity=\"1\" /><path clip-path=\"url(#clip260)\" d=\"M1022.01 550.28 L1026.89 550.28 L1026.89 556.16 L1022.01 556.16 L1022.01 550.28 Z\" fill=\"#000000\" fill-rule=\"evenodd\" fill-opacity=\"1\" /><path clip-path=\"url(#clip260)\" d=\"M1035.9 521.6 L1058.12 521.6 L1058.12 523.591 L1045.57 556.16 L1040.69 556.16 L1052.49 525.535 L1035.9 525.535 L1035.9 521.6 Z\" fill=\"#000000\" fill-rule=\"evenodd\" fill-opacity=\"1\" /><path clip-path=\"url(#clip260)\" d=\"M1067.29 521.6 L1085.64 521.6 L1085.64 525.535 L1071.57 525.535 L1071.57 534.007 Q1072.59 533.66 1073.6 533.498 Q1074.62 533.313 1075.64 533.313 Q1081.43 533.313 1084.81 536.484 Q1088.19 539.655 1088.19 545.072 Q1088.19 550.651 1084.72 553.752 Q1081.24 556.831 1074.92 556.831 Q1072.75 556.831 1070.48 556.461 Q1068.23 556.09 1065.83 555.35 L1065.83 550.651 Q1067.91 551.785 1070.13 552.34 Q1072.35 552.896 1074.83 552.896 Q1078.84 552.896 1081.17 550.79 Q1083.51 548.683 1083.51 545.072 Q1083.51 541.461 1081.17 539.354 Q1078.84 537.248 1074.83 537.248 Q1072.96 537.248 1071.08 537.665 Q1069.23 538.081 1067.29 538.961 L1067.29 521.6 Z\" fill=\"#000000\" fill-rule=\"evenodd\" fill-opacity=\"1\" /><polyline clip-path=\"url(#clip262)\" style=\"stroke:#000000; stroke-linecap:butt; stroke-linejoin:round; stroke-width:2; stroke-opacity:0.1; fill:none\" points=\"\n",
       "  100.177,492.13 1152.76,492.13 \n",
       "  \"/>\n",
       "<polyline clip-path=\"url(#clip262)\" style=\"stroke:#000000; stroke-linecap:butt; stroke-linejoin:round; stroke-width:2; stroke-opacity:0.1; fill:none\" points=\"\n",
       "  100.177,390.705 1152.76,390.705 \n",
       "  \"/>\n",
       "<polyline clip-path=\"url(#clip262)\" style=\"stroke:#000000; stroke-linecap:butt; stroke-linejoin:round; stroke-width:2; stroke-opacity:0.1; fill:none\" points=\"\n",
       "  100.177,289.28 1152.76,289.28 \n",
       "  \"/>\n",
       "<polyline clip-path=\"url(#clip262)\" style=\"stroke:#000000; stroke-linecap:butt; stroke-linejoin:round; stroke-width:2; stroke-opacity:0.1; fill:none\" points=\"\n",
       "  100.177,187.855 1152.76,187.855 \n",
       "  \"/>\n",
       "<polyline clip-path=\"url(#clip262)\" style=\"stroke:#000000; stroke-linecap:butt; stroke-linejoin:round; stroke-width:2; stroke-opacity:0.1; fill:none\" points=\"\n",
       "  100.177,86.4301 1152.76,86.4301 \n",
       "  \"/>\n",
       "<polyline clip-path=\"url(#clip260)\" style=\"stroke:#000000; stroke-linecap:butt; stroke-linejoin:round; stroke-width:4; stroke-opacity:1; fill:none\" points=\"\n",
       "  100.177,505.088 100.177,47.2441 \n",
       "  \"/>\n",
       "<polyline clip-path=\"url(#clip260)\" style=\"stroke:#000000; stroke-linecap:butt; stroke-linejoin:round; stroke-width:4; stroke-opacity:1; fill:none\" points=\"\n",
       "  100.177,492.13 112.808,492.13 \n",
       "  \"/>\n",
       "<polyline clip-path=\"url(#clip260)\" style=\"stroke:#000000; stroke-linecap:butt; stroke-linejoin:round; stroke-width:4; stroke-opacity:1; fill:none\" points=\"\n",
       "  100.177,390.705 112.808,390.705 \n",
       "  \"/>\n",
       "<polyline clip-path=\"url(#clip260)\" style=\"stroke:#000000; stroke-linecap:butt; stroke-linejoin:round; stroke-width:4; stroke-opacity:1; fill:none\" points=\"\n",
       "  100.177,289.28 112.808,289.28 \n",
       "  \"/>\n",
       "<polyline clip-path=\"url(#clip260)\" style=\"stroke:#000000; stroke-linecap:butt; stroke-linejoin:round; stroke-width:4; stroke-opacity:1; fill:none\" points=\"\n",
       "  100.177,187.855 112.808,187.855 \n",
       "  \"/>\n",
       "<polyline clip-path=\"url(#clip260)\" style=\"stroke:#000000; stroke-linecap:butt; stroke-linejoin:round; stroke-width:4; stroke-opacity:1; fill:none\" points=\"\n",
       "  100.177,86.4301 112.808,86.4301 \n",
       "  \"/>\n",
       "<path clip-path=\"url(#clip260)\" d=\"M70.2328 477.929 Q66.6217 477.929 64.793 481.494 Q62.9875 485.035 62.9875 492.165 Q62.9875 499.271 64.793 502.836 Q66.6217 506.378 70.2328 506.378 Q73.867 506.378 75.6726 502.836 Q77.5013 499.271 77.5013 492.165 Q77.5013 485.035 75.6726 481.494 Q73.867 477.929 70.2328 477.929 M70.2328 474.225 Q76.0429 474.225 79.0985 478.831 Q82.1772 483.415 82.1772 492.165 Q82.1772 500.892 79.0985 505.498 Q76.0429 510.081 70.2328 510.081 Q64.4226 510.081 61.344 505.498 Q58.2884 500.892 58.2884 492.165 Q58.2884 483.415 61.344 478.831 Q64.4226 474.225 70.2328 474.225 Z\" fill=\"#000000\" fill-rule=\"evenodd\" fill-opacity=\"1\" /><path clip-path=\"url(#clip260)\" d=\"M65.8578 404.05 L82.1772 404.05 L82.1772 407.985 L60.2328 407.985 L60.2328 404.05 Q62.8949 401.295 67.4782 396.666 Q72.0846 392.013 73.2652 390.67 Q75.5105 388.147 76.3902 386.411 Q77.2929 384.652 77.2929 382.962 Q77.2929 380.207 75.3485 378.471 Q73.4272 376.735 70.3254 376.735 Q68.1263 376.735 65.6726 377.499 Q63.2421 378.263 60.4643 379.814 L60.4643 375.092 Q63.2884 373.957 65.7421 373.379 Q68.1958 372.8 70.2328 372.8 Q75.6031 372.8 78.7976 375.485 Q81.992 378.17 81.992 382.661 Q81.992 384.791 81.1818 386.712 Q80.3948 388.61 78.2883 391.203 Q77.7096 391.874 74.6078 395.092 Q71.5059 398.286 65.8578 404.05 Z\" fill=\"#000000\" fill-rule=\"evenodd\" fill-opacity=\"1\" /><path clip-path=\"url(#clip260)\" d=\"M72.5939 276.074 L60.7884 294.523 L72.5939 294.523 L72.5939 276.074 M71.367 272 L77.2466 272 L77.2466 294.523 L82.1772 294.523 L82.1772 298.412 L77.2466 298.412 L77.2466 306.56 L72.5939 306.56 L72.5939 298.412 L56.9921 298.412 L56.9921 293.898 L71.367 272 Z\" fill=\"#000000\" fill-rule=\"evenodd\" fill-opacity=\"1\" /><path clip-path=\"url(#clip260)\" d=\"M70.6495 185.992 Q67.5013 185.992 65.6495 188.144 Q63.8208 190.297 63.8208 194.047 Q63.8208 197.774 65.6495 199.95 Q67.5013 202.103 70.6495 202.103 Q73.7976 202.103 75.6263 199.95 Q77.4781 197.774 77.4781 194.047 Q77.4781 190.297 75.6263 188.144 Q73.7976 185.992 70.6495 185.992 M79.9318 171.339 L79.9318 175.598 Q78.1726 174.765 76.367 174.325 Q74.5846 173.885 72.8254 173.885 Q68.1958 173.885 65.7421 177.01 Q63.3115 180.135 62.9643 186.455 Q64.33 184.441 66.3902 183.376 Q68.4504 182.288 70.9272 182.288 Q76.1355 182.288 79.1448 185.459 Q82.1772 188.607 82.1772 194.047 Q82.1772 199.371 79.029 202.589 Q75.8809 205.806 70.6495 205.806 Q64.6541 205.806 61.4828 201.223 Q58.3116 196.617 58.3116 187.89 Q58.3116 179.695 62.2004 174.834 Q66.0893 169.95 72.6402 169.95 Q74.3994 169.95 76.1818 170.297 Q77.9874 170.645 79.9318 171.339 Z\" fill=\"#000000\" fill-rule=\"evenodd\" fill-opacity=\"1\" /><path clip-path=\"url(#clip260)\" d=\"M70.3254 87.2981 Q66.9921 87.2981 65.0708 89.0805 Q63.1726 90.8629 63.1726 93.9879 Q63.1726 97.1129 65.0708 98.8953 Q66.9921 100.678 70.3254 100.678 Q73.6587 100.678 75.58 98.8953 Q77.5013 97.0898 77.5013 93.9879 Q77.5013 90.8629 75.58 89.0805 Q73.6819 87.2981 70.3254 87.2981 M65.6495 85.3074 Q62.6402 84.5667 60.9504 82.5065 Q59.2838 80.4463 59.2838 77.4834 Q59.2838 73.3399 62.2236 70.9325 Q65.1865 68.5251 70.3254 68.5251 Q75.4874 68.5251 78.4272 70.9325 Q81.367 73.3399 81.367 77.4834 Q81.367 80.4463 79.6772 82.5065 Q78.0105 84.5667 75.0244 85.3074 Q78.404 86.0944 80.279 88.3861 Q82.1772 90.6778 82.1772 93.9879 Q82.1772 99.011 79.0985 101.696 Q76.0429 104.381 70.3254 104.381 Q64.6078 104.381 61.5291 101.696 Q58.4736 99.011 58.4736 93.9879 Q58.4736 90.6778 60.3717 88.3861 Q62.2699 86.0944 65.6495 85.3074 M63.9365 77.9232 Q63.9365 80.6084 65.6032 82.113 Q67.293 83.6176 70.3254 83.6176 Q73.3346 83.6176 75.0244 82.113 Q76.7374 80.6084 76.7374 77.9232 Q76.7374 75.238 75.0244 73.7334 Q73.3346 72.2288 70.3254 72.2288 Q67.293 72.2288 65.6032 73.7334 Q63.9365 75.238 63.9365 77.9232 Z\" fill=\"#000000\" fill-rule=\"evenodd\" fill-opacity=\"1\" /><polyline clip-path=\"url(#clip262)\" style=\"stroke:#009af9; stroke-linecap:butt; stroke-linejoin:round; stroke-width:4; stroke-opacity:1; fill:none\" points=\"\n",
       "  129.967,492.13 229.394,456.979 423.431,436.417 598.229,421.828 603.047,410.511 681.251,401.265 729.096,393.448 743.33,386.676 749.642,380.703 766.711,375.36 \n",
       "  769.209,370.527 785.489,366.114 788.75,362.055 794.967,358.297 795.776,354.798 797.073,351.525 797.099,348.451 800.303,345.552 806.111,342.81 808.472,340.209 \n",
       "  809.263,337.735 810.512,335.376 813.24,333.121 813.7,330.963 816.72,328.893 822.552,326.904 827.267,324.99 827.569,323.146 830.408,321.366 831.127,319.647 \n",
       "  831.928,317.984 837.092,316.374 839.2,314.813 841.182,313.3 842.6,311.829 843.587,310.401 844.505,309.011 847.012,307.659 848.227,306.342 850.481,305.058 \n",
       "  852.063,303.806 852.088,302.583 852.619,301.39 853.042,300.224 853.456,299.085 855.476,297.97 857.113,296.879 857.333,295.812 858.134,294.766 859.418,293.742 \n",
       "  862.655,292.737 862.895,291.753 863.286,290.787 867.656,289.839 868.671,288.908 870.572,287.994 870.939,287.097 873.149,286.215 873.768,285.348 873.956,284.496 \n",
       "  874.003,283.657 874.704,282.833 876.042,282.021 877.248,281.223 877.353,280.436 877.596,279.662 877.926,278.9 877.958,278.148 878.417,277.408 882.002,276.678 \n",
       "  882.589,275.959 883.269,275.25 884.497,274.55 884.609,273.86 885.756,273.179 889,272.508 889.889,271.845 890.181,271.19 890.655,270.544 892.009,269.907 \n",
       "  892.357,269.277 892.567,268.654 892.848,268.04 893.188,267.432 893.901,266.832 894.25,266.239 895.269,265.653 896.439,265.073 896.86,264.5 898.635,263.933 \n",
       "  899.046,263.373 899.541,262.819 901.329,262.271 901.462,261.728 902.344,261.192 903.974,260.661 903.999,260.135 904.353,259.615 905.177,259.1 905.673,258.59 \n",
       "  906.274,258.086 906.416,257.586 907.418,257.091 908.006,256.601 908.544,256.116 908.987,255.635 909.02,255.159 909.782,254.687 909.885,254.22 910.793,253.757 \n",
       "  910.894,253.298 912.417,252.843 912.71,252.392 912.808,251.946 914.06,251.503 915.681,251.064 916.078,250.628 917.411,250.197 917.791,249.769 918.226,249.344 \n",
       "  919.12,248.924 919.178,248.506 919.577,248.092 919.793,247.682 920.949,247.274 921.128,246.87 921.861,246.469 922.13,246.071 922.238,245.677 922.954,245.285 \n",
       "  923.917,244.897 924.504,244.511 924.967,244.128 925.022,243.748 925.185,243.371 925.335,242.997 925.546,242.626 925.622,242.257 926.505,241.891 926.562,241.527 \n",
       "  926.839,241.166 928.302,240.808 930.056,240.452 930.079,240.098 930.396,239.747 930.626,239.399 930.634,239.053 930.711,238.709 934.496,238.367 934.771,238.028 \n",
       "  935.063,237.691 935.193,237.357 935.39,237.024 935.911,236.694 936.12,236.365 936.412,236.039 936.758,235.715 936.793,235.393 937.507,235.073 938.392,234.755 \n",
       "  938.652,234.439 938.686,234.125 938.757,233.813 939.382,233.503 939.551,233.195 939.613,232.888 940.511,232.584 940.569,232.281 940.632,231.98 940.66,231.681 \n",
       "  941.018,231.383 941.464,231.088 941.57,230.794 941.963,230.501 942.172,230.211 942.606,229.922 942.668,229.635 942.691,229.349 942.852,229.065 943.081,228.782 \n",
       "  943.645,228.501 943.88,228.222 944.06,227.944 944.178,227.668 944.359,227.393 944.401,227.119 944.499,226.847 944.864,226.577 945.227,226.308 945.321,226.04 \n",
       "  945.382,225.774 945.642,225.509 945.793,225.246 946.54,224.984 946.835,224.723 946.922,224.464 946.923,224.206 947.72,223.949 947.723,223.693 948.26,223.439 \n",
       "  948.324,223.186 948.389,222.935 948.516,222.684 948.632,222.435 949.086,222.187 949.301,221.94 949.432,221.695 949.719,221.45 950.138,221.207 950.555,220.965 \n",
       "  950.943,220.724 951.016,220.484 951.479,220.246 951.925,220.008 951.978,219.772 952.26,219.536 952.795,219.302 952.976,219.069 953.18,218.837 953.873,218.606 \n",
       "  953.915,218.376 954.102,218.147 954.756,217.919 955.177,217.692 955.924,217.466 956.246,217.241 956.66,217.017 956.86,216.794 957.347,216.572 957.531,216.351 \n",
       "  957.821,216.131 958.09,215.912 958.196,215.694 958.716,215.477 959.063,215.261 959.583,215.046 959.632,214.831 959.73,214.618 959.852,214.405 959.887,214.193 \n",
       "  960.257,213.982 960.783,213.772 961.108,213.563 961.182,213.355 961.506,213.148 961.749,212.941 961.809,212.735 961.811,212.53 961.828,212.326 961.992,212.123 \n",
       "  962.168,211.921 962.643,211.719 962.712,211.518 962.789,211.318 963.139,211.119 963.161,210.92 963.23,210.723 963.257,210.526 963.829,210.329 964.132,210.134 \n",
       "  964.315,209.939 964.576,209.745 964.586,209.552 964.752,209.36 964.753,209.168 965.06,208.977 965.42,208.787 965.674,208.597 966.135,208.408 966.24,208.22 \n",
       "  966.331,208.033 966.339,207.846 966.645,207.66 966.725,207.474 966.913,207.29 967.042,207.105 967.227,206.922 967.301,206.739 967.33,206.557 967.396,206.376 \n",
       "  968.214,206.195 968.266,206.015 968.387,205.835 968.387,205.656 968.512,205.478 969.22,205.301 969.28,205.124 969.801,204.947 969.832,204.771 971.012,204.596 \n",
       "  971.105,204.422 971.211,204.248 971.494,204.074 971.606,203.902 971.671,203.729 971.672,203.558 971.875,203.387 971.973,203.216 972.228,203.046 972.527,202.877 \n",
       "  973.337,202.708 973.502,202.54 973.744,202.372 973.813,202.205 973.918,202.039 973.969,201.873 974.033,201.707 974.091,201.542 974.259,201.378 974.424,201.214 \n",
       "  974.487,201.051 974.616,200.888 974.97,200.726 975.208,200.564 975.659,200.403 975.691,200.242 975.732,200.082 975.95,199.922 976.175,199.763 976.916,199.604 \n",
       "  977.383,199.446 977.396,199.288 977.414,199.131 977.435,198.974 977.883,198.818 977.921,198.662 978.059,198.507 978.096,198.352 978.352,198.197 978.587,198.044 \n",
       "  978.598,197.89 978.885,197.737 979.29,197.585 979.723,197.433 980.617,197.281 980.629,197.13 980.686,196.979 980.742,196.829 981.38,196.679 981.568,196.53 \n",
       "  981.644,196.381 981.746,196.232 982.153,196.084 982.438,195.937 982.531,195.789 982.553,195.643 982.673,195.496 983.056,195.35 983.218,195.205 983.297,195.06 \n",
       "  983.453,194.915 983.457,194.771 983.458,194.627 983.981,194.483 984.101,194.34 984.287,194.198 984.329,194.055 984.62,193.914 984.629,193.772 984.981,193.631 \n",
       "  985.121,193.49 985.336,193.35 985.392,193.21 985.459,193.071 985.47,192.932 986.213,192.793 986.602,192.654 986.721,192.516 987.679,192.379 987.756,192.242 \n",
       "  987.79,192.105 987.918,191.968 988.184,191.832 988.206,191.696 988.275,191.561 988.408,191.426 988.498,191.291 988.531,191.157 988.587,191.023 988.614,190.889 \n",
       "  988.649,190.756 988.658,190.623 988.686,190.49 988.787,190.358 988.844,190.226 988.845,190.095 988.875,189.963 989.035,189.833 989.196,189.702 989.424,189.572 \n",
       "  989.589,189.442 989.853,189.312 989.931,189.183 990.136,189.054 990.326,188.926 990.534,188.798 990.578,188.67 990.672,188.542 990.682,188.415 990.693,188.288 \n",
       "  990.869,188.161 990.915,188.035 990.944,187.909 991.067,187.783 991.087,187.658 991.156,187.533 991.287,187.408 991.37,187.284 991.46,187.16 991.609,187.036 \n",
       "  991.722,186.912 991.737,186.789 991.797,186.666 991.981,186.543 992.21,186.421 992.36,186.299 992.411,186.177 992.529,186.056 993.154,185.935 993.23,185.814 \n",
       "  993.252,185.693 993.63,185.573 993.777,185.453 993.927,185.333 994.151,185.214 994.229,185.094 994.517,184.975 994.639,184.857 994.721,184.738 994.77,184.62 \n",
       "  994.889,184.503 994.906,184.385 994.947,184.268 994.987,184.151 995.011,184.034 995.293,183.918 995.362,183.801 995.368,183.686 995.491,183.57 995.69,183.455 \n",
       "  995.771,183.339 996.036,183.225 996.074,183.11 996.122,182.996 996.264,182.881 996.472,182.768 996.489,182.654 996.83,182.541 997.237,182.428 997.254,182.315 \n",
       "  997.294,182.202 997.469,182.09 997.783,181.978 997.882,181.866 998,181.754 998.103,181.643 998.223,181.532 998.226,181.421 998.629,181.311 998.658,181.2 \n",
       "  998.802,181.09 999.058,180.98 999.274,180.871 999.368,180.761 999.473,180.652 999.731,180.543 999.81,180.434 1000.29,180.326 1000.42,180.218 1000.6,180.11 \n",
       "  1000.64,180.002 1000.67,179.894 1000.89,179.787 1000.92,179.68 1000.97,179.573 1001.11,179.466 1001.63,179.36 1001.74,179.254 1001.81,179.148 1001.92,179.042 \n",
       "  1001.97,178.936 1002.03,178.831 1002.07,178.726 1002.11,178.621 1002.18,178.516 1002.32,178.412 1002.33,178.308 1002.53,178.204 1002.62,178.1 1002.63,177.996 \n",
       "  1002.83,177.893 1003.28,177.79 1003.3,177.687 1003.34,177.584 1003.36,177.481 1003.37,177.379 1003.45,177.277 1003.55,177.175 1003.56,177.073 1003.62,176.972 \n",
       "  1003.62,176.87 1003.77,176.769 1003.98,176.668 1003.98,176.568 1004.06,176.467 1004.24,176.367 1004.3,176.267 1004.35,176.167 1004.36,176.067 1004.45,175.968 \n",
       "  1004.91,175.868 1005.04,175.769 1005.06,175.67 1005.27,175.571 1005.4,175.473 1005.43,175.374 1005.44,175.276 1005.67,175.178 1005.75,175.08 1005.92,174.983 \n",
       "  1005.94,174.885 1006.03,174.788 1006.42,174.691 1006.63,174.594 1006.63,174.497 1006.64,174.401 1006.67,174.305 1006.71,174.209 1006.75,174.113 1006.77,174.017 \n",
       "  1006.82,173.921 1006.83,173.826 1006.84,173.731 1007.02,173.636 1007.15,173.541 1007.36,173.446 1007.37,173.351 1007.43,173.257 1007.43,173.163 1007.44,173.069 \n",
       "  1007.51,172.975 1007.6,172.881 1007.77,172.788 1007.98,172.695 1008.06,172.601 1008.16,172.509 1008.22,172.416 1008.3,172.323 1008.32,172.231 1008.57,172.138 \n",
       "  1008.6,172.046 1008.74,171.954 1008.77,171.862 1008.78,171.771 1008.79,171.679 1008.82,171.588 1008.86,171.497 1008.89,171.406 1008.9,171.315 1008.95,171.225 \n",
       "  1008.99,171.134 1009.11,171.044 1009.33,170.954 1009.48,170.864 1009.51,170.774 1009.75,170.684 1009.78,170.595 1009.92,170.505 1009.96,170.416 1010.49,170.327 \n",
       "  1010.61,170.238 1010.83,170.149 1011.08,170.061 1011.12,169.972 1011.3,169.884 1011.33,169.796 1011.72,169.708 1011.91,169.62 1011.97,169.533 1012.02,169.445 \n",
       "  1012.19,169.358 1012.25,169.27 1012.33,169.183 1012.35,169.096 1012.44,169.01 1012.46,168.923 1012.53,168.837 1012.58,168.75 1012.61,168.664 1012.65,168.578 \n",
       "  1012.72,168.492 1012.92,168.407 1012.94,168.321 1012.97,168.235 1013.03,168.15 1013.05,168.065 1013.15,167.98 1013.19,167.895 1013.25,167.81 1013.27,167.726 \n",
       "  1013.36,167.641 1013.39,167.557 1013.44,167.473 1013.45,167.389 1013.47,167.305 1013.53,167.221 1013.54,167.138 1013.56,167.054 1013.6,166.971 1013.71,166.888 \n",
       "  1013.75,166.804 1013.83,166.722 1013.91,166.639 1014.16,166.556 1014.2,166.474 1014.22,166.391 1014.34,166.309 1014.34,166.227 1014.4,166.145 1014.55,166.063 \n",
       "  1014.68,165.981 1014.73,165.9 1014.9,165.818 1014.92,165.737 1015.11,165.656 1015.23,165.575 1015.25,165.494 1015.32,165.413 1015.34,165.332 1015.37,165.252 \n",
       "  1015.56,165.171 1015.58,165.091 1015.66,165.011 1015.77,164.931 1016.17,164.851 1016.19,164.771 1016.29,164.691 1016.4,164.612 1016.56,164.532 1016.59,164.453 \n",
       "  1016.6,164.374 1016.67,164.295 1016.8,164.216 1017.26,164.137 1017.41,164.058 1017.47,163.98 1017.52,163.901 1017.61,163.823 1017.65,163.745 1017.8,163.667 \n",
       "  1017.83,163.589 1017.84,163.511 1017.98,163.433 1018.11,163.355 1018.11,163.278 1018.19,163.201 1018.24,163.123 1018.24,163.046 1018.3,162.969 1018.4,162.892 \n",
       "  1018.53,162.816 1018.54,162.739 1018.61,162.662 1018.65,162.586 1018.66,162.51 1018.67,162.433 1018.69,162.357 1018.89,162.281 1018.92,162.206 1018.97,162.13 \n",
       "  1018.97,162.054 1019.16,161.979 1019.18,161.903 1019.21,161.828 1019.25,161.753 1019.48,161.678 1019.51,161.603 1019.52,161.528 1019.79,161.453 1019.82,161.378 \n",
       "  1020.12,161.304 1020.14,161.23 1020.18,161.155 1020.21,161.081 1020.57,161.007 1020.62,160.933 1020.82,160.859 1020.83,160.785 1020.84,160.712 1020.94,160.638 \n",
       "  1021.1,160.565 1021.14,160.491 1021.37,160.418 1021.4,160.345 1021.41,160.272 1021.48,160.199 1021.62,160.126 1021.66,160.054 1021.67,159.981 1021.68,159.908 \n",
       "  1021.7,159.836 1021.72,159.764 1021.73,159.692 1021.83,159.619 1021.86,159.547 1021.9,159.476 1021.92,159.404 1022.22,159.332 1022.32,159.261 1022.33,159.189 \n",
       "  1022.39,159.118 1022.4,159.046 1022.41,158.975 1022.47,158.904 1022.51,158.833 1022.53,158.762 1022.54,158.692 1022.6,158.621 1022.65,158.55 1022.67,158.48 \n",
       "  1022.75,158.409 1022.76,158.339 1022.82,158.269 1022.83,158.199 1022.87,158.129 1022.93,158.059 1022.94,157.989 1022.95,157.919 1022.99,157.85 1023.14,157.78 \n",
       "  1023.36,157.711 1023.47,157.642 1023.53,157.572 1023.64,157.503 1023.7,157.434 1023.71,157.365 1023.77,157.296 1023.79,157.228 1023.98,157.159 1023.98,157.09 \n",
       "  1024,157.022 1024.05,156.953 1024.21,156.885 1024.39,156.817 1024.47,156.749 1024.47,156.681 1024.52,156.613 1024.54,156.545 1024.56,156.477 1024.74,156.41 \n",
       "  1024.8,156.342 1024.96,156.275 1024.96,156.207 1025.01,156.14 1025.01,156.073 1025.03,156.006 1025.13,155.938 1025.25,155.872 1025.29,155.805 1025.42,155.738 \n",
       "  1025.5,155.671 1025.5,155.605 1025.61,155.538 1025.62,155.472 1025.63,155.405 1025.67,155.339 1025.73,155.273 1025.8,155.207 1026.03,155.141 1026.16,155.075 \n",
       "  1026.28,155.009 1026.36,154.943 1026.41,154.878 1026.53,154.812 1026.55,154.747 1026.59,154.681 1026.61,154.616 1026.66,154.551 1026.66,154.486 1026.67,154.421 \n",
       "  1026.71,154.356 1026.72,154.291 1026.77,154.226 1026.81,154.161 1026.84,154.097 1026.86,154.032 1026.87,153.968 1027.06,153.903 1027.09,153.839 1027.16,153.775 \n",
       "  1027.23,153.71 1027.29,153.646 1027.36,153.582 1027.36,153.518 1027.46,153.455 1027.46,153.391 1027.5,153.327 1027.52,153.264 1027.58,153.2 1027.74,153.137 \n",
       "  1027.92,153.073 1027.97,153.01 1028.04,152.947 1028.05,152.884 1028.25,152.821 1028.28,152.758 1028.29,152.695 1028.4,152.632 1028.44,152.569 1028.51,152.507 \n",
       "  1028.66,152.444 1028.81,152.382 1028.83,152.319 1028.94,152.257 1029.1,152.195 1029.11,152.132 1029.12,152.07 1029.22,152.008 1029.38,151.946 1029.44,151.884 \n",
       "  1029.49,151.823 1029.5,151.761 1029.52,151.699 1029.53,151.638 1029.6,151.576 1029.73,151.515 1029.87,151.453 1030.08,151.392 1030.16,151.331 1030.26,151.27 \n",
       "  1030.3,151.209 1030.6,151.148 1030.64,151.087 1030.7,151.026 1030.76,150.965 1030.81,150.905 1030.82,150.844 1030.85,150.783 1030.87,150.723 1030.89,150.662 \n",
       "  1031.02,150.602 1031.12,150.542 1031.12,150.482 1031.31,150.422 1031.32,150.361 1031.39,150.301 1031.39,150.242 1031.55,150.182 1031.71,150.122 1031.74,150.062 \n",
       "  1032.19,150.003 1032.43,149.943 1032.44,149.884 1032.45,149.824 1032.53,149.765 1032.55,149.706 1032.57,149.646 1032.59,149.587 1032.61,149.528 1032.67,149.469 \n",
       "  1032.68,149.41 1033.13,149.351 1033.17,149.293 1033.3,149.234 1033.33,149.175 1033.49,149.117 1033.59,149.058 1033.63,149 1033.65,148.941 1033.7,148.883 \n",
       "  1033.7,148.825 1033.89,148.766 1034.03,148.708 1034.17,148.65 1034.19,148.592 1034.29,148.534 1034.47,148.476 1034.49,148.419 1034.53,148.361 1034.6,148.303 \n",
       "  1034.63,148.246 1034.63,148.188 1034.71,148.131 1034.91,148.073 1034.97,148.016 1035.01,147.959 1035.05,147.901 1035.1,147.844 1035.13,147.787 1035.13,147.73 \n",
       "  1035.36,147.673 1035.38,147.616 1035.4,147.56 1035.49,147.503 1035.52,147.446 1035.52,147.39 1035.65,147.333 1035.69,147.276 1035.69,147.22 1035.73,147.164 \n",
       "  1035.79,147.107 1035.87,147.051 1035.88,146.995 1036.17,146.939 1036.35,146.883 1036.42,146.827 1036.48,146.771 1036.55,146.715 1036.64,146.659 1036.64,146.603 \n",
       "  1036.72,146.548 1036.87,146.492 1036.88,146.436 1036.92,146.381 1036.98,146.325 1037.04,146.27 1037.1,146.215 1037.23,146.159 1037.28,146.104 1037.37,146.049 \n",
       "  1037.48,145.994 1037.52,145.939 1037.59,145.884 1037.66,145.829 1037.67,145.774 1037.69,145.719 1037.73,145.665 1037.73,145.61 1037.79,145.555 1037.79,145.501 \n",
       "  1037.91,145.446 1037.93,145.392 1038,145.337 1038.08,145.283 1038.13,145.229 1038.14,145.175 1038.14,145.121 1038.15,145.066 1038.2,145.012 1038.23,144.958 \n",
       "  1038.29,144.904 1038.35,144.851 1038.43,144.797 1038.59,144.743 1038.61,144.689 1038.79,144.636 1038.84,144.582 1038.88,144.529 1039.01,144.475 1039.05,144.422 \n",
       "  1039.11,144.368 1039.27,144.315 1039.29,144.262 1039.34,144.209 1039.36,144.156 1039.39,144.102 1039.4,144.049 1039.65,143.996 1039.69,143.944 1039.71,143.891 \n",
       "  1039.71,143.838 1039.81,143.785 1039.86,143.733 1039.9,143.68 1039.92,143.627 1039.99,143.575 1040.01,143.522 1040.07,143.47 1040.08,143.418 1040.08,143.365 \n",
       "  1040.09,143.313 1040.13,143.261 1040.18,143.209 1040.28,143.157 1040.31,143.104 1040.31,143.052 1040.32,143.001 1040.33,142.949 1040.34,142.897 1040.38,142.845 \n",
       "  1040.45,142.793 1040.55,142.742 1040.65,142.69 1040.72,142.639 1040.73,142.587 1040.75,142.536 1040.81,142.484 1040.87,142.433 1040.9,142.381 1041,142.33 \n",
       "  1041.06,142.279 1041.08,142.228 1041.11,142.177 1041.11,142.126 1041.12,142.075 1041.24,142.024 1041.35,141.973 1041.35,141.922 1041.36,141.871 1041.37,141.821 \n",
       "  1041.4,141.77 1041.51,141.719 1041.55,141.669 1041.56,141.618 1041.57,141.568 1041.69,141.517 1041.69,141.467 1041.8,141.416 1041.8,141.366 1041.83,141.316 \n",
       "  1041.86,141.266 1041.89,141.216 1041.89,141.166 1041.96,141.115 1041.96,141.066 1041.99,141.016 1042.01,140.966 1042.13,140.916 1042.26,140.866 1042.35,140.816 \n",
       "  1042.42,140.767 1042.43,140.717 1042.54,140.667 1042.59,140.618 1042.63,140.568 1042.63,140.519 1042.65,140.469 1042.68,140.42 1042.71,140.371 1042.84,140.322 \n",
       "  1042.93,140.272 1042.99,140.223 1043,140.174 1043.01,140.125 1043.11,140.076 1043.14,140.027 1043.15,139.978 1043.16,139.929 1043.24,139.88 1043.29,139.832 \n",
       "  1043.32,139.783 1043.37,139.734 1043.38,139.685 1043.39,139.637 1043.48,139.588 1043.6,139.54 1043.68,139.491 1043.69,139.443 1043.73,139.395 1043.74,139.346 \n",
       "  1043.75,139.298 1043.78,139.25 1043.78,139.202 1043.82,139.153 1043.89,139.105 1044.01,139.057 1044.14,139.009 1044.25,138.961 1044.31,138.913 1044.43,138.866 \n",
       "  1044.44,138.818 1044.45,138.77 1044.5,138.722 1044.52,138.675 1044.66,138.627 1044.67,138.579 1044.75,138.532 1044.77,138.484 1044.85,138.437 1044.86,138.389 \n",
       "  1044.88,138.342 1044.98,138.295 1045,138.247 1045.13,138.2 1045.15,138.153 1045.17,138.106 1045.26,138.059 1045.27,138.012 1045.27,137.965 1045.27,137.918 \n",
       "  1045.39,137.871 1045.47,137.824 1045.53,137.777 1045.58,137.73 1045.59,137.683 1045.74,137.637 1045.75,137.59 1045.81,137.543 1045.83,137.497 1045.92,137.45 \n",
       "  1045.95,137.404 1046.03,137.357 1046.14,137.311 1046.19,137.264 1046.19,137.218 1046.26,137.172 1046.28,137.126 1046.33,137.079 1046.34,137.033 1046.37,136.987 \n",
       "  1046.4,136.941 1046.47,136.895 1046.48,136.849 1046.6,136.803 1046.64,136.757 1046.65,136.711 1046.67,136.665 1046.69,136.62 1046.72,136.574 1046.78,136.528 \n",
       "  1046.81,136.483 1046.83,136.437 1046.84,136.391 1046.85,136.346 1046.87,136.3 1046.9,136.255 1046.98,136.209 1046.99,136.164 1047,136.119 1047.07,136.073 \n",
       "  1047.07,136.028 1047.1,135.983 1047.22,135.938 1047.24,135.893 1047.28,135.847 1047.29,135.802 1047.3,135.757 1047.38,135.712 1047.39,135.667 1047.4,135.623 \n",
       "  1047.41,135.578 1047.48,135.533 1047.49,135.488 1047.54,135.443 1047.67,135.399 1047.69,135.354 1047.76,135.309 1047.78,135.265 1047.91,135.22 1048.02,135.176 \n",
       "  1048.04,135.131 1048.04,135.087 1048.19,135.042 1048.32,134.998 1048.62,134.954 1048.7,134.91 1048.77,134.865 1048.79,134.821 1048.81,134.777 1048.83,134.733 \n",
       "  1048.88,134.689 1048.93,134.645 1048.99,134.601 1048.99,134.557 1049.02,134.513 1049.11,134.469 1049.18,134.425 1049.21,134.381 1049.24,134.338 1049.32,134.294 \n",
       "  1049.42,134.25 1049.44,134.206 1049.48,134.163 1049.49,134.119 1049.52,134.076 1049.53,134.032 1049.66,133.989 1049.72,133.945 1049.75,133.902 1049.76,133.858 \n",
       "  1049.77,133.815 1049.78,133.772 1049.89,133.729 1049.9,133.685 1049.9,133.642 1050.27,133.599 1050.27,133.556 1050.28,133.513 1050.37,133.47 1050.39,133.427 \n",
       "  1050.52,133.384 1050.54,133.341 1050.6,133.298 1050.62,133.255 1050.67,133.212 1050.67,133.17 1050.72,133.127 1050.76,133.084 1050.78,133.042 1050.8,132.999 \n",
       "  1050.83,132.956 1050.87,132.914 1050.91,132.871 1051.01,132.829 1051.05,132.786 1051.12,132.744 1051.22,132.702 1051.28,132.659 1051.33,132.617 1051.45,132.575 \n",
       "  1051.47,132.532 1051.52,132.49 1051.56,132.448 1051.59,132.406 1051.63,132.364 1051.65,132.322 1051.7,132.28 1051.74,132.238 1051.84,132.196 1051.88,132.154 \n",
       "  1051.96,132.112 1052.05,132.07 1052.11,132.028 1052.14,131.986 1052.16,131.945 1052.26,131.903 1052.29,131.861 1052.31,131.82 1052.32,131.778 1052.32,131.736 \n",
       "  1052.33,131.695 1052.38,131.653 1052.43,131.612 1052.46,131.57 1052.53,131.529 1052.53,131.488 1052.58,131.446 1052.62,131.405 1052.64,131.364 1052.73,131.322 \n",
       "  1052.75,131.281 1052.79,131.24 1052.8,131.199 1052.81,131.158 1052.88,131.117 1052.88,131.076 1052.89,131.035 1053.06,130.994 1053.09,130.953 1053.19,130.912 \n",
       "  1053.29,130.871 1053.29,130.83 1053.39,130.789 1053.42,130.748 1053.43,130.708 1053.5,130.667 1053.52,130.626 1053.52,130.586 1053.57,130.545 1053.71,130.504 \n",
       "  1053.75,130.464 1053.77,130.423 1053.79,130.383 1053.8,130.342 1053.83,130.302 1053.87,130.262 1053.92,130.221 1053.95,130.181 1053.97,130.141 1053.98,130.1 \n",
       "  1054,130.06 1054.12,130.02 1054.12,129.98 1054.21,129.94 1054.24,129.899 1054.28,129.859 1054.31,129.819 1054.33,129.779 1054.41,129.739 1054.43,129.699 \n",
       "  1054.44,129.659 1054.51,129.62 1054.63,129.58 1054.63,129.54 1054.64,129.5 1054.64,129.46 1054.8,129.421 1054.81,129.381 1054.82,129.341 1054.85,129.302 \n",
       "  1054.88,129.262 1054.96,129.222 1054.97,129.183 1054.98,129.143 1054.98,129.104 1055.01,129.064 1055.1,129.025 1055.17,128.986 1055.17,128.946 1055.19,128.907 \n",
       "  1055.19,128.868 1055.21,128.828 1055.32,128.789 1055.35,128.75 1055.36,128.711 1055.37,128.672 1055.39,128.633 1055.42,128.593 1055.53,128.554 1055.54,128.515 \n",
       "  1055.58,128.476 1055.6,128.437 1055.68,128.399 1055.68,128.36 1055.72,128.321 1055.73,128.282 1055.75,128.243 1055.8,128.204 1055.85,128.166 1055.88,128.127 \n",
       "  1055.93,128.088 1056.08,128.049 1056.09,128.011 1056.13,127.972 1056.29,127.934 1056.29,127.895 1056.35,127.857 1056.38,127.818 1056.38,127.78 1056.54,127.741 \n",
       "  1056.57,127.703 1056.57,127.664 1056.58,127.626 1056.6,127.588 1056.63,127.549 1056.72,127.511 1056.74,127.473 1056.79,127.435 1056.8,127.397 1056.84,127.358 \n",
       "  1056.88,127.32 1056.88,127.282 1056.97,127.244 1057.04,127.206 1057.07,127.168 1057.1,127.13 1057.14,127.092 1057.16,127.054 1057.18,127.016 1057.2,126.979 \n",
       "  1057.23,126.941 1057.27,126.903 1057.29,126.865 1057.3,126.827 1057.3,126.79 1057.32,126.752 1057.34,126.714 1057.38,126.677 1057.51,126.639 1057.52,126.601 \n",
       "  1057.55,126.564 1057.56,126.526 1057.58,126.489 1057.59,126.451 1057.64,126.414 1057.7,126.377 1057.72,126.339 1057.79,126.302 1057.8,126.265 1057.8,126.227 \n",
       "  1057.8,126.19 1057.85,126.153 1057.87,126.115 1057.88,126.078 1057.89,126.041 1057.92,126.004 1058.01,125.967 1058.04,125.93 1058.05,125.893 1058.08,125.856 \n",
       "  1058.15,125.819 1058.19,125.782 1058.21,125.745 1058.23,125.708 1058.24,125.671 1058.24,125.634 1058.27,125.597 1058.36,125.56 1058.39,125.524 1058.39,125.487 \n",
       "  1058.4,125.45 1058.45,125.413 1058.45,125.377 1058.53,125.34 1058.56,125.303 1058.56,125.267 1058.61,125.23 1058.71,125.194 1058.72,125.157 1058.72,125.121 \n",
       "  1058.73,125.084 1058.74,125.048 1058.78,125.011 1058.78,124.975 1058.79,124.939 1058.79,124.902 1058.86,124.866 1058.87,124.83 1058.93,124.793 1058.94,124.757 \n",
       "  1059.04,124.721 1059.05,124.685 1059.05,124.649 1059.09,124.613 1059.09,124.576 1059.15,124.54 1059.29,124.504 1059.31,124.468 1059.42,124.432 1059.42,124.396 \n",
       "  1059.44,124.36 1059.51,124.324 1059.52,124.288 1059.52,124.253 1059.53,124.217 1059.6,124.181 1059.6,124.145 1059.64,124.109 1059.67,124.074 1059.72,124.038 \n",
       "  1059.84,124.002 1059.92,123.966 1059.92,123.931 1059.94,123.895 1059.95,123.86 1059.98,123.824 1059.99,123.788 1060,123.753 1060.05,123.717 1060.07,123.682 \n",
       "  1060.19,123.647 1060.25,123.611 1060.35,123.576 1060.39,123.54 1060.41,123.505 1060.42,123.47 1060.47,123.434 1060.49,123.399 1060.52,123.364 1060.52,123.329 \n",
       "  1060.64,123.293 1060.65,123.258 1060.69,123.223 1060.7,123.188 1060.82,123.153 1060.89,123.118 1060.92,123.083 1060.96,123.048 1060.98,123.013 1060.98,122.978 \n",
       "  1060.98,122.943 1061.03,122.908 1061.07,122.873 1061.07,122.838 1061.08,122.803 1061.08,122.768 1061.14,122.733 1061.2,122.699 1061.2,122.664 1061.23,122.629 \n",
       "  1061.24,122.594 1061.26,122.56 1061.29,122.525 1061.3,122.49 1061.36,122.456 1061.39,122.421 1061.56,122.387 1061.65,122.352 1061.67,122.317 1061.7,122.283 \n",
       "  1061.76,122.248 1061.76,122.214 1061.82,122.18 1061.86,122.145 1061.88,122.111 1061.94,122.076 1061.96,122.042 1062.04,122.008 1062.08,121.973 1062.1,121.939 \n",
       "  1062.14,121.905 1062.15,121.871 1062.19,121.836 1062.22,121.802 1062.35,121.768 1062.38,121.734 1062.46,121.7 1062.46,121.666 1062.47,121.632 1062.47,121.598 \n",
       "  1062.55,121.564 1062.57,121.53 1062.63,121.496 1062.66,121.462 1062.67,121.428 1062.7,121.394 1062.75,121.36 1062.75,121.326 1062.78,121.292 1062.82,121.258 \n",
       "  1062.85,121.225 1062.86,121.191 1062.93,121.157 1062.99,121.123 1063.01,121.09 1063.01,121.056 1063.13,121.022 1063.16,120.989 1063.22,120.955 1063.23,120.921 \n",
       "  1063.31,120.888 1063.33,120.854 1063.34,120.821 1063.37,120.787 1063.42,120.754 1063.44,120.72 1063.45,120.687 1063.46,120.653 1063.48,120.62 1063.61,120.587 \n",
       "  1063.65,120.553 1063.71,120.52 1063.72,120.487 1063.74,120.453 1063.74,120.42 1063.79,120.387 1063.79,120.354 1063.92,120.32 1063.92,120.287 1064.02,120.254 \n",
       "  1064.03,120.221 1064.03,120.188 1064.05,120.155 1064.07,120.122 1064.1,120.089 1064.13,120.056 1064.13,120.023 1064.13,119.99 1064.14,119.957 1064.16,119.924 \n",
       "  1064.28,119.891 1064.28,119.858 1064.33,119.825 1064.39,119.792 1064.43,119.759 1064.43,119.727 1064.49,119.694 1064.52,119.661 1064.61,119.628 1064.66,119.596 \n",
       "  1064.73,119.563 1064.84,119.53 1064.85,119.497 1064.86,119.465 1064.87,119.432 1064.89,119.4 1064.95,119.367 1065.07,119.334 1065.09,119.302 1065.12,119.269 \n",
       "  1065.12,119.237 1065.15,119.204 1065.17,119.172 1065.26,119.14 1065.26,119.107 1065.28,119.075 1065.47,119.042 1065.58,119.01 1065.74,118.978 1065.77,118.945 \n",
       "  1065.82,118.913 1065.88,118.881 1065.91,118.849 1065.92,118.816 1065.94,118.784 1065.95,118.752 1065.98,118.72 1066,118.688 1066.03,118.655 1066.04,118.623 \n",
       "  1066.06,118.591 1066.08,118.559 1066.15,118.527 1066.23,118.495 1066.25,118.463 1066.25,118.431 1066.27,118.399 1066.28,118.367 1066.34,118.335 1066.42,118.303 \n",
       "  1066.43,118.272 1066.53,118.24 1066.54,118.208 1066.58,118.176 1066.59,118.144 1066.59,118.112 1066.62,118.081 1066.63,118.049 1066.67,118.017 1066.68,117.985 \n",
       "  1066.68,117.954 1066.81,117.922 1066.84,117.89 1066.91,117.859 1066.94,117.827 1066.95,117.796 1066.98,117.764 1067.09,117.733 1067.15,117.701 1067.19,117.67 \n",
       "  1067.22,117.638 1067.26,117.607 1067.28,117.575 1067.41,117.544 1067.45,117.512 1067.49,117.481 1067.5,117.45 1067.5,117.418 1067.51,117.387 1067.54,117.356 \n",
       "  1067.6,117.324 1067.61,117.293 1067.67,117.262 1067.7,117.23 1067.71,117.199 1067.71,117.168 1067.79,117.137 1067.8,117.106 1067.81,117.075 1067.84,117.043 \n",
       "  1067.86,117.012 1067.87,116.981 1067.88,116.95 1067.93,116.919 1067.93,116.888 1067.95,116.857 1068.06,116.826 1068.06,116.795 1068.07,116.764 1068.08,116.733 \n",
       "  1068.2,116.702 1068.21,116.671 1068.23,116.641 1068.26,116.61 1068.26,116.579 1068.27,116.548 1068.29,116.517 1068.33,116.486 1068.34,116.456 1068.39,116.425 \n",
       "  1068.43,116.394 1068.44,116.364 1068.47,116.333 1068.49,116.302 1068.5,116.272 1068.51,116.241 1068.55,116.21 1068.61,116.18 1068.65,116.149 1068.65,116.119 \n",
       "  1068.74,116.088 1068.84,116.057 1068.9,116.027 1068.94,115.997 1069.01,115.966 1069.03,115.936 1069.04,115.905 1069.06,115.875 1069.11,115.844 1069.17,115.814 \n",
       "  1069.21,115.784 1069.28,115.753 1069.31,115.723 1069.33,115.693 1069.35,115.662 1069.37,115.632 1069.42,115.602 1069.45,115.572 1069.46,115.541 1069.55,115.511 \n",
       "  1069.57,115.481 1069.62,115.451 1069.64,115.421 1069.69,115.391 1069.7,115.361 1069.71,115.33 1069.72,115.3 1069.73,115.27 1069.73,115.24 1069.78,115.21 \n",
       "  1069.8,115.18 1069.81,115.15 1069.85,115.12 1069.89,115.09 1069.95,115.06 1070.02,115.031 1070.03,115.001 1070.07,114.971 1070.09,114.941 1070.16,114.911 \n",
       "  1070.19,114.881 1070.2,114.851 1070.23,114.822 1070.25,114.792 1070.37,114.762 1070.42,114.732 1070.45,114.703 1070.46,114.673 1070.48,114.643 1070.51,114.614 \n",
       "  1070.55,114.584 1070.6,114.554 1070.64,114.525 1070.65,114.495 1070.65,114.466 1070.71,114.436 1070.73,114.406 1070.78,114.377 1070.88,114.347 1070.9,114.318 \n",
       "  1070.93,114.288 1070.95,114.259 1070.95,114.23 1070.99,114.2 1070.99,114.171 1071.05,114.141 1071.06,114.112 1071.06,114.083 1071.06,114.053 1071.09,114.024 \n",
       "  1071.1,113.995 1071.1,113.965 1071.2,113.936 1071.31,113.907 1071.43,113.878 1071.56,113.848 1071.57,113.819 1071.63,113.79 1071.64,113.761 1071.65,113.732 \n",
       "  1071.69,113.703 1071.72,113.673 1071.76,113.644 1071.77,113.615 1071.78,113.586 1071.8,113.557 1071.8,113.528 1071.82,113.499 1071.87,113.47 1071.88,113.441 \n",
       "  1071.91,113.412 1071.92,113.383 1071.96,113.354 1071.97,113.325 1072.04,113.296 1072.06,113.267 1072.07,113.239 1072.08,113.21 1072.13,113.181 1072.19,113.152 \n",
       "  1072.21,113.123 1072.25,113.094 1072.26,113.066 1072.27,113.037 1072.31,113.008 1072.33,112.979 1072.36,112.951 1072.36,112.922 1072.39,112.893 1072.4,112.865 \n",
       "  1072.43,112.836 1072.44,112.807 1072.46,112.779 1072.58,112.75 1072.59,112.722 1072.6,112.693 1072.63,112.665 1072.66,112.636 1072.68,112.608 1072.71,112.579 \n",
       "  1072.74,112.551 1072.77,112.522 1072.79,112.494 1072.84,112.465 1072.85,112.437 1072.85,112.408 1072.9,112.38 1072.94,112.352 1072.98,112.323 1073,112.295 \n",
       "  1073,112.267 1073,112.238 1073.14,112.21 1073.15,112.182 1073.16,112.153 1073.17,112.125 1073.23,112.097 1073.28,112.069 1073.3,112.041 1073.31,112.012 \n",
       "  1073.36,111.984 1073.36,111.956 1073.37,111.928 1073.42,111.9 1073.43,111.872 1073.43,111.844 1073.43,111.816 1073.47,111.788 1073.47,111.759 1073.47,111.731 \n",
       "  1073.49,111.703 1073.5,111.675 1073.55,111.647 1073.59,111.62 1073.59,111.592 1073.6,111.564 1073.61,111.536 1073.61,111.508 1073.63,111.48 1073.63,111.452 \n",
       "  1073.64,111.424 1073.71,111.396 1073.72,111.369 1073.78,111.341 1073.79,111.313 1073.79,111.285 1073.83,111.257 1073.84,111.23 1073.85,111.202 1073.87,111.174 \n",
       "  1073.87,111.146 1073.94,111.119 1074.01,111.091 1074.03,111.063 1074.05,111.036 1074.08,111.008 1074.11,110.981 1074.12,110.953 1074.13,110.925 1074.14,110.898 \n",
       "  1074.17,110.87 1074.22,110.843 1074.24,110.815 1074.24,110.788 1074.25,110.76 1074.3,110.733 1074.33,110.705 1074.36,110.678 1074.4,110.65 1074.46,110.623 \n",
       "  1074.46,110.596 1074.49,110.568 1074.5,110.541 1074.51,110.513 1074.54,110.486 1074.55,110.459 1074.55,110.431 1074.59,110.404 1074.59,110.377 1074.64,110.35 \n",
       "  1074.65,110.322 1074.68,110.295 1074.74,110.268 1074.78,110.241 1074.79,110.213 1074.79,110.186 1074.81,110.159 1074.82,110.132 1074.85,110.105 1074.85,110.078 \n",
       "  1074.89,110.051 1074.96,110.023 1074.99,109.996 1075,109.969 1075.03,109.942 1075.06,109.915 1075.06,109.888 1075.08,109.861 1075.1,109.834 1075.11,109.807 \n",
       "  1075.18,109.78 1075.18,109.753 1075.18,109.726 1075.19,109.699 1075.19,109.672 1075.19,109.646 1075.2,109.619 1075.21,109.592 1075.26,109.565 1075.27,109.538 \n",
       "  1075.35,109.511 1075.36,109.485 1075.47,109.458 1075.55,109.431 1075.55,109.404 1075.69,109.377 1075.7,109.351 1075.74,109.324 1075.8,109.297 1075.83,109.271 \n",
       "  1075.83,109.244 1075.89,109.217 1075.97,109.191 1076.03,109.164 1076.11,109.137 1076.15,109.111 1076.17,109.084 1076.21,109.057 1076.23,109.031 1076.29,109.004 \n",
       "  1076.32,108.978 1076.34,108.951 1076.36,108.925 1076.37,108.898 1076.37,108.872 1076.38,108.845 1076.4,108.819 1076.41,108.792 1076.41,108.766 1076.46,108.74 \n",
       "  1076.51,108.713 1076.52,108.687 1076.52,108.66 1076.55,108.634 1076.56,108.608 1076.58,108.581 1076.59,108.555 1076.59,108.529 1076.61,108.502 1076.63,108.476 \n",
       "  1076.65,108.45 1076.67,108.424 1076.75,108.397 1076.77,108.371 1076.8,108.345 1076.8,108.319 1076.82,108.292 1076.83,108.266 1076.86,108.24 1076.86,108.214 \n",
       "  1076.89,108.188 1076.89,108.162 1076.92,108.136 1076.95,108.11 1076.99,108.083 1076.99,108.057 1077,108.031 1077.04,108.005 1077.09,107.979 1077.29,107.953 \n",
       "  1077.35,107.927 1077.36,107.901 1077.41,107.875 1077.41,107.849 1077.42,107.823 1077.42,107.797 1077.44,107.772 1077.45,107.746 1077.45,107.72 1077.46,107.694 \n",
       "  1077.47,107.668 1077.57,107.642 1077.61,107.616 1077.61,107.59 1077.61,107.565 1077.63,107.539 1077.66,107.513 1077.74,107.487 1077.75,107.462 1077.77,107.436 \n",
       "  1077.82,107.41 1077.83,107.384 1077.87,107.359 1077.9,107.333 1077.91,107.307 1077.91,107.282 1077.94,107.256 1078,107.23 1078,107.205 1078,107.179 \n",
       "  1078.01,107.153 1078.02,107.128 1078.04,107.102 1078.05,107.077 1078.06,107.051 1078.06,107.026 1078.11,107 1078.11,106.975 1078.12,106.949 1078.17,106.924 \n",
       "  1078.2,106.898 1078.21,106.873 1078.21,106.847 1078.21,106.822 1078.22,106.796 1078.26,106.771 1078.3,106.745 1078.3,106.72 1078.33,106.695 1078.34,106.669 \n",
       "  1078.36,106.644 1078.45,106.619 1078.47,106.593 1078.48,106.568 1078.52,106.543 1078.55,106.517 1078.56,106.492 1078.59,106.467 1078.61,106.442 1078.62,106.416 \n",
       "  1078.66,106.391 1078.67,106.366 1078.69,106.341 1078.7,106.316 1078.72,106.29 1078.73,106.265 1078.75,106.24 1078.8,106.215 1078.89,106.19 1078.95,106.165 \n",
       "  1078.96,106.14 1079.15,106.115 1079.24,106.089 1079.25,106.064 1079.35,106.039 1079.38,106.014 1079.46,105.989 1079.5,105.964 1079.53,105.939 1079.57,105.914 \n",
       "  1079.57,105.889 1079.58,105.864 1079.59,105.839 1079.6,105.814 1079.62,105.79 1079.64,105.765 1079.65,105.74 1079.66,105.715 1079.66,105.69 1079.67,105.665 \n",
       "  1079.75,105.64 1079.76,105.615 1079.77,105.591 1079.78,105.566 1079.84,105.541 1079.85,105.516 1079.87,105.491 1079.9,105.467 1079.9,105.442 1079.9,105.417 \n",
       "  1079.93,105.392 1079.97,105.368 1079.99,105.343 1080.01,105.318 1080.03,105.294 1080.03,105.269 1080.06,105.244 1080.07,105.22 1080.08,105.195 1080.1,105.17 \n",
       "  1080.13,105.146 1080.14,105.121 1080.14,105.097 1080.17,105.072 1080.18,105.047 1080.18,105.023 1080.19,104.998 1080.2,104.974 1080.21,104.949 1080.25,104.925 \n",
       "  1080.34,104.9 1080.34,104.876 1080.39,104.851 1080.4,104.827 1080.43,104.802 1080.45,104.778 1080.45,104.754 1080.46,104.729 1080.5,104.705 1080.53,104.68 \n",
       "  1080.59,104.656 1080.62,104.632 1080.69,104.607 1080.69,104.583 1080.8,104.559 1080.82,104.534 1080.84,104.51 1080.86,104.486 1080.86,104.461 1080.87,104.437 \n",
       "  1080.87,104.413 1080.88,104.389 1080.92,104.364 1080.92,104.34 1080.92,104.316 1080.93,104.292 1080.98,104.268 1081.02,104.243 1081.05,104.219 1081.07,104.195 \n",
       "  1081.08,104.171 1081.1,104.147 1081.11,104.123 1081.12,104.099 1081.18,104.074 1081.2,104.05 1081.21,104.026 1081.21,104.002 1081.25,103.978 1081.26,103.954 \n",
       "  1081.26,103.93 1081.26,103.906 1081.27,103.882 1081.3,103.858 1081.34,103.834 1081.34,103.81 1081.35,103.786 1081.37,103.762 1081.42,103.738 1081.42,103.714 \n",
       "  1081.42,103.69 1081.44,103.667 1081.46,103.643 1081.49,103.619 1081.49,103.595 1081.5,103.571 1081.53,103.547 1081.54,103.523 1081.58,103.5 1081.61,103.476 \n",
       "  1081.65,103.452 1081.67,103.428 1081.69,103.404 1081.73,103.381 1081.74,103.357 1081.76,103.333 1081.78,103.309 1081.78,103.286 1081.84,103.262 1081.9,103.238 \n",
       "  1081.91,103.214 1081.94,103.191 1081.94,103.167 1081.98,103.143 1081.98,103.12 1081.99,103.096 1081.99,103.073 1082.01,103.049 1082.07,103.025 1082.12,103.002 \n",
       "  1082.18,102.978 1082.18,102.955 1082.24,102.931 1082.26,102.908 1082.27,102.884 1082.31,102.86 1082.33,102.837 1082.33,102.813 1082.34,102.79 1082.35,102.766 \n",
       "  1082.37,102.743 1082.47,102.72 1082.48,102.696 1082.49,102.673 1082.5,102.649 1082.58,102.626 1082.59,102.602 1082.63,102.579 1082.63,102.556 1082.65,102.532 \n",
       "  1082.67,102.509 1082.68,102.485 1082.68,102.462 1082.72,102.439 1082.76,102.415 1082.77,102.392 1082.82,102.369 1082.83,102.346 1082.84,102.322 1082.85,102.299 \n",
       "  1082.85,102.276 1082.85,102.253 1082.92,102.229 1082.93,102.206 1082.96,102.183 1082.99,102.16 1083.08,102.136 1083.09,102.113 1083.11,102.09 1083.12,102.067 \n",
       "  1083.13,102.044 1083.15,102.021 1083.16,101.998 1083.21,101.974 1083.25,101.951 1083.25,101.928 1083.3,101.905 1083.32,101.882 1083.32,101.859 1083.35,101.836 \n",
       "  1083.36,101.813 1083.38,101.79 1083.4,101.767 1083.41,101.744 1083.41,101.721 1083.41,101.698 1083.43,101.675 1083.44,101.652 1083.47,101.629 1083.5,101.606 \n",
       "  1083.56,101.583 1083.6,101.56 1083.6,101.537 1083.65,101.514 1083.7,101.491 1083.7,101.468 1083.73,101.446 1083.74,101.423 1083.75,101.4 1083.77,101.377 \n",
       "  1083.79,101.354 1083.79,101.331 1083.79,101.308 1083.8,101.286 1083.83,101.263 1083.84,101.24 1083.86,101.217 1083.86,101.195 1083.88,101.172 1083.91,101.149 \n",
       "  1083.97,101.126 1084,101.104 1084.05,101.081 1084.06,101.058 1084.2,101.035 1084.26,101.013 1084.28,100.99 1084.33,100.967 1084.35,100.945 1084.4,100.922 \n",
       "  1084.41,100.9 1084.41,100.877 1084.42,100.854 1084.42,100.832 1084.44,100.809 1084.45,100.786 1084.46,100.764 1084.48,100.741 1084.49,100.719 1084.51,100.696 \n",
       "  1084.52,100.674 1084.54,100.651 1084.59,100.629 1084.65,100.606 1084.66,100.584 1084.67,100.561 1084.68,100.539 1084.68,100.516 1084.69,100.494 1084.69,100.471 \n",
       "  1084.71,100.449 1084.72,100.427 1084.73,100.404 1084.76,100.382 1084.76,100.359 1084.8,100.337 1084.83,100.315 1084.84,100.292 1084.85,100.27 1084.86,100.247 \n",
       "  1084.87,100.225 1084.87,100.203 1084.88,100.18 1084.9,100.158 1084.92,100.136 1084.92,100.114 1085,100.091 1085,100.069 1085,100.047 1085.02,100.025 \n",
       "  1085.11,100.002 1085.12,99.9801 1085.12,99.9579 1085.14,99.9357 1085.18,99.9135 1085.19,99.8913 1085.22,99.8691 1085.25,99.8469 1085.25,99.8248 1085.26,99.8026 \n",
       "  1085.28,99.7805 1085.29,99.7583 1085.36,99.7362 1085.37,99.7141 1085.37,99.692 1085.39,99.6699 1085.39,99.6478 1085.39,99.6258 1085.43,99.6037 1085.44,99.5816 \n",
       "  1085.45,99.5596 1085.47,99.5376 1085.48,99.5155 1085.5,99.4935 1085.51,99.4715 1085.56,99.4495 1085.57,99.4275 1085.57,99.4056 1085.59,99.3836 1085.64,99.3616 \n",
       "  1085.65,99.3397 1085.71,99.3177 1085.75,99.2958 1085.83,99.2739 1085.86,99.252 1085.87,99.2301 1085.87,99.2082 1085.88,99.1863 1085.92,99.1644 1085.94,99.1426 \n",
       "  1085.96,99.1207 1085.96,99.0989 1085.97,99.077 1085.98,99.0552 1085.99,99.0334 1086.01,99.0116 1086.02,98.9898 1086.02,98.968 1086.08,98.9462 1086.11,98.9245 \n",
       "  1086.12,98.9027 1086.12,98.8809 1086.13,98.8592 1086.14,98.8375 1086.22,98.8157 1086.24,98.794 1086.32,98.7723 1086.32,98.7506 1086.33,98.7289 1086.34,98.7073 \n",
       "  1086.36,98.6856 1086.37,98.6639 1086.39,98.6423 1086.39,98.6207 1086.39,98.599 1086.4,98.5774 1086.41,98.5558 1086.41,98.5342 1086.42,98.5126 1086.45,98.491 \n",
       "  1086.52,98.4694 1086.53,98.4479 1086.63,98.4263 1086.67,98.4048 1086.69,98.3832 1086.72,98.3617 1086.73,98.3402 1086.73,98.3187 1086.75,98.2972 1086.8,98.2757 \n",
       "  1086.82,98.2542 1086.82,98.2327 1086.85,98.2113 1086.88,98.1898 1086.88,98.1683 1086.89,98.1469 1086.9,98.1255 1086.91,98.1041 1086.92,98.0826 1086.93,98.0612 \n",
       "  1086.95,98.0399 1086.99,98.0185 1087,97.9971 1087,97.9757 1087.03,97.9544 1087.03,97.933 1087.04,97.9117 1087.05,97.8904 1087.09,97.869 1087.1,97.8477 \n",
       "  1087.1,97.8264 1087.11,97.8051 1087.12,97.7838 1087.15,97.7626 1087.15,97.7413 1087.17,97.72 1087.37,97.6988 1087.37,97.6775 1087.38,97.6563 1087.39,97.6351 \n",
       "  1087.47,97.6139 1087.55,97.5927 1087.58,97.5715 1087.58,97.5503 1087.64,97.5291 1087.66,97.5079 1087.66,97.4868 1087.7,97.4656 1087.7,97.4445 1087.75,97.4233 \n",
       "  1087.76,97.4022 1087.79,97.3811 1087.81,97.36 1087.81,97.3389 1087.82,97.3178 1087.83,97.2967 1087.83,97.2756 1087.86,97.2546 1087.87,97.2335 1087.88,97.2125 \n",
       "  1087.89,97.1914 1087.9,97.1704 1087.92,97.1494 1087.93,97.1284 1087.94,97.1074 1087.96,97.0864 1087.98,97.0654 1088.01,97.0444 1088.03,97.0235 1088.06,97.0025 \n",
       "  1088.07,96.9815 1088.09,96.9606 1088.11,96.9397 1088.14,96.9187 1088.15,96.8978 1088.17,96.8769 1088.18,96.856 1088.19,96.8351 1088.2,96.8142 1088.2,96.7934 \n",
       "  1088.26,96.7725 1088.27,96.7516 1088.33,96.7308 1088.37,96.71 1088.38,96.6891 1088.4,96.6683 1088.41,96.6475 1088.41,96.6267 1088.44,96.6059 1088.44,96.5851 \n",
       "  1088.45,96.5643 1088.46,96.5436 1088.47,96.5228 1088.48,96.502 1088.48,96.4813 1088.53,96.4606 1088.54,96.4398 1088.55,96.4191 1088.57,96.3984 1088.59,96.3777 \n",
       "  1088.66,96.357 1088.66,96.3363 1088.67,96.3156 1088.68,96.295 1088.7,96.2743 1088.72,96.2536 1088.72,96.233 1088.74,96.2124 1088.74,96.1917 1088.75,96.1711 \n",
       "  1088.79,96.1505 1088.84,96.1299 1088.87,96.1093 1088.88,96.0887 1088.89,96.0681 1088.91,96.0476 1088.91,96.027 1088.93,96.0065 1088.99,95.9859 1089,95.9654 \n",
       "  1089.02,95.9449 1089.05,95.9243 1089.06,95.9038 1089.07,95.8833 1089.07,95.8628 1089.1,95.8424 1089.11,95.8219 1089.12,95.8014 1089.18,95.7809 1089.18,95.7605 \n",
       "  1089.25,95.74 1089.29,95.7196 1089.32,95.6992 1089.32,95.6788 1089.32,95.6583 1089.32,95.6379 1089.37,95.6176 1089.37,95.5972 1089.38,95.5768 1089.39,95.5564 \n",
       "  1089.46,95.5361 1089.46,95.5157 1089.47,95.4954 1089.48,95.475 1089.52,95.4547 1089.56,95.4344 1089.57,95.414 1089.57,95.3937 1089.6,95.3734 1089.61,95.3532 \n",
       "  1089.62,95.3329 1089.66,95.3126 1089.67,95.2923 1089.67,95.2721 1089.67,95.2518 1089.7,95.2316 1089.7,95.2114 1089.75,95.1911 1089.81,95.1709 1089.82,95.1507 \n",
       "  1089.85,95.1305 1089.85,95.1103 1089.85,95.0901 1089.86,95.07 1089.87,95.0498 1089.91,95.0296 1089.92,95.0095 1089.93,94.9893 1089.99,94.9692 1090.01,94.9491 \n",
       "  1090.03,94.929 1090.03,94.9088 1090.1,94.8887 1090.1,94.8686 1090.11,94.8486 1090.12,94.8285 1090.16,94.8084 1090.17,94.7883 1090.2,94.7683 1090.23,94.7482 \n",
       "  1090.23,94.7282 1090.24,94.7082 1090.26,94.6881 1090.27,94.6681 1090.32,94.6481 1090.33,94.6281 1090.34,94.6081 1090.38,94.5881 1090.41,94.5682 1090.42,94.5482 \n",
       "  1090.42,94.5282 1090.43,94.5083 1090.46,94.4883 1090.47,94.4684 1090.49,94.4485 1090.51,94.4285 1090.53,94.4086 1090.53,94.3887 1090.56,94.3688 1090.57,94.3489 \n",
       "  1090.58,94.329 1090.6,94.3092 1090.6,94.2893 1090.6,94.2694 1090.62,94.2496 1090.65,94.2297 1090.69,94.2099 1090.7,94.1901 1090.74,94.1702 1090.76,94.1504 \n",
       "  1090.77,94.1306 1090.79,94.1108 1090.79,94.091 1090.8,94.0713 1090.82,94.0515 1090.83,94.0317 1090.85,94.012 1090.9,93.9922 1090.91,93.9725 1090.93,93.9527 \n",
       "  1090.93,93.933 1090.94,93.9133 1090.94,93.8936 1090.94,93.8739 1090.95,93.8542 1090.95,93.8345 1090.96,93.8148 1090.97,93.7951 1090.99,93.7754 1091.01,93.7558 \n",
       "  1091.02,93.7361 1091.04,93.7165 1091.06,93.6968 1091.07,93.6772 1091.09,93.6576 1091.11,93.638 1091.14,93.6184 1091.16,93.5988 1091.17,93.5792 1091.17,93.5596 \n",
       "  1091.19,93.54 1091.19,93.5205 1091.2,93.5009 1091.21,93.4813 1091.23,93.4618 1091.24,93.4423 1091.27,93.4227 1091.27,93.4032 1091.28,93.3837 1091.32,93.3642 \n",
       "  1091.33,93.3447 1091.34,93.3252 1091.35,93.3057 1091.35,93.2862 1091.36,93.2667 1091.38,93.2473 1091.4,93.2278 1091.42,93.2084 1091.45,93.1889 1091.45,93.1695 \n",
       "  1091.5,93.1501 1091.52,93.1307 1091.54,93.1112 1091.54,93.0918 1091.57,93.0724 1091.58,93.0531 1091.58,93.0337 1091.61,93.0143 1091.61,92.9949 1091.62,92.9756 \n",
       "  1091.63,92.9562 1091.66,92.9369 1091.71,92.9175 1091.75,92.8982 1091.77,92.8789 1091.77,92.8596 1091.79,92.8403 1091.81,92.821 1091.82,92.8017 1091.9,92.7824 \n",
       "  1091.9,92.7631 1091.95,92.7438 1091.97,92.7246 1091.97,92.7053 1092.02,92.6861 1092.03,92.6668 1092.05,92.6476 1092.08,92.6284 1092.09,92.6091 1092.1,92.5899 \n",
       "  1092.1,92.5707 1092.1,92.5515 1092.12,92.5323 1092.14,92.5131 1092.16,92.494 1092.17,92.4748 1092.18,92.4556 1092.18,92.4365 1092.18,92.4173 1092.19,92.3982 \n",
       "  1092.19,92.3791 1092.2,92.3599 1092.2,92.3408 1092.25,92.3217 1092.25,92.3026 1092.29,92.2835 1092.31,92.2644 1092.32,92.2453 1092.34,92.2263 1092.34,92.2072 \n",
       "  1092.37,92.1881 1092.4,92.1691 1092.41,92.15 1092.41,92.131 1092.41,92.112 1092.42,92.0929 1092.42,92.0739 1092.44,92.0549 1092.44,92.0359 1092.45,92.0169 \n",
       "  1092.49,91.9979 1092.5,91.9789 1092.5,91.9599 1092.51,91.941 1092.53,91.922 1092.54,91.9031 1092.57,91.8841 1092.58,91.8652 1092.61,91.8462 1092.62,91.8273 \n",
       "  1092.64,91.8084 1092.64,91.7895 1092.64,91.7706 1092.66,91.7517 1092.66,91.7328 1092.66,91.7139 1092.67,91.695 1092.67,91.6762 1092.67,91.6573 1092.68,91.6384 \n",
       "  1092.68,91.6196 1092.69,91.6008 1092.7,91.5819 1092.75,91.5631 1092.76,91.5443 1092.77,91.5255 1092.77,91.5067 1092.77,91.4879 1092.77,91.4691 1092.78,91.4503 \n",
       "  1092.81,91.4315 1092.82,91.4127 1092.85,91.394 1092.88,91.3752 1092.9,91.3564 1092.92,91.3377 1092.96,91.319 1093,91.3002 1093.05,91.2815 1093.05,91.2628 \n",
       "  1093.06,91.2441 1093.06,91.2254 1093.09,91.2067 1093.12,91.188 1093.13,91.1693 1093.13,91.1506 1093.15,91.132 1093.19,91.1133 1093.24,91.0947 1093.24,91.076 \n",
       "  1093.29,91.0574 1093.29,91.0387 1093.3,91.0201 1093.3,91.0015 1093.31,90.9829 1093.31,90.9643 1093.36,90.9457 1093.41,90.9271 1093.43,90.9085 1093.49,90.8899 \n",
       "  1093.53,90.8713 1093.53,90.8528 1093.54,90.8342 1093.55,90.8157 1093.58,90.7971 1093.59,90.7786 1093.63,90.76 1093.66,90.7415 1093.76,90.723 1093.77,90.7045 \n",
       "  1093.77,90.686 1093.78,90.6675 1093.78,90.649 1093.79,90.6305 1093.79,90.612 1093.81,90.5936 1093.86,90.5751 1093.86,90.5566 1093.88,90.5382 1093.89,90.5197 \n",
       "  1093.91,90.5013 1093.92,90.4829 1093.93,90.4644 1093.93,90.446 1093.94,90.4276 1093.94,90.4092 1093.95,90.3908 1093.96,90.3724 1093.99,90.354 1093.99,90.3357 \n",
       "  1094.01,90.3173 1094.05,90.2989 1094.07,90.2806 1094.12,90.2622 1094.12,90.2439 1094.15,90.2255 1094.16,90.2072 1094.16,90.1889 1094.17,90.1706 1094.2,90.1523 \n",
       "  1094.21,90.134 1094.24,90.1157 1094.26,90.0974 1094.28,90.0791 1094.28,90.0608 1094.28,90.0425 1094.28,90.0243 1094.3,90.006 1094.37,89.9878 1094.38,89.9695 \n",
       "  1094.38,89.9513 1094.39,89.933 1094.41,89.9148 1094.45,89.8966 1094.45,89.8784 1094.46,89.8602 1094.47,89.842 1094.49,89.8238 1094.52,89.8056 1094.52,89.7874 \n",
       "  1094.55,89.7692 1094.55,89.7511 1094.59,89.7329 1094.59,89.7148 1094.63,89.6966 1094.64,89.6785 1094.67,89.6603 1094.69,89.6422 1094.7,89.6241 1094.71,89.606 \n",
       "  1094.71,89.5879 1094.74,89.5698 1094.74,89.5517 1094.78,89.5336 1094.79,89.5155 1094.85,89.4974 1094.88,89.4794 1094.88,89.4613 1094.89,89.4432 1094.91,89.4252 \n",
       "  1094.93,89.4071 1094.94,89.3891 1094.95,89.3711 1094.96,89.353 1094.96,89.335 1094.97,89.317 1095.01,89.299 1095.01,89.281 1095.02,89.263 1095.05,89.245 \n",
       "  1095.07,89.2271 1095.08,89.2091 1095.08,89.1911 1095.09,89.1732 1095.09,89.1552 1095.16,89.1372 1095.16,89.1193 1095.19,89.1014 1095.22,89.0834 1095.22,89.0655 \n",
       "  1095.23,89.0476 1095.23,89.0297 1095.27,89.0118 1095.27,88.9939 1095.27,88.976 1095.31,88.9581 1095.34,88.9402 1095.34,88.9224 1095.35,88.9045 1095.36,88.8866 \n",
       "  1095.36,88.8688 1095.39,88.8509 1095.39,88.8331 1095.45,88.8153 1095.46,88.7974 1095.47,88.7796 1095.52,88.7618 1095.54,88.744 1095.6,88.7262 1095.62,88.7084 \n",
       "  1095.63,88.6906 1095.63,88.6728 1095.64,88.655 1095.66,88.6373 1095.69,88.6195 1095.69,88.6017 1095.72,88.584 1095.75,88.5662 1095.76,88.5485 1095.79,88.5308 \n",
       "  1095.79,88.513 1095.84,88.4953 1095.84,88.4776 1095.84,88.4599 1095.91,88.4422 1095.93,88.4245 1095.96,88.4068 1095.96,88.3891 1095.96,88.3714 1095.98,88.3538 \n",
       "  1095.98,88.3361 1095.99,88.3184 1096,88.3008 1096.02,88.2831 1096.04,88.2655 1096.04,88.2478 1096.08,88.2302 1096.16,88.2126 1096.17,88.195 1096.23,88.1774 \n",
       "  1096.28,88.1598 1096.29,88.1422 1096.3,88.1246 1096.31,88.107 1096.31,88.0894 1096.33,88.0718 1096.36,88.0543 1096.36,88.0367 1096.38,88.0191 1096.41,88.0016 \n",
       "  1096.42,87.984 1096.45,87.9665 1096.46,87.949 1096.47,87.9314 1096.51,87.9139 1096.51,87.8964 1096.54,87.8789 1096.56,87.8614 1096.58,87.8439 1096.59,87.8264 \n",
       "  1096.6,87.8089 1096.61,87.7914 1096.63,87.774 1096.63,87.7565 1096.63,87.739 1096.64,87.7216 1096.69,87.7041 1096.71,87.6867 1096.71,87.6693 1096.71,87.6518 \n",
       "  1096.71,87.6344 1096.72,87.617 1096.72,87.5996 1096.73,87.5822 1096.73,87.5648 1096.73,87.5474 1096.74,87.53 1096.75,87.5126 1096.77,87.4952 1096.82,87.4779 \n",
       "  1096.84,87.4605 1096.9,87.4431 1096.91,87.4258 1096.91,87.4084 1096.93,87.3911 1096.94,87.3738 1096.95,87.3564 1096.98,87.3391 1096.99,87.3218 1097,87.3045 \n",
       "  1097.02,87.2872 1097.03,87.2699 1097.03,87.2526 1097.04,87.2353 1097.05,87.218 1097.08,87.2008 1097.13,87.1835 1097.13,87.1662 1097.16,87.149 1097.16,87.1317 \n",
       "  1097.17,87.1145 1097.19,87.0972 1097.2,87.08 1097.2,87.0628 1097.22,87.0455 1097.23,87.0283 1097.23,87.0111 1097.25,86.9939 1097.25,86.9767 1097.27,86.9595 \n",
       "  1097.28,86.9423 1097.28,86.9251 1097.31,86.908 1097.34,86.8908 1097.35,86.8736 1097.35,86.8565 1097.37,86.8393 1097.39,86.8222 1097.39,86.805 1097.4,86.7879 \n",
       "  1097.42,86.7708 1097.43,86.7536 1097.45,86.7365 1097.46,86.7194 1097.48,86.7023 1097.49,86.6852 1097.49,86.6681 1097.5,86.651 1097.53,86.6339 1097.54,86.6169 \n",
       "  1097.54,86.5998 1097.54,86.5827 1097.55,86.5657 1097.58,86.5486 1097.59,86.5316 1097.61,86.5145 1097.63,86.4975 1097.64,86.4804 1097.64,86.4634 1097.68,86.4464 \n",
       "  1097.76,86.4294 1097.79,86.4124 1097.82,86.3954 1097.82,86.3784 1097.82,86.3614 1097.85,86.3444 1097.86,86.3274 1097.87,86.3104 1097.87,86.2935 1097.93,86.2765 \n",
       "  1097.94,86.2595 1097.97,86.2426 1098.02,86.2256 1098.02,86.2087 1098.03,86.1918 1098.07,86.1748 1098.08,86.1579 1098.1,86.141 1098.11,86.1241 1098.12,86.1072 \n",
       "  1098.23,86.0903 1098.23,86.0734 1098.32,86.0565 1098.32,86.0396 1098.32,86.0227 1098.33,86.0059 1098.33,85.989 1098.34,85.9721 1098.37,85.9553 1098.38,85.9384 \n",
       "  1098.39,85.9216 1098.4,85.9047 1098.41,85.8879 1098.41,85.8711 1098.43,85.8542 1098.43,85.8374 1098.49,85.8206 1098.51,85.8038 1098.53,85.787 1098.54,85.7702 \n",
       "  1098.56,85.7534 1098.57,85.7366 1098.57,85.7199 1098.61,85.7031 1098.62,85.6863 1098.63,85.6696 1098.64,85.6528 1098.67,85.6361 1098.67,85.6193 1098.68,85.6026 \n",
       "  1098.71,85.5858 1098.71,85.5691 1098.71,85.5524 1098.72,85.5357 1098.76,85.519 1098.76,85.5023 1098.84,85.4855 1098.86,85.4689 1098.87,85.4522 1098.9,85.4355 \n",
       "  1098.91,85.4188 1098.93,85.4021 1098.94,85.3855 1098.96,85.3688 1098.98,85.3521 1099.01,85.3355 1099.02,85.3188 1099.03,85.3022 1099.03,85.2856 1099.04,85.2689 \n",
       "  1099.08,85.2523 1099.09,85.2357 1099.13,85.2191 1099.16,85.2025 1099.18,85.1859 1099.19,85.1693 1099.2,85.1527 1099.21,85.1361 1099.22,85.1195 1099.24,85.1029 \n",
       "  1099.24,85.0864 1099.24,85.0698 1099.24,85.0532 1099.25,85.0367 1099.25,85.0201 1099.31,85.0036 1099.36,84.9871 1099.4,84.9705 1099.42,84.954 1099.43,84.9375 \n",
       "  1099.45,84.921 1099.45,84.9045 1099.48,84.8879 1099.48,84.8714 1099.51,84.855 1099.52,84.8385 1099.53,84.822 1099.54,84.8055 1099.56,84.789 1099.56,84.7726 \n",
       "  1099.57,84.7561 1099.57,84.7396 1099.58,84.7232 1099.6,84.7067 1099.62,84.6903 1099.71,84.6739 1099.71,84.6574 1099.72,84.641 1099.72,84.6246 1099.74,84.6082 \n",
       "  1099.74,84.5918 1099.75,84.5754 1099.77,84.559 1099.8,84.5426 1099.87,84.5262 1099.87,84.5098 1099.88,84.4934 1099.89,84.4771 1099.9,84.4607 1099.91,84.4443 \n",
       "  1099.92,84.428 1099.94,84.4116 1099.94,84.3953 1099.98,84.3789 1099.99,84.3626 1100.02,84.3463 1100.02,84.3299 1100.05,84.3136 1100.05,84.2973 1100.05,84.281 \n",
       "  1100.06,84.2647 1100.08,84.2484 1100.09,84.2321 1100.1,84.2158 1100.1,84.1995 1100.1,84.1833 1100.16,84.167 1100.16,84.1507 1100.18,84.1345 1100.26,84.1182 \n",
       "  1100.27,84.1019 1100.27,84.0857 1100.28,84.0695 1100.3,84.0532 1100.3,84.037 1100.3,84.0208 1100.31,84.0045 1100.33,83.9883 1100.38,83.9721 1100.39,83.9559 \n",
       "  1100.39,83.9397 1100.41,83.9235 1100.41,83.9073 1100.41,83.8912 1100.44,83.875 1100.44,83.8588 1100.44,83.8426 1100.44,83.8265 1100.49,83.8103 1100.5,83.7942 \n",
       "  1100.51,83.778 1100.51,83.7619 1100.53,83.7457 1100.54,83.7296 1100.54,83.7135 1100.54,83.6973 1100.57,83.6812 1100.59,83.6651 1100.61,83.649 1100.64,83.6329 \n",
       "  1100.67,83.6168 1100.7,83.6007 1100.71,83.5846 1100.76,83.5686 1100.78,83.5525 1100.8,83.5364 1100.8,83.5203 1100.84,83.5043 1100.85,83.4882 1100.87,83.4722 \n",
       "  1100.88,83.4561 1100.9,83.4401 1100.91,83.424 1100.92,83.408 1100.92,83.392 1100.94,83.376 1101.01,83.36 1101.02,83.3439 1101.02,83.3279 1101.07,83.3119 \n",
       "  1101.09,83.2959 1101.09,83.28 1101.1,83.264 1101.13,83.248 1101.14,83.232 1101.14,83.216 1101.15,83.2001 1101.15,83.1841 1101.18,83.1682 1101.19,83.1522 \n",
       "  1101.21,83.1363 1101.22,83.1203 1101.23,83.1044 1101.24,83.0885 1101.25,83.0725 1101.25,83.0566 1101.26,83.0407 1101.31,83.0248 1101.32,83.0089 1101.34,82.993 \n",
       "  1101.36,82.9771 1101.36,82.9612 1101.36,82.9453 1101.4,82.9294 1101.4,82.9136 1101.41,82.8977 1101.45,82.8818 1101.47,82.866 1101.49,82.8501 1101.53,82.8343 \n",
       "  1101.53,82.8184 1101.54,82.8026 1101.55,82.7867 1101.55,82.7709 1101.55,82.7551 1101.58,82.7393 1101.6,82.7235 1101.6,82.7076 1101.62,82.6918 1101.62,82.676 \n",
       "  1101.64,82.6602 1101.64,82.6445 1101.65,82.6287 1101.65,82.6129 1101.66,82.5971 1101.66,82.5813 1101.67,82.5656 1101.67,82.5498 1101.68,82.5341 1101.68,82.5183 \n",
       "  1101.69,82.5026 1101.7,82.4868 1101.7,82.4711 1101.71,82.4553 1101.71,82.4396 1101.71,82.4239 1101.71,82.4082 1101.71,82.3925 1101.72,82.3768 1101.73,82.3611 \n",
       "  1101.76,82.3454 1101.76,82.3297 1101.81,82.314 1101.84,82.2983 1101.89,82.2826 1101.9,82.2669 1101.9,82.2513 1101.91,82.2356 1101.92,82.2199 1101.93,82.2043 \n",
       "  1101.97,82.1886 1101.98,82.173 1102.01,82.1574 1102.01,82.1417 1102.02,82.1261 1102.03,82.1105 1102.05,82.0948 1102.09,82.0792 1102.13,82.0636 1102.14,82.048 \n",
       "  1102.17,82.0324 1102.18,82.0168 1102.18,82.0012 1102.19,81.9856 1102.2,81.9701 1102.21,81.9545 1102.21,81.9389 1102.22,81.9233 1102.23,81.9078 1102.24,81.8922 \n",
       "  1102.25,81.8767 1102.25,81.8611 1102.26,81.8456 1102.27,81.83 1102.27,81.8145 1102.32,81.799 1102.35,81.7834 1102.36,81.7679 1102.4,81.7524 1102.41,81.7369 \n",
       "  1102.42,81.7214 1102.44,81.7059 1102.51,81.6904 1102.51,81.6749 1102.52,81.6594 1102.54,81.6439 1102.54,81.6284 1102.55,81.613 1102.56,81.5975 1102.61,81.582 \n",
       "  1102.64,81.5666 1102.65,81.5511 1102.68,81.5357 1102.7,81.5202 1102.72,81.5048 1102.75,81.4894 1102.76,81.4739 1102.76,81.4585 1102.78,81.4431 1102.78,81.4277 \n",
       "  1102.79,81.4123 1102.81,81.3968 1102.83,81.3814 1102.85,81.366 1102.88,81.3507 1102.89,81.3353 1102.9,81.3199 1102.94,81.3045 1102.95,81.2891 1102.96,81.2738 \n",
       "  1102.97,81.2584 1102.98,81.243 1102.99,81.2277 1102.99,81.2123 1103.01,81.197 1103.04,81.1816 1103.05,81.1663 1103.07,81.151 1103.09,81.1356 1103.09,81.1203 \n",
       "  1103.1,81.105 1103.1,81.0897 1103.11,81.0744 1103.12,81.0591 1103.13,81.0438 1103.14,81.0285 1103.2,81.0132 1103.2,80.9979 1103.24,80.9826 1103.25,80.9673 \n",
       "  1103.26,80.9521 1103.28,80.9368 1103.28,80.9215 1103.29,80.9063 1103.3,80.891 1103.3,80.8758 1103.34,80.8605 1103.34,80.8453 1103.36,80.8301 1103.36,80.8148 \n",
       "  1103.39,80.7996 1103.44,80.7844 1103.48,80.7692 1103.53,80.7539 1103.54,80.7387 1103.54,80.7235 1103.55,80.7083 1103.55,80.6931 1103.56,80.6779 1103.56,80.6628 \n",
       "  1103.59,80.6476 1103.6,80.6324 1103.63,80.6172 1103.64,80.6021 1103.64,80.5869 1103.64,80.5717 1103.66,80.5566 1103.67,80.5414 1103.67,80.5263 1103.69,80.5112 \n",
       "  1103.7,80.496 1103.74,80.4809 1103.75,80.4658 1103.75,80.4506 1103.76,80.4355 1103.78,80.4204 1103.81,80.4053 1103.81,80.3902 1103.81,80.3751 1103.81,80.36 \n",
       "  1103.82,80.3449 1103.82,80.3298 1103.85,80.3147 1103.86,80.2997 1103.91,80.2846 1103.91,80.2695 1103.97,80.2545 1104.01,80.2394 1104.03,80.2243 1104.03,80.2093 \n",
       "  1104.06,80.1942 1104.09,80.1792 1104.1,80.1642 1104.12,80.1491 1104.13,80.1341 1104.13,80.1191 1104.14,80.1041 1104.16,80.089 1104.22,80.074 1104.23,80.059 \n",
       "  1104.23,80.044 1104.26,80.029 1104.27,80.014 1104.27,79.9991 1104.33,79.9841 1104.33,79.9691 1104.33,79.9541 1104.34,79.9391 1104.35,79.9242 1104.38,79.9092 \n",
       "  1104.39,79.8943 1104.4,79.8793 1104.4,79.8644 1104.41,79.8494 1104.41,79.8345 1104.46,79.8195 1104.48,79.8046 1104.5,79.7897 1104.52,79.7748 1104.52,79.7598 \n",
       "  1104.52,79.7449 1104.59,79.73 1104.59,79.7151 1104.6,79.7002 1104.6,79.6853 1104.61,79.6704 1104.61,79.6555 1104.62,79.6407 1104.65,79.6258 1104.66,79.6109 \n",
       "  1104.68,79.596 1104.69,79.5812 1104.7,79.5663 1104.71,79.5515 1104.73,79.5366 1104.73,79.5218 1104.74,79.5069 1104.74,79.4921 1104.81,79.4772 1104.81,79.4624 \n",
       "  1104.81,79.4476 1104.83,79.4328 1104.86,79.4179 1104.86,79.4031 1104.87,79.3883 1104.87,79.3735 1104.87,79.3587 1104.89,79.3439 1104.91,79.3291 1104.91,79.3143 \n",
       "  1104.92,79.2996 1104.93,79.2848 1104.95,79.27 1104.98,79.2552 1104.98,79.2405 1105.01,79.2257 1105.01,79.211 1105.02,79.1962 1105.03,79.1815 1105.05,79.1667 \n",
       "  1105.06,79.152 1105.09,79.1372 1105.1,79.1225 1105.1,79.1078 1105.1,79.0931 1105.14,79.0783 1105.15,79.0636 1105.16,79.0489 1105.19,79.0342 1105.19,79.0195 \n",
       "  1105.21,79.0048 1105.22,78.9901 1105.23,78.9754 1105.24,78.9607 1105.24,78.9461 1105.25,78.9314 1105.27,78.9167 1105.3,78.902 1105.3,78.8874 1105.31,78.8727 \n",
       "  1105.32,78.8581 1105.35,78.8434 1105.36,78.8288 1105.37,78.8141 1105.38,78.7995 1105.38,78.7849 1105.38,78.7702 1105.4,78.7556 1105.4,78.741 1105.41,78.7264 \n",
       "  1105.48,78.7118 1105.49,78.6971 1105.5,78.6825 1105.5,78.6679 1105.52,78.6533 1105.55,78.6388 1105.56,78.6242 1105.57,78.6096 1105.57,78.595 1105.59,78.5804 \n",
       "  1105.59,78.5659 1105.6,78.5513 1105.6,78.5367 1105.63,78.5222 1105.64,78.5076 1105.64,78.4931 1105.66,78.4785 1105.67,78.464 1105.68,78.4494 1105.68,78.4349 \n",
       "  1105.69,78.4204 1105.69,78.4059 1105.72,78.3913 1105.75,78.3768 1105.78,78.3623 1105.79,78.3478 1105.8,78.3333 1105.81,78.3188 1105.83,78.3043 1105.83,78.2898 \n",
       "  1105.84,78.2753 1105.85,78.2608 1105.86,78.2464 1105.87,78.2319 1105.89,78.2174 1105.9,78.203 1105.91,78.1885 1105.92,78.174 1105.93,78.1596 1105.96,78.1451 \n",
       "  1105.98,78.1307 1106.01,78.1162 1106.02,78.1018 1106.02,78.0874 1106.04,78.0729 1106.07,78.0585 1106.08,78.0441 1106.08,78.0297 1106.1,78.0153 1106.1,78.0009 \n",
       "  1106.12,77.9864 1106.13,77.972 1106.13,77.9576 1106.13,77.9433 1106.15,77.9289 1106.15,77.9145 1106.15,77.9001 1106.16,77.8857 1106.16,77.8714 1106.16,77.857 \n",
       "  1106.2,77.8426 1106.21,77.8283 1106.21,77.8139 1106.23,77.7996 1106.26,77.7852 1106.26,77.7709 1106.26,77.7565 1106.27,77.7422 1106.27,77.7279 1106.28,77.7135 \n",
       "  1106.28,77.6992 1106.33,77.6849 1106.33,77.6706 1106.35,77.6563 1106.35,77.642 1106.35,77.6276 1106.35,77.6133 1106.36,77.5991 1106.37,77.5848 1106.38,77.5705 \n",
       "  1106.38,77.5562 1106.39,77.5419 1106.4,77.5276 1106.41,77.5134 1106.42,77.4991 1106.43,77.4848 1106.44,77.4706 1106.46,77.4563 1106.47,77.4421 1106.47,77.4278 \n",
       "  1106.5,77.4136 1106.54,77.3993 1106.56,77.3851 1106.56,77.3709 1106.58,77.3566 1106.59,77.3424 1106.62,77.3282 1106.63,77.314 1106.66,77.2998 1106.67,77.2856 \n",
       "  1106.68,77.2714 1106.69,77.2572 1106.69,77.243 1106.69,77.2288 1106.71,77.2146 1106.72,77.2004 1106.73,77.1862 1106.74,77.1721 1106.75,77.1579 1106.75,77.1437 \n",
       "  1106.75,77.1296 1106.77,77.1154 1106.81,77.1012 1106.83,77.0871 1106.83,77.0729 1106.84,77.0588 1106.86,77.0447 1106.87,77.0305 1106.87,77.0164 1106.88,77.0023 \n",
       "  1106.89,76.9881 1106.9,76.974 1106.91,76.9599 1106.92,76.9458 1106.92,76.9317 1106.93,76.9176 1106.95,76.9035 1106.96,76.8894 1106.97,76.8753 1106.98,76.8612 \n",
       "  1106.98,76.8471 1106.99,76.833 1107,76.819 1107.02,76.8049 1107.05,76.7908 1107.06,76.7767 1107.06,76.7627 1107.06,76.7486 1107.08,76.7346 1107.09,76.7205 \n",
       "  1107.09,76.7065 1107.09,76.6924 1107.11,76.6784 1107.12,76.6644 1107.14,76.6503 1107.15,76.6363 1107.16,76.6223 1107.16,76.6083 1107.17,76.5943 1107.24,76.5802 \n",
       "  1107.28,76.5662 1107.28,76.5522 1107.32,76.5382 1107.33,76.5242 1107.33,76.5102 1107.36,76.4963 1107.38,76.4823 1107.39,76.4683 1107.39,76.4543 1107.4,76.4403 \n",
       "  1107.45,76.4264 1107.45,76.4124 1107.47,76.3985 1107.47,76.3845 1107.49,76.3705 1107.49,76.3566 1107.5,76.3426 1107.5,76.3287 1107.52,76.3148 1107.53,76.3008 \n",
       "  1107.53,76.2869 1107.53,76.273 1107.53,76.2591 1107.54,76.2451 1107.54,76.2312 1107.56,76.2173 1107.58,76.2034 1107.58,76.1895 1107.58,76.1756 1107.62,76.1617 \n",
       "  1107.63,76.1478 1107.64,76.1339 1107.64,76.12 1107.66,76.1062 1107.67,76.0923 1107.68,76.0784 1107.7,76.0645 1107.74,76.0507 1107.74,76.0368 1107.75,76.023 \n",
       "  1107.79,76.0091 1107.79,75.9953 1107.8,75.9814 1107.82,75.9676 1107.87,75.9537 1107.87,75.9399 1107.88,75.9261 1107.9,75.9122 1107.91,75.8984 1107.92,75.8846 \n",
       "  1107.94,75.8708 1107.94,75.857 1107.97,75.8431 1107.97,75.8293 1107.97,75.8155 1107.97,75.8017 1107.97,75.788 1107.99,75.7742 1107.99,75.7604 1108,75.7466 \n",
       "  1108.03,75.7328 1108.05,75.719 1108.07,75.7053 1108.1,75.6915 1108.1,75.6777 1108.1,75.664 1108.11,75.6502 1108.12,75.6365 1108.13,75.6227 1108.13,75.609 \n",
       "  1108.14,75.5952 1108.16,75.5815 1108.16,75.5678 1108.17,75.554 1108.17,75.5403 1108.18,75.5266 1108.18,75.5129 1108.19,75.4991 1108.2,75.4854 1108.23,75.4717 \n",
       "  1108.23,75.458 1108.24,75.4443 1108.25,75.4306 1108.27,75.4169 1108.29,75.4032 1108.3,75.3896 1108.32,75.3759 1108.35,75.3622 1108.35,75.3485 1108.37,75.3349 \n",
       "  1108.39,75.3212 1108.39,75.3075 1108.43,75.2939 1108.44,75.2802 1108.44,75.2666 1108.45,75.2529 1108.46,75.2393 1108.47,75.2256 1108.47,75.212 1108.48,75.1983 \n",
       "  1108.55,75.1847 1108.56,75.1711 1108.56,75.1575 1108.58,75.1438 1108.59,75.1302 1108.61,75.1166 1108.64,75.103 1108.64,75.0894 1108.64,75.0758 1108.65,75.0622 \n",
       "  1108.67,75.0486 1108.69,75.035 1108.69,75.0214 1108.71,75.0078 1108.71,74.9943 1108.72,74.9807 1108.73,74.9671 1108.75,74.9536 1108.76,74.94 1108.77,74.9264 \n",
       "  1108.77,74.9129 1108.77,74.8993 1108.78,74.8858 1108.8,74.8722 1108.82,74.8587 1108.83,74.8451 1108.84,74.8316 1108.85,74.8181 1108.88,74.8045 1108.89,74.791 \n",
       "  1108.89,74.7775 1108.9,74.764 1108.91,74.7505 1108.92,74.7369 1108.95,74.7234 1108.95,74.7099 1108.97,74.6964 1108.97,74.6829 1108.97,74.6694 1108.98,74.656 \n",
       "  1108.99,74.6425 1108.99,74.629 1109.02,74.6155 1109.02,74.602 1109.05,74.5886 1109.06,74.5751 1109.06,74.5616 1109.08,74.5482 1109.1,74.5347 1109.11,74.5213 \n",
       "  1109.12,74.5078 1109.13,74.4944 1109.14,74.4809 1109.16,74.4675 1109.19,74.4541 1109.19,74.4406 1109.23,74.4272 1109.23,74.4138 1109.25,74.4003 1109.26,74.3869 \n",
       "  1109.27,74.3735 1109.28,74.3601 1109.3,74.3467 1109.33,74.3333 1109.35,74.3199 1109.36,74.3065 1109.36,74.2931 1109.37,74.2797 1109.38,74.2663 1109.39,74.2529 \n",
       "  1109.39,74.2396 1109.39,74.2262 1109.44,74.2128 1109.46,74.1994 1109.49,74.1861 1109.51,74.1727 1109.51,74.1594 1109.53,74.146 1109.54,74.1327 1109.55,74.1193 \n",
       "  1109.56,74.106 1109.56,74.0926 1109.56,74.0793 1109.57,74.066 1109.59,74.0526 1109.6,74.0393 1109.62,74.026 1109.65,74.0127 1109.65,73.9993 1109.68,73.986 \n",
       "  1109.68,73.9727 1109.69,73.9594 1109.69,73.9461 1109.7,73.9328 1109.73,73.9195 1109.73,73.9062 1109.74,73.8929 1109.75,73.8797 1109.76,73.8664 1109.76,73.8531 \n",
       "  1109.78,73.8398 1109.84,73.8266 1109.87,73.8133 1109.89,73.8 1109.9,73.7868 1109.9,73.7735 1109.91,73.7603 1109.93,73.747 1109.94,73.7338 1109.97,73.7205 \n",
       "  1109.97,73.7073 1109.99,73.694 1110,73.6808 1110.02,73.6676 1110.03,73.6544 1110.03,73.6411 1110.04,73.6279 1110.07,73.6147 1110.08,73.6015 1110.1,73.5883 \n",
       "  1110.1,73.5751 1110.14,73.5619 1110.14,73.5487 1110.14,73.5355 1110.15,73.5223 1110.16,73.5091 1110.18,73.4959 1110.18,73.4827 1110.18,73.4696 1110.22,73.4564 \n",
       "  1110.23,73.4432 1110.24,73.4301 1110.24,73.4169 1110.24,73.4037 1110.26,73.3906 1110.27,73.3774 1110.29,73.3643 1110.32,73.3511 1110.33,73.338 1110.33,73.3248 \n",
       "  1110.33,73.3117 1110.34,73.2986 1110.39,73.2854 1110.41,73.2723 1110.44,73.2592 1110.44,73.2461 1110.49,73.233 1110.51,73.2199 1110.52,73.2067 1110.53,73.1936 \n",
       "  1110.53,73.1805 1110.54,73.1674 1110.54,73.1543 1110.58,73.1412 1110.63,73.1282 1110.64,73.1151 1110.65,73.102 1110.66,73.0889 1110.67,73.0758 1110.68,73.0628 \n",
       "  1110.68,73.0497 1110.69,73.0366 1110.7,73.0236 1110.71,73.0105 1110.74,72.9975 1110.75,72.9844 1110.76,72.9714 1110.76,72.9583 1110.76,72.9453 1110.76,72.9322 \n",
       "  1110.77,72.9192 1110.77,72.9062 1110.77,72.8931 1110.78,72.8801 1110.78,72.8671 1110.79,72.8541 1110.8,72.8411 1110.8,72.828 1110.8,72.815 1110.82,72.802 \n",
       "  1110.82,72.789 1110.82,72.776 1110.83,72.763 1110.84,72.75 1110.84,72.7371 1110.85,72.7241 1110.85,72.7111 1110.85,72.6981 1110.86,72.6851 1110.86,72.6722 \n",
       "  1110.86,72.6592 1110.87,72.6462 1110.87,72.6333 1110.9,72.6203 1110.9,72.6074 1110.9,72.5944 1110.92,72.5815 1110.98,72.5685 1111,72.5556 1111.01,72.5426 \n",
       "  1111.01,72.5297 1111.03,72.5168 1111.03,72.5038 1111.03,72.4909 1111.04,72.478 1111.06,72.4651 1111.07,72.4522 1111.08,72.4392 1111.09,72.4263 1111.09,72.4134 \n",
       "  1111.1,72.4005 1111.11,72.3876 1111.12,72.3747 1111.13,72.3618 1111.15,72.3489 1111.19,72.3361 1111.19,72.3232 1111.2,72.3103 1111.21,72.2974 1111.21,72.2846 \n",
       "  1111.23,72.2717 1111.23,72.2588 1111.24,72.246 1111.26,72.2331 1111.28,72.2202 1111.29,72.2074 1111.29,72.1945 1111.3,72.1817 1111.31,72.1688 1111.31,72.156 \n",
       "  1111.33,72.1432 1111.35,72.1303 1111.36,72.1175 1111.36,72.1047 1111.37,72.0919 1111.39,72.079 1111.39,72.0662 1111.39,72.0534 1111.41,72.0406 1111.43,72.0278 \n",
       "  1111.45,72.015 1111.45,72.0022 1111.46,71.9894 1111.47,71.9766 1111.48,71.9638 1111.52,71.951 1111.52,71.9382 1111.53,71.9254 1111.54,71.9127 1111.57,71.8999 \n",
       "  1111.57,71.8871 1111.58,71.8743 1111.58,71.8616 1111.58,71.8488 1111.58,71.8361 1111.58,71.8233 1111.63,71.8105 1111.63,71.7978 1111.64,71.785 1111.66,71.7723 \n",
       "  1111.68,71.7596 1111.69,71.7468 1111.7,71.7341 1111.7,71.7214 1111.71,71.7086 1111.74,71.6959 1111.75,71.6832 1111.8,71.6705 1111.8,71.6578 1111.81,71.645 \n",
       "  1111.83,71.6323 1111.86,71.6196 1111.86,71.6069 1111.87,71.5942 1111.87,71.5815 1111.88,71.5688 1111.91,71.5562 1111.93,71.5435 1111.94,71.5308 1111.95,71.5181 \n",
       "  1111.96,71.5054 1111.97,71.4928 1111.97,71.4801 1111.97,71.4674 1111.98,71.4548 1111.98,71.4421 1112,71.4294 1112.01,71.4168 1112.02,71.4041 1112.04,71.3915 \n",
       "  1112.05,71.3788 1112.07,71.3662 1112.11,71.3536 1112.11,71.3409 1112.14,71.3283 1112.18,71.3157 1112.19,71.303 1112.19,71.2904 1112.2,71.2778 1112.22,71.2652 \n",
       "  1112.24,71.2526 1112.26,71.2399 1112.29,71.2273 1112.31,71.2147 1112.31,71.2021 1112.31,71.1895 1112.33,71.1769 1112.33,71.1644 1112.38,71.1518 1112.39,71.1392 \n",
       "  1112.41,71.1266 1112.42,71.114 1112.42,71.1014 1112.42,71.0889 1112.49,71.0763 1112.49,71.0637 1112.49,71.0512 1112.53,71.0386 1112.55,71.0261 1112.56,71.0135 \n",
       "  1112.56,71.0009 1112.56,70.9884 1112.57,70.9759 1112.57,70.9633 1112.57,70.9508 1112.58,70.9382 1112.59,70.9257 1112.61,70.9132 1112.61,70.9006 1112.62,70.8881 \n",
       "  1112.64,70.8756 1112.64,70.8631 1112.66,70.8506 1112.67,70.8381 1112.71,70.8256 1112.72,70.8131 1112.75,70.8006 1112.75,70.7881 1112.76,70.7756 1112.77,70.7631 \n",
       "  1112.78,70.7506 1112.79,70.7381 1112.8,70.7256 1112.82,70.7131 1112.82,70.7006 1112.82,70.6882 1112.82,70.6757 1112.84,70.6632 1112.85,70.6508 1112.85,70.6383 \n",
       "  1112.85,70.6259 1112.86,70.6134 1112.88,70.6009 1112.88,70.5885 1112.89,70.576 1112.92,70.5636 1112.92,70.5512 1112.96,70.5387 1112.97,70.5263 1112.99,70.5139 \n",
       "  1113,70.5014 1113.01,70.489 1113.02,70.4766 1113.02,70.4642 1113.02,70.4518 1113.04,70.4393 1113.05,70.4269 1113.07,70.4145 1113.08,70.4021 1113.09,70.3897 \n",
       "  1113.11,70.3773 1113.12,70.3649 1113.13,70.3525 1113.13,70.3401 1113.13,70.3278 1113.14,70.3154 1113.16,70.303 1113.16,70.2906 1113.16,70.2782 1113.16,70.2659 \n",
       "  1113.18,70.2535 1113.21,70.2411 1113.27,70.2288 1113.27,70.2164 1113.27,70.2041 1113.27,70.1917 1113.28,70.1794 1113.29,70.167 1113.33,70.1547 1113.34,70.1423 \n",
       "  1113.36,70.13 1113.36,70.1177 1113.37,70.1053 1113.37,70.093 1113.37,70.0807 1113.38,70.0684 1113.4,70.056 1113.4,70.0437 1113.4,70.0314 1113.41,70.0191 \n",
       "  1113.41,70.0068 1113.42,69.9945 1113.45,69.9822 1113.48,69.9699 1113.5,69.9576 1113.5,69.9453 1113.55,69.933 1113.58,69.9207 1113.6,69.9084 1113.6,69.8962 \n",
       "  1113.63,69.8839 1113.64,69.8716 1113.64,69.8593 1113.66,69.8471 1113.66,69.8348 1113.66,69.8225 1113.67,69.8103 1113.69,69.798 1113.7,69.7858 1113.71,69.7735 \n",
       "  1113.74,69.7613 1113.74,69.749 1113.75,69.7368 1113.76,69.7245 1113.77,69.7123 1113.77,69.7001 1113.77,69.6878 1113.78,69.6756 1113.78,69.6634 1113.8,69.6512 \n",
       "  1113.83,69.639 1113.85,69.6267 1113.85,69.6145 1113.86,69.6023 1113.87,69.5901 1113.88,69.5779 1113.89,69.5657 1113.89,69.5535 1113.9,69.5413 1113.91,69.5291 \n",
       "  1113.92,69.5169 1113.94,69.5047 1113.96,69.4926 1113.96,69.4804 1113.97,69.4682 1114,69.456 1114.02,69.4439 1114.02,69.4317 1114.03,69.4195 1114.08,69.4074 \n",
       "  1114.08,69.3952 1114.1,69.383 1114.1,69.3709 1114.1,69.3587 1114.13,69.3466 1114.13,69.3344 1114.15,69.3223 1114.16,69.3102 1114.16,69.298 1114.18,69.2859 \n",
       "  1114.19,69.2738 1114.2,69.2616 1114.22,69.2495 1114.24,69.2374 1114.25,69.2253 1114.26,69.2132 1114.26,69.201 1114.28,69.1889 1114.34,69.1768 1114.36,69.1647 \n",
       "  1114.36,69.1526 1114.39,69.1405 1114.39,69.1284 1114.4,69.1163 1114.44,69.1042 1114.44,69.0922 1114.46,69.0801 1114.46,69.068 1114.47,69.0559 1114.5,69.0438 \n",
       "  1114.51,69.0318 1114.51,69.0197 1114.53,69.0076 1114.58,68.9956 1114.58,68.9835 1114.58,68.9714 1114.59,68.9594 1114.64,68.9473 1114.65,68.9353 1114.68,68.9232 \n",
       "  1114.7,68.9112 1114.7,68.8991 1114.71,68.8871 1114.71,68.8751 1114.71,68.863 1114.71,68.851 1114.72,68.839 1114.72,68.827 1114.73,68.8149 1114.8,68.8029 \n",
       "  1114.8,68.7909 1114.81,68.7789 1114.82,68.7669 1114.83,68.7549 1114.84,68.7429 1114.89,68.7309 1114.89,68.7189 1114.9,68.7069 1114.91,68.6949 1114.92,68.6829 \n",
       "  1114.95,68.6709 1114.96,68.6589 1114.96,68.6469 1114.97,68.635 1114.97,68.623 1114.98,68.611 1114.99,68.599 1115.01,68.5871 1115.05,68.5751 1115.05,68.5631 \n",
       "  1115.05,68.5512 1115.07,68.5392 1115.1,68.5273 1115.1,68.5153 1115.1,68.5034 1115.11,68.4914 1115.14,68.4795 1115.14,68.4675 1115.15,68.4556 1115.17,68.4437 \n",
       "  1115.19,68.4317 1115.22,68.4198 1115.24,68.4079 1115.28,68.396 1115.29,68.3841 1115.29,68.3721 1115.3,68.3602 1115.32,68.3483 1115.33,68.3364 1115.33,68.3245 \n",
       "  1115.35,68.3126 1115.36,68.3007 1115.37,68.2888 1115.37,68.2769 1115.4,68.265 1115.42,68.2531 1115.42,68.2412 1115.43,68.2293 1115.46,68.2175 1115.48,68.2056 \n",
       "  1115.49,68.1937 1115.49,68.1818 1115.5,68.17 1115.51,68.1581 1115.53,68.1462 1115.53,68.1344 1115.53,68.1225 1115.53,68.1107 1115.53,68.0988 1115.54,68.087 \n",
       "  1115.55,68.0751 1115.58,68.0633 1115.59,68.0514 1115.61,68.0396 1115.61,68.0278 1115.64,68.0159 1115.64,68.0041 1115.66,67.9923 1115.67,67.9804 1115.67,67.9686 \n",
       "  1115.69,67.9568 1115.69,67.945 1115.7,67.9332 1115.72,67.9214 1115.73,67.9095 1115.74,67.8977 1115.77,67.8859 1115.77,67.8741 1115.8,67.8623 1115.8,67.8505 \n",
       "  1115.81,67.8387 1115.81,67.827 1115.82,67.8152 1115.82,67.8034 1115.84,67.7916 1115.84,67.7798 1115.87,67.7681 1115.88,67.7563 1115.89,67.7445 1115.91,67.7327 \n",
       "  1115.92,67.721 1115.93,67.7092 1115.93,67.6975 1115.95,67.6857 1115.95,67.6739 1115.95,67.6622 1115.96,67.6504 1115.97,67.6387 1115.97,67.627 1115.98,67.6152 \n",
       "  1116.01,67.6035 1116.03,67.5917 1116.04,67.58 1116.04,67.5683 1116.04,67.5566 1116.08,67.5448 1116.08,67.5331 1116.12,67.5214 1116.15,67.5097 1116.15,67.498 \n",
       "  1116.16,67.4863 1116.16,67.4745 1116.16,67.4628 1116.17,67.4511 1116.17,67.4394 1116.18,67.4277 1116.19,67.416 1116.19,67.4044 1116.2,67.3927 1116.22,67.381 \n",
       "  1116.23,67.3693 1116.24,67.3576 1116.28,67.3459 1116.28,67.3343 1116.3,67.3226 1116.3,67.3109 1116.3,67.2993 1116.34,67.2876 1116.34,67.2759 1116.35,67.2643 \n",
       "  1116.36,67.2526 1116.36,67.241 1116.37,67.2293 1116.37,67.2177 1116.38,67.206 1116.41,67.1944 1116.41,67.1827 1116.42,67.1711 1116.42,67.1594 1116.42,67.1478 \n",
       "  1116.42,67.1362 1116.43,67.1246 1116.44,67.1129 1116.45,67.1013 1116.45,67.0897 1116.47,67.0781 1116.48,67.0665 1116.48,67.0549 1116.48,67.0432 1116.5,67.0316 \n",
       "  1116.51,67.02 1116.51,67.0084 1116.51,66.9968 1116.52,66.9852 1116.56,66.9736 1116.57,66.9621 1116.58,66.9505 1116.59,66.9389 1116.61,66.9273 1116.61,66.9157 \n",
       "  1116.62,66.9041 1116.63,66.8926 1116.63,66.881 1116.64,66.8694 1116.65,66.8579 1116.66,66.8463 1116.67,66.8347 1116.68,66.8232 1116.68,66.8116 1116.68,66.8001 \n",
       "  1116.68,66.7885 1116.7,66.777 1116.71,66.7654 1116.71,66.7539 1116.71,66.7423 1116.73,66.7308 1116.74,66.7193 1116.75,66.7077 1116.77,66.6962 1116.78,66.6847 \n",
       "  1116.78,66.6732 1116.79,66.6616 1116.79,66.6501 1116.79,66.6386 1116.8,66.6271 1116.82,66.6156 1116.84,66.6041 1116.85,66.5926 1116.87,66.5811 1116.87,66.5696 \n",
       "  1116.87,66.5581 1116.87,66.5466 1116.87,66.5351 1116.9,66.5236 1116.91,66.5121 1116.91,66.5006 1116.93,66.4891 1116.95,66.4776 1116.98,66.4662 1116.98,66.4547 \n",
       "  1116.98,66.4432 1116.99,66.4318 1116.99,66.4203 1116.99,66.4088 1117,66.3974 1117,66.3859 1117.01,66.3744 1117.02,66.363 1117.02,66.3515 1117.04,66.3401 \n",
       "  1117.04,66.3286 1117.07,66.3172 1117.07,66.3058 1117.08,66.2943 1117.09,66.2829 1117.11,66.2715 1117.11,66.26 1117.11,66.2486 1117.14,66.2372 1117.14,66.2257 \n",
       "  1117.15,66.2143 1117.16,66.2029 1117.16,66.1915 1117.17,66.1801 1117.19,66.1687 1117.19,66.1573 1117.19,66.1459 1117.2,66.1345 1117.21,66.1231 1117.21,66.1117 \n",
       "  1117.23,66.1003 1117.25,66.0889 1117.26,66.0775 1117.26,66.0661 1117.26,66.0547 1117.29,66.0433 1117.31,66.0319 1117.32,66.0206 1117.34,66.0092 1117.35,65.9978 \n",
       "  1117.35,65.9865 1117.35,65.9751 1117.37,65.9637 1117.38,65.9524 1117.4,65.941 1117.41,65.9296 1117.45,65.9183 1117.47,65.9069 1117.47,65.8956 1117.47,65.8842 \n",
       "  1117.48,65.8729 1117.48,65.8616 1117.49,65.8502 1117.49,65.8389 1117.5,65.8276 1117.52,65.8162 1117.52,65.8049 1117.52,65.7936 1117.53,65.7822 1117.56,65.7709 \n",
       "  1117.59,65.7596 1117.59,65.7483 1117.62,65.737 1117.65,65.7257 1117.66,65.7144 1117.67,65.703 1117.68,65.6917 1117.68,65.6804 1117.69,65.6691 1117.7,65.6579 \n",
       "  1117.72,65.6466 1117.72,65.6353 1117.78,65.624 1117.79,65.6127 1117.8,65.6014 1117.8,65.5901 1117.8,65.5789 1117.81,65.5676 1117.81,65.5563 1117.82,65.545 \n",
       "  1117.82,65.5338 1117.86,65.5225 1117.87,65.5112 1117.88,65.5 1117.89,65.4887 1117.94,65.4775 1117.94,65.4662 1117.96,65.455 1117.96,65.4437 1117.97,65.4325 \n",
       "  1117.99,65.4212 1118.01,65.41 1118.02,65.3987 1118.04,65.3875 1118.07,65.3763 1118.1,65.365 1118.12,65.3538 1118.12,65.3426 1118.13,65.3314 1118.13,65.3201 \n",
       "  1118.14,65.3089 1118.17,65.2977 1118.19,65.2865 1118.2,65.2753 1118.2,65.2641 1118.23,65.2529 1118.24,65.2417 1118.26,65.2305 1118.27,65.2193 1118.29,65.2081 \n",
       "  1118.31,65.1969 1118.31,65.1857 1118.31,65.1745 1118.31,65.1633 1118.32,65.1521 1118.33,65.1409 1118.35,65.1298 1118.36,65.1186 1118.4,65.1074 1118.41,65.0962 \n",
       "  1118.41,65.0851 1118.43,65.0739 1118.46,65.0627 1118.46,65.0516 1118.49,65.0404 1118.53,65.0293 1118.55,65.0181 1118.56,65.007 1118.59,64.9958 1118.6,64.9847 \n",
       "  1118.6,64.9735 1118.62,64.9624 1118.64,64.9512 1118.68,64.9401 1118.69,64.929 1118.7,64.9178 1118.7,64.9067 1118.71,64.8956 1118.73,64.8845 1118.73,64.8733 \n",
       "  1118.75,64.8622 1118.75,64.8511 1118.77,64.84 1118.77,64.8289 1118.78,64.8178 1118.78,64.8067 1118.79,64.7955 1118.82,64.7844 1118.83,64.7733 1118.83,64.7622 \n",
       "  1118.85,64.7511 1118.88,64.7401 1118.88,64.729 1118.89,64.7179 1118.91,64.7068 1118.92,64.6957 1118.94,64.6846 1118.95,64.6735 1118.95,64.6625 1118.99,64.6514 \n",
       "  1119,64.6403 1119,64.6293 1119.01,64.6182 1119.01,64.6071 1119.02,64.5961 1119.03,64.585 1119.05,64.5739 1119.05,64.5629 1119.06,64.5518 1119.06,64.5408 \n",
       "  1119.07,64.5297 1119.07,64.5187 1119.07,64.5077 1119.08,64.4966 1119.08,64.4856 1119.09,64.4745 1119.12,64.4635 1119.13,64.4525 1119.14,64.4415 1119.16,64.4304 \n",
       "  1119.16,64.4194 1119.16,64.4084 1119.18,64.3974 1119.18,64.3863 1119.19,64.3753 1119.21,64.3643 1119.21,64.3533 1119.22,64.3423 1119.22,64.3313 1119.23,64.3203 \n",
       "  1119.23,64.3093 1119.23,64.2983 1119.23,64.2873 1119.23,64.2763 1119.23,64.2653 1119.24,64.2543 1119.24,64.2434 1119.24,64.2324 1119.25,64.2214 1119.25,64.2104 \n",
       "  1119.26,64.1994 1119.27,64.1885 1119.29,64.1775 1119.31,64.1665 1119.33,64.1556 1119.33,64.1446 1119.33,64.1336 1119.35,64.1227 1119.36,64.1117 1119.38,64.1008 \n",
       "  1119.39,64.0898 1119.4,64.0789 1119.4,64.0679 1119.4,64.057 1119.41,64.046 1119.41,64.0351 1119.42,64.0242 1119.43,64.0132 1119.43,64.0023 1119.43,63.9914 \n",
       "  1119.43,63.9804 1119.44,63.9695 1119.45,63.9586 1119.46,63.9477 1119.48,63.9367 1119.49,63.9258 1119.49,63.9149 1119.5,63.904 1119.51,63.8931 1119.52,63.8822 \n",
       "  1119.54,63.8713 1119.57,63.8604 1119.57,63.8495 1119.59,63.8386 1119.59,63.8277 1119.6,63.8168 1119.6,63.8059 1119.65,63.795 1119.66,63.7841 1119.66,63.7732 \n",
       "  1119.69,63.7624 1119.69,63.7515 1119.69,63.7406 1119.7,63.7297 1119.71,63.7189 1119.71,63.708 1119.72,63.6971 1119.76,63.6863 1119.76,63.6754 1119.76,63.6645 \n",
       "  1119.77,63.6537 1119.79,63.6428 1119.82,63.632 1119.84,63.6211 1119.85,63.6103 1119.86,63.5994 1119.86,63.5886 1119.88,63.5777 1119.89,63.5669 1119.89,63.5561 \n",
       "  1119.9,63.5452 1119.96,63.5344 1119.96,63.5236 1119.98,63.5127 1119.98,63.5019 1119.99,63.4911 1119.99,63.4803 1120.01,63.4694 1120.01,63.4586 1120.03,63.4478 \n",
       "  1120.04,63.437 1120.04,63.4262 1120.04,63.4154 1120.05,63.4046 1120.07,63.3938 1120.07,63.383 1120.07,63.3722 1120.08,63.3614 1120.08,63.3506 1120.09,63.3398 \n",
       "  1120.09,63.329 1120.1,63.3182 1120.1,63.3074 1120.12,63.2967 1120.13,63.2859 1120.15,63.2751 1120.15,63.2643 1120.15,63.2535 1120.15,63.2428 1120.16,63.232 \n",
       "  1120.17,63.2212 1120.17,63.2105 1120.18,63.1997 1120.18,63.189 1120.19,63.1782 1120.2,63.1674 1120.2,63.1567 1120.2,63.1459 1120.23,63.1352 1120.23,63.1245 \n",
       "  1120.24,63.1137 1120.24,63.103 1120.24,63.0922 1120.26,63.0815 1120.26,63.0708 1120.26,63.06 1120.31,63.0493 1120.33,63.0386 1120.34,63.0278 1120.35,63.0171 \n",
       "  1120.37,63.0064 1120.37,62.9957 1120.38,62.985 1120.39,62.9743 1120.39,62.9635 1120.4,62.9528 1120.41,62.9421 1120.44,62.9314 1120.46,62.9207 1120.47,62.91 \n",
       "  1120.48,62.8993 1120.48,62.8886 1120.5,62.8779 1120.5,62.8672 1120.5,62.8566 1120.51,62.8459 1120.55,62.8352 1120.56,62.8245 1120.57,62.8138 1120.58,62.8031 \n",
       "  1120.59,62.7925 1120.59,62.7818 1120.59,62.7711 1120.62,62.7605 1120.63,62.7498 1120.63,62.7391 1120.64,62.7285 1120.66,62.7178 1120.67,62.7072 1120.67,62.6965 \n",
       "  1120.67,62.6858 1120.68,62.6752 1120.69,62.6645 1120.7,62.6539 1120.71,62.6433 1120.71,62.6326 1120.71,62.622 1120.73,62.6113 1120.74,62.6007 1120.76,62.5901 \n",
       "  1120.77,62.5794 1120.77,62.5688 1120.77,62.5582 1120.77,62.5476 1120.78,62.5369 1120.78,62.5263 1120.8,62.5157 1120.82,62.5051 1120.83,62.4945 1120.84,62.4839 \n",
       "  1120.85,62.4733 1120.87,62.4627 1120.87,62.452 1120.88,62.4414 1120.9,62.4308 1120.93,62.4202 1120.93,62.4097 1120.95,62.3991 1120.95,62.3885 1120.95,62.3779 \n",
       "  1120.95,62.3673 1120.95,62.3567 1120.98,62.3461 1120.98,62.3356 1121.02,62.325 1121.03,62.3144 1121.04,62.3038 1121.04,62.2933 1121.06,62.2827 1121.07,62.2721 \n",
       "  1121.08,62.2616 1121.09,62.251 1121.1,62.2404 1121.11,62.2299 1121.13,62.2193 1121.14,62.2088 1121.17,62.1982 1121.17,62.1877 1121.18,62.1771 1121.2,62.1666 \n",
       "  1121.2,62.156 1121.21,62.1455 1121.21,62.135 1121.22,62.1244 1121.23,62.1139 1121.23,62.1034 1121.24,62.0928 1121.24,62.0823 1121.25,62.0718 1121.3,62.0613 \n",
       "  1121.33,62.0507 1121.34,62.0402 1121.35,62.0297 1121.36,62.0192 1121.36,62.0087 1121.37,61.9982 1121.37,61.9877 1121.37,61.9772 1121.4,61.9667 1121.4,61.9562 \n",
       "  1121.41,61.9457 1121.41,61.9352 1121.42,61.9247 1121.43,61.9142 1121.44,61.9037 1121.44,61.8932 1121.45,61.8827 1121.46,61.8722 1121.46,61.8617 1121.47,61.8513 \n",
       "  1121.47,61.8408 1121.47,61.8303 1121.49,61.8198 1121.49,61.8094 1121.5,61.7989 1121.5,61.7884 1121.5,61.778 1121.51,61.7675 1121.51,61.7571 1121.52,61.7466 \n",
       "  1121.52,61.7361 1121.52,61.7257 1121.53,61.7152 1121.54,61.7048 1121.55,61.6943 1121.55,61.6839 1121.58,61.6735 1121.6,61.663 1121.62,61.6526 1121.64,61.6421 \n",
       "  1121.64,61.6317 1121.64,61.6213 1121.65,61.6109 1121.66,61.6004 1121.7,61.59 1121.7,61.5796 1121.7,61.5692 1121.72,61.5587 1121.73,61.5483 1121.74,61.5379 \n",
       "  1121.74,61.5275 1121.78,61.5171 1121.79,61.5067 1121.81,61.4963 1121.81,61.4859 1121.82,61.4755 1121.82,61.4651 1121.84,61.4547 1121.85,61.4443 1121.86,61.4339 \n",
       "  1121.89,61.4235 1121.9,61.4131 1121.94,61.4027 1121.96,61.3923 1121.97,61.3819 1121.97,61.3716 1121.97,61.3612 1121.99,61.3508 1122.01,61.3404 1122.03,61.3301 \n",
       "  1122.03,61.3197 1122.04,61.3093 1122.04,61.299 1122.04,61.2886 1122.05,61.2782 1122.05,61.2679 1122.05,61.2575 1122.05,61.2472 1122.07,61.2368 1122.07,61.2265 \n",
       "  1122.09,61.2161 1122.1,61.2058 1122.11,61.1954 1122.11,61.1851 1122.14,61.1747 1122.15,61.1644 1122.15,61.1541 1122.16,61.1437 1122.17,61.1334 1122.19,61.1231 \n",
       "  1122.21,61.1128 1122.21,61.1024 1122.23,61.0921 1122.24,61.0818 1122.25,61.0715 1122.26,61.0611 1122.27,61.0508 1122.28,61.0405 1122.28,61.0302 1122.29,61.0199 \n",
       "  1122.3,61.0096 1122.31,60.9993 1122.31,60.989 1122.31,60.9787 1122.31,60.9684 1122.34,60.9581 1122.36,60.9478 1122.36,60.9375 1122.37,60.9272 1122.38,60.9169 \n",
       "  1122.38,60.9066 1122.4,60.8964 1122.4,60.8861 1122.42,60.8758 1122.42,60.8655 1122.43,60.8552 1122.45,60.845 1122.46,60.8347 1122.46,60.8244 1122.47,60.8142 \n",
       "  1122.48,60.8039 1122.51,60.7936 1122.52,60.7834 1122.53,60.7731 1122.53,60.7629 1122.53,60.7526 1122.54,60.7424 1122.56,60.7321 1122.57,60.7219 1122.59,60.7116 \n",
       "  1122.59,60.7014 1122.61,60.6911 1122.61,60.6809 1122.61,60.6707 1122.63,60.6604 1122.64,60.6502 1122.64,60.64 1122.64,60.6297 1122.65,60.6195 1122.66,60.6093 \n",
       "  1122.66,60.599 1122.69,60.5888 1122.7,60.5786 1122.7,60.5684 1122.71,60.5582 1122.72,60.548 1122.72,60.5377 1122.73,60.5275 1122.73,60.5173 1122.73,60.5071 \n",
       "  1122.74,60.4969 1122.74,60.4867 1122.75,60.4765 1122.76,60.4663 1122.77,60.4561 1122.78,60.4459 1122.81,60.4358 1122.81,60.4256 1122.82,60.4154 1122.84,60.4052 \n",
       "  1122.84,60.395 1122.85,60.3848 1122.86,60.3747 1122.86,60.3645 1122.87,60.3543 1122.87,60.3441 1122.88,60.334 1122.89,60.3238 1122.89,60.3136 1122.89,60.3035 \n",
       "  1122.9,60.2933 1122.91,60.2831 1122.91,60.273 1122.94,60.2628 1122.94,60.2527 1122.94,60.2425 1122.95,60.2324 1122.96,60.2222 1122.96,60.2121 1122.97,60.2019 \n",
       "  \n",
       "  \"/>\n",
       "<polyline clip-path=\"url(#clip262)\" style=\"stroke:#e26f46; stroke-linecap:butt; stroke-linejoin:round; stroke-width:4; stroke-opacity:1; fill:none\" points=\"\n",
       "  129.967,269.27 229.394,252.05 423.431,218.445 598.229,188.172 603.047,187.338 681.251,173.794 729.096,165.508 743.33,163.043 749.642,161.95 766.711,158.993 \n",
       "  769.209,158.561 785.489,155.741 788.75,155.176 794.967,154.1 795.776,153.96 797.073,153.735 797.099,153.731 800.303,153.176 806.111,152.17 808.472,151.761 \n",
       "  809.263,151.624 810.512,151.408 813.24,150.935 813.7,150.855 816.72,150.332 822.552,149.322 827.267,148.506 827.569,148.453 830.408,147.962 831.127,147.837 \n",
       "  831.928,147.699 837.092,146.804 839.2,146.439 841.182,146.096 842.6,145.85 843.587,145.679 844.505,145.52 847.012,145.086 848.227,144.876 850.481,144.485 \n",
       "  852.063,144.211 852.088,144.207 852.619,144.115 853.042,144.042 853.456,143.97 855.476,143.62 857.113,143.337 857.333,143.299 858.134,143.16 859.418,142.938 \n",
       "  862.655,142.377 862.895,142.335 863.286,142.268 867.656,141.511 868.671,141.335 870.572,141.006 870.939,140.942 873.149,140.56 873.768,140.452 873.956,140.42 \n",
       "  874.003,140.412 874.704,140.29 876.042,140.059 877.248,139.85 877.353,139.832 877.596,139.789 877.926,139.732 877.958,139.727 878.417,139.647 882.002,139.026 \n",
       "  882.589,138.925 883.269,138.807 884.497,138.594 884.609,138.575 885.756,138.376 889,137.814 889.889,137.66 890.181,137.61 890.655,137.528 892.009,137.293 \n",
       "  892.357,137.233 892.567,137.197 892.848,137.148 893.188,137.089 893.901,136.966 894.25,136.905 895.269,136.729 896.439,136.526 896.86,136.453 898.635,136.146 \n",
       "  899.046,136.075 899.541,135.989 901.329,135.679 901.462,135.656 902.344,135.503 903.974,135.221 903.999,135.217 904.353,135.155 905.177,135.013 905.673,134.927 \n",
       "  906.274,134.823 906.416,134.798 907.418,134.625 908.006,134.523 908.544,134.43 908.987,134.353 909.02,134.347 909.782,134.215 909.885,134.197 910.793,134.04 \n",
       "  910.894,134.023 912.417,133.759 912.71,133.708 912.808,133.691 914.06,133.474 915.681,133.194 916.078,133.125 917.411,132.894 917.791,132.828 918.226,132.753 \n",
       "  919.12,132.598 919.178,132.588 919.577,132.519 919.793,132.481 920.949,132.281 921.128,132.25 921.861,132.123 922.13,132.077 922.238,132.058 922.954,131.934 \n",
       "  923.917,131.767 924.504,131.666 924.967,131.585 925.022,131.576 925.185,131.548 925.335,131.521 925.546,131.485 925.622,131.472 926.505,131.319 926.562,131.309 \n",
       "  926.839,131.261 928.302,131.008 930.056,130.704 930.079,130.7 930.396,130.645 930.626,130.605 930.634,130.604 930.711,130.591 934.496,129.935 934.771,129.887 \n",
       "  935.063,129.837 935.193,129.814 935.39,129.78 935.911,129.69 936.12,129.654 936.412,129.603 936.758,129.543 936.793,129.537 937.507,129.414 938.392,129.26 \n",
       "  938.652,129.215 938.686,129.209 938.757,129.197 939.382,129.089 939.551,129.059 939.613,129.049 940.511,128.893 940.569,128.883 940.632,128.872 940.66,128.867 \n",
       "  941.018,128.805 941.464,128.728 941.57,128.71 941.963,128.642 942.172,128.606 942.606,128.53 942.668,128.52 942.691,128.516 942.852,128.488 943.081,128.448 \n",
       "  943.645,128.35 943.88,128.31 944.06,128.279 944.178,128.258 944.359,128.227 944.401,128.22 944.499,128.203 944.864,128.139 945.227,128.077 945.321,128.06 \n",
       "  945.382,128.05 945.642,128.005 945.793,127.978 946.54,127.849 946.835,127.798 946.922,127.783 946.923,127.783 947.72,127.645 947.723,127.644 948.26,127.551 \n",
       "  948.324,127.54 948.389,127.529 948.516,127.507 948.632,127.487 949.086,127.408 949.301,127.371 949.432,127.348 949.719,127.299 950.138,127.226 950.555,127.154 \n",
       "  950.943,127.087 951.016,127.074 951.479,126.994 951.925,126.916 951.978,126.907 952.26,126.859 952.795,126.766 952.976,126.734 953.18,126.699 953.873,126.579 \n",
       "  953.915,126.572 954.102,126.54 954.756,126.426 955.177,126.353 955.924,126.224 956.246,126.168 956.66,126.097 956.86,126.062 957.347,125.978 957.531,125.946 \n",
       "  957.821,125.895 958.09,125.849 958.196,125.83 958.716,125.74 959.063,125.68 959.583,125.59 959.632,125.582 959.73,125.565 959.852,125.544 959.887,125.538 \n",
       "  960.257,125.473 960.783,125.382 961.108,125.326 961.182,125.313 961.506,125.257 961.749,125.215 961.809,125.205 961.811,125.204 961.828,125.201 961.992,125.173 \n",
       "  962.168,125.143 962.643,125.06 962.712,125.048 962.789,125.035 963.139,124.974 963.161,124.971 963.23,124.959 963.257,124.954 963.829,124.855 964.132,124.802 \n",
       "  964.315,124.771 964.576,124.726 964.586,124.724 964.752,124.695 964.753,124.695 965.06,124.642 965.42,124.579 965.674,124.535 966.135,124.456 966.24,124.437 \n",
       "  966.331,124.422 966.339,124.42 966.645,124.367 966.725,124.353 966.913,124.321 967.042,124.298 967.227,124.266 967.301,124.254 967.33,124.248 967.396,124.237 \n",
       "  968.214,124.095 968.266,124.086 968.387,124.066 968.387,124.065 968.512,124.044 969.22,123.921 969.28,123.911 969.801,123.821 969.832,123.815 971.012,123.611 \n",
       "  971.105,123.595 971.211,123.576 971.494,123.527 971.606,123.508 971.671,123.497 971.672,123.497 971.875,123.461 971.973,123.444 972.228,123.4 972.527,123.349 \n",
       "  973.337,123.208 973.502,123.18 973.744,123.138 973.813,123.126 973.918,123.108 973.969,123.099 974.033,123.088 974.091,123.078 974.259,123.049 974.424,123.02 \n",
       "  974.487,123.009 974.616,122.987 974.97,122.925 975.208,122.884 975.659,122.806 975.691,122.801 975.732,122.793 975.95,122.756 976.175,122.717 976.916,122.588 \n",
       "  977.383,122.507 977.396,122.505 977.414,122.502 977.435,122.498 977.883,122.421 977.921,122.414 978.059,122.39 978.096,122.384 978.352,122.34 978.587,122.299 \n",
       "  978.598,122.297 978.885,122.247 979.29,122.177 979.723,122.102 980.617,121.947 980.629,121.945 980.686,121.935 980.742,121.926 981.38,121.815 981.568,121.783 \n",
       "  981.644,121.77 981.746,121.752 982.153,121.681 982.438,121.632 982.531,121.616 982.553,121.612 982.673,121.591 983.056,121.525 983.218,121.497 983.297,121.483 \n",
       "  983.453,121.456 983.457,121.456 983.458,121.455 983.981,121.365 984.101,121.344 984.287,121.312 984.329,121.305 984.62,121.254 984.629,121.253 984.981,121.192 \n",
       "  985.121,121.167 985.336,121.13 985.392,121.12 985.459,121.109 985.47,121.107 986.213,120.978 986.602,120.911 986.721,120.89 987.679,120.724 987.756,120.711 \n",
       "  987.79,120.705 987.918,120.683 988.184,120.637 988.206,120.633 988.275,120.621 988.408,120.598 988.498,120.583 988.531,120.577 988.587,120.567 988.614,120.562 \n",
       "  988.649,120.556 988.658,120.555 988.686,120.55 988.787,120.532 988.844,120.523 988.845,120.522 988.875,120.517 989.035,120.489 989.196,120.462 989.424,120.422 \n",
       "  989.589,120.394 989.853,120.348 989.931,120.334 990.136,120.299 990.326,120.266 990.534,120.23 990.578,120.222 990.672,120.206 990.682,120.204 990.693,120.202 \n",
       "  990.869,120.172 990.915,120.164 990.944,120.159 991.067,120.138 991.087,120.134 991.156,120.122 991.287,120.099 991.37,120.085 991.46,120.07 991.609,120.044 \n",
       "  991.722,120.024 991.737,120.022 991.797,120.011 991.981,119.979 992.21,119.94 992.36,119.914 992.411,119.905 992.529,119.884 993.154,119.776 993.23,119.763 \n",
       "  993.252,119.759 993.63,119.694 993.777,119.668 993.927,119.642 994.151,119.603 994.229,119.59 994.517,119.54 994.639,119.519 994.721,119.505 994.77,119.496 \n",
       "  994.889,119.476 994.906,119.473 994.947,119.466 994.987,119.459 995.011,119.455 995.293,119.406 995.362,119.394 995.368,119.393 995.491,119.371 995.69,119.337 \n",
       "  995.771,119.323 996.036,119.277 996.074,119.27 996.122,119.262 996.264,119.238 996.472,119.202 996.489,119.199 996.83,119.14 997.237,119.069 997.254,119.066 \n",
       "  997.294,119.059 997.469,119.029 997.783,118.974 997.882,118.957 998,118.937 998.103,118.919 998.223,118.898 998.226,118.898 998.629,118.828 998.658,118.823 \n",
       "  998.802,118.798 999.058,118.754 999.274,118.716 999.368,118.7 999.473,118.682 999.731,118.637 999.81,118.623 1000.29,118.541 1000.42,118.517 1000.6,118.487 \n",
       "  1000.64,118.48 1000.67,118.475 1000.89,118.437 1000.92,118.431 1000.97,118.423 1001.11,118.399 1001.63,118.308 1001.74,118.288 1001.81,118.277 1001.92,118.258 \n",
       "  1001.97,118.249 1002.03,118.239 1002.07,118.233 1002.11,118.225 1002.18,118.214 1002.32,118.188 1002.33,118.187 1002.53,118.152 1002.62,118.137 1002.63,118.135 \n",
       "  1002.83,118.1 1003.28,118.022 1003.3,118.019 1003.34,118.011 1003.36,118.009 1003.37,118.006 1003.45,117.992 1003.55,117.976 1003.56,117.973 1003.62,117.963 \n",
       "  1003.62,117.963 1003.77,117.938 1003.98,117.902 1003.98,117.901 1004.06,117.887 1004.24,117.856 1004.3,117.845 1004.35,117.837 1004.36,117.835 1004.45,117.819 \n",
       "  1004.91,117.74 1005.04,117.718 1005.06,117.714 1005.27,117.678 1005.4,117.656 1005.43,117.65 1005.44,117.648 1005.67,117.609 1005.75,117.594 1005.92,117.565 \n",
       "  1005.94,117.561 1006.03,117.547 1006.42,117.478 1006.63,117.443 1006.63,117.443 1006.64,117.44 1006.67,117.436 1006.71,117.429 1006.75,117.421 1006.77,117.418 \n",
       "  1006.82,117.41 1006.83,117.407 1006.84,117.406 1007.02,117.374 1007.15,117.352 1007.36,117.317 1007.37,117.314 1007.43,117.304 1007.43,117.304 1007.44,117.303 \n",
       "  1007.51,117.289 1007.6,117.274 1007.77,117.244 1007.98,117.208 1008.06,117.194 1008.16,117.177 1008.22,117.167 1008.3,117.153 1008.32,117.15 1008.57,117.107 \n",
       "  1008.6,117.102 1008.74,117.077 1008.77,117.072 1008.78,117.07 1008.79,117.069 1008.82,117.062 1008.86,117.056 1008.89,117.051 1008.9,117.049 1008.95,117.041 \n",
       "  1008.99,117.033 1009.11,117.013 1009.33,116.975 1009.48,116.949 1009.51,116.943 1009.75,116.902 1009.78,116.896 1009.92,116.873 1009.96,116.866 1010.49,116.774 \n",
       "  1010.61,116.753 1010.83,116.714 1011.08,116.671 1011.12,116.665 1011.3,116.634 1011.33,116.629 1011.72,116.56 1011.91,116.528 1011.97,116.517 1012.02,116.509 \n",
       "  1012.19,116.48 1012.25,116.468 1012.33,116.455 1012.35,116.452 1012.44,116.437 1012.46,116.433 1012.53,116.421 1012.58,116.411 1012.61,116.407 1012.65,116.399 \n",
       "  1012.72,116.388 1012.92,116.353 1012.94,116.35 1012.97,116.344 1013.03,116.333 1013.05,116.33 1013.15,116.313 1013.19,116.307 1013.25,116.297 1013.27,116.292 \n",
       "  1013.36,116.277 1013.39,116.271 1013.44,116.263 1013.45,116.261 1013.47,116.258 1013.53,116.248 1013.54,116.245 1013.56,116.242 1013.6,116.235 1013.71,116.216 \n",
       "  1013.75,116.209 1013.83,116.195 1013.91,116.182 1014.16,116.138 1014.2,116.131 1014.22,116.128 1014.34,116.107 1014.34,116.107 1014.4,116.096 1014.55,116.07 \n",
       "  1014.68,116.048 1014.73,116.04 1014.9,116.009 1014.92,116.007 1015.11,115.974 1015.23,115.953 1015.25,115.949 1015.32,115.937 1015.34,115.934 1015.37,115.928 \n",
       "  1015.56,115.896 1015.58,115.893 1015.66,115.878 1015.77,115.859 1016.17,115.79 1016.19,115.786 1016.29,115.768 1016.4,115.75 1016.56,115.723 1016.59,115.718 \n",
       "  1016.6,115.716 1016.67,115.704 1016.8,115.681 1017.26,115.601 1017.41,115.576 1017.47,115.565 1017.52,115.557 1017.61,115.54 1017.65,115.533 1017.8,115.508 \n",
       "  1017.83,115.502 1017.84,115.501 1017.98,115.477 1018.11,115.455 1018.11,115.454 1018.19,115.441 1018.24,115.432 1018.24,115.432 1018.3,115.421 1018.4,115.404 \n",
       "  1018.53,115.381 1018.54,115.38 1018.61,115.368 1018.65,115.361 1018.66,115.358 1018.67,115.357 1018.69,115.353 1018.89,115.32 1018.92,115.313 1018.97,115.306 \n",
       "  1018.97,115.306 1019.16,115.272 1019.18,115.268 1019.21,115.264 1019.25,115.256 1019.48,115.217 1019.51,115.211 1019.52,115.209 1019.79,115.162 1019.82,115.158 \n",
       "  1020.12,115.107 1020.14,115.102 1020.18,115.095 1020.21,115.091 1020.57,115.028 1020.62,115.019 1020.82,114.985 1020.83,114.982 1020.84,114.981 1020.94,114.963 \n",
       "  1021.1,114.937 1021.14,114.929 1021.37,114.889 1021.4,114.885 1021.41,114.883 1021.48,114.871 1021.62,114.846 1021.66,114.839 1021.67,114.837 1021.68,114.836 \n",
       "  1021.7,114.833 1021.72,114.828 1021.73,114.828 1021.83,114.81 1021.86,114.805 1021.9,114.798 1021.92,114.794 1022.22,114.742 1022.32,114.725 1022.33,114.723 \n",
       "  1022.39,114.713 1022.4,114.711 1022.41,114.71 1022.47,114.7 1022.51,114.692 1022.53,114.689 1022.54,114.688 1022.6,114.676 1022.65,114.667 1022.67,114.665 \n",
       "  1022.75,114.65 1022.76,114.649 1022.82,114.638 1022.83,114.637 1022.87,114.63 1022.93,114.619 1022.94,114.618 1022.95,114.616 1022.99,114.608 1023.14,114.583 \n",
       "  1023.36,114.545 1023.47,114.526 1023.53,114.515 1023.64,114.497 1023.7,114.486 1023.71,114.484 1023.77,114.474 1023.79,114.471 1023.98,114.438 1023.98,114.438 \n",
       "  1024,114.435 1024.05,114.425 1024.21,114.398 1024.39,114.366 1024.47,114.353 1024.47,114.353 1024.52,114.344 1024.54,114.34 1024.56,114.338 1024.74,114.306 \n",
       "  1024.8,114.296 1024.96,114.268 1024.96,114.267 1025.01,114.259 1025.01,114.259 1025.03,114.256 1025.13,114.238 1025.25,114.218 1025.29,114.21 1025.42,114.187 \n",
       "  1025.5,114.175 1025.5,114.174 1025.61,114.156 1025.62,114.154 1025.63,114.152 1025.67,114.144 1025.73,114.135 1025.8,114.122 1026.03,114.082 1026.16,114.06 \n",
       "  1026.28,114.04 1026.36,114.025 1026.41,114.017 1026.53,113.996 1026.55,113.992 1026.59,113.985 1026.61,113.981 1026.66,113.973 1026.66,113.973 1026.67,113.971 \n",
       "  1026.71,113.965 1026.72,113.963 1026.77,113.955 1026.81,113.947 1026.84,113.942 1026.86,113.939 1026.87,113.936 1027.06,113.904 1027.09,113.899 1027.16,113.887 \n",
       "  1027.23,113.874 1027.29,113.864 1027.36,113.853 1027.36,113.853 1027.46,113.835 1027.46,113.834 1027.5,113.827 1027.52,113.824 1027.58,113.814 1027.74,113.786 \n",
       "  1027.92,113.754 1027.97,113.746 1028.04,113.734 1028.05,113.732 1028.25,113.698 1028.28,113.693 1028.29,113.691 1028.4,113.671 1028.44,113.664 1028.51,113.653 \n",
       "  1028.66,113.627 1028.81,113.601 1028.83,113.597 1028.94,113.578 1029.1,113.551 1029.11,113.548 1029.12,113.547 1029.22,113.53 1029.38,113.503 1029.44,113.492 \n",
       "  1029.49,113.483 1029.5,113.481 1029.52,113.477 1029.53,113.476 1029.6,113.464 1029.73,113.441 1029.87,113.417 1030.08,113.381 1030.16,113.368 1030.26,113.35 \n",
       "  1030.3,113.344 1030.6,113.291 1030.64,113.284 1030.7,113.273 1030.76,113.263 1030.81,113.254 1030.82,113.253 1030.85,113.248 1030.87,113.245 1030.89,113.241 \n",
       "  1031.02,113.219 1031.12,113.201 1031.12,113.2 1031.31,113.167 1031.32,113.167 1031.39,113.154 1031.39,113.153 1031.55,113.127 1031.71,113.098 1031.74,113.093 \n",
       "  1032.19,113.016 1032.43,112.974 1032.44,112.972 1032.45,112.97 1032.53,112.957 1032.55,112.952 1032.57,112.95 1032.59,112.945 1032.61,112.943 1032.67,112.932 \n",
       "  1032.68,112.93 1033.13,112.852 1033.17,112.846 1033.3,112.823 1033.33,112.819 1033.49,112.79 1033.59,112.773 1033.63,112.766 1033.65,112.763 1033.7,112.754 \n",
       "  1033.7,112.754 1033.89,112.72 1034.03,112.697 1034.17,112.672 1034.19,112.67 1034.29,112.653 1034.47,112.621 1034.49,112.617 1034.53,112.611 1034.6,112.598 \n",
       "  1034.63,112.594 1034.63,112.594 1034.71,112.58 1034.91,112.544 1034.97,112.533 1035.01,112.526 1035.05,112.52 1035.1,112.512 1035.13,112.507 1035.13,112.506 \n",
       "  1035.36,112.467 1035.38,112.464 1035.4,112.46 1035.49,112.444 1035.52,112.439 1035.52,112.439 1035.65,112.416 1035.69,112.41 1035.69,112.409 1035.73,112.403 \n",
       "  1035.79,112.393 1035.87,112.379 1035.88,112.377 1036.17,112.326 1036.35,112.295 1036.42,112.282 1036.48,112.272 1036.55,112.261 1036.64,112.245 1036.64,112.244 \n",
       "  1036.72,112.231 1036.87,112.204 1036.88,112.203 1036.92,112.196 1036.98,112.186 1037.04,112.176 1037.1,112.165 1037.23,112.143 1037.28,112.134 1037.37,112.119 \n",
       "  1037.48,112.1 1037.52,112.093 1037.59,112.081 1037.66,112.068 1037.67,112.067 1037.69,112.062 1037.73,112.055 1037.73,112.055 1037.79,112.047 1037.79,112.046 \n",
       "  1037.91,112.025 1037.93,112.022 1038,112.01 1038.08,111.996 1038.13,111.987 1038.14,111.985 1038.14,111.985 1038.15,111.983 1038.2,111.974 1038.23,111.97 \n",
       "  1038.29,111.96 1038.35,111.949 1038.43,111.935 1038.59,111.908 1038.61,111.904 1038.79,111.872 1038.84,111.864 1038.88,111.857 1039.01,111.834 1039.05,111.828 \n",
       "  1039.11,111.818 1039.27,111.789 1039.29,111.785 1039.34,111.777 1039.36,111.774 1039.39,111.768 1039.4,111.766 1039.65,111.723 1039.69,111.716 1039.71,111.714 \n",
       "  1039.71,111.713 1039.81,111.696 1039.86,111.688 1039.9,111.68 1039.92,111.677 1039.99,111.665 1040.01,111.661 1040.07,111.651 1040.08,111.649 1040.08,111.649 \n",
       "  1040.09,111.648 1040.13,111.64 1040.18,111.632 1040.28,111.614 1040.31,111.61 1040.31,111.609 1040.32,111.608 1040.33,111.605 1040.34,111.605 1040.38,111.597 \n",
       "  1040.45,111.585 1040.55,111.567 1040.65,111.551 1040.72,111.539 1040.73,111.536 1040.75,111.533 1040.81,111.522 1040.87,111.512 1040.9,111.508 1041,111.49 \n",
       "  1041.06,111.48 1041.08,111.475 1041.11,111.471 1041.11,111.471 1041.12,111.469 1041.24,111.448 1041.35,111.43 1041.35,111.429 1041.36,111.428 1041.37,111.427 \n",
       "  1041.4,111.421 1041.51,111.402 1041.55,111.394 1041.56,111.393 1041.57,111.391 1041.69,111.37 1041.69,111.37 1041.8,111.352 1041.8,111.351 1041.83,111.346 \n",
       "  1041.86,111.342 1041.89,111.336 1041.89,111.336 1041.96,111.324 1041.96,111.323 1041.99,111.319 1042.01,111.315 1042.13,111.294 1042.26,111.271 1042.35,111.256 \n",
       "  1042.42,111.244 1042.43,111.241 1042.54,111.224 1042.59,111.214 1042.63,111.207 1042.63,111.207 1042.65,111.205 1042.68,111.198 1042.71,111.193 1042.84,111.171 \n",
       "  1042.93,111.155 1042.99,111.145 1043,111.144 1043.01,111.142 1043.11,111.124 1043.14,111.119 1043.15,111.118 1043.16,111.115 1043.24,111.102 1043.29,111.093 \n",
       "  1043.32,111.088 1043.37,111.079 1043.38,111.078 1043.39,111.077 1043.48,111.06 1043.6,111.04 1043.68,111.025 1043.69,111.023 1043.73,111.018 1043.74,111.016 \n",
       "  1043.75,111.013 1043.78,111.009 1043.78,111.008 1043.82,111.002 1043.89,110.989 1044.01,110.969 1044.14,110.946 1044.25,110.927 1044.31,110.917 1044.43,110.895 \n",
       "  1044.44,110.893 1044.45,110.892 1044.5,110.884 1044.52,110.881 1044.66,110.857 1044.67,110.853 1044.75,110.841 1044.77,110.837 1044.85,110.824 1044.86,110.822 \n",
       "  1044.88,110.817 1044.98,110.801 1045,110.797 1045.13,110.775 1045.15,110.771 1045.17,110.768 1045.26,110.752 1045.27,110.751 1045.27,110.75 1045.27,110.75 \n",
       "  1045.39,110.73 1045.47,110.715 1045.53,110.705 1045.58,110.696 1045.59,110.694 1045.74,110.669 1045.75,110.668 1045.81,110.657 1045.83,110.654 1045.92,110.638 \n",
       "  1045.95,110.632 1046.03,110.618 1046.14,110.6 1046.19,110.591 1046.19,110.591 1046.26,110.579 1046.28,110.575 1046.33,110.567 1046.34,110.564 1046.37,110.56 \n",
       "  1046.4,110.554 1046.47,110.543 1046.48,110.541 1046.6,110.521 1046.64,110.512 1046.65,110.511 1046.67,110.507 1046.69,110.505 1046.72,110.498 1046.78,110.489 \n",
       "  1046.81,110.483 1046.83,110.481 1046.84,110.479 1046.85,110.477 1046.87,110.474 1046.9,110.468 1046.98,110.455 1046.99,110.452 1047,110.451 1047.07,110.438 \n",
       "  1047.07,110.438 1047.1,110.434 1047.22,110.412 1047.24,110.41 1047.28,110.402 1047.29,110.401 1047.3,110.399 1047.38,110.385 1047.39,110.384 1047.4,110.381 \n",
       "  1047.41,110.379 1047.48,110.368 1047.49,110.367 1047.54,110.357 1047.67,110.334 1047.69,110.332 1047.76,110.319 1047.78,110.316 1047.91,110.293 1048.02,110.273 \n",
       "  1048.04,110.271 1048.04,110.27 1048.19,110.244 1048.32,110.222 1048.62,110.169 1048.7,110.157 1048.77,110.143 1048.79,110.14 1048.81,110.138 1048.83,110.134 \n",
       "  1048.88,110.124 1048.93,110.116 1048.99,110.107 1048.99,110.107 1049.02,110.102 1049.11,110.085 1049.18,110.073 1049.21,110.068 1049.24,110.063 1049.32,110.049 \n",
       "  1049.42,110.031 1049.44,110.027 1049.48,110.02 1049.49,110.02 1049.52,110.014 1049.53,110.013 1049.66,109.991 1049.72,109.979 1049.75,109.975 1049.76,109.972 \n",
       "  1049.77,109.971 1049.78,109.969 1049.89,109.95 1049.9,109.948 1049.9,109.948 1050.27,109.885 1050.27,109.884 1050.28,109.882 1050.37,109.867 1050.39,109.863 \n",
       "  1050.52,109.84 1050.54,109.837 1050.6,109.827 1050.62,109.823 1050.67,109.815 1050.67,109.814 1050.72,109.807 1050.76,109.799 1050.78,109.796 1050.8,109.792 \n",
       "  1050.83,109.788 1050.87,109.78 1050.91,109.774 1051.01,109.756 1051.05,109.749 1051.12,109.738 1051.22,109.72 1051.28,109.71 1051.33,109.701 1051.45,109.68 \n",
       "  1051.47,109.677 1051.52,109.667 1051.56,109.661 1051.59,109.657 1051.63,109.648 1051.65,109.646 1051.7,109.636 1051.74,109.629 1051.84,109.612 1051.88,109.606 \n",
       "  1051.96,109.592 1052.05,109.577 1052.11,109.565 1052.14,109.56 1052.16,109.557 1052.26,109.54 1052.29,109.534 1052.31,109.531 1052.32,109.53 1052.32,109.529 \n",
       "  1052.33,109.527 1052.38,109.52 1052.43,109.511 1052.46,109.506 1052.53,109.493 1052.53,109.492 1052.58,109.484 1052.62,109.477 1052.64,109.474 1052.73,109.458 \n",
       "  1052.75,109.455 1052.79,109.447 1052.8,109.447 1052.81,109.445 1052.88,109.432 1052.88,109.432 1052.89,109.431 1053.06,109.401 1053.09,109.396 1053.19,109.378 \n",
       "  1053.29,109.362 1053.29,109.361 1053.39,109.345 1053.42,109.339 1053.43,109.336 1053.5,109.325 1053.52,109.322 1053.52,109.322 1053.57,109.312 1053.71,109.289 \n",
       "  1053.75,109.281 1053.77,109.278 1053.79,109.275 1053.8,109.273 1053.83,109.268 1053.87,109.261 1053.92,109.252 1053.95,109.248 1053.97,109.244 1053.98,109.242 \n",
       "  1054,109.239 1054.12,109.218 1054.12,109.217 1054.21,109.202 1054.24,109.198 1054.28,109.19 1054.31,109.185 1054.33,109.181 1054.41,109.167 1054.43,109.163 \n",
       "  1054.44,109.162 1054.51,109.149 1054.63,109.13 1054.63,109.13 1054.64,109.128 1054.64,109.128 1054.8,109.1 1054.81,109.098 1054.82,109.096 1054.85,109.091 \n",
       "  1054.88,109.086 1054.96,109.072 1054.97,109.07 1054.98,109.069 1054.98,109.069 1055.01,109.063 1055.1,109.048 1055.17,109.036 1055.17,109.035 1055.19,109.032 \n",
       "  1055.19,109.031 1055.21,109.029 1055.32,109.009 1055.35,109.004 1055.36,109.003 1055.37,109.001 1055.39,108.997 1055.42,108.993 1055.53,108.974 1055.54,108.971 \n",
       "  1055.58,108.965 1055.6,108.962 1055.68,108.948 1055.68,108.947 1055.72,108.941 1055.73,108.939 1055.75,108.936 1055.8,108.927 1055.85,108.919 1055.88,108.912 \n",
       "  1055.93,108.904 1056.08,108.878 1056.09,108.876 1056.13,108.869 1056.29,108.843 1056.29,108.842 1056.35,108.832 1056.38,108.826 1056.38,108.826 1056.54,108.799 \n",
       "  1056.57,108.794 1056.57,108.793 1056.58,108.791 1056.6,108.788 1056.63,108.783 1056.72,108.767 1056.74,108.763 1056.79,108.755 1056.8,108.754 1056.84,108.746 \n",
       "  1056.88,108.739 1056.88,108.739 1056.97,108.723 1057.04,108.713 1057.07,108.707 1057.1,108.702 1057.14,108.695 1057.16,108.691 1057.18,108.688 1057.2,108.684 \n",
       "  1057.23,108.679 1057.27,108.673 1057.29,108.669 1057.3,108.667 1057.3,108.667 1057.32,108.663 1057.34,108.66 1057.38,108.653 1057.51,108.631 1057.52,108.628 \n",
       "  1057.55,108.623 1057.56,108.622 1057.58,108.618 1057.59,108.617 1057.64,108.609 1057.7,108.597 1057.72,108.594 1057.79,108.582 1057.8,108.58 1057.8,108.58 \n",
       "  1057.8,108.58 1057.85,108.571 1057.87,108.567 1057.88,108.566 1057.89,108.564 1057.92,108.56 1058.01,108.544 1058.04,108.539 1058.05,108.537 1058.08,108.532 \n",
       "  1058.15,108.52 1058.19,108.512 1058.21,108.509 1058.23,108.506 1058.24,108.504 1058.24,108.503 1058.27,108.498 1058.36,108.482 1058.39,108.478 1058.39,108.478 \n",
       "  1058.4,108.476 1058.45,108.467 1058.45,108.467 1058.53,108.453 1058.56,108.449 1058.56,108.448 1058.61,108.44 1058.71,108.423 1058.72,108.421 1058.72,108.421 \n",
       "  1058.73,108.42 1058.74,108.417 1058.78,108.411 1058.78,108.41 1058.79,108.409 1058.79,108.408 1058.86,108.397 1058.87,108.395 1058.93,108.385 1058.94,108.382 \n",
       "  1059.04,108.365 1059.05,108.364 1059.05,108.363 1059.09,108.358 1059.09,108.357 1059.15,108.346 1059.29,108.323 1059.31,108.319 1059.42,108.3 1059.42,108.299 \n",
       "  1059.44,108.296 1059.51,108.284 1059.52,108.282 1059.52,108.282 1059.53,108.281 1059.6,108.269 1059.6,108.269 1059.64,108.261 1059.67,108.257 1059.72,108.248 \n",
       "  1059.84,108.227 1059.92,108.213 1059.92,108.213 1059.94,108.21 1059.95,108.208 1059.98,108.203 1059.99,108.202 1060,108.2 1060.05,108.19 1060.07,108.188 \n",
       "  1060.19,108.166 1060.25,108.155 1060.35,108.138 1060.39,108.132 1060.41,108.128 1060.42,108.126 1060.47,108.118 1060.49,108.115 1060.52,108.109 1060.52,108.109 \n",
       "  1060.64,108.089 1060.65,108.086 1060.69,108.079 1060.7,108.078 1060.82,108.058 1060.89,108.045 1060.92,108.04 1060.96,108.033 1060.98,108.03 1060.98,108.029 \n",
       "  1060.98,108.029 1061.03,108.02 1061.07,108.014 1061.07,108.014 1061.08,108.013 1061.08,108.012 1061.14,108.001 1061.2,107.991 1061.2,107.991 1061.23,107.987 \n",
       "  1061.24,107.984 1061.26,107.981 1061.29,107.976 1061.3,107.974 1061.36,107.964 1061.39,107.958 1061.56,107.93 1061.65,107.913 1061.67,107.91 1061.7,107.906 \n",
       "  1061.76,107.895 1061.76,107.894 1061.82,107.884 1061.86,107.876 1061.88,107.873 1061.94,107.863 1061.96,107.859 1062.04,107.846 1062.08,107.838 1062.1,107.836 \n",
       "  1062.14,107.829 1062.15,107.826 1062.19,107.82 1062.22,107.814 1062.35,107.792 1062.38,107.787 1062.46,107.774 1062.46,107.773 1062.47,107.772 1062.47,107.772 \n",
       "  1062.55,107.757 1062.57,107.754 1062.63,107.745 1062.66,107.739 1062.67,107.738 1062.7,107.731 1062.75,107.723 1062.75,107.722 1062.78,107.718 1062.82,107.711 \n",
       "  1062.85,107.705 1062.86,107.704 1062.93,107.692 1062.99,107.682 1063.01,107.679 1063.01,107.677 1063.13,107.658 1063.16,107.651 1063.22,107.641 1063.23,107.639 \n",
       "  1063.31,107.625 1063.33,107.622 1063.34,107.62 1063.37,107.616 1063.42,107.608 1063.44,107.603 1063.45,107.602 1063.46,107.6 1063.48,107.597 1063.61,107.574 \n",
       "  1063.65,107.567 1063.71,107.556 1063.72,107.554 1063.74,107.552 1063.74,107.551 1063.79,107.543 1063.79,107.542 1063.92,107.521 1063.92,107.52 1064.02,107.504 \n",
       "  1064.03,107.502 1064.03,107.501 1064.05,107.497 1064.07,107.494 1064.1,107.489 1064.13,107.485 1064.13,107.484 1064.13,107.483 1064.14,107.483 1064.16,107.479 \n",
       "  1064.28,107.457 1064.28,107.457 1064.33,107.449 1064.39,107.439 1064.43,107.432 1064.43,107.431 1064.49,107.422 1064.52,107.417 1064.61,107.401 1064.66,107.392 \n",
       "  1064.73,107.38 1064.84,107.36 1064.85,107.359 1064.86,107.357 1064.87,107.356 1064.89,107.352 1064.95,107.341 1065.07,107.322 1065.09,107.318 1065.12,107.313 \n",
       "  1065.12,107.312 1065.15,107.307 1065.17,107.304 1065.26,107.289 1065.26,107.288 1065.28,107.284 1065.47,107.252 1065.58,107.232 1065.74,107.206 1065.77,107.2 \n",
       "  1065.82,107.191 1065.88,107.182 1065.91,107.177 1065.92,107.173 1065.94,107.171 1065.95,107.169 1065.98,107.163 1066,107.16 1066.03,107.154 1066.04,107.153 \n",
       "  1066.06,107.149 1066.08,107.145 1066.15,107.133 1066.23,107.12 1066.25,107.117 1066.25,107.116 1066.27,107.114 1066.28,107.111 1066.34,107.101 1066.42,107.087 \n",
       "  1066.43,107.085 1066.53,107.069 1066.54,107.067 1066.58,107.059 1066.59,107.058 1066.59,107.058 1066.62,107.052 1066.63,107.051 1066.67,107.044 1066.68,107.042 \n",
       "  1066.68,107.042 1066.81,107.019 1066.84,107.014 1066.91,107.003 1066.94,106.997 1066.95,106.996 1066.98,106.99 1067.09,106.972 1067.15,106.961 1067.19,106.954 \n",
       "  1067.22,106.949 1067.26,106.942 1067.28,106.938 1067.41,106.916 1067.45,106.909 1067.49,106.902 1067.5,106.9 1067.5,106.9 1067.51,106.898 1067.54,106.893 \n",
       "  1067.6,106.883 1067.61,106.881 1067.67,106.871 1067.7,106.866 1067.71,106.864 1067.71,106.864 1067.79,106.85 1067.8,106.849 1067.81,106.846 1067.84,106.841 \n",
       "  1067.86,106.838 1067.87,106.836 1067.88,106.835 1067.93,106.826 1067.93,106.826 1067.95,106.823 1068.06,106.804 1068.06,106.803 1068.07,106.801 1068.08,106.8 \n",
       "  1068.2,106.78 1068.21,106.777 1068.23,106.774 1068.26,106.768 1068.26,106.768 1068.27,106.767 1068.29,106.764 1068.33,106.757 1068.34,106.754 1068.39,106.746 \n",
       "  1068.43,106.74 1068.44,106.737 1068.47,106.731 1068.49,106.729 1068.5,106.728 1068.51,106.726 1068.55,106.719 1068.61,106.708 1068.65,106.701 1068.65,106.701 \n",
       "  1068.74,106.686 1068.84,106.667 1068.9,106.657 1068.94,106.651 1069.01,106.64 1069.03,106.635 1069.04,106.634 1069.06,106.63 1069.11,106.622 1069.17,106.611 \n",
       "  1069.21,106.604 1069.28,106.591 1069.31,106.587 1069.33,106.584 1069.35,106.579 1069.37,106.577 1069.42,106.568 1069.45,106.562 1069.46,106.561 1069.55,106.545 \n",
       "  1069.57,106.541 1069.62,106.533 1069.64,106.53 1069.69,106.521 1069.7,106.519 1069.71,106.518 1069.72,106.516 1069.73,106.515 1069.73,106.514 1069.78,106.506 \n",
       "  1069.8,106.501 1069.81,106.5 1069.85,106.494 1069.89,106.487 1069.95,106.476 1070.02,106.463 1070.03,106.462 1070.07,106.456 1070.09,106.451 1070.16,106.44 \n",
       "  1070.19,106.435 1070.2,106.432 1070.23,106.427 1070.25,106.425 1070.37,106.404 1070.42,106.394 1070.45,106.389 1070.46,106.388 1070.48,106.384 1070.51,106.38 \n",
       "  1070.55,106.371 1070.6,106.363 1070.64,106.357 1070.65,106.356 1070.65,106.355 1070.71,106.344 1070.73,106.341 1070.78,106.333 1070.88,106.316 1070.9,106.312 \n",
       "  1070.93,106.307 1070.95,106.303 1070.95,106.302 1070.99,106.296 1070.99,106.296 1071.05,106.285 1071.06,106.284 1071.06,106.283 1071.06,106.283 1071.09,106.279 \n",
       "  1071.1,106.277 1071.1,106.277 1071.2,106.26 1071.31,106.24 1071.43,106.219 1071.56,106.198 1071.57,106.196 1071.63,106.185 1071.64,106.184 1071.65,106.182 \n",
       "  1071.69,106.175 1071.72,106.17 1071.76,106.162 1071.77,106.161 1071.78,106.158 1071.8,106.156 1071.8,106.155 1071.82,106.152 1071.87,106.143 1071.88,106.142 \n",
       "  1071.91,106.136 1071.92,106.135 1071.96,106.128 1071.97,106.127 1072.04,106.114 1072.06,106.111 1072.07,106.11 1072.08,106.107 1072.13,106.098 1072.19,106.088 \n",
       "  1072.21,106.085 1072.25,106.078 1072.26,106.076 1072.27,106.074 1072.31,106.067 1072.33,106.063 1072.36,106.059 1072.36,106.058 1072.39,106.053 1072.4,106.051 \n",
       "  1072.43,106.046 1072.44,106.044 1072.46,106.041 1072.58,106.021 1072.59,106.018 1072.6,106.017 1072.63,106.011 1072.66,106.007 1072.68,106.002 1072.71,105.999 \n",
       "  1072.74,105.993 1072.77,105.987 1072.79,105.984 1072.84,105.975 1072.85,105.974 1072.85,105.973 1072.9,105.964 1072.94,105.958 1072.98,105.951 1073,105.948 \n",
       "  1073,105.948 1073,105.948 1073.14,105.923 1073.15,105.922 1073.16,105.92 1073.17,105.919 1073.23,105.907 1073.28,105.9 1073.3,105.897 1073.31,105.893 \n",
       "  1073.36,105.886 1073.36,105.886 1073.37,105.883 1073.42,105.875 1073.43,105.873 1073.43,105.873 1073.43,105.873 1073.47,105.866 1073.47,105.866 1073.47,105.866 \n",
       "  1073.49,105.863 1073.5,105.861 1073.55,105.853 1073.59,105.845 1073.59,105.845 1073.6,105.844 1073.61,105.843 1073.61,105.842 1073.63,105.839 1073.63,105.838 \n",
       "  1073.64,105.838 1073.71,105.825 1073.72,105.823 1073.78,105.812 1073.79,105.811 1073.79,105.811 1073.83,105.804 1073.84,105.802 1073.85,105.801 1073.87,105.797 \n",
       "  1073.87,105.797 1073.94,105.785 1074.01,105.772 1074.03,105.769 1074.05,105.766 1074.08,105.761 1074.11,105.755 1074.12,105.753 1074.13,105.751 1074.14,105.75 \n",
       "  1074.17,105.746 1074.22,105.736 1074.24,105.733 1074.24,105.733 1074.25,105.731 1074.3,105.723 1074.33,105.718 1074.36,105.711 1074.4,105.705 1074.46,105.695 \n",
       "  1074.46,105.695 1074.49,105.69 1074.5,105.688 1074.51,105.686 1074.54,105.682 1074.55,105.68 1074.55,105.679 1074.59,105.673 1074.59,105.672 1074.64,105.663 \n",
       "  1074.65,105.662 1074.68,105.657 1074.74,105.647 1074.78,105.64 1074.79,105.637 1074.79,105.637 1074.81,105.634 1074.82,105.633 1074.85,105.628 1074.85,105.627 \n",
       "  1074.89,105.621 1074.96,105.609 1074.99,105.602 1075,105.602 1075.03,105.596 1075.06,105.591 1075.06,105.591 1075.08,105.588 1075.1,105.584 1075.11,105.582 \n",
       "  1075.18,105.571 1075.18,105.57 1075.18,105.57 1075.19,105.569 1075.19,105.568 1075.19,105.568 1075.2,105.567 1075.21,105.565 1075.26,105.557 1075.27,105.555 \n",
       "  1075.35,105.541 1075.36,105.54 1075.47,105.52 1075.55,105.506 1075.55,105.506 1075.69,105.481 1075.7,105.481 1075.74,105.473 1075.8,105.463 1075.83,105.458 \n",
       "  1075.83,105.458 1075.89,105.447 1075.97,105.434 1076.03,105.423 1076.11,105.41 1076.15,105.403 1076.17,105.399 1076.21,105.392 1076.23,105.389 1076.29,105.379 \n",
       "  1076.32,105.372 1076.34,105.369 1076.36,105.366 1076.37,105.364 1076.37,105.363 1076.38,105.362 1076.4,105.36 1076.41,105.358 1076.41,105.356 1076.46,105.349 \n",
       "  1076.51,105.341 1076.52,105.338 1076.52,105.337 1076.55,105.332 1076.56,105.332 1076.58,105.329 1076.59,105.325 1076.59,105.325 1076.61,105.322 1076.63,105.318 \n",
       "  1076.65,105.316 1076.67,105.312 1076.75,105.299 1076.77,105.295 1076.8,105.29 1076.8,105.289 1076.82,105.286 1076.83,105.284 1076.86,105.28 1076.86,105.279 \n",
       "  1076.89,105.275 1076.89,105.273 1076.92,105.269 1076.95,105.264 1076.99,105.257 1076.99,105.257 1077,105.256 1077.04,105.248 1077.09,105.24 1077.29,105.205 \n",
       "  1077.35,105.194 1077.36,105.192 1077.41,105.184 1077.41,105.183 1077.42,105.183 1077.42,105.182 1077.44,105.18 1077.45,105.177 1077.45,105.177 1077.46,105.176 \n",
       "  1077.47,105.174 1077.57,105.156 1077.61,105.15 1077.61,105.15 1077.61,105.149 1077.63,105.145 1077.66,105.14 1077.74,105.127 1077.75,105.124 1077.77,105.122 \n",
       "  1077.82,105.112 1077.83,105.111 1077.87,105.104 1077.9,105.1 1077.91,105.097 1077.91,105.097 1077.94,105.092 1078,105.083 1078,105.082 1078,105.082 \n",
       "  1078.01,105.081 1078.02,105.078 1078.04,105.074 1078.05,105.073 1078.06,105.072 1078.06,105.071 1078.11,105.063 1078.11,105.062 1078.12,105.061 1078.17,105.052 \n",
       "  1078.2,105.047 1078.21,105.046 1078.21,105.045 1078.21,105.045 1078.22,105.043 1078.26,105.038 1078.3,105.03 1078.3,105.029 1078.33,105.025 1078.34,105.024 \n",
       "  1078.36,105.019 1078.45,105.003 1078.47,105 1078.48,104.999 1078.52,104.992 1078.55,104.986 1078.56,104.984 1078.59,104.98 1078.61,104.976 1078.62,104.975 \n",
       "  1078.66,104.967 1078.67,104.966 1078.69,104.962 1078.7,104.961 1078.72,104.958 1078.73,104.955 1078.75,104.952 1078.8,104.943 1078.89,104.927 1078.95,104.917 \n",
       "  1078.96,104.915 1079.15,104.883 1079.24,104.867 1079.25,104.865 1079.35,104.849 1079.38,104.843 1079.46,104.829 1079.5,104.822 1079.53,104.816 1079.57,104.81 \n",
       "  1079.57,104.81 1079.58,104.807 1079.59,104.807 1079.6,104.805 1079.62,104.801 1079.64,104.797 1079.65,104.796 1079.66,104.795 1079.66,104.794 1079.67,104.793 \n",
       "  1079.75,104.779 1079.76,104.777 1079.77,104.775 1079.78,104.774 1079.84,104.764 1079.85,104.761 1079.87,104.758 1079.9,104.754 1079.9,104.753 1079.9,104.753 \n",
       "  1079.93,104.748 1079.97,104.741 1079.99,104.738 1080.01,104.734 1080.03,104.731 1080.03,104.731 1080.06,104.725 1080.07,104.724 1080.08,104.722 1080.1,104.718 \n",
       "  1080.13,104.712 1080.14,104.711 1080.14,104.711 1080.17,104.705 1080.18,104.705 1080.18,104.705 1080.19,104.702 1080.2,104.701 1080.21,104.699 1080.25,104.692 \n",
       "  1080.34,104.677 1080.34,104.677 1080.39,104.668 1080.4,104.666 1080.43,104.662 1080.45,104.658 1080.45,104.657 1080.46,104.657 1080.5,104.649 1080.53,104.644 \n",
       "  1080.59,104.634 1080.62,104.629 1080.69,104.616 1080.69,104.616 1080.8,104.596 1080.82,104.594 1080.84,104.59 1080.86,104.587 1080.86,104.586 1080.87,104.584 \n",
       "  1080.87,104.584 1080.88,104.583 1080.92,104.577 1080.92,104.577 1080.92,104.576 1080.93,104.575 1080.98,104.566 1081.02,104.559 1081.05,104.554 1081.07,104.55 \n",
       "  1081.08,104.549 1081.1,104.545 1081.11,104.543 1081.12,104.542 1081.18,104.531 1081.2,104.528 1081.21,104.527 1081.21,104.526 1081.25,104.519 1081.26,104.518 \n",
       "  1081.26,104.517 1081.26,104.517 1081.27,104.515 1081.3,104.511 1081.34,104.503 1081.34,104.503 1081.35,104.503 1081.37,104.498 1081.42,104.49 1081.42,104.49 \n",
       "  1081.42,104.49 1081.44,104.485 1081.46,104.483 1081.49,104.478 1081.49,104.477 1081.5,104.476 1081.53,104.471 1081.54,104.47 1081.58,104.462 1081.61,104.457 \n",
       "  1081.65,104.449 1081.67,104.447 1081.69,104.442 1081.73,104.435 1081.74,104.434 1081.76,104.43 1081.78,104.428 1081.78,104.426 1081.84,104.416 1081.9,104.407 \n",
       "  1081.91,104.404 1081.94,104.4 1081.94,104.399 1081.98,104.393 1081.98,104.392 1081.99,104.391 1081.99,104.391 1082.01,104.387 1082.07,104.376 1082.12,104.368 \n",
       "  1082.18,104.358 1082.18,104.357 1082.24,104.347 1082.26,104.345 1082.27,104.342 1082.31,104.335 1082.33,104.332 1082.33,104.331 1082.34,104.33 1082.35,104.329 \n",
       "  1082.37,104.325 1082.47,104.308 1082.48,104.306 1082.49,104.305 1082.5,104.303 1082.58,104.289 1082.59,104.287 1082.63,104.281 1082.63,104.28 1082.65,104.276 \n",
       "  1082.67,104.274 1082.68,104.272 1082.68,104.272 1082.72,104.264 1082.76,104.258 1082.77,104.256 1082.82,104.248 1082.83,104.246 1082.84,104.244 1082.85,104.242 \n",
       "  1082.85,104.242 1082.85,104.241 1082.92,104.229 1082.93,104.227 1082.96,104.222 1082.99,104.217 1083.08,104.202 1083.09,104.2 1083.11,104.196 1083.12,104.194 \n",
       "  1083.13,104.193 1083.15,104.189 1083.16,104.188 1083.21,104.179 1083.25,104.173 1083.25,104.173 1083.3,104.164 1083.32,104.16 1083.32,104.16 1083.35,104.155 \n",
       "  1083.36,104.154 1083.38,104.15 1083.4,104.147 1083.41,104.146 1083.41,104.145 1083.41,104.144 1083.43,104.142 1083.44,104.14 1083.47,104.135 1083.5,104.129 \n",
       "  1083.56,104.119 1083.6,104.112 1083.6,104.112 1083.65,104.103 1083.7,104.094 1083.7,104.094 1083.73,104.09 1083.74,104.087 1083.75,104.087 1083.77,104.082 \n",
       "  1083.79,104.078 1083.79,104.078 1083.79,104.078 1083.8,104.078 1083.83,104.072 1083.84,104.071 1083.86,104.067 1083.86,104.066 1083.88,104.063 1083.91,104.058 \n",
       "  1083.97,104.047 1084,104.042 1084.05,104.035 1084.06,104.033 1084.2,104.008 1084.26,103.997 1084.28,103.995 1084.33,103.985 1084.35,103.982 1084.4,103.974 \n",
       "  1084.41,103.971 1084.41,103.971 1084.42,103.97 1084.42,103.969 1084.44,103.967 1084.45,103.965 1084.46,103.963 1084.48,103.96 1084.49,103.958 1084.51,103.954 \n",
       "  1084.52,103.952 1084.54,103.95 1084.59,103.941 1084.65,103.931 1084.66,103.929 1084.67,103.926 1084.68,103.924 1084.68,103.924 1084.69,103.923 1084.69,103.923 \n",
       "  1084.71,103.92 1084.72,103.917 1084.73,103.917 1084.76,103.912 1084.76,103.91 1084.8,103.904 1084.83,103.899 1084.84,103.897 1084.85,103.895 1084.86,103.894 \n",
       "  1084.87,103.892 1084.87,103.891 1084.88,103.89 1084.9,103.887 1084.92,103.884 1084.92,103.883 1085,103.869 1085,103.869 1085,103.869 1085.02,103.866 \n",
       "  1085.11,103.85 1085.12,103.85 1085.12,103.848 1085.14,103.845 1085.18,103.838 1085.19,103.837 1085.22,103.831 1085.25,103.826 1085.25,103.826 1085.26,103.824 \n",
       "  1085.28,103.82 1085.29,103.819 1085.36,103.808 1085.37,103.806 1085.37,103.806 1085.39,103.803 1085.39,103.802 1085.39,103.801 1085.43,103.796 1085.44,103.793 \n",
       "  1085.45,103.792 1085.47,103.788 1085.48,103.787 1085.5,103.784 1085.51,103.781 1085.56,103.773 1085.57,103.771 1085.57,103.77 1085.59,103.767 1085.64,103.759 \n",
       "  1085.65,103.757 1085.71,103.746 1085.75,103.739 1085.83,103.726 1085.86,103.72 1085.87,103.719 1085.87,103.719 1085.88,103.716 1085.92,103.71 1085.94,103.706 \n",
       "  1085.96,103.703 1085.96,103.703 1085.97,103.702 1085.98,103.699 1085.99,103.699 1086.01,103.695 1086.02,103.694 1086.02,103.692 1086.08,103.683 1086.11,103.677 \n",
       "  1086.12,103.675 1086.12,103.675 1086.13,103.674 1086.14,103.672 1086.22,103.658 1086.24,103.654 1086.32,103.641 1086.32,103.641 1086.33,103.639 1086.34,103.638 \n",
       "  1086.36,103.633 1086.37,103.631 1086.39,103.629 1086.39,103.629 1086.39,103.629 1086.4,103.626 1086.41,103.626 1086.41,103.625 1086.42,103.624 1086.45,103.619 \n",
       "  1086.52,103.606 1086.53,103.604 1086.63,103.588 1086.67,103.581 1086.69,103.577 1086.72,103.571 1086.73,103.571 1086.73,103.57 1086.75,103.567 1086.8,103.557 \n",
       "  1086.82,103.555 1086.82,103.555 1086.85,103.549 1086.88,103.545 1086.88,103.544 1086.89,103.542 1086.9,103.54 1086.91,103.538 1086.92,103.537 1086.93,103.535 \n",
       "  1086.95,103.531 1086.99,103.526 1087,103.524 1087,103.523 1087.03,103.517 1087.03,103.517 1087.04,103.516 1087.05,103.515 1087.09,103.507 1087.1,103.506 \n",
       "  1087.1,103.505 1087.11,103.504 1087.12,103.502 1087.15,103.497 1087.15,103.496 1087.17,103.494 1087.37,103.46 1087.37,103.459 1087.38,103.458 1087.39,103.455 \n",
       "  1087.47,103.442 1087.55,103.428 1087.58,103.424 1087.58,103.423 1087.64,103.412 1087.66,103.409 1087.66,103.408 1087.7,103.403 1087.7,103.401 1087.75,103.394 \n",
       "  1087.76,103.392 1087.79,103.387 1087.81,103.383 1087.81,103.383 1087.82,103.381 1087.83,103.38 1087.83,103.379 1087.86,103.374 1087.87,103.373 1087.88,103.371 \n",
       "  1087.89,103.369 1087.9,103.367 1087.92,103.363 1087.93,103.361 1087.94,103.36 1087.96,103.357 1087.98,103.353 1088.01,103.349 1088.03,103.345 1088.06,103.34 \n",
       "  1088.07,103.338 1088.09,103.334 1088.11,103.331 1088.14,103.326 1088.15,103.323 1088.17,103.32 1088.18,103.318 1088.19,103.318 1088.2,103.316 1088.2,103.315 \n",
       "  1088.26,103.304 1088.27,103.303 1088.33,103.293 1088.37,103.285 1088.38,103.285 1088.4,103.28 1088.41,103.28 1088.41,103.278 1088.44,103.274 1088.44,103.274 \n",
       "  1088.45,103.271 1088.46,103.27 1088.47,103.269 1088.48,103.267 1088.48,103.266 1088.53,103.259 1088.54,103.256 1088.55,103.255 1088.57,103.252 1088.59,103.247 \n",
       "  1088.66,103.236 1088.66,103.236 1088.67,103.234 1088.68,103.232 1088.7,103.228 1088.72,103.225 1088.72,103.225 1088.74,103.223 1088.74,103.221 1088.75,103.22 \n",
       "  1088.79,103.213 1088.84,103.205 1088.87,103.2 1088.88,103.198 1088.89,103.196 1088.91,103.192 1088.91,103.192 1088.93,103.188 1088.99,103.178 1089,103.176 \n",
       "  1089.02,103.173 1089.05,103.169 1089.06,103.167 1089.07,103.165 1089.07,103.164 1089.1,103.16 1089.11,103.158 1089.12,103.156 1089.18,103.146 1089.18,103.145 \n",
       "  1089.25,103.133 1089.29,103.126 1089.32,103.121 1089.32,103.121 1089.32,103.121 1089.32,103.121 1089.37,103.113 1089.37,103.112 1089.38,103.112 1089.39,103.109 \n",
       "  1089.46,103.097 1089.46,103.097 1089.47,103.095 1089.48,103.094 1089.52,103.087 1089.56,103.08 1089.57,103.079 1089.57,103.077 1089.6,103.072 1089.61,103.072 \n",
       "  1089.62,103.069 1089.66,103.063 1089.67,103.061 1089.67,103.06 1089.67,103.06 1089.7,103.056 1089.7,103.056 1089.75,103.046 1089.81,103.037 1089.82,103.035 \n",
       "  1089.85,103.03 1089.85,103.03 1089.85,103.03 1089.86,103.028 1089.87,103.026 1089.91,103.019 1089.92,103.017 1089.93,103.017 1089.99,103.006 1090.01,103.002 \n",
       "  1090.03,102.999 1090.03,102.998 1090.1,102.987 1090.1,102.986 1090.11,102.984 1090.12,102.983 1090.16,102.976 1090.17,102.973 1090.2,102.969 1090.23,102.965 \n",
       "  1090.23,102.964 1090.24,102.962 1090.26,102.958 1090.27,102.956 1090.32,102.947 1090.33,102.946 1090.34,102.945 1090.38,102.938 1090.41,102.932 1090.42,102.931 \n",
       "  1090.42,102.931 1090.43,102.929 1090.46,102.924 1090.47,102.922 1090.49,102.918 1090.51,102.915 1090.53,102.912 1090.53,102.912 1090.56,102.907 1090.57,102.905 \n",
       "  1090.58,102.902 1090.6,102.9 1090.6,102.9 1090.6,102.9 1090.62,102.896 1090.65,102.892 1090.69,102.885 1090.7,102.883 1090.74,102.876 1090.76,102.872 \n",
       "  1090.77,102.871 1090.79,102.868 1090.79,102.867 1090.8,102.865 1090.82,102.862 1090.83,102.861 1090.85,102.856 1090.9,102.848 1090.91,102.846 1090.93,102.843 \n",
       "  1090.93,102.843 1090.94,102.842 1090.94,102.84 1090.94,102.84 1090.95,102.839 1090.95,102.838 1090.96,102.837 1090.97,102.835 1090.99,102.832 1091.01,102.828 \n",
       "  1091.02,102.827 1091.04,102.824 1091.06,102.819 1091.07,102.818 1091.09,102.815 1091.11,102.811 1091.14,102.806 1091.16,102.803 1091.17,102.801 1091.17,102.801 \n",
       "  1091.19,102.797 1091.19,102.797 1091.2,102.796 1091.21,102.794 1091.23,102.791 1091.24,102.789 1091.27,102.784 1091.27,102.783 1091.28,102.781 1091.32,102.776 \n",
       "  1091.33,102.774 1091.34,102.771 1091.35,102.77 1091.35,102.77 1091.36,102.769 1091.38,102.764 1091.4,102.761 1091.42,102.757 1091.45,102.753 1091.45,102.752 \n",
       "  1091.5,102.743 1091.52,102.741 1091.54,102.737 1091.54,102.737 1091.57,102.732 1091.58,102.729 1091.58,102.729 1091.61,102.725 1091.61,102.724 1091.62,102.722 \n",
       "  1091.63,102.721 1091.66,102.717 1091.71,102.707 1091.75,102.701 1091.77,102.697 1091.77,102.696 1091.79,102.693 1091.81,102.69 1091.82,102.689 1091.9,102.675 \n",
       "  1091.9,102.675 1091.95,102.666 1091.97,102.663 1091.97,102.663 1092.02,102.654 1092.03,102.652 1092.05,102.649 1092.08,102.643 1092.09,102.642 1092.1,102.64 \n",
       "  1092.1,102.64 1092.1,102.64 1092.12,102.637 1092.14,102.633 1092.16,102.629 1092.17,102.628 1092.18,102.626 1092.18,102.626 1092.18,102.626 1092.19,102.624 \n",
       "  1092.19,102.624 1092.2,102.623 1092.2,102.622 1092.25,102.614 1092.25,102.613 1092.29,102.607 1092.31,102.604 1092.32,102.602 1092.34,102.598 1092.34,102.598 \n",
       "  1092.37,102.592 1092.4,102.587 1092.41,102.587 1092.41,102.586 1092.41,102.586 1092.42,102.584 1092.42,102.584 1092.44,102.581 1092.44,102.581 1092.45,102.579 \n",
       "  1092.49,102.572 1092.5,102.571 1092.5,102.57 1092.51,102.569 1092.53,102.565 1092.54,102.563 1092.57,102.559 1092.58,102.556 1092.61,102.551 1092.62,102.55 \n",
       "  1092.64,102.547 1092.64,102.547 1092.64,102.546 1092.66,102.544 1092.66,102.543 1092.66,102.542 1092.67,102.541 1092.67,102.541 1092.67,102.541 1092.68,102.54 \n",
       "  1092.68,102.54 1092.69,102.538 1092.7,102.535 1092.75,102.527 1092.76,102.526 1092.77,102.525 1092.77,102.524 1092.77,102.524 1092.77,102.524 1092.78,102.522 \n",
       "  1092.81,102.516 1092.82,102.516 1092.85,102.51 1092.88,102.504 1092.9,102.502 1092.92,102.497 1092.96,102.492 1093,102.484 1093.05,102.476 1093.05,102.475 \n",
       "  1093.06,102.473 1093.06,102.473 1093.09,102.469 1093.12,102.464 1093.13,102.462 1093.13,102.461 1093.15,102.458 1093.19,102.451 1093.24,102.442 1093.24,102.442 \n",
       "  1093.29,102.434 1093.29,102.433 1093.3,102.432 1093.3,102.431 1093.31,102.431 1093.31,102.43 1093.36,102.422 1093.41,102.413 1093.43,102.41 1093.49,102.399 \n",
       "  1093.53,102.393 1093.53,102.393 1093.54,102.391 1093.55,102.39 1093.58,102.383 1093.59,102.382 1093.63,102.376 1093.66,102.369 1093.76,102.353 1093.77,102.351 \n",
       "  1093.77,102.351 1093.78,102.35 1093.78,102.349 1093.79,102.347 1093.79,102.347 1093.81,102.345 1093.86,102.336 1093.86,102.336 1093.88,102.332 1093.89,102.33 \n",
       "  1093.91,102.326 1093.92,102.324 1093.93,102.323 1093.93,102.322 1093.94,102.321 1093.94,102.321 1093.95,102.32 1093.96,102.318 1093.99,102.313 1093.99,102.312 \n",
       "  1094.01,102.308 1094.05,102.303 1094.07,102.298 1094.12,102.29 1094.12,102.289 1094.15,102.284 1094.16,102.283 1094.16,102.282 1094.17,102.282 1094.2,102.276 \n",
       "  1094.21,102.275 1094.24,102.268 1094.26,102.265 1094.28,102.263 1094.28,102.262 1094.28,102.262 1094.28,102.262 1094.3,102.26 1094.37,102.246 1094.38,102.245 \n",
       "  1094.38,102.244 1094.39,102.243 1094.41,102.239 1094.45,102.232 1094.45,102.232 1094.46,102.23 1094.47,102.23 1094.49,102.226 1094.52,102.221 1094.52,102.22 \n",
       "  1094.55,102.215 1094.55,102.215 1094.59,102.208 1094.59,102.208 1094.63,102.202 1094.64,102.201 1094.67,102.195 1094.69,102.191 1094.7,102.189 1094.71,102.188 \n",
       "  1094.71,102.188 1094.74,102.182 1094.74,102.182 1094.78,102.176 1094.79,102.174 1094.85,102.164 1094.88,102.159 1094.88,102.158 1094.89,102.156 1094.91,102.153 \n",
       "  1094.93,102.149 1094.94,102.149 1094.95,102.146 1094.96,102.144 1094.96,102.144 1094.97,102.143 1095.01,102.136 1095.01,102.135 1095.02,102.135 1095.05,102.129 \n",
       "  1095.07,102.126 1095.08,102.124 1095.08,102.124 1095.09,102.123 1095.09,102.121 1095.16,102.109 1095.16,102.109 1095.19,102.105 1095.22,102.1 1095.22,102.1 \n",
       "  1095.23,102.098 1095.23,102.097 1095.27,102.092 1095.27,102.091 1095.27,102.091 1095.31,102.084 1095.34,102.079 1095.34,102.079 1095.35,102.077 1095.36,102.076 \n",
       "  1095.36,102.075 1095.39,102.07 1095.39,102.069 1095.45,102.059 1095.46,102.057 1095.47,102.056 1095.52,102.048 1095.54,102.044 1095.6,102.033 1095.62,102.031 \n",
       "  1095.63,102.029 1095.63,102.028 1095.64,102.026 1095.66,102.023 1095.69,102.019 1095.69,102.018 1095.72,102.013 1095.75,102.008 1095.76,102.006 1095.79,102.001 \n",
       "  1095.79,102 1095.84,101.993 1095.84,101.993 1095.84,101.992 1095.91,101.979 1095.93,101.976 1095.96,101.971 1095.96,101.971 1095.96,101.971 1095.98,101.969 \n",
       "  1095.98,101.967 1095.99,101.966 1096,101.965 1096.02,101.961 1096.04,101.957 1096.04,101.957 1096.08,101.95 1096.16,101.936 1096.17,101.934 1096.23,101.924 \n",
       "  1096.28,101.916 1096.29,101.914 1096.3,101.913 1096.31,101.912 1096.31,101.911 1096.33,101.907 1096.36,101.903 1096.36,101.902 1096.38,101.899 1096.41,101.894 \n",
       "  1096.42,101.891 1096.45,101.887 1096.46,101.885 1096.47,101.883 1096.51,101.877 1096.51,101.876 1096.54,101.87 1096.56,101.868 1096.58,101.864 1096.59,101.863 \n",
       "  1096.6,101.861 1096.61,101.858 1096.63,101.856 1096.63,101.855 1096.63,101.855 1096.64,101.854 1096.69,101.845 1096.71,101.842 1096.71,101.842 1096.71,101.842 \n",
       "  1096.71,101.841 1096.72,101.841 1096.72,101.84 1096.73,101.838 1096.73,101.838 1096.73,101.837 1096.74,101.836 1096.75,101.835 1096.77,101.831 1096.82,101.823 \n",
       "  1096.84,101.819 1096.9,101.809 1096.91,101.807 1096.91,101.807 1096.93,101.804 1096.94,101.802 1096.95,101.8 1096.98,101.794 1096.99,101.793 1097,101.792 \n",
       "  1097.02,101.788 1097.03,101.787 1097.03,101.786 1097.04,101.785 1097.05,101.783 1097.08,101.777 1097.13,101.769 1097.13,101.769 1097.16,101.764 1097.16,101.764 \n",
       "  1097.17,101.762 1097.19,101.758 1097.2,101.757 1097.2,101.756 1097.22,101.753 1097.23,101.752 1097.23,101.752 1097.25,101.748 1097.25,101.747 1097.27,101.745 \n",
       "  1097.28,101.744 1097.28,101.742 1097.31,101.738 1097.34,101.732 1097.35,101.731 1097.35,101.73 1097.37,101.727 1097.39,101.724 1097.39,101.724 1097.4,101.722 \n",
       "  1097.42,101.719 1097.43,101.718 1097.45,101.713 1097.46,101.712 1097.48,101.709 1097.49,101.706 1097.49,101.706 1097.5,101.705 1097.53,101.699 1097.54,101.698 \n",
       "  1097.54,101.698 1097.54,101.697 1097.55,101.696 1097.58,101.69 1097.59,101.69 1097.61,101.686 1097.63,101.681 1097.64,101.681 1097.64,101.68 1097.68,101.673 \n",
       "  1097.76,101.66 1097.79,101.655 1097.82,101.65 1097.82,101.65 1097.82,101.649 1097.85,101.645 1097.86,101.642 1097.87,101.641 1097.87,101.641 1097.93,101.63 \n",
       "  1097.94,101.628 1097.97,101.624 1098.02,101.615 1098.02,101.614 1098.03,101.613 1098.07,101.605 1098.08,101.604 1098.1,101.6 1098.11,101.6 1098.12,101.597 \n",
       "  1098.23,101.579 1098.23,101.578 1098.32,101.563 1098.32,101.563 1098.32,101.562 1098.33,101.561 1098.33,101.56 1098.34,101.56 1098.37,101.555 1098.38,101.553 \n",
       "  1098.39,101.55 1098.4,101.549 1098.41,101.547 1098.41,101.546 1098.43,101.544 1098.43,101.543 1098.49,101.533 1098.51,101.531 1098.53,101.527 1098.54,101.524 \n",
       "  1098.56,101.521 1098.57,101.52 1098.57,101.52 1098.61,101.513 1098.62,101.51 1098.63,101.508 1098.64,101.508 1098.67,101.503 1098.67,101.502 1098.68,101.501 \n",
       "  1098.71,101.495 1098.71,101.495 1098.71,101.495 1098.72,101.494 1098.76,101.486 1098.76,101.486 1098.84,101.473 1098.86,101.468 1098.87,101.468 1098.9,101.462 \n",
       "  1098.91,101.46 1098.93,101.457 1098.94,101.455 1098.96,101.452 1098.98,101.448 1099.01,101.442 1099.02,101.442 1099.03,101.44 1099.03,101.44 1099.04,101.437 \n",
       "  1099.08,101.432 1099.09,101.429 1099.13,101.422 1099.16,101.418 1099.18,101.413 1099.19,101.411 1099.2,101.41 1099.21,101.409 1099.22,101.406 1099.24,101.404 \n",
       "  1099.24,101.404 1099.24,101.404 1099.24,101.403 1099.25,101.402 1099.25,101.401 1099.31,101.391 1099.36,101.382 1099.4,101.375 1099.42,101.373 1099.43,101.37 \n",
       "  1099.45,101.367 1099.45,101.366 1099.48,101.361 1099.48,101.361 1099.51,101.356 1099.52,101.355 1099.53,101.353 1099.54,101.351 1099.56,101.348 1099.56,101.348 \n",
       "  1099.57,101.347 1099.57,101.345 1099.58,101.344 1099.6,101.34 1099.62,101.338 1099.71,101.323 1099.71,101.322 1099.72,101.32 1099.72,101.32 1099.74,101.316 \n",
       "  1099.74,101.316 1099.75,101.315 1099.77,101.311 1099.8,101.306 1099.87,101.295 1099.87,101.294 1099.88,101.293 1099.89,101.291 1099.9,101.289 1099.91,101.286 \n",
       "  1099.92,101.285 1099.94,101.282 1099.94,101.282 1099.98,101.276 1099.99,101.274 1100.02,101.269 1100.02,101.268 1100.05,101.264 1100.05,101.263 1100.05,101.262 \n",
       "  1100.06,101.262 1100.08,101.259 1100.09,101.256 1100.1,101.255 1100.1,101.254 1100.1,101.254 1100.16,101.245 1100.16,101.243 1100.18,101.241 1100.26,101.226 \n",
       "  1100.27,101.226 1100.27,101.224 1100.28,101.223 1100.3,101.221 1100.3,101.22 1100.3,101.22 1100.31,101.217 1100.33,101.215 1100.38,101.205 1100.39,101.204 \n",
       "  1100.39,101.204 1100.41,101.201 1100.41,101.201 1100.41,101.2 1100.44,101.196 1100.44,101.196 1100.44,101.195 1100.44,101.195 1100.49,101.186 1100.5,101.186 \n",
       "  1100.51,101.184 1100.51,101.183 1100.53,101.18 1100.54,101.179 1100.54,101.179 1100.54,101.179 1100.57,101.173 1100.59,101.17 1100.61,101.166 1100.64,101.16 \n",
       "  1100.67,101.157 1100.7,101.15 1100.71,101.149 1100.76,101.14 1100.78,101.136 1100.8,101.133 1100.8,101.132 1100.84,101.125 1100.85,101.125 1100.87,101.121 \n",
       "  1100.88,101.119 1100.9,101.116 1100.91,101.115 1100.92,101.113 1100.92,101.113 1100.94,101.108 1101.01,101.096 1101.02,101.096 1101.02,101.095 1101.07,101.087 \n",
       "  1101.09,101.084 1101.09,101.083 1101.1,101.081 1101.13,101.076 1101.14,101.075 1101.14,101.074 1101.15,101.073 1101.15,101.072 1101.18,101.067 1101.19,101.065 \n",
       "  1101.21,101.063 1101.22,101.061 1101.23,101.059 1101.24,101.057 1101.25,101.056 1101.25,101.056 1101.26,101.053 1101.31,101.045 1101.32,101.044 1101.34,101.039 \n",
       "  1101.36,101.037 1101.36,101.035 1101.36,101.035 1101.4,101.029 1101.4,101.029 1101.41,101.028 1101.45,101.021 1101.47,101.017 1101.49,101.013 1101.53,101.007 \n",
       "  1101.53,101.006 1101.54,101.005 1101.55,101.004 1101.55,101.003 1101.55,101.003 1101.58,100.998 1101.6,100.995 1101.6,100.994 1101.62,100.992 1101.62,100.991 \n",
       "  1101.64,100.988 1101.64,100.987 1101.65,100.986 1101.65,100.986 1101.66,100.985 1101.66,100.984 1101.67,100.982 1101.67,100.982 1101.68,100.982 1101.68,100.981 \n",
       "  1101.69,100.98 1101.7,100.977 1101.7,100.977 1101.71,100.976 1101.71,100.976 1101.71,100.976 1101.71,100.975 1101.71,100.975 1101.72,100.975 1101.73,100.971 \n",
       "  1101.76,100.967 1101.76,100.967 1101.81,100.958 1101.84,100.954 1101.89,100.945 1101.9,100.942 1101.9,100.942 1101.91,100.941 1101.92,100.94 1101.93,100.937 \n",
       "  1101.97,100.931 1101.98,100.929 1102.01,100.924 1102.01,100.923 1102.02,100.923 1102.03,100.921 1102.05,100.917 1102.09,100.909 1102.13,100.902 1102.14,100.901 \n",
       "  1102.17,100.897 1102.18,100.894 1102.18,100.894 1102.19,100.892 1102.2,100.891 1102.21,100.89 1102.21,100.889 1102.22,100.888 1102.23,100.886 1102.24,100.884 \n",
       "  1102.25,100.882 1102.25,100.881 1102.26,100.88 1102.27,100.879 1102.27,100.878 1102.32,100.871 1102.35,100.865 1102.36,100.862 1102.4,100.857 1102.41,100.854 \n",
       "  1102.42,100.852 1102.44,100.848 1102.51,100.837 1102.51,100.837 1102.52,100.836 1102.54,100.832 1102.54,100.831 1102.55,100.83 1102.56,100.828 1102.61,100.82 \n",
       "  1102.64,100.815 1102.65,100.813 1102.68,100.808 1102.7,100.804 1102.72,100.8 1102.75,100.795 1102.76,100.794 1102.76,100.793 1102.78,100.791 1102.78,100.789 \n",
       "  1102.79,100.789 1102.81,100.785 1102.83,100.782 1102.85,100.777 1102.88,100.774 1102.89,100.771 1102.9,100.769 1102.94,100.763 1102.95,100.762 1102.96,100.759 \n",
       "  1102.97,100.757 1102.98,100.755 1102.99,100.754 1102.99,100.754 1103.01,100.751 1103.04,100.746 1103.05,100.743 1103.07,100.739 1103.09,100.737 1103.09,100.737 \n",
       "  1103.1,100.735 1103.1,100.735 1103.11,100.732 1103.12,100.731 1103.13,100.729 1103.14,100.728 1103.2,100.718 1103.2,100.717 1103.24,100.71 1103.25,100.709 \n",
       "  1103.26,100.707 1103.28,100.703 1103.28,100.703 1103.29,100.702 1103.3,100.7 1103.3,100.7 1103.34,100.693 1103.34,100.693 1103.36,100.69 1103.36,100.69 \n",
       "  1103.39,100.684 1103.44,100.675 1103.48,100.669 1103.53,100.661 1103.54,100.659 1103.54,100.659 1103.55,100.657 1103.55,100.657 1103.56,100.655 1103.56,100.654 \n",
       "  1103.59,100.649 1103.6,100.648 1103.63,100.643 1103.64,100.641 1103.64,100.641 1103.64,100.64 1103.66,100.638 1103.67,100.637 1103.67,100.636 1103.69,100.633 \n",
       "  1103.7,100.632 1103.74,100.624 1103.75,100.623 1103.75,100.622 1103.76,100.621 1103.78,100.617 1103.81,100.613 1103.81,100.612 1103.81,100.612 1103.81,100.612 \n",
       "  1103.82,100.611 1103.82,100.611 1103.85,100.606 1103.86,100.603 1103.91,100.594 1103.91,100.594 1103.97,100.584 1104.01,100.577 1104.03,100.574 1104.03,100.573 \n",
       "  1104.06,100.569 1104.09,100.564 1104.1,100.561 1104.12,100.559 1104.13,100.557 1104.13,100.556 1104.14,100.555 1104.16,100.551 1104.22,100.54 1104.23,100.54 \n",
       "  1104.23,100.539 1104.26,100.534 1104.27,100.532 1104.27,100.532 1104.33,100.522 1104.33,100.522 1104.33,100.521 1104.34,100.52 1104.35,100.519 1104.38,100.512 \n",
       "  1104.39,100.511 1104.4,100.509 1104.4,100.509 1104.41,100.508 1104.41,100.507 1104.46,100.499 1104.48,100.497 1104.5,100.492 1104.52,100.489 1104.52,100.489 \n",
       "  1104.52,100.488 1104.59,100.478 1104.59,100.476 1104.6,100.476 1104.6,100.475 1104.61,100.473 1104.61,100.473 1104.62,100.472 1104.65,100.466 1104.66,100.464 \n",
       "  1104.68,100.461 1104.69,100.46 1104.7,100.458 1104.71,100.456 1104.73,100.453 1104.73,100.452 1104.74,100.451 1104.74,100.45 1104.81,100.439 1104.81,100.439 \n",
       "  1104.81,100.438 1104.83,100.435 1104.86,100.431 1104.86,100.429 1104.87,100.429 1104.87,100.428 1104.87,100.428 1104.89,100.425 1104.91,100.422 1104.91,100.421 \n",
       "  1104.92,100.42 1104.93,100.419 1104.95,100.415 1104.98,100.409 1104.98,100.408 1105.01,100.404 1105.01,100.404 1105.02,100.403 1105.03,100.4 1105.05,100.397 \n",
       "  1105.06,100.395 1105.09,100.39 1105.1,100.389 1105.1,100.389 1105.1,100.388 1105.14,100.382 1105.15,100.38 1105.16,100.377 1105.19,100.373 1105.19,100.373 \n",
       "  1105.21,100.369 1105.22,100.368 1105.23,100.366 1105.24,100.365 1105.24,100.364 1105.25,100.363 1105.27,100.359 1105.3,100.355 1105.3,100.353 1105.31,100.352 \n",
       "  1105.32,100.351 1105.35,100.344 1105.36,100.343 1105.37,100.342 1105.38,100.34 1105.38,100.34 1105.38,100.34 1105.4,100.336 1105.4,100.336 1105.41,100.335 \n",
       "  1105.48,100.322 1105.49,100.322 1105.5,100.319 1105.5,100.319 1105.52,100.316 1105.55,100.31 1105.56,100.309 1105.57,100.307 1105.57,100.306 1105.59,100.304 \n",
       "  1105.59,100.304 1105.6,100.301 1105.6,100.301 1105.63,100.297 1105.64,100.295 1105.64,100.295 1105.66,100.292 1105.67,100.289 1105.68,100.287 1105.68,100.287 \n",
       "  1105.69,100.287 1105.69,100.287 1105.72,100.28 1105.75,100.276 1105.78,100.271 1105.79,100.268 1105.8,100.267 1105.81,100.265 1105.83,100.263 1105.83,100.262 \n",
       "  1105.84,100.26 1105.85,100.259 1105.86,100.257 1105.87,100.255 1105.89,100.252 1105.9,100.251 1105.91,100.248 1105.92,100.246 1105.93,100.245 1105.96,100.239 \n",
       "  1105.98,100.236 1106.01,100.231 1106.02,100.229 1106.02,100.229 1106.04,100.225 1106.07,100.221 1106.08,100.218 1106.08,100.218 1106.1,100.215 1106.1,100.215 \n",
       "  1106.12,100.213 1106.13,100.211 1106.13,100.21 1106.13,100.209 1106.15,100.207 1106.15,100.207 1106.15,100.206 1106.16,100.205 1106.16,100.205 1106.16,100.205 \n",
       "  1106.2,100.199 1106.21,100.196 1106.21,100.196 1106.23,100.193 1106.26,100.188 1106.26,100.188 1106.26,100.187 1106.27,100.186 1106.27,100.185 1106.28,100.184 \n",
       "  1106.28,100.184 1106.33,100.176 1106.33,100.175 1106.35,100.172 1106.35,100.172 1106.35,100.172 1106.35,100.171 1106.36,100.17 1106.37,100.168 1106.38,100.167 \n",
       "  1106.38,100.167 1106.39,100.166 1106.4,100.164 1106.41,100.162 1106.42,100.159 1106.43,100.157 1106.44,100.157 1106.46,100.153 1106.47,100.151 1106.47,100.151 \n",
       "  1106.5,100.146 1106.54,100.139 1106.56,100.135 1106.56,100.135 1106.58,100.132 1106.59,100.13 1106.62,100.125 1106.63,100.124 1106.66,100.119 1106.67,100.117 \n",
       "  1106.68,100.115 1106.69,100.113 1106.69,100.113 1106.69,100.113 1106.71,100.109 1106.72,100.108 1106.73,100.107 1106.74,100.104 1106.75,100.103 1106.75,100.102 \n",
       "  1106.75,100.102 1106.77,100.099 1106.81,100.092 1106.83,100.089 1106.83,100.088 1106.84,100.087 1106.86,100.084 1106.87,100.081 1106.87,100.081 1106.88,100.081 \n",
       "  1106.89,100.079 1106.9,100.077 1106.91,100.074 1106.92,100.073 1106.92,100.073 1106.93,100.071 1106.95,100.068 1106.96,100.067 1106.97,100.065 1106.98,100.062 \n",
       "  1106.98,100.062 1106.99,100.061 1107,100.059 1107.02,100.057 1107.05,100.051 1107.06,100.049 1107.06,100.049 1107.06,100.048 1107.08,100.046 1107.09,100.045 \n",
       "  1107.09,100.043 1107.09,100.043 1107.11,100.04 1107.12,100.039 1107.14,100.035 1107.15,100.033 1107.16,100.032 1107.16,100.032 1107.17,100.029 1107.24,100.017 \n",
       "  1107.28,100.01 1107.28,100.01 1107.32,100.005 1107.33,100.002 1107.33,100.002 1107.36,99.9971 1107.38,99.9941 1107.39,99.9915 1107.39,99.9915 1107.4,99.9906 \n",
       "  1107.45,99.9817 1107.45,99.9811 1107.47,99.978 1107.47,99.9779 1107.49,99.9742 1107.49,99.9738 1107.5,99.9736 1107.5,99.9722 1107.52,99.9699 1107.53,99.9682 \n",
       "  1107.53,99.9681 1107.53,99.9681 1107.53,99.9678 1107.54,99.9651 1107.54,99.9651 1107.56,99.9616 1107.58,99.9592 1107.58,99.9588 1107.58,99.9583 1107.62,99.952 \n",
       "  1107.63,99.9495 1107.64,99.9491 1107.64,99.9485 1107.66,99.9446 1107.67,99.9433 1107.68,99.9417 1107.7,99.9374 1107.74,99.9317 1107.74,99.9305 1107.75,99.9303 \n",
       "  1107.79,99.9233 1107.79,99.9217 1107.8,99.9212 1107.82,99.9172 1107.87,99.9096 1107.87,99.9085 1107.88,99.9067 1107.9,99.9032 1107.91,99.9015 1107.92,99.8997 \n",
       "  1107.94,99.8969 1107.94,99.8958 1107.97,99.892 1107.97,99.891 1107.97,99.8909 1107.97,99.8907 1107.97,99.8906 1107.99,99.8883 1107.99,99.8875 1108,99.8856 \n",
       "  1108.03,99.8818 1108.05,99.8768 1108.07,99.8738 1108.1,99.8691 1108.1,99.8691 1108.1,99.8684 1108.11,99.8674 1108.12,99.8653 1108.13,99.8632 1108.13,99.863 \n",
       "  1108.14,99.8619 1108.16,99.8593 1108.16,99.8585 1108.17,99.8569 1108.17,99.8559 1108.18,99.8557 1108.18,99.8555 1108.19,99.8534 1108.2,99.8512 1108.23,99.8469 \n",
       "  1108.23,99.8466 1108.24,99.8447 1108.25,99.8424 1108.27,99.8394 1108.29,99.8351 1108.3,99.8334 1108.32,99.83 1108.35,99.8251 1108.35,99.8251 1108.37,99.8216 \n",
       "  1108.39,99.8186 1108.39,99.8181 1108.43,99.8112 1108.44,99.8107 1108.44,99.8107 1108.45,99.8083 1108.46,99.8059 1108.47,99.8053 1108.47,99.804 1108.48,99.8025 \n",
       "  1108.55,99.7913 1108.56,99.7897 1108.56,99.7886 1108.58,99.7866 1108.59,99.7844 1108.61,99.7807 1108.64,99.776 1108.64,99.7754 1108.64,99.7746 1108.65,99.7737 \n",
       "  1108.67,99.77 1108.69,99.7669 1108.69,99.7668 1108.71,99.7636 1108.71,99.7634 1108.72,99.7608 1108.73,99.7601 1108.75,99.7564 1108.76,99.7547 1108.77,99.7529 \n",
       "  1108.77,99.7523 1108.77,99.7522 1108.78,99.7508 1108.8,99.747 1108.82,99.7443 1108.83,99.7428 1108.84,99.7414 1108.85,99.7386 1108.88,99.7338 1108.89,99.732 \n",
       "  1108.89,99.732 1108.9,99.7312 1108.91,99.7288 1108.92,99.7272 1108.95,99.7218 1108.95,99.7213 1108.97,99.7181 1108.97,99.7179 1108.97,99.7176 1108.98,99.717 \n",
       "  1108.99,99.7153 1108.99,99.7147 1109.02,99.7101 1109.02,99.7094 1109.05,99.7044 1109.06,99.7027 1109.06,99.7023 1109.08,99.6991 1109.1,99.6954 1109.11,99.6933 \n",
       "  1109.12,99.6931 1109.13,99.6897 1109.14,99.6884 1109.16,99.6858 1109.19,99.6804 1109.19,99.6797 1109.23,99.674 1109.23,99.6724 1109.25,99.6702 1109.26,99.6675 \n",
       "  1109.27,99.6654 1109.28,99.6644 1109.3,99.6603 1109.33,99.6551 1109.35,99.6531 1109.36,99.651 1109.36,99.6506 1109.37,99.6489 1109.38,99.6474 1109.39,99.6453 \n",
       "  1109.39,99.6453 1109.39,99.6452 1109.44,99.6377 1109.46,99.6337 1109.49,99.6278 1109.51,99.6245 1109.51,99.6245 1109.53,99.6213 1109.54,99.6186 1109.55,99.6175 \n",
       "  1109.56,99.6166 1109.56,99.6161 1109.56,99.6159 1109.57,99.6135 1109.59,99.6104 1109.6,99.6084 1109.62,99.6056 1109.65,99.5997 1109.65,99.5996 1109.68,99.5951 \n",
       "  1109.68,99.5948 1109.69,99.5934 1109.69,99.5929 1109.7,99.591 1109.73,99.5864 1109.73,99.5858 1109.74,99.5854 1109.75,99.5828 1109.76,99.5812 1109.76,99.5808 \n",
       "  1109.78,99.5772 1109.84,99.567 1109.87,99.5619 1109.89,99.5583 1109.9,99.5567 1109.9,99.5565 1109.91,99.556 1109.93,99.5521 1109.94,99.5501 1109.97,99.5456 \n",
       "  1109.97,99.5452 1109.99,99.5407 1110,99.5398 1110.02,99.5355 1110.03,99.5343 1110.03,99.5338 1110.04,99.5336 1110.07,99.5279 1110.08,99.5265 1110.1,99.5231 \n",
       "  1110.1,99.5222 1110.14,99.5163 1110.14,99.5153 1110.14,99.5151 1110.15,99.5131 1110.16,99.5116 1110.18,99.5092 1110.18,99.5088 1110.18,99.5082 1110.22,99.5011 \n",
       "  1110.23,99.5001 1110.24,99.4989 1110.24,99.4988 1110.24,99.4976 1110.26,99.4951 1110.27,99.4938 1110.29,99.489 1110.32,99.4844 1110.33,99.4834 1110.33,99.482 \n",
       "  1110.33,99.4818 1110.34,99.4801 1110.39,99.4728 1110.41,99.4689 1110.44,99.4632 1110.44,99.4629 1110.49,99.4546 1110.51,99.4516 1110.52,99.4499 1110.53,99.4483 \n",
       "  1110.53,99.4478 1110.54,99.4468 1110.54,99.4456 1110.58,99.4402 1110.63,99.4314 1110.64,99.4297 1110.65,99.4277 1110.66,99.4247 1110.67,99.4246 1110.68,99.4221 \n",
       "  1110.68,99.4213 1110.69,99.4212 1110.7,99.4183 1110.71,99.4169 1110.74,99.4115 1110.75,99.4106 1110.76,99.409 1110.76,99.4088 1110.76,99.4083 1110.76,99.4075 \n",
       "  1110.77,99.4072 1110.77,99.4072 1110.77,99.4061 1110.78,99.4048 1110.78,99.4046 1110.79,99.4038 1110.8,99.4008 1110.8,99.4008 1110.8,99.4008 1110.82,99.3984 \n",
       "  1110.82,99.3971 1110.82,99.397 1110.83,99.3964 1110.84,99.3944 1110.84,99.3937 1110.85,99.3929 1110.85,99.3921 1110.85,99.3919 1110.86,99.3917 1110.86,99.3916 \n",
       "  1110.86,99.3913 1110.87,99.3899 1110.87,99.3891 1110.9,99.3838 1110.9,99.3838 1110.9,99.3832 1110.92,99.3798 1110.98,99.3698 1111,99.3666 1111.01,99.3652 \n",
       "  1111.01,99.3649 1111.03,99.3621 1111.03,99.3609 1111.03,99.3608 1111.04,99.36 1111.06,99.3565 1111.07,99.3552 1111.08,99.3532 1111.09,99.3505 1111.09,99.3503 \n",
       "  1111.1,99.3501 1111.11,99.3471 1111.12,99.3459 1111.13,99.3438 1111.15,99.3403 1111.19,99.3339 1111.19,99.3331 1111.2,99.3317 1111.21,99.3306 1111.21,99.3296 \n",
       "  1111.23,99.3276 1111.23,99.326 1111.24,99.3242 1111.26,99.321 1111.28,99.3183 1111.29,99.3171 1111.29,99.3162 1111.3,99.3143 1111.31,99.3136 1111.31,99.3122 \n",
       "  1111.33,99.3094 1111.35,99.3055 1111.36,99.305 1111.36,99.3045 1111.37,99.3024 1111.39,99.2993 1111.39,99.2991 1111.39,99.2988 1111.41,99.2956 1111.43,99.2921 \n",
       "  1111.45,99.2889 1111.45,99.2885 1111.46,99.2875 1111.47,99.2853 1111.48,99.2827 1111.52,99.277 1111.52,99.2761 1111.53,99.2756 1111.54,99.2737 1111.57,99.2678 \n",
       "  1111.57,99.2675 1111.58,99.2669 1111.58,99.2669 1111.58,99.2658 1111.58,99.2657 1111.58,99.2656 1111.63,99.2581 1111.63,99.2576 1111.64,99.2553 1111.66,99.2521 \n",
       "  1111.68,99.2496 1111.69,99.2466 1111.7,99.2452 1111.7,99.2451 1111.71,99.2433 1111.74,99.2377 1111.75,99.2359 1111.8,99.2288 1111.8,99.2276 1111.81,99.2268 \n",
       "  1111.83,99.2229 1111.86,99.2171 1111.86,99.217 1111.87,99.216 1111.87,99.2153 1111.88,99.2136 1111.91,99.2088 1111.93,99.2054 1111.94,99.2031 1111.95,99.2026 \n",
       "  1111.96,99.1997 1111.97,99.1993 1111.97,99.1991 1111.97,99.1988 1111.98,99.1976 1111.98,99.197 1112,99.1929 1112.01,99.192 1112.02,99.1908 1112.04,99.1865 \n",
       "  1112.05,99.1845 1112.07,99.1812 1112.11,99.1752 1112.11,99.1747 1112.14,99.1684 1112.18,99.1631 1112.19,99.1609 1112.19,99.1606 1112.2,99.1588 1112.22,99.155 \n",
       "  1112.24,99.1514 1112.26,99.1492 1112.29,99.1436 1112.31,99.1406 1112.31,99.1397 1112.31,99.1393 1112.33,99.137 1112.33,99.1361 1112.38,99.1273 1112.39,99.1266 \n",
       "  1112.41,99.1228 1112.42,99.1214 1112.42,99.1214 1112.42,99.1211 1112.49,99.1092 1112.49,99.1092 1112.49,99.1079 1112.53,99.1025 1112.55,99.0985 1112.56,99.0973 \n",
       "  1112.56,99.0959 1112.56,99.0959 1112.57,99.0949 1112.57,99.0947 1112.57,99.0944 1112.58,99.0935 1112.59,99.0907 1112.61,99.0882 1112.61,99.088 1112.62,99.0856 \n",
       "  1112.64,99.0831 1112.64,99.0818 1112.66,99.0789 1112.67,99.0766 1112.71,99.0703 1112.72,99.0694 1112.75,99.0641 1112.75,99.0627 1112.76,99.0614 1112.77,99.0597 \n",
       "  1112.78,99.0588 1112.79,99.0567 1112.8,99.0551 1112.82,99.0522 1112.82,99.0515 1112.82,99.0509 1112.82,99.0506 1112.84,99.0473 1112.85,99.0469 1112.85,99.0466 \n",
       "  1112.85,99.0458 1112.86,99.0446 1112.88,99.0416 1112.88,99.0408 1112.89,99.0393 1112.92,99.0344 1112.92,99.0341 1112.96,99.0272 1112.97,99.0249 1112.99,99.0224 \n",
       "  1113,99.0204 1113.01,99.0184 1113.02,99.0173 1113.02,99.0165 1113.02,99.0165 1113.04,99.0128 1113.05,99.0118 1113.07,99.0084 1113.08,99.0056 1113.09,99.0047 \n",
       "  1113.11,99.0013 1113.12,98.999 1113.13,98.9978 1113.13,98.9973 1113.13,98.9972 1113.14,98.9958 1113.16,98.9933 1113.16,98.9931 1113.16,98.9919 1113.16,98.9918 \n",
       "  1113.18,98.9882 1113.21,98.9837 1113.27,98.9741 1113.27,98.9741 1113.27,98.9734 1113.27,98.9733 1113.28,98.9726 1113.29,98.9695 1113.33,98.963 1113.34,98.961 \n",
       "  1113.36,98.9584 1113.36,98.9575 1113.37,98.9565 1113.37,98.9562 1113.37,98.9558 1113.38,98.9544 1113.4,98.9513 1113.4,98.9511 1113.4,98.9508 1113.41,98.9501 \n",
       "  1113.41,98.9495 1113.42,98.9479 1113.45,98.942 1113.48,98.9374 1113.5,98.9335 1113.5,98.9329 1113.55,98.9243 1113.58,98.9191 1113.6,98.9169 1113.6,98.9155 \n",
       "  1113.63,98.9104 1113.64,98.9089 1113.64,98.9088 1113.66,98.9063 1113.66,98.9059 1113.66,98.9055 1113.67,98.9042 1113.69,98.9012 1113.7,98.8995 1113.71,98.898 \n",
       "  1113.74,98.8921 1113.74,98.8913 1113.75,98.8897 1113.76,98.8895 1113.77,98.8871 1113.77,98.8869 1113.77,98.8868 1113.78,98.8855 1113.78,98.8847 1113.8,98.8826 \n",
       "  1113.83,98.8764 1113.85,98.8732 1113.85,98.8731 1113.86,98.8712 1113.87,98.8695 1113.88,98.8683 1113.89,98.8663 1113.89,98.8653 1113.9,98.8636 1113.91,98.8631 \n",
       "  1113.92,98.861 1113.94,98.8571 1113.96,98.8548 1113.96,98.8533 1113.97,98.8518 1114,98.8466 1114.02,98.8443 1114.02,98.8428 1114.03,98.8411 1114.08,98.8335 \n",
       "  1114.08,98.8327 1114.1,98.8303 1114.1,98.8302 1114.1,98.8294 1114.13,98.8253 1114.13,98.824 1114.15,98.8205 1114.16,98.8194 1114.16,98.819 1114.18,98.8157 \n",
       "  1114.19,98.8136 1114.2,98.8117 1114.22,98.8093 1114.24,98.8061 1114.25,98.8045 1114.26,98.8026 1114.26,98.8019 1114.28,98.799 1114.34,98.7885 1114.36,98.7855 \n",
       "  1114.36,98.7842 1114.39,98.7802 1114.39,98.779 1114.4,98.7781 1114.44,98.7713 1114.44,98.7703 1114.46,98.768 1114.46,98.7679 1114.47,98.7663 1114.5,98.7604 \n",
       "  1114.51,98.7583 1114.51,98.758 1114.53,98.7546 1114.58,98.7475 1114.58,98.7474 1114.58,98.7469 1114.59,98.7449 1114.64,98.7356 1114.65,98.7343 1114.68,98.7286 \n",
       "  1114.7,98.7255 1114.7,98.7254 1114.71,98.7248 1114.71,98.7248 1114.71,98.7247 1114.71,98.7235 1114.72,98.7229 1114.72,98.7221 1114.73,98.7206 1114.8,98.7091 \n",
       "  1114.8,98.709 1114.81,98.7065 1114.82,98.7049 1114.83,98.7026 1114.84,98.7011 1114.89,98.6933 1114.89,98.6925 1114.9,98.6906 1114.91,98.6903 1114.92,98.6886 \n",
       "  1114.95,98.6819 1114.96,98.681 1114.96,98.6807 1114.97,98.6799 1114.97,98.6794 1114.98,98.678 1114.99,98.6752 1115.01,98.6722 1115.05,98.6656 1115.05,98.6648 \n",
       "  1115.05,98.6646 1115.07,98.6609 1115.1,98.6573 1115.1,98.6573 1115.1,98.6571 1115.11,98.6551 1115.14,98.6492 1115.14,98.6492 1115.15,98.6481 1115.17,98.6448 \n",
       "  1115.19,98.641 1115.22,98.636 1115.24,98.6325 1115.28,98.6252 1115.29,98.6237 1115.29,98.6234 1115.3,98.6219 1115.32,98.6177 1115.33,98.6171 1115.33,98.6167 \n",
       "  1115.35,98.6124 1115.36,98.6111 1115.37,98.6094 1115.37,98.609 1115.4,98.6046 1115.42,98.6006 1115.42,98.6005 1115.43,98.5994 1115.46,98.5946 1115.48,98.5901 \n",
       "  1115.49,98.5898 1115.49,98.5888 1115.5,98.5879 1115.51,98.5863 1115.53,98.582 1115.53,98.5818 1115.53,98.5815 1115.53,98.5815 1115.53,98.5813 1115.54,98.5804 \n",
       "  1115.55,98.5789 1115.58,98.5741 1115.59,98.5713 1115.61,98.5683 1115.61,98.5681 1115.64,98.5637 1115.64,98.5626 1115.66,98.5599 1115.67,98.5584 1115.67,98.5582 \n",
       "  1115.69,98.554 1115.69,98.5537 1115.7,98.5529 1115.72,98.5491 1115.73,98.5478 1115.74,98.5455 1115.77,98.5408 1115.77,98.5401 1115.8,98.5361 1115.8,98.5356 \n",
       "  1115.81,98.5333 1115.81,98.5333 1115.82,98.5321 1115.82,98.5314 1115.84,98.529 1115.84,98.5289 1115.87,98.5224 1115.88,98.5214 1115.89,98.52 1115.91,98.5169 \n",
       "  1115.92,98.514 1115.93,98.5135 1115.93,98.5134 1115.95,98.5099 1115.95,98.5091 1115.95,98.5091 1115.96,98.5083 1115.97,98.5063 1115.97,98.5057 1115.98,98.5044 \n",
       "  1116.01,98.499 1116.03,98.4953 1116.04,98.4946 1116.04,98.4941 1116.04,98.4935 1116.08,98.4876 1116.08,98.4875 1116.12,98.4793 1116.15,98.4751 1116.15,98.4746 \n",
       "  1116.16,98.4738 1116.16,98.4723 1116.16,98.4722 1116.17,98.4719 1116.17,98.4716 1116.18,98.4696 1116.19,98.4685 1116.19,98.4673 1116.2,98.4668 1116.22,98.4621 \n",
       "  1116.23,98.4614 1116.24,98.4587 1116.28,98.4526 1116.28,98.4526 1116.3,98.4492 1116.3,98.449 1116.3,98.449 1116.34,98.4418 1116.34,98.4412 1116.35,98.44 \n",
       "  1116.36,98.4392 1116.36,98.4386 1116.37,98.4374 1116.37,98.4363 1116.38,98.4342 1116.41,98.4303 1116.41,98.43 1116.42,98.4288 1116.42,98.4287 1116.42,98.4287 \n",
       "  1116.42,98.4271 1116.43,98.4268 1116.44,98.4242 1116.45,98.4233 1116.45,98.4228 1116.47,98.4185 1116.48,98.4179 1116.48,98.4178 1116.48,98.4177 1116.5,98.4141 \n",
       "  1116.51,98.4132 1116.51,98.413 1116.51,98.4123 1116.52,98.41 1116.56,98.4036 1116.57,98.402 1116.58,98.4005 1116.59,98.3989 1116.61,98.3957 1116.61,98.3949 \n",
       "  1116.62,98.3938 1116.63,98.3923 1116.63,98.3908 1116.64,98.389 1116.65,98.3888 1116.66,98.3856 1116.67,98.3849 1116.68,98.3837 1116.68,98.3834 1116.68,98.3824 \n",
       "  1116.68,98.3822 1116.7,98.3796 1116.71,98.3785 1116.71,98.3779 1116.71,98.3776 1116.73,98.3744 1116.74,98.3731 1116.75,98.371 1116.77,98.3681 1116.78,98.3664 \n",
       "  1116.78,98.3649 1116.79,98.3636 1116.79,98.3632 1116.79,98.3632 1116.8,98.3618 1116.82,98.3588 1116.84,98.3554 1116.85,98.3529 1116.87,98.3508 1116.87,98.3508 \n",
       "  1116.87,98.3498 1116.87,98.3496 1116.87,98.3493 1116.9,98.3456 1116.91,98.3428 1116.91,98.3425 1116.93,98.3397 1116.95,98.3365 1116.98,98.3311 1116.98,98.3308 \n",
       "  1116.98,98.3304 1116.99,98.3299 1116.99,98.3288 1116.99,98.3286 1117,98.3282 1117,98.3276 1117.01,98.3251 1117.02,98.3242 1117.02,98.3235 1117.04,98.3205 \n",
       "  1117.04,98.32 1117.07,98.3159 1117.07,98.3147 1117.08,98.3129 1117.09,98.3127 1117.11,98.3093 1117.11,98.3091 1117.11,98.3079 1117.14,98.3034 1117.14,98.3024 \n",
       "  1117.15,98.3014 1117.16,98.2998 1117.16,98.2996 1117.17,98.2975 1117.19,98.2948 1117.19,98.2943 1117.19,98.2939 1117.2,98.2932 1117.21,98.2913 1117.21,98.2906 \n",
       "  1117.23,98.2878 1117.25,98.2845 1117.26,98.2832 1117.26,98.2827 1117.26,98.2822 1117.29,98.2774 1117.31,98.2744 1117.32,98.2724 1117.34,98.2684 1117.35,98.2676 \n",
       "  1117.35,98.267 1117.35,98.2666 1117.37,98.2628 1117.38,98.2624 1117.4,98.258 1117.41,98.257 1117.45,98.2492 1117.47,98.2461 1117.47,98.2456 1117.47,98.2456 \n",
       "  1117.48,98.2452 1117.48,98.2451 1117.49,98.2422 1117.49,98.2422 1117.5,98.2404 1117.52,98.2382 1117.52,98.2377 1117.52,98.2372 1117.53,98.2355 1117.56,98.2307 \n",
       "  1117.59,98.2259 1117.59,98.225 1117.62,98.2202 1117.65,98.2148 1117.66,98.2133 1117.67,98.2122 1117.68,98.2106 1117.68,98.2106 1117.69,98.2078 1117.7,98.2069 \n",
       "  1117.72,98.2034 1117.72,98.2029 1117.78,98.1916 1117.79,98.1908 1117.8,98.1894 1117.8,98.1884 1117.8,98.1884 1117.81,98.187 1117.81,98.1864 1117.82,98.1862 \n",
       "  1117.82,98.1861 1117.86,98.179 1117.87,98.1763 1117.88,98.175 1117.89,98.1731 1117.94,98.1646 1117.94,98.1643 1117.96,98.1615 1117.96,98.1613 1117.97,98.1599 \n",
       "  1117.99,98.1554 1118.01,98.1518 1118.02,98.1517 1118.04,98.1479 1118.07,98.1418 1118.1,98.1367 1118.12,98.1336 1118.12,98.133 1118.13,98.1323 1118.13,98.1314 \n",
       "  1118.14,98.1297 1118.17,98.1246 1118.19,98.1206 1118.2,98.12 1118.2,98.1197 1118.23,98.1147 1118.24,98.1133 1118.26,98.1102 1118.27,98.1069 1118.29,98.1047 \n",
       "  1118.31,98.1014 1118.31,98.1008 1118.31,98.1005 1118.31,98.1002 1118.32,98.0991 1118.33,98.0966 1118.35,98.093 1118.36,98.0916 1118.4,98.0846 1118.41,98.0837 \n",
       "  1118.41,98.0825 1118.43,98.0799 1118.46,98.0754 1118.46,98.0741 1118.49,98.0701 1118.53,98.0622 1118.55,98.0583 1118.56,98.0581 1118.59,98.0524 1118.6,98.0507 \n",
       "  1118.6,98.0502 1118.62,98.0464 1118.64,98.0438 1118.68,98.0369 1118.69,98.0353 1118.7,98.0337 1118.7,98.0333 1118.71,98.0314 1118.73,98.0278 1118.73,98.0272 \n",
       "  1118.75,98.0252 1118.75,98.0248 1118.77,98.0211 1118.77,98.0203 1118.78,98.02 1118.78,98.0196 1118.79,98.0177 1118.82,98.0117 1118.83,98.0101 1118.83,98.01 \n",
       "  1118.85,98.007 1118.88,98.0027 1118.88,98.0021 1118.89,97.9994 1118.91,97.997 1118.92,97.9942 1118.94,97.9907 1118.95,97.9905 1118.95,97.9891 1118.99,97.9826 \n",
       "  1119,97.9813 1119,97.981 1119.01,97.9798 1119.01,97.9786 1119.02,97.9774 1119.03,97.9759 1119.05,97.9726 1119.05,97.9724 1119.06,97.9703 1119.06,97.9702 \n",
       "  1119.07,97.9692 1119.07,97.9688 1119.07,97.9685 1119.08,97.9678 1119.08,97.9667 1119.09,97.9659 1119.12,97.9612 1119.13,97.9592 1119.14,97.9575 1119.16,97.9543 \n",
       "  1119.16,97.954 1119.16,97.9532 1119.18,97.9504 1119.18,97.9501 1119.19,97.948 1119.21,97.9453 1119.21,97.944 1119.22,97.9436 1119.22,97.9432 1119.23,97.942 \n",
       "  1119.23,97.9419 1119.23,97.9419 1119.23,97.9418 1119.23,97.9413 1119.23,97.9412 1119.24,97.94 1119.24,97.9396 1119.24,97.9391 1119.25,97.9385 1119.25,97.9374 \n",
       "  1119.26,97.9356 1119.27,97.934 1119.29,97.931 1119.31,97.9271 1119.33,97.9245 1119.33,97.9245 1119.33,97.9239 1119.35,97.9205 1119.36,97.9188 1119.38,97.9148 \n",
       "  1119.39,97.913 1119.4,97.9125 1119.4,97.912 1119.4,97.9118 1119.41,97.91 1119.41,97.9095 1119.42,97.909 1119.43,97.9073 1119.43,97.9066 1119.43,97.9064 \n",
       "  1119.43,97.9062 1119.44,97.9056 1119.45,97.9039 1119.46,97.9023 1119.48,97.898 1119.49,97.8963 1119.49,97.8961 1119.5,97.8942 1119.51,97.8929 1119.52,97.8919 \n",
       "  1119.54,97.8875 1119.57,97.8828 1119.57,97.8826 1119.59,97.8787 1119.59,97.8785 1119.6,97.8778 1119.6,97.8767 1119.65,97.8693 1119.66,97.8673 1119.66,97.8663 \n",
       "  1119.69,97.8624 1119.69,97.862 1119.69,97.8609 1119.7,97.8596 1119.71,97.8586 1119.71,97.8585 1119.72,97.8564 1119.76,97.85 1119.76,97.8499 1119.76,97.8487 \n",
       "  1119.77,97.8472 1119.79,97.8435 1119.82,97.8383 1119.84,97.8357 1119.85,97.8335 1119.86,97.8322 1119.86,97.8317 1119.88,97.8282 1119.89,97.8273 1119.89,97.8263 \n",
       "  1119.9,97.8251 1119.96,97.8154 1119.96,97.8151 1119.98,97.812 1119.98,97.8108 1119.99,97.8104 1119.99,97.8102 1120.01,97.8066 1120.01,97.8059 1120.03,97.8022 \n",
       "  1120.04,97.8019 1120.04,97.8018 1120.04,97.8007 1120.05,97.7999 1120.07,97.7961 1120.07,97.7956 1120.07,97.7956 1120.08,97.7944 1120.08,97.7933 1120.09,97.7923 \n",
       "  1120.09,97.7921 1120.1,97.7914 1120.1,97.7912 1120.12,97.7877 1120.13,97.7855 1120.15,97.7825 1120.15,97.7822 1120.15,97.782 1120.15,97.7818 1120.16,97.781 \n",
       "  1120.17,97.7784 1120.17,97.7777 1120.18,97.7766 1120.18,97.7762 1120.19,97.7749 1120.2,97.774 1120.2,97.7737 1120.2,97.7735 1120.23,97.7686 1120.23,97.7677 \n",
       "  1120.24,97.7664 1120.24,97.7662 1120.24,97.766 1120.26,97.7631 1120.26,97.7628 1120.26,97.7622 1120.31,97.7542 1120.33,97.7501 1120.34,97.7492 1120.35,97.7476 \n",
       "  1120.37,97.7444 1120.37,97.7433 1120.38,97.7425 1120.39,97.7403 1120.39,97.7398 1120.4,97.7379 1120.41,97.7368 1120.44,97.7323 1120.46,97.728 1120.47,97.7264 \n",
       "  1120.48,97.7253 1120.48,97.725 1120.5,97.7219 1120.5,97.7211 1120.5,97.7211 1120.51,97.7195 1120.55,97.7128 1120.56,97.7117 1120.57,97.7098 1120.58,97.7068 \n",
       "  1120.59,97.7062 1120.59,97.706 1120.59,97.706 1120.62,97.7006 1120.63,97.6996 1120.63,97.6988 1120.64,97.6969 1120.66,97.6928 1120.67,97.6925 1120.67,97.6925 \n",
       "  1120.67,97.692 1120.68,97.691 1120.69,97.6883 1120.7,97.687 1120.71,97.6858 1120.71,97.6844 1120.71,97.6842 1120.73,97.6815 1120.74,97.679 1120.76,97.6772 \n",
       "  1120.77,97.6753 1120.77,97.6752 1120.77,97.6742 1120.77,97.6741 1120.78,97.6725 1120.78,97.6721 1120.8,97.67 1120.82,97.6654 1120.83,97.6633 1120.84,97.6629 \n",
       "  1120.85,97.6607 1120.87,97.657 1120.87,97.6564 1120.88,97.6558 1120.9,97.6512 1120.93,97.6461 1120.93,97.646 1120.95,97.644 1120.95,97.6438 1120.95,97.6434 \n",
       "  1120.95,97.6432 1120.95,97.6429 1120.98,97.6387 1120.98,97.6375 1121.02,97.6312 1121.03,97.6291 1121.04,97.6274 1121.04,97.6271 1121.06,97.6246 1121.07,97.622 \n",
       "  1121.08,97.6212 1121.09,97.6198 1121.1,97.6166 1121.11,97.616 1121.13,97.6115 1121.14,97.6101 1121.17,97.6056 1121.17,97.6055 1121.18,97.6028 1121.2,97.6007 \n",
       "  1121.2,97.6007 1121.21,97.5984 1121.21,97.5977 1121.22,97.5965 1121.23,97.5957 1121.23,97.5942 1121.24,97.5938 1121.24,97.5936 1121.25,97.5921 1121.3,97.5823 \n",
       "  1121.33,97.578 1121.34,97.5763 1121.35,97.5742 1121.36,97.573 1121.36,97.5724 1121.37,97.5713 1121.37,97.5706 1121.37,97.5706 1121.4,97.5657 1121.4,97.5648 \n",
       "  1121.41,97.5646 1121.41,97.5633 1121.42,97.5628 1121.43,97.5608 1121.44,97.5586 1121.44,97.5579 1121.45,97.5574 1121.46,97.5548 1121.46,97.5543 1121.47,97.5539 \n",
       "  1121.47,97.5531 1121.47,97.5527 1121.49,97.5503 1121.49,97.5499 1121.5,97.5479 1121.5,97.5474 1121.5,97.5473 1121.51,97.5469 1121.51,97.5464 1121.52,97.5448 \n",
       "  1121.52,97.5448 1121.52,97.544 1121.53,97.5421 1121.54,97.5416 1121.55,97.5394 1121.55,97.5393 1121.58,97.5335 1121.6,97.5315 1121.62,97.5271 1121.64,97.524 \n",
       "  1121.64,97.5238 1121.64,97.5237 1121.65,97.522 1121.66,97.5206 1121.7,97.5143 1121.7,97.5134 1121.7,97.513 1121.72,97.5107 1121.73,97.5079 1121.74,97.5064 \n",
       "  1121.74,97.5059 1121.78,97.499 1121.79,97.4981 1121.81,97.4953 1121.81,97.4951 1121.82,97.4932 1121.82,97.4925 1121.84,97.49 1121.85,97.4872 1121.86,97.4864 \n",
       "  1121.89,97.4798 1121.9,97.4788 1121.94,97.4719 1121.96,97.468 1121.97,97.4664 1121.97,97.4663 1121.97,97.4663 1121.99,97.4629 1122.01,97.4597 1122.03,97.4565 \n",
       "  1122.03,97.4556 1122.04,97.4554 1122.04,97.4554 1122.04,97.4546 1122.05,97.4537 1122.05,97.4529 1122.05,97.4528 1122.05,97.4527 1122.07,97.4503 1122.07,97.4492 \n",
       "  1122.09,97.4462 1122.1,97.4436 1122.11,97.4421 1122.11,97.4421 1122.14,97.4381 1122.15,97.436 1122.15,97.4354 1122.16,97.4333 1122.17,97.4317 1122.19,97.4283 \n",
       "  1122.21,97.4251 1122.21,97.4247 1122.23,97.4218 1122.24,97.42 1122.25,97.4175 1122.26,97.4158 1122.27,97.4141 1122.28,97.4132 1122.28,97.4126 1122.29,97.4119 \n",
       "  1122.3,97.4102 1122.31,97.4077 1122.31,97.4076 1122.31,97.4074 1122.31,97.4073 1122.34,97.403 1122.36,97.4001 1122.36,97.3989 1122.37,97.3981 1122.38,97.3953 \n",
       "  1122.38,97.3953 1122.4,97.3928 1122.4,97.3927 1122.42,97.3893 1122.42,97.3892 1122.43,97.3873 1122.45,97.3831 1122.46,97.382 1122.46,97.3816 1122.47,97.3801 \n",
       "  1122.48,97.3781 1122.51,97.3735 1122.52,97.3709 1122.53,97.3698 1122.53,97.3697 1122.53,97.3694 1122.54,97.3673 1122.56,97.3653 1122.57,97.3624 1122.59,97.3599 \n",
       "  1122.59,97.3587 1122.61,97.3566 1122.61,97.3561 1122.61,97.3559 1122.63,97.3525 1122.64,97.3512 1122.64,97.3508 1122.64,97.3504 1122.65,97.3496 1122.66,97.347 \n",
       "  1122.66,97.3465 1122.69,97.3424 1122.7,97.3406 1122.7,97.3405 1122.71,97.3388 1122.72,97.3376 1122.72,97.336 1122.73,97.3345 1122.73,97.3344 1122.73,97.3343 \n",
       "  1122.74,97.3341 1122.74,97.3331 1122.75,97.3319 1122.76,97.3297 1122.77,97.3279 1122.78,97.3273 1122.81,97.3221 1122.81,97.3208 1122.82,97.3196 1122.84,97.3168 \n",
       "  1122.84,97.3162 1122.85,97.3137 1122.86,97.3135 1122.86,97.3124 1122.87,97.3115 1122.87,97.3107 1122.88,97.3093 1122.89,97.308 1122.89,97.3072 1122.89,97.3066 \n",
       "  1122.9,97.3056 1122.91,97.304 1122.91,97.3033 1122.94,97.2996 1122.94,97.2986 1122.94,97.2984 1122.95,97.2972 1122.96,97.2954 1122.96,97.2952 1122.97,97.2943 \n",
       "  \n",
       "  \"/>\n",
       "</svg>\n"
      ]
     },
     "metadata": {},
     "output_type": "display_data"
    }
   ],
   "source": [
    "# power law / surface growth\n",
    "Plots.plot(log.(tumordf.t_birth), log.(1:length(tumor)), legend=:none, size=(300,150))\n",
    "Plots.plot!(log.(tumordf.t_birth), t -> 2*t)"
   ]
  },
  {
   "cell_type": "code",
   "execution_count": 1,
   "metadata": {},
   "outputs": [
    {
     "ename": "UndefVarError",
     "evalue": "UndefVarError: Plots not defined",
     "output_type": "error",
     "traceback": [
      "UndefVarError: Plots not defined\n",
      "\n",
      "Stacktrace:\n",
      " [1] top-level scope\n",
      "   @ ~\\OneDrive - Universität zu Köln\\Dokumente\\Uni-Köln\\Masterarbeit\\Workspace\\Julia_Master\\MasterProject_Julia\\TumorGrowth\\usage.ipynb:1"
     ]
    }
   ],
   "source": [
    "Plots.histogram(tumordf.b, alpha=0.3, lw=0.2, lab=\"b\")\n",
    "Plots.vline!([median(tumordf.b)], lab=\"median\", c=:blue)\n",
    "Plots.vline!([d], lab=\"d\", c=:black)"
   ]
  },
  {
   "cell_type": "code",
   "execution_count": null,
   "metadata": {},
   "outputs": [],
   "source": [
    "plotting(tumordf; color = tumordf.b./maximum(tumordf.b), colormap = cgrad(:reds))"
   ]
  },
  {
   "cell_type": "markdown",
   "metadata": {},
   "source": [
    "### reduce mutation rate"
   ]
  },
  {
   "cell_type": "code",
   "execution_count": null,
   "metadata": {},
   "outputs": [],
   "source": [
    "b, d, μ = 0.69, 0.1, 1.0\n",
    "@time tumor = birth_death_pushing(5000; b=b, d=d, μ=μ, ρ=Inf, dim=2)[:tumor] |> DataFrame"
   ]
  },
  {
   "cell_type": "code",
   "execution_count": null,
   "metadata": {},
   "outputs": [],
   "source": [
    "x = 0.3\n",
    "tumor_reduced = reduced_μ(tumor, x)"
   ]
  }
 ],
 "metadata": {
  "kernelspec": {
   "display_name": "Julia 1.6.0",
   "language": "julia",
   "name": "julia-1.6"
  },
  "language_info": {
   "file_extension": ".jl",
   "mimetype": "application/julia",
   "name": "julia",
   "version": "1.6.0"
  },
  "orig_nbformat": 4
 },
 "nbformat": 4,
 "nbformat_minor": 2
}
